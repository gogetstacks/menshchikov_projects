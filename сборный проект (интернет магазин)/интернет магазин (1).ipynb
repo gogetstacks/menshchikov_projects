{
 "cells": [
  {
   "cell_type": "markdown",
   "metadata": {},
   "source": [
    "# Сборный проект №1"
   ]
  },
  {
   "cell_type": "markdown",
   "metadata": {},
   "source": [
    "**Описание проекта**\n",
    "\n",
    "В наши дни игровая индустрия сформировалась в полноценную нишу развлечений для людей всех возрастов и групп. Среди различных способов распространения лицензионных копий игр на данный момент преобладают онлайн магазины. На примере данных интернет-магазина «Стримчик» и открытых источников попробуем определить закономерности успеха игр. Для этого проанализируем данные за 2016-й год и спрогнозируем план крекламной компании на 2017-й."
   ]
  },
  {
   "cell_type": "markdown",
   "metadata": {},
   "source": [
    "**Цель исследования**\n",
    "\n",
    "Выявить определяющие успешность игры закономерности с целью планирования рекламной компании."
   ]
  },
  {
   "cell_type": "code",
   "execution_count": null,
   "metadata": {},
   "outputs": [],
   "source": []
  },
  {
   "cell_type": "markdown",
   "metadata": {},
   "source": [
    "**Ход исследования:**\n",
    "- Подготовка данных: загрузка и изучение общей информации из представленного датасета.\n",
    "- Предобработка данных: обработка пропущенных значений, корректировка типа данных, дубликатов и других аномалий, подсчёт суммарных продаж.\n",
    "- Исследовательский анализ данных: оценка продаж за разные годы, по разным платформам, распределение по жанрам.\n",
    "- Составление портрета пользователя каждого региона: популярные платформы, жанры, влияние рейтинга ESRB.\n",
    "- Проверка гипотез: средние рейтинги платформ и жанров."
   ]
  },
  {
   "cell_type": "markdown",
   "metadata": {},
   "source": [
    "**Общий вывод:** Резюмирование полученных результатов, формулировка ключевых выводов и рекомендаций.\n",
    "    \n",
    "С помощью данного исследования мы пытаемся выявить определяющие успешность игры закономерности с целью планирования рекламной компании, что поможет развивать интернет-магазина «Стримчик» в будущем."
   ]
  },
  {
   "cell_type": "code",
   "execution_count": 1,
   "metadata": {},
   "outputs": [],
   "source": [
    "import pandas as pd # импортируем необходимые бибилотеки\n",
    "import matplotlib.pyplot as plt\n",
    "import seaborn as sns\n",
    "import plotly.express as px\n",
    "from scipy import stats as st\n",
    "import numpy as np"
   ]
  },
  {
   "cell_type": "markdown",
   "metadata": {},
   "source": [
    "### Изучение общей информации о датасете."
   ]
  },
  {
   "cell_type": "code",
   "execution_count": 2,
   "metadata": {},
   "outputs": [],
   "source": [
    "df = pd.read_csv('/datasets/games.csv')"
   ]
  },
  {
   "cell_type": "code",
   "execution_count": 3,
   "metadata": {},
   "outputs": [
    {
     "data": {
      "text/html": [
       "<div>\n",
       "<style scoped>\n",
       "    .dataframe tbody tr th:only-of-type {\n",
       "        vertical-align: middle;\n",
       "    }\n",
       "\n",
       "    .dataframe tbody tr th {\n",
       "        vertical-align: top;\n",
       "    }\n",
       "\n",
       "    .dataframe thead th {\n",
       "        text-align: right;\n",
       "    }\n",
       "</style>\n",
       "<table border=\"1\" class=\"dataframe\">\n",
       "  <thead>\n",
       "    <tr style=\"text-align: right;\">\n",
       "      <th></th>\n",
       "      <th>Name</th>\n",
       "      <th>Platform</th>\n",
       "      <th>Year_of_Release</th>\n",
       "      <th>Genre</th>\n",
       "      <th>NA_sales</th>\n",
       "      <th>EU_sales</th>\n",
       "      <th>JP_sales</th>\n",
       "      <th>Other_sales</th>\n",
       "      <th>Critic_Score</th>\n",
       "      <th>User_Score</th>\n",
       "      <th>Rating</th>\n",
       "    </tr>\n",
       "  </thead>\n",
       "  <tbody>\n",
       "    <tr>\n",
       "      <th>0</th>\n",
       "      <td>Wii Sports</td>\n",
       "      <td>Wii</td>\n",
       "      <td>2006.0</td>\n",
       "      <td>Sports</td>\n",
       "      <td>41.36</td>\n",
       "      <td>28.96</td>\n",
       "      <td>3.77</td>\n",
       "      <td>8.45</td>\n",
       "      <td>76.0</td>\n",
       "      <td>8</td>\n",
       "      <td>E</td>\n",
       "    </tr>\n",
       "    <tr>\n",
       "      <th>1</th>\n",
       "      <td>Super Mario Bros.</td>\n",
       "      <td>NES</td>\n",
       "      <td>1985.0</td>\n",
       "      <td>Platform</td>\n",
       "      <td>29.08</td>\n",
       "      <td>3.58</td>\n",
       "      <td>6.81</td>\n",
       "      <td>0.77</td>\n",
       "      <td>NaN</td>\n",
       "      <td>NaN</td>\n",
       "      <td>NaN</td>\n",
       "    </tr>\n",
       "    <tr>\n",
       "      <th>2</th>\n",
       "      <td>Mario Kart Wii</td>\n",
       "      <td>Wii</td>\n",
       "      <td>2008.0</td>\n",
       "      <td>Racing</td>\n",
       "      <td>15.68</td>\n",
       "      <td>12.76</td>\n",
       "      <td>3.79</td>\n",
       "      <td>3.29</td>\n",
       "      <td>82.0</td>\n",
       "      <td>8.3</td>\n",
       "      <td>E</td>\n",
       "    </tr>\n",
       "    <tr>\n",
       "      <th>3</th>\n",
       "      <td>Wii Sports Resort</td>\n",
       "      <td>Wii</td>\n",
       "      <td>2009.0</td>\n",
       "      <td>Sports</td>\n",
       "      <td>15.61</td>\n",
       "      <td>10.93</td>\n",
       "      <td>3.28</td>\n",
       "      <td>2.95</td>\n",
       "      <td>80.0</td>\n",
       "      <td>8</td>\n",
       "      <td>E</td>\n",
       "    </tr>\n",
       "    <tr>\n",
       "      <th>4</th>\n",
       "      <td>Pokemon Red/Pokemon Blue</td>\n",
       "      <td>GB</td>\n",
       "      <td>1996.0</td>\n",
       "      <td>Role-Playing</td>\n",
       "      <td>11.27</td>\n",
       "      <td>8.89</td>\n",
       "      <td>10.22</td>\n",
       "      <td>1.00</td>\n",
       "      <td>NaN</td>\n",
       "      <td>NaN</td>\n",
       "      <td>NaN</td>\n",
       "    </tr>\n",
       "    <tr>\n",
       "      <th>5</th>\n",
       "      <td>Tetris</td>\n",
       "      <td>GB</td>\n",
       "      <td>1989.0</td>\n",
       "      <td>Puzzle</td>\n",
       "      <td>23.20</td>\n",
       "      <td>2.26</td>\n",
       "      <td>4.22</td>\n",
       "      <td>0.58</td>\n",
       "      <td>NaN</td>\n",
       "      <td>NaN</td>\n",
       "      <td>NaN</td>\n",
       "    </tr>\n",
       "    <tr>\n",
       "      <th>6</th>\n",
       "      <td>New Super Mario Bros.</td>\n",
       "      <td>DS</td>\n",
       "      <td>2006.0</td>\n",
       "      <td>Platform</td>\n",
       "      <td>11.28</td>\n",
       "      <td>9.14</td>\n",
       "      <td>6.50</td>\n",
       "      <td>2.88</td>\n",
       "      <td>89.0</td>\n",
       "      <td>8.5</td>\n",
       "      <td>E</td>\n",
       "    </tr>\n",
       "    <tr>\n",
       "      <th>7</th>\n",
       "      <td>Wii Play</td>\n",
       "      <td>Wii</td>\n",
       "      <td>2006.0</td>\n",
       "      <td>Misc</td>\n",
       "      <td>13.96</td>\n",
       "      <td>9.18</td>\n",
       "      <td>2.93</td>\n",
       "      <td>2.84</td>\n",
       "      <td>58.0</td>\n",
       "      <td>6.6</td>\n",
       "      <td>E</td>\n",
       "    </tr>\n",
       "    <tr>\n",
       "      <th>8</th>\n",
       "      <td>New Super Mario Bros. Wii</td>\n",
       "      <td>Wii</td>\n",
       "      <td>2009.0</td>\n",
       "      <td>Platform</td>\n",
       "      <td>14.44</td>\n",
       "      <td>6.94</td>\n",
       "      <td>4.70</td>\n",
       "      <td>2.24</td>\n",
       "      <td>87.0</td>\n",
       "      <td>8.4</td>\n",
       "      <td>E</td>\n",
       "    </tr>\n",
       "    <tr>\n",
       "      <th>9</th>\n",
       "      <td>Duck Hunt</td>\n",
       "      <td>NES</td>\n",
       "      <td>1984.0</td>\n",
       "      <td>Shooter</td>\n",
       "      <td>26.93</td>\n",
       "      <td>0.63</td>\n",
       "      <td>0.28</td>\n",
       "      <td>0.47</td>\n",
       "      <td>NaN</td>\n",
       "      <td>NaN</td>\n",
       "      <td>NaN</td>\n",
       "    </tr>\n",
       "  </tbody>\n",
       "</table>\n",
       "</div>"
      ],
      "text/plain": [
       "                        Name Platform  Year_of_Release         Genre  \\\n",
       "0                 Wii Sports      Wii           2006.0        Sports   \n",
       "1          Super Mario Bros.      NES           1985.0      Platform   \n",
       "2             Mario Kart Wii      Wii           2008.0        Racing   \n",
       "3          Wii Sports Resort      Wii           2009.0        Sports   \n",
       "4   Pokemon Red/Pokemon Blue       GB           1996.0  Role-Playing   \n",
       "5                     Tetris       GB           1989.0        Puzzle   \n",
       "6      New Super Mario Bros.       DS           2006.0      Platform   \n",
       "7                   Wii Play      Wii           2006.0          Misc   \n",
       "8  New Super Mario Bros. Wii      Wii           2009.0      Platform   \n",
       "9                  Duck Hunt      NES           1984.0       Shooter   \n",
       "\n",
       "   NA_sales  EU_sales  JP_sales  Other_sales  Critic_Score User_Score Rating  \n",
       "0     41.36     28.96      3.77         8.45          76.0          8      E  \n",
       "1     29.08      3.58      6.81         0.77           NaN        NaN    NaN  \n",
       "2     15.68     12.76      3.79         3.29          82.0        8.3      E  \n",
       "3     15.61     10.93      3.28         2.95          80.0          8      E  \n",
       "4     11.27      8.89     10.22         1.00           NaN        NaN    NaN  \n",
       "5     23.20      2.26      4.22         0.58           NaN        NaN    NaN  \n",
       "6     11.28      9.14      6.50         2.88          89.0        8.5      E  \n",
       "7     13.96      9.18      2.93         2.84          58.0        6.6      E  \n",
       "8     14.44      6.94      4.70         2.24          87.0        8.4      E  \n",
       "9     26.93      0.63      0.28         0.47           NaN        NaN    NaN  "
      ]
     },
     "execution_count": 3,
     "metadata": {},
     "output_type": "execute_result"
    }
   ],
   "source": [
    "df.head(10) # выведем первые 10 строк датафрейма"
   ]
  },
  {
   "cell_type": "code",
   "execution_count": 4,
   "metadata": {},
   "outputs": [
    {
     "name": "stdout",
     "output_type": "stream",
     "text": [
      "<class 'pandas.core.frame.DataFrame'>\n",
      "RangeIndex: 16715 entries, 0 to 16714\n",
      "Data columns (total 11 columns):\n",
      " #   Column           Non-Null Count  Dtype  \n",
      "---  ------           --------------  -----  \n",
      " 0   Name             16713 non-null  object \n",
      " 1   Platform         16715 non-null  object \n",
      " 2   Year_of_Release  16446 non-null  float64\n",
      " 3   Genre            16713 non-null  object \n",
      " 4   NA_sales         16715 non-null  float64\n",
      " 5   EU_sales         16715 non-null  float64\n",
      " 6   JP_sales         16715 non-null  float64\n",
      " 7   Other_sales      16715 non-null  float64\n",
      " 8   Critic_Score     8137 non-null   float64\n",
      " 9   User_Score       10014 non-null  object \n",
      " 10  Rating           9949 non-null   object \n",
      "dtypes: float64(6), object(5)\n",
      "memory usage: 1.4+ MB\n"
     ]
    }
   ],
   "source": [
    "df.info() # выведем информацию о датафрейме"
   ]
  },
  {
   "cell_type": "markdown",
   "metadata": {},
   "source": [
    "Изучив общую информацию о представленном датафрейме, можно отметить что:\n",
    "- датафрейм имеет достаточный и удобный для анализа размер (16715 строчек);\n",
    "- название колонок не приведены к нижнему регистру;\n",
    "- тип данных для столбца Year_of_Release имеет некорректный формат float64 (необходим int64);\n",
    "- тип данных для столбца User_Score имеет некорректный формат object (необходим float64)\n",
    "- в столбцах с оценками и рейтингом игр наблюдается большое количество пропусков (от трети до половины от общего числа значений)."
   ]
  },
  {
   "cell_type": "markdown",
   "metadata": {},
   "source": [
    "### Предобработка данных."
   ]
  },
  {
   "cell_type": "code",
   "execution_count": 5,
   "metadata": {},
   "outputs": [
    {
     "data": {
      "text/plain": [
       "Index(['name', 'platform', 'year_of_release', 'genre', 'na_sales', 'eu_sales',\n",
       "       'jp_sales', 'other_sales', 'critic_score', 'user_score', 'rating'],\n",
       "      dtype='object')"
      ]
     },
     "execution_count": 5,
     "metadata": {},
     "output_type": "execute_result"
    }
   ],
   "source": [
    "df.columns = df.columns.str.lower() # приведём названия столбцов к нижнему регистру\n",
    "df.columns"
   ]
  },
  {
   "cell_type": "code",
   "execution_count": 6,
   "metadata": {},
   "outputs": [
    {
     "data": {
      "text/plain": [
       "0"
      ]
     },
     "execution_count": 6,
     "metadata": {},
     "output_type": "execute_result"
    }
   ],
   "source": [
    "df.duplicated().sum() # проверим датафрейм на явные дубликаты"
   ]
  },
  {
   "cell_type": "markdown",
   "metadata": {},
   "source": [
    "Оценим количество неявных дубликатов, найдя полное совпадение по имени проекта, платформе, году релиза и жанру (зачастую проекты выходят на разных платформах и имеют различающиеся рейтинги, поэтому будем считать выходы на новых платформах отдельной игрой)."
   ]
  },
  {
   "cell_type": "code",
   "execution_count": 7,
   "metadata": {},
   "outputs": [
    {
     "data": {
      "text/html": [
       "<div>\n",
       "<style scoped>\n",
       "    .dataframe tbody tr th:only-of-type {\n",
       "        vertical-align: middle;\n",
       "    }\n",
       "\n",
       "    .dataframe tbody tr th {\n",
       "        vertical-align: top;\n",
       "    }\n",
       "\n",
       "    .dataframe thead th {\n",
       "        text-align: right;\n",
       "    }\n",
       "</style>\n",
       "<table border=\"1\" class=\"dataframe\">\n",
       "  <thead>\n",
       "    <tr style=\"text-align: right;\">\n",
       "      <th></th>\n",
       "      <th>name</th>\n",
       "      <th>platform</th>\n",
       "      <th>year_of_release</th>\n",
       "      <th>genre</th>\n",
       "      <th>na_sales</th>\n",
       "      <th>eu_sales</th>\n",
       "      <th>jp_sales</th>\n",
       "      <th>other_sales</th>\n",
       "      <th>critic_score</th>\n",
       "      <th>user_score</th>\n",
       "      <th>rating</th>\n",
       "    </tr>\n",
       "  </thead>\n",
       "  <tbody>\n",
       "    <tr>\n",
       "      <th>604</th>\n",
       "      <td>Madden NFL 13</td>\n",
       "      <td>PS3</td>\n",
       "      <td>2012.0</td>\n",
       "      <td>Sports</td>\n",
       "      <td>2.11</td>\n",
       "      <td>0.22</td>\n",
       "      <td>0.00</td>\n",
       "      <td>0.23</td>\n",
       "      <td>83.0</td>\n",
       "      <td>5.5</td>\n",
       "      <td>E</td>\n",
       "    </tr>\n",
       "    <tr>\n",
       "      <th>659</th>\n",
       "      <td>NaN</td>\n",
       "      <td>GEN</td>\n",
       "      <td>1993.0</td>\n",
       "      <td>NaN</td>\n",
       "      <td>1.78</td>\n",
       "      <td>0.53</td>\n",
       "      <td>0.00</td>\n",
       "      <td>0.08</td>\n",
       "      <td>NaN</td>\n",
       "      <td>NaN</td>\n",
       "      <td>NaN</td>\n",
       "    </tr>\n",
       "    <tr>\n",
       "      <th>14244</th>\n",
       "      <td>NaN</td>\n",
       "      <td>GEN</td>\n",
       "      <td>1993.0</td>\n",
       "      <td>NaN</td>\n",
       "      <td>0.00</td>\n",
       "      <td>0.00</td>\n",
       "      <td>0.03</td>\n",
       "      <td>0.00</td>\n",
       "      <td>NaN</td>\n",
       "      <td>NaN</td>\n",
       "      <td>NaN</td>\n",
       "    </tr>\n",
       "    <tr>\n",
       "      <th>16230</th>\n",
       "      <td>Madden NFL 13</td>\n",
       "      <td>PS3</td>\n",
       "      <td>2012.0</td>\n",
       "      <td>Sports</td>\n",
       "      <td>0.00</td>\n",
       "      <td>0.01</td>\n",
       "      <td>0.00</td>\n",
       "      <td>0.00</td>\n",
       "      <td>83.0</td>\n",
       "      <td>5.5</td>\n",
       "      <td>E</td>\n",
       "    </tr>\n",
       "  </tbody>\n",
       "</table>\n",
       "</div>"
      ],
      "text/plain": [
       "                name platform  year_of_release   genre  na_sales  eu_sales  \\\n",
       "604    Madden NFL 13      PS3           2012.0  Sports      2.11      0.22   \n",
       "659              NaN      GEN           1993.0     NaN      1.78      0.53   \n",
       "14244            NaN      GEN           1993.0     NaN      0.00      0.00   \n",
       "16230  Madden NFL 13      PS3           2012.0  Sports      0.00      0.01   \n",
       "\n",
       "       jp_sales  other_sales  critic_score user_score rating  \n",
       "604        0.00         0.23          83.0        5.5      E  \n",
       "659        0.00         0.08           NaN        NaN    NaN  \n",
       "14244      0.03         0.00           NaN        NaN    NaN  \n",
       "16230      0.00         0.00          83.0        5.5      E  "
      ]
     },
     "execution_count": 7,
     "metadata": {},
     "output_type": "execute_result"
    }
   ],
   "source": [
    "df[df.duplicated(subset=['name', 'platform', 'year_of_release','genre'], keep = False)]"
   ]
  },
  {
   "cell_type": "code",
   "execution_count": 8,
   "metadata": {},
   "outputs": [],
   "source": [
    "df = df.drop_duplicates(subset=['name', 'platform', 'year_of_release','genre']).reset_index(drop=True) #уберем неявные дубликаты"
   ]
  },
  {
   "cell_type": "markdown",
   "metadata": {},
   "source": [
    "Оценим уникальные значения с столбце year_of_release. "
   ]
  },
  {
   "cell_type": "code",
   "execution_count": 9,
   "metadata": {},
   "outputs": [
    {
     "data": {
      "text/plain": [
       "array([2006., 1985., 2008., 2009., 1996., 1989., 1984., 2005., 1999.,\n",
       "       2007., 2010., 2013., 2004., 1990., 1988., 2002., 2001., 2011.,\n",
       "       1998., 2015., 2012., 2014., 1992., 1997., 1993., 1994., 1982.,\n",
       "       2016., 2003., 1986., 2000.,   nan, 1995., 1991., 1981., 1987.,\n",
       "       1980., 1983.])"
      ]
     },
     "execution_count": 9,
     "metadata": {},
     "output_type": "execute_result"
    }
   ],
   "source": [
    "df['year_of_release'].unique()"
   ]
  },
  {
   "cell_type": "code",
   "execution_count": 10,
   "metadata": {},
   "outputs": [
    {
     "data": {
      "text/plain": [
       "269"
      ]
     },
     "execution_count": 10,
     "metadata": {},
     "output_type": "execute_result"
    }
   ],
   "source": [
    "df['year_of_release'].isna().sum()"
   ]
  },
  {
   "cell_type": "code",
   "execution_count": 11,
   "metadata": {
    "scrolled": true
   },
   "outputs": [
    {
     "data": {
      "text/plain": [
       "array([2006., 1985., 2008., 2009., 1996., 1989., 1984., 2005., 1999.,\n",
       "       2007., 2010., 2013., 2004., 1990., 1988., 2002., 2001., 2011.,\n",
       "       1998., 2015., 2012., 2014., 1992., 1997., 1993., 1994., 1982.,\n",
       "       2016., 2003., 1986., 2000., 1995., 1991., 1981., 1987., 1980.,\n",
       "       1983.])"
      ]
     },
     "execution_count": 11,
     "metadata": {},
     "output_type": "execute_result"
    }
   ],
   "source": [
    "df = df.dropna(subset=['year_of_release'])\n",
    "df['year_of_release'].unique()"
   ]
  },
  {
   "cell_type": "markdown",
   "metadata": {},
   "source": [
    "Так как в столбце year_of_release имеются незначительное количество пропусков - около 1.5%, мы можем их удалить для преобразования типа данных в стобце с годом релиза."
   ]
  },
  {
   "cell_type": "code",
   "execution_count": 12,
   "metadata": {},
   "outputs": [],
   "source": [
    "df['year_of_release'] = df['year_of_release'].astype(int)"
   ]
  },
  {
   "cell_type": "markdown",
   "metadata": {},
   "source": [
    "Стоит отметить, что есть два пропуска данных в значениях названия игр и их жанра. Выясним, не совпадают ли проекты по этим пропускам. Если проекты совпадут, то удалим две строки из датафрейма, так как это не сильно повлияет на общий объём данных."
   ]
  },
  {
   "cell_type": "code",
   "execution_count": 13,
   "metadata": {},
   "outputs": [
    {
     "data": {
      "text/html": [
       "<div>\n",
       "<style scoped>\n",
       "    .dataframe tbody tr th:only-of-type {\n",
       "        vertical-align: middle;\n",
       "    }\n",
       "\n",
       "    .dataframe tbody tr th {\n",
       "        vertical-align: top;\n",
       "    }\n",
       "\n",
       "    .dataframe thead th {\n",
       "        text-align: right;\n",
       "    }\n",
       "</style>\n",
       "<table border=\"1\" class=\"dataframe\">\n",
       "  <thead>\n",
       "    <tr style=\"text-align: right;\">\n",
       "      <th></th>\n",
       "      <th>name</th>\n",
       "      <th>platform</th>\n",
       "      <th>year_of_release</th>\n",
       "      <th>genre</th>\n",
       "      <th>na_sales</th>\n",
       "      <th>eu_sales</th>\n",
       "      <th>jp_sales</th>\n",
       "      <th>other_sales</th>\n",
       "      <th>critic_score</th>\n",
       "      <th>user_score</th>\n",
       "      <th>rating</th>\n",
       "    </tr>\n",
       "  </thead>\n",
       "  <tbody>\n",
       "    <tr>\n",
       "      <th>659</th>\n",
       "      <td>NaN</td>\n",
       "      <td>GEN</td>\n",
       "      <td>1993</td>\n",
       "      <td>NaN</td>\n",
       "      <td>1.78</td>\n",
       "      <td>0.53</td>\n",
       "      <td>0.0</td>\n",
       "      <td>0.08</td>\n",
       "      <td>NaN</td>\n",
       "      <td>NaN</td>\n",
       "      <td>NaN</td>\n",
       "    </tr>\n",
       "  </tbody>\n",
       "</table>\n",
       "</div>"
      ],
      "text/plain": [
       "    name platform  year_of_release genre  na_sales  eu_sales  jp_sales  \\\n",
       "659  NaN      GEN             1993   NaN      1.78      0.53       0.0   \n",
       "\n",
       "     other_sales  critic_score user_score rating  \n",
       "659         0.08           NaN        NaN    NaN  "
      ]
     },
     "execution_count": 13,
     "metadata": {},
     "output_type": "execute_result"
    }
   ],
   "source": [
    "df[df['name'].isna()]"
   ]
  },
  {
   "cell_type": "code",
   "execution_count": 14,
   "metadata": {},
   "outputs": [
    {
     "data": {
      "text/html": [
       "<div>\n",
       "<style scoped>\n",
       "    .dataframe tbody tr th:only-of-type {\n",
       "        vertical-align: middle;\n",
       "    }\n",
       "\n",
       "    .dataframe tbody tr th {\n",
       "        vertical-align: top;\n",
       "    }\n",
       "\n",
       "    .dataframe thead th {\n",
       "        text-align: right;\n",
       "    }\n",
       "</style>\n",
       "<table border=\"1\" class=\"dataframe\">\n",
       "  <thead>\n",
       "    <tr style=\"text-align: right;\">\n",
       "      <th></th>\n",
       "      <th>name</th>\n",
       "      <th>platform</th>\n",
       "      <th>year_of_release</th>\n",
       "      <th>genre</th>\n",
       "      <th>na_sales</th>\n",
       "      <th>eu_sales</th>\n",
       "      <th>jp_sales</th>\n",
       "      <th>other_sales</th>\n",
       "      <th>critic_score</th>\n",
       "      <th>user_score</th>\n",
       "      <th>rating</th>\n",
       "    </tr>\n",
       "  </thead>\n",
       "  <tbody>\n",
       "    <tr>\n",
       "      <th>659</th>\n",
       "      <td>NaN</td>\n",
       "      <td>GEN</td>\n",
       "      <td>1993</td>\n",
       "      <td>NaN</td>\n",
       "      <td>1.78</td>\n",
       "      <td>0.53</td>\n",
       "      <td>0.0</td>\n",
       "      <td>0.08</td>\n",
       "      <td>NaN</td>\n",
       "      <td>NaN</td>\n",
       "      <td>NaN</td>\n",
       "    </tr>\n",
       "  </tbody>\n",
       "</table>\n",
       "</div>"
      ],
      "text/plain": [
       "    name platform  year_of_release genre  na_sales  eu_sales  jp_sales  \\\n",
       "659  NaN      GEN             1993   NaN      1.78      0.53       0.0   \n",
       "\n",
       "     other_sales  critic_score user_score rating  \n",
       "659         0.08           NaN        NaN    NaN  "
      ]
     },
     "execution_count": 14,
     "metadata": {},
     "output_type": "execute_result"
    }
   ],
   "source": [
    "df[df['genre'].isna()]"
   ]
  },
  {
   "cell_type": "code",
   "execution_count": 15,
   "metadata": {},
   "outputs": [
    {
     "data": {
      "text/plain": [
       "16443"
      ]
     },
     "execution_count": 15,
     "metadata": {},
     "output_type": "execute_result"
    }
   ],
   "source": [
    "df = df.dropna(subset=['name', 'genre']) # удалим две строки с проектами без названия и жанра\n",
    "len(df) # проверим результат"
   ]
  },
  {
   "cell_type": "markdown",
   "metadata": {},
   "source": [
    "Преобразуем тип данных в стобце user_score, перед этим проверив уникальные значения в этом столбце."
   ]
  },
  {
   "cell_type": "code",
   "execution_count": 16,
   "metadata": {},
   "outputs": [
    {
     "data": {
      "text/plain": [
       "array(['8', nan, '8.3', '8.5', '6.6', '8.4', '8.6', '7.7', '6.3', '7.4',\n",
       "       '8.2', '9', '7.9', '8.1', '8.7', '7.1', '3.4', '5.3', '4.8', '3.2',\n",
       "       '8.9', '6.4', '7.8', '7.5', '2.6', '7.2', '9.2', '7', '7.3', '4.3',\n",
       "       '7.6', '5.7', '5', '9.1', '6.5', 'tbd', '8.8', '6.9', '9.4', '6.8',\n",
       "       '6.1', '6.7', '5.4', '4', '4.9', '4.5', '9.3', '6.2', '4.2', '6',\n",
       "       '3.7', '4.1', '5.8', '5.6', '5.5', '4.4', '4.6', '5.9', '3.9',\n",
       "       '3.1', '2.9', '5.2', '3.3', '4.7', '5.1', '3.5', '2.5', '1.9', '3',\n",
       "       '2.7', '2.2', '2', '9.5', '2.1', '3.6', '2.8', '1.8', '3.8', '0',\n",
       "       '1.6', '9.6', '2.4', '1.7', '1.1', '0.3', '1.5', '0.7', '1.2',\n",
       "       '2.3', '0.5', '1.3', '0.2', '0.6', '1.4', '0.9', '1', '9.7'],\n",
       "      dtype=object)"
      ]
     },
     "execution_count": 16,
     "metadata": {},
     "output_type": "execute_result"
    }
   ],
   "source": [
    "df['user_score'].unique() # посмотрим уникальные значения в столбце перед преобразованием типов данных"
   ]
  },
  {
   "cell_type": "markdown",
   "metadata": {},
   "source": [
    "В данных оценки пользователей можно заметить аббревиатуру 'tbd'. Она помешает преобразованию. Оценим сколько раз встречается данное значение."
   ]
  },
  {
   "cell_type": "code",
   "execution_count": 17,
   "metadata": {},
   "outputs": [
    {
     "data": {
      "text/plain": [
       "2376"
      ]
     },
     "execution_count": 17,
     "metadata": {},
     "output_type": "execute_result"
    }
   ],
   "source": [
    "len(df.loc[df['user_score'] == 'tbd'])"
   ]
  },
  {
   "cell_type": "markdown",
   "metadata": {},
   "source": [
    "Доля строк со значением 'tbd' в столбце с оценкой пользователя достаточно большая, поэтому просто преобразуем тип данных (не удаляя), меняя tbd на Nan параметром errors='coerce'."
   ]
  },
  {
   "cell_type": "code",
   "execution_count": 18,
   "metadata": {},
   "outputs": [],
   "source": [
    "df['user_score'] = pd.to_numeric(df['user_score'], errors='coerce') "
   ]
  },
  {
   "cell_type": "code",
   "execution_count": 19,
   "metadata": {},
   "outputs": [
    {
     "data": {
      "text/plain": [
       "name                object\n",
       "platform            object\n",
       "year_of_release      int64\n",
       "genre               object\n",
       "na_sales           float64\n",
       "eu_sales           float64\n",
       "jp_sales           float64\n",
       "other_sales        float64\n",
       "critic_score       float64\n",
       "user_score         float64\n",
       "rating              object\n",
       "dtype: object"
      ]
     },
     "execution_count": 19,
     "metadata": {},
     "output_type": "execute_result"
    }
   ],
   "source": [
    "df.dtypes # проверим преобразование"
   ]
  },
  {
   "cell_type": "markdown",
   "metadata": {},
   "source": [
    "Так как данные в столбце rating имеют тип object, и в этом столбце наблюдается большое количество пропусков, мы можем заполнить их значением 'empty'. "
   ]
  },
  {
   "cell_type": "code",
   "execution_count": 20,
   "metadata": {},
   "outputs": [
    {
     "data": {
      "text/plain": [
       "array(['E', 'empty', 'M', 'T', 'E10+', 'K-A', 'AO', 'EC', 'RP'],\n",
       "      dtype=object)"
      ]
     },
     "execution_count": 20,
     "metadata": {},
     "output_type": "execute_result"
    }
   ],
   "source": [
    "df['rating'] = df['rating'].fillna('empty')\n",
    "df['rating'].unique()"
   ]
  },
  {
   "cell_type": "markdown",
   "metadata": {},
   "source": [
    "Данные в столбцах с оценкой пользователей и критиков имеют большое количество пропусков (6699 и 8576 соответсвенно). Заполнять их средним или медианным значением было бы некорректно, так как оценка проектов имеет порой достаточно сильный разброс значений, и в большинстве своём, преобладают проекты с более низким рейтингом."
   ]
  },
  {
   "cell_type": "markdown",
   "metadata": {},
   "source": [
    "Добавим в датафрейм столбец с суммарными продажами по регионам."
   ]
  },
  {
   "cell_type": "code",
   "execution_count": 21,
   "metadata": {},
   "outputs": [
    {
     "data": {
      "text/html": [
       "<div>\n",
       "<style scoped>\n",
       "    .dataframe tbody tr th:only-of-type {\n",
       "        vertical-align: middle;\n",
       "    }\n",
       "\n",
       "    .dataframe tbody tr th {\n",
       "        vertical-align: top;\n",
       "    }\n",
       "\n",
       "    .dataframe thead th {\n",
       "        text-align: right;\n",
       "    }\n",
       "</style>\n",
       "<table border=\"1\" class=\"dataframe\">\n",
       "  <thead>\n",
       "    <tr style=\"text-align: right;\">\n",
       "      <th></th>\n",
       "      <th>name</th>\n",
       "      <th>platform</th>\n",
       "      <th>year_of_release</th>\n",
       "      <th>genre</th>\n",
       "      <th>na_sales</th>\n",
       "      <th>eu_sales</th>\n",
       "      <th>jp_sales</th>\n",
       "      <th>other_sales</th>\n",
       "      <th>critic_score</th>\n",
       "      <th>user_score</th>\n",
       "      <th>rating</th>\n",
       "      <th>sum_sales</th>\n",
       "    </tr>\n",
       "  </thead>\n",
       "  <tbody>\n",
       "    <tr>\n",
       "      <th>0</th>\n",
       "      <td>Wii Sports</td>\n",
       "      <td>Wii</td>\n",
       "      <td>2006</td>\n",
       "      <td>Sports</td>\n",
       "      <td>41.36</td>\n",
       "      <td>28.96</td>\n",
       "      <td>3.77</td>\n",
       "      <td>8.45</td>\n",
       "      <td>76.0</td>\n",
       "      <td>8.0</td>\n",
       "      <td>E</td>\n",
       "      <td>82.54</td>\n",
       "    </tr>\n",
       "    <tr>\n",
       "      <th>1</th>\n",
       "      <td>Super Mario Bros.</td>\n",
       "      <td>NES</td>\n",
       "      <td>1985</td>\n",
       "      <td>Platform</td>\n",
       "      <td>29.08</td>\n",
       "      <td>3.58</td>\n",
       "      <td>6.81</td>\n",
       "      <td>0.77</td>\n",
       "      <td>NaN</td>\n",
       "      <td>NaN</td>\n",
       "      <td>empty</td>\n",
       "      <td>40.24</td>\n",
       "    </tr>\n",
       "    <tr>\n",
       "      <th>2</th>\n",
       "      <td>Mario Kart Wii</td>\n",
       "      <td>Wii</td>\n",
       "      <td>2008</td>\n",
       "      <td>Racing</td>\n",
       "      <td>15.68</td>\n",
       "      <td>12.76</td>\n",
       "      <td>3.79</td>\n",
       "      <td>3.29</td>\n",
       "      <td>82.0</td>\n",
       "      <td>8.3</td>\n",
       "      <td>E</td>\n",
       "      <td>35.52</td>\n",
       "    </tr>\n",
       "    <tr>\n",
       "      <th>3</th>\n",
       "      <td>Wii Sports Resort</td>\n",
       "      <td>Wii</td>\n",
       "      <td>2009</td>\n",
       "      <td>Sports</td>\n",
       "      <td>15.61</td>\n",
       "      <td>10.93</td>\n",
       "      <td>3.28</td>\n",
       "      <td>2.95</td>\n",
       "      <td>80.0</td>\n",
       "      <td>8.0</td>\n",
       "      <td>E</td>\n",
       "      <td>32.77</td>\n",
       "    </tr>\n",
       "    <tr>\n",
       "      <th>4</th>\n",
       "      <td>Pokemon Red/Pokemon Blue</td>\n",
       "      <td>GB</td>\n",
       "      <td>1996</td>\n",
       "      <td>Role-Playing</td>\n",
       "      <td>11.27</td>\n",
       "      <td>8.89</td>\n",
       "      <td>10.22</td>\n",
       "      <td>1.00</td>\n",
       "      <td>NaN</td>\n",
       "      <td>NaN</td>\n",
       "      <td>empty</td>\n",
       "      <td>31.38</td>\n",
       "    </tr>\n",
       "  </tbody>\n",
       "</table>\n",
       "</div>"
      ],
      "text/plain": [
       "                       name platform  year_of_release         genre  na_sales  \\\n",
       "0                Wii Sports      Wii             2006        Sports     41.36   \n",
       "1         Super Mario Bros.      NES             1985      Platform     29.08   \n",
       "2            Mario Kart Wii      Wii             2008        Racing     15.68   \n",
       "3         Wii Sports Resort      Wii             2009        Sports     15.61   \n",
       "4  Pokemon Red/Pokemon Blue       GB             1996  Role-Playing     11.27   \n",
       "\n",
       "   eu_sales  jp_sales  other_sales  critic_score  user_score rating  sum_sales  \n",
       "0     28.96      3.77         8.45          76.0         8.0      E      82.54  \n",
       "1      3.58      6.81         0.77           NaN         NaN  empty      40.24  \n",
       "2     12.76      3.79         3.29          82.0         8.3      E      35.52  \n",
       "3     10.93      3.28         2.95          80.0         8.0      E      32.77  \n",
       "4      8.89     10.22         1.00           NaN         NaN  empty      31.38  "
      ]
     },
     "execution_count": 21,
     "metadata": {},
     "output_type": "execute_result"
    }
   ],
   "source": [
    "df['sum_sales'] = df['na_sales'] + df['eu_sales'] + df['jp_sales'] + df['other_sales']\n",
    "df.head() # проверим результат"
   ]
  },
  {
   "cell_type": "markdown",
   "metadata": {},
   "source": [
    "Таким образом, изучив данные, стоит отметить, что:\n",
    "- в первоначальном датафрейме было обнаружено два проекта без названия и жанра, строчки с данными по ним были исключены, что практически не повлияло на общую выборку;\n",
    "- был преобразован тип данных для столбца user_score из object во float с заменой значений 'tbd' на Nan, это позволит корректно работать с данными в дальнейшем;\n",
    "- пропущенные значения в столбце rating были заменены значением empty, это позволит далее работать со столбцом, имеющим общий тип данный object;\n",
    "- из-за большого количества пропусков в столбцах с оценками критиков и пользователей, а также особенностью распределния оценок у разных проектов, было решено оставить пропущенные значения в датафрейме без изменений;\n",
    "- был добавлен столбец с общим количеством продаж в трёх регионах."
   ]
  },
  {
   "cell_type": "markdown",
   "metadata": {},
   "source": [
    "### Исследовательский анализ данных."
   ]
  },
  {
   "cell_type": "markdown",
   "metadata": {},
   "source": [
    "#### Количество выпускаемых игр по годам."
   ]
  },
  {
   "cell_type": "code",
   "execution_count": 22,
   "metadata": {},
   "outputs": [
    {
     "data": {
      "text/html": [
       "<div>\n",
       "<style scoped>\n",
       "    .dataframe tbody tr th:only-of-type {\n",
       "        vertical-align: middle;\n",
       "    }\n",
       "\n",
       "    .dataframe tbody tr th {\n",
       "        vertical-align: top;\n",
       "    }\n",
       "\n",
       "    .dataframe thead th {\n",
       "        text-align: right;\n",
       "    }\n",
       "</style>\n",
       "<table border=\"1\" class=\"dataframe\">\n",
       "  <thead>\n",
       "    <tr style=\"text-align: right;\">\n",
       "      <th></th>\n",
       "      <th>year_of_release</th>\n",
       "      <th>name</th>\n",
       "    </tr>\n",
       "  </thead>\n",
       "  <tbody>\n",
       "    <tr>\n",
       "      <th>0</th>\n",
       "      <td>1980</td>\n",
       "      <td>9</td>\n",
       "    </tr>\n",
       "    <tr>\n",
       "      <th>1</th>\n",
       "      <td>1981</td>\n",
       "      <td>46</td>\n",
       "    </tr>\n",
       "    <tr>\n",
       "      <th>2</th>\n",
       "      <td>1982</td>\n",
       "      <td>36</td>\n",
       "    </tr>\n",
       "    <tr>\n",
       "      <th>3</th>\n",
       "      <td>1983</td>\n",
       "      <td>17</td>\n",
       "    </tr>\n",
       "    <tr>\n",
       "      <th>4</th>\n",
       "      <td>1984</td>\n",
       "      <td>14</td>\n",
       "    </tr>\n",
       "    <tr>\n",
       "      <th>5</th>\n",
       "      <td>1985</td>\n",
       "      <td>14</td>\n",
       "    </tr>\n",
       "    <tr>\n",
       "      <th>6</th>\n",
       "      <td>1986</td>\n",
       "      <td>21</td>\n",
       "    </tr>\n",
       "    <tr>\n",
       "      <th>7</th>\n",
       "      <td>1987</td>\n",
       "      <td>16</td>\n",
       "    </tr>\n",
       "    <tr>\n",
       "      <th>8</th>\n",
       "      <td>1988</td>\n",
       "      <td>15</td>\n",
       "    </tr>\n",
       "    <tr>\n",
       "      <th>9</th>\n",
       "      <td>1989</td>\n",
       "      <td>17</td>\n",
       "    </tr>\n",
       "    <tr>\n",
       "      <th>10</th>\n",
       "      <td>1990</td>\n",
       "      <td>16</td>\n",
       "    </tr>\n",
       "    <tr>\n",
       "      <th>11</th>\n",
       "      <td>1991</td>\n",
       "      <td>41</td>\n",
       "    </tr>\n",
       "    <tr>\n",
       "      <th>12</th>\n",
       "      <td>1992</td>\n",
       "      <td>43</td>\n",
       "    </tr>\n",
       "    <tr>\n",
       "      <th>13</th>\n",
       "      <td>1993</td>\n",
       "      <td>60</td>\n",
       "    </tr>\n",
       "    <tr>\n",
       "      <th>14</th>\n",
       "      <td>1994</td>\n",
       "      <td>121</td>\n",
       "    </tr>\n",
       "    <tr>\n",
       "      <th>15</th>\n",
       "      <td>1995</td>\n",
       "      <td>219</td>\n",
       "    </tr>\n",
       "    <tr>\n",
       "      <th>16</th>\n",
       "      <td>1996</td>\n",
       "      <td>263</td>\n",
       "    </tr>\n",
       "    <tr>\n",
       "      <th>17</th>\n",
       "      <td>1997</td>\n",
       "      <td>289</td>\n",
       "    </tr>\n",
       "    <tr>\n",
       "      <th>18</th>\n",
       "      <td>1998</td>\n",
       "      <td>379</td>\n",
       "    </tr>\n",
       "    <tr>\n",
       "      <th>19</th>\n",
       "      <td>1999</td>\n",
       "      <td>338</td>\n",
       "    </tr>\n",
       "    <tr>\n",
       "      <th>20</th>\n",
       "      <td>2000</td>\n",
       "      <td>350</td>\n",
       "    </tr>\n",
       "    <tr>\n",
       "      <th>21</th>\n",
       "      <td>2001</td>\n",
       "      <td>482</td>\n",
       "    </tr>\n",
       "    <tr>\n",
       "      <th>22</th>\n",
       "      <td>2002</td>\n",
       "      <td>829</td>\n",
       "    </tr>\n",
       "    <tr>\n",
       "      <th>23</th>\n",
       "      <td>2003</td>\n",
       "      <td>775</td>\n",
       "    </tr>\n",
       "    <tr>\n",
       "      <th>24</th>\n",
       "      <td>2004</td>\n",
       "      <td>762</td>\n",
       "    </tr>\n",
       "    <tr>\n",
       "      <th>25</th>\n",
       "      <td>2005</td>\n",
       "      <td>939</td>\n",
       "    </tr>\n",
       "    <tr>\n",
       "      <th>26</th>\n",
       "      <td>2006</td>\n",
       "      <td>1006</td>\n",
       "    </tr>\n",
       "    <tr>\n",
       "      <th>27</th>\n",
       "      <td>2007</td>\n",
       "      <td>1197</td>\n",
       "    </tr>\n",
       "    <tr>\n",
       "      <th>28</th>\n",
       "      <td>2008</td>\n",
       "      <td>1427</td>\n",
       "    </tr>\n",
       "    <tr>\n",
       "      <th>29</th>\n",
       "      <td>2009</td>\n",
       "      <td>1426</td>\n",
       "    </tr>\n",
       "    <tr>\n",
       "      <th>30</th>\n",
       "      <td>2010</td>\n",
       "      <td>1255</td>\n",
       "    </tr>\n",
       "    <tr>\n",
       "      <th>31</th>\n",
       "      <td>2011</td>\n",
       "      <td>1136</td>\n",
       "    </tr>\n",
       "    <tr>\n",
       "      <th>32</th>\n",
       "      <td>2012</td>\n",
       "      <td>652</td>\n",
       "    </tr>\n",
       "    <tr>\n",
       "      <th>33</th>\n",
       "      <td>2013</td>\n",
       "      <td>544</td>\n",
       "    </tr>\n",
       "    <tr>\n",
       "      <th>34</th>\n",
       "      <td>2014</td>\n",
       "      <td>581</td>\n",
       "    </tr>\n",
       "    <tr>\n",
       "      <th>35</th>\n",
       "      <td>2015</td>\n",
       "      <td>606</td>\n",
       "    </tr>\n",
       "    <tr>\n",
       "      <th>36</th>\n",
       "      <td>2016</td>\n",
       "      <td>502</td>\n",
       "    </tr>\n",
       "  </tbody>\n",
       "</table>\n",
       "</div>"
      ],
      "text/plain": [
       "    year_of_release  name\n",
       "0              1980     9\n",
       "1              1981    46\n",
       "2              1982    36\n",
       "3              1983    17\n",
       "4              1984    14\n",
       "5              1985    14\n",
       "6              1986    21\n",
       "7              1987    16\n",
       "8              1988    15\n",
       "9              1989    17\n",
       "10             1990    16\n",
       "11             1991    41\n",
       "12             1992    43\n",
       "13             1993    60\n",
       "14             1994   121\n",
       "15             1995   219\n",
       "16             1996   263\n",
       "17             1997   289\n",
       "18             1998   379\n",
       "19             1999   338\n",
       "20             2000   350\n",
       "21             2001   482\n",
       "22             2002   829\n",
       "23             2003   775\n",
       "24             2004   762\n",
       "25             2005   939\n",
       "26             2006  1006\n",
       "27             2007  1197\n",
       "28             2008  1427\n",
       "29             2009  1426\n",
       "30             2010  1255\n",
       "31             2011  1136\n",
       "32             2012   652\n",
       "33             2013   544\n",
       "34             2014   581\n",
       "35             2015   606\n",
       "36             2016   502"
      ]
     },
     "execution_count": 22,
     "metadata": {},
     "output_type": "execute_result"
    }
   ],
   "source": [
    "df.groupby('year_of_release', as_index=False)['name'].count() #оценим количество выпускаемых игр по годам"
   ]
  },
  {
   "cell_type": "code",
   "execution_count": 23,
   "metadata": {},
   "outputs": [
    {
     "data": {
      "image/png": "[encoded data removed]",
      "text/plain": [
       "<Figure size 936x720 with 1 Axes>"
      ]
     },
     "metadata": {
      "needs_background": "light"
     },
     "output_type": "display_data"
    }
   ],
   "source": [
    "fig, axs = plt.subplots(figsize=(13, 10)) # зададим размер поля для построений\n",
    "sns.barplot( # построим столбчатую диаграмму чтоб визуализировать количество вышедших проектов по годам релиза\n",
    "    data=df.groupby('year_of_release', as_index=False)['name'].count(), \n",
    "    x=\"year_of_release\", \n",
    "    y=\"name\"\n",
    ").set(\n",
    "    xlabel='Год релиза',\n",
    "    ylabel='Количество вышедших игр', \n",
    "    title='Количество вышедших игр по годам'\n",
    ")\n",
    "plt.xticks(rotation=90)\n",
    "plt.show()"
   ]
  },
  {
   "cell_type": "markdown",
   "metadata": {},
   "source": [
    "Из полученных данных можно сделать вывод, что наибольший интерес представляет период с 1994 года. В это время выпускалось более 100 игр в год."
   ]
  },
  {
   "cell_type": "markdown",
   "metadata": {},
   "source": [
    "#### Изменение продаж игр по платформам."
   ]
  },
  {
   "cell_type": "code",
   "execution_count": 24,
   "metadata": {},
   "outputs": [
    {
     "data": {
      "text/html": [
       "<div>\n",
       "<style scoped>\n",
       "    .dataframe tbody tr th:only-of-type {\n",
       "        vertical-align: middle;\n",
       "    }\n",
       "\n",
       "    .dataframe tbody tr th {\n",
       "        vertical-align: top;\n",
       "    }\n",
       "\n",
       "    .dataframe thead th {\n",
       "        text-align: right;\n",
       "    }\n",
       "</style>\n",
       "<table border=\"1\" class=\"dataframe\">\n",
       "  <thead>\n",
       "    <tr style=\"text-align: right;\">\n",
       "      <th></th>\n",
       "      <th>platform</th>\n",
       "      <th>sum_sales_count</th>\n",
       "      <th>sum_sales_sum</th>\n",
       "    </tr>\n",
       "  </thead>\n",
       "  <tbody>\n",
       "    <tr>\n",
       "      <th>0</th>\n",
       "      <td>3DO</td>\n",
       "      <td>3</td>\n",
       "      <td>0.10</td>\n",
       "    </tr>\n",
       "    <tr>\n",
       "      <th>1</th>\n",
       "      <td>3DS</td>\n",
       "      <td>512</td>\n",
       "      <td>257.81</td>\n",
       "    </tr>\n",
       "    <tr>\n",
       "      <th>2</th>\n",
       "      <td>DC</td>\n",
       "      <td>52</td>\n",
       "      <td>15.95</td>\n",
       "    </tr>\n",
       "    <tr>\n",
       "      <th>3</th>\n",
       "      <td>DS</td>\n",
       "      <td>2120</td>\n",
       "      <td>802.76</td>\n",
       "    </tr>\n",
       "    <tr>\n",
       "      <th>4</th>\n",
       "      <td>GB</td>\n",
       "      <td>67</td>\n",
       "      <td>152.08</td>\n",
       "    </tr>\n",
       "    <tr>\n",
       "      <th>5</th>\n",
       "      <td>GBA</td>\n",
       "      <td>811</td>\n",
       "      <td>312.88</td>\n",
       "    </tr>\n",
       "    <tr>\n",
       "      <th>6</th>\n",
       "      <td>GC</td>\n",
       "      <td>542</td>\n",
       "      <td>196.73</td>\n",
       "    </tr>\n",
       "    <tr>\n",
       "      <th>7</th>\n",
       "      <td>GEN</td>\n",
       "      <td>12</td>\n",
       "      <td>8.13</td>\n",
       "    </tr>\n",
       "    <tr>\n",
       "      <th>8</th>\n",
       "      <td>N64</td>\n",
       "      <td>316</td>\n",
       "      <td>218.01</td>\n",
       "    </tr>\n",
       "    <tr>\n",
       "      <th>9</th>\n",
       "      <td>NES</td>\n",
       "      <td>1</td>\n",
       "      <td>0.11</td>\n",
       "    </tr>\n",
       "  </tbody>\n",
       "</table>\n",
       "</div>"
      ],
      "text/plain": [
       "  platform  sum_sales_count  sum_sales_sum\n",
       "0      3DO                3           0.10\n",
       "1      3DS              512         257.81\n",
       "2       DC               52          15.95\n",
       "3       DS             2120         802.76\n",
       "4       GB               67         152.08\n",
       "5      GBA              811         312.88\n",
       "6       GC              542         196.73\n",
       "7      GEN               12           8.13\n",
       "8      N64              316         218.01\n",
       "9      NES                1           0.11"
      ]
     },
     "execution_count": 24,
     "metadata": {},
     "output_type": "execute_result"
    }
   ],
   "source": [
    "sales_by_platform = df.query('year_of_release > 1993').groupby('platform', as_index=False).agg(\n",
    "    {'sum_sales':['count', 'sum']}\n",
    "    ) # начиная с 1994-го года, сгруппируем платформе, посчитаем сумму и кол-во продаж\n",
    "sales_by_platform.columns = sales_by_platform.columns.map('_'.join) #избавимся от мультииндекса и переименуем столбцы, убрав \"_\"\n",
    "sales_by_platform = sales_by_platform.rename(columns={'platform_': 'platform'})\n",
    "sales_by_platform.head(10)"
   ]
  },
  {
   "cell_type": "markdown",
   "metadata": {},
   "source": [
    "Отсортируем полученный датафрейм по убыванию сумарных продаж по платформам, чтобы понять самые популярные платформы за последние годы."
   ]
  },
  {
   "cell_type": "code",
   "execution_count": 25,
   "metadata": {},
   "outputs": [
    {
     "data": {
      "text/html": [
       "<div>\n",
       "<style scoped>\n",
       "    .dataframe tbody tr th:only-of-type {\n",
       "        vertical-align: middle;\n",
       "    }\n",
       "\n",
       "    .dataframe tbody tr th {\n",
       "        vertical-align: top;\n",
       "    }\n",
       "\n",
       "    .dataframe thead th {\n",
       "        text-align: right;\n",
       "    }\n",
       "</style>\n",
       "<table border=\"1\" class=\"dataframe\">\n",
       "  <thead>\n",
       "    <tr style=\"text-align: right;\">\n",
       "      <th></th>\n",
       "      <th>platform</th>\n",
       "      <th>sum_sales_count</th>\n",
       "      <th>sum_sales_sum</th>\n",
       "    </tr>\n",
       "  </thead>\n",
       "  <tbody>\n",
       "    <tr>\n",
       "      <th>28</th>\n",
       "      <td>XOne</td>\n",
       "      <td>247</td>\n",
       "      <td>159.32</td>\n",
       "    </tr>\n",
       "    <tr>\n",
       "      <th>27</th>\n",
       "      <td>XB</td>\n",
       "      <td>803</td>\n",
       "      <td>251.57</td>\n",
       "    </tr>\n",
       "    <tr>\n",
       "      <th>26</th>\n",
       "      <td>X360</td>\n",
       "      <td>1232</td>\n",
       "      <td>961.24</td>\n",
       "    </tr>\n",
       "    <tr>\n",
       "      <th>25</th>\n",
       "      <td>WiiU</td>\n",
       "      <td>147</td>\n",
       "      <td>82.19</td>\n",
       "    </tr>\n",
       "    <tr>\n",
       "      <th>24</th>\n",
       "      <td>Wii</td>\n",
       "      <td>1286</td>\n",
       "      <td>891.18</td>\n",
       "    </tr>\n",
       "    <tr>\n",
       "      <th>23</th>\n",
       "      <td>WS</td>\n",
       "      <td>6</td>\n",
       "      <td>1.42</td>\n",
       "    </tr>\n",
       "    <tr>\n",
       "      <th>22</th>\n",
       "      <td>TG16</td>\n",
       "      <td>2</td>\n",
       "      <td>0.16</td>\n",
       "    </tr>\n",
       "    <tr>\n",
       "      <th>21</th>\n",
       "      <td>SNES</td>\n",
       "      <td>144</td>\n",
       "      <td>84.67</td>\n",
       "    </tr>\n",
       "    <tr>\n",
       "      <th>20</th>\n",
       "      <td>SCD</td>\n",
       "      <td>5</td>\n",
       "      <td>0.36</td>\n",
       "    </tr>\n",
       "    <tr>\n",
       "      <th>19</th>\n",
       "      <td>SAT</td>\n",
       "      <td>173</td>\n",
       "      <td>33.59</td>\n",
       "    </tr>\n",
       "    <tr>\n",
       "      <th>18</th>\n",
       "      <td>PSV</td>\n",
       "      <td>429</td>\n",
       "      <td>53.81</td>\n",
       "    </tr>\n",
       "    <tr>\n",
       "      <th>17</th>\n",
       "      <td>PSP</td>\n",
       "      <td>1193</td>\n",
       "      <td>289.53</td>\n",
       "    </tr>\n",
       "    <tr>\n",
       "      <th>16</th>\n",
       "      <td>PS4</td>\n",
       "      <td>392</td>\n",
       "      <td>314.14</td>\n",
       "    </tr>\n",
       "    <tr>\n",
       "      <th>15</th>\n",
       "      <td>PS3</td>\n",
       "      <td>1305</td>\n",
       "      <td>931.33</td>\n",
       "    </tr>\n",
       "    <tr>\n",
       "      <th>14</th>\n",
       "      <td>PS2</td>\n",
       "      <td>2127</td>\n",
       "      <td>1233.56</td>\n",
       "    </tr>\n",
       "    <tr>\n",
       "      <th>13</th>\n",
       "      <td>PS</td>\n",
       "      <td>1190</td>\n",
       "      <td>727.58</td>\n",
       "    </tr>\n",
       "    <tr>\n",
       "      <th>12</th>\n",
       "      <td>PCFX</td>\n",
       "      <td>1</td>\n",
       "      <td>0.03</td>\n",
       "    </tr>\n",
       "    <tr>\n",
       "      <th>11</th>\n",
       "      <td>PC</td>\n",
       "      <td>950</td>\n",
       "      <td>252.66</td>\n",
       "    </tr>\n",
       "    <tr>\n",
       "      <th>10</th>\n",
       "      <td>NG</td>\n",
       "      <td>10</td>\n",
       "      <td>1.23</td>\n",
       "    </tr>\n",
       "    <tr>\n",
       "      <th>9</th>\n",
       "      <td>NES</td>\n",
       "      <td>1</td>\n",
       "      <td>0.11</td>\n",
       "    </tr>\n",
       "  </tbody>\n",
       "</table>\n",
       "</div>"
      ],
      "text/plain": [
       "   platform  sum_sales_count  sum_sales_sum\n",
       "28     XOne              247         159.32\n",
       "27       XB              803         251.57\n",
       "26     X360             1232         961.24\n",
       "25     WiiU              147          82.19\n",
       "24      Wii             1286         891.18\n",
       "23       WS                6           1.42\n",
       "22     TG16                2           0.16\n",
       "21     SNES              144          84.67\n",
       "20      SCD                5           0.36\n",
       "19      SAT              173          33.59\n",
       "18      PSV              429          53.81\n",
       "17      PSP             1193         289.53\n",
       "16      PS4              392         314.14\n",
       "15      PS3             1305         931.33\n",
       "14      PS2             2127        1233.56\n",
       "13       PS             1190         727.58\n",
       "12     PCFX                1           0.03\n",
       "11       PC              950         252.66\n",
       "10       NG               10           1.23\n",
       "9       NES                1           0.11"
      ]
     },
     "execution_count": 25,
     "metadata": {},
     "output_type": "execute_result"
    }
   ],
   "source": [
    "sales_by_platform.sort_values(by='platform', ascending=False).head(20)"
   ]
  },
  {
   "cell_type": "code",
   "execution_count": 26,
   "metadata": {},
   "outputs": [
    {
     "data": {
      "image/png": "[encoded data removed]",
      "text/plain": [
       "<Figure size 936x720 with 1 Axes>"
      ]
     },
     "metadata": {
      "needs_background": "light"
     },
     "output_type": "display_data"
    }
   ],
   "source": [
    "fig, axs = plt.subplots(figsize=(13, 10))\n",
    "sns.barplot( # построим столбчатую диаграмму чтоб визуализировать сумму продаж проектов по платформам\n",
    "    data=sales_by_platform.sort_values(by='sum_sales_sum', ascending=False), \n",
    "    x=\"platform\", \n",
    "    y=\"sum_sales_sum\",\n",
    ").set(\n",
    "    xlabel='Платформа', \n",
    "    ylabel='Сумма продаж', \n",
    "    title='Сумма продаж игр по платформам',\n",
    ")\n",
    "plt.xticks(rotation=90)\n",
    "plt.show()"
   ]
  },
  {
   "cell_type": "markdown",
   "metadata": {},
   "source": [
    "Список наиболее популярных платформ по общим суммам продаж за период с 1994 года можно сформировать из следующих устройств: Wii, PS2, PS, X360, DS, PS3, PS4."
   ]
  },
  {
   "cell_type": "code",
   "execution_count": 27,
   "metadata": {},
   "outputs": [
    {
     "data": {
      "text/html": [
       "<div>\n",
       "<style scoped>\n",
       "    .dataframe tbody tr th:only-of-type {\n",
       "        vertical-align: middle;\n",
       "    }\n",
       "\n",
       "    .dataframe tbody tr th {\n",
       "        vertical-align: top;\n",
       "    }\n",
       "\n",
       "    .dataframe thead th {\n",
       "        text-align: right;\n",
       "    }\n",
       "</style>\n",
       "<table border=\"1\" class=\"dataframe\">\n",
       "  <thead>\n",
       "    <tr style=\"text-align: right;\">\n",
       "      <th></th>\n",
       "      <th>year_of_release</th>\n",
       "      <th>platform</th>\n",
       "      <th>sum_sales_count</th>\n",
       "      <th>sum_sales_sum</th>\n",
       "    </tr>\n",
       "  </thead>\n",
       "  <tbody>\n",
       "    <tr>\n",
       "      <th>0</th>\n",
       "      <td>1994</td>\n",
       "      <td>3DO</td>\n",
       "      <td>1</td>\n",
       "      <td>0.02</td>\n",
       "    </tr>\n",
       "    <tr>\n",
       "      <th>1</th>\n",
       "      <td>1994</td>\n",
       "      <td>GB</td>\n",
       "      <td>3</td>\n",
       "      <td>12.18</td>\n",
       "    </tr>\n",
       "    <tr>\n",
       "      <th>2</th>\n",
       "      <td>1994</td>\n",
       "      <td>GEN</td>\n",
       "      <td>12</td>\n",
       "      <td>8.13</td>\n",
       "    </tr>\n",
       "    <tr>\n",
       "      <th>3</th>\n",
       "      <td>1994</td>\n",
       "      <td>NES</td>\n",
       "      <td>1</td>\n",
       "      <td>0.11</td>\n",
       "    </tr>\n",
       "    <tr>\n",
       "      <th>4</th>\n",
       "      <td>1994</td>\n",
       "      <td>NG</td>\n",
       "      <td>4</td>\n",
       "      <td>0.80</td>\n",
       "    </tr>\n",
       "    <tr>\n",
       "      <th>5</th>\n",
       "      <td>1994</td>\n",
       "      <td>PC</td>\n",
       "      <td>6</td>\n",
       "      <td>12.87</td>\n",
       "    </tr>\n",
       "    <tr>\n",
       "      <th>6</th>\n",
       "      <td>1994</td>\n",
       "      <td>PS</td>\n",
       "      <td>17</td>\n",
       "      <td>6.03</td>\n",
       "    </tr>\n",
       "    <tr>\n",
       "      <th>7</th>\n",
       "      <td>1994</td>\n",
       "      <td>SAT</td>\n",
       "      <td>19</td>\n",
       "      <td>3.65</td>\n",
       "    </tr>\n",
       "    <tr>\n",
       "      <th>8</th>\n",
       "      <td>1994</td>\n",
       "      <td>SCD</td>\n",
       "      <td>5</td>\n",
       "      <td>0.36</td>\n",
       "    </tr>\n",
       "    <tr>\n",
       "      <th>9</th>\n",
       "      <td>1994</td>\n",
       "      <td>SNES</td>\n",
       "      <td>53</td>\n",
       "      <td>35.08</td>\n",
       "    </tr>\n",
       "  </tbody>\n",
       "</table>\n",
       "</div>"
      ],
      "text/plain": [
       "   year_of_release platform  sum_sales_count  sum_sales_sum\n",
       "0             1994      3DO                1           0.02\n",
       "1             1994       GB                3          12.18\n",
       "2             1994      GEN               12           8.13\n",
       "3             1994      NES                1           0.11\n",
       "4             1994       NG                4           0.80\n",
       "5             1994       PC                6          12.87\n",
       "6             1994       PS               17           6.03\n",
       "7             1994      SAT               19           3.65\n",
       "8             1994      SCD                5           0.36\n",
       "9             1994     SNES               53          35.08"
      ]
     },
     "execution_count": 27,
     "metadata": {},
     "output_type": "execute_result"
    }
   ],
   "source": [
    "sales_by_platform = df.query('year_of_release > 1993').groupby(['year_of_release', 'platform'], as_index=False).agg(\n",
    "    {'sum_sales':['count', 'sum']}\n",
    "    ) # перезапишем датафрейм, теперь с группировкой по годам для построение следующего графика\n",
    "sales_by_platform.columns = sales_by_platform.columns.map('_'.join) #избавимся от мультииндекса и переименуем столбцы, убрав \"_\"\n",
    "sales_by_platform = sales_by_platform.rename(columns={'year_of_release_':'year_of_release', 'platform_': 'platform'})\n",
    "sales_by_platform.head(10)"
   ]
  },
  {
   "cell_type": "code",
   "execution_count": 28,
   "metadata": {
    "scrolled": false
   },
   "outputs": [
    {
     "data": {
      "image/png": "[encoded data removed]",
      "text/plain": [
       "<Figure size 1440x720 with 1 Axes>"
      ]
     },
     "metadata": {
      "needs_background": "light"
     },
     "output_type": "display_data"
    }
   ],
   "source": [
    "pivot_sales = sales_by_platform.query('platform in [\"Wii\", \"PS2\", \"PS\", \"X360\", \"DS\", \"PS3\", \"PS4\"]')\n",
    "pd.pivot_table(pivot_sales, values='sum_sales_sum', index='year_of_release', columns='platform').plot(\n",
    "    kind='bar',\n",
    "    stacked=True,\n",
    "    figsize=(20, 10),\n",
    "    colormap=\"tab20b\").set(\n",
    "    xlabel='Год релиза', \n",
    "    ylabel='Количество продаж', \n",
    "    title='Объём продаж за раличные годы среди популярных платформ'\n",
    ")\n",
    "plt.show()"
   ]
  },
  {
   "cell_type": "markdown",
   "metadata": {},
   "source": [
    "Сделаем табличку, чтобы более наглядно определить жизненный срок платформы. Сделаем фильтр по интересующим нас платформам, сгруппируем по платформе, найдём минимальное и максимальное значение года, а затем разницу."
   ]
  },
  {
   "cell_type": "code",
   "execution_count": 29,
   "metadata": {},
   "outputs": [
    {
     "data": {
      "text/html": [
       "<div>\n",
       "<style scoped>\n",
       "    .dataframe tbody tr th:only-of-type {\n",
       "        vertical-align: middle;\n",
       "    }\n",
       "\n",
       "    .dataframe tbody tr th {\n",
       "        vertical-align: top;\n",
       "    }\n",
       "\n",
       "    .dataframe thead th {\n",
       "        text-align: right;\n",
       "    }\n",
       "</style>\n",
       "<table border=\"1\" class=\"dataframe\">\n",
       "  <thead>\n",
       "    <tr style=\"text-align: right;\">\n",
       "      <th></th>\n",
       "      <th>platform</th>\n",
       "      <th>year_of_release_min</th>\n",
       "      <th>year_of_release_max</th>\n",
       "      <th>year_difference</th>\n",
       "    </tr>\n",
       "  </thead>\n",
       "  <tbody>\n",
       "    <tr>\n",
       "      <th>0</th>\n",
       "      <td>DS</td>\n",
       "      <td>1985</td>\n",
       "      <td>2013</td>\n",
       "      <td>28</td>\n",
       "    </tr>\n",
       "    <tr>\n",
       "      <th>1</th>\n",
       "      <td>PS</td>\n",
       "      <td>1994</td>\n",
       "      <td>2003</td>\n",
       "      <td>9</td>\n",
       "    </tr>\n",
       "    <tr>\n",
       "      <th>2</th>\n",
       "      <td>PS2</td>\n",
       "      <td>2000</td>\n",
       "      <td>2011</td>\n",
       "      <td>11</td>\n",
       "    </tr>\n",
       "    <tr>\n",
       "      <th>3</th>\n",
       "      <td>PS3</td>\n",
       "      <td>2006</td>\n",
       "      <td>2016</td>\n",
       "      <td>10</td>\n",
       "    </tr>\n",
       "    <tr>\n",
       "      <th>4</th>\n",
       "      <td>PS4</td>\n",
       "      <td>2013</td>\n",
       "      <td>2016</td>\n",
       "      <td>3</td>\n",
       "    </tr>\n",
       "    <tr>\n",
       "      <th>5</th>\n",
       "      <td>Wii</td>\n",
       "      <td>2006</td>\n",
       "      <td>2016</td>\n",
       "      <td>10</td>\n",
       "    </tr>\n",
       "    <tr>\n",
       "      <th>6</th>\n",
       "      <td>X360</td>\n",
       "      <td>2005</td>\n",
       "      <td>2016</td>\n",
       "      <td>11</td>\n",
       "    </tr>\n",
       "  </tbody>\n",
       "</table>\n",
       "</div>"
      ],
      "text/plain": [
       "  platform  year_of_release_min  year_of_release_max  year_difference\n",
       "0       DS                 1985                 2013               28\n",
       "1       PS                 1994                 2003                9\n",
       "2      PS2                 2000                 2011               11\n",
       "3      PS3                 2006                 2016               10\n",
       "4      PS4                 2013                 2016                3\n",
       "5      Wii                 2006                 2016               10\n",
       "6     X360                 2005                 2016               11"
      ]
     },
     "execution_count": 29,
     "metadata": {},
     "output_type": "execute_result"
    }
   ],
   "source": [
    "lifespan_platform = df.query('platform in [\"Wii\", \"PS2\", \"PS\", \"X360\", \"DS\", \"PS3\", \"PS4\"]').groupby(\n",
    "    ['platform'], as_index=False).agg(\n",
    "    {'year_of_release':['min', 'max']}\n",
    "    )\n",
    "lifespan_platform.columns = lifespan_platform.columns.map('_'.join)\n",
    "lifespan_platform = lifespan_platform.rename(columns={'platform_':'platform'})\n",
    "lifespan_platform['year_difference'] = lifespan_platform['year_of_release_max'] - lifespan_platform['year_of_release_min']\n",
    "lifespan_platform"
   ]
  },
  {
   "cell_type": "markdown",
   "metadata": {},
   "source": [
    "Таким образом получается, что  средний срок жизни платформы - 9-11 лет на выбранном временном промежутке. Для PS4 мы получили маленькое значение лет, так как эта платформа является новой."
   ]
  },
  {
   "cell_type": "markdown",
   "metadata": {},
   "source": [
    "Проанализировав построенные графики, можно сделать вывод что новые платформы появляются и исчезают примерно раз в 7-8 лет."
   ]
  },
  {
   "cell_type": "markdown",
   "metadata": {},
   "source": [
    "#### Выделение актуального периода времени."
   ]
  },
  {
   "cell_type": "markdown",
   "metadata": {},
   "source": [
    "Сделаем срез по наиболее актуальному периоду, в который войдут платформы, лидирующие в последние годы. Это поможет нам сделать прогноз на 2017 год. Возьмём данные, начиная с 2013 года (года выхода новых поколений консолей - ps4 и xbox one)."
   ]
  },
  {
   "cell_type": "code",
   "execution_count": 30,
   "metadata": {},
   "outputs": [
    {
     "name": "stdout",
     "output_type": "stream",
     "text": [
      "Количество строк в датафрейме с актуальными данными: 2233\n"
     ]
    },
    {
     "data": {
      "text/html": [
       "<div>\n",
       "<style scoped>\n",
       "    .dataframe tbody tr th:only-of-type {\n",
       "        vertical-align: middle;\n",
       "    }\n",
       "\n",
       "    .dataframe tbody tr th {\n",
       "        vertical-align: top;\n",
       "    }\n",
       "\n",
       "    .dataframe thead th {\n",
       "        text-align: right;\n",
       "    }\n",
       "</style>\n",
       "<table border=\"1\" class=\"dataframe\">\n",
       "  <thead>\n",
       "    <tr style=\"text-align: right;\">\n",
       "      <th></th>\n",
       "      <th>name</th>\n",
       "      <th>platform</th>\n",
       "      <th>year_of_release</th>\n",
       "      <th>genre</th>\n",
       "      <th>na_sales</th>\n",
       "      <th>eu_sales</th>\n",
       "      <th>jp_sales</th>\n",
       "      <th>other_sales</th>\n",
       "      <th>critic_score</th>\n",
       "      <th>user_score</th>\n",
       "      <th>rating</th>\n",
       "      <th>sum_sales</th>\n",
       "    </tr>\n",
       "  </thead>\n",
       "  <tbody>\n",
       "    <tr>\n",
       "      <th>16</th>\n",
       "      <td>Grand Theft Auto V</td>\n",
       "      <td>PS3</td>\n",
       "      <td>2013</td>\n",
       "      <td>Action</td>\n",
       "      <td>7.02</td>\n",
       "      <td>9.09</td>\n",
       "      <td>0.98</td>\n",
       "      <td>3.96</td>\n",
       "      <td>97.0</td>\n",
       "      <td>8.2</td>\n",
       "      <td>M</td>\n",
       "      <td>21.05</td>\n",
       "    </tr>\n",
       "    <tr>\n",
       "      <th>23</th>\n",
       "      <td>Grand Theft Auto V</td>\n",
       "      <td>X360</td>\n",
       "      <td>2013</td>\n",
       "      <td>Action</td>\n",
       "      <td>9.66</td>\n",
       "      <td>5.14</td>\n",
       "      <td>0.06</td>\n",
       "      <td>1.41</td>\n",
       "      <td>97.0</td>\n",
       "      <td>8.1</td>\n",
       "      <td>M</td>\n",
       "      <td>16.27</td>\n",
       "    </tr>\n",
       "    <tr>\n",
       "      <th>31</th>\n",
       "      <td>Call of Duty: Black Ops 3</td>\n",
       "      <td>PS4</td>\n",
       "      <td>2015</td>\n",
       "      <td>Shooter</td>\n",
       "      <td>6.03</td>\n",
       "      <td>5.86</td>\n",
       "      <td>0.36</td>\n",
       "      <td>2.38</td>\n",
       "      <td>NaN</td>\n",
       "      <td>NaN</td>\n",
       "      <td>empty</td>\n",
       "      <td>14.63</td>\n",
       "    </tr>\n",
       "    <tr>\n",
       "      <th>33</th>\n",
       "      <td>Pokemon X/Pokemon Y</td>\n",
       "      <td>3DS</td>\n",
       "      <td>2013</td>\n",
       "      <td>Role-Playing</td>\n",
       "      <td>5.28</td>\n",
       "      <td>4.19</td>\n",
       "      <td>4.35</td>\n",
       "      <td>0.78</td>\n",
       "      <td>NaN</td>\n",
       "      <td>NaN</td>\n",
       "      <td>empty</td>\n",
       "      <td>14.60</td>\n",
       "    </tr>\n",
       "    <tr>\n",
       "      <th>42</th>\n",
       "      <td>Grand Theft Auto V</td>\n",
       "      <td>PS4</td>\n",
       "      <td>2014</td>\n",
       "      <td>Action</td>\n",
       "      <td>3.96</td>\n",
       "      <td>6.31</td>\n",
       "      <td>0.38</td>\n",
       "      <td>1.97</td>\n",
       "      <td>97.0</td>\n",
       "      <td>8.3</td>\n",
       "      <td>M</td>\n",
       "      <td>12.62</td>\n",
       "    </tr>\n",
       "  </tbody>\n",
       "</table>\n",
       "</div>"
      ],
      "text/plain": [
       "                         name platform  year_of_release         genre  \\\n",
       "16         Grand Theft Auto V      PS3             2013        Action   \n",
       "23         Grand Theft Auto V     X360             2013        Action   \n",
       "31  Call of Duty: Black Ops 3      PS4             2015       Shooter   \n",
       "33        Pokemon X/Pokemon Y      3DS             2013  Role-Playing   \n",
       "42         Grand Theft Auto V      PS4             2014        Action   \n",
       "\n",
       "    na_sales  eu_sales  jp_sales  other_sales  critic_score  user_score  \\\n",
       "16      7.02      9.09      0.98         3.96          97.0         8.2   \n",
       "23      9.66      5.14      0.06         1.41          97.0         8.1   \n",
       "31      6.03      5.86      0.36         2.38           NaN         NaN   \n",
       "33      5.28      4.19      4.35         0.78           NaN         NaN   \n",
       "42      3.96      6.31      0.38         1.97          97.0         8.3   \n",
       "\n",
       "   rating  sum_sales  \n",
       "16      M      21.05  \n",
       "23      M      16.27  \n",
       "31  empty      14.63  \n",
       "33  empty      14.60  \n",
       "42      M      12.62  "
      ]
     },
     "execution_count": 30,
     "metadata": {},
     "output_type": "execute_result"
    }
   ],
   "source": [
    "df_filtred = df.query('year_of_release > 2012')\n",
    "print(f'Количество строк в датафрейме с актуальными данными: {len(df_filtred)}')\n",
    "df_filtred.head()"
   ]
  },
  {
   "cell_type": "markdown",
   "metadata": {},
   "source": [
    "#### Лидеры продаж среди платформ."
   ]
  },
  {
   "cell_type": "markdown",
   "metadata": {},
   "source": [
    "Оценим, какие платформы лидируют по продажам. Выберем несколько потенциально прибыльных платформ."
   ]
  },
  {
   "cell_type": "code",
   "execution_count": 31,
   "metadata": {},
   "outputs": [
    {
     "data": {
      "text/plain": [
       "platform\n",
       "PS4     314.14\n",
       "PS3     181.43\n",
       "XOne    159.32\n",
       "3DS     143.25\n",
       "X360    136.80\n",
       "WiiU     64.63\n",
       "PC       39.43\n",
       "PSV      32.99\n",
       "Wii      13.66\n",
       "PSP       3.50\n",
       "DS        1.54\n",
       "Name: sum_sales, dtype: float64"
      ]
     },
     "execution_count": 31,
     "metadata": {},
     "output_type": "execute_result"
    }
   ],
   "source": [
    "df_filtred.groupby('platform')['sum_sales'].sum().sort_values(ascending=False) # сгруппируем по платформе, посчитаем продажи\n",
    "                                                                                # и отсортируем по убыванию"
   ]
  },
  {
   "cell_type": "markdown",
   "metadata": {},
   "source": [
    "Наибольшие продажи мы видим у платформ: PS4, PS3, XOne, 3DS, X360. Оценим, растут или падают продажи у каждой платформы за выбранный период."
   ]
  },
  {
   "cell_type": "code",
   "execution_count": 32,
   "metadata": {},
   "outputs": [
    {
     "data": {
      "text/html": [
       "<div>\n",
       "<style scoped>\n",
       "    .dataframe tbody tr th:only-of-type {\n",
       "        vertical-align: middle;\n",
       "    }\n",
       "\n",
       "    .dataframe tbody tr th {\n",
       "        vertical-align: top;\n",
       "    }\n",
       "\n",
       "    .dataframe thead th {\n",
       "        text-align: right;\n",
       "    }\n",
       "</style>\n",
       "<table border=\"1\" class=\"dataframe\">\n",
       "  <thead>\n",
       "    <tr style=\"text-align: right;\">\n",
       "      <th></th>\n",
       "      <th>year_of_release</th>\n",
       "      <th>platform</th>\n",
       "      <th>sum_sales</th>\n",
       "    </tr>\n",
       "  </thead>\n",
       "  <tbody>\n",
       "    <tr>\n",
       "      <th>17</th>\n",
       "      <td>2016</td>\n",
       "      <td>PS4</td>\n",
       "      <td>69.25</td>\n",
       "    </tr>\n",
       "    <tr>\n",
       "      <th>19</th>\n",
       "      <td>2016</td>\n",
       "      <td>XOne</td>\n",
       "      <td>26.15</td>\n",
       "    </tr>\n",
       "    <tr>\n",
       "      <th>15</th>\n",
       "      <td>2016</td>\n",
       "      <td>3DS</td>\n",
       "      <td>15.14</td>\n",
       "    </tr>\n",
       "    <tr>\n",
       "      <th>16</th>\n",
       "      <td>2016</td>\n",
       "      <td>PS3</td>\n",
       "      <td>3.60</td>\n",
       "    </tr>\n",
       "    <tr>\n",
       "      <th>18</th>\n",
       "      <td>2016</td>\n",
       "      <td>X360</td>\n",
       "      <td>1.52</td>\n",
       "    </tr>\n",
       "    <tr>\n",
       "      <th>12</th>\n",
       "      <td>2015</td>\n",
       "      <td>PS4</td>\n",
       "      <td>118.90</td>\n",
       "    </tr>\n",
       "    <tr>\n",
       "      <th>14</th>\n",
       "      <td>2015</td>\n",
       "      <td>XOne</td>\n",
       "      <td>60.14</td>\n",
       "    </tr>\n",
       "    <tr>\n",
       "      <th>10</th>\n",
       "      <td>2015</td>\n",
       "      <td>3DS</td>\n",
       "      <td>27.78</td>\n",
       "    </tr>\n",
       "    <tr>\n",
       "      <th>11</th>\n",
       "      <td>2015</td>\n",
       "      <td>PS3</td>\n",
       "      <td>16.82</td>\n",
       "    </tr>\n",
       "    <tr>\n",
       "      <th>13</th>\n",
       "      <td>2015</td>\n",
       "      <td>X360</td>\n",
       "      <td>11.96</td>\n",
       "    </tr>\n",
       "    <tr>\n",
       "      <th>7</th>\n",
       "      <td>2014</td>\n",
       "      <td>PS4</td>\n",
       "      <td>100.00</td>\n",
       "    </tr>\n",
       "    <tr>\n",
       "      <th>9</th>\n",
       "      <td>2014</td>\n",
       "      <td>XOne</td>\n",
       "      <td>54.07</td>\n",
       "    </tr>\n",
       "    <tr>\n",
       "      <th>6</th>\n",
       "      <td>2014</td>\n",
       "      <td>PS3</td>\n",
       "      <td>47.76</td>\n",
       "    </tr>\n",
       "    <tr>\n",
       "      <th>5</th>\n",
       "      <td>2014</td>\n",
       "      <td>3DS</td>\n",
       "      <td>43.76</td>\n",
       "    </tr>\n",
       "    <tr>\n",
       "      <th>8</th>\n",
       "      <td>2014</td>\n",
       "      <td>X360</td>\n",
       "      <td>34.74</td>\n",
       "    </tr>\n",
       "    <tr>\n",
       "      <th>1</th>\n",
       "      <td>2013</td>\n",
       "      <td>PS3</td>\n",
       "      <td>113.25</td>\n",
       "    </tr>\n",
       "    <tr>\n",
       "      <th>3</th>\n",
       "      <td>2013</td>\n",
       "      <td>X360</td>\n",
       "      <td>88.58</td>\n",
       "    </tr>\n",
       "    <tr>\n",
       "      <th>0</th>\n",
       "      <td>2013</td>\n",
       "      <td>3DS</td>\n",
       "      <td>56.57</td>\n",
       "    </tr>\n",
       "    <tr>\n",
       "      <th>2</th>\n",
       "      <td>2013</td>\n",
       "      <td>PS4</td>\n",
       "      <td>25.99</td>\n",
       "    </tr>\n",
       "    <tr>\n",
       "      <th>4</th>\n",
       "      <td>2013</td>\n",
       "      <td>XOne</td>\n",
       "      <td>18.96</td>\n",
       "    </tr>\n",
       "  </tbody>\n",
       "</table>\n",
       "</div>"
      ],
      "text/plain": [
       "    year_of_release platform  sum_sales\n",
       "17             2016      PS4      69.25\n",
       "19             2016     XOne      26.15\n",
       "15             2016      3DS      15.14\n",
       "16             2016      PS3       3.60\n",
       "18             2016     X360       1.52\n",
       "12             2015      PS4     118.90\n",
       "14             2015     XOne      60.14\n",
       "10             2015      3DS      27.78\n",
       "11             2015      PS3      16.82\n",
       "13             2015     X360      11.96\n",
       "7              2014      PS4     100.00\n",
       "9              2014     XOne      54.07\n",
       "6              2014      PS3      47.76\n",
       "5              2014      3DS      43.76\n",
       "8              2014     X360      34.74\n",
       "1              2013      PS3     113.25\n",
       "3              2013     X360      88.58\n",
       "0              2013      3DS      56.57\n",
       "2              2013      PS4      25.99\n",
       "4              2013     XOne      18.96"
      ]
     },
     "execution_count": 32,
     "metadata": {},
     "output_type": "execute_result"
    }
   ],
   "source": [
    "df_filtred_2 = df_filtred.query(\n",
    "    'platform in [\"PS4\", \"PS3\", \"XOne\", \"3DS\", \"X360\"]'\n",
    ").groupby(['year_of_release', 'platform'], as_index=False)['sum_sales'].sum() #создадим ещё один датафреймвзяв только популярные \n",
    "df_filtred_2.sort_values(by=['year_of_release', 'sum_sales'], ascending=False) # платформы"
   ]
  },
  {
   "cell_type": "markdown",
   "metadata": {},
   "source": [
    "За последний рассмотренный год продажи по всем платформам снизились примерно одинаково. Тем не менее, до 2016 года, наблюдался рост продаж на новых платформах: PS4, XOne. Их можно назвать наиболее преспективными."
   ]
  },
  {
   "cell_type": "markdown",
   "metadata": {},
   "source": [
    "#### Диаграмма размаха глобальных продаж игр в разбивке по платформам. "
   ]
  },
  {
   "cell_type": "markdown",
   "metadata": {},
   "source": [
    "Построим график по глобальным продажам игр в разбивке по платформам."
   ]
  },
  {
   "cell_type": "code",
   "execution_count": 33,
   "metadata": {},
   "outputs": [
    {
     "data": {
      "text/plain": [
       "count    2233.000000\n",
       "mean        0.488442\n",
       "std         1.235226\n",
       "min         0.010000\n",
       "25%         0.030000\n",
       "50%         0.110000\n",
       "75%         0.400000\n",
       "max        21.050000\n",
       "Name: sum_sales, dtype: float64"
      ]
     },
     "execution_count": 33,
     "metadata": {},
     "output_type": "execute_result"
    }
   ],
   "source": [
    "df_filtred['sum_sales'].describe() # для начала опишем данные с толбце с суммой продаж"
   ]
  },
  {
   "cell_type": "code",
   "execution_count": 34,
   "metadata": {
    "scrolled": false
   },
   "outputs": [
    {
     "data": {
      "image/png": "[encoded data removed]",
      "text/plain": [
       "<Figure size 936x720 with 1 Axes>"
      ]
     },
     "metadata": {
      "needs_background": "light"
     },
     "output_type": "display_data"
    }
   ],
   "source": [
    "fig, axs = plt.subplots(figsize=(13, 10))\n",
    "sns.boxplot(x=\"platform\", y=\"sum_sales\", # построим диаграмму размаха\n",
    "            data=df_filtred.query('sum_sales < 2')).set(title = \"Диаграмма размаха продаж игр\")\n",
    "plt.show()"
   ]
  },
  {
   "cell_type": "markdown",
   "metadata": {},
   "source": [
    "Теперь отобразим диаграммы размаха без фильтра, чтобы оценить общее количество выбросов."
   ]
  },
  {
   "cell_type": "code",
   "execution_count": 35,
   "metadata": {},
   "outputs": [
    {
     "data": {
      "image/png": "[encoded data removed]",
      "text/plain": [
       "<Figure size 936x720 with 1 Axes>"
      ]
     },
     "metadata": {
      "needs_background": "light"
     },
     "output_type": "display_data"
    }
   ],
   "source": [
    "fig, axs = plt.subplots(figsize=(13, 10))\n",
    "sns.boxplot(x=\"platform\", y=\"sum_sales\", # построим диаграмму размаха\n",
    "            data=df_filtred).set(title = \"Диаграмма размаха продаж игр\")\n",
    "plt.show()"
   ]
  },
  {
   "cell_type": "markdown",
   "metadata": {},
   "source": [
    "Посмотрим, что за игры имеют продажи больше 10 миллионов проданных копий."
   ]
  },
  {
   "cell_type": "code",
   "execution_count": 36,
   "metadata": {},
   "outputs": [
    {
     "data": {
      "text/html": [
       "<div>\n",
       "<style scoped>\n",
       "    .dataframe tbody tr th:only-of-type {\n",
       "        vertical-align: middle;\n",
       "    }\n",
       "\n",
       "    .dataframe tbody tr th {\n",
       "        vertical-align: top;\n",
       "    }\n",
       "\n",
       "    .dataframe thead th {\n",
       "        text-align: right;\n",
       "    }\n",
       "</style>\n",
       "<table border=\"1\" class=\"dataframe\">\n",
       "  <thead>\n",
       "    <tr style=\"text-align: right;\">\n",
       "      <th></th>\n",
       "      <th>name</th>\n",
       "      <th>platform</th>\n",
       "      <th>year_of_release</th>\n",
       "      <th>genre</th>\n",
       "      <th>na_sales</th>\n",
       "      <th>eu_sales</th>\n",
       "      <th>jp_sales</th>\n",
       "      <th>other_sales</th>\n",
       "      <th>critic_score</th>\n",
       "      <th>user_score</th>\n",
       "      <th>rating</th>\n",
       "      <th>sum_sales</th>\n",
       "    </tr>\n",
       "  </thead>\n",
       "  <tbody>\n",
       "    <tr>\n",
       "      <th>16</th>\n",
       "      <td>Grand Theft Auto V</td>\n",
       "      <td>PS3</td>\n",
       "      <td>2013</td>\n",
       "      <td>Action</td>\n",
       "      <td>7.02</td>\n",
       "      <td>9.09</td>\n",
       "      <td>0.98</td>\n",
       "      <td>3.96</td>\n",
       "      <td>97.0</td>\n",
       "      <td>8.2</td>\n",
       "      <td>M</td>\n",
       "      <td>21.05</td>\n",
       "    </tr>\n",
       "    <tr>\n",
       "      <th>23</th>\n",
       "      <td>Grand Theft Auto V</td>\n",
       "      <td>X360</td>\n",
       "      <td>2013</td>\n",
       "      <td>Action</td>\n",
       "      <td>9.66</td>\n",
       "      <td>5.14</td>\n",
       "      <td>0.06</td>\n",
       "      <td>1.41</td>\n",
       "      <td>97.0</td>\n",
       "      <td>8.1</td>\n",
       "      <td>M</td>\n",
       "      <td>16.27</td>\n",
       "    </tr>\n",
       "    <tr>\n",
       "      <th>31</th>\n",
       "      <td>Call of Duty: Black Ops 3</td>\n",
       "      <td>PS4</td>\n",
       "      <td>2015</td>\n",
       "      <td>Shooter</td>\n",
       "      <td>6.03</td>\n",
       "      <td>5.86</td>\n",
       "      <td>0.36</td>\n",
       "      <td>2.38</td>\n",
       "      <td>NaN</td>\n",
       "      <td>NaN</td>\n",
       "      <td>empty</td>\n",
       "      <td>14.63</td>\n",
       "    </tr>\n",
       "    <tr>\n",
       "      <th>33</th>\n",
       "      <td>Pokemon X/Pokemon Y</td>\n",
       "      <td>3DS</td>\n",
       "      <td>2013</td>\n",
       "      <td>Role-Playing</td>\n",
       "      <td>5.28</td>\n",
       "      <td>4.19</td>\n",
       "      <td>4.35</td>\n",
       "      <td>0.78</td>\n",
       "      <td>NaN</td>\n",
       "      <td>NaN</td>\n",
       "      <td>empty</td>\n",
       "      <td>14.60</td>\n",
       "    </tr>\n",
       "    <tr>\n",
       "      <th>42</th>\n",
       "      <td>Grand Theft Auto V</td>\n",
       "      <td>PS4</td>\n",
       "      <td>2014</td>\n",
       "      <td>Action</td>\n",
       "      <td>3.96</td>\n",
       "      <td>6.31</td>\n",
       "      <td>0.38</td>\n",
       "      <td>1.97</td>\n",
       "      <td>97.0</td>\n",
       "      <td>8.3</td>\n",
       "      <td>M</td>\n",
       "      <td>12.62</td>\n",
       "    </tr>\n",
       "    <tr>\n",
       "      <th>47</th>\n",
       "      <td>Pokemon Omega Ruby/Pokemon Alpha Sapphire</td>\n",
       "      <td>3DS</td>\n",
       "      <td>2014</td>\n",
       "      <td>Role-Playing</td>\n",
       "      <td>4.35</td>\n",
       "      <td>3.49</td>\n",
       "      <td>3.10</td>\n",
       "      <td>0.74</td>\n",
       "      <td>NaN</td>\n",
       "      <td>NaN</td>\n",
       "      <td>empty</td>\n",
       "      <td>11.68</td>\n",
       "    </tr>\n",
       "    <tr>\n",
       "      <th>60</th>\n",
       "      <td>Call of Duty: Ghosts</td>\n",
       "      <td>X360</td>\n",
       "      <td>2013</td>\n",
       "      <td>Shooter</td>\n",
       "      <td>6.73</td>\n",
       "      <td>2.56</td>\n",
       "      <td>0.04</td>\n",
       "      <td>0.91</td>\n",
       "      <td>73.0</td>\n",
       "      <td>2.6</td>\n",
       "      <td>M</td>\n",
       "      <td>10.24</td>\n",
       "    </tr>\n",
       "  </tbody>\n",
       "</table>\n",
       "</div>"
      ],
      "text/plain": [
       "                                         name platform  year_of_release  \\\n",
       "16                         Grand Theft Auto V      PS3             2013   \n",
       "23                         Grand Theft Auto V     X360             2013   \n",
       "31                  Call of Duty: Black Ops 3      PS4             2015   \n",
       "33                        Pokemon X/Pokemon Y      3DS             2013   \n",
       "42                         Grand Theft Auto V      PS4             2014   \n",
       "47  Pokemon Omega Ruby/Pokemon Alpha Sapphire      3DS             2014   \n",
       "60                       Call of Duty: Ghosts     X360             2013   \n",
       "\n",
       "           genre  na_sales  eu_sales  jp_sales  other_sales  critic_score  \\\n",
       "16        Action      7.02      9.09      0.98         3.96          97.0   \n",
       "23        Action      9.66      5.14      0.06         1.41          97.0   \n",
       "31       Shooter      6.03      5.86      0.36         2.38           NaN   \n",
       "33  Role-Playing      5.28      4.19      4.35         0.78           NaN   \n",
       "42        Action      3.96      6.31      0.38         1.97          97.0   \n",
       "47  Role-Playing      4.35      3.49      3.10         0.74           NaN   \n",
       "60       Shooter      6.73      2.56      0.04         0.91          73.0   \n",
       "\n",
       "    user_score rating  sum_sales  \n",
       "16         8.2      M      21.05  \n",
       "23         8.1      M      16.27  \n",
       "31         NaN  empty      14.63  \n",
       "33         NaN  empty      14.60  \n",
       "42         8.3      M      12.62  \n",
       "47         NaN  empty      11.68  \n",
       "60         2.6      M      10.24  "
      ]
     },
     "execution_count": 36,
     "metadata": {},
     "output_type": "execute_result"
    }
   ],
   "source": [
    "df_filtred.query('sum_sales > 10') # сделаем фильтр"
   ]
  },
  {
   "cell_type": "markdown",
   "metadata": {},
   "source": [
    "Получается, что за выбросами из данных стоят высокооценнённые игры от знаменитых студий. Отсюда высокий показатель продаж."
   ]
  },
  {
   "cell_type": "markdown",
   "metadata": {},
   "source": [
    "Диаграмма размаха подтвердила, что наилучший показатель продаж среди платформ аткуального периода принадлежит X360, XOne, WiiU и PS4. Также медианное значение продаж на этих платформах расположено выше, чем у остальных платформ. На диаграммах было выявлено большое количество выбросов, связанных с высокими продажами наиболее популярных игр."
   ]
  },
  {
   "cell_type": "markdown",
   "metadata": {},
   "source": [
    "#### Влияние отзывов на продажи игр."
   ]
  },
  {
   "cell_type": "markdown",
   "metadata": {},
   "source": [
    "Оценим влияние отзывов на продажи внутри популярной платформы - PS4."
   ]
  },
  {
   "cell_type": "code",
   "execution_count": 37,
   "metadata": {},
   "outputs": [
    {
     "data": {
      "image/png": "[encoded data removed]",
      "text/plain": [
       "<Figure size 1440x720 with 2 Axes>"
      ]
     },
     "metadata": {
      "needs_background": "light"
     },
     "output_type": "display_data"
    }
   ],
   "source": [
    "sns.pairplot(df_filtred.query('platform == \"PS4\"'), x_vars=['critic_score', 'user_score'], y_vars='sum_sales', height=10)\n",
    "plt.show() # построим диаграмму рассеивания для зависимости суммы продаж на PS4 от оценок сразу для двух столбцов с оценками "
   ]
  },
  {
   "cell_type": "code",
   "execution_count": 38,
   "metadata": {},
   "outputs": [
    {
     "data": {
      "text/html": [
       "<div>\n",
       "<style scoped>\n",
       "    .dataframe tbody tr th:only-of-type {\n",
       "        vertical-align: middle;\n",
       "    }\n",
       "\n",
       "    .dataframe tbody tr th {\n",
       "        vertical-align: top;\n",
       "    }\n",
       "\n",
       "    .dataframe thead th {\n",
       "        text-align: right;\n",
       "    }\n",
       "</style>\n",
       "<table border=\"1\" class=\"dataframe\">\n",
       "  <thead>\n",
       "    <tr style=\"text-align: right;\">\n",
       "      <th></th>\n",
       "      <th>critic_score</th>\n",
       "      <th>user_score</th>\n",
       "      <th>sum_sales</th>\n",
       "    </tr>\n",
       "  </thead>\n",
       "  <tbody>\n",
       "    <tr>\n",
       "      <th>sum_sales</th>\n",
       "      <td>0.406568</td>\n",
       "      <td>-0.031957</td>\n",
       "      <td>1.0</td>\n",
       "    </tr>\n",
       "  </tbody>\n",
       "</table>\n",
       "</div>"
      ],
      "text/plain": [
       "           critic_score  user_score  sum_sales\n",
       "sum_sales      0.406568   -0.031957        1.0"
      ]
     },
     "execution_count": 38,
     "metadata": {},
     "output_type": "execute_result"
    }
   ],
   "source": [
    "df_filtred.query('platform == \"PS4\"')[['critic_score', 'user_score', 'sum_sales']].corr().iloc[[2]] #выведем коэффициенты \n",
    "                                                                                                    #корреляции"
   ]
  },
  {
   "cell_type": "markdown",
   "metadata": {},
   "source": [
    "Построенные графики и коэффициент корреляции показали, что:\n",
    "- между оценками пользователей и продажами практически нет зависимости;\n",
    "- наблюдается слабая прямая зависимость между оценками критиков и продажами (коэффициент корреляции порядка 0.4)."
   ]
  },
  {
   "cell_type": "markdown",
   "metadata": {},
   "source": [
    "Рассмотрим другие популярные платформы и проведём сравнение."
   ]
  },
  {
   "cell_type": "code",
   "execution_count": 39,
   "metadata": {},
   "outputs": [
    {
     "data": {
      "image/png": "[encoded data removed]",
      "text/plain": [
       "<Figure size 1440x720 with 2 Axes>"
      ]
     },
     "metadata": {
      "needs_background": "light"
     },
     "output_type": "display_data"
    }
   ],
   "source": [
    "sns.pairplot(df_filtred.query('platform == \"XOne\"'), x_vars=['critic_score', 'user_score'], y_vars='sum_sales', height=10)\n",
    "plt.show() # построим диаграмму рассеивания для зависимости суммы продаж на XOne от оценок сразу для двух столбцов с оценками "
   ]
  },
  {
   "cell_type": "code",
   "execution_count": 40,
   "metadata": {},
   "outputs": [
    {
     "data": {
      "text/html": [
       "<div>\n",
       "<style scoped>\n",
       "    .dataframe tbody tr th:only-of-type {\n",
       "        vertical-align: middle;\n",
       "    }\n",
       "\n",
       "    .dataframe tbody tr th {\n",
       "        vertical-align: top;\n",
       "    }\n",
       "\n",
       "    .dataframe thead th {\n",
       "        text-align: right;\n",
       "    }\n",
       "</style>\n",
       "<table border=\"1\" class=\"dataframe\">\n",
       "  <thead>\n",
       "    <tr style=\"text-align: right;\">\n",
       "      <th></th>\n",
       "      <th>critic_score</th>\n",
       "      <th>user_score</th>\n",
       "      <th>sum_sales</th>\n",
       "    </tr>\n",
       "  </thead>\n",
       "  <tbody>\n",
       "    <tr>\n",
       "      <th>sum_sales</th>\n",
       "      <td>0.416998</td>\n",
       "      <td>-0.068925</td>\n",
       "      <td>1.0</td>\n",
       "    </tr>\n",
       "  </tbody>\n",
       "</table>\n",
       "</div>"
      ],
      "text/plain": [
       "           critic_score  user_score  sum_sales\n",
       "sum_sales      0.416998   -0.068925        1.0"
      ]
     },
     "execution_count": 40,
     "metadata": {},
     "output_type": "execute_result"
    }
   ],
   "source": [
    "df_filtred.query('platform == \"XOne\"')[['critic_score', 'user_score', 'sum_sales']].corr().iloc[[2]] #выведем коэффициенты \n",
    "                                                                                                    #корреляции"
   ]
  },
  {
   "cell_type": "markdown",
   "metadata": {},
   "source": [
    "Для платформы XOne наблюдается такая же слабая зависимость между продажами и оценкой критиков (коэффициент корреляции порядка 0.4). С оценкой пользователей продажи очень слабо коррелируют."
   ]
  },
  {
   "cell_type": "code",
   "execution_count": 41,
   "metadata": {
    "scrolled": true
   },
   "outputs": [
    {
     "data": {
      "image/png": "[encoded data removed]",
      "text/plain": [
       "<Figure size 576x288 with 2 Axes>"
      ]
     },
     "metadata": {
      "needs_background": "light"
     },
     "output_type": "display_data"
    }
   ],
   "source": [
    "sns.pairplot(df_filtred.query('platform == \"PS3\"'), x_vars=['critic_score', 'user_score'], y_vars='sum_sales', height=4)\n",
    "plt.show() # построим диаграмму рассеивания для зависимости суммы продаж на PS3 от оценок сразу для двух столбцов с оценками "
   ]
  },
  {
   "cell_type": "code",
   "execution_count": 42,
   "metadata": {},
   "outputs": [
    {
     "data": {
      "text/html": [
       "<div>\n",
       "<style scoped>\n",
       "    .dataframe tbody tr th:only-of-type {\n",
       "        vertical-align: middle;\n",
       "    }\n",
       "\n",
       "    .dataframe tbody tr th {\n",
       "        vertical-align: top;\n",
       "    }\n",
       "\n",
       "    .dataframe thead th {\n",
       "        text-align: right;\n",
       "    }\n",
       "</style>\n",
       "<table border=\"1\" class=\"dataframe\">\n",
       "  <thead>\n",
       "    <tr style=\"text-align: right;\">\n",
       "      <th></th>\n",
       "      <th>critic_score</th>\n",
       "      <th>user_score</th>\n",
       "      <th>sum_sales</th>\n",
       "    </tr>\n",
       "  </thead>\n",
       "  <tbody>\n",
       "    <tr>\n",
       "      <th>sum_sales</th>\n",
       "      <td>0.334285</td>\n",
       "      <td>0.002394</td>\n",
       "      <td>1.0</td>\n",
       "    </tr>\n",
       "  </tbody>\n",
       "</table>\n",
       "</div>"
      ],
      "text/plain": [
       "           critic_score  user_score  sum_sales\n",
       "sum_sales      0.334285    0.002394        1.0"
      ]
     },
     "execution_count": 42,
     "metadata": {},
     "output_type": "execute_result"
    }
   ],
   "source": [
    "df_filtred.query('platform == \"PS3\"')[['critic_score', 'user_score', 'sum_sales']].corr().iloc[[2]] #выведем коэффициенты \n",
    "                                                                                                    #корреляции"
   ]
  },
  {
   "cell_type": "markdown",
   "metadata": {},
   "source": [
    "Для PS3 наблюдается слабая прямая корреляция между продажами и оценкой критиков (коэффциент около 0.33), для оценок пользователей зависиимость очень слабая."
   ]
  },
  {
   "cell_type": "code",
   "execution_count": 43,
   "metadata": {},
   "outputs": [
    {
     "data": {
      "text/plain": [
       "<seaborn.axisgrid.PairGrid at 0x7f50c8f20af0>"
      ]
     },
     "execution_count": 43,
     "metadata": {},
     "output_type": "execute_result"
    },
    {
     "data": {
      "image/png": "[encoded data removed]",
      "text/plain": [
       "<Figure size 1440x720 with 2 Axes>"
      ]
     },
     "metadata": {
      "needs_background": "light"
     },
     "output_type": "display_data"
    }
   ],
   "source": [
    "sns.pairplot(df_filtred.query('platform == \"X360\"'), x_vars=['critic_score', 'user_score'], y_vars='sum_sales', height=10)\n",
    "# построим диаграмму рассеивания сразу для двух столбцов с оценками "
   ]
  },
  {
   "cell_type": "code",
   "execution_count": 44,
   "metadata": {},
   "outputs": [
    {
     "data": {
      "text/html": [
       "<div>\n",
       "<style scoped>\n",
       "    .dataframe tbody tr th:only-of-type {\n",
       "        vertical-align: middle;\n",
       "    }\n",
       "\n",
       "    .dataframe tbody tr th {\n",
       "        vertical-align: top;\n",
       "    }\n",
       "\n",
       "    .dataframe thead th {\n",
       "        text-align: right;\n",
       "    }\n",
       "</style>\n",
       "<table border=\"1\" class=\"dataframe\">\n",
       "  <thead>\n",
       "    <tr style=\"text-align: right;\">\n",
       "      <th></th>\n",
       "      <th>critic_score</th>\n",
       "      <th>user_score</th>\n",
       "      <th>sum_sales</th>\n",
       "    </tr>\n",
       "  </thead>\n",
       "  <tbody>\n",
       "    <tr>\n",
       "      <th>sum_sales</th>\n",
       "      <td>0.350345</td>\n",
       "      <td>-0.011742</td>\n",
       "      <td>1.0</td>\n",
       "    </tr>\n",
       "  </tbody>\n",
       "</table>\n",
       "</div>"
      ],
      "text/plain": [
       "           critic_score  user_score  sum_sales\n",
       "sum_sales      0.350345   -0.011742        1.0"
      ]
     },
     "execution_count": 44,
     "metadata": {},
     "output_type": "execute_result"
    }
   ],
   "source": [
    "df_filtred.query('platform == \"X360\"')[['critic_score', 'user_score', 'sum_sales']].corr().iloc[[2]] #выведем коэффициенты \n",
    "                                                                                                    #корреляции"
   ]
  },
  {
   "cell_type": "markdown",
   "metadata": {},
   "source": [
    "Для X360 наблюдается такая же закономерность, как и для предыдущих случаев - слабая прямая зависимость для оценок критиков и очень слабая для оценок пользователей. \n",
    "\n",
    "Таким образом, для платформ зависимость продаж игр от оценок критиков проявляется слабо, для оценок пользователей - очень слабо. Если использовать эту корреляцию для каких-то решений, стоит рассматривать только оценки критиков. "
   ]
  },
  {
   "cell_type": "markdown",
   "metadata": {},
   "source": [
    "#### Общее распределение игр по жанрам."
   ]
  },
  {
   "cell_type": "markdown",
   "metadata": {},
   "source": [
    " Изучим распределение игр по жанрам и оценим влияние жанра на продаваемость игры."
   ]
  },
  {
   "cell_type": "code",
   "execution_count": 45,
   "metadata": {},
   "outputs": [
    {
     "data": {
      "text/plain": [
       "12"
      ]
     },
     "execution_count": 45,
     "metadata": {},
     "output_type": "execute_result"
    }
   ],
   "source": [
    "df_filtred['genre'].nunique() # выведем количество уникальных жанров"
   ]
  },
  {
   "cell_type": "code",
   "execution_count": 46,
   "metadata": {},
   "outputs": [
    {
     "data": {
      "text/html": [
       "<div>\n",
       "<style scoped>\n",
       "    .dataframe tbody tr th:only-of-type {\n",
       "        vertical-align: middle;\n",
       "    }\n",
       "\n",
       "    .dataframe tbody tr th {\n",
       "        vertical-align: top;\n",
       "    }\n",
       "\n",
       "    .dataframe thead th {\n",
       "        text-align: right;\n",
       "    }\n",
       "</style>\n",
       "<table border=\"1\" class=\"dataframe\">\n",
       "  <thead>\n",
       "    <tr style=\"text-align: right;\">\n",
       "      <th></th>\n",
       "      <th>name</th>\n",
       "      <th>platform</th>\n",
       "      <th>year_of_release</th>\n",
       "      <th>genre</th>\n",
       "      <th>na_sales</th>\n",
       "      <th>eu_sales</th>\n",
       "      <th>jp_sales</th>\n",
       "      <th>other_sales</th>\n",
       "      <th>critic_score</th>\n",
       "      <th>user_score</th>\n",
       "      <th>rating</th>\n",
       "      <th>sum_sales</th>\n",
       "    </tr>\n",
       "  </thead>\n",
       "  <tbody>\n",
       "    <tr>\n",
       "      <th>16</th>\n",
       "      <td>Grand Theft Auto V</td>\n",
       "      <td>PS3</td>\n",
       "      <td>2013</td>\n",
       "      <td>Action</td>\n",
       "      <td>7.02</td>\n",
       "      <td>9.09</td>\n",
       "      <td>0.98</td>\n",
       "      <td>3.96</td>\n",
       "      <td>97.0</td>\n",
       "      <td>8.2</td>\n",
       "      <td>M</td>\n",
       "      <td>21.05</td>\n",
       "    </tr>\n",
       "    <tr>\n",
       "      <th>23</th>\n",
       "      <td>Grand Theft Auto V</td>\n",
       "      <td>X360</td>\n",
       "      <td>2013</td>\n",
       "      <td>Action</td>\n",
       "      <td>9.66</td>\n",
       "      <td>5.14</td>\n",
       "      <td>0.06</td>\n",
       "      <td>1.41</td>\n",
       "      <td>97.0</td>\n",
       "      <td>8.1</td>\n",
       "      <td>M</td>\n",
       "      <td>16.27</td>\n",
       "    </tr>\n",
       "    <tr>\n",
       "      <th>31</th>\n",
       "      <td>Call of Duty: Black Ops 3</td>\n",
       "      <td>PS4</td>\n",
       "      <td>2015</td>\n",
       "      <td>Shooter</td>\n",
       "      <td>6.03</td>\n",
       "      <td>5.86</td>\n",
       "      <td>0.36</td>\n",
       "      <td>2.38</td>\n",
       "      <td>NaN</td>\n",
       "      <td>NaN</td>\n",
       "      <td>empty</td>\n",
       "      <td>14.63</td>\n",
       "    </tr>\n",
       "    <tr>\n",
       "      <th>33</th>\n",
       "      <td>Pokemon X/Pokemon Y</td>\n",
       "      <td>3DS</td>\n",
       "      <td>2013</td>\n",
       "      <td>Role-Playing</td>\n",
       "      <td>5.28</td>\n",
       "      <td>4.19</td>\n",
       "      <td>4.35</td>\n",
       "      <td>0.78</td>\n",
       "      <td>NaN</td>\n",
       "      <td>NaN</td>\n",
       "      <td>empty</td>\n",
       "      <td>14.60</td>\n",
       "    </tr>\n",
       "    <tr>\n",
       "      <th>42</th>\n",
       "      <td>Grand Theft Auto V</td>\n",
       "      <td>PS4</td>\n",
       "      <td>2014</td>\n",
       "      <td>Action</td>\n",
       "      <td>3.96</td>\n",
       "      <td>6.31</td>\n",
       "      <td>0.38</td>\n",
       "      <td>1.97</td>\n",
       "      <td>97.0</td>\n",
       "      <td>8.3</td>\n",
       "      <td>M</td>\n",
       "      <td>12.62</td>\n",
       "    </tr>\n",
       "  </tbody>\n",
       "</table>\n",
       "</div>"
      ],
      "text/plain": [
       "                         name platform  year_of_release         genre  \\\n",
       "16         Grand Theft Auto V      PS3             2013        Action   \n",
       "23         Grand Theft Auto V     X360             2013        Action   \n",
       "31  Call of Duty: Black Ops 3      PS4             2015       Shooter   \n",
       "33        Pokemon X/Pokemon Y      3DS             2013  Role-Playing   \n",
       "42         Grand Theft Auto V      PS4             2014        Action   \n",
       "\n",
       "    na_sales  eu_sales  jp_sales  other_sales  critic_score  user_score  \\\n",
       "16      7.02      9.09      0.98         3.96          97.0         8.2   \n",
       "23      9.66      5.14      0.06         1.41          97.0         8.1   \n",
       "31      6.03      5.86      0.36         2.38           NaN         NaN   \n",
       "33      5.28      4.19      4.35         0.78           NaN         NaN   \n",
       "42      3.96      6.31      0.38         1.97          97.0         8.3   \n",
       "\n",
       "   rating  sum_sales  \n",
       "16      M      21.05  \n",
       "23      M      16.27  \n",
       "31  empty      14.63  \n",
       "33  empty      14.60  \n",
       "42      M      12.62  "
      ]
     },
     "execution_count": 46,
     "metadata": {},
     "output_type": "execute_result"
    }
   ],
   "source": [
    "df_filtred.head()"
   ]
  },
  {
   "cell_type": "code",
   "execution_count": 47,
   "metadata": {
    "scrolled": true
   },
   "outputs": [
    {
     "data": {
      "text/html": [
       "<div>\n",
       "<style scoped>\n",
       "    .dataframe tbody tr th:only-of-type {\n",
       "        vertical-align: middle;\n",
       "    }\n",
       "\n",
       "    .dataframe tbody tr th {\n",
       "        vertical-align: top;\n",
       "    }\n",
       "\n",
       "    .dataframe thead th {\n",
       "        text-align: right;\n",
       "    }\n",
       "</style>\n",
       "<table border=\"1\" class=\"dataframe\">\n",
       "  <thead>\n",
       "    <tr style=\"text-align: right;\">\n",
       "      <th></th>\n",
       "      <th>sum_sales</th>\n",
       "    </tr>\n",
       "    <tr>\n",
       "      <th>genre</th>\n",
       "      <th></th>\n",
       "    </tr>\n",
       "  </thead>\n",
       "  <tbody>\n",
       "    <tr>\n",
       "      <th>Action</th>\n",
       "      <td>0.420196</td>\n",
       "    </tr>\n",
       "    <tr>\n",
       "      <th>Adventure</th>\n",
       "      <td>0.096490</td>\n",
       "    </tr>\n",
       "    <tr>\n",
       "      <th>Fighting</th>\n",
       "      <td>0.441375</td>\n",
       "    </tr>\n",
       "    <tr>\n",
       "      <th>Misc</th>\n",
       "      <td>0.405290</td>\n",
       "    </tr>\n",
       "    <tr>\n",
       "      <th>Platform</th>\n",
       "      <td>0.576081</td>\n",
       "    </tr>\n",
       "    <tr>\n",
       "      <th>Puzzle</th>\n",
       "      <td>0.186471</td>\n",
       "    </tr>\n",
       "    <tr>\n",
       "      <th>Racing</th>\n",
       "      <td>0.469294</td>\n",
       "    </tr>\n",
       "    <tr>\n",
       "      <th>Role-Playing</th>\n",
       "      <td>0.499623</td>\n",
       "    </tr>\n",
       "    <tr>\n",
       "      <th>Shooter</th>\n",
       "      <td>1.245882</td>\n",
       "    </tr>\n",
       "    <tr>\n",
       "      <th>Simulation</th>\n",
       "      <td>0.350968</td>\n",
       "    </tr>\n",
       "    <tr>\n",
       "      <th>Sports</th>\n",
       "      <td>0.703972</td>\n",
       "    </tr>\n",
       "    <tr>\n",
       "      <th>Strategy</th>\n",
       "      <td>0.180000</td>\n",
       "    </tr>\n",
       "  </tbody>\n",
       "</table>\n",
       "</div>"
      ],
      "text/plain": [
       "              sum_sales\n",
       "genre                  \n",
       "Action         0.420196\n",
       "Adventure      0.096490\n",
       "Fighting       0.441375\n",
       "Misc           0.405290\n",
       "Platform       0.576081\n",
       "Puzzle         0.186471\n",
       "Racing         0.469294\n",
       "Role-Playing   0.499623\n",
       "Shooter        1.245882\n",
       "Simulation     0.350968\n",
       "Sports         0.703972\n",
       "Strategy       0.180000"
      ]
     },
     "execution_count": 47,
     "metadata": {},
     "output_type": "execute_result"
    }
   ],
   "source": [
    "pd.pivot_table(df_filtred, values='sum_sales', index='genre')"
   ]
  },
  {
   "cell_type": "code",
   "execution_count": 48,
   "metadata": {},
   "outputs": [
    {
     "data": {
      "text/html": [
       "<div>\n",
       "<style scoped>\n",
       "    .dataframe tbody tr th:only-of-type {\n",
       "        vertical-align: middle;\n",
       "    }\n",
       "\n",
       "    .dataframe tbody tr th {\n",
       "        vertical-align: top;\n",
       "    }\n",
       "\n",
       "    .dataframe thead th {\n",
       "        text-align: right;\n",
       "    }\n",
       "</style>\n",
       "<table border=\"1\" class=\"dataframe\">\n",
       "  <thead>\n",
       "    <tr style=\"text-align: right;\">\n",
       "      <th></th>\n",
       "      <th>genre</th>\n",
       "      <th>sum_sales_count</th>\n",
       "      <th>sum_sales_median</th>\n",
       "    </tr>\n",
       "  </thead>\n",
       "  <tbody>\n",
       "    <tr>\n",
       "      <th>0</th>\n",
       "      <td>Action</td>\n",
       "      <td>766</td>\n",
       "      <td>0.110</td>\n",
       "    </tr>\n",
       "    <tr>\n",
       "      <th>7</th>\n",
       "      <td>Role-Playing</td>\n",
       "      <td>292</td>\n",
       "      <td>0.125</td>\n",
       "    </tr>\n",
       "    <tr>\n",
       "      <th>1</th>\n",
       "      <td>Adventure</td>\n",
       "      <td>245</td>\n",
       "      <td>0.030</td>\n",
       "    </tr>\n",
       "    <tr>\n",
       "      <th>10</th>\n",
       "      <td>Sports</td>\n",
       "      <td>214</td>\n",
       "      <td>0.240</td>\n",
       "    </tr>\n",
       "    <tr>\n",
       "      <th>8</th>\n",
       "      <td>Shooter</td>\n",
       "      <td>187</td>\n",
       "      <td>0.450</td>\n",
       "    </tr>\n",
       "    <tr>\n",
       "      <th>3</th>\n",
       "      <td>Misc</td>\n",
       "      <td>155</td>\n",
       "      <td>0.100</td>\n",
       "    </tr>\n",
       "    <tr>\n",
       "      <th>6</th>\n",
       "      <td>Racing</td>\n",
       "      <td>85</td>\n",
       "      <td>0.120</td>\n",
       "    </tr>\n",
       "    <tr>\n",
       "      <th>2</th>\n",
       "      <td>Fighting</td>\n",
       "      <td>80</td>\n",
       "      <td>0.125</td>\n",
       "    </tr>\n",
       "    <tr>\n",
       "      <th>4</th>\n",
       "      <td>Platform</td>\n",
       "      <td>74</td>\n",
       "      <td>0.225</td>\n",
       "    </tr>\n",
       "    <tr>\n",
       "      <th>9</th>\n",
       "      <td>Simulation</td>\n",
       "      <td>62</td>\n",
       "      <td>0.100</td>\n",
       "    </tr>\n",
       "    <tr>\n",
       "      <th>11</th>\n",
       "      <td>Strategy</td>\n",
       "      <td>56</td>\n",
       "      <td>0.080</td>\n",
       "    </tr>\n",
       "    <tr>\n",
       "      <th>5</th>\n",
       "      <td>Puzzle</td>\n",
       "      <td>17</td>\n",
       "      <td>0.060</td>\n",
       "    </tr>\n",
       "  </tbody>\n",
       "</table>\n",
       "</div>"
      ],
      "text/plain": [
       "           genre  sum_sales_count  sum_sales_median\n",
       "0         Action              766             0.110\n",
       "7   Role-Playing              292             0.125\n",
       "1      Adventure              245             0.030\n",
       "10        Sports              214             0.240\n",
       "8        Shooter              187             0.450\n",
       "3           Misc              155             0.100\n",
       "6         Racing               85             0.120\n",
       "2       Fighting               80             0.125\n",
       "4       Platform               74             0.225\n",
       "9     Simulation               62             0.100\n",
       "11      Strategy               56             0.080\n",
       "5         Puzzle               17             0.060"
      ]
     },
     "execution_count": 48,
     "metadata": {},
     "output_type": "execute_result"
    }
   ],
   "source": [
    "groupby_genre = df_filtred.groupby('genre', as_index=False).agg({'sum_sales':['count', 'median']})\n",
    "groupby_genre.columns = groupby_genre.columns.map('_'.join)\n",
    "groupby_genre = groupby_genre.rename(columns={'genre_':'genre'})\n",
    "groupby_genre.sort_values(by='sum_sales_count', ascending=False)"
   ]
  },
  {
   "cell_type": "markdown",
   "metadata": {},
   "source": [
    "Наибольшее количество проектов можно выделить среди следующих жанров: Action, Role-Playing, Adventure, Sports."
   ]
  },
  {
   "cell_type": "code",
   "execution_count": 49,
   "metadata": {},
   "outputs": [
    {
     "data": {
      "text/html": [
       "<div>\n",
       "<style scoped>\n",
       "    .dataframe tbody tr th:only-of-type {\n",
       "        vertical-align: middle;\n",
       "    }\n",
       "\n",
       "    .dataframe tbody tr th {\n",
       "        vertical-align: top;\n",
       "    }\n",
       "\n",
       "    .dataframe thead th {\n",
       "        text-align: right;\n",
       "    }\n",
       "</style>\n",
       "<table border=\"1\" class=\"dataframe\">\n",
       "  <thead>\n",
       "    <tr style=\"text-align: right;\">\n",
       "      <th></th>\n",
       "      <th>genre</th>\n",
       "      <th>sum_sales_count</th>\n",
       "      <th>sum_sales_median</th>\n",
       "    </tr>\n",
       "  </thead>\n",
       "  <tbody>\n",
       "    <tr>\n",
       "      <th>8</th>\n",
       "      <td>Shooter</td>\n",
       "      <td>187</td>\n",
       "      <td>0.450</td>\n",
       "    </tr>\n",
       "    <tr>\n",
       "      <th>10</th>\n",
       "      <td>Sports</td>\n",
       "      <td>214</td>\n",
       "      <td>0.240</td>\n",
       "    </tr>\n",
       "    <tr>\n",
       "      <th>4</th>\n",
       "      <td>Platform</td>\n",
       "      <td>74</td>\n",
       "      <td>0.225</td>\n",
       "    </tr>\n",
       "    <tr>\n",
       "      <th>7</th>\n",
       "      <td>Role-Playing</td>\n",
       "      <td>292</td>\n",
       "      <td>0.125</td>\n",
       "    </tr>\n",
       "    <tr>\n",
       "      <th>2</th>\n",
       "      <td>Fighting</td>\n",
       "      <td>80</td>\n",
       "      <td>0.125</td>\n",
       "    </tr>\n",
       "    <tr>\n",
       "      <th>6</th>\n",
       "      <td>Racing</td>\n",
       "      <td>85</td>\n",
       "      <td>0.120</td>\n",
       "    </tr>\n",
       "    <tr>\n",
       "      <th>0</th>\n",
       "      <td>Action</td>\n",
       "      <td>766</td>\n",
       "      <td>0.110</td>\n",
       "    </tr>\n",
       "    <tr>\n",
       "      <th>9</th>\n",
       "      <td>Simulation</td>\n",
       "      <td>62</td>\n",
       "      <td>0.100</td>\n",
       "    </tr>\n",
       "    <tr>\n",
       "      <th>3</th>\n",
       "      <td>Misc</td>\n",
       "      <td>155</td>\n",
       "      <td>0.100</td>\n",
       "    </tr>\n",
       "    <tr>\n",
       "      <th>11</th>\n",
       "      <td>Strategy</td>\n",
       "      <td>56</td>\n",
       "      <td>0.080</td>\n",
       "    </tr>\n",
       "    <tr>\n",
       "      <th>5</th>\n",
       "      <td>Puzzle</td>\n",
       "      <td>17</td>\n",
       "      <td>0.060</td>\n",
       "    </tr>\n",
       "    <tr>\n",
       "      <th>1</th>\n",
       "      <td>Adventure</td>\n",
       "      <td>245</td>\n",
       "      <td>0.030</td>\n",
       "    </tr>\n",
       "  </tbody>\n",
       "</table>\n",
       "</div>"
      ],
      "text/plain": [
       "           genre  sum_sales_count  sum_sales_median\n",
       "8        Shooter              187             0.450\n",
       "10        Sports              214             0.240\n",
       "4       Platform               74             0.225\n",
       "7   Role-Playing              292             0.125\n",
       "2       Fighting               80             0.125\n",
       "6         Racing               85             0.120\n",
       "0         Action              766             0.110\n",
       "9     Simulation               62             0.100\n",
       "3           Misc              155             0.100\n",
       "11      Strategy               56             0.080\n",
       "5         Puzzle               17             0.060\n",
       "1      Adventure              245             0.030"
      ]
     },
     "execution_count": 49,
     "metadata": {},
     "output_type": "execute_result"
    }
   ],
   "source": [
    "groupby_genre = groupby_genre.sort_values(by='sum_sales_median', ascending=False)\n",
    "groupby_genre"
   ]
  },
  {
   "cell_type": "markdown",
   "metadata": {},
   "source": [
    "В топ самых продаваемых жанров входят: Shooter, Sports, Platform."
   ]
  },
  {
   "cell_type": "code",
   "execution_count": 50,
   "metadata": {},
   "outputs": [
    {
     "data": {
      "image/png": "[encoded data removed]",
      "text/plain": [
       "<Figure size 432x288 with 1 Axes>"
      ]
     },
     "metadata": {
      "needs_background": "light"
     },
     "output_type": "display_data"
    }
   ],
   "source": [
    "plt.xticks(rotation=90) # повернем подписи для оси х\n",
    "ax = sns.barplot(\n",
    "    data=groupby_genre, \n",
    "    x=\"genre\", \n",
    "    y=\"sum_sales_median\"\n",
    ").set(\n",
    "    xlabel='Жанр', \n",
    "    ylabel='Количество продаж', \n",
    "    title='Популярность жанров'\n",
    ")"
   ]
  },
  {
   "cell_type": "markdown",
   "metadata": {},
   "source": [
    "Таким образом, отметим что:\n",
    "- больше всего игр продаётся среди следующих жанров: Action, Role-Playing, Adventure, Sports;\n",
    "- самыми прибыльными жанрами являются Shooter, Sports, Platform."
   ]
  },
  {
   "cell_type": "markdown",
   "metadata": {},
   "source": [
    "### Портрет пользователя для каждого региона."
   ]
  },
  {
   "cell_type": "markdown",
   "metadata": {},
   "source": [
    "#### Найдём самые популярные платформы для жителей каждого региона."
   ]
  },
  {
   "cell_type": "code",
   "execution_count": 51,
   "metadata": {},
   "outputs": [
    {
     "data": {
      "text/html": [
       "<div>\n",
       "<style scoped>\n",
       "    .dataframe tbody tr th:only-of-type {\n",
       "        vertical-align: middle;\n",
       "    }\n",
       "\n",
       "    .dataframe tbody tr th {\n",
       "        vertical-align: top;\n",
       "    }\n",
       "\n",
       "    .dataframe thead th {\n",
       "        text-align: right;\n",
       "    }\n",
       "</style>\n",
       "<table border=\"1\" class=\"dataframe\">\n",
       "  <thead>\n",
       "    <tr style=\"text-align: right;\">\n",
       "      <th></th>\n",
       "      <th>name</th>\n",
       "      <th>platform</th>\n",
       "      <th>year_of_release</th>\n",
       "      <th>genre</th>\n",
       "      <th>na_sales</th>\n",
       "      <th>eu_sales</th>\n",
       "      <th>jp_sales</th>\n",
       "      <th>other_sales</th>\n",
       "      <th>critic_score</th>\n",
       "      <th>user_score</th>\n",
       "      <th>rating</th>\n",
       "      <th>sum_sales</th>\n",
       "    </tr>\n",
       "  </thead>\n",
       "  <tbody>\n",
       "    <tr>\n",
       "      <th>16</th>\n",
       "      <td>Grand Theft Auto V</td>\n",
       "      <td>PS3</td>\n",
       "      <td>2013</td>\n",
       "      <td>Action</td>\n",
       "      <td>7.02</td>\n",
       "      <td>9.09</td>\n",
       "      <td>0.98</td>\n",
       "      <td>3.96</td>\n",
       "      <td>97.0</td>\n",
       "      <td>8.2</td>\n",
       "      <td>M</td>\n",
       "      <td>21.05</td>\n",
       "    </tr>\n",
       "    <tr>\n",
       "      <th>23</th>\n",
       "      <td>Grand Theft Auto V</td>\n",
       "      <td>X360</td>\n",
       "      <td>2013</td>\n",
       "      <td>Action</td>\n",
       "      <td>9.66</td>\n",
       "      <td>5.14</td>\n",
       "      <td>0.06</td>\n",
       "      <td>1.41</td>\n",
       "      <td>97.0</td>\n",
       "      <td>8.1</td>\n",
       "      <td>M</td>\n",
       "      <td>16.27</td>\n",
       "    </tr>\n",
       "    <tr>\n",
       "      <th>31</th>\n",
       "      <td>Call of Duty: Black Ops 3</td>\n",
       "      <td>PS4</td>\n",
       "      <td>2015</td>\n",
       "      <td>Shooter</td>\n",
       "      <td>6.03</td>\n",
       "      <td>5.86</td>\n",
       "      <td>0.36</td>\n",
       "      <td>2.38</td>\n",
       "      <td>NaN</td>\n",
       "      <td>NaN</td>\n",
       "      <td>empty</td>\n",
       "      <td>14.63</td>\n",
       "    </tr>\n",
       "    <tr>\n",
       "      <th>33</th>\n",
       "      <td>Pokemon X/Pokemon Y</td>\n",
       "      <td>3DS</td>\n",
       "      <td>2013</td>\n",
       "      <td>Role-Playing</td>\n",
       "      <td>5.28</td>\n",
       "      <td>4.19</td>\n",
       "      <td>4.35</td>\n",
       "      <td>0.78</td>\n",
       "      <td>NaN</td>\n",
       "      <td>NaN</td>\n",
       "      <td>empty</td>\n",
       "      <td>14.60</td>\n",
       "    </tr>\n",
       "    <tr>\n",
       "      <th>42</th>\n",
       "      <td>Grand Theft Auto V</td>\n",
       "      <td>PS4</td>\n",
       "      <td>2014</td>\n",
       "      <td>Action</td>\n",
       "      <td>3.96</td>\n",
       "      <td>6.31</td>\n",
       "      <td>0.38</td>\n",
       "      <td>1.97</td>\n",
       "      <td>97.0</td>\n",
       "      <td>8.3</td>\n",
       "      <td>M</td>\n",
       "      <td>12.62</td>\n",
       "    </tr>\n",
       "  </tbody>\n",
       "</table>\n",
       "</div>"
      ],
      "text/plain": [
       "                         name platform  year_of_release         genre  \\\n",
       "16         Grand Theft Auto V      PS3             2013        Action   \n",
       "23         Grand Theft Auto V     X360             2013        Action   \n",
       "31  Call of Duty: Black Ops 3      PS4             2015       Shooter   \n",
       "33        Pokemon X/Pokemon Y      3DS             2013  Role-Playing   \n",
       "42         Grand Theft Auto V      PS4             2014        Action   \n",
       "\n",
       "    na_sales  eu_sales  jp_sales  other_sales  critic_score  user_score  \\\n",
       "16      7.02      9.09      0.98         3.96          97.0         8.2   \n",
       "23      9.66      5.14      0.06         1.41          97.0         8.1   \n",
       "31      6.03      5.86      0.36         2.38           NaN         NaN   \n",
       "33      5.28      4.19      4.35         0.78           NaN         NaN   \n",
       "42      3.96      6.31      0.38         1.97          97.0         8.3   \n",
       "\n",
       "   rating  sum_sales  \n",
       "16      M      21.05  \n",
       "23      M      16.27  \n",
       "31  empty      14.63  \n",
       "33  empty      14.60  \n",
       "42      M      12.62  "
      ]
     },
     "execution_count": 51,
     "metadata": {},
     "output_type": "execute_result"
    }
   ],
   "source": [
    "df_filtred.head() # выведем первые 5 строчек датафрейма для удобства обращения к данным"
   ]
  },
  {
   "cell_type": "code",
   "execution_count": 52,
   "metadata": {},
   "outputs": [
    {
     "data": {
      "text/html": [
       "<div>\n",
       "<style scoped>\n",
       "    .dataframe tbody tr th:only-of-type {\n",
       "        vertical-align: middle;\n",
       "    }\n",
       "\n",
       "    .dataframe tbody tr th {\n",
       "        vertical-align: top;\n",
       "    }\n",
       "\n",
       "    .dataframe thead th {\n",
       "        text-align: right;\n",
       "    }\n",
       "</style>\n",
       "<table border=\"1\" class=\"dataframe\">\n",
       "  <thead>\n",
       "    <tr style=\"text-align: right;\">\n",
       "      <th></th>\n",
       "      <th>platform</th>\n",
       "      <th>na_sales</th>\n",
       "    </tr>\n",
       "  </thead>\n",
       "  <tbody>\n",
       "    <tr>\n",
       "      <th>4</th>\n",
       "      <td>PS4</td>\n",
       "      <td>108.74</td>\n",
       "    </tr>\n",
       "    <tr>\n",
       "      <th>10</th>\n",
       "      <td>XOne</td>\n",
       "      <td>93.12</td>\n",
       "    </tr>\n",
       "    <tr>\n",
       "      <th>9</th>\n",
       "      <td>X360</td>\n",
       "      <td>81.66</td>\n",
       "    </tr>\n",
       "    <tr>\n",
       "      <th>3</th>\n",
       "      <td>PS3</td>\n",
       "      <td>63.50</td>\n",
       "    </tr>\n",
       "    <tr>\n",
       "      <th>0</th>\n",
       "      <td>3DS</td>\n",
       "      <td>38.20</td>\n",
       "    </tr>\n",
       "  </tbody>\n",
       "</table>\n",
       "</div>"
      ],
      "text/plain": [
       "   platform  na_sales\n",
       "4       PS4    108.74\n",
       "10     XOne     93.12\n",
       "9      X360     81.66\n",
       "3       PS3     63.50\n",
       "0       3DS     38.20"
      ]
     },
     "execution_count": 52,
     "metadata": {},
     "output_type": "execute_result"
    }
   ],
   "source": [
    "na_platform_sales = df_filtred.groupby(['platform'], as_index=False).agg({'na_sales': 'sum'}) # сгруппируем данные по платформе,\n",
    "na_platform_sales.sort_values(by='na_sales', ascending=False).head() #посчитаем сумму продаж для региона и отсортируем результат"
   ]
  },
  {
   "cell_type": "markdown",
   "metadata": {},
   "source": [
    "Проанализировав продажи в Северной Америке, можно отметить, что самыми популярными платформами там являются: PS4, XOne, X360, PS3, 3DS."
   ]
  },
  {
   "cell_type": "code",
   "execution_count": 53,
   "metadata": {
    "scrolled": true
   },
   "outputs": [
    {
     "data": {
      "image/png": "[encoded data removed]",
      "text/plain": [
       "<Figure size 432x288 with 1 Axes>"
      ]
     },
     "metadata": {},
     "output_type": "display_data"
    }
   ],
   "source": [
    "na_platform_sales.query( # построим круговую диаграмму для продаж игр на популярных платформах в Северной Америке\n",
    "    'platform in [\"PS4\", \"XOne\", \"X360\", \"PS3\", \"3DS\"]'\n",
    ").plot(kind='pie', y='na_sales', autopct='%1.0f%%', labels=na_platform_sales.query(\n",
    "    'platform in [\"PS4\", \"XOne\", \"X360\", \"PS3\", \"3DS\"]' # передадим срез ещё и в параметр labels, для корректной подписи \n",
    ")['platform'])\n",
    "plt.show()"
   ]
  },
  {
   "cell_type": "code",
   "execution_count": 54,
   "metadata": {
    "scrolled": false
   },
   "outputs": [
    {
     "data": {
      "text/html": [
       "<div>\n",
       "<style scoped>\n",
       "    .dataframe tbody tr th:only-of-type {\n",
       "        vertical-align: middle;\n",
       "    }\n",
       "\n",
       "    .dataframe tbody tr th {\n",
       "        vertical-align: top;\n",
       "    }\n",
       "\n",
       "    .dataframe thead th {\n",
       "        text-align: right;\n",
       "    }\n",
       "</style>\n",
       "<table border=\"1\" class=\"dataframe\">\n",
       "  <thead>\n",
       "    <tr style=\"text-align: right;\">\n",
       "      <th></th>\n",
       "      <th>platform</th>\n",
       "      <th>eu_sales</th>\n",
       "    </tr>\n",
       "  </thead>\n",
       "  <tbody>\n",
       "    <tr>\n",
       "      <th>4</th>\n",
       "      <td>PS4</td>\n",
       "      <td>141.09</td>\n",
       "    </tr>\n",
       "    <tr>\n",
       "      <th>3</th>\n",
       "      <td>PS3</td>\n",
       "      <td>67.81</td>\n",
       "    </tr>\n",
       "    <tr>\n",
       "      <th>10</th>\n",
       "      <td>XOne</td>\n",
       "      <td>51.59</td>\n",
       "    </tr>\n",
       "    <tr>\n",
       "      <th>9</th>\n",
       "      <td>X360</td>\n",
       "      <td>42.52</td>\n",
       "    </tr>\n",
       "    <tr>\n",
       "      <th>0</th>\n",
       "      <td>3DS</td>\n",
       "      <td>30.96</td>\n",
       "    </tr>\n",
       "  </tbody>\n",
       "</table>\n",
       "</div>"
      ],
      "text/plain": [
       "   platform  eu_sales\n",
       "4       PS4    141.09\n",
       "3       PS3     67.81\n",
       "10     XOne     51.59\n",
       "9      X360     42.52\n",
       "0       3DS     30.96"
      ]
     },
     "execution_count": 54,
     "metadata": {},
     "output_type": "execute_result"
    }
   ],
   "source": [
    "eu_platform_sales = df_filtred.groupby(['platform'], as_index=False).agg({'eu_sales': 'sum'})\n",
    "eu_platform_sales.sort_values(by='eu_sales', ascending=False).head()"
   ]
  },
  {
   "cell_type": "markdown",
   "metadata": {},
   "source": [
    "Проанализировав продажи в Европе, можно отметить, что самыми популярными платформами там являются: PS4, PS3, XOne, X360, 3DS."
   ]
  },
  {
   "cell_type": "code",
   "execution_count": 55,
   "metadata": {},
   "outputs": [
    {
     "data": {
      "image/png": "[encoded data removed]",
      "text/plain": [
       "<Figure size 432x288 with 1 Axes>"
      ]
     },
     "metadata": {},
     "output_type": "display_data"
    }
   ],
   "source": [
    "eu_platform_sales.query( # построим круговую диаграмму для продаж игр на популярных платформах в Европе\n",
    "    'platform in [\"PS4\", \"PS3\", \"XOne\", \"X360\", \"3DS\"]'\n",
    ").plot(kind='pie', y='eu_sales', autopct='%1.0f%%', labels=eu_platform_sales.query(\n",
    "    'platform in [\"PS4\", \"PS3\", \"XOne\", \"X360\", \"3DS\"]'\n",
    ")['platform'])\n",
    "plt.show()"
   ]
  },
  {
   "cell_type": "code",
   "execution_count": 56,
   "metadata": {},
   "outputs": [
    {
     "data": {
      "text/html": [
       "<div>\n",
       "<style scoped>\n",
       "    .dataframe tbody tr th:only-of-type {\n",
       "        vertical-align: middle;\n",
       "    }\n",
       "\n",
       "    .dataframe tbody tr th {\n",
       "        vertical-align: top;\n",
       "    }\n",
       "\n",
       "    .dataframe thead th {\n",
       "        text-align: right;\n",
       "    }\n",
       "</style>\n",
       "<table border=\"1\" class=\"dataframe\">\n",
       "  <thead>\n",
       "    <tr style=\"text-align: right;\">\n",
       "      <th></th>\n",
       "      <th>platform</th>\n",
       "      <th>jp_sales</th>\n",
       "    </tr>\n",
       "  </thead>\n",
       "  <tbody>\n",
       "    <tr>\n",
       "      <th>0</th>\n",
       "      <td>3DS</td>\n",
       "      <td>67.81</td>\n",
       "    </tr>\n",
       "    <tr>\n",
       "      <th>3</th>\n",
       "      <td>PS3</td>\n",
       "      <td>23.35</td>\n",
       "    </tr>\n",
       "    <tr>\n",
       "      <th>6</th>\n",
       "      <td>PSV</td>\n",
       "      <td>18.59</td>\n",
       "    </tr>\n",
       "    <tr>\n",
       "      <th>4</th>\n",
       "      <td>PS4</td>\n",
       "      <td>15.96</td>\n",
       "    </tr>\n",
       "    <tr>\n",
       "      <th>8</th>\n",
       "      <td>WiiU</td>\n",
       "      <td>10.88</td>\n",
       "    </tr>\n",
       "  </tbody>\n",
       "</table>\n",
       "</div>"
      ],
      "text/plain": [
       "  platform  jp_sales\n",
       "0      3DS     67.81\n",
       "3      PS3     23.35\n",
       "6      PSV     18.59\n",
       "4      PS4     15.96\n",
       "8     WiiU     10.88"
      ]
     },
     "execution_count": 56,
     "metadata": {},
     "output_type": "execute_result"
    }
   ],
   "source": [
    "jp_platform_sales = df_filtred.groupby('platform', as_index=False).agg({'jp_sales': 'sum'})\n",
    "jp_platform_sales.sort_values(by='jp_sales', ascending=False).head()"
   ]
  },
  {
   "cell_type": "markdown",
   "metadata": {},
   "source": [
    "Изучив продажи в Японии, можно сказать, что самыми популярными платформами там являются: 3DS, PS3, PSV, PS4, WiiU."
   ]
  },
  {
   "cell_type": "code",
   "execution_count": 57,
   "metadata": {},
   "outputs": [
    {
     "data": {
      "image/png": "[encoded data removed]",
      "text/plain": [
       "<Figure size 432x288 with 1 Axes>"
      ]
     },
     "metadata": {},
     "output_type": "display_data"
    }
   ],
   "source": [
    "jp_platform_sales.query( # построим круговую диаграмму для продаж игр на популярных платформах в Японии\n",
    "    'platform in [\"3DS\", \"PS3\", \"PSV\", \"PS4\", \"WiiU\"]'\n",
    ").plot(kind='pie', y='jp_sales', autopct='%1.0f%%', labels=jp_platform_sales.query(\n",
    "    'platform in [\"3DS\", \"PS3\", \"PSV\", \"PS4\", \"WiiU\"]'\n",
    ")['platform'])\n",
    "plt.show()"
   ]
  },
  {
   "cell_type": "markdown",
   "metadata": {},
   "source": [
    "Изучив данные о трех регионах можно отметить, что Япония выделяется на общем фоне сильным преобладанием одного типа платформы - 3DS. Продажи игр на этой платформе составляют половину от общего для топа популярных платформ (50%). Для Европы и Северной Америки характерно распределение долей среди популярных платформ от четверти до трети общего объёма. Там самая популярная платформа PS4 приносит 42% и 28% соответсвенно."
   ]
  },
  {
   "cell_type": "markdown",
   "metadata": {},
   "source": [
    "#### Найдём самые популярные жанры для жителей каждого региона."
   ]
  },
  {
   "cell_type": "code",
   "execution_count": 58,
   "metadata": {},
   "outputs": [
    {
     "data": {
      "text/html": [
       "<div>\n",
       "<style scoped>\n",
       "    .dataframe tbody tr th:only-of-type {\n",
       "        vertical-align: middle;\n",
       "    }\n",
       "\n",
       "    .dataframe tbody tr th {\n",
       "        vertical-align: top;\n",
       "    }\n",
       "\n",
       "    .dataframe thead th {\n",
       "        text-align: right;\n",
       "    }\n",
       "</style>\n",
       "<table border=\"1\" class=\"dataframe\">\n",
       "  <thead>\n",
       "    <tr style=\"text-align: right;\">\n",
       "      <th></th>\n",
       "      <th>name</th>\n",
       "      <th>platform</th>\n",
       "      <th>year_of_release</th>\n",
       "      <th>genre</th>\n",
       "      <th>na_sales</th>\n",
       "      <th>eu_sales</th>\n",
       "      <th>jp_sales</th>\n",
       "      <th>other_sales</th>\n",
       "      <th>critic_score</th>\n",
       "      <th>user_score</th>\n",
       "      <th>rating</th>\n",
       "      <th>sum_sales</th>\n",
       "    </tr>\n",
       "  </thead>\n",
       "  <tbody>\n",
       "    <tr>\n",
       "      <th>16</th>\n",
       "      <td>Grand Theft Auto V</td>\n",
       "      <td>PS3</td>\n",
       "      <td>2013</td>\n",
       "      <td>Action</td>\n",
       "      <td>7.02</td>\n",
       "      <td>9.09</td>\n",
       "      <td>0.98</td>\n",
       "      <td>3.96</td>\n",
       "      <td>97.0</td>\n",
       "      <td>8.2</td>\n",
       "      <td>M</td>\n",
       "      <td>21.05</td>\n",
       "    </tr>\n",
       "    <tr>\n",
       "      <th>23</th>\n",
       "      <td>Grand Theft Auto V</td>\n",
       "      <td>X360</td>\n",
       "      <td>2013</td>\n",
       "      <td>Action</td>\n",
       "      <td>9.66</td>\n",
       "      <td>5.14</td>\n",
       "      <td>0.06</td>\n",
       "      <td>1.41</td>\n",
       "      <td>97.0</td>\n",
       "      <td>8.1</td>\n",
       "      <td>M</td>\n",
       "      <td>16.27</td>\n",
       "    </tr>\n",
       "    <tr>\n",
       "      <th>31</th>\n",
       "      <td>Call of Duty: Black Ops 3</td>\n",
       "      <td>PS4</td>\n",
       "      <td>2015</td>\n",
       "      <td>Shooter</td>\n",
       "      <td>6.03</td>\n",
       "      <td>5.86</td>\n",
       "      <td>0.36</td>\n",
       "      <td>2.38</td>\n",
       "      <td>NaN</td>\n",
       "      <td>NaN</td>\n",
       "      <td>empty</td>\n",
       "      <td>14.63</td>\n",
       "    </tr>\n",
       "    <tr>\n",
       "      <th>33</th>\n",
       "      <td>Pokemon X/Pokemon Y</td>\n",
       "      <td>3DS</td>\n",
       "      <td>2013</td>\n",
       "      <td>Role-Playing</td>\n",
       "      <td>5.28</td>\n",
       "      <td>4.19</td>\n",
       "      <td>4.35</td>\n",
       "      <td>0.78</td>\n",
       "      <td>NaN</td>\n",
       "      <td>NaN</td>\n",
       "      <td>empty</td>\n",
       "      <td>14.60</td>\n",
       "    </tr>\n",
       "    <tr>\n",
       "      <th>42</th>\n",
       "      <td>Grand Theft Auto V</td>\n",
       "      <td>PS4</td>\n",
       "      <td>2014</td>\n",
       "      <td>Action</td>\n",
       "      <td>3.96</td>\n",
       "      <td>6.31</td>\n",
       "      <td>0.38</td>\n",
       "      <td>1.97</td>\n",
       "      <td>97.0</td>\n",
       "      <td>8.3</td>\n",
       "      <td>M</td>\n",
       "      <td>12.62</td>\n",
       "    </tr>\n",
       "  </tbody>\n",
       "</table>\n",
       "</div>"
      ],
      "text/plain": [
       "                         name platform  year_of_release         genre  \\\n",
       "16         Grand Theft Auto V      PS3             2013        Action   \n",
       "23         Grand Theft Auto V     X360             2013        Action   \n",
       "31  Call of Duty: Black Ops 3      PS4             2015       Shooter   \n",
       "33        Pokemon X/Pokemon Y      3DS             2013  Role-Playing   \n",
       "42         Grand Theft Auto V      PS4             2014        Action   \n",
       "\n",
       "    na_sales  eu_sales  jp_sales  other_sales  critic_score  user_score  \\\n",
       "16      7.02      9.09      0.98         3.96          97.0         8.2   \n",
       "23      9.66      5.14      0.06         1.41          97.0         8.1   \n",
       "31      6.03      5.86      0.36         2.38           NaN         NaN   \n",
       "33      5.28      4.19      4.35         0.78           NaN         NaN   \n",
       "42      3.96      6.31      0.38         1.97          97.0         8.3   \n",
       "\n",
       "   rating  sum_sales  \n",
       "16      M      21.05  \n",
       "23      M      16.27  \n",
       "31  empty      14.63  \n",
       "33  empty      14.60  \n",
       "42      M      12.62  "
      ]
     },
     "execution_count": 58,
     "metadata": {},
     "output_type": "execute_result"
    }
   ],
   "source": [
    "df_filtred.head() # выведем первые 5 строчек датафрейма для удобства обращения к данным"
   ]
  },
  {
   "cell_type": "markdown",
   "metadata": {},
   "source": [
    "Аналогично предыдущему пункту, сгруппируем данные по жанру и посчитаем суммарные продажи для каждого региона отдельно. Результат отсортируем по убыванию."
   ]
  },
  {
   "cell_type": "code",
   "execution_count": 59,
   "metadata": {},
   "outputs": [
    {
     "data": {
      "text/html": [
       "<div>\n",
       "<style scoped>\n",
       "    .dataframe tbody tr th:only-of-type {\n",
       "        vertical-align: middle;\n",
       "    }\n",
       "\n",
       "    .dataframe tbody tr th {\n",
       "        vertical-align: top;\n",
       "    }\n",
       "\n",
       "    .dataframe thead th {\n",
       "        text-align: right;\n",
       "    }\n",
       "</style>\n",
       "<table border=\"1\" class=\"dataframe\">\n",
       "  <thead>\n",
       "    <tr style=\"text-align: right;\">\n",
       "      <th></th>\n",
       "      <th>genre</th>\n",
       "      <th>na_sales</th>\n",
       "    </tr>\n",
       "  </thead>\n",
       "  <tbody>\n",
       "    <tr>\n",
       "      <th>0</th>\n",
       "      <td>Action</td>\n",
       "      <td>126.05</td>\n",
       "    </tr>\n",
       "    <tr>\n",
       "      <th>8</th>\n",
       "      <td>Shooter</td>\n",
       "      <td>109.74</td>\n",
       "    </tr>\n",
       "    <tr>\n",
       "      <th>10</th>\n",
       "      <td>Sports</td>\n",
       "      <td>65.27</td>\n",
       "    </tr>\n",
       "    <tr>\n",
       "      <th>7</th>\n",
       "      <td>Role-Playing</td>\n",
       "      <td>46.40</td>\n",
       "    </tr>\n",
       "    <tr>\n",
       "      <th>3</th>\n",
       "      <td>Misc</td>\n",
       "      <td>27.49</td>\n",
       "    </tr>\n",
       "  </tbody>\n",
       "</table>\n",
       "</div>"
      ],
      "text/plain": [
       "           genre  na_sales\n",
       "0         Action    126.05\n",
       "8        Shooter    109.74\n",
       "10        Sports     65.27\n",
       "7   Role-Playing     46.40\n",
       "3           Misc     27.49"
      ]
     },
     "execution_count": 59,
     "metadata": {},
     "output_type": "execute_result"
    }
   ],
   "source": [
    "na_genre_sales = df_filtred.groupby(['genre'], as_index=False).agg({'na_sales': 'sum'})\n",
    "na_genre_sales.sort_values(by='na_sales', ascending=False).head() # найдём популярные жанры для Северной Америки"
   ]
  },
  {
   "cell_type": "code",
   "execution_count": 60,
   "metadata": {},
   "outputs": [
    {
     "data": {
      "text/html": [
       "<div>\n",
       "<style scoped>\n",
       "    .dataframe tbody tr th:only-of-type {\n",
       "        vertical-align: middle;\n",
       "    }\n",
       "\n",
       "    .dataframe tbody tr th {\n",
       "        vertical-align: top;\n",
       "    }\n",
       "\n",
       "    .dataframe thead th {\n",
       "        text-align: right;\n",
       "    }\n",
       "</style>\n",
       "<table border=\"1\" class=\"dataframe\">\n",
       "  <thead>\n",
       "    <tr style=\"text-align: right;\">\n",
       "      <th></th>\n",
       "      <th>genre</th>\n",
       "      <th>eu_sales</th>\n",
       "    </tr>\n",
       "  </thead>\n",
       "  <tbody>\n",
       "    <tr>\n",
       "      <th>0</th>\n",
       "      <td>Action</td>\n",
       "      <td>118.13</td>\n",
       "    </tr>\n",
       "    <tr>\n",
       "      <th>8</th>\n",
       "      <td>Shooter</td>\n",
       "      <td>87.86</td>\n",
       "    </tr>\n",
       "    <tr>\n",
       "      <th>10</th>\n",
       "      <td>Sports</td>\n",
       "      <td>60.52</td>\n",
       "    </tr>\n",
       "    <tr>\n",
       "      <th>7</th>\n",
       "      <td>Role-Playing</td>\n",
       "      <td>36.97</td>\n",
       "    </tr>\n",
       "    <tr>\n",
       "      <th>6</th>\n",
       "      <td>Racing</td>\n",
       "      <td>20.19</td>\n",
       "    </tr>\n",
       "  </tbody>\n",
       "</table>\n",
       "</div>"
      ],
      "text/plain": [
       "           genre  eu_sales\n",
       "0         Action    118.13\n",
       "8        Shooter     87.86\n",
       "10        Sports     60.52\n",
       "7   Role-Playing     36.97\n",
       "6         Racing     20.19"
      ]
     },
     "execution_count": 60,
     "metadata": {},
     "output_type": "execute_result"
    }
   ],
   "source": [
    "eu_genre_sales = df_filtred.groupby(['genre'], as_index=False).agg({'eu_sales': 'sum'})\n",
    "eu_genre_sales.sort_values(by='eu_sales', ascending=False).head() # найдём популярные жанры для Европы"
   ]
  },
  {
   "cell_type": "code",
   "execution_count": 61,
   "metadata": {},
   "outputs": [
    {
     "data": {
      "text/html": [
       "<div>\n",
       "<style scoped>\n",
       "    .dataframe tbody tr th:only-of-type {\n",
       "        vertical-align: middle;\n",
       "    }\n",
       "\n",
       "    .dataframe tbody tr th {\n",
       "        vertical-align: top;\n",
       "    }\n",
       "\n",
       "    .dataframe thead th {\n",
       "        text-align: right;\n",
       "    }\n",
       "</style>\n",
       "<table border=\"1\" class=\"dataframe\">\n",
       "  <thead>\n",
       "    <tr style=\"text-align: right;\">\n",
       "      <th></th>\n",
       "      <th>genre</th>\n",
       "      <th>jp_sales</th>\n",
       "    </tr>\n",
       "  </thead>\n",
       "  <tbody>\n",
       "    <tr>\n",
       "      <th>7</th>\n",
       "      <td>Role-Playing</td>\n",
       "      <td>51.04</td>\n",
       "    </tr>\n",
       "    <tr>\n",
       "      <th>0</th>\n",
       "      <td>Action</td>\n",
       "      <td>40.49</td>\n",
       "    </tr>\n",
       "    <tr>\n",
       "      <th>3</th>\n",
       "      <td>Misc</td>\n",
       "      <td>9.20</td>\n",
       "    </tr>\n",
       "    <tr>\n",
       "      <th>2</th>\n",
       "      <td>Fighting</td>\n",
       "      <td>7.65</td>\n",
       "    </tr>\n",
       "    <tr>\n",
       "      <th>8</th>\n",
       "      <td>Shooter</td>\n",
       "      <td>6.61</td>\n",
       "    </tr>\n",
       "  </tbody>\n",
       "</table>\n",
       "</div>"
      ],
      "text/plain": [
       "          genre  jp_sales\n",
       "7  Role-Playing     51.04\n",
       "0        Action     40.49\n",
       "3          Misc      9.20\n",
       "2      Fighting      7.65\n",
       "8       Shooter      6.61"
      ]
     },
     "execution_count": 61,
     "metadata": {},
     "output_type": "execute_result"
    }
   ],
   "source": [
    "jp_genre_sales = df_filtred.groupby(['genre'], as_index=False).agg({'jp_sales': 'sum'})\n",
    "jp_genre_sales.sort_values(by='jp_sales', ascending=False).head() # найдём популярные жанры для Японии"
   ]
  },
  {
   "cell_type": "markdown",
   "metadata": {},
   "source": [
    "Проанализировав данные, можно отметить, что:\n",
    "- в Северной Америке и Европе преобладают одни и те же жанры в топе продаж;\n",
    "- Япония сильно отличается от Европы и Америки специфичными жанрами, преобладающими в продажах игр, что может быть связано с культурными различиями между странами;\n",
    "- рынок Европы и Америки является более прибыльным для издателей игр."
   ]
  },
  {
   "cell_type": "markdown",
   "metadata": {},
   "source": [
    "#### Оценим влияние рейтинга ESRB на продажи на примере рынка Северной Америки."
   ]
  },
  {
   "cell_type": "code",
   "execution_count": 62,
   "metadata": {},
   "outputs": [
    {
     "data": {
      "text/html": [
       "<div>\n",
       "<style scoped>\n",
       "    .dataframe tbody tr th:only-of-type {\n",
       "        vertical-align: middle;\n",
       "    }\n",
       "\n",
       "    .dataframe tbody tr th {\n",
       "        vertical-align: top;\n",
       "    }\n",
       "\n",
       "    .dataframe thead th {\n",
       "        text-align: right;\n",
       "    }\n",
       "</style>\n",
       "<table border=\"1\" class=\"dataframe\">\n",
       "  <thead>\n",
       "    <tr style=\"text-align: right;\">\n",
       "      <th></th>\n",
       "      <th>rating</th>\n",
       "      <th>na_sales</th>\n",
       "    </tr>\n",
       "  </thead>\n",
       "  <tbody>\n",
       "    <tr>\n",
       "      <th>2</th>\n",
       "      <td>M</td>\n",
       "      <td>165.21</td>\n",
       "    </tr>\n",
       "    <tr>\n",
       "      <th>0</th>\n",
       "      <td>E</td>\n",
       "      <td>79.05</td>\n",
       "    </tr>\n",
       "    <tr>\n",
       "      <th>1</th>\n",
       "      <td>E10+</td>\n",
       "      <td>54.24</td>\n",
       "    </tr>\n",
       "    <tr>\n",
       "      <th>3</th>\n",
       "      <td>T</td>\n",
       "      <td>49.79</td>\n",
       "    </tr>\n",
       "  </tbody>\n",
       "</table>\n",
       "</div>"
      ],
      "text/plain": [
       "  rating  na_sales\n",
       "2      M    165.21\n",
       "0      E     79.05\n",
       "1   E10+     54.24\n",
       "3      T     49.79"
      ]
     },
     "execution_count": 62,
     "metadata": {},
     "output_type": "execute_result"
    }
   ],
   "source": [
    "na_rating_sales = df_filtred.query('rating!=\"empty\"').groupby(['rating'], as_index=False).agg({'na_sales': 'sum'})\n",
    "na_rating_sales.sort_values(by='na_sales', ascending=False) # с помощью среза уберем игры без рейтинга"
   ]
  },
  {
   "cell_type": "code",
   "execution_count": 63,
   "metadata": {},
   "outputs": [
    {
     "data": {
      "text/html": [
       "<div>\n",
       "<style scoped>\n",
       "    .dataframe tbody tr th:only-of-type {\n",
       "        vertical-align: middle;\n",
       "    }\n",
       "\n",
       "    .dataframe tbody tr th {\n",
       "        vertical-align: top;\n",
       "    }\n",
       "\n",
       "    .dataframe thead th {\n",
       "        text-align: right;\n",
       "    }\n",
       "</style>\n",
       "<table border=\"1\" class=\"dataframe\">\n",
       "  <thead>\n",
       "    <tr style=\"text-align: right;\">\n",
       "      <th></th>\n",
       "      <th>rating</th>\n",
       "      <th>eu_sales</th>\n",
       "    </tr>\n",
       "  </thead>\n",
       "  <tbody>\n",
       "    <tr>\n",
       "      <th>2</th>\n",
       "      <td>M</td>\n",
       "      <td>145.32</td>\n",
       "    </tr>\n",
       "    <tr>\n",
       "      <th>0</th>\n",
       "      <td>E</td>\n",
       "      <td>83.36</td>\n",
       "    </tr>\n",
       "    <tr>\n",
       "      <th>1</th>\n",
       "      <td>E10+</td>\n",
       "      <td>42.69</td>\n",
       "    </tr>\n",
       "    <tr>\n",
       "      <th>3</th>\n",
       "      <td>T</td>\n",
       "      <td>41.95</td>\n",
       "    </tr>\n",
       "  </tbody>\n",
       "</table>\n",
       "</div>"
      ],
      "text/plain": [
       "  rating  eu_sales\n",
       "2      M    145.32\n",
       "0      E     83.36\n",
       "1   E10+     42.69\n",
       "3      T     41.95"
      ]
     },
     "execution_count": 63,
     "metadata": {},
     "output_type": "execute_result"
    }
   ],
   "source": [
    "eu_rating_sales = df_filtred.query('rating!=\"empty\"').groupby(['rating'], as_index=False).agg({'eu_sales': 'sum'})\n",
    "eu_rating_sales.sort_values(by='eu_sales', ascending=False) # с помощью среза уберем игры без рейтинга"
   ]
  },
  {
   "cell_type": "code",
   "execution_count": 64,
   "metadata": {},
   "outputs": [
    {
     "data": {
      "text/html": [
       "<div>\n",
       "<style scoped>\n",
       "    .dataframe tbody tr th:only-of-type {\n",
       "        vertical-align: middle;\n",
       "    }\n",
       "\n",
       "    .dataframe tbody tr th {\n",
       "        vertical-align: top;\n",
       "    }\n",
       "\n",
       "    .dataframe thead th {\n",
       "        text-align: right;\n",
       "    }\n",
       "</style>\n",
       "<table border=\"1\" class=\"dataframe\">\n",
       "  <thead>\n",
       "    <tr style=\"text-align: right;\">\n",
       "      <th></th>\n",
       "      <th>rating</th>\n",
       "      <th>jp_sales</th>\n",
       "    </tr>\n",
       "  </thead>\n",
       "  <tbody>\n",
       "    <tr>\n",
       "      <th>3</th>\n",
       "      <td>T</td>\n",
       "      <td>20.59</td>\n",
       "    </tr>\n",
       "    <tr>\n",
       "      <th>0</th>\n",
       "      <td>E</td>\n",
       "      <td>15.14</td>\n",
       "    </tr>\n",
       "    <tr>\n",
       "      <th>2</th>\n",
       "      <td>M</td>\n",
       "      <td>14.11</td>\n",
       "    </tr>\n",
       "    <tr>\n",
       "      <th>1</th>\n",
       "      <td>E10+</td>\n",
       "      <td>5.89</td>\n",
       "    </tr>\n",
       "  </tbody>\n",
       "</table>\n",
       "</div>"
      ],
      "text/plain": [
       "  rating  jp_sales\n",
       "3      T     20.59\n",
       "0      E     15.14\n",
       "2      M     14.11\n",
       "1   E10+      5.89"
      ]
     },
     "execution_count": 64,
     "metadata": {},
     "output_type": "execute_result"
    }
   ],
   "source": [
    "jp_rating_sales = df_filtred.query('rating!=\"empty\"').groupby(['rating'], as_index=False).agg({'jp_sales': 'sum'})\n",
    "jp_rating_sales.sort_values(by='jp_sales', ascending=False) # с помощью среза уберем игры без рейтинга"
   ]
  },
  {
   "cell_type": "code",
   "execution_count": 65,
   "metadata": {},
   "outputs": [
    {
     "data": {
      "text/html": [
       "<div>\n",
       "<style scoped>\n",
       "    .dataframe tbody tr th:only-of-type {\n",
       "        vertical-align: middle;\n",
       "    }\n",
       "\n",
       "    .dataframe tbody tr th {\n",
       "        vertical-align: top;\n",
       "    }\n",
       "\n",
       "    .dataframe thead th {\n",
       "        text-align: right;\n",
       "    }\n",
       "</style>\n",
       "<table border=\"1\" class=\"dataframe\">\n",
       "  <thead>\n",
       "    <tr style=\"text-align: right;\">\n",
       "      <th></th>\n",
       "      <th>rating</th>\n",
       "      <th>other_sales</th>\n",
       "    </tr>\n",
       "  </thead>\n",
       "  <tbody>\n",
       "    <tr>\n",
       "      <th>2</th>\n",
       "      <td>M</td>\n",
       "      <td>47.04</td>\n",
       "    </tr>\n",
       "    <tr>\n",
       "      <th>0</th>\n",
       "      <td>E</td>\n",
       "      <td>22.61</td>\n",
       "    </tr>\n",
       "    <tr>\n",
       "      <th>3</th>\n",
       "      <td>T</td>\n",
       "      <td>14.29</td>\n",
       "    </tr>\n",
       "    <tr>\n",
       "      <th>1</th>\n",
       "      <td>E10+</td>\n",
       "      <td>12.57</td>\n",
       "    </tr>\n",
       "  </tbody>\n",
       "</table>\n",
       "</div>"
      ],
      "text/plain": [
       "  rating  other_sales\n",
       "2      M        47.04\n",
       "0      E        22.61\n",
       "3      T        14.29\n",
       "1   E10+        12.57"
      ]
     },
     "execution_count": 65,
     "metadata": {},
     "output_type": "execute_result"
    }
   ],
   "source": [
    "other_rating_sales = df_filtred.query('rating!=\"empty\"').groupby(['rating'], as_index=False).agg({'other_sales': 'sum'})\n",
    "other_rating_sales.sort_values(by='other_sales', ascending=False) # с помощью среза уберем игры без рейтинга"
   ]
  },
  {
   "cell_type": "markdown",
   "metadata": {},
   "source": [
    "Таким образом, можно отметить, что игры с рейтингом 18+ лидируют в топе продаж Северной Америки и Европы. Похожая ситуация наблюдается и в остальных регионах. В Японии преобладают игры рейтинга T (для лиц от 13 лет), что скорее всего связано с популярностью определенных жанров в данном регионе."
   ]
  },
  {
   "cell_type": "markdown",
   "metadata": {},
   "source": [
    "### Проверка гипотез."
   ]
  },
  {
   "cell_type": "code",
   "execution_count": 66,
   "metadata": {},
   "outputs": [
    {
     "data": {
      "text/html": [
       "<div>\n",
       "<style scoped>\n",
       "    .dataframe tbody tr th:only-of-type {\n",
       "        vertical-align: middle;\n",
       "    }\n",
       "\n",
       "    .dataframe tbody tr th {\n",
       "        vertical-align: top;\n",
       "    }\n",
       "\n",
       "    .dataframe thead th {\n",
       "        text-align: right;\n",
       "    }\n",
       "</style>\n",
       "<table border=\"1\" class=\"dataframe\">\n",
       "  <thead>\n",
       "    <tr style=\"text-align: right;\">\n",
       "      <th></th>\n",
       "      <th>name</th>\n",
       "      <th>platform</th>\n",
       "      <th>year_of_release</th>\n",
       "      <th>genre</th>\n",
       "      <th>na_sales</th>\n",
       "      <th>eu_sales</th>\n",
       "      <th>jp_sales</th>\n",
       "      <th>other_sales</th>\n",
       "      <th>critic_score</th>\n",
       "      <th>user_score</th>\n",
       "      <th>rating</th>\n",
       "      <th>sum_sales</th>\n",
       "    </tr>\n",
       "  </thead>\n",
       "  <tbody>\n",
       "    <tr>\n",
       "      <th>16</th>\n",
       "      <td>Grand Theft Auto V</td>\n",
       "      <td>PS3</td>\n",
       "      <td>2013</td>\n",
       "      <td>Action</td>\n",
       "      <td>7.02</td>\n",
       "      <td>9.09</td>\n",
       "      <td>0.98</td>\n",
       "      <td>3.96</td>\n",
       "      <td>97.0</td>\n",
       "      <td>8.2</td>\n",
       "      <td>M</td>\n",
       "      <td>21.05</td>\n",
       "    </tr>\n",
       "    <tr>\n",
       "      <th>23</th>\n",
       "      <td>Grand Theft Auto V</td>\n",
       "      <td>X360</td>\n",
       "      <td>2013</td>\n",
       "      <td>Action</td>\n",
       "      <td>9.66</td>\n",
       "      <td>5.14</td>\n",
       "      <td>0.06</td>\n",
       "      <td>1.41</td>\n",
       "      <td>97.0</td>\n",
       "      <td>8.1</td>\n",
       "      <td>M</td>\n",
       "      <td>16.27</td>\n",
       "    </tr>\n",
       "    <tr>\n",
       "      <th>31</th>\n",
       "      <td>Call of Duty: Black Ops 3</td>\n",
       "      <td>PS4</td>\n",
       "      <td>2015</td>\n",
       "      <td>Shooter</td>\n",
       "      <td>6.03</td>\n",
       "      <td>5.86</td>\n",
       "      <td>0.36</td>\n",
       "      <td>2.38</td>\n",
       "      <td>NaN</td>\n",
       "      <td>NaN</td>\n",
       "      <td>empty</td>\n",
       "      <td>14.63</td>\n",
       "    </tr>\n",
       "    <tr>\n",
       "      <th>33</th>\n",
       "      <td>Pokemon X/Pokemon Y</td>\n",
       "      <td>3DS</td>\n",
       "      <td>2013</td>\n",
       "      <td>Role-Playing</td>\n",
       "      <td>5.28</td>\n",
       "      <td>4.19</td>\n",
       "      <td>4.35</td>\n",
       "      <td>0.78</td>\n",
       "      <td>NaN</td>\n",
       "      <td>NaN</td>\n",
       "      <td>empty</td>\n",
       "      <td>14.60</td>\n",
       "    </tr>\n",
       "    <tr>\n",
       "      <th>42</th>\n",
       "      <td>Grand Theft Auto V</td>\n",
       "      <td>PS4</td>\n",
       "      <td>2014</td>\n",
       "      <td>Action</td>\n",
       "      <td>3.96</td>\n",
       "      <td>6.31</td>\n",
       "      <td>0.38</td>\n",
       "      <td>1.97</td>\n",
       "      <td>97.0</td>\n",
       "      <td>8.3</td>\n",
       "      <td>M</td>\n",
       "      <td>12.62</td>\n",
       "    </tr>\n",
       "  </tbody>\n",
       "</table>\n",
       "</div>"
      ],
      "text/plain": [
       "                         name platform  year_of_release         genre  \\\n",
       "16         Grand Theft Auto V      PS3             2013        Action   \n",
       "23         Grand Theft Auto V     X360             2013        Action   \n",
       "31  Call of Duty: Black Ops 3      PS4             2015       Shooter   \n",
       "33        Pokemon X/Pokemon Y      3DS             2013  Role-Playing   \n",
       "42         Grand Theft Auto V      PS4             2014        Action   \n",
       "\n",
       "    na_sales  eu_sales  jp_sales  other_sales  critic_score  user_score  \\\n",
       "16      7.02      9.09      0.98         3.96          97.0         8.2   \n",
       "23      9.66      5.14      0.06         1.41          97.0         8.1   \n",
       "31      6.03      5.86      0.36         2.38           NaN         NaN   \n",
       "33      5.28      4.19      4.35         0.78           NaN         NaN   \n",
       "42      3.96      6.31      0.38         1.97          97.0         8.3   \n",
       "\n",
       "   rating  sum_sales  \n",
       "16      M      21.05  \n",
       "23      M      16.27  \n",
       "31  empty      14.63  \n",
       "33  empty      14.60  \n",
       "42      M      12.62  "
      ]
     },
     "execution_count": 66,
     "metadata": {},
     "output_type": "execute_result"
    }
   ],
   "source": [
    "df_filtred.head() # выведем первые 5 строчек датафрейма для удобства обращения к данным"
   ]
  },
  {
   "cell_type": "markdown",
   "metadata": {},
   "source": [
    "#### Сравнение средних пользовательские рейтинги платформ Xbox One и PC."
   ]
  },
  {
   "cell_type": "markdown",
   "metadata": {},
   "source": [
    "Сформируем нулевую и альтернативную гипотезы."
   ]
  },
  {
   "cell_type": "markdown",
   "metadata": {},
   "source": [
    "* H0 - средние пользовательские рейтинги платформ Xbox One и PC примерно равны;\n",
    "* H1 - средние пользовательские рейтинги платформ Xbox One и PC значимо отличаются друг от друга."
   ]
  },
  {
   "cell_type": "code",
   "execution_count": 67,
   "metadata": {},
   "outputs": [],
   "source": [
    "alpha = 0.05 # уровень статистической значимости"
   ]
  },
  {
   "cell_type": "code",
   "execution_count": 68,
   "metadata": {},
   "outputs": [],
   "source": [
    "xone_rating = df_filtred.query('platform == \"XOne\"')['user_score'].dropna() # сделаем срезы по нужным платформам,\n",
    "pc_rating = df_filtred.query('platform == \"PC\"')['user_score'].dropna() # убрав nan значения"
   ]
  },
  {
   "cell_type": "markdown",
   "metadata": {},
   "source": [
    "Проверим двустороннюю гипотезу для средних двух генеральных совокупностей."
   ]
  },
  {
   "cell_type": "code",
   "execution_count": 69,
   "metadata": {},
   "outputs": [
    {
     "name": "stdout",
     "output_type": "stream",
     "text": [
      "p-значение: 0.14012658403611647\n",
      "Нет оснований отвергнуть нулевую гипотезу\n"
     ]
    }
   ],
   "source": [
    "results_1 = st.ttest_ind(xone_rating, pc_rating)\n",
    "print('p-значение:', results_1.pvalue)\n",
    "if results_1.pvalue < alpha:\n",
    "    print('Отвергаем нулевую гипотезу')\n",
    "else:\n",
    "    print('Нет оснований отвергнуть нулевую гипотезу') "
   ]
  },
  {
   "cell_type": "markdown",
   "metadata": {},
   "source": [
    "Таким образом, средние пользовательские рейтинги двух платформ действительно практически одинаковые. Убедимся в этом, посчитав среднее значение для каждой платформы."
   ]
  },
  {
   "cell_type": "code",
   "execution_count": 70,
   "metadata": {},
   "outputs": [
    {
     "name": "stdout",
     "output_type": "stream",
     "text": [
      "Средний пользовательский рейтинг игр на Xbox: 6.52\n",
      "Средний пользовательский рейтинг игр на PC: 6.27\n"
     ]
    }
   ],
   "source": [
    "mean_xone_rating = df_filtred.query('platform == \"XOne\"')['user_score'].mean() # сделаем срезы по нужным платформам\n",
    "mean_pc_rating = df_filtred.query('platform == \"PC\"')['user_score'].mean() # и найдём средние рейтинги игр для них\n",
    "print(f'Средний пользовательский рейтинг игр на Xbox: {mean_xone_rating:.2f}')\n",
    "print(f'Средний пользовательский рейтинг игр на PC: {mean_pc_rating:.2f}')"
   ]
  },
  {
   "cell_type": "markdown",
   "metadata": {},
   "source": [
    "#### Сравнение средних пользовательских рейтингов жанров Action и Sports."
   ]
  },
  {
   "cell_type": "markdown",
   "metadata": {},
   "source": [
    "Сформируем нулевую и альтернативную гипотезы."
   ]
  },
  {
   "cell_type": "markdown",
   "metadata": {},
   "source": [
    "* H0 - средние пользовательские рейтинги жанров Action и Sports значимо различаются;\n",
    "* H1 - средние пользовательские рейтинги жанров Action и Sports не различаются значимо."
   ]
  },
  {
   "cell_type": "code",
   "execution_count": 71,
   "metadata": {},
   "outputs": [],
   "source": [
    "action_rating = df_filtred.query('genre == \"Action\"')['user_score'].dropna() # сделаем срезы по нужным жанрам,\n",
    "sports_rating = df_filtred.query('genre == \"Sports\"')['user_score'].dropna() # убрав nan значения"
   ]
  },
  {
   "cell_type": "markdown",
   "metadata": {},
   "source": [
    "Проверим двустороннюю гипотезу для средних двух генеральных совокупностей."
   ]
  },
  {
   "cell_type": "code",
   "execution_count": 72,
   "metadata": {},
   "outputs": [
    {
     "name": "stdout",
     "output_type": "stream",
     "text": [
      "p-значение: 1.0517832389140023e-27\n",
      "Отвергаем нулевую гипотезу\n"
     ]
    }
   ],
   "source": [
    "results_2 = st.ttest_ind(action_rating, sports_rating)\n",
    "print('p-значение:', results_2.pvalue)\n",
    "if results_2.pvalue < alpha:\n",
    "    print('Отвергаем нулевую гипотезу')\n",
    "else:\n",
    "    print('Нет оснований отвергнуть нулевую гипотезу') "
   ]
  },
  {
   "cell_type": "markdown",
   "metadata": {},
   "source": [
    "Таким образом, средние пользовательские рейтинги для двух жанров значимо различаются друг от друга. Проверим это, посчитав среднее значение для каждого жанра."
   ]
  },
  {
   "cell_type": "code",
   "execution_count": 73,
   "metadata": {},
   "outputs": [
    {
     "name": "stdout",
     "output_type": "stream",
     "text": [
      "Средний пользовательский рейтинг игр жанра Action: 6.84\n",
      "Средний пользовательский рейтинг игр жанра Sports: 5.24\n"
     ]
    }
   ],
   "source": [
    "mean_action_rating = df_filtred.query('genre == \"Action\"')['user_score'].mean() # сделаем срезы по нужным платформам\n",
    "mean_sports_rating = df_filtred.query('genre == \"Sports\"')['user_score'].mean() # и найдём средние рейтинги игр для них\n",
    "print(f'Средний пользовательский рейтинг игр жанра Action: {mean_action_rating:.2f}')\n",
    "print(f'Средний пользовательский рейтинг игр жанра Sports: {mean_sports_rating:.2f}')"
   ]
  },
  {
   "cell_type": "markdown",
   "metadata": {},
   "source": [
    "*Примечание:*\n",
    "- при выдвижении гипотез для данных тестов мы охватывали всё пространство исходов. Так, для первого случая, нулевая гипотеза проверяла конкретный исход, а альтернативная - исходы большего и меньшего значений рейтинга платформ. Во втором случае - наоборот, нулевая гипотеза проверяла основной объём исходов, а альтернативная - конкретный.\n",
    "- для проверки гипотез был выбран двухвыборочный t-тест для независимых выборок, так как данные не претерпевали изменений."
   ]
  },
  {
   "cell_type": "markdown",
   "metadata": {},
   "source": [
    "### Выводы"
   ]
  },
  {
   "cell_type": "markdown",
   "metadata": {},
   "source": [
    "В данной работе было проведено исследование продаж видеоигр в интернет-магазине «Стримчик». Произведена загрузка полученного датасета на 16715 строк, его предобработка и последующий анализ. \n",
    "\n",
    "В результате анализа были выявлены следующие закономерности:\n",
    "- самые популярные платформы по всем регионам - PS4, XOne, 3DS, PC;\n",
    "- новые платформы появляются и исчезают примерно раз в 9-11 лет;\n",
    "- наибольшие продажи имею платформы - PS4, PS3, XOne, 3DS, X360;\n",
    "- за последний рассмотренный год продажи по всем платформам снизились примерно одинаково. Тем не менее, до 2016 года, наблюдался рост продаж на новых платформах: PS4, XOne. Их можно назвать наиболее преспективными;\n",
    "- зависимость продаж от оценок критиков или пользователей незначительна, либо равна нулю;\n",
    "- наибольшее количество проектов можно выделить среди следующих жанров: Action, Role-Playing, Adventure, Sports;\n",
    "- в топ самых продаваемых жанров входят: Action, Shooter, Role-Playing, Sports;\n",
    "- Япония выделяется на общем фоне среди других регионов сильным преобладанием одного типа платформы - 3DS (50% продаж), в Европе и Северной Америке лидируют playstation и xbox четвертого и третьего поколений;\n",
    "- Япония сильно отличается от Европы и Америки специфичными жанрами, преобладающими в продажах игр, что может быть связано с культурными различиями между странами;\n",
    "- рынок Европы и Америки является более прибыльным для издателей игр;\n",
    "- выявлено, что игры с рейтингом 18+ лидируют в топе продаж в большинстве регионов, кроме Японии (там лидирует рейтинг 13+);\n",
    "\n",
    "На завершающем этапе были сформулированы 2 гипотезы о равенстве рейтингов игр на двух платформах и в двух выбранных жанрах. После проведенного анализа, отметим, что:\n",
    "* средние пользовательские рейтинги двух платформ (Xbox One и PC) действительно практически одинаковые;\n",
    "* средние пользовательские рейтинги для двух жанров (Action и Sports) значимо различаются друг от друга.\n",
    "\n",
    "Подводя итог, отметим, что для успешного планирования рекламной компании на 2017-й год необходимо учитывать платформу, для которой будет рекламироваться игра, стоит выбрать популярный жанр опираясь на региональные особенности продаж (для большинства регионов в продажах лидируют игры с рейтингом 18+ в жанрах Action, Shooter, Sports) и количество платформодержателей."
   ]
  }
 ],
 "metadata": {
  "ExecuteTimeLog": [
   {
    "duration": 50,
    "start_time": "2024-05-06T19:42:27.621Z"
   },
   {
    "duration": 1342,
    "start_time": "2024-05-06T19:42:32.257Z"
   },
   {
    "duration": 194,
    "start_time": "2024-05-06T19:42:33.601Z"
   },
   {
    "duration": 20,
    "start_time": "2024-05-06T19:43:09.330Z"
   },
   {
    "duration": 15,
    "start_time": "2024-05-06T19:43:33.483Z"
   },
   {
    "duration": 1346,
    "start_time": "2024-05-07T18:04:37.553Z"
   },
   {
    "duration": 113,
    "start_time": "2024-05-07T18:04:38.901Z"
   },
   {
    "duration": 19,
    "start_time": "2024-05-07T18:04:39.016Z"
   },
   {
    "duration": 32,
    "start_time": "2024-05-07T18:04:39.037Z"
   },
   {
    "duration": 3,
    "start_time": "2024-05-07T18:12:02.673Z"
   },
   {
    "duration": 5,
    "start_time": "2024-05-07T18:12:19.266Z"
   },
   {
    "duration": 101,
    "start_time": "2024-05-07T18:17:11.508Z"
   },
   {
    "duration": 12,
    "start_time": "2024-05-07T18:17:52.269Z"
   },
   {
    "duration": 17,
    "start_time": "2024-05-07T18:18:11.437Z"
   },
   {
    "duration": 18,
    "start_time": "2024-05-07T18:18:24.390Z"
   },
   {
    "duration": 3,
    "start_time": "2024-05-07T18:24:26.713Z"
   },
   {
    "duration": 17,
    "start_time": "2024-05-07T18:29:24.889Z"
   },
   {
    "duration": 15,
    "start_time": "2024-05-07T18:29:32.547Z"
   },
   {
    "duration": 3,
    "start_time": "2024-05-07T18:32:30.255Z"
   },
   {
    "duration": 2,
    "start_time": "2024-05-07T18:32:32.048Z"
   },
   {
    "duration": 270,
    "start_time": "2024-05-07T18:32:33.392Z"
   },
   {
    "duration": 3,
    "start_time": "2024-05-07T18:38:56.781Z"
   },
   {
    "duration": 55,
    "start_time": "2024-05-07T18:39:09.629Z"
   },
   {
    "duration": 662,
    "start_time": "2024-05-07T18:39:42.743Z"
   },
   {
    "duration": 1160,
    "start_time": "2024-05-07T18:51:22.139Z"
   },
   {
    "duration": 56,
    "start_time": "2024-05-07T18:51:23.301Z"
   },
   {
    "duration": 21,
    "start_time": "2024-05-07T18:51:23.358Z"
   },
   {
    "duration": 19,
    "start_time": "2024-05-07T18:51:23.381Z"
   },
   {
    "duration": 6,
    "start_time": "2024-05-07T18:51:23.403Z"
   },
   {
    "duration": 18,
    "start_time": "2024-05-07T18:51:23.411Z"
   },
   {
    "duration": 5,
    "start_time": "2024-05-07T19:00:52.003Z"
   },
   {
    "duration": 14,
    "start_time": "2024-05-07T19:01:02.972Z"
   },
   {
    "duration": 99,
    "start_time": "2024-05-07T19:16:25.944Z"
   },
   {
    "duration": 5,
    "start_time": "2024-05-07T19:19:24.934Z"
   },
   {
    "duration": 17,
    "start_time": "2024-05-07T19:24:18.697Z"
   },
   {
    "duration": 6,
    "start_time": "2024-05-07T19:29:02.084Z"
   },
   {
    "duration": 5,
    "start_time": "2024-05-07T19:29:07.261Z"
   },
   {
    "duration": 1129,
    "start_time": "2024-05-08T16:11:23.707Z"
   },
   {
    "duration": 190,
    "start_time": "2024-05-08T16:11:24.838Z"
   },
   {
    "duration": 16,
    "start_time": "2024-05-08T16:11:25.030Z"
   },
   {
    "duration": 13,
    "start_time": "2024-05-08T16:11:25.047Z"
   },
   {
    "duration": 7,
    "start_time": "2024-05-08T16:11:25.061Z"
   },
   {
    "duration": 12,
    "start_time": "2024-05-08T16:11:25.070Z"
   },
   {
    "duration": 104,
    "start_time": "2024-05-08T16:11:25.083Z"
   },
   {
    "duration": 0,
    "start_time": "2024-05-08T16:11:25.188Z"
   },
   {
    "duration": 7,
    "start_time": "2024-05-08T16:30:54.117Z"
   },
   {
    "duration": 6,
    "start_time": "2024-05-08T16:31:35.719Z"
   },
   {
    "duration": 4,
    "start_time": "2024-05-08T16:32:28.594Z"
   },
   {
    "duration": 4,
    "start_time": "2024-05-08T16:32:34.426Z"
   },
   {
    "duration": 5,
    "start_time": "2024-05-08T16:49:00.433Z"
   },
   {
    "duration": 3,
    "start_time": "2024-05-08T16:52:41.917Z"
   },
   {
    "duration": 3,
    "start_time": "2024-05-08T16:52:58.791Z"
   },
   {
    "duration": 64,
    "start_time": "2024-05-08T16:59:43.500Z"
   },
   {
    "duration": 67,
    "start_time": "2024-05-08T16:59:55.670Z"
   },
   {
    "duration": 68,
    "start_time": "2024-05-08T17:00:11.223Z"
   },
   {
    "duration": 70,
    "start_time": "2024-05-08T17:00:15.535Z"
   },
   {
    "duration": 7,
    "start_time": "2024-05-08T17:00:38.592Z"
   },
   {
    "duration": 3,
    "start_time": "2024-05-08T17:00:55.385Z"
   },
   {
    "duration": 4,
    "start_time": "2024-05-08T17:01:22.793Z"
   },
   {
    "duration": 7,
    "start_time": "2024-05-08T17:01:48.370Z"
   },
   {
    "duration": 5,
    "start_time": "2024-05-08T17:01:49.458Z"
   },
   {
    "duration": 4,
    "start_time": "2024-05-08T17:30:55.507Z"
   },
   {
    "duration": 3,
    "start_time": "2024-05-08T17:32:33.567Z"
   },
   {
    "duration": 78,
    "start_time": "2024-05-08T17:32:35.798Z"
   },
   {
    "duration": 5,
    "start_time": "2024-05-08T17:36:53.976Z"
   },
   {
    "duration": 7,
    "start_time": "2024-05-08T17:38:54.213Z"
   },
   {
    "duration": 5,
    "start_time": "2024-05-08T17:38:59.686Z"
   },
   {
    "duration": 5,
    "start_time": "2024-05-08T17:39:09.590Z"
   },
   {
    "duration": 7,
    "start_time": "2024-05-08T17:39:37.911Z"
   },
   {
    "duration": 5,
    "start_time": "2024-05-08T17:40:03.910Z"
   },
   {
    "duration": 39,
    "start_time": "2024-05-08T17:45:39.851Z"
   },
   {
    "duration": 18,
    "start_time": "2024-05-08T17:49:05.912Z"
   },
   {
    "duration": 3,
    "start_time": "2024-05-08T17:49:41.253Z"
   },
   {
    "duration": 5,
    "start_time": "2024-05-08T17:49:48.053Z"
   },
   {
    "duration": 6,
    "start_time": "2024-05-08T17:53:22.581Z"
   },
   {
    "duration": 10,
    "start_time": "2024-05-08T17:53:38.604Z"
   },
   {
    "duration": 10,
    "start_time": "2024-05-08T17:54:06.974Z"
   },
   {
    "duration": 7,
    "start_time": "2024-05-08T17:56:22.531Z"
   },
   {
    "duration": 7,
    "start_time": "2024-05-08T17:56:55.949Z"
   },
   {
    "duration": 4,
    "start_time": "2024-05-08T18:19:06.958Z"
   },
   {
    "duration": 5,
    "start_time": "2024-05-08T18:19:25.974Z"
   },
   {
    "duration": 15,
    "start_time": "2024-05-08T18:27:25.544Z"
   },
   {
    "duration": 13,
    "start_time": "2024-05-08T18:28:47.437Z"
   },
   {
    "duration": 985,
    "start_time": "2024-05-08T18:42:46.543Z"
   },
   {
    "duration": 50,
    "start_time": "2024-05-08T18:42:47.530Z"
   },
   {
    "duration": 16,
    "start_time": "2024-05-08T18:42:47.581Z"
   },
   {
    "duration": 11,
    "start_time": "2024-05-08T18:42:47.598Z"
   },
   {
    "duration": 4,
    "start_time": "2024-05-08T18:42:47.611Z"
   },
   {
    "duration": 4,
    "start_time": "2024-05-08T18:42:47.626Z"
   },
   {
    "duration": 11,
    "start_time": "2024-05-08T18:42:47.631Z"
   },
   {
    "duration": 10,
    "start_time": "2024-05-08T18:42:47.643Z"
   },
   {
    "duration": 29,
    "start_time": "2024-05-08T18:42:47.655Z"
   },
   {
    "duration": 4,
    "start_time": "2024-05-08T18:42:47.686Z"
   },
   {
    "duration": 8,
    "start_time": "2024-05-08T18:42:47.691Z"
   },
   {
    "duration": 17,
    "start_time": "2024-05-08T18:42:47.700Z"
   },
   {
    "duration": 15,
    "start_time": "2024-05-08T18:42:47.718Z"
   },
   {
    "duration": 18,
    "start_time": "2024-05-08T18:42:47.735Z"
   },
   {
    "duration": 16,
    "start_time": "2024-05-08T18:42:47.755Z"
   },
   {
    "duration": 1206,
    "start_time": "2024-05-09T08:10:42.147Z"
   },
   {
    "duration": 128,
    "start_time": "2024-05-09T08:10:43.355Z"
   },
   {
    "duration": 24,
    "start_time": "2024-05-09T08:10:43.485Z"
   },
   {
    "duration": 17,
    "start_time": "2024-05-09T08:10:43.510Z"
   },
   {
    "duration": 6,
    "start_time": "2024-05-09T08:10:43.529Z"
   },
   {
    "duration": 10,
    "start_time": "2024-05-09T08:10:43.536Z"
   },
   {
    "duration": 14,
    "start_time": "2024-05-09T08:10:43.547Z"
   },
   {
    "duration": 35,
    "start_time": "2024-05-09T08:10:43.563Z"
   },
   {
    "duration": 11,
    "start_time": "2024-05-09T08:10:43.599Z"
   },
   {
    "duration": 11,
    "start_time": "2024-05-09T08:10:43.612Z"
   },
   {
    "duration": 6,
    "start_time": "2024-05-09T08:10:43.624Z"
   },
   {
    "duration": 21,
    "start_time": "2024-05-09T08:10:43.631Z"
   },
   {
    "duration": 5,
    "start_time": "2024-05-09T08:10:43.653Z"
   },
   {
    "duration": 6,
    "start_time": "2024-05-09T08:10:43.660Z"
   },
   {
    "duration": 15,
    "start_time": "2024-05-09T08:10:43.667Z"
   },
   {
    "duration": 9,
    "start_time": "2024-05-09T08:29:25.130Z"
   },
   {
    "duration": 5,
    "start_time": "2024-05-09T08:48:49.110Z"
   },
   {
    "duration": 33,
    "start_time": "2024-05-09T08:53:31.102Z"
   },
   {
    "duration": 21,
    "start_time": "2024-05-09T08:54:36.584Z"
   },
   {
    "duration": 35,
    "start_time": "2024-05-09T08:56:18.159Z"
   },
   {
    "duration": 26,
    "start_time": "2024-05-09T09:15:01.876Z"
   },
   {
    "duration": 19,
    "start_time": "2024-05-09T09:15:42.703Z"
   },
   {
    "duration": 19,
    "start_time": "2024-05-09T09:20:30.962Z"
   },
   {
    "duration": 89,
    "start_time": "2024-05-09T09:25:59.058Z"
   },
   {
    "duration": 14,
    "start_time": "2024-05-09T09:33:45.965Z"
   },
   {
    "duration": 15,
    "start_time": "2024-05-09T09:35:19.256Z"
   },
   {
    "duration": 11,
    "start_time": "2024-05-09T09:37:33.427Z"
   },
   {
    "duration": 10,
    "start_time": "2024-05-09T09:39:04.410Z"
   },
   {
    "duration": 13,
    "start_time": "2024-05-09T09:39:27.578Z"
   },
   {
    "duration": 11,
    "start_time": "2024-05-09T09:40:00.299Z"
   },
   {
    "duration": 6,
    "start_time": "2024-05-09T09:40:35.467Z"
   },
   {
    "duration": 12,
    "start_time": "2024-05-09T09:46:35.912Z"
   },
   {
    "duration": 15,
    "start_time": "2024-05-09T09:49:00.550Z"
   },
   {
    "duration": 18,
    "start_time": "2024-05-09T09:49:30.302Z"
   },
   {
    "duration": 15,
    "start_time": "2024-05-09T09:50:33.409Z"
   },
   {
    "duration": 12,
    "start_time": "2024-05-09T09:50:56.897Z"
   },
   {
    "duration": 156,
    "start_time": "2024-05-09T10:18:59.808Z"
   },
   {
    "duration": 666,
    "start_time": "2024-05-09T10:38:20.170Z"
   },
   {
    "duration": 0,
    "start_time": "2024-05-09T10:38:20.837Z"
   },
   {
    "duration": 8,
    "start_time": "2024-05-09T10:38:21.000Z"
   },
   {
    "duration": 666,
    "start_time": "2024-05-09T10:39:32.500Z"
   },
   {
    "duration": 46,
    "start_time": "2024-05-09T10:41:51.495Z"
   },
   {
    "duration": 45,
    "start_time": "2024-05-09T10:42:30.586Z"
   },
   {
    "duration": 101,
    "start_time": "2024-05-09T10:42:57.955Z"
   },
   {
    "duration": 29,
    "start_time": "2024-05-09T10:43:35.373Z"
   },
   {
    "duration": 5,
    "start_time": "2024-05-09T10:43:41.660Z"
   },
   {
    "duration": 12,
    "start_time": "2024-05-09T10:43:45.268Z"
   },
   {
    "duration": 9,
    "start_time": "2024-05-09T10:44:19.207Z"
   },
   {
    "duration": 597,
    "start_time": "2024-05-09T10:44:24.614Z"
   },
   {
    "duration": 20,
    "start_time": "2024-05-09T10:44:51.368Z"
   },
   {
    "duration": 8,
    "start_time": "2024-05-09T10:45:02.215Z"
   },
   {
    "duration": 10,
    "start_time": "2024-05-09T10:45:02.583Z"
   },
   {
    "duration": 16,
    "start_time": "2024-05-09T10:45:03.448Z"
   },
   {
    "duration": 722,
    "start_time": "2024-05-09T10:45:12.744Z"
   },
   {
    "duration": 28,
    "start_time": "2024-05-09T10:51:29.718Z"
   },
   {
    "duration": 18,
    "start_time": "2024-05-09T10:51:53.526Z"
   },
   {
    "duration": 18,
    "start_time": "2024-05-09T10:54:20.868Z"
   },
   {
    "duration": 20,
    "start_time": "2024-05-09T10:54:41.811Z"
   },
   {
    "duration": 18,
    "start_time": "2024-05-09T10:56:16.528Z"
   },
   {
    "duration": 20,
    "start_time": "2024-05-09T10:56:38.241Z"
   },
   {
    "duration": 21,
    "start_time": "2024-05-09T10:56:47.296Z"
   },
   {
    "duration": 19,
    "start_time": "2024-05-09T10:57:06.322Z"
   },
   {
    "duration": 19,
    "start_time": "2024-05-09T10:57:32.818Z"
   },
   {
    "duration": 4,
    "start_time": "2024-05-09T11:11:22.041Z"
   },
   {
    "duration": 19,
    "start_time": "2024-05-09T11:18:51.610Z"
   },
   {
    "duration": 14,
    "start_time": "2024-05-09T11:18:58.954Z"
   },
   {
    "duration": 4,
    "start_time": "2024-05-09T11:19:59.908Z"
   },
   {
    "duration": 784,
    "start_time": "2024-05-09T11:20:04.980Z"
   },
   {
    "duration": 19,
    "start_time": "2024-05-09T11:21:38.488Z"
   },
   {
    "duration": 11,
    "start_time": "2024-05-09T11:21:51.096Z"
   },
   {
    "duration": 4,
    "start_time": "2024-05-09T11:21:54.768Z"
   },
   {
    "duration": 6,
    "start_time": "2024-05-09T11:21:56.785Z"
   },
   {
    "duration": 48,
    "start_time": "2024-05-09T11:21:58.840Z"
   },
   {
    "duration": 7,
    "start_time": "2024-05-09T11:21:59.208Z"
   },
   {
    "duration": 3,
    "start_time": "2024-05-09T11:22:22.737Z"
   },
   {
    "duration": 193,
    "start_time": "2024-05-09T11:22:25.234Z"
   },
   {
    "duration": 21,
    "start_time": "2024-05-09T11:29:02.219Z"
   },
   {
    "duration": 21,
    "start_time": "2024-05-09T11:29:11.946Z"
   },
   {
    "duration": 1394,
    "start_time": "2024-05-09T15:29:29.714Z"
   },
   {
    "duration": 209,
    "start_time": "2024-05-09T15:29:31.110Z"
   },
   {
    "duration": 20,
    "start_time": "2024-05-09T15:29:31.321Z"
   },
   {
    "duration": 35,
    "start_time": "2024-05-09T15:29:31.343Z"
   },
   {
    "duration": 45,
    "start_time": "2024-05-09T15:29:31.381Z"
   },
   {
    "duration": 60,
    "start_time": "2024-05-09T15:29:31.428Z"
   },
   {
    "duration": 30,
    "start_time": "2024-05-09T15:29:31.490Z"
   },
   {
    "duration": 76,
    "start_time": "2024-05-09T15:29:31.521Z"
   },
   {
    "duration": 85,
    "start_time": "2024-05-09T15:29:31.599Z"
   },
   {
    "duration": 33,
    "start_time": "2024-05-09T15:29:31.686Z"
   },
   {
    "duration": 31,
    "start_time": "2024-05-09T15:29:31.720Z"
   },
   {
    "duration": 70,
    "start_time": "2024-05-09T15:29:31.753Z"
   },
   {
    "duration": 91,
    "start_time": "2024-05-09T15:29:31.825Z"
   },
   {
    "duration": 30,
    "start_time": "2024-05-09T15:29:31.919Z"
   },
   {
    "duration": 40,
    "start_time": "2024-05-09T15:29:31.951Z"
   },
   {
    "duration": 48,
    "start_time": "2024-05-09T15:29:31.993Z"
   },
   {
    "duration": 67,
    "start_time": "2024-05-09T15:29:32.043Z"
   },
   {
    "duration": 48,
    "start_time": "2024-05-09T15:29:32.111Z"
   },
   {
    "duration": 35,
    "start_time": "2024-05-09T15:29:32.161Z"
   },
   {
    "duration": 19,
    "start_time": "2024-05-09T15:29:32.198Z"
   },
   {
    "duration": 11,
    "start_time": "2024-05-09T15:29:32.218Z"
   },
   {
    "duration": 12,
    "start_time": "2024-05-09T15:29:32.230Z"
   },
   {
    "duration": 329,
    "start_time": "2024-05-09T15:29:32.243Z"
   },
   {
    "duration": 0,
    "start_time": "2024-05-09T15:29:32.580Z"
   },
   {
    "duration": 562,
    "start_time": "2024-05-09T15:37:11.886Z"
   },
   {
    "duration": 24,
    "start_time": "2024-05-09T15:43:58.342Z"
   },
   {
    "duration": 162,
    "start_time": "2024-05-09T15:44:15.552Z"
   },
   {
    "duration": 127,
    "start_time": "2024-05-09T15:44:43.001Z"
   },
   {
    "duration": 519,
    "start_time": "2024-05-09T15:45:09.379Z"
   },
   {
    "duration": 487,
    "start_time": "2024-05-09T15:45:49.755Z"
   },
   {
    "duration": 638,
    "start_time": "2024-05-09T15:46:05.348Z"
   },
   {
    "duration": 4010,
    "start_time": "2024-05-09T15:47:55.752Z"
   },
   {
    "duration": 226,
    "start_time": "2024-05-09T15:51:17.759Z"
   },
   {
    "duration": 748,
    "start_time": "2024-05-09T15:51:36.968Z"
   },
   {
    "duration": 939,
    "start_time": "2024-05-09T15:52:17.354Z"
   },
   {
    "duration": 862,
    "start_time": "2024-05-09T15:59:42.993Z"
   },
   {
    "duration": 976,
    "start_time": "2024-05-09T15:59:55.474Z"
   },
   {
    "duration": 873,
    "start_time": "2024-05-09T16:00:03.786Z"
   },
   {
    "duration": 169,
    "start_time": "2024-05-09T16:02:53.911Z"
   },
   {
    "duration": 3220,
    "start_time": "2024-05-09T16:08:02.996Z"
   },
   {
    "duration": 9,
    "start_time": "2024-05-09T16:12:35.037Z"
   },
   {
    "duration": 1719,
    "start_time": "2024-05-09T16:13:05.455Z"
   },
   {
    "duration": 292,
    "start_time": "2024-05-09T16:13:38.776Z"
   },
   {
    "duration": 114,
    "start_time": "2024-05-09T16:21:25.722Z"
   },
   {
    "duration": 2771,
    "start_time": "2024-05-09T16:21:37.281Z"
   },
   {
    "duration": 294,
    "start_time": "2024-05-09T16:23:48.991Z"
   },
   {
    "duration": 313,
    "start_time": "2024-05-09T16:24:12.703Z"
   },
   {
    "duration": 294,
    "start_time": "2024-05-09T16:24:18.751Z"
   },
   {
    "duration": 315,
    "start_time": "2024-05-09T16:24:25.583Z"
   },
   {
    "duration": 308,
    "start_time": "2024-05-09T16:25:41.458Z"
   },
   {
    "duration": 115,
    "start_time": "2024-05-09T16:46:41.311Z"
   },
   {
    "duration": 25826,
    "start_time": "2024-05-09T16:47:12.080Z"
   },
   {
    "duration": 25754,
    "start_time": "2024-05-09T16:49:37.612Z"
   },
   {
    "duration": 772,
    "start_time": "2024-05-09T16:50:08.534Z"
   },
   {
    "duration": 136,
    "start_time": "2024-05-09T16:57:16.614Z"
   },
   {
    "duration": 2664,
    "start_time": "2024-05-09T16:57:25.623Z"
   },
   {
    "duration": 2593,
    "start_time": "2024-05-09T16:59:28.050Z"
   },
   {
    "duration": 12,
    "start_time": "2024-05-09T17:00:38.156Z"
   },
   {
    "duration": 2655,
    "start_time": "2024-05-09T17:01:24.077Z"
   },
   {
    "duration": 733,
    "start_time": "2024-05-09T17:01:38.597Z"
   },
   {
    "duration": 10,
    "start_time": "2024-05-09T17:03:44.193Z"
   },
   {
    "duration": 83,
    "start_time": "2024-05-09T17:04:57.946Z"
   },
   {
    "duration": 512,
    "start_time": "2024-05-09T17:05:04.715Z"
   },
   {
    "duration": 76,
    "start_time": "2024-05-09T17:23:08.079Z"
   },
   {
    "duration": 606,
    "start_time": "2024-05-09T18:18:50.732Z"
   },
   {
    "duration": 505,
    "start_time": "2024-05-09T18:19:13.884Z"
   },
   {
    "duration": 354,
    "start_time": "2024-05-09T18:21:51.817Z"
   },
   {
    "duration": 367,
    "start_time": "2024-05-09T18:22:54.923Z"
   },
   {
    "duration": 251,
    "start_time": "2024-05-09T18:23:44.430Z"
   },
   {
    "duration": 351,
    "start_time": "2024-05-09T18:24:50.664Z"
   },
   {
    "duration": 180,
    "start_time": "2024-05-09T18:26:31.428Z"
   },
   {
    "duration": 358,
    "start_time": "2024-05-09T18:27:41.534Z"
   },
   {
    "duration": 1609,
    "start_time": "2024-05-10T10:07:47.838Z"
   },
   {
    "duration": 218,
    "start_time": "2024-05-10T10:07:49.450Z"
   },
   {
    "duration": 32,
    "start_time": "2024-05-10T10:07:49.671Z"
   },
   {
    "duration": 24,
    "start_time": "2024-05-10T10:07:49.705Z"
   },
   {
    "duration": 18,
    "start_time": "2024-05-10T10:07:49.732Z"
   },
   {
    "duration": 47,
    "start_time": "2024-05-10T10:07:49.752Z"
   },
   {
    "duration": 5,
    "start_time": "2024-05-10T10:07:49.802Z"
   },
   {
    "duration": 30,
    "start_time": "2024-05-10T10:07:49.809Z"
   },
   {
    "duration": 20,
    "start_time": "2024-05-10T10:07:49.841Z"
   },
   {
    "duration": 42,
    "start_time": "2024-05-10T10:07:49.863Z"
   },
   {
    "duration": 19,
    "start_time": "2024-05-10T10:07:49.907Z"
   },
   {
    "duration": 21,
    "start_time": "2024-05-10T10:07:49.928Z"
   },
   {
    "duration": 59,
    "start_time": "2024-05-10T10:07:49.951Z"
   },
   {
    "duration": 104,
    "start_time": "2024-05-10T10:07:50.013Z"
   },
   {
    "duration": 18,
    "start_time": "2024-05-10T10:07:50.119Z"
   },
   {
    "duration": 21,
    "start_time": "2024-05-10T10:07:50.139Z"
   },
   {
    "duration": 11,
    "start_time": "2024-05-10T10:07:50.162Z"
   },
   {
    "duration": 33,
    "start_time": "2024-05-10T10:07:50.175Z"
   },
   {
    "duration": 35,
    "start_time": "2024-05-10T10:07:50.210Z"
   },
   {
    "duration": 40,
    "start_time": "2024-05-10T10:07:50.247Z"
   },
   {
    "duration": 528,
    "start_time": "2024-05-10T10:07:50.288Z"
   },
   {
    "duration": 687,
    "start_time": "2024-05-10T10:07:50.818Z"
   },
   {
    "duration": 29,
    "start_time": "2024-05-10T10:24:37.386Z"
   },
   {
    "duration": 7,
    "start_time": "2024-05-10T10:25:02.607Z"
   },
   {
    "duration": 21,
    "start_time": "2024-05-10T10:25:26.277Z"
   },
   {
    "duration": 23,
    "start_time": "2024-05-10T10:25:52.364Z"
   },
   {
    "duration": 18,
    "start_time": "2024-05-10T10:26:57.134Z"
   },
   {
    "duration": 29,
    "start_time": "2024-05-10T10:27:11.184Z"
   },
   {
    "duration": 1333,
    "start_time": "2024-05-11T07:40:34.822Z"
   },
   {
    "duration": 117,
    "start_time": "2024-05-11T07:40:36.156Z"
   },
   {
    "duration": 18,
    "start_time": "2024-05-11T07:40:36.274Z"
   },
   {
    "duration": 13,
    "start_time": "2024-05-11T07:40:36.293Z"
   },
   {
    "duration": 9,
    "start_time": "2024-05-11T07:40:36.307Z"
   },
   {
    "duration": 21,
    "start_time": "2024-05-11T07:40:36.318Z"
   },
   {
    "duration": 5,
    "start_time": "2024-05-11T07:40:36.340Z"
   },
   {
    "duration": 21,
    "start_time": "2024-05-11T07:40:36.346Z"
   },
   {
    "duration": 12,
    "start_time": "2024-05-11T07:40:36.368Z"
   },
   {
    "duration": 11,
    "start_time": "2024-05-11T07:40:36.382Z"
   },
   {
    "duration": 15,
    "start_time": "2024-05-11T07:40:36.394Z"
   },
   {
    "duration": 28,
    "start_time": "2024-05-11T07:40:36.410Z"
   },
   {
    "duration": 9,
    "start_time": "2024-05-11T07:40:36.440Z"
   },
   {
    "duration": 13,
    "start_time": "2024-05-11T07:40:36.451Z"
   },
   {
    "duration": 24,
    "start_time": "2024-05-11T07:40:36.465Z"
   },
   {
    "duration": 19,
    "start_time": "2024-05-11T07:40:36.490Z"
   },
   {
    "duration": 7,
    "start_time": "2024-05-11T07:40:36.510Z"
   },
   {
    "duration": 46,
    "start_time": "2024-05-11T07:40:36.518Z"
   },
   {
    "duration": 11,
    "start_time": "2024-05-11T07:40:36.566Z"
   },
   {
    "duration": 4,
    "start_time": "2024-05-11T07:40:36.579Z"
   },
   {
    "duration": 422,
    "start_time": "2024-05-11T07:40:36.584Z"
   },
   {
    "duration": 507,
    "start_time": "2024-05-11T07:40:37.008Z"
   },
   {
    "duration": 18,
    "start_time": "2024-05-11T07:40:37.516Z"
   },
   {
    "duration": 7,
    "start_time": "2024-05-11T08:01:00.560Z"
   },
   {
    "duration": 6,
    "start_time": "2024-05-11T08:01:31.089Z"
   },
   {
    "duration": 146,
    "start_time": "2024-05-11T08:08:37.807Z"
   },
   {
    "duration": 18,
    "start_time": "2024-05-11T08:18:47.664Z"
   },
   {
    "duration": 17,
    "start_time": "2024-05-11T08:19:55.249Z"
   },
   {
    "duration": 17,
    "start_time": "2024-05-11T08:51:38.416Z"
   },
   {
    "duration": 17,
    "start_time": "2024-05-11T08:51:48.376Z"
   },
   {
    "duration": 16,
    "start_time": "2024-05-11T08:52:16.394Z"
   },
   {
    "duration": 1364,
    "start_time": "2024-05-13T15:59:33.178Z"
   },
   {
    "duration": 114,
    "start_time": "2024-05-13T15:59:34.544Z"
   },
   {
    "duration": 18,
    "start_time": "2024-05-13T15:59:34.660Z"
   },
   {
    "duration": 14,
    "start_time": "2024-05-13T15:59:34.679Z"
   },
   {
    "duration": 5,
    "start_time": "2024-05-13T15:59:34.695Z"
   },
   {
    "duration": 16,
    "start_time": "2024-05-13T15:59:34.701Z"
   },
   {
    "duration": 4,
    "start_time": "2024-05-13T15:59:34.718Z"
   },
   {
    "duration": 46,
    "start_time": "2024-05-13T15:59:34.724Z"
   },
   {
    "duration": 28,
    "start_time": "2024-05-13T15:59:34.772Z"
   },
   {
    "duration": 16,
    "start_time": "2024-05-13T15:59:34.802Z"
   },
   {
    "duration": 16,
    "start_time": "2024-05-13T15:59:34.819Z"
   },
   {
    "duration": 15,
    "start_time": "2024-05-13T15:59:34.837Z"
   },
   {
    "duration": 10,
    "start_time": "2024-05-13T15:59:34.853Z"
   },
   {
    "duration": 4,
    "start_time": "2024-05-13T15:59:34.866Z"
   },
   {
    "duration": 9,
    "start_time": "2024-05-13T15:59:34.872Z"
   },
   {
    "duration": 16,
    "start_time": "2024-05-13T15:59:34.882Z"
   },
   {
    "duration": 8,
    "start_time": "2024-05-13T15:59:34.899Z"
   },
   {
    "duration": 24,
    "start_time": "2024-05-13T15:59:34.908Z"
   },
   {
    "duration": 39,
    "start_time": "2024-05-13T15:59:34.934Z"
   },
   {
    "duration": 3,
    "start_time": "2024-05-13T15:59:34.974Z"
   },
   {
    "duration": 424,
    "start_time": "2024-05-13T15:59:34.979Z"
   },
   {
    "duration": 553,
    "start_time": "2024-05-13T15:59:35.405Z"
   },
   {
    "duration": 20,
    "start_time": "2024-05-13T15:59:35.959Z"
   },
   {
    "duration": 6,
    "start_time": "2024-05-13T15:59:35.981Z"
   },
   {
    "duration": 16,
    "start_time": "2024-05-13T15:59:35.989Z"
   },
   {
    "duration": 55,
    "start_time": "2024-05-13T16:06:43.037Z"
   },
   {
    "duration": 155,
    "start_time": "2024-05-13T16:07:07.608Z"
   },
   {
    "duration": 14,
    "start_time": "2024-05-13T16:07:16.760Z"
   },
   {
    "duration": 97,
    "start_time": "2024-05-13T16:09:15.981Z"
   },
   {
    "duration": 93,
    "start_time": "2024-05-13T16:10:14.023Z"
   },
   {
    "duration": 22,
    "start_time": "2024-05-13T16:13:21.878Z"
   },
   {
    "duration": 100,
    "start_time": "2024-05-13T16:13:33.207Z"
   },
   {
    "duration": 16,
    "start_time": "2024-05-13T16:14:27.480Z"
   },
   {
    "duration": 17,
    "start_time": "2024-05-13T16:16:57.110Z"
   },
   {
    "duration": 14,
    "start_time": "2024-05-13T16:18:23.545Z"
   },
   {
    "duration": 111,
    "start_time": "2024-05-13T16:18:32.211Z"
   },
   {
    "duration": 142,
    "start_time": "2024-05-13T16:21:41.088Z"
   },
   {
    "duration": 89,
    "start_time": "2024-05-13T16:21:52.936Z"
   },
   {
    "duration": 138,
    "start_time": "2024-05-13T16:22:37.098Z"
   },
   {
    "duration": 102,
    "start_time": "2024-05-13T16:25:41.777Z"
   },
   {
    "duration": 46,
    "start_time": "2024-05-13T16:26:37.755Z"
   },
   {
    "duration": 18,
    "start_time": "2024-05-13T16:27:09.621Z"
   },
   {
    "duration": 93,
    "start_time": "2024-05-13T16:27:51.838Z"
   },
   {
    "duration": 16,
    "start_time": "2024-05-13T16:28:43.560Z"
   },
   {
    "duration": 8,
    "start_time": "2024-05-13T16:47:08.177Z"
   },
   {
    "duration": 10,
    "start_time": "2024-05-13T16:47:25.976Z"
   },
   {
    "duration": 484,
    "start_time": "2024-05-13T16:48:50.628Z"
   },
   {
    "duration": 603,
    "start_time": "2024-05-13T16:49:04.332Z"
   },
   {
    "duration": 14,
    "start_time": "2024-05-13T16:51:52.748Z"
   },
   {
    "duration": 4465,
    "start_time": "2024-05-13T16:52:34.197Z"
   },
   {
    "duration": 485,
    "start_time": "2024-05-13T16:52:52.493Z"
   },
   {
    "duration": 669,
    "start_time": "2024-05-13T16:54:12.024Z"
   },
   {
    "duration": 9,
    "start_time": "2024-05-13T17:01:01.624Z"
   },
   {
    "duration": 13,
    "start_time": "2024-05-13T17:03:36.469Z"
   },
   {
    "duration": 150,
    "start_time": "2024-05-13T17:03:51.198Z"
   },
   {
    "duration": 660,
    "start_time": "2024-05-13T17:04:54.120Z"
   },
   {
    "duration": 142,
    "start_time": "2024-05-13T17:05:58.731Z"
   },
   {
    "duration": 53,
    "start_time": "2024-05-13T17:09:32.394Z"
   },
   {
    "duration": 15,
    "start_time": "2024-05-13T17:09:39.906Z"
   },
   {
    "duration": 15,
    "start_time": "2024-05-13T17:11:42.311Z"
   },
   {
    "duration": 160,
    "start_time": "2024-05-13T17:14:09.140Z"
   },
   {
    "duration": 141,
    "start_time": "2024-05-13T17:15:51.143Z"
   },
   {
    "duration": 190,
    "start_time": "2024-05-13T17:17:27.034Z"
   },
   {
    "duration": 145,
    "start_time": "2024-05-13T17:17:37.900Z"
   },
   {
    "duration": 155,
    "start_time": "2024-05-13T17:18:21.326Z"
   },
   {
    "duration": 152,
    "start_time": "2024-05-13T17:30:30.297Z"
   },
   {
    "duration": 19,
    "start_time": "2024-05-13T17:42:52.354Z"
   },
   {
    "duration": 8,
    "start_time": "2024-05-13T17:45:33.095Z"
   },
   {
    "duration": 354,
    "start_time": "2024-05-13T17:58:12.693Z"
   },
   {
    "duration": 14,
    "start_time": "2024-05-13T18:20:35.209Z"
   },
   {
    "duration": 9,
    "start_time": "2024-05-13T18:20:38.433Z"
   },
   {
    "duration": 10,
    "start_time": "2024-05-13T18:20:41.216Z"
   },
   {
    "duration": 375,
    "start_time": "2024-05-13T18:22:05.636Z"
   },
   {
    "duration": 386,
    "start_time": "2024-05-13T18:26:30.782Z"
   },
   {
    "duration": 504,
    "start_time": "2024-05-13T18:26:40.213Z"
   },
   {
    "duration": 31,
    "start_time": "2024-05-13T18:35:00.410Z"
   },
   {
    "duration": 11,
    "start_time": "2024-05-13T18:35:11.888Z"
   },
   {
    "duration": 41,
    "start_time": "2024-05-13T18:38:59.082Z"
   },
   {
    "duration": 11,
    "start_time": "2024-05-13T18:39:13.001Z"
   },
   {
    "duration": 11,
    "start_time": "2024-05-13T18:39:24.955Z"
   },
   {
    "duration": 503,
    "start_time": "2024-05-13T18:47:08.314Z"
   },
   {
    "duration": 11,
    "start_time": "2024-05-13T18:47:30.467Z"
   },
   {
    "duration": 5,
    "start_time": "2024-05-13T18:55:24.693Z"
   },
   {
    "duration": 11,
    "start_time": "2024-05-13T19:02:02.196Z"
   },
   {
    "duration": 156,
    "start_time": "2024-05-13T19:02:39.276Z"
   },
   {
    "duration": 4,
    "start_time": "2024-05-13T19:03:24.359Z"
   },
   {
    "duration": 19,
    "start_time": "2024-05-13T19:19:07.418Z"
   },
   {
    "duration": 13,
    "start_time": "2024-05-13T19:19:12.483Z"
   },
   {
    "duration": 17,
    "start_time": "2024-05-13T19:21:55.113Z"
   },
   {
    "duration": 19,
    "start_time": "2024-05-13T19:22:38.906Z"
   },
   {
    "duration": 11,
    "start_time": "2024-05-13T19:23:11.827Z"
   },
   {
    "duration": 2,
    "start_time": "2024-05-13T19:28:23.911Z"
   },
   {
    "duration": 1395,
    "start_time": "2024-05-14T17:54:50.201Z"
   },
   {
    "duration": 122,
    "start_time": "2024-05-14T17:54:51.599Z"
   },
   {
    "duration": 19,
    "start_time": "2024-05-14T17:54:51.723Z"
   },
   {
    "duration": 16,
    "start_time": "2024-05-14T17:54:51.744Z"
   },
   {
    "duration": 6,
    "start_time": "2024-05-14T17:54:51.763Z"
   },
   {
    "duration": 35,
    "start_time": "2024-05-14T17:54:51.771Z"
   },
   {
    "duration": 10,
    "start_time": "2024-05-14T17:54:51.808Z"
   },
   {
    "duration": 34,
    "start_time": "2024-05-14T17:54:51.820Z"
   },
   {
    "duration": 35,
    "start_time": "2024-05-14T17:54:51.855Z"
   },
   {
    "duration": 22,
    "start_time": "2024-05-14T17:54:51.892Z"
   },
   {
    "duration": 16,
    "start_time": "2024-05-14T17:54:51.915Z"
   },
   {
    "duration": 18,
    "start_time": "2024-05-14T17:54:51.932Z"
   },
   {
    "duration": 29,
    "start_time": "2024-05-14T17:54:51.952Z"
   },
   {
    "duration": 13,
    "start_time": "2024-05-14T17:54:51.984Z"
   },
   {
    "duration": 31,
    "start_time": "2024-05-14T17:54:52.001Z"
   },
   {
    "duration": 37,
    "start_time": "2024-05-14T17:54:52.034Z"
   },
   {
    "duration": 20,
    "start_time": "2024-05-14T17:54:52.073Z"
   },
   {
    "duration": 42,
    "start_time": "2024-05-14T17:54:52.095Z"
   },
   {
    "duration": 12,
    "start_time": "2024-05-14T17:54:52.138Z"
   },
   {
    "duration": 6,
    "start_time": "2024-05-14T17:54:52.152Z"
   },
   {
    "duration": 457,
    "start_time": "2024-05-14T17:54:52.159Z"
   },
   {
    "duration": 530,
    "start_time": "2024-05-14T17:54:52.618Z"
   },
   {
    "duration": 18,
    "start_time": "2024-05-14T17:54:53.149Z"
   },
   {
    "duration": 20,
    "start_time": "2024-05-14T17:54:53.169Z"
   },
   {
    "duration": 43,
    "start_time": "2024-05-14T17:54:53.191Z"
   },
   {
    "duration": 0,
    "start_time": "2024-05-14T17:54:53.236Z"
   },
   {
    "duration": 0,
    "start_time": "2024-05-14T17:54:53.238Z"
   },
   {
    "duration": 0,
    "start_time": "2024-05-14T17:54:53.239Z"
   },
   {
    "duration": 0,
    "start_time": "2024-05-14T17:54:53.240Z"
   },
   {
    "duration": 0,
    "start_time": "2024-05-14T17:54:53.242Z"
   },
   {
    "duration": 0,
    "start_time": "2024-05-14T17:54:53.243Z"
   },
   {
    "duration": 0,
    "start_time": "2024-05-14T17:54:53.245Z"
   },
   {
    "duration": 0,
    "start_time": "2024-05-14T17:54:53.246Z"
   },
   {
    "duration": 0,
    "start_time": "2024-05-14T17:54:53.248Z"
   },
   {
    "duration": 18,
    "start_time": "2024-05-14T17:56:51.096Z"
   },
   {
    "duration": 7,
    "start_time": "2024-05-14T17:56:55.874Z"
   },
   {
    "duration": 146,
    "start_time": "2024-05-14T17:56:56.385Z"
   },
   {
    "duration": 563,
    "start_time": "2024-05-14T17:56:57.433Z"
   },
   {
    "duration": 10,
    "start_time": "2024-05-14T17:56:57.998Z"
   },
   {
    "duration": 464,
    "start_time": "2024-05-14T17:56:58.905Z"
   },
   {
    "duration": 11,
    "start_time": "2024-05-14T17:56:59.371Z"
   },
   {
    "duration": 5,
    "start_time": "2024-05-14T17:57:00.266Z"
   },
   {
    "duration": 12,
    "start_time": "2024-05-14T17:57:00.739Z"
   },
   {
    "duration": 10,
    "start_time": "2024-05-14T17:59:22.591Z"
   },
   {
    "duration": 7,
    "start_time": "2024-05-14T18:01:04.314Z"
   },
   {
    "duration": 6,
    "start_time": "2024-05-14T18:01:18.604Z"
   },
   {
    "duration": 11,
    "start_time": "2024-05-14T18:01:33.188Z"
   },
   {
    "duration": 10,
    "start_time": "2024-05-14T18:02:12.701Z"
   },
   {
    "duration": 12,
    "start_time": "2024-05-14T18:02:58.919Z"
   },
   {
    "duration": 13,
    "start_time": "2024-05-14T18:03:55.505Z"
   },
   {
    "duration": 13,
    "start_time": "2024-05-14T18:04:01.105Z"
   },
   {
    "duration": 13,
    "start_time": "2024-05-14T18:04:07.817Z"
   },
   {
    "duration": 14,
    "start_time": "2024-05-14T18:05:21.828Z"
   },
   {
    "duration": 189,
    "start_time": "2024-05-14T18:06:50.024Z"
   },
   {
    "duration": 242,
    "start_time": "2024-05-14T18:07:12.215Z"
   },
   {
    "duration": 44,
    "start_time": "2024-05-14T18:09:25.709Z"
   },
   {
    "duration": 106,
    "start_time": "2024-05-14T18:09:36.957Z"
   },
   {
    "duration": 105,
    "start_time": "2024-05-14T18:09:44.070Z"
   },
   {
    "duration": 109,
    "start_time": "2024-05-14T18:10:40.287Z"
   },
   {
    "duration": 182,
    "start_time": "2024-05-14T18:10:48.792Z"
   },
   {
    "duration": 166,
    "start_time": "2024-05-14T18:13:07.805Z"
   },
   {
    "duration": 14,
    "start_time": "2024-05-14T18:15:22.450Z"
   },
   {
    "duration": 8,
    "start_time": "2024-05-14T18:25:50.177Z"
   },
   {
    "duration": 16,
    "start_time": "2024-05-14T18:34:59.310Z"
   },
   {
    "duration": 22,
    "start_time": "2024-05-14T18:38:09.949Z"
   },
   {
    "duration": 15,
    "start_time": "2024-05-14T18:40:13.050Z"
   },
   {
    "duration": 109,
    "start_time": "2024-05-14T18:41:44.302Z"
   },
   {
    "duration": 18,
    "start_time": "2024-05-14T18:41:51.126Z"
   },
   {
    "duration": 23,
    "start_time": "2024-05-14T18:42:22.022Z"
   },
   {
    "duration": 20,
    "start_time": "2024-05-14T18:42:56.264Z"
   },
   {
    "duration": 16,
    "start_time": "2024-05-14T18:43:02.856Z"
   },
   {
    "duration": 15,
    "start_time": "2024-05-14T18:43:20.856Z"
   },
   {
    "duration": 13,
    "start_time": "2024-05-14T18:46:22.488Z"
   },
   {
    "duration": 51,
    "start_time": "2024-05-14T18:47:37.355Z"
   },
   {
    "duration": 13,
    "start_time": "2024-05-14T18:47:54.923Z"
   },
   {
    "duration": 14,
    "start_time": "2024-05-14T18:48:49.597Z"
   },
   {
    "duration": 14,
    "start_time": "2024-05-14T18:49:06.198Z"
   },
   {
    "duration": 14,
    "start_time": "2024-05-14T18:50:28.224Z"
   },
   {
    "duration": 15,
    "start_time": "2024-05-14T18:54:48.466Z"
   },
   {
    "duration": 14,
    "start_time": "2024-05-14T18:55:08.314Z"
   },
   {
    "duration": 14,
    "start_time": "2024-05-14T18:55:12.074Z"
   },
   {
    "duration": 13,
    "start_time": "2024-05-14T18:55:12.651Z"
   },
   {
    "duration": 13,
    "start_time": "2024-05-14T18:55:13.626Z"
   },
   {
    "duration": 13,
    "start_time": "2024-05-14T18:55:14.587Z"
   },
   {
    "duration": 15,
    "start_time": "2024-05-14T19:00:48.232Z"
   },
   {
    "duration": 20,
    "start_time": "2024-05-14T19:03:44.070Z"
   },
   {
    "duration": 15164,
    "start_time": "2024-05-14T19:04:43.615Z"
   },
   {
    "duration": 6437,
    "start_time": "2024-05-14T19:06:30.246Z"
   },
   {
    "duration": 6347,
    "start_time": "2024-05-14T19:10:56.911Z"
   },
   {
    "duration": 15,
    "start_time": "2024-05-14T19:16:21.555Z"
   },
   {
    "duration": 13,
    "start_time": "2024-05-14T19:16:39.515Z"
   },
   {
    "duration": 11,
    "start_time": "2024-05-14T19:16:45.411Z"
   },
   {
    "duration": 8,
    "start_time": "2024-05-14T19:17:06.372Z"
   },
   {
    "duration": 10,
    "start_time": "2024-05-14T19:18:47.504Z"
   },
   {
    "duration": 11,
    "start_time": "2024-05-14T19:18:58.296Z"
   },
   {
    "duration": 12,
    "start_time": "2024-05-14T19:20:24.924Z"
   },
   {
    "duration": 10,
    "start_time": "2024-05-14T19:20:50.637Z"
   },
   {
    "duration": 696,
    "start_time": "2024-05-14T19:22:41.776Z"
   },
   {
    "duration": 157,
    "start_time": "2024-05-14T19:23:00.634Z"
   },
   {
    "duration": 103,
    "start_time": "2024-05-14T19:24:27.252Z"
   },
   {
    "duration": 161,
    "start_time": "2024-05-14T19:24:44.314Z"
   },
   {
    "duration": 159,
    "start_time": "2024-05-14T19:26:11.016Z"
   },
   {
    "duration": 167,
    "start_time": "2024-05-14T19:26:35.216Z"
   },
   {
    "duration": 287,
    "start_time": "2024-05-14T19:27:35.372Z"
   },
   {
    "duration": 158,
    "start_time": "2024-05-14T19:35:19.069Z"
   },
   {
    "duration": 12,
    "start_time": "2024-05-14T19:37:41.138Z"
   },
   {
    "duration": 11,
    "start_time": "2024-05-14T19:38:17.068Z"
   },
   {
    "duration": 167,
    "start_time": "2024-05-14T19:42:12.741Z"
   },
   {
    "duration": 155,
    "start_time": "2024-05-14T19:43:42.357Z"
   },
   {
    "duration": 153,
    "start_time": "2024-05-14T19:43:48.632Z"
   },
   {
    "duration": 166,
    "start_time": "2024-05-14T19:46:00.773Z"
   },
   {
    "duration": 1507,
    "start_time": "2024-05-15T16:36:37.225Z"
   },
   {
    "duration": 125,
    "start_time": "2024-05-15T16:36:38.735Z"
   },
   {
    "duration": 21,
    "start_time": "2024-05-15T16:36:38.862Z"
   },
   {
    "duration": 15,
    "start_time": "2024-05-15T16:36:38.885Z"
   },
   {
    "duration": 5,
    "start_time": "2024-05-15T16:36:38.903Z"
   },
   {
    "duration": 18,
    "start_time": "2024-05-15T16:36:38.909Z"
   },
   {
    "duration": 5,
    "start_time": "2024-05-15T16:36:38.929Z"
   },
   {
    "duration": 17,
    "start_time": "2024-05-15T16:36:38.935Z"
   },
   {
    "duration": 40,
    "start_time": "2024-05-15T16:36:38.954Z"
   },
   {
    "duration": 11,
    "start_time": "2024-05-15T16:36:38.996Z"
   },
   {
    "duration": 5,
    "start_time": "2024-05-15T16:36:39.009Z"
   },
   {
    "duration": 14,
    "start_time": "2024-05-15T16:36:39.016Z"
   },
   {
    "duration": 9,
    "start_time": "2024-05-15T16:36:39.031Z"
   },
   {
    "duration": 8,
    "start_time": "2024-05-15T16:36:39.043Z"
   },
   {
    "duration": 34,
    "start_time": "2024-05-15T16:36:39.052Z"
   },
   {
    "duration": 18,
    "start_time": "2024-05-15T16:36:39.088Z"
   },
   {
    "duration": 11,
    "start_time": "2024-05-15T16:36:39.108Z"
   },
   {
    "duration": 39,
    "start_time": "2024-05-15T16:36:39.120Z"
   },
   {
    "duration": 30,
    "start_time": "2024-05-15T16:36:39.161Z"
   },
   {
    "duration": 4,
    "start_time": "2024-05-15T16:36:39.193Z"
   },
   {
    "duration": 486,
    "start_time": "2024-05-15T16:36:39.198Z"
   },
   {
    "duration": 598,
    "start_time": "2024-05-15T16:36:39.685Z"
   },
   {
    "duration": 21,
    "start_time": "2024-05-15T16:36:40.285Z"
   },
   {
    "duration": 9,
    "start_time": "2024-05-15T16:36:40.308Z"
   },
   {
    "duration": 26,
    "start_time": "2024-05-15T16:36:40.318Z"
   },
   {
    "duration": 39,
    "start_time": "2024-05-15T16:36:40.346Z"
   },
   {
    "duration": 170,
    "start_time": "2024-05-15T16:36:40.387Z"
   },
   {
    "duration": 578,
    "start_time": "2024-05-15T16:36:40.559Z"
   },
   {
    "duration": 12,
    "start_time": "2024-05-15T16:36:41.138Z"
   },
   {
    "duration": 532,
    "start_time": "2024-05-15T16:36:41.152Z"
   },
   {
    "duration": 12,
    "start_time": "2024-05-15T16:36:41.686Z"
   },
   {
    "duration": 6,
    "start_time": "2024-05-15T16:36:41.700Z"
   },
   {
    "duration": 23,
    "start_time": "2024-05-15T16:36:41.708Z"
   },
   {
    "duration": 15,
    "start_time": "2024-05-15T16:36:41.732Z"
   },
   {
    "duration": 37,
    "start_time": "2024-05-15T16:36:41.748Z"
   },
   {
    "duration": 210,
    "start_time": "2024-05-15T16:36:41.788Z"
   },
   {
    "duration": 16,
    "start_time": "2024-05-15T16:36:41.999Z"
   },
   {
    "duration": 33,
    "start_time": "2024-05-15T16:36:42.016Z"
   },
   {
    "duration": 188,
    "start_time": "2024-05-15T16:36:42.051Z"
   },
   {
    "duration": 12,
    "start_time": "2024-05-15T16:36:42.241Z"
   },
   {
    "duration": 193,
    "start_time": "2024-05-15T16:36:42.257Z"
   },
   {
    "duration": 16,
    "start_time": "2024-05-15T16:36:42.451Z"
   },
   {
    "duration": 193,
    "start_time": "2024-05-15T16:36:42.481Z"
   },
   {
    "duration": 185,
    "start_time": "2024-05-15T16:47:07.928Z"
   },
   {
    "duration": 202,
    "start_time": "2024-05-15T16:52:53.765Z"
   },
   {
    "duration": 175,
    "start_time": "2024-05-15T16:54:57.305Z"
   },
   {
    "duration": 280,
    "start_time": "2024-05-15T16:56:03.804Z"
   },
   {
    "duration": 17,
    "start_time": "2024-05-15T17:04:52.392Z"
   },
   {
    "duration": 12,
    "start_time": "2024-05-15T17:06:12.658Z"
   },
   {
    "duration": 182,
    "start_time": "2024-05-15T17:17:48.996Z"
   },
   {
    "duration": 200,
    "start_time": "2024-05-15T17:18:03.892Z"
   },
   {
    "duration": 178,
    "start_time": "2024-05-15T17:18:22.820Z"
   },
   {
    "duration": 12,
    "start_time": "2024-05-15T17:19:52.830Z"
   },
   {
    "duration": 12,
    "start_time": "2024-05-15T17:20:45.097Z"
   },
   {
    "duration": 3,
    "start_time": "2024-05-15T17:34:25.237Z"
   },
   {
    "duration": 15,
    "start_time": "2024-05-15T17:37:09.685Z"
   },
   {
    "duration": 12,
    "start_time": "2024-05-15T17:37:37.757Z"
   },
   {
    "duration": 17,
    "start_time": "2024-05-15T17:55:57.605Z"
   },
   {
    "duration": 3,
    "start_time": "2024-05-15T18:11:18.223Z"
   },
   {
    "duration": 3,
    "start_time": "2024-05-15T18:21:52.582Z"
   },
   {
    "duration": 16,
    "start_time": "2024-05-15T18:26:39.046Z"
   },
   {
    "duration": 14,
    "start_time": "2024-05-15T18:26:52.112Z"
   },
   {
    "duration": 3,
    "start_time": "2024-05-15T18:27:14.055Z"
   },
   {
    "duration": 9,
    "start_time": "2024-05-15T18:32:26.145Z"
   },
   {
    "duration": 78,
    "start_time": "2024-05-15T18:36:10.151Z"
   },
   {
    "duration": 9,
    "start_time": "2024-05-15T18:36:29.863Z"
   },
   {
    "duration": 8,
    "start_time": "2024-05-15T18:36:40.096Z"
   },
   {
    "duration": 9,
    "start_time": "2024-05-15T18:37:21.289Z"
   },
   {
    "duration": 5,
    "start_time": "2024-05-15T18:40:23.350Z"
   },
   {
    "duration": 2,
    "start_time": "2024-05-15T18:41:46.121Z"
   },
   {
    "duration": 10,
    "start_time": "2024-05-15T18:41:46.458Z"
   },
   {
    "duration": 5,
    "start_time": "2024-05-15T18:41:47.321Z"
   },
   {
    "duration": 3,
    "start_time": "2024-05-15T18:42:44.083Z"
   },
   {
    "duration": 8,
    "start_time": "2024-05-15T18:42:45.340Z"
   },
   {
    "duration": 5,
    "start_time": "2024-05-15T18:42:45.987Z"
   },
   {
    "duration": 1194,
    "start_time": "2024-05-15T19:06:18.675Z"
   },
   {
    "duration": 55,
    "start_time": "2024-05-15T19:06:19.871Z"
   },
   {
    "duration": 18,
    "start_time": "2024-05-15T19:06:19.927Z"
   },
   {
    "duration": 14,
    "start_time": "2024-05-15T19:06:19.947Z"
   },
   {
    "duration": 4,
    "start_time": "2024-05-15T19:06:19.962Z"
   },
   {
    "duration": 19,
    "start_time": "2024-05-15T19:06:19.968Z"
   },
   {
    "duration": 4,
    "start_time": "2024-05-15T19:06:19.988Z"
   },
   {
    "duration": 14,
    "start_time": "2024-05-15T19:06:19.993Z"
   },
   {
    "duration": 16,
    "start_time": "2024-05-15T19:06:20.009Z"
   },
   {
    "duration": 15,
    "start_time": "2024-05-15T19:06:20.028Z"
   },
   {
    "duration": 10,
    "start_time": "2024-05-15T19:06:20.044Z"
   },
   {
    "duration": 8,
    "start_time": "2024-05-15T19:06:20.055Z"
   },
   {
    "duration": 23,
    "start_time": "2024-05-15T19:06:20.064Z"
   },
   {
    "duration": 17,
    "start_time": "2024-05-15T19:06:20.088Z"
   },
   {
    "duration": 10,
    "start_time": "2024-05-15T19:06:20.107Z"
   },
   {
    "duration": 15,
    "start_time": "2024-05-15T19:06:20.118Z"
   },
   {
    "duration": 13,
    "start_time": "2024-05-15T19:06:20.135Z"
   },
   {
    "duration": 34,
    "start_time": "2024-05-15T19:06:20.150Z"
   },
   {
    "duration": 13,
    "start_time": "2024-05-15T19:06:20.185Z"
   },
   {
    "duration": 15,
    "start_time": "2024-05-15T19:06:20.200Z"
   },
   {
    "duration": 443,
    "start_time": "2024-05-15T19:06:20.216Z"
   },
   {
    "duration": 507,
    "start_time": "2024-05-15T19:06:20.660Z"
   },
   {
    "duration": 27,
    "start_time": "2024-05-15T19:06:21.168Z"
   },
   {
    "duration": 8,
    "start_time": "2024-05-15T19:06:21.196Z"
   },
   {
    "duration": 18,
    "start_time": "2024-05-15T19:06:21.205Z"
   },
   {
    "duration": 6,
    "start_time": "2024-05-15T19:06:21.225Z"
   },
   {
    "duration": 170,
    "start_time": "2024-05-15T19:06:21.233Z"
   },
   {
    "duration": 527,
    "start_time": "2024-05-15T19:06:21.406Z"
   },
   {
    "duration": 12,
    "start_time": "2024-05-15T19:06:21.934Z"
   },
   {
    "duration": 500,
    "start_time": "2024-05-15T19:06:21.947Z"
   },
   {
    "duration": 12,
    "start_time": "2024-05-15T19:06:22.448Z"
   },
   {
    "duration": 20,
    "start_time": "2024-05-15T19:06:22.462Z"
   },
   {
    "duration": 17,
    "start_time": "2024-05-15T19:06:22.484Z"
   },
   {
    "duration": 18,
    "start_time": "2024-05-15T19:06:22.503Z"
   },
   {
    "duration": 8,
    "start_time": "2024-05-15T19:06:22.522Z"
   },
   {
    "duration": 192,
    "start_time": "2024-05-15T19:06:22.532Z"
   },
   {
    "duration": 15,
    "start_time": "2024-05-15T19:06:22.726Z"
   },
   {
    "duration": 12,
    "start_time": "2024-05-15T19:06:22.742Z"
   },
   {
    "duration": 187,
    "start_time": "2024-05-15T19:06:22.755Z"
   },
   {
    "duration": 11,
    "start_time": "2024-05-15T19:06:22.944Z"
   },
   {
    "duration": 189,
    "start_time": "2024-05-15T19:06:22.957Z"
   },
   {
    "duration": 12,
    "start_time": "2024-05-15T19:06:23.148Z"
   },
   {
    "duration": 181,
    "start_time": "2024-05-15T19:06:23.161Z"
   },
   {
    "duration": 16,
    "start_time": "2024-05-15T19:06:23.344Z"
   },
   {
    "duration": 26,
    "start_time": "2024-05-15T19:06:23.361Z"
   },
   {
    "duration": 11,
    "start_time": "2024-05-15T19:06:23.389Z"
   },
   {
    "duration": 15,
    "start_time": "2024-05-15T19:06:23.401Z"
   },
   {
    "duration": 13,
    "start_time": "2024-05-15T19:06:23.417Z"
   },
   {
    "duration": 13,
    "start_time": "2024-05-15T19:06:23.431Z"
   },
   {
    "duration": 8,
    "start_time": "2024-05-15T19:06:23.445Z"
   },
   {
    "duration": 34,
    "start_time": "2024-05-15T19:06:23.455Z"
   },
   {
    "duration": 7,
    "start_time": "2024-05-15T19:06:23.490Z"
   },
   {
    "duration": 7,
    "start_time": "2024-05-15T19:07:12.110Z"
   },
   {
    "duration": 4,
    "start_time": "2024-05-15T19:07:20.168Z"
   },
   {
    "duration": 152,
    "start_time": "2024-05-15T19:10:48.127Z"
   },
   {
    "duration": 7,
    "start_time": "2024-05-15T19:11:10.658Z"
   },
   {
    "duration": 5,
    "start_time": "2024-05-15T19:11:11.345Z"
   },
   {
    "duration": 10,
    "start_time": "2024-05-15T19:12:40.214Z"
   },
   {
    "duration": 8,
    "start_time": "2024-05-15T19:13:57.186Z"
   },
   {
    "duration": 4,
    "start_time": "2024-05-15T19:13:58.985Z"
   },
   {
    "duration": 11,
    "start_time": "2024-05-15T19:14:09.666Z"
   },
   {
    "duration": 11,
    "start_time": "2024-05-15T19:14:34.091Z"
   },
   {
    "duration": 12,
    "start_time": "2024-05-15T19:14:42.075Z"
   },
   {
    "duration": 35,
    "start_time": "2024-05-15T19:14:50.660Z"
   },
   {
    "duration": 1625,
    "start_time": "2024-05-16T15:10:52.344Z"
   },
   {
    "duration": 206,
    "start_time": "2024-05-16T15:10:53.972Z"
   },
   {
    "duration": 20,
    "start_time": "2024-05-16T15:10:54.180Z"
   },
   {
    "duration": 16,
    "start_time": "2024-05-16T15:10:54.202Z"
   },
   {
    "duration": 5,
    "start_time": "2024-05-16T15:10:54.220Z"
   },
   {
    "duration": 33,
    "start_time": "2024-05-16T15:10:54.227Z"
   },
   {
    "duration": 5,
    "start_time": "2024-05-16T15:10:54.262Z"
   },
   {
    "duration": 32,
    "start_time": "2024-05-16T15:10:54.268Z"
   },
   {
    "duration": 33,
    "start_time": "2024-05-16T15:10:54.301Z"
   },
   {
    "duration": 21,
    "start_time": "2024-05-16T15:10:54.336Z"
   },
   {
    "duration": 22,
    "start_time": "2024-05-16T15:10:54.358Z"
   },
   {
    "duration": 16,
    "start_time": "2024-05-16T15:10:54.381Z"
   },
   {
    "duration": 11,
    "start_time": "2024-05-16T15:10:54.399Z"
   },
   {
    "duration": 6,
    "start_time": "2024-05-16T15:10:54.413Z"
   },
   {
    "duration": 18,
    "start_time": "2024-05-16T15:10:54.421Z"
   },
   {
    "duration": 24,
    "start_time": "2024-05-16T15:10:54.440Z"
   },
   {
    "duration": 11,
    "start_time": "2024-05-16T15:10:54.466Z"
   },
   {
    "duration": 32,
    "start_time": "2024-05-16T15:10:54.479Z"
   },
   {
    "duration": 14,
    "start_time": "2024-05-16T15:10:54.513Z"
   },
   {
    "duration": 4,
    "start_time": "2024-05-16T15:10:54.528Z"
   },
   {
    "duration": 546,
    "start_time": "2024-05-16T15:10:54.534Z"
   },
   {
    "duration": 599,
    "start_time": "2024-05-16T15:10:55.082Z"
   },
   {
    "duration": 20,
    "start_time": "2024-05-16T15:10:55.683Z"
   },
   {
    "duration": 13,
    "start_time": "2024-05-16T15:10:55.705Z"
   },
   {
    "duration": 76,
    "start_time": "2024-05-16T15:10:55.719Z"
   },
   {
    "duration": 9,
    "start_time": "2024-05-16T15:10:55.796Z"
   },
   {
    "duration": 171,
    "start_time": "2024-05-16T15:10:55.807Z"
   },
   {
    "duration": 614,
    "start_time": "2024-05-16T15:10:55.980Z"
   },
   {
    "duration": 12,
    "start_time": "2024-05-16T15:10:56.596Z"
   },
   {
    "duration": 544,
    "start_time": "2024-05-16T15:10:56.610Z"
   },
   {
    "duration": 14,
    "start_time": "2024-05-16T15:10:57.155Z"
   },
   {
    "duration": 5,
    "start_time": "2024-05-16T15:10:57.171Z"
   },
   {
    "duration": 62,
    "start_time": "2024-05-16T15:10:57.177Z"
   },
   {
    "duration": 28,
    "start_time": "2024-05-16T15:10:57.241Z"
   },
   {
    "duration": 16,
    "start_time": "2024-05-16T15:10:57.270Z"
   },
   {
    "duration": 200,
    "start_time": "2024-05-16T15:10:57.288Z"
   },
   {
    "duration": 16,
    "start_time": "2024-05-16T15:10:57.490Z"
   },
   {
    "duration": 34,
    "start_time": "2024-05-16T15:10:57.509Z"
   },
   {
    "duration": 204,
    "start_time": "2024-05-16T15:10:57.545Z"
   },
   {
    "duration": 12,
    "start_time": "2024-05-16T15:10:57.751Z"
   },
   {
    "duration": 217,
    "start_time": "2024-05-16T15:10:57.767Z"
   },
   {
    "duration": 13,
    "start_time": "2024-05-16T15:10:57.986Z"
   },
   {
    "duration": 246,
    "start_time": "2024-05-16T15:10:58.000Z"
   },
   {
    "duration": 16,
    "start_time": "2024-05-16T15:10:58.247Z"
   },
   {
    "duration": 24,
    "start_time": "2024-05-16T15:10:58.265Z"
   },
   {
    "duration": 14,
    "start_time": "2024-05-16T15:10:58.291Z"
   },
   {
    "duration": 37,
    "start_time": "2024-05-16T15:10:58.306Z"
   },
   {
    "duration": 14,
    "start_time": "2024-05-16T15:10:58.345Z"
   },
   {
    "duration": 15,
    "start_time": "2024-05-16T15:10:58.361Z"
   },
   {
    "duration": 8,
    "start_time": "2024-05-16T15:10:58.378Z"
   },
   {
    "duration": 193,
    "start_time": "2024-05-16T15:10:58.387Z"
   },
   {
    "duration": 0,
    "start_time": "2024-05-16T15:10:58.583Z"
   },
   {
    "duration": 0,
    "start_time": "2024-05-16T15:10:58.584Z"
   },
   {
    "duration": 11,
    "start_time": "2024-05-16T15:39:25.392Z"
   },
   {
    "duration": 13,
    "start_time": "2024-05-16T15:39:29.178Z"
   },
   {
    "duration": 69,
    "start_time": "2024-05-16T15:39:49.533Z"
   },
   {
    "duration": 52,
    "start_time": "2024-05-16T15:40:12.203Z"
   },
   {
    "duration": 11,
    "start_time": "2024-05-16T15:40:26.716Z"
   },
   {
    "duration": 5,
    "start_time": "2024-05-16T15:40:34.004Z"
   },
   {
    "duration": 11,
    "start_time": "2024-05-16T15:49:12.823Z"
   },
   {
    "duration": 12,
    "start_time": "2024-05-16T15:49:27.368Z"
   },
   {
    "duration": 5,
    "start_time": "2024-05-16T15:49:29.383Z"
   },
   {
    "duration": 9,
    "start_time": "2024-05-16T15:51:27.588Z"
   },
   {
    "duration": 72,
    "start_time": "2024-05-16T15:55:21.455Z"
   },
   {
    "duration": 10,
    "start_time": "2024-05-16T15:56:01.199Z"
   },
   {
    "duration": 9,
    "start_time": "2024-05-16T15:58:26.509Z"
   },
   {
    "duration": 5,
    "start_time": "2024-05-16T15:58:27.341Z"
   },
   {
    "duration": 9,
    "start_time": "2024-05-16T15:58:46.622Z"
   },
   {
    "duration": 12,
    "start_time": "2024-05-16T15:59:50.729Z"
   },
   {
    "duration": 12,
    "start_time": "2024-05-16T16:00:07.970Z"
   },
   {
    "duration": 8,
    "start_time": "2024-05-16T16:00:12.402Z"
   },
   {
    "duration": 66,
    "start_time": "2024-05-16T16:03:51.794Z"
   },
   {
    "duration": 5,
    "start_time": "2024-05-16T16:05:05.932Z"
   },
   {
    "duration": 12,
    "start_time": "2024-05-16T16:10:03.568Z"
   },
   {
    "duration": 5,
    "start_time": "2024-05-16T16:21:38.987Z"
   },
   {
    "duration": 428,
    "start_time": "2024-05-16T17:21:24.058Z"
   },
   {
    "duration": 577,
    "start_time": "2024-05-16T17:22:10.706Z"
   },
   {
    "duration": 165,
    "start_time": "2024-05-16T17:22:35.738Z"
   },
   {
    "duration": 536,
    "start_time": "2024-05-16T17:22:57.379Z"
   },
   {
    "duration": 573,
    "start_time": "2024-05-16T17:24:56.400Z"
   },
   {
    "duration": 528,
    "start_time": "2024-05-16T17:25:46.264Z"
   },
   {
    "duration": 193,
    "start_time": "2024-05-16T17:27:37.181Z"
   },
   {
    "duration": 1381,
    "start_time": "2024-05-16T18:07:42.825Z"
   },
   {
    "duration": 58,
    "start_time": "2024-05-16T18:07:44.209Z"
   },
   {
    "duration": 22,
    "start_time": "2024-05-16T18:07:44.269Z"
   },
   {
    "duration": 16,
    "start_time": "2024-05-16T18:07:44.292Z"
   },
   {
    "duration": 5,
    "start_time": "2024-05-16T18:07:44.310Z"
   },
   {
    "duration": 22,
    "start_time": "2024-05-16T18:07:44.316Z"
   },
   {
    "duration": 6,
    "start_time": "2024-05-16T18:07:44.358Z"
   },
   {
    "duration": 17,
    "start_time": "2024-05-16T18:07:44.365Z"
   },
   {
    "duration": 34,
    "start_time": "2024-05-16T18:07:44.384Z"
   },
   {
    "duration": 20,
    "start_time": "2024-05-16T18:07:44.419Z"
   },
   {
    "duration": 12,
    "start_time": "2024-05-16T18:07:44.440Z"
   },
   {
    "duration": 9,
    "start_time": "2024-05-16T18:07:44.454Z"
   },
   {
    "duration": 16,
    "start_time": "2024-05-16T18:07:44.464Z"
   },
   {
    "duration": 8,
    "start_time": "2024-05-16T18:07:44.484Z"
   },
   {
    "duration": 11,
    "start_time": "2024-05-16T18:07:44.493Z"
   },
   {
    "duration": 27,
    "start_time": "2024-05-16T18:07:44.505Z"
   },
   {
    "duration": 8,
    "start_time": "2024-05-16T18:07:44.534Z"
   },
   {
    "duration": 41,
    "start_time": "2024-05-16T18:07:44.543Z"
   },
   {
    "duration": 15,
    "start_time": "2024-05-16T18:07:44.586Z"
   },
   {
    "duration": 498,
    "start_time": "2024-05-16T18:07:44.603Z"
   },
   {
    "duration": 622,
    "start_time": "2024-05-16T18:07:45.103Z"
   },
   {
    "duration": 21,
    "start_time": "2024-05-16T18:07:45.727Z"
   },
   {
    "duration": 29,
    "start_time": "2024-05-16T18:07:45.749Z"
   },
   {
    "duration": 59,
    "start_time": "2024-05-16T18:07:45.780Z"
   },
   {
    "duration": 8,
    "start_time": "2024-05-16T18:07:45.840Z"
   },
   {
    "duration": 166,
    "start_time": "2024-05-16T18:07:45.850Z"
   },
   {
    "duration": 561,
    "start_time": "2024-05-16T18:07:46.018Z"
   },
   {
    "duration": 12,
    "start_time": "2024-05-16T18:07:46.580Z"
   },
   {
    "duration": 579,
    "start_time": "2024-05-16T18:07:46.593Z"
   },
   {
    "duration": 14,
    "start_time": "2024-05-16T18:07:47.174Z"
   },
   {
    "duration": 11,
    "start_time": "2024-05-16T18:07:47.190Z"
   },
   {
    "duration": 16,
    "start_time": "2024-05-16T18:07:47.204Z"
   },
   {
    "duration": 40,
    "start_time": "2024-05-16T18:07:47.221Z"
   },
   {
    "duration": 10,
    "start_time": "2024-05-16T18:07:47.262Z"
   },
   {
    "duration": 212,
    "start_time": "2024-05-16T18:07:47.273Z"
   },
   {
    "duration": 16,
    "start_time": "2024-05-16T18:07:47.487Z"
   },
   {
    "duration": 13,
    "start_time": "2024-05-16T18:07:47.505Z"
   },
   {
    "duration": 206,
    "start_time": "2024-05-16T18:07:47.520Z"
   },
   {
    "duration": 13,
    "start_time": "2024-05-16T18:07:47.727Z"
   },
   {
    "duration": 209,
    "start_time": "2024-05-16T18:07:47.741Z"
   },
   {
    "duration": 13,
    "start_time": "2024-05-16T18:07:47.954Z"
   },
   {
    "duration": 192,
    "start_time": "2024-05-16T18:07:47.968Z"
   },
   {
    "duration": 16,
    "start_time": "2024-05-16T18:07:48.162Z"
   },
   {
    "duration": 17,
    "start_time": "2024-05-16T18:07:48.180Z"
   },
   {
    "duration": 21,
    "start_time": "2024-05-16T18:07:48.198Z"
   },
   {
    "duration": 13,
    "start_time": "2024-05-16T18:07:48.221Z"
   },
   {
    "duration": 35,
    "start_time": "2024-05-16T18:07:48.236Z"
   },
   {
    "duration": 18,
    "start_time": "2024-05-16T18:07:48.273Z"
   },
   {
    "duration": 4,
    "start_time": "2024-05-16T18:07:48.293Z"
   },
   {
    "duration": 13,
    "start_time": "2024-05-16T18:07:48.299Z"
   },
   {
    "duration": 11,
    "start_time": "2024-05-16T18:07:48.314Z"
   },
   {
    "duration": 198,
    "start_time": "2024-05-16T18:07:48.327Z"
   },
   {
    "duration": 0,
    "start_time": "2024-05-16T18:07:48.527Z"
   },
   {
    "duration": 0,
    "start_time": "2024-05-16T18:07:48.528Z"
   },
   {
    "duration": 0,
    "start_time": "2024-05-16T18:07:48.529Z"
   },
   {
    "duration": 10,
    "start_time": "2024-05-16T18:08:16.891Z"
   },
   {
    "duration": 12,
    "start_time": "2024-05-16T18:08:30.957Z"
   },
   {
    "duration": 10,
    "start_time": "2024-05-16T18:08:40.868Z"
   },
   {
    "duration": 10,
    "start_time": "2024-05-16T18:08:42.078Z"
   },
   {
    "duration": 5,
    "start_time": "2024-05-16T18:08:42.700Z"
   },
   {
    "duration": 9,
    "start_time": "2024-05-16T18:08:43.363Z"
   },
   {
    "duration": 525,
    "start_time": "2024-05-16T18:17:14.744Z"
   },
   {
    "duration": 10,
    "start_time": "2024-05-16T18:21:49.650Z"
   },
   {
    "duration": 701,
    "start_time": "2024-05-16T18:32:50.779Z"
   },
   {
    "duration": 434,
    "start_time": "2024-05-16T18:33:47.069Z"
   },
   {
    "duration": 188,
    "start_time": "2024-05-16T18:35:32.928Z"
   },
   {
    "duration": 434,
    "start_time": "2024-05-16T18:35:50.321Z"
   },
   {
    "duration": 49,
    "start_time": "2024-05-16T18:37:27.531Z"
   },
   {
    "duration": 13,
    "start_time": "2024-05-16T18:41:51.408Z"
   },
   {
    "duration": 457,
    "start_time": "2024-05-16T18:42:04.318Z"
   },
   {
    "duration": 475,
    "start_time": "2024-05-16T18:43:03.073Z"
   },
   {
    "duration": 587,
    "start_time": "2024-05-16T18:44:15.412Z"
   },
   {
    "duration": 1312,
    "start_time": "2024-05-16T18:45:29.011Z"
   },
   {
    "duration": 60,
    "start_time": "2024-05-16T18:45:30.326Z"
   },
   {
    "duration": 61,
    "start_time": "2024-05-16T18:45:30.388Z"
   },
   {
    "duration": 204,
    "start_time": "2024-05-16T18:45:30.450Z"
   },
   {
    "duration": 184,
    "start_time": "2024-05-16T18:45:30.657Z"
   },
   {
    "duration": 107,
    "start_time": "2024-05-16T18:45:30.843Z"
   },
   {
    "duration": 207,
    "start_time": "2024-05-16T18:45:30.951Z"
   },
   {
    "duration": 143,
    "start_time": "2024-05-16T18:45:31.160Z"
   },
   {
    "duration": 73,
    "start_time": "2024-05-16T18:45:31.305Z"
   },
   {
    "duration": 65,
    "start_time": "2024-05-16T18:45:31.380Z"
   },
   {
    "duration": 67,
    "start_time": "2024-05-16T18:45:31.447Z"
   },
   {
    "duration": 54,
    "start_time": "2024-05-16T18:45:31.515Z"
   },
   {
    "duration": 43,
    "start_time": "2024-05-16T18:45:31.571Z"
   },
   {
    "duration": 215,
    "start_time": "2024-05-16T18:45:31.617Z"
   },
   {
    "duration": 39,
    "start_time": "2024-05-16T18:45:31.833Z"
   },
   {
    "duration": 48,
    "start_time": "2024-05-16T18:45:31.874Z"
   },
   {
    "duration": 10,
    "start_time": "2024-05-16T18:45:31.923Z"
   },
   {
    "duration": 44,
    "start_time": "2024-05-16T18:45:31.934Z"
   },
   {
    "duration": 18,
    "start_time": "2024-05-16T18:45:31.980Z"
   },
   {
    "duration": 575,
    "start_time": "2024-05-16T18:45:31.999Z"
   },
   {
    "duration": 705,
    "start_time": "2024-05-16T18:45:32.576Z"
   },
   {
    "duration": 21,
    "start_time": "2024-05-16T18:45:33.283Z"
   },
   {
    "duration": 18,
    "start_time": "2024-05-16T18:45:33.306Z"
   },
   {
    "duration": 34,
    "start_time": "2024-05-16T18:45:33.326Z"
   },
   {
    "duration": 10,
    "start_time": "2024-05-16T18:45:33.362Z"
   },
   {
    "duration": 185,
    "start_time": "2024-05-16T18:45:33.373Z"
   },
   {
    "duration": 526,
    "start_time": "2024-05-16T18:45:33.561Z"
   },
   {
    "duration": 13,
    "start_time": "2024-05-16T18:45:34.089Z"
   },
   {
    "duration": 547,
    "start_time": "2024-05-16T18:45:34.104Z"
   },
   {
    "duration": 16,
    "start_time": "2024-05-16T18:45:34.653Z"
   },
   {
    "duration": 9,
    "start_time": "2024-05-16T18:45:34.671Z"
   },
   {
    "duration": 27,
    "start_time": "2024-05-16T18:45:34.683Z"
   },
   {
    "duration": 16,
    "start_time": "2024-05-16T18:45:34.712Z"
   },
   {
    "duration": 10,
    "start_time": "2024-05-16T18:45:34.730Z"
   },
   {
    "duration": 213,
    "start_time": "2024-05-16T18:45:34.759Z"
   },
   {
    "duration": 17,
    "start_time": "2024-05-16T18:45:34.974Z"
   },
   {
    "duration": 35,
    "start_time": "2024-05-16T18:45:34.993Z"
   },
   {
    "duration": 196,
    "start_time": "2024-05-16T18:45:35.031Z"
   },
   {
    "duration": 12,
    "start_time": "2024-05-16T18:45:35.228Z"
   },
   {
    "duration": 197,
    "start_time": "2024-05-16T18:45:35.242Z"
   },
   {
    "duration": 16,
    "start_time": "2024-05-16T18:45:35.444Z"
   },
   {
    "duration": 215,
    "start_time": "2024-05-16T18:45:35.463Z"
   },
   {
    "duration": 17,
    "start_time": "2024-05-16T18:45:35.680Z"
   },
   {
    "duration": 37,
    "start_time": "2024-05-16T18:45:35.699Z"
   },
   {
    "duration": 80,
    "start_time": "2024-05-16T18:45:35.738Z"
   },
   {
    "duration": 22,
    "start_time": "2024-05-16T18:45:35.820Z"
   },
   {
    "duration": 29,
    "start_time": "2024-05-16T18:45:35.843Z"
   },
   {
    "duration": 20,
    "start_time": "2024-05-16T18:45:35.874Z"
   },
   {
    "duration": 14,
    "start_time": "2024-05-16T18:45:35.895Z"
   },
   {
    "duration": 23,
    "start_time": "2024-05-16T18:45:35.911Z"
   },
   {
    "duration": 8,
    "start_time": "2024-05-16T18:45:35.935Z"
   },
   {
    "duration": 44,
    "start_time": "2024-05-16T18:45:35.945Z"
   },
   {
    "duration": 34,
    "start_time": "2024-05-16T18:45:35.991Z"
   },
   {
    "duration": 29,
    "start_time": "2024-05-16T18:45:36.026Z"
   },
   {
    "duration": 39,
    "start_time": "2024-05-16T18:45:36.057Z"
   },
   {
    "duration": 5,
    "start_time": "2024-05-16T18:52:58.079Z"
   },
   {
    "duration": 173,
    "start_time": "2024-05-16T18:55:20.461Z"
   },
   {
    "duration": 7,
    "start_time": "2024-05-16T18:55:43.910Z"
   },
   {
    "duration": 10,
    "start_time": "2024-05-16T18:55:58.398Z"
   },
   {
    "duration": 4,
    "start_time": "2024-05-16T19:00:38.687Z"
   },
   {
    "duration": 4,
    "start_time": "2024-05-16T19:00:48.177Z"
   },
   {
    "duration": 11,
    "start_time": "2024-05-16T19:00:48.839Z"
   },
   {
    "duration": 10,
    "start_time": "2024-05-16T19:00:49.207Z"
   },
   {
    "duration": 11,
    "start_time": "2024-05-16T19:00:49.585Z"
   },
   {
    "duration": 8,
    "start_time": "2024-05-16T19:00:50.312Z"
   },
   {
    "duration": 5,
    "start_time": "2024-05-16T19:00:51.072Z"
   },
   {
    "duration": 4,
    "start_time": "2024-05-16T19:00:52.287Z"
   },
   {
    "duration": 5,
    "start_time": "2024-05-16T19:00:56.169Z"
   },
   {
    "duration": 1267,
    "start_time": "2024-05-16T19:01:12.617Z"
   },
   {
    "duration": 60,
    "start_time": "2024-05-16T19:01:13.886Z"
   },
   {
    "duration": 21,
    "start_time": "2024-05-16T19:01:13.947Z"
   },
   {
    "duration": 15,
    "start_time": "2024-05-16T19:01:13.970Z"
   },
   {
    "duration": 6,
    "start_time": "2024-05-16T19:01:13.988Z"
   },
   {
    "duration": 26,
    "start_time": "2024-05-16T19:01:13.995Z"
   },
   {
    "duration": 5,
    "start_time": "2024-05-16T19:01:14.023Z"
   },
   {
    "duration": 7,
    "start_time": "2024-05-16T19:01:14.029Z"
   },
   {
    "duration": 9,
    "start_time": "2024-05-16T19:01:14.059Z"
   },
   {
    "duration": 11,
    "start_time": "2024-05-16T19:01:14.070Z"
   },
   {
    "duration": 19,
    "start_time": "2024-05-16T19:01:14.083Z"
   },
   {
    "duration": 27,
    "start_time": "2024-05-16T19:01:14.103Z"
   },
   {
    "duration": 21,
    "start_time": "2024-05-16T19:01:14.132Z"
   },
   {
    "duration": 6,
    "start_time": "2024-05-16T19:01:14.158Z"
   },
   {
    "duration": 12,
    "start_time": "2024-05-16T19:01:14.165Z"
   },
   {
    "duration": 18,
    "start_time": "2024-05-16T19:01:14.178Z"
   },
   {
    "duration": 32,
    "start_time": "2024-05-16T19:01:14.198Z"
   },
   {
    "duration": 14,
    "start_time": "2024-05-16T19:01:14.232Z"
   },
   {
    "duration": 41,
    "start_time": "2024-05-16T19:01:14.247Z"
   },
   {
    "duration": 35,
    "start_time": "2024-05-16T19:01:14.290Z"
   },
   {
    "duration": 34,
    "start_time": "2024-05-16T19:01:14.327Z"
   },
   {
    "duration": 13,
    "start_time": "2024-05-16T19:01:14.362Z"
   },
   {
    "duration": 498,
    "start_time": "2024-05-16T19:01:14.376Z"
   },
   {
    "duration": 685,
    "start_time": "2024-05-16T19:01:14.876Z"
   },
   {
    "duration": 25,
    "start_time": "2024-05-16T19:01:15.563Z"
   },
   {
    "duration": 31,
    "start_time": "2024-05-16T19:01:15.590Z"
   },
   {
    "duration": 59,
    "start_time": "2024-05-16T19:01:15.623Z"
   },
   {
    "duration": 47,
    "start_time": "2024-05-16T19:01:15.683Z"
   },
   {
    "duration": 203,
    "start_time": "2024-05-16T19:01:15.732Z"
   },
   {
    "duration": 565,
    "start_time": "2024-05-16T19:01:15.936Z"
   },
   {
    "duration": 13,
    "start_time": "2024-05-16T19:01:16.503Z"
   },
   {
    "duration": 533,
    "start_time": "2024-05-16T19:01:16.518Z"
   },
   {
    "duration": 14,
    "start_time": "2024-05-16T19:01:17.053Z"
   },
   {
    "duration": 15,
    "start_time": "2024-05-16T19:01:17.068Z"
   },
   {
    "duration": 44,
    "start_time": "2024-05-16T19:01:17.085Z"
   },
   {
    "duration": 26,
    "start_time": "2024-05-16T19:01:17.131Z"
   },
   {
    "duration": 9,
    "start_time": "2024-05-16T19:01:17.159Z"
   },
   {
    "duration": 290,
    "start_time": "2024-05-16T19:01:17.169Z"
   },
   {
    "duration": 21,
    "start_time": "2024-05-16T19:01:17.461Z"
   },
   {
    "duration": 15,
    "start_time": "2024-05-16T19:01:17.484Z"
   },
   {
    "duration": 218,
    "start_time": "2024-05-16T19:01:17.506Z"
   },
   {
    "duration": 12,
    "start_time": "2024-05-16T19:01:17.725Z"
   },
   {
    "duration": 251,
    "start_time": "2024-05-16T19:01:17.738Z"
   },
   {
    "duration": 13,
    "start_time": "2024-05-16T19:01:17.991Z"
   },
   {
    "duration": 201,
    "start_time": "2024-05-16T19:01:18.005Z"
   },
   {
    "duration": 15,
    "start_time": "2024-05-16T19:01:18.208Z"
   },
   {
    "duration": 40,
    "start_time": "2024-05-16T19:01:18.225Z"
   },
   {
    "duration": 32,
    "start_time": "2024-05-16T19:01:18.266Z"
   },
   {
    "duration": 24,
    "start_time": "2024-05-16T19:01:18.300Z"
   },
   {
    "duration": 30,
    "start_time": "2024-05-16T19:01:18.326Z"
   },
   {
    "duration": 14,
    "start_time": "2024-05-16T19:01:18.358Z"
   },
   {
    "duration": 6,
    "start_time": "2024-05-16T19:01:18.373Z"
   },
   {
    "duration": 12,
    "start_time": "2024-05-16T19:01:18.380Z"
   },
   {
    "duration": 26,
    "start_time": "2024-05-16T19:01:18.393Z"
   },
   {
    "duration": 10,
    "start_time": "2024-05-16T19:01:18.421Z"
   },
   {
    "duration": 19,
    "start_time": "2024-05-16T19:01:18.433Z"
   },
   {
    "duration": 11,
    "start_time": "2024-05-16T19:01:18.454Z"
   },
   {
    "duration": 17,
    "start_time": "2024-05-16T19:01:18.467Z"
   },
   {
    "duration": 1603,
    "start_time": "2024-05-17T08:31:29.635Z"
   },
   {
    "duration": 205,
    "start_time": "2024-05-17T08:31:31.241Z"
   },
   {
    "duration": 21,
    "start_time": "2024-05-17T08:31:31.448Z"
   },
   {
    "duration": 176,
    "start_time": "2024-05-17T08:31:31.470Z"
   },
   {
    "duration": 67,
    "start_time": "2024-05-17T08:31:31.648Z"
   },
   {
    "duration": 142,
    "start_time": "2024-05-17T08:31:31.717Z"
   },
   {
    "duration": 43,
    "start_time": "2024-05-17T08:31:31.861Z"
   },
   {
    "duration": 61,
    "start_time": "2024-05-17T08:31:31.905Z"
   },
   {
    "duration": 83,
    "start_time": "2024-05-17T08:31:31.967Z"
   },
   {
    "duration": 73,
    "start_time": "2024-05-17T08:31:32.054Z"
   },
   {
    "duration": 32,
    "start_time": "2024-05-17T08:31:32.128Z"
   },
   {
    "duration": 24,
    "start_time": "2024-05-17T08:31:32.162Z"
   },
   {
    "duration": 40,
    "start_time": "2024-05-17T08:31:32.188Z"
   },
   {
    "duration": 30,
    "start_time": "2024-05-17T08:31:32.230Z"
   },
   {
    "duration": 28,
    "start_time": "2024-05-17T08:31:32.261Z"
   },
   {
    "duration": 19,
    "start_time": "2024-05-17T08:31:32.290Z"
   },
   {
    "duration": 141,
    "start_time": "2024-05-17T08:31:32.311Z"
   },
   {
    "duration": 62,
    "start_time": "2024-05-17T08:31:32.454Z"
   },
   {
    "duration": 17,
    "start_time": "2024-05-17T08:31:32.518Z"
   },
   {
    "duration": 7,
    "start_time": "2024-05-17T08:31:32.536Z"
   },
   {
    "duration": 25,
    "start_time": "2024-05-17T08:31:32.545Z"
   },
   {
    "duration": 12,
    "start_time": "2024-05-17T08:31:32.572Z"
   },
   {
    "duration": 739,
    "start_time": "2024-05-17T08:31:32.587Z"
   },
   {
    "duration": 621,
    "start_time": "2024-05-17T08:31:33.327Z"
   },
   {
    "duration": 27,
    "start_time": "2024-05-17T08:31:33.950Z"
   },
   {
    "duration": 9,
    "start_time": "2024-05-17T08:31:33.978Z"
   },
   {
    "duration": 36,
    "start_time": "2024-05-17T08:31:33.988Z"
   },
   {
    "duration": 9,
    "start_time": "2024-05-17T08:31:34.027Z"
   },
   {
    "duration": 187,
    "start_time": "2024-05-17T08:31:34.037Z"
   },
   {
    "duration": 574,
    "start_time": "2024-05-17T08:31:34.225Z"
   },
   {
    "duration": 12,
    "start_time": "2024-05-17T08:31:34.800Z"
   },
   {
    "duration": 537,
    "start_time": "2024-05-17T08:31:34.814Z"
   },
   {
    "duration": 18,
    "start_time": "2024-05-17T08:31:35.353Z"
   },
   {
    "duration": 20,
    "start_time": "2024-05-17T08:31:35.372Z"
   },
   {
    "duration": 15,
    "start_time": "2024-05-17T08:31:35.394Z"
   },
   {
    "duration": 16,
    "start_time": "2024-05-17T08:31:35.410Z"
   },
   {
    "duration": 9,
    "start_time": "2024-05-17T08:31:35.427Z"
   },
   {
    "duration": 309,
    "start_time": "2024-05-17T08:31:35.438Z"
   },
   {
    "duration": 20,
    "start_time": "2024-05-17T08:31:35.750Z"
   },
   {
    "duration": 31,
    "start_time": "2024-05-17T08:31:35.771Z"
   },
   {
    "duration": 176,
    "start_time": "2024-05-17T08:31:35.803Z"
   },
   {
    "duration": 12,
    "start_time": "2024-05-17T08:31:35.981Z"
   },
   {
    "duration": 191,
    "start_time": "2024-05-17T08:31:35.995Z"
   },
   {
    "duration": 12,
    "start_time": "2024-05-17T08:31:36.188Z"
   },
   {
    "duration": 195,
    "start_time": "2024-05-17T08:31:36.202Z"
   },
   {
    "duration": 15,
    "start_time": "2024-05-17T08:31:36.399Z"
   },
   {
    "duration": 79,
    "start_time": "2024-05-17T08:31:36.416Z"
   },
   {
    "duration": 18,
    "start_time": "2024-05-17T08:31:36.496Z"
   },
   {
    "duration": 23,
    "start_time": "2024-05-17T08:31:36.515Z"
   },
   {
    "duration": 13,
    "start_time": "2024-05-17T08:31:36.539Z"
   },
   {
    "duration": 14,
    "start_time": "2024-05-17T08:31:36.554Z"
   },
   {
    "duration": 15,
    "start_time": "2024-05-17T08:31:36.569Z"
   },
   {
    "duration": 96,
    "start_time": "2024-05-17T08:31:36.586Z"
   },
   {
    "duration": 6,
    "start_time": "2024-05-17T08:31:36.684Z"
   },
   {
    "duration": 19,
    "start_time": "2024-05-17T08:31:36.692Z"
   },
   {
    "duration": 16,
    "start_time": "2024-05-17T08:31:36.713Z"
   },
   {
    "duration": 8,
    "start_time": "2024-05-17T08:31:36.731Z"
   },
   {
    "duration": 20,
    "start_time": "2024-05-17T08:31:36.741Z"
   },
   {
    "duration": 47,
    "start_time": "2024-05-17T08:32:31.890Z"
   },
   {
    "duration": 49,
    "start_time": "2024-05-17T09:12:14.607Z"
   },
   {
    "duration": 1462,
    "start_time": "2024-05-18T07:20:18.112Z"
   },
   {
    "duration": 117,
    "start_time": "2024-05-18T07:20:19.576Z"
   },
   {
    "duration": 19,
    "start_time": "2024-05-18T07:20:19.697Z"
   },
   {
    "duration": 33,
    "start_time": "2024-05-18T07:20:19.718Z"
   },
   {
    "duration": 5,
    "start_time": "2024-05-18T07:20:19.752Z"
   },
   {
    "duration": 22,
    "start_time": "2024-05-18T07:20:19.759Z"
   },
   {
    "duration": 5,
    "start_time": "2024-05-18T07:20:19.784Z"
   },
   {
    "duration": 5,
    "start_time": "2024-05-18T07:20:19.791Z"
   },
   {
    "duration": 9,
    "start_time": "2024-05-18T07:20:19.800Z"
   },
   {
    "duration": 5,
    "start_time": "2024-05-18T07:20:19.811Z"
   },
   {
    "duration": 19,
    "start_time": "2024-05-18T07:20:19.817Z"
   },
   {
    "duration": 16,
    "start_time": "2024-05-18T07:20:19.862Z"
   },
   {
    "duration": 13,
    "start_time": "2024-05-18T07:20:19.880Z"
   },
   {
    "duration": 7,
    "start_time": "2024-05-18T07:20:19.895Z"
   },
   {
    "duration": 12,
    "start_time": "2024-05-18T07:20:19.904Z"
   },
   {
    "duration": 11,
    "start_time": "2024-05-18T07:20:19.917Z"
   },
   {
    "duration": 10,
    "start_time": "2024-05-18T07:20:19.930Z"
   },
   {
    "duration": 27,
    "start_time": "2024-05-18T07:20:19.942Z"
   },
   {
    "duration": 28,
    "start_time": "2024-05-18T07:20:19.970Z"
   },
   {
    "duration": 9,
    "start_time": "2024-05-18T07:20:19.999Z"
   },
   {
    "duration": 51,
    "start_time": "2024-05-18T07:20:20.010Z"
   },
   {
    "duration": 60,
    "start_time": "2024-05-18T07:20:20.062Z"
   },
   {
    "duration": 512,
    "start_time": "2024-05-18T07:20:20.123Z"
   },
   {
    "duration": 598,
    "start_time": "2024-05-18T07:20:20.637Z"
   },
   {
    "duration": 24,
    "start_time": "2024-05-18T07:20:21.237Z"
   },
   {
    "duration": 7,
    "start_time": "2024-05-18T07:20:21.263Z"
   },
   {
    "duration": 37,
    "start_time": "2024-05-18T07:20:21.273Z"
   },
   {
    "duration": 8,
    "start_time": "2024-05-18T07:20:21.312Z"
   },
   {
    "duration": 164,
    "start_time": "2024-05-18T07:20:21.322Z"
   },
   {
    "duration": 618,
    "start_time": "2024-05-18T07:20:21.488Z"
   },
   {
    "duration": 12,
    "start_time": "2024-05-18T07:20:22.108Z"
   },
   {
    "duration": 512,
    "start_time": "2024-05-18T07:20:22.122Z"
   },
   {
    "duration": 12,
    "start_time": "2024-05-18T07:20:22.636Z"
   },
   {
    "duration": 5,
    "start_time": "2024-05-18T07:20:22.660Z"
   },
   {
    "duration": 13,
    "start_time": "2024-05-18T07:20:22.666Z"
   },
   {
    "duration": 13,
    "start_time": "2024-05-18T07:20:22.680Z"
   },
   {
    "duration": 14,
    "start_time": "2024-05-18T07:20:22.695Z"
   },
   {
    "duration": 206,
    "start_time": "2024-05-18T07:20:22.710Z"
   },
   {
    "duration": 15,
    "start_time": "2024-05-18T07:20:22.918Z"
   },
   {
    "duration": 15,
    "start_time": "2024-05-18T07:20:22.934Z"
   },
   {
    "duration": 179,
    "start_time": "2024-05-18T07:20:22.961Z"
   },
   {
    "duration": 21,
    "start_time": "2024-05-18T07:20:23.141Z"
   },
   {
    "duration": 179,
    "start_time": "2024-05-18T07:20:23.163Z"
   },
   {
    "duration": 20,
    "start_time": "2024-05-18T07:20:23.344Z"
   },
   {
    "duration": 176,
    "start_time": "2024-05-18T07:20:23.366Z"
   },
   {
    "duration": 18,
    "start_time": "2024-05-18T07:20:23.545Z"
   },
   {
    "duration": 17,
    "start_time": "2024-05-18T07:20:23.565Z"
   },
   {
    "duration": 16,
    "start_time": "2024-05-18T07:20:23.583Z"
   },
   {
    "duration": 12,
    "start_time": "2024-05-18T07:20:23.601Z"
   },
   {
    "duration": 20,
    "start_time": "2024-05-18T07:20:23.615Z"
   },
   {
    "duration": 33,
    "start_time": "2024-05-18T07:20:23.637Z"
   },
   {
    "duration": 6,
    "start_time": "2024-05-18T07:20:23.672Z"
   },
   {
    "duration": 19,
    "start_time": "2024-05-18T07:20:23.679Z"
   },
   {
    "duration": 18,
    "start_time": "2024-05-18T07:20:23.700Z"
   },
   {
    "duration": 14,
    "start_time": "2024-05-18T07:20:23.719Z"
   },
   {
    "duration": 21,
    "start_time": "2024-05-18T07:20:23.734Z"
   },
   {
    "duration": 26,
    "start_time": "2024-05-18T07:20:23.757Z"
   },
   {
    "duration": 14,
    "start_time": "2024-05-18T07:20:23.784Z"
   },
   {
    "duration": 10,
    "start_time": "2024-05-18T07:26:02.958Z"
   },
   {
    "duration": 9,
    "start_time": "2024-05-18T07:26:41.049Z"
   },
   {
    "duration": 10,
    "start_time": "2024-05-18T07:28:09.292Z"
   },
   {
    "duration": 18,
    "start_time": "2024-05-18T07:28:52.005Z"
   },
   {
    "duration": 24,
    "start_time": "2024-05-18T07:29:45.951Z"
   },
   {
    "duration": 36,
    "start_time": "2024-05-18T07:30:12.706Z"
   },
   {
    "duration": 31,
    "start_time": "2024-05-18T07:31:33.771Z"
   },
   {
    "duration": 26,
    "start_time": "2024-05-18T07:32:19.004Z"
   },
   {
    "duration": 33,
    "start_time": "2024-05-18T07:36:25.653Z"
   },
   {
    "duration": 462,
    "start_time": "2024-05-18T07:36:35.654Z"
   },
   {
    "duration": 25,
    "start_time": "2024-05-18T07:36:44.142Z"
   },
   {
    "duration": 20,
    "start_time": "2024-05-18T07:37:55.632Z"
   },
   {
    "duration": 10,
    "start_time": "2024-05-18T07:43:10.611Z"
   },
   {
    "duration": 19,
    "start_time": "2024-05-18T07:43:29.500Z"
   },
   {
    "duration": 12,
    "start_time": "2024-05-18T07:44:03.957Z"
   },
   {
    "duration": 12,
    "start_time": "2024-05-18T07:44:36.111Z"
   },
   {
    "duration": 16,
    "start_time": "2024-05-18T07:46:57.397Z"
   },
   {
    "duration": 27,
    "start_time": "2024-05-18T07:51:34.757Z"
   },
   {
    "duration": 12,
    "start_time": "2024-05-18T07:51:57.544Z"
   },
   {
    "duration": 334,
    "start_time": "2024-05-18T07:52:37.577Z"
   },
   {
    "duration": 499,
    "start_time": "2024-05-18T07:58:37.541Z"
   },
   {
    "duration": 329,
    "start_time": "2024-05-18T07:58:55.142Z"
   },
   {
    "duration": 350,
    "start_time": "2024-05-18T08:00:15.511Z"
   },
   {
    "duration": 454,
    "start_time": "2024-05-18T08:01:41.386Z"
   },
   {
    "duration": 448,
    "start_time": "2024-05-18T08:01:47.692Z"
   },
   {
    "duration": 594,
    "start_time": "2024-05-18T08:02:05.525Z"
   },
   {
    "duration": 127,
    "start_time": "2024-05-18T08:06:03.174Z"
   },
   {
    "duration": 137,
    "start_time": "2024-05-18T08:06:17.903Z"
   },
   {
    "duration": 340,
    "start_time": "2024-05-18T08:06:24.408Z"
   },
   {
    "duration": 715,
    "start_time": "2024-05-18T08:14:37.866Z"
   },
   {
    "duration": 711,
    "start_time": "2024-05-18T08:15:34.740Z"
   },
   {
    "duration": 682,
    "start_time": "2024-05-18T08:15:47.484Z"
   },
   {
    "duration": 888,
    "start_time": "2024-05-18T08:16:36.822Z"
   },
   {
    "duration": 85,
    "start_time": "2024-05-18T08:19:40.893Z"
   },
   {
    "duration": 751,
    "start_time": "2024-05-18T08:20:10.654Z"
   },
   {
    "duration": 687,
    "start_time": "2024-05-18T08:22:00.506Z"
   },
   {
    "duration": 725,
    "start_time": "2024-05-18T08:22:16.178Z"
   },
   {
    "duration": 55,
    "start_time": "2024-05-18T08:25:45.595Z"
   },
   {
    "duration": 587,
    "start_time": "2024-05-18T08:30:28.413Z"
   },
   {
    "duration": 725,
    "start_time": "2024-05-18T08:31:40.303Z"
   },
   {
    "duration": 577,
    "start_time": "2024-05-18T08:32:33.273Z"
   },
   {
    "duration": 53,
    "start_time": "2024-05-18T08:34:41.174Z"
   },
   {
    "duration": 398,
    "start_time": "2024-05-18T08:35:07.439Z"
   },
   {
    "duration": 1348,
    "start_time": "2024-05-18T08:49:24.542Z"
   },
   {
    "duration": 60,
    "start_time": "2024-05-18T08:49:25.892Z"
   },
   {
    "duration": 20,
    "start_time": "2024-05-18T08:49:25.955Z"
   },
   {
    "duration": 20,
    "start_time": "2024-05-18T08:49:25.978Z"
   },
   {
    "duration": 12,
    "start_time": "2024-05-18T08:49:26.000Z"
   },
   {
    "duration": 18,
    "start_time": "2024-05-18T08:49:26.014Z"
   },
   {
    "duration": 46,
    "start_time": "2024-05-18T08:49:26.034Z"
   },
   {
    "duration": 11,
    "start_time": "2024-05-18T08:49:26.081Z"
   },
   {
    "duration": 9,
    "start_time": "2024-05-18T08:49:26.094Z"
   },
   {
    "duration": 7,
    "start_time": "2024-05-18T08:49:26.106Z"
   },
   {
    "duration": 15,
    "start_time": "2024-05-18T08:49:26.114Z"
   },
   {
    "duration": 33,
    "start_time": "2024-05-18T08:49:26.131Z"
   },
   {
    "duration": 17,
    "start_time": "2024-05-18T08:49:26.166Z"
   },
   {
    "duration": 16,
    "start_time": "2024-05-18T08:49:26.185Z"
   },
   {
    "duration": 9,
    "start_time": "2024-05-18T08:49:26.203Z"
   },
   {
    "duration": 6,
    "start_time": "2024-05-18T08:49:26.214Z"
   },
   {
    "duration": 45,
    "start_time": "2024-05-18T08:49:26.222Z"
   },
   {
    "duration": 15,
    "start_time": "2024-05-18T08:49:26.268Z"
   },
   {
    "duration": 6,
    "start_time": "2024-05-18T08:49:26.285Z"
   },
   {
    "duration": 16,
    "start_time": "2024-05-18T08:49:26.293Z"
   },
   {
    "duration": 17,
    "start_time": "2024-05-18T08:49:26.311Z"
   },
   {
    "duration": 44,
    "start_time": "2024-05-18T08:49:26.330Z"
   },
   {
    "duration": 466,
    "start_time": "2024-05-18T08:49:26.376Z"
   },
   {
    "duration": 38,
    "start_time": "2024-05-18T08:49:26.843Z"
   },
   {
    "duration": 16,
    "start_time": "2024-05-18T08:49:26.883Z"
   },
   {
    "duration": 762,
    "start_time": "2024-05-18T08:49:26.901Z"
   },
   {
    "duration": 531,
    "start_time": "2024-05-18T08:49:27.665Z"
   },
   {
    "duration": 724,
    "start_time": "2024-05-18T08:49:28.202Z"
   },
   {
    "duration": 19,
    "start_time": "2024-05-18T08:49:28.927Z"
   },
   {
    "duration": 24,
    "start_time": "2024-05-18T08:49:28.948Z"
   },
   {
    "duration": 35,
    "start_time": "2024-05-18T08:49:28.974Z"
   },
   {
    "duration": 9,
    "start_time": "2024-05-18T08:49:29.011Z"
   },
   {
    "duration": 167,
    "start_time": "2024-05-18T08:49:29.022Z"
   },
   {
    "duration": 582,
    "start_time": "2024-05-18T08:49:29.191Z"
   },
   {
    "duration": 12,
    "start_time": "2024-05-18T08:49:29.775Z"
   },
   {
    "duration": 597,
    "start_time": "2024-05-18T08:49:29.789Z"
   },
   {
    "duration": 14,
    "start_time": "2024-05-18T08:49:30.388Z"
   },
   {
    "duration": 73,
    "start_time": "2024-05-18T08:49:30.404Z"
   },
   {
    "duration": 41,
    "start_time": "2024-05-18T08:49:30.480Z"
   },
   {
    "duration": 59,
    "start_time": "2024-05-18T08:49:30.523Z"
   },
   {
    "duration": 53,
    "start_time": "2024-05-18T08:49:30.584Z"
   },
   {
    "duration": 247,
    "start_time": "2024-05-18T08:49:30.639Z"
   },
   {
    "duration": 15,
    "start_time": "2024-05-18T08:49:30.888Z"
   },
   {
    "duration": 70,
    "start_time": "2024-05-18T08:49:30.904Z"
   },
   {
    "duration": 323,
    "start_time": "2024-05-18T08:49:30.976Z"
   },
   {
    "duration": 12,
    "start_time": "2024-05-18T08:49:31.301Z"
   },
   {
    "duration": 216,
    "start_time": "2024-05-18T08:49:31.314Z"
   },
   {
    "duration": 13,
    "start_time": "2024-05-18T08:49:31.532Z"
   },
   {
    "duration": 187,
    "start_time": "2024-05-18T08:49:31.547Z"
   },
   {
    "duration": 34,
    "start_time": "2024-05-18T08:49:31.736Z"
   },
   {
    "duration": 13,
    "start_time": "2024-05-18T08:49:31.772Z"
   },
   {
    "duration": 15,
    "start_time": "2024-05-18T08:49:31.787Z"
   },
   {
    "duration": 17,
    "start_time": "2024-05-18T08:49:31.804Z"
   },
   {
    "duration": 48,
    "start_time": "2024-05-18T08:49:31.823Z"
   },
   {
    "duration": 28,
    "start_time": "2024-05-18T08:49:31.873Z"
   },
   {
    "duration": 8,
    "start_time": "2024-05-18T08:49:31.903Z"
   },
   {
    "duration": 30,
    "start_time": "2024-05-18T08:49:31.913Z"
   },
   {
    "duration": 16,
    "start_time": "2024-05-18T08:49:31.945Z"
   },
   {
    "duration": 24,
    "start_time": "2024-05-18T08:49:31.963Z"
   },
   {
    "duration": 14,
    "start_time": "2024-05-18T08:49:31.989Z"
   },
   {
    "duration": 6,
    "start_time": "2024-05-18T08:49:32.004Z"
   },
   {
    "duration": 27,
    "start_time": "2024-05-18T08:49:32.012Z"
   },
   {
    "duration": 232,
    "start_time": "2024-05-18T08:52:12.781Z"
   },
   {
    "duration": 421,
    "start_time": "2024-05-18T09:00:26.908Z"
   },
   {
    "duration": 12,
    "start_time": "2024-05-18T09:01:15.990Z"
   },
   {
    "duration": 237,
    "start_time": "2024-05-18T09:02:18.633Z"
   },
   {
    "duration": 259,
    "start_time": "2024-05-18T09:02:26.007Z"
   },
   {
    "duration": 344,
    "start_time": "2024-05-18T09:02:41.057Z"
   },
   {
    "duration": 523,
    "start_time": "2024-05-18T09:07:54.309Z"
   },
   {
    "duration": 499,
    "start_time": "2024-05-18T09:09:39.249Z"
   },
   {
    "duration": 17,
    "start_time": "2024-05-18T09:10:04.467Z"
   },
   {
    "duration": 492,
    "start_time": "2024-05-18T09:10:53.059Z"
   },
   {
    "duration": 11,
    "start_time": "2024-05-18T09:11:18.005Z"
   },
   {
    "duration": 462,
    "start_time": "2024-05-18T09:11:20.980Z"
   },
   {
    "duration": 409,
    "start_time": "2024-05-18T09:11:27.125Z"
   },
   {
    "duration": 407,
    "start_time": "2024-05-18T09:11:39.214Z"
   },
   {
    "duration": 15,
    "start_time": "2024-05-18T09:20:20.034Z"
   },
   {
    "duration": 562,
    "start_time": "2024-05-18T09:23:16.533Z"
   },
   {
    "duration": 11,
    "start_time": "2024-05-18T09:23:18.223Z"
   },
   {
    "duration": 191,
    "start_time": "2024-05-18T09:28:00.114Z"
   },
   {
    "duration": 188,
    "start_time": "2024-05-18T09:28:10.873Z"
   },
   {
    "duration": 325,
    "start_time": "2024-05-18T09:28:22.276Z"
   },
   {
    "duration": 15,
    "start_time": "2024-05-18T09:32:14.692Z"
   },
   {
    "duration": 14,
    "start_time": "2024-05-18T09:33:58.496Z"
   },
   {
    "duration": 20,
    "start_time": "2024-05-18T09:35:20.003Z"
   },
   {
    "duration": 15,
    "start_time": "2024-05-18T09:37:17.684Z"
   },
   {
    "duration": 9,
    "start_time": "2024-05-18T09:37:36.416Z"
   },
   {
    "duration": 15,
    "start_time": "2024-05-18T09:43:35.868Z"
   },
   {
    "duration": 13,
    "start_time": "2024-05-18T09:44:15.086Z"
   },
   {
    "duration": 15,
    "start_time": "2024-05-18T09:48:37.383Z"
   },
   {
    "duration": 64,
    "start_time": "2024-05-18T09:50:13.169Z"
   },
   {
    "duration": 20,
    "start_time": "2024-05-18T09:50:29.451Z"
   },
   {
    "duration": 13,
    "start_time": "2024-05-18T09:50:30.244Z"
   },
   {
    "duration": 14,
    "start_time": "2024-05-18T09:50:30.755Z"
   },
   {
    "duration": 201,
    "start_time": "2024-05-18T09:58:02.818Z"
   },
   {
    "duration": 113,
    "start_time": "2024-05-18T09:58:14.890Z"
   },
   {
    "duration": 113,
    "start_time": "2024-05-18T09:58:29.730Z"
   },
   {
    "duration": 196,
    "start_time": "2024-05-18T09:58:51.995Z"
   },
   {
    "duration": 75,
    "start_time": "2024-05-18T09:59:59.087Z"
   },
   {
    "duration": 4,
    "start_time": "2024-05-18T10:03:12.508Z"
   },
   {
    "duration": 10,
    "start_time": "2024-05-18T10:03:19.812Z"
   },
   {
    "duration": 194,
    "start_time": "2024-05-18T10:03:29.725Z"
   },
   {
    "duration": 172,
    "start_time": "2024-05-18T10:04:03.303Z"
   },
   {
    "duration": 224,
    "start_time": "2024-05-18T10:06:42.709Z"
   },
   {
    "duration": 260,
    "start_time": "2024-05-18T10:08:19.000Z"
   },
   {
    "duration": 408,
    "start_time": "2024-05-18T10:08:30.120Z"
   },
   {
    "duration": 736,
    "start_time": "2024-05-18T10:11:27.838Z"
   },
   {
    "duration": 548,
    "start_time": "2024-05-18T10:11:45.215Z"
   },
   {
    "duration": 682,
    "start_time": "2024-05-18T10:12:17.593Z"
   },
   {
    "duration": 20,
    "start_time": "2024-05-18T10:16:16.330Z"
   },
   {
    "duration": 17,
    "start_time": "2024-05-18T10:16:29.144Z"
   },
   {
    "duration": 10,
    "start_time": "2024-05-18T10:16:49.336Z"
   },
   {
    "duration": 10,
    "start_time": "2024-05-18T10:17:46.603Z"
   },
   {
    "duration": 285,
    "start_time": "2024-05-18T10:17:49.156Z"
   },
   {
    "duration": 954,
    "start_time": "2024-05-18T10:20:52.794Z"
   },
   {
    "duration": 402,
    "start_time": "2024-05-18T10:21:13.571Z"
   },
   {
    "duration": 78,
    "start_time": "2024-05-18T10:23:05.776Z"
   },
   {
    "duration": 463,
    "start_time": "2024-05-18T10:23:33.633Z"
   },
   {
    "duration": 409,
    "start_time": "2024-05-18T10:23:53.698Z"
   },
   {
    "duration": 323,
    "start_time": "2024-05-18T10:24:24.044Z"
   },
   {
    "duration": 413,
    "start_time": "2024-05-18T10:24:55.979Z"
   },
   {
    "duration": 398,
    "start_time": "2024-05-18T10:32:15.894Z"
   },
   {
    "duration": 8,
    "start_time": "2024-05-18T10:35:40.077Z"
   },
   {
    "duration": 16,
    "start_time": "2024-05-18T10:38:37.324Z"
   },
   {
    "duration": 18,
    "start_time": "2024-05-18T10:39:22.149Z"
   },
   {
    "duration": 1283,
    "start_time": "2024-05-18T10:46:38.769Z"
   },
   {
    "duration": 60,
    "start_time": "2024-05-18T10:46:40.053Z"
   },
   {
    "duration": 23,
    "start_time": "2024-05-18T10:46:40.115Z"
   },
   {
    "duration": 32,
    "start_time": "2024-05-18T10:46:40.140Z"
   },
   {
    "duration": 39,
    "start_time": "2024-05-18T10:46:40.174Z"
   },
   {
    "duration": 30,
    "start_time": "2024-05-18T10:46:40.215Z"
   },
   {
    "duration": 27,
    "start_time": "2024-05-18T10:46:40.247Z"
   },
   {
    "duration": 16,
    "start_time": "2024-05-18T10:46:40.275Z"
   },
   {
    "duration": 6,
    "start_time": "2024-05-18T10:46:40.292Z"
   },
   {
    "duration": 9,
    "start_time": "2024-05-18T10:46:40.299Z"
   },
   {
    "duration": 12,
    "start_time": "2024-05-18T10:46:40.309Z"
   },
   {
    "duration": 6,
    "start_time": "2024-05-18T10:46:40.322Z"
   },
   {
    "duration": 19,
    "start_time": "2024-05-18T10:46:40.329Z"
   },
   {
    "duration": 12,
    "start_time": "2024-05-18T10:46:40.363Z"
   },
   {
    "duration": 9,
    "start_time": "2024-05-18T10:46:40.377Z"
   },
   {
    "duration": 12,
    "start_time": "2024-05-18T10:46:40.388Z"
   },
   {
    "duration": 6,
    "start_time": "2024-05-18T10:46:40.402Z"
   },
   {
    "duration": 11,
    "start_time": "2024-05-18T10:46:40.410Z"
   },
   {
    "duration": 9,
    "start_time": "2024-05-18T10:46:40.422Z"
   },
   {
    "duration": 29,
    "start_time": "2024-05-18T10:46:40.432Z"
   },
   {
    "duration": 16,
    "start_time": "2024-05-18T10:46:40.463Z"
   },
   {
    "duration": 13,
    "start_time": "2024-05-18T10:46:40.481Z"
   },
   {
    "duration": 424,
    "start_time": "2024-05-18T10:46:40.495Z"
   },
   {
    "duration": 22,
    "start_time": "2024-05-18T10:46:40.921Z"
   },
   {
    "duration": 10,
    "start_time": "2024-05-18T10:46:40.960Z"
   },
   {
    "duration": 327,
    "start_time": "2024-05-18T10:46:40.972Z"
   },
   {
    "duration": 126,
    "start_time": "2024-05-18T10:46:41.301Z"
   },
   {
    "duration": 0,
    "start_time": "2024-05-18T10:46:41.430Z"
   },
   {
    "duration": 0,
    "start_time": "2024-05-18T10:46:41.431Z"
   },
   {
    "duration": 0,
    "start_time": "2024-05-18T10:46:41.432Z"
   },
   {
    "duration": 0,
    "start_time": "2024-05-18T10:46:41.433Z"
   },
   {
    "duration": 0,
    "start_time": "2024-05-18T10:46:41.434Z"
   },
   {
    "duration": 0,
    "start_time": "2024-05-18T10:46:41.435Z"
   },
   {
    "duration": 0,
    "start_time": "2024-05-18T10:46:41.436Z"
   },
   {
    "duration": 0,
    "start_time": "2024-05-18T10:46:41.437Z"
   },
   {
    "duration": 0,
    "start_time": "2024-05-18T10:46:41.438Z"
   },
   {
    "duration": 0,
    "start_time": "2024-05-18T10:46:41.438Z"
   },
   {
    "duration": 0,
    "start_time": "2024-05-18T10:46:41.439Z"
   },
   {
    "duration": 0,
    "start_time": "2024-05-18T10:46:41.440Z"
   },
   {
    "duration": 0,
    "start_time": "2024-05-18T10:46:41.441Z"
   },
   {
    "duration": 0,
    "start_time": "2024-05-18T10:46:41.442Z"
   },
   {
    "duration": 0,
    "start_time": "2024-05-18T10:46:41.443Z"
   },
   {
    "duration": 0,
    "start_time": "2024-05-18T10:46:41.444Z"
   },
   {
    "duration": 0,
    "start_time": "2024-05-18T10:46:41.461Z"
   },
   {
    "duration": 0,
    "start_time": "2024-05-18T10:46:41.462Z"
   },
   {
    "duration": 1,
    "start_time": "2024-05-18T10:46:41.462Z"
   },
   {
    "duration": 0,
    "start_time": "2024-05-18T10:46:41.463Z"
   },
   {
    "duration": 0,
    "start_time": "2024-05-18T10:46:41.464Z"
   },
   {
    "duration": 0,
    "start_time": "2024-05-18T10:46:41.466Z"
   },
   {
    "duration": 0,
    "start_time": "2024-05-18T10:46:41.467Z"
   },
   {
    "duration": 0,
    "start_time": "2024-05-18T10:46:41.468Z"
   },
   {
    "duration": 0,
    "start_time": "2024-05-18T10:46:41.470Z"
   },
   {
    "duration": 0,
    "start_time": "2024-05-18T10:46:41.471Z"
   },
   {
    "duration": 0,
    "start_time": "2024-05-18T10:46:41.472Z"
   },
   {
    "duration": 0,
    "start_time": "2024-05-18T10:46:41.474Z"
   },
   {
    "duration": 0,
    "start_time": "2024-05-18T10:46:41.475Z"
   },
   {
    "duration": 0,
    "start_time": "2024-05-18T10:46:41.476Z"
   },
   {
    "duration": 0,
    "start_time": "2024-05-18T10:46:41.478Z"
   },
   {
    "duration": 0,
    "start_time": "2024-05-18T10:46:41.479Z"
   },
   {
    "duration": 0,
    "start_time": "2024-05-18T10:46:41.480Z"
   },
   {
    "duration": 0,
    "start_time": "2024-05-18T10:46:41.481Z"
   },
   {
    "duration": 0,
    "start_time": "2024-05-18T10:46:41.482Z"
   },
   {
    "duration": 0,
    "start_time": "2024-05-18T10:46:41.483Z"
   },
   {
    "duration": 0,
    "start_time": "2024-05-18T10:46:41.484Z"
   },
   {
    "duration": 0,
    "start_time": "2024-05-18T10:46:41.485Z"
   },
   {
    "duration": 1,
    "start_time": "2024-05-18T10:46:41.486Z"
   },
   {
    "duration": 0,
    "start_time": "2024-05-18T10:46:41.488Z"
   },
   {
    "duration": 0,
    "start_time": "2024-05-18T10:46:41.489Z"
   },
   {
    "duration": 0,
    "start_time": "2024-05-18T10:46:41.490Z"
   },
   {
    "duration": 0,
    "start_time": "2024-05-18T10:46:41.492Z"
   },
   {
    "duration": 19,
    "start_time": "2024-05-18T10:48:14.232Z"
   },
   {
    "duration": 18,
    "start_time": "2024-05-18T10:49:29.019Z"
   },
   {
    "duration": 24,
    "start_time": "2024-05-18T10:51:02.159Z"
   },
   {
    "duration": 12,
    "start_time": "2024-05-18T10:51:20.070Z"
   },
   {
    "duration": 756,
    "start_time": "2024-05-18T10:51:31.464Z"
   },
   {
    "duration": 19,
    "start_time": "2024-05-18T10:52:09.592Z"
   },
   {
    "duration": 787,
    "start_time": "2024-05-18T10:52:11.410Z"
   },
   {
    "duration": 18,
    "start_time": "2024-05-18T10:52:15.464Z"
   },
   {
    "duration": 1225,
    "start_time": "2024-05-18T10:52:54.056Z"
   },
   {
    "duration": 57,
    "start_time": "2024-05-18T10:52:55.283Z"
   },
   {
    "duration": 19,
    "start_time": "2024-05-18T10:52:55.342Z"
   },
   {
    "duration": 21,
    "start_time": "2024-05-18T10:52:55.363Z"
   },
   {
    "duration": 5,
    "start_time": "2024-05-18T10:52:55.386Z"
   },
   {
    "duration": 39,
    "start_time": "2024-05-18T10:52:55.392Z"
   },
   {
    "duration": 33,
    "start_time": "2024-05-18T10:52:55.433Z"
   },
   {
    "duration": 11,
    "start_time": "2024-05-18T10:52:55.467Z"
   },
   {
    "duration": 8,
    "start_time": "2024-05-18T10:52:55.480Z"
   },
   {
    "duration": 9,
    "start_time": "2024-05-18T10:52:55.490Z"
   },
   {
    "duration": 24,
    "start_time": "2024-05-18T10:52:55.500Z"
   },
   {
    "duration": 13,
    "start_time": "2024-05-18T10:52:55.525Z"
   },
   {
    "duration": 25,
    "start_time": "2024-05-18T10:52:55.540Z"
   },
   {
    "duration": 27,
    "start_time": "2024-05-18T10:52:55.567Z"
   },
   {
    "duration": 34,
    "start_time": "2024-05-18T10:52:55.596Z"
   },
   {
    "duration": 15,
    "start_time": "2024-05-18T10:52:55.632Z"
   },
   {
    "duration": 41,
    "start_time": "2024-05-18T10:52:55.649Z"
   },
   {
    "duration": 23,
    "start_time": "2024-05-18T10:52:55.693Z"
   },
   {
    "duration": 16,
    "start_time": "2024-05-18T10:52:55.718Z"
   },
   {
    "duration": 31,
    "start_time": "2024-05-18T10:52:55.736Z"
   },
   {
    "duration": 33,
    "start_time": "2024-05-18T10:52:55.768Z"
   },
   {
    "duration": 29,
    "start_time": "2024-05-18T10:52:55.803Z"
   },
   {
    "duration": 427,
    "start_time": "2024-05-18T10:52:55.834Z"
   },
   {
    "duration": 24,
    "start_time": "2024-05-18T10:52:56.262Z"
   },
   {
    "duration": 16,
    "start_time": "2024-05-18T10:52:56.288Z"
   },
   {
    "duration": 732,
    "start_time": "2024-05-18T10:52:56.306Z"
   },
   {
    "duration": 617,
    "start_time": "2024-05-18T10:52:57.041Z"
   },
   {
    "duration": 18,
    "start_time": "2024-05-18T10:52:57.663Z"
   },
   {
    "duration": 30,
    "start_time": "2024-05-18T10:52:57.683Z"
   },
   {
    "duration": 95,
    "start_time": "2024-05-18T10:52:57.714Z"
   },
   {
    "duration": 26,
    "start_time": "2024-05-18T10:52:57.811Z"
   },
   {
    "duration": 329,
    "start_time": "2024-05-18T10:52:57.839Z"
   },
   {
    "duration": 510,
    "start_time": "2024-05-18T10:52:58.169Z"
   },
   {
    "duration": 12,
    "start_time": "2024-05-18T10:52:58.681Z"
   },
   {
    "duration": 579,
    "start_time": "2024-05-18T10:52:58.694Z"
   },
   {
    "duration": 12,
    "start_time": "2024-05-18T10:52:59.275Z"
   },
   {
    "duration": 476,
    "start_time": "2024-05-18T10:52:59.288Z"
   },
   {
    "duration": 13,
    "start_time": "2024-05-18T10:52:59.767Z"
   },
   {
    "duration": 610,
    "start_time": "2024-05-18T10:52:59.782Z"
   },
   {
    "duration": 12,
    "start_time": "2024-05-18T10:53:00.394Z"
   },
   {
    "duration": 152,
    "start_time": "2024-05-18T10:53:00.408Z"
   },
   {
    "duration": 80,
    "start_time": "2024-05-18T10:53:00.562Z"
   },
   {
    "duration": 124,
    "start_time": "2024-05-18T10:53:00.644Z"
   },
   {
    "duration": 56,
    "start_time": "2024-05-18T10:53:00.770Z"
   },
   {
    "duration": 75,
    "start_time": "2024-05-18T10:53:00.828Z"
   },
   {
    "duration": 346,
    "start_time": "2024-05-18T10:53:00.904Z"
   },
   {
    "duration": 21,
    "start_time": "2024-05-18T10:53:01.252Z"
   },
   {
    "duration": 111,
    "start_time": "2024-05-18T10:53:01.275Z"
   },
   {
    "duration": 342,
    "start_time": "2024-05-18T10:53:01.388Z"
   },
   {
    "duration": 12,
    "start_time": "2024-05-18T10:53:01.732Z"
   },
   {
    "duration": 237,
    "start_time": "2024-05-18T10:53:01.746Z"
   },
   {
    "duration": 16,
    "start_time": "2024-05-18T10:53:01.986Z"
   },
   {
    "duration": 206,
    "start_time": "2024-05-18T10:53:02.004Z"
   },
   {
    "duration": 18,
    "start_time": "2024-05-18T10:53:02.211Z"
   },
   {
    "duration": 25,
    "start_time": "2024-05-18T10:53:02.231Z"
   },
   {
    "duration": 15,
    "start_time": "2024-05-18T10:53:02.261Z"
   },
   {
    "duration": 24,
    "start_time": "2024-05-18T10:53:02.278Z"
   },
   {
    "duration": 36,
    "start_time": "2024-05-18T10:53:02.304Z"
   },
   {
    "duration": 32,
    "start_time": "2024-05-18T10:53:02.342Z"
   },
   {
    "duration": 21,
    "start_time": "2024-05-18T10:53:02.376Z"
   },
   {
    "duration": 33,
    "start_time": "2024-05-18T10:53:02.398Z"
   },
   {
    "duration": 18,
    "start_time": "2024-05-18T10:53:02.433Z"
   },
   {
    "duration": 36,
    "start_time": "2024-05-18T10:53:02.453Z"
   },
   {
    "duration": 19,
    "start_time": "2024-05-18T10:53:02.491Z"
   },
   {
    "duration": 21,
    "start_time": "2024-05-18T10:53:02.511Z"
   },
   {
    "duration": 26,
    "start_time": "2024-05-18T10:53:02.533Z"
   },
   {
    "duration": 18,
    "start_time": "2024-05-18T10:53:02.561Z"
   },
   {
    "duration": 12,
    "start_time": "2024-05-18T10:53:02.581Z"
   },
   {
    "duration": 12,
    "start_time": "2024-05-18T10:53:02.594Z"
   },
   {
    "duration": 10,
    "start_time": "2024-05-18T10:53:26.259Z"
   },
   {
    "duration": 20,
    "start_time": "2024-05-18T10:56:28.762Z"
   },
   {
    "duration": 10,
    "start_time": "2024-05-18T10:56:38.200Z"
   },
   {
    "duration": 444,
    "start_time": "2024-05-18T10:56:48.921Z"
   },
   {
    "duration": 10,
    "start_time": "2024-05-18T10:57:11.475Z"
   },
   {
    "duration": 20,
    "start_time": "2024-05-18T10:58:08.270Z"
   },
   {
    "duration": 21,
    "start_time": "2024-05-18T10:59:30.097Z"
   },
   {
    "duration": 568,
    "start_time": "2024-05-18T10:59:56.497Z"
   },
   {
    "duration": 25,
    "start_time": "2024-05-18T11:01:29.741Z"
   },
   {
    "duration": 10,
    "start_time": "2024-05-18T11:01:30.892Z"
   },
   {
    "duration": 30,
    "start_time": "2024-05-18T11:02:42.864Z"
   },
   {
    "duration": 571,
    "start_time": "2024-05-18T11:02:45.495Z"
   },
   {
    "duration": 1284,
    "start_time": "2024-05-18T11:03:08.070Z"
   },
   {
    "duration": 59,
    "start_time": "2024-05-18T11:03:09.356Z"
   },
   {
    "duration": 20,
    "start_time": "2024-05-18T11:03:09.416Z"
   },
   {
    "duration": 14,
    "start_time": "2024-05-18T11:03:09.438Z"
   },
   {
    "duration": 8,
    "start_time": "2024-05-18T11:03:09.454Z"
   },
   {
    "duration": 20,
    "start_time": "2024-05-18T11:03:09.464Z"
   },
   {
    "duration": 20,
    "start_time": "2024-05-18T11:03:09.486Z"
   },
   {
    "duration": 10,
    "start_time": "2024-05-18T11:03:09.507Z"
   },
   {
    "duration": 5,
    "start_time": "2024-05-18T11:03:09.519Z"
   },
   {
    "duration": 5,
    "start_time": "2024-05-18T11:03:09.526Z"
   },
   {
    "duration": 36,
    "start_time": "2024-05-18T11:03:09.532Z"
   },
   {
    "duration": 4,
    "start_time": "2024-05-18T11:03:09.570Z"
   },
   {
    "duration": 23,
    "start_time": "2024-05-18T11:03:09.576Z"
   },
   {
    "duration": 25,
    "start_time": "2024-05-18T11:03:09.600Z"
   },
   {
    "duration": 10,
    "start_time": "2024-05-18T11:03:09.627Z"
   },
   {
    "duration": 15,
    "start_time": "2024-05-18T11:03:09.638Z"
   },
   {
    "duration": 16,
    "start_time": "2024-05-18T11:03:09.655Z"
   },
   {
    "duration": 19,
    "start_time": "2024-05-18T11:03:09.673Z"
   },
   {
    "duration": 17,
    "start_time": "2024-05-18T11:03:09.693Z"
   },
   {
    "duration": 10,
    "start_time": "2024-05-18T11:03:09.711Z"
   },
   {
    "duration": 30,
    "start_time": "2024-05-18T11:03:09.723Z"
   },
   {
    "duration": 24,
    "start_time": "2024-05-18T11:03:09.754Z"
   },
   {
    "duration": 441,
    "start_time": "2024-05-18T11:03:09.779Z"
   },
   {
    "duration": 21,
    "start_time": "2024-05-18T11:03:10.222Z"
   },
   {
    "duration": 24,
    "start_time": "2024-05-18T11:03:10.245Z"
   },
   {
    "duration": 362,
    "start_time": "2024-05-18T11:03:10.270Z"
   },
   {
    "duration": 29,
    "start_time": "2024-05-18T11:03:10.633Z"
   },
   {
    "duration": 587,
    "start_time": "2024-05-18T11:03:10.666Z"
   },
   {
    "duration": 23,
    "start_time": "2024-05-18T11:03:11.255Z"
   },
   {
    "duration": 31,
    "start_time": "2024-05-18T11:03:11.279Z"
   },
   {
    "duration": 24,
    "start_time": "2024-05-18T11:03:11.311Z"
   },
   {
    "duration": 8,
    "start_time": "2024-05-18T11:03:11.336Z"
   },
   {
    "duration": 399,
    "start_time": "2024-05-18T11:03:11.346Z"
   },
   {
    "duration": 542,
    "start_time": "2024-05-18T11:03:11.748Z"
   },
   {
    "duration": 13,
    "start_time": "2024-05-18T11:03:12.292Z"
   },
   {
    "duration": 522,
    "start_time": "2024-05-18T11:03:12.307Z"
   },
   {
    "duration": 12,
    "start_time": "2024-05-18T11:03:12.831Z"
   },
   {
    "duration": 402,
    "start_time": "2024-05-18T11:03:12.845Z"
   },
   {
    "duration": 16,
    "start_time": "2024-05-18T11:03:13.249Z"
   },
   {
    "duration": 619,
    "start_time": "2024-05-18T11:03:13.267Z"
   },
   {
    "duration": 12,
    "start_time": "2024-05-18T11:03:13.888Z"
   },
   {
    "duration": 24,
    "start_time": "2024-05-18T11:03:13.902Z"
   },
   {
    "duration": 38,
    "start_time": "2024-05-18T11:03:13.928Z"
   },
   {
    "duration": 13,
    "start_time": "2024-05-18T11:03:13.968Z"
   },
   {
    "duration": 13,
    "start_time": "2024-05-18T11:03:13.982Z"
   },
   {
    "duration": 8,
    "start_time": "2024-05-18T11:03:13.997Z"
   },
   {
    "duration": 197,
    "start_time": "2024-05-18T11:03:14.007Z"
   },
   {
    "duration": 15,
    "start_time": "2024-05-18T11:03:14.206Z"
   },
   {
    "duration": 19,
    "start_time": "2024-05-18T11:03:14.222Z"
   },
   {
    "duration": 179,
    "start_time": "2024-05-18T11:03:14.242Z"
   },
   {
    "duration": 11,
    "start_time": "2024-05-18T11:03:14.423Z"
   },
   {
    "duration": 182,
    "start_time": "2024-05-18T11:03:14.436Z"
   },
   {
    "duration": 12,
    "start_time": "2024-05-18T11:03:14.619Z"
   },
   {
    "duration": 179,
    "start_time": "2024-05-18T11:03:14.633Z"
   },
   {
    "duration": 13,
    "start_time": "2024-05-18T11:03:14.814Z"
   },
   {
    "duration": 12,
    "start_time": "2024-05-18T11:03:14.829Z"
   },
   {
    "duration": 27,
    "start_time": "2024-05-18T11:03:14.842Z"
   },
   {
    "duration": 14,
    "start_time": "2024-05-18T11:03:14.870Z"
   },
   {
    "duration": 16,
    "start_time": "2024-05-18T11:03:14.886Z"
   },
   {
    "duration": 13,
    "start_time": "2024-05-18T11:03:14.904Z"
   },
   {
    "duration": 46,
    "start_time": "2024-05-18T11:03:14.918Z"
   },
   {
    "duration": 14,
    "start_time": "2024-05-18T11:03:14.965Z"
   },
   {
    "duration": 14,
    "start_time": "2024-05-18T11:03:14.981Z"
   },
   {
    "duration": 5,
    "start_time": "2024-05-18T11:03:14.996Z"
   },
   {
    "duration": 42,
    "start_time": "2024-05-18T11:03:15.004Z"
   },
   {
    "duration": 17,
    "start_time": "2024-05-18T11:03:15.048Z"
   },
   {
    "duration": 24,
    "start_time": "2024-05-18T11:03:15.067Z"
   },
   {
    "duration": 60,
    "start_time": "2024-05-18T11:03:15.093Z"
   },
   {
    "duration": 33,
    "start_time": "2024-05-18T11:03:15.154Z"
   },
   {
    "duration": 18,
    "start_time": "2024-05-18T11:03:15.189Z"
   },
   {
    "duration": 1412,
    "start_time": "2024-05-18T12:59:53.262Z"
   },
   {
    "duration": 205,
    "start_time": "2024-05-18T12:59:54.676Z"
   },
   {
    "duration": 25,
    "start_time": "2024-05-18T12:59:54.883Z"
   },
   {
    "duration": 15,
    "start_time": "2024-05-18T12:59:54.911Z"
   },
   {
    "duration": 4,
    "start_time": "2024-05-18T12:59:54.928Z"
   },
   {
    "duration": 40,
    "start_time": "2024-05-18T12:59:54.934Z"
   },
   {
    "duration": 39,
    "start_time": "2024-05-18T12:59:54.976Z"
   },
   {
    "duration": 13,
    "start_time": "2024-05-18T12:59:55.017Z"
   },
   {
    "duration": 71,
    "start_time": "2024-05-18T12:59:55.032Z"
   },
   {
    "duration": 28,
    "start_time": "2024-05-18T12:59:55.107Z"
   },
   {
    "duration": 21,
    "start_time": "2024-05-18T12:59:55.137Z"
   },
   {
    "duration": 16,
    "start_time": "2024-05-18T12:59:55.160Z"
   },
   {
    "duration": 31,
    "start_time": "2024-05-18T12:59:55.178Z"
   },
   {
    "duration": 33,
    "start_time": "2024-05-18T12:59:55.211Z"
   },
   {
    "duration": 23,
    "start_time": "2024-05-18T12:59:55.246Z"
   },
   {
    "duration": 52,
    "start_time": "2024-05-18T12:59:55.271Z"
   },
   {
    "duration": 42,
    "start_time": "2024-05-18T12:59:55.325Z"
   },
   {
    "duration": 17,
    "start_time": "2024-05-18T12:59:55.369Z"
   },
   {
    "duration": 28,
    "start_time": "2024-05-18T12:59:55.387Z"
   },
   {
    "duration": 130,
    "start_time": "2024-05-18T12:59:55.416Z"
   },
   {
    "duration": 36,
    "start_time": "2024-05-18T12:59:55.548Z"
   },
   {
    "duration": 47,
    "start_time": "2024-05-18T12:59:55.585Z"
   },
   {
    "duration": 430,
    "start_time": "2024-05-18T12:59:55.634Z"
   },
   {
    "duration": 27,
    "start_time": "2024-05-18T12:59:56.066Z"
   },
   {
    "duration": 35,
    "start_time": "2024-05-18T12:59:56.095Z"
   },
   {
    "duration": 370,
    "start_time": "2024-05-18T12:59:56.132Z"
   },
   {
    "duration": 31,
    "start_time": "2024-05-18T12:59:56.504Z"
   },
   {
    "duration": 636,
    "start_time": "2024-05-18T12:59:56.539Z"
   },
   {
    "duration": 20,
    "start_time": "2024-05-18T12:59:57.177Z"
   },
   {
    "duration": 55,
    "start_time": "2024-05-18T12:59:57.199Z"
   },
   {
    "duration": 18,
    "start_time": "2024-05-18T12:59:57.256Z"
   },
   {
    "duration": 7,
    "start_time": "2024-05-18T12:59:57.276Z"
   },
   {
    "duration": 398,
    "start_time": "2024-05-18T12:59:57.285Z"
   },
   {
    "duration": 588,
    "start_time": "2024-05-18T12:59:57.685Z"
   },
   {
    "duration": 16,
    "start_time": "2024-05-18T12:59:58.275Z"
   },
   {
    "duration": 705,
    "start_time": "2024-05-18T12:59:58.294Z"
   },
   {
    "duration": 13,
    "start_time": "2024-05-18T12:59:59.001Z"
   },
   {
    "duration": 451,
    "start_time": "2024-05-18T12:59:59.016Z"
   },
   {
    "duration": 13,
    "start_time": "2024-05-18T12:59:59.472Z"
   },
   {
    "duration": 657,
    "start_time": "2024-05-18T12:59:59.486Z"
   },
   {
    "duration": 13,
    "start_time": "2024-05-18T13:00:00.145Z"
   },
   {
    "duration": 95,
    "start_time": "2024-05-18T13:00:00.159Z"
   },
   {
    "duration": 231,
    "start_time": "2024-05-18T13:00:00.256Z"
   },
   {
    "duration": 70,
    "start_time": "2024-05-18T13:00:00.489Z"
   },
   {
    "duration": 71,
    "start_time": "2024-05-18T13:00:00.561Z"
   },
   {
    "duration": 98,
    "start_time": "2024-05-18T13:00:00.633Z"
   },
   {
    "duration": 269,
    "start_time": "2024-05-18T13:00:00.733Z"
   },
   {
    "duration": 90,
    "start_time": "2024-05-18T13:00:01.004Z"
   },
   {
    "duration": 200,
    "start_time": "2024-05-18T13:00:01.096Z"
   },
   {
    "duration": 286,
    "start_time": "2024-05-18T13:00:01.298Z"
   },
   {
    "duration": 80,
    "start_time": "2024-05-18T13:00:01.586Z"
   },
   {
    "duration": 366,
    "start_time": "2024-05-18T13:00:01.667Z"
   },
   {
    "duration": 140,
    "start_time": "2024-05-18T13:00:02.035Z"
   },
   {
    "duration": 463,
    "start_time": "2024-05-18T13:00:02.177Z"
   },
   {
    "duration": 16,
    "start_time": "2024-05-18T13:00:02.642Z"
   },
   {
    "duration": 164,
    "start_time": "2024-05-18T13:00:02.660Z"
   },
   {
    "duration": 46,
    "start_time": "2024-05-18T13:00:02.825Z"
   },
   {
    "duration": 26,
    "start_time": "2024-05-18T13:00:02.873Z"
   },
   {
    "duration": 34,
    "start_time": "2024-05-18T13:00:02.900Z"
   },
   {
    "duration": 17,
    "start_time": "2024-05-18T13:00:02.936Z"
   },
   {
    "duration": 14,
    "start_time": "2024-05-18T13:00:02.954Z"
   },
   {
    "duration": 12,
    "start_time": "2024-05-18T13:00:02.970Z"
   },
   {
    "duration": 29,
    "start_time": "2024-05-18T13:00:02.984Z"
   },
   {
    "duration": 108,
    "start_time": "2024-05-18T13:00:03.015Z"
   },
   {
    "duration": 22,
    "start_time": "2024-05-18T13:00:03.125Z"
   },
   {
    "duration": 17,
    "start_time": "2024-05-18T13:00:03.149Z"
   },
   {
    "duration": 30,
    "start_time": "2024-05-18T13:00:03.168Z"
   },
   {
    "duration": 25,
    "start_time": "2024-05-18T13:00:03.199Z"
   },
   {
    "duration": 14,
    "start_time": "2024-05-18T13:00:03.226Z"
   },
   {
    "duration": 44,
    "start_time": "2024-05-18T13:00:03.242Z"
   },
   {
    "duration": 1914,
    "start_time": "2024-05-18T15:10:39.149Z"
   },
   {
    "duration": 138,
    "start_time": "2024-05-18T15:10:41.066Z"
   },
   {
    "duration": 33,
    "start_time": "2024-05-18T15:10:41.206Z"
   },
   {
    "duration": 24,
    "start_time": "2024-05-18T15:10:41.242Z"
   },
   {
    "duration": 23,
    "start_time": "2024-05-18T15:10:41.268Z"
   },
   {
    "duration": 36,
    "start_time": "2024-05-18T15:10:41.293Z"
   },
   {
    "duration": 32,
    "start_time": "2024-05-18T15:10:41.331Z"
   },
   {
    "duration": 25,
    "start_time": "2024-05-18T15:10:41.365Z"
   },
   {
    "duration": 30,
    "start_time": "2024-05-18T15:10:41.392Z"
   },
   {
    "duration": 8,
    "start_time": "2024-05-18T15:10:41.426Z"
   },
   {
    "duration": 22,
    "start_time": "2024-05-18T15:10:41.436Z"
   },
   {
    "duration": 6,
    "start_time": "2024-05-18T15:10:41.460Z"
   },
   {
    "duration": 28,
    "start_time": "2024-05-18T15:10:41.469Z"
   },
   {
    "duration": 26,
    "start_time": "2024-05-18T15:10:41.500Z"
   },
   {
    "duration": 13,
    "start_time": "2024-05-18T15:10:41.529Z"
   },
   {
    "duration": 7,
    "start_time": "2024-05-18T15:10:41.544Z"
   },
   {
    "duration": 31,
    "start_time": "2024-05-18T15:10:41.553Z"
   },
   {
    "duration": 22,
    "start_time": "2024-05-18T15:10:41.586Z"
   },
   {
    "duration": 6,
    "start_time": "2024-05-18T15:10:41.610Z"
   },
   {
    "duration": 11,
    "start_time": "2024-05-18T15:10:41.618Z"
   },
   {
    "duration": 25,
    "start_time": "2024-05-18T15:10:41.632Z"
   },
   {
    "duration": 37,
    "start_time": "2024-05-18T15:10:41.659Z"
   },
   {
    "duration": 661,
    "start_time": "2024-05-18T15:10:41.700Z"
   },
   {
    "duration": 45,
    "start_time": "2024-05-18T15:10:42.365Z"
   },
   {
    "duration": 15,
    "start_time": "2024-05-18T15:10:42.413Z"
   },
   {
    "duration": 586,
    "start_time": "2024-05-18T15:10:42.430Z"
   },
   {
    "duration": 34,
    "start_time": "2024-05-18T15:10:43.022Z"
   },
   {
    "duration": 958,
    "start_time": "2024-05-18T15:10:43.062Z"
   },
   {
    "duration": 27,
    "start_time": "2024-05-18T15:10:44.022Z"
   },
   {
    "duration": 10,
    "start_time": "2024-05-18T15:10:44.051Z"
   },
   {
    "duration": 44,
    "start_time": "2024-05-18T15:10:44.063Z"
   },
   {
    "duration": 10,
    "start_time": "2024-05-18T15:10:44.115Z"
   },
   {
    "duration": 457,
    "start_time": "2024-05-18T15:10:44.127Z"
   },
   {
    "duration": 747,
    "start_time": "2024-05-18T15:10:44.592Z"
   },
   {
    "duration": 16,
    "start_time": "2024-05-18T15:10:45.342Z"
   },
   {
    "duration": 590,
    "start_time": "2024-05-18T15:10:45.360Z"
   },
   {
    "duration": 17,
    "start_time": "2024-05-18T15:10:45.952Z"
   },
   {
    "duration": 424,
    "start_time": "2024-05-18T15:10:45.982Z"
   },
   {
    "duration": 15,
    "start_time": "2024-05-18T15:10:46.409Z"
   },
   {
    "duration": 682,
    "start_time": "2024-05-18T15:10:46.426Z"
   },
   {
    "duration": 18,
    "start_time": "2024-05-18T15:10:47.113Z"
   },
   {
    "duration": 12,
    "start_time": "2024-05-18T15:10:47.133Z"
   },
   {
    "duration": 34,
    "start_time": "2024-05-18T15:10:47.147Z"
   },
   {
    "duration": 27,
    "start_time": "2024-05-18T15:10:47.183Z"
   },
   {
    "duration": 26,
    "start_time": "2024-05-18T15:10:47.221Z"
   },
   {
    "duration": 17,
    "start_time": "2024-05-18T15:10:47.249Z"
   },
   {
    "duration": 302,
    "start_time": "2024-05-18T15:10:47.268Z"
   },
   {
    "duration": 37,
    "start_time": "2024-05-18T15:10:47.572Z"
   },
   {
    "duration": 17,
    "start_time": "2024-05-18T15:10:47.612Z"
   },
   {
    "duration": 295,
    "start_time": "2024-05-18T15:10:47.632Z"
   },
   {
    "duration": 22,
    "start_time": "2024-05-18T15:10:47.935Z"
   },
   {
    "duration": 262,
    "start_time": "2024-05-18T15:10:47.959Z"
   },
   {
    "duration": 13,
    "start_time": "2024-05-18T15:10:48.223Z"
   },
   {
    "duration": 238,
    "start_time": "2024-05-18T15:10:48.238Z"
   },
   {
    "duration": 22,
    "start_time": "2024-05-18T15:10:48.479Z"
   },
   {
    "duration": 16,
    "start_time": "2024-05-18T15:10:48.504Z"
   },
   {
    "duration": 17,
    "start_time": "2024-05-18T15:10:48.522Z"
   },
   {
    "duration": 16,
    "start_time": "2024-05-18T15:10:48.541Z"
   },
   {
    "duration": 24,
    "start_time": "2024-05-18T15:10:48.585Z"
   },
   {
    "duration": 24,
    "start_time": "2024-05-18T15:10:48.610Z"
   },
   {
    "duration": 20,
    "start_time": "2024-05-18T15:10:48.636Z"
   },
   {
    "duration": 37,
    "start_time": "2024-05-18T15:10:48.658Z"
   },
   {
    "duration": 23,
    "start_time": "2024-05-18T15:10:48.696Z"
   },
   {
    "duration": 3,
    "start_time": "2024-05-18T15:10:48.726Z"
   },
   {
    "duration": 14,
    "start_time": "2024-05-18T15:10:48.732Z"
   },
   {
    "duration": 5,
    "start_time": "2024-05-18T15:10:48.748Z"
   },
   {
    "duration": 36,
    "start_time": "2024-05-18T15:10:48.755Z"
   },
   {
    "duration": 14,
    "start_time": "2024-05-18T15:10:48.797Z"
   },
   {
    "duration": 7,
    "start_time": "2024-05-18T15:10:48.815Z"
   },
   {
    "duration": 14,
    "start_time": "2024-05-18T15:10:48.824Z"
   },
   {
    "duration": 60,
    "start_time": "2024-05-18T15:30:25.530Z"
   },
   {
    "duration": 413,
    "start_time": "2024-05-18T15:33:15.156Z"
   },
   {
    "duration": 8,
    "start_time": "2024-05-18T15:36:59.549Z"
   },
   {
    "duration": 22,
    "start_time": "2024-05-18T15:37:06.777Z"
   },
   {
    "duration": 19,
    "start_time": "2024-05-18T15:38:11.928Z"
   },
   {
    "duration": 12,
    "start_time": "2024-05-18T15:47:49.269Z"
   },
   {
    "duration": 8,
    "start_time": "2024-05-18T15:48:03.583Z"
   },
   {
    "duration": 9,
    "start_time": "2024-05-18T15:48:56.665Z"
   },
   {
    "duration": 59,
    "start_time": "2024-05-18T15:50:04.659Z"
   },
   {
    "duration": 63,
    "start_time": "2024-05-18T15:50:09.908Z"
   },
   {
    "duration": 136,
    "start_time": "2024-05-18T15:50:16.116Z"
   },
   {
    "duration": 8,
    "start_time": "2024-05-18T15:50:47.629Z"
   },
   {
    "duration": 12,
    "start_time": "2024-05-18T15:51:01.181Z"
   },
   {
    "duration": 656,
    "start_time": "2024-05-18T15:51:12.047Z"
   },
   {
    "duration": 8,
    "start_time": "2024-05-18T15:51:12.705Z"
   },
   {
    "duration": 9,
    "start_time": "2024-05-18T15:51:13.631Z"
   },
   {
    "duration": 9,
    "start_time": "2024-05-18T15:51:48.056Z"
   },
   {
    "duration": 11,
    "start_time": "2024-05-18T15:51:53.823Z"
   },
   {
    "duration": 9,
    "start_time": "2024-05-18T15:52:54.098Z"
   },
   {
    "duration": 9,
    "start_time": "2024-05-18T15:53:02.618Z"
   },
   {
    "duration": 18,
    "start_time": "2024-05-18T15:56:07.659Z"
   },
   {
    "duration": 28,
    "start_time": "2024-05-18T15:57:00.170Z"
   },
   {
    "duration": 10,
    "start_time": "2024-05-18T15:57:20.102Z"
   },
   {
    "duration": 26,
    "start_time": "2024-05-18T16:00:29.468Z"
   },
   {
    "duration": 27,
    "start_time": "2024-05-18T16:07:23.168Z"
   },
   {
    "duration": 24,
    "start_time": "2024-05-18T16:07:42.025Z"
   },
   {
    "duration": 22,
    "start_time": "2024-05-18T16:08:15.425Z"
   },
   {
    "duration": 21,
    "start_time": "2024-05-18T16:09:25.913Z"
   },
   {
    "duration": 18,
    "start_time": "2024-05-18T16:10:45.514Z"
   },
   {
    "duration": 25,
    "start_time": "2024-05-18T16:14:33.055Z"
   },
   {
    "duration": 19,
    "start_time": "2024-05-18T16:15:32.503Z"
   },
   {
    "duration": 21,
    "start_time": "2024-05-18T16:16:43.391Z"
   },
   {
    "duration": 20,
    "start_time": "2024-05-18T16:16:51.901Z"
   },
   {
    "duration": 1435,
    "start_time": "2024-05-18T16:25:08.373Z"
   },
   {
    "duration": 62,
    "start_time": "2024-05-18T16:25:09.810Z"
   },
   {
    "duration": 32,
    "start_time": "2024-05-18T16:25:09.873Z"
   },
   {
    "duration": 18,
    "start_time": "2024-05-18T16:25:09.907Z"
   },
   {
    "duration": 6,
    "start_time": "2024-05-18T16:25:09.927Z"
   },
   {
    "duration": 23,
    "start_time": "2024-05-18T16:25:09.934Z"
   },
   {
    "duration": 42,
    "start_time": "2024-05-18T16:25:09.958Z"
   },
   {
    "duration": 14,
    "start_time": "2024-05-18T16:25:10.004Z"
   },
   {
    "duration": 26,
    "start_time": "2024-05-18T16:25:10.020Z"
   },
   {
    "duration": 9,
    "start_time": "2024-05-18T16:25:10.049Z"
   },
   {
    "duration": 27,
    "start_time": "2024-05-18T16:25:10.060Z"
   },
   {
    "duration": 15,
    "start_time": "2024-05-18T16:25:10.089Z"
   },
   {
    "duration": 25,
    "start_time": "2024-05-18T16:25:10.106Z"
   },
   {
    "duration": 26,
    "start_time": "2024-05-18T16:25:10.132Z"
   },
   {
    "duration": 15,
    "start_time": "2024-05-18T16:25:10.160Z"
   },
   {
    "duration": 18,
    "start_time": "2024-05-18T16:25:10.176Z"
   },
   {
    "duration": 9,
    "start_time": "2024-05-18T16:25:10.196Z"
   },
   {
    "duration": 23,
    "start_time": "2024-05-18T16:25:10.207Z"
   },
   {
    "duration": 19,
    "start_time": "2024-05-18T16:25:10.231Z"
   },
   {
    "duration": 28,
    "start_time": "2024-05-18T16:25:10.251Z"
   },
   {
    "duration": 39,
    "start_time": "2024-05-18T16:25:10.281Z"
   },
   {
    "duration": 16,
    "start_time": "2024-05-18T16:25:10.322Z"
   },
   {
    "duration": 531,
    "start_time": "2024-05-18T16:25:10.339Z"
   },
   {
    "duration": 48,
    "start_time": "2024-05-18T16:25:10.872Z"
   },
   {
    "duration": 13,
    "start_time": "2024-05-18T16:25:10.921Z"
   },
   {
    "duration": 391,
    "start_time": "2024-05-18T16:25:10.936Z"
   },
   {
    "duration": 23,
    "start_time": "2024-05-18T16:25:11.329Z"
   },
   {
    "duration": 702,
    "start_time": "2024-05-18T16:25:11.356Z"
   },
   {
    "duration": 41,
    "start_time": "2024-05-18T16:25:12.060Z"
   },
   {
    "duration": 28,
    "start_time": "2024-05-18T16:25:12.103Z"
   },
   {
    "duration": 12,
    "start_time": "2024-05-18T16:25:12.133Z"
   },
   {
    "duration": 135,
    "start_time": "2024-05-18T16:25:12.147Z"
   },
   {
    "duration": 13,
    "start_time": "2024-05-18T16:25:12.295Z"
   },
   {
    "duration": 389,
    "start_time": "2024-05-18T16:25:12.310Z"
   },
   {
    "duration": 330,
    "start_time": "2024-05-18T16:25:12.700Z"
   },
   {
    "duration": 19,
    "start_time": "2024-05-18T16:25:13.032Z"
   },
   {
    "duration": 584,
    "start_time": "2024-05-18T16:25:13.053Z"
   },
   {
    "duration": 12,
    "start_time": "2024-05-18T16:25:13.639Z"
   },
   {
    "duration": 590,
    "start_time": "2024-05-18T16:25:13.653Z"
   },
   {
    "duration": 15,
    "start_time": "2024-05-18T16:25:14.246Z"
   },
   {
    "duration": 490,
    "start_time": "2024-05-18T16:25:14.263Z"
   },
   {
    "duration": 16,
    "start_time": "2024-05-18T16:25:14.755Z"
   },
   {
    "duration": 581,
    "start_time": "2024-05-18T16:25:14.787Z"
   },
   {
    "duration": 22,
    "start_time": "2024-05-18T16:25:15.371Z"
   },
   {
    "duration": 11,
    "start_time": "2024-05-18T16:25:15.400Z"
   },
   {
    "duration": 20,
    "start_time": "2024-05-18T16:25:15.414Z"
   },
   {
    "duration": 13,
    "start_time": "2024-05-18T16:25:15.436Z"
   },
   {
    "duration": 40,
    "start_time": "2024-05-18T16:25:15.450Z"
   },
   {
    "duration": 20,
    "start_time": "2024-05-18T16:25:15.492Z"
   },
   {
    "duration": 217,
    "start_time": "2024-05-18T16:25:15.514Z"
   },
   {
    "duration": 27,
    "start_time": "2024-05-18T16:25:15.733Z"
   },
   {
    "duration": 36,
    "start_time": "2024-05-18T16:25:15.762Z"
   },
   {
    "duration": 218,
    "start_time": "2024-05-18T16:25:15.800Z"
   },
   {
    "duration": 15,
    "start_time": "2024-05-18T16:25:16.021Z"
   },
   {
    "duration": 337,
    "start_time": "2024-05-18T16:25:16.038Z"
   },
   {
    "duration": 31,
    "start_time": "2024-05-18T16:25:16.377Z"
   },
   {
    "duration": 219,
    "start_time": "2024-05-18T16:25:16.410Z"
   },
   {
    "duration": 16,
    "start_time": "2024-05-18T16:25:16.631Z"
   },
   {
    "duration": 14,
    "start_time": "2024-05-18T16:25:16.649Z"
   },
   {
    "duration": 20,
    "start_time": "2024-05-18T16:25:16.684Z"
   },
   {
    "duration": 12,
    "start_time": "2024-05-18T16:25:16.706Z"
   },
   {
    "duration": 16,
    "start_time": "2024-05-18T16:25:16.720Z"
   },
   {
    "duration": 15,
    "start_time": "2024-05-18T16:25:16.738Z"
   },
   {
    "duration": 47,
    "start_time": "2024-05-18T16:25:16.755Z"
   },
   {
    "duration": 15,
    "start_time": "2024-05-18T16:25:16.804Z"
   },
   {
    "duration": 16,
    "start_time": "2024-05-18T16:25:16.821Z"
   },
   {
    "duration": 11,
    "start_time": "2024-05-18T16:25:16.838Z"
   },
   {
    "duration": 33,
    "start_time": "2024-05-18T16:25:16.850Z"
   },
   {
    "duration": 14,
    "start_time": "2024-05-18T16:25:16.885Z"
   },
   {
    "duration": 18,
    "start_time": "2024-05-18T16:25:16.900Z"
   },
   {
    "duration": 30,
    "start_time": "2024-05-18T16:25:16.920Z"
   },
   {
    "duration": 6,
    "start_time": "2024-05-18T16:25:16.952Z"
   },
   {
    "duration": 10,
    "start_time": "2024-05-18T16:25:16.959Z"
   },
   {
    "duration": 1264,
    "start_time": "2024-05-18T22:17:33.907Z"
   },
   {
    "duration": 108,
    "start_time": "2024-05-18T22:17:35.172Z"
   },
   {
    "duration": 19,
    "start_time": "2024-05-18T22:17:35.282Z"
   },
   {
    "duration": 28,
    "start_time": "2024-05-18T22:17:35.302Z"
   },
   {
    "duration": 4,
    "start_time": "2024-05-18T22:17:35.331Z"
   },
   {
    "duration": 18,
    "start_time": "2024-05-18T22:17:35.337Z"
   },
   {
    "duration": 18,
    "start_time": "2024-05-18T22:17:35.356Z"
   },
   {
    "duration": 10,
    "start_time": "2024-05-18T22:17:35.375Z"
   },
   {
    "duration": 5,
    "start_time": "2024-05-18T22:17:35.386Z"
   },
   {
    "duration": 6,
    "start_time": "2024-05-18T22:17:35.393Z"
   },
   {
    "duration": 20,
    "start_time": "2024-05-18T22:17:35.401Z"
   },
   {
    "duration": 4,
    "start_time": "2024-05-18T22:17:35.422Z"
   },
   {
    "duration": 41,
    "start_time": "2024-05-18T22:17:35.428Z"
   },
   {
    "duration": 22,
    "start_time": "2024-05-18T22:17:35.471Z"
   },
   {
    "duration": 10,
    "start_time": "2024-05-18T22:17:35.495Z"
   },
   {
    "duration": 6,
    "start_time": "2024-05-18T22:17:35.507Z"
   },
   {
    "duration": 7,
    "start_time": "2024-05-18T22:17:35.515Z"
   },
   {
    "duration": 8,
    "start_time": "2024-05-18T22:17:35.524Z"
   },
   {
    "duration": 29,
    "start_time": "2024-05-18T22:17:35.533Z"
   },
   {
    "duration": 34,
    "start_time": "2024-05-18T22:17:35.563Z"
   },
   {
    "duration": 36,
    "start_time": "2024-05-18T22:17:35.599Z"
   },
   {
    "duration": 11,
    "start_time": "2024-05-18T22:17:35.637Z"
   },
   {
    "duration": 431,
    "start_time": "2024-05-18T22:17:35.649Z"
   },
   {
    "duration": 24,
    "start_time": "2024-05-18T22:17:36.083Z"
   },
   {
    "duration": 10,
    "start_time": "2024-05-18T22:17:36.108Z"
   },
   {
    "duration": 362,
    "start_time": "2024-05-18T22:17:36.120Z"
   },
   {
    "duration": 28,
    "start_time": "2024-05-18T22:17:36.484Z"
   },
   {
    "duration": 591,
    "start_time": "2024-05-18T22:17:36.515Z"
   },
   {
    "duration": 21,
    "start_time": "2024-05-18T22:17:37.109Z"
   },
   {
    "duration": 38,
    "start_time": "2024-05-18T22:17:37.132Z"
   },
   {
    "duration": 8,
    "start_time": "2024-05-18T22:17:37.172Z"
   },
   {
    "duration": 101,
    "start_time": "2024-05-18T22:17:37.181Z"
   },
   {
    "duration": 8,
    "start_time": "2024-05-18T22:17:37.283Z"
   },
   {
    "duration": 295,
    "start_time": "2024-05-18T22:17:37.292Z"
   },
   {
    "duration": 274,
    "start_time": "2024-05-18T22:17:37.589Z"
   },
   {
    "duration": 22,
    "start_time": "2024-05-18T22:17:37.865Z"
   },
   {
    "duration": 585,
    "start_time": "2024-05-18T22:17:37.888Z"
   },
   {
    "duration": 11,
    "start_time": "2024-05-18T22:17:38.475Z"
   },
   {
    "duration": 540,
    "start_time": "2024-05-18T22:17:38.488Z"
   },
   {
    "duration": 11,
    "start_time": "2024-05-18T22:17:39.029Z"
   },
   {
    "duration": 389,
    "start_time": "2024-05-18T22:17:39.042Z"
   },
   {
    "duration": 12,
    "start_time": "2024-05-18T22:17:39.433Z"
   },
   {
    "duration": 547,
    "start_time": "2024-05-18T22:17:39.446Z"
   },
   {
    "duration": 11,
    "start_time": "2024-05-18T22:17:39.995Z"
   },
   {
    "duration": 29,
    "start_time": "2024-05-18T22:17:40.008Z"
   },
   {
    "duration": 32,
    "start_time": "2024-05-18T22:17:40.038Z"
   },
   {
    "duration": 21,
    "start_time": "2024-05-18T22:17:40.072Z"
   },
   {
    "duration": 22,
    "start_time": "2024-05-18T22:17:40.095Z"
   },
   {
    "duration": 8,
    "start_time": "2024-05-18T22:17:40.118Z"
   },
   {
    "duration": 177,
    "start_time": "2024-05-18T22:17:40.127Z"
   },
   {
    "duration": 14,
    "start_time": "2024-05-18T22:17:40.305Z"
   },
   {
    "duration": 13,
    "start_time": "2024-05-18T22:17:40.320Z"
   },
   {
    "duration": 187,
    "start_time": "2024-05-18T22:17:40.334Z"
   },
   {
    "duration": 11,
    "start_time": "2024-05-18T22:17:40.523Z"
   },
   {
    "duration": 267,
    "start_time": "2024-05-18T22:17:40.536Z"
   },
   {
    "duration": 11,
    "start_time": "2024-05-18T22:17:40.805Z"
   },
   {
    "duration": 192,
    "start_time": "2024-05-18T22:17:40.817Z"
   },
   {
    "duration": 14,
    "start_time": "2024-05-18T22:17:41.011Z"
   },
   {
    "duration": 15,
    "start_time": "2024-05-18T22:17:41.027Z"
   },
   {
    "duration": 13,
    "start_time": "2024-05-18T22:17:41.060Z"
   },
   {
    "duration": 11,
    "start_time": "2024-05-18T22:17:41.074Z"
   },
   {
    "duration": 13,
    "start_time": "2024-05-18T22:17:41.086Z"
   },
   {
    "duration": 14,
    "start_time": "2024-05-18T22:17:41.100Z"
   },
   {
    "duration": 53,
    "start_time": "2024-05-18T22:17:41.115Z"
   },
   {
    "duration": 13,
    "start_time": "2024-05-18T22:17:41.169Z"
   },
   {
    "duration": 16,
    "start_time": "2024-05-18T22:17:41.184Z"
   },
   {
    "duration": 6,
    "start_time": "2024-05-18T22:17:41.201Z"
   },
   {
    "duration": 9,
    "start_time": "2024-05-18T22:17:41.209Z"
   },
   {
    "duration": 6,
    "start_time": "2024-05-18T22:17:41.219Z"
   },
   {
    "duration": 40,
    "start_time": "2024-05-18T22:17:41.226Z"
   },
   {
    "duration": 11,
    "start_time": "2024-05-18T22:17:41.268Z"
   },
   {
    "duration": 13,
    "start_time": "2024-05-18T22:17:41.280Z"
   },
   {
    "duration": 15,
    "start_time": "2024-05-18T22:17:41.295Z"
   }
  ],
  "kernelspec": {
   "display_name": "Python 3 (ipykernel)",
   "language": "python",
   "name": "python3"
  },
  "language_info": {
   "codemirror_mode": {
    "name": "ipython",
    "version": 3
   },
   "file_extension": ".py",
   "mimetype": "text/x-python",
   "name": "python",
   "nbconvert_exporter": "python",
   "pygments_lexer": "ipython3",
   "version": "3.11.5"
  },
  "toc": {
   "base_numbering": 1,
   "nav_menu": {},
   "number_sections": true,
   "sideBar": true,
   "skip_h1_title": true,
   "title_cell": "Table of Contents",
   "title_sidebar": "Contents",
   "toc_cell": false,
   "toc_position": {},
   "toc_section_display": true,
   "toc_window_display": false
  }
 },
 "nbformat": 4,
 "nbformat_minor": 2
}
