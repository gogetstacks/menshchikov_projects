{
 "cells": [
  {
   "cell_type": "markdown",
   "metadata": {},
   "source": [
    "# Проект: принятие решений в бизнесе"
   ]
  },
  {
   "cell_type": "markdown",
   "metadata": {},
   "source": [
    "**Описание проекта**\n",
    "\n",
    "В наши дни покупки в интеренете занимают большую долю всех совершаемых покупок в мире. Вместе с отделом маркетинга крупного-интеренет магазина был подготовлен список гипотез для увеличения выручки. На основе данных из трёх датасетов (с гипотезами, с заказами пользователей и с данными о посетителях) приоритизируем гипотезы, запустим A/B-тест и проанализируем результаты."
   ]
  },
  {
   "cell_type": "markdown",
   "metadata": {},
   "source": [
    "**Цель исследования**\n",
    "\n",
    "На основе A/B-тестирования проверить жизнеспособность гипотез и подготовить рекомендации для отдела маркетинга."
   ]
  },
  {
   "cell_type": "markdown",
   "metadata": {},
   "source": [
    "**Ход исследования:**\n",
    "- Подготовка данных: загрузка и изучение общей информации из представленных датасетов.\n",
    "- Приоритезация гипотез: примененние фреймворков ICE и RICE.\n",
    "- Анализ A/B-теста: построение графиков, расчёт перцентилей, расчёт статистической значимости, принятие решения по результатам."
   ]
  },
  {
   "cell_type": "markdown",
   "metadata": {},
   "source": [
    "**Общий вывод:** Резюмирование полученных результатов, формулировка ключевых выводов и рекомендаций.\n",
    "    \n",
    "С помощью данного исследования мы пытаемся принять решение об успешности (или провале) теста, и определить, стоит ли его продолжать."
   ]
  },
  {
   "cell_type": "markdown",
   "metadata": {},
   "source": [
    "### Часть. Приоритизация гипотез."
   ]
  },
  {
   "cell_type": "code",
   "execution_count": 1,
   "metadata": {},
   "outputs": [],
   "source": [
    "import pandas as pd # импортируем нужные библиотеки\n",
    "import datetime as dt\n",
    "import numpy as np\n",
    "import matplotlib.pyplot as plt\n",
    "import scipy.stats as stats"
   ]
  },
  {
   "cell_type": "code",
   "execution_count": 2,
   "metadata": {},
   "outputs": [],
   "source": [
    "pd.set_option('max_colwidth', 120)\n",
    "pd.set_option('display.width', 500)\n",
    "data = pd.read_csv('/datasets/hypothesis.csv', sep=',') # сохраним в data первый датасет"
   ]
  },
  {
   "cell_type": "code",
   "execution_count": 3,
   "metadata": {},
   "outputs": [],
   "source": [
    "data.columns = data.columns.str.lower() # приведём названия столбцов в нижний регистр"
   ]
  },
  {
   "cell_type": "code",
   "execution_count": 4,
   "metadata": {},
   "outputs": [
    {
     "data": {
      "text/html": [
       "<div>\n",
       "<style scoped>\n",
       "    .dataframe tbody tr th:only-of-type {\n",
       "        vertical-align: middle;\n",
       "    }\n",
       "\n",
       "    .dataframe tbody tr th {\n",
       "        vertical-align: top;\n",
       "    }\n",
       "\n",
       "    .dataframe thead th {\n",
       "        text-align: right;\n",
       "    }\n",
       "</style>\n",
       "<table border=\"1\" class=\"dataframe\">\n",
       "  <thead>\n",
       "    <tr style=\"text-align: right;\">\n",
       "      <th></th>\n",
       "      <th>hypothesis</th>\n",
       "      <th>reach</th>\n",
       "      <th>impact</th>\n",
       "      <th>confidence</th>\n",
       "      <th>efforts</th>\n",
       "    </tr>\n",
       "  </thead>\n",
       "  <tbody>\n",
       "    <tr>\n",
       "      <th>0</th>\n",
       "      <td>Добавить два новых канала привлечения трафика, что позволит привлекать на 30% больше пользователей</td>\n",
       "      <td>3</td>\n",
       "      <td>10</td>\n",
       "      <td>8</td>\n",
       "      <td>6</td>\n",
       "    </tr>\n",
       "    <tr>\n",
       "      <th>1</th>\n",
       "      <td>Запустить собственную службу доставки, что сократит срок доставки заказов</td>\n",
       "      <td>2</td>\n",
       "      <td>5</td>\n",
       "      <td>4</td>\n",
       "      <td>10</td>\n",
       "    </tr>\n",
       "    <tr>\n",
       "      <th>2</th>\n",
       "      <td>Добавить блоки рекомендаций товаров на сайт интернет магазина, чтобы повысить конверсию и средний чек заказа</td>\n",
       "      <td>8</td>\n",
       "      <td>3</td>\n",
       "      <td>7</td>\n",
       "      <td>3</td>\n",
       "    </tr>\n",
       "    <tr>\n",
       "      <th>3</th>\n",
       "      <td>Изменить структура категорий, что увеличит конверсию, т.к. пользователи быстрее найдут нужный товар</td>\n",
       "      <td>8</td>\n",
       "      <td>3</td>\n",
       "      <td>3</td>\n",
       "      <td>8</td>\n",
       "    </tr>\n",
       "    <tr>\n",
       "      <th>4</th>\n",
       "      <td>Изменить цвет фона главной страницы, чтобы увеличить вовлеченность пользователей</td>\n",
       "      <td>3</td>\n",
       "      <td>1</td>\n",
       "      <td>1</td>\n",
       "      <td>1</td>\n",
       "    </tr>\n",
       "    <tr>\n",
       "      <th>5</th>\n",
       "      <td>Добавить страницу отзывов клиентов о магазине, что позволит увеличить количество заказов</td>\n",
       "      <td>3</td>\n",
       "      <td>2</td>\n",
       "      <td>2</td>\n",
       "      <td>3</td>\n",
       "    </tr>\n",
       "    <tr>\n",
       "      <th>6</th>\n",
       "      <td>Показать на главной странице баннеры с актуальными акциями и распродажами, чтобы увеличить конверсию</td>\n",
       "      <td>5</td>\n",
       "      <td>3</td>\n",
       "      <td>8</td>\n",
       "      <td>3</td>\n",
       "    </tr>\n",
       "    <tr>\n",
       "      <th>7</th>\n",
       "      <td>Добавить форму подписки на все основные страницы, чтобы собрать базу клиентов для email-рассылок</td>\n",
       "      <td>10</td>\n",
       "      <td>7</td>\n",
       "      <td>8</td>\n",
       "      <td>5</td>\n",
       "    </tr>\n",
       "    <tr>\n",
       "      <th>8</th>\n",
       "      <td>Запустить акцию, дающую скидку на товар в день рождения</td>\n",
       "      <td>1</td>\n",
       "      <td>9</td>\n",
       "      <td>9</td>\n",
       "      <td>5</td>\n",
       "    </tr>\n",
       "  </tbody>\n",
       "</table>\n",
       "</div>"
      ],
      "text/plain": [
       "                                                                                                     hypothesis  reach  impact  confidence  efforts\n",
       "0            Добавить два новых канала привлечения трафика, что позволит привлекать на 30% больше пользователей      3      10           8        6\n",
       "1                                     Запустить собственную службу доставки, что сократит срок доставки заказов      2       5           4       10\n",
       "2  Добавить блоки рекомендаций товаров на сайт интернет магазина, чтобы повысить конверсию и средний чек заказа      8       3           7        3\n",
       "3           Изменить структура категорий, что увеличит конверсию, т.к. пользователи быстрее найдут нужный товар      8       3           3        8\n",
       "4                              Изменить цвет фона главной страницы, чтобы увеличить вовлеченность пользователей      3       1           1        1\n",
       "5                      Добавить страницу отзывов клиентов о магазине, что позволит увеличить количество заказов      3       2           2        3\n",
       "6          Показать на главной странице баннеры с актуальными акциями и распродажами, чтобы увеличить конверсию      5       3           8        3\n",
       "7              Добавить форму подписки на все основные страницы, чтобы собрать базу клиентов для email-рассылок     10       7           8        5\n",
       "8                                                       Запустить акцию, дающую скидку на товар в день рождения      1       9           9        5"
      ]
     },
     "execution_count": 4,
     "metadata": {},
     "output_type": "execute_result"
    }
   ],
   "source": [
    "data # изучим данные о гипотезах"
   ]
  },
  {
   "cell_type": "markdown",
   "metadata": {},
   "source": [
    "#### Применение фреймворка ICE."
   ]
  },
  {
   "cell_type": "code",
   "execution_count": 5,
   "metadata": {},
   "outputs": [
    {
     "data": {
      "text/html": [
       "<div>\n",
       "<style scoped>\n",
       "    .dataframe tbody tr th:only-of-type {\n",
       "        vertical-align: middle;\n",
       "    }\n",
       "\n",
       "    .dataframe tbody tr th {\n",
       "        vertical-align: top;\n",
       "    }\n",
       "\n",
       "    .dataframe thead th {\n",
       "        text-align: right;\n",
       "    }\n",
       "</style>\n",
       "<table border=\"1\" class=\"dataframe\">\n",
       "  <thead>\n",
       "    <tr style=\"text-align: right;\">\n",
       "      <th></th>\n",
       "      <th>hypothesis</th>\n",
       "      <th>ICE</th>\n",
       "    </tr>\n",
       "  </thead>\n",
       "  <tbody>\n",
       "    <tr>\n",
       "      <th>8</th>\n",
       "      <td>Запустить акцию, дающую скидку на товар в день рождения</td>\n",
       "      <td>16.200000</td>\n",
       "    </tr>\n",
       "    <tr>\n",
       "      <th>0</th>\n",
       "      <td>Добавить два новых канала привлечения трафика, что позволит привлекать на 30% больше пользователей</td>\n",
       "      <td>13.333333</td>\n",
       "    </tr>\n",
       "    <tr>\n",
       "      <th>7</th>\n",
       "      <td>Добавить форму подписки на все основные страницы, чтобы собрать базу клиентов для email-рассылок</td>\n",
       "      <td>11.200000</td>\n",
       "    </tr>\n",
       "    <tr>\n",
       "      <th>6</th>\n",
       "      <td>Показать на главной странице баннеры с актуальными акциями и распродажами, чтобы увеличить конверсию</td>\n",
       "      <td>8.000000</td>\n",
       "    </tr>\n",
       "    <tr>\n",
       "      <th>2</th>\n",
       "      <td>Добавить блоки рекомендаций товаров на сайт интернет магазина, чтобы повысить конверсию и средний чек заказа</td>\n",
       "      <td>7.000000</td>\n",
       "    </tr>\n",
       "    <tr>\n",
       "      <th>1</th>\n",
       "      <td>Запустить собственную службу доставки, что сократит срок доставки заказов</td>\n",
       "      <td>2.000000</td>\n",
       "    </tr>\n",
       "    <tr>\n",
       "      <th>5</th>\n",
       "      <td>Добавить страницу отзывов клиентов о магазине, что позволит увеличить количество заказов</td>\n",
       "      <td>1.333333</td>\n",
       "    </tr>\n",
       "    <tr>\n",
       "      <th>3</th>\n",
       "      <td>Изменить структура категорий, что увеличит конверсию, т.к. пользователи быстрее найдут нужный товар</td>\n",
       "      <td>1.125000</td>\n",
       "    </tr>\n",
       "    <tr>\n",
       "      <th>4</th>\n",
       "      <td>Изменить цвет фона главной страницы, чтобы увеличить вовлеченность пользователей</td>\n",
       "      <td>1.000000</td>\n",
       "    </tr>\n",
       "  </tbody>\n",
       "</table>\n",
       "</div>"
      ],
      "text/plain": [
       "                                                                                                     hypothesis        ICE\n",
       "8                                                       Запустить акцию, дающую скидку на товар в день рождения  16.200000\n",
       "0            Добавить два новых канала привлечения трафика, что позволит привлекать на 30% больше пользователей  13.333333\n",
       "7              Добавить форму подписки на все основные страницы, чтобы собрать базу клиентов для email-рассылок  11.200000\n",
       "6          Показать на главной странице баннеры с актуальными акциями и распродажами, чтобы увеличить конверсию   8.000000\n",
       "2  Добавить блоки рекомендаций товаров на сайт интернет магазина, чтобы повысить конверсию и средний чек заказа   7.000000\n",
       "1                                     Запустить собственную службу доставки, что сократит срок доставки заказов   2.000000\n",
       "5                      Добавить страницу отзывов клиентов о магазине, что позволит увеличить количество заказов   1.333333\n",
       "3           Изменить структура категорий, что увеличит конверсию, т.к. пользователи быстрее найдут нужный товар   1.125000\n",
       "4                              Изменить цвет фона главной страницы, чтобы увеличить вовлеченность пользователей   1.000000"
      ]
     },
     "execution_count": 5,
     "metadata": {},
     "output_type": "execute_result"
    }
   ],
   "source": [
    "data['ICE'] = data['impact'] * data['confidence'] / data['efforts']\n",
    "data[['hypothesis', 'ICE']].sort_values(by='ICE', ascending=False)"
   ]
  },
  {
   "cell_type": "markdown",
   "metadata": {},
   "source": [
    "Таким образом, наиболее перспективные гипотезы по ICE - 8, 0, 7."
   ]
  },
  {
   "cell_type": "markdown",
   "metadata": {},
   "source": [
    "#### Применение фреймворка RICE."
   ]
  },
  {
   "cell_type": "code",
   "execution_count": 6,
   "metadata": {},
   "outputs": [
    {
     "data": {
      "text/html": [
       "<div>\n",
       "<style scoped>\n",
       "    .dataframe tbody tr th:only-of-type {\n",
       "        vertical-align: middle;\n",
       "    }\n",
       "\n",
       "    .dataframe tbody tr th {\n",
       "        vertical-align: top;\n",
       "    }\n",
       "\n",
       "    .dataframe thead th {\n",
       "        text-align: right;\n",
       "    }\n",
       "</style>\n",
       "<table border=\"1\" class=\"dataframe\">\n",
       "  <thead>\n",
       "    <tr style=\"text-align: right;\">\n",
       "      <th></th>\n",
       "      <th>hypothesis</th>\n",
       "      <th>RICE</th>\n",
       "    </tr>\n",
       "  </thead>\n",
       "  <tbody>\n",
       "    <tr>\n",
       "      <th>7</th>\n",
       "      <td>Добавить форму подписки на все основные страницы, чтобы собрать базу клиентов для email-рассылок</td>\n",
       "      <td>112.0</td>\n",
       "    </tr>\n",
       "    <tr>\n",
       "      <th>2</th>\n",
       "      <td>Добавить блоки рекомендаций товаров на сайт интернет магазина, чтобы повысить конверсию и средний чек заказа</td>\n",
       "      <td>56.0</td>\n",
       "    </tr>\n",
       "    <tr>\n",
       "      <th>0</th>\n",
       "      <td>Добавить два новых канала привлечения трафика, что позволит привлекать на 30% больше пользователей</td>\n",
       "      <td>40.0</td>\n",
       "    </tr>\n",
       "    <tr>\n",
       "      <th>6</th>\n",
       "      <td>Показать на главной странице баннеры с актуальными акциями и распродажами, чтобы увеличить конверсию</td>\n",
       "      <td>40.0</td>\n",
       "    </tr>\n",
       "    <tr>\n",
       "      <th>8</th>\n",
       "      <td>Запустить акцию, дающую скидку на товар в день рождения</td>\n",
       "      <td>16.2</td>\n",
       "    </tr>\n",
       "    <tr>\n",
       "      <th>3</th>\n",
       "      <td>Изменить структура категорий, что увеличит конверсию, т.к. пользователи быстрее найдут нужный товар</td>\n",
       "      <td>9.0</td>\n",
       "    </tr>\n",
       "    <tr>\n",
       "      <th>1</th>\n",
       "      <td>Запустить собственную службу доставки, что сократит срок доставки заказов</td>\n",
       "      <td>4.0</td>\n",
       "    </tr>\n",
       "    <tr>\n",
       "      <th>5</th>\n",
       "      <td>Добавить страницу отзывов клиентов о магазине, что позволит увеличить количество заказов</td>\n",
       "      <td>4.0</td>\n",
       "    </tr>\n",
       "    <tr>\n",
       "      <th>4</th>\n",
       "      <td>Изменить цвет фона главной страницы, чтобы увеличить вовлеченность пользователей</td>\n",
       "      <td>3.0</td>\n",
       "    </tr>\n",
       "  </tbody>\n",
       "</table>\n",
       "</div>"
      ],
      "text/plain": [
       "                                                                                                     hypothesis   RICE\n",
       "7              Добавить форму подписки на все основные страницы, чтобы собрать базу клиентов для email-рассылок  112.0\n",
       "2  Добавить блоки рекомендаций товаров на сайт интернет магазина, чтобы повысить конверсию и средний чек заказа   56.0\n",
       "0            Добавить два новых канала привлечения трафика, что позволит привлекать на 30% больше пользователей   40.0\n",
       "6          Показать на главной странице баннеры с актуальными акциями и распродажами, чтобы увеличить конверсию   40.0\n",
       "8                                                       Запустить акцию, дающую скидку на товар в день рождения   16.2\n",
       "3           Изменить структура категорий, что увеличит конверсию, т.к. пользователи быстрее найдут нужный товар    9.0\n",
       "1                                     Запустить собственную службу доставки, что сократит срок доставки заказов    4.0\n",
       "5                      Добавить страницу отзывов клиентов о магазине, что позволит увеличить количество заказов    4.0\n",
       "4                              Изменить цвет фона главной страницы, чтобы увеличить вовлеченность пользователей    3.0"
      ]
     },
     "execution_count": 6,
     "metadata": {},
     "output_type": "execute_result"
    }
   ],
   "source": [
    "data['RICE'] = data['reach'] * data['impact'] * data['confidence'] / data['efforts']\n",
    "data[['hypothesis', 'RICE']].sort_values(by='RICE', ascending=False)"
   ]
  },
  {
   "cell_type": "markdown",
   "metadata": {},
   "source": [
    "На этот раз наиболее перспективными оказались гипотезы: 7, 2 и 0. В предыдущем тесте гипотезы 7 и 0 так же были наиболее перспективными. Если 7-я гипотеза была на третьем месте, то высокое влияние на пользователей (reach = 10) выдвинуло её на первое место во фреймворке RICE."
   ]
  },
  {
   "cell_type": "markdown",
   "metadata": {},
   "source": [
    "### Часть. Анализ A/B-теста."
   ]
  },
  {
   "cell_type": "code",
   "execution_count": 7,
   "metadata": {},
   "outputs": [
    {
     "data": {
      "text/html": [
       "<div>\n",
       "<style scoped>\n",
       "    .dataframe tbody tr th:only-of-type {\n",
       "        vertical-align: middle;\n",
       "    }\n",
       "\n",
       "    .dataframe tbody tr th {\n",
       "        vertical-align: top;\n",
       "    }\n",
       "\n",
       "    .dataframe thead th {\n",
       "        text-align: right;\n",
       "    }\n",
       "</style>\n",
       "<table border=\"1\" class=\"dataframe\">\n",
       "  <thead>\n",
       "    <tr style=\"text-align: right;\">\n",
       "      <th></th>\n",
       "      <th>transactionId</th>\n",
       "      <th>visitorId</th>\n",
       "      <th>date</th>\n",
       "      <th>revenue</th>\n",
       "      <th>group</th>\n",
       "    </tr>\n",
       "  </thead>\n",
       "  <tbody>\n",
       "    <tr>\n",
       "      <th>0</th>\n",
       "      <td>3667963787</td>\n",
       "      <td>3312258926</td>\n",
       "      <td>2019-08-15</td>\n",
       "      <td>1650</td>\n",
       "      <td>B</td>\n",
       "    </tr>\n",
       "    <tr>\n",
       "      <th>1</th>\n",
       "      <td>2804400009</td>\n",
       "      <td>3642806036</td>\n",
       "      <td>2019-08-15</td>\n",
       "      <td>730</td>\n",
       "      <td>B</td>\n",
       "    </tr>\n",
       "    <tr>\n",
       "      <th>2</th>\n",
       "      <td>2961555356</td>\n",
       "      <td>4069496402</td>\n",
       "      <td>2019-08-15</td>\n",
       "      <td>400</td>\n",
       "      <td>A</td>\n",
       "    </tr>\n",
       "    <tr>\n",
       "      <th>3</th>\n",
       "      <td>3797467345</td>\n",
       "      <td>1196621759</td>\n",
       "      <td>2019-08-15</td>\n",
       "      <td>9759</td>\n",
       "      <td>B</td>\n",
       "    </tr>\n",
       "    <tr>\n",
       "      <th>4</th>\n",
       "      <td>2282983706</td>\n",
       "      <td>2322279887</td>\n",
       "      <td>2019-08-15</td>\n",
       "      <td>2308</td>\n",
       "      <td>B</td>\n",
       "    </tr>\n",
       "  </tbody>\n",
       "</table>\n",
       "</div>"
      ],
      "text/plain": [
       "   transactionId   visitorId       date  revenue group\n",
       "0     3667963787  3312258926 2019-08-15     1650     B\n",
       "1     2804400009  3642806036 2019-08-15      730     B\n",
       "2     2961555356  4069496402 2019-08-15      400     A\n",
       "3     3797467345  1196621759 2019-08-15     9759     B\n",
       "4     2282983706  2322279887 2019-08-15     2308     B"
      ]
     },
     "execution_count": 7,
     "metadata": {},
     "output_type": "execute_result"
    }
   ],
   "source": [
    "orders = pd.read_csv('/datasets/orders.csv', sep=',') # изучим данные о заказах\n",
    "orders['date'] = orders['date'].map(lambda x: dt.datetime.strptime(x, '%Y-%m-%d')) # преобразуем дату\n",
    "orders.head()"
   ]
  },
  {
   "cell_type": "code",
   "execution_count": 8,
   "metadata": {},
   "outputs": [
    {
     "name": "stdout",
     "output_type": "stream",
     "text": [
      "<class 'pandas.core.frame.DataFrame'>\n",
      "RangeIndex: 1197 entries, 0 to 1196\n",
      "Data columns (total 5 columns):\n",
      " #   Column         Non-Null Count  Dtype         \n",
      "---  ------         --------------  -----         \n",
      " 0   transactionId  1197 non-null   int64         \n",
      " 1   visitorId      1197 non-null   int64         \n",
      " 2   date           1197 non-null   datetime64[ns]\n",
      " 3   revenue        1197 non-null   int64         \n",
      " 4   group          1197 non-null   object        \n",
      "dtypes: datetime64[ns](1), int64(3), object(1)\n",
      "memory usage: 46.9+ KB\n"
     ]
    }
   ],
   "source": [
    "orders.info() # посмотрим общую информацию о датафрейме"
   ]
  },
  {
   "cell_type": "code",
   "execution_count": 9,
   "metadata": {},
   "outputs": [
    {
     "data": {
      "text/html": [
       "<div>\n",
       "<style scoped>\n",
       "    .dataframe tbody tr th:only-of-type {\n",
       "        vertical-align: middle;\n",
       "    }\n",
       "\n",
       "    .dataframe tbody tr th {\n",
       "        vertical-align: top;\n",
       "    }\n",
       "\n",
       "    .dataframe thead th {\n",
       "        text-align: right;\n",
       "    }\n",
       "</style>\n",
       "<table border=\"1\" class=\"dataframe\">\n",
       "  <thead>\n",
       "    <tr style=\"text-align: right;\">\n",
       "      <th></th>\n",
       "      <th>count</th>\n",
       "      <th>nunique</th>\n",
       "      <th>unique_part</th>\n",
       "    </tr>\n",
       "    <tr>\n",
       "      <th>group</th>\n",
       "      <th></th>\n",
       "      <th></th>\n",
       "      <th></th>\n",
       "    </tr>\n",
       "  </thead>\n",
       "  <tbody>\n",
       "    <tr>\n",
       "      <th>A</th>\n",
       "      <td>557</td>\n",
       "      <td>503</td>\n",
       "      <td>0.903052</td>\n",
       "    </tr>\n",
       "    <tr>\n",
       "      <th>B</th>\n",
       "      <td>640</td>\n",
       "      <td>586</td>\n",
       "      <td>0.915625</td>\n",
       "    </tr>\n",
       "  </tbody>\n",
       "</table>\n",
       "</div>"
      ],
      "text/plain": [
       "       count  nunique  unique_part\n",
       "group                             \n",
       "A        557      503     0.903052\n",
       "B        640      586     0.915625"
      ]
     },
     "execution_count": 9,
     "metadata": {},
     "output_type": "execute_result"
    }
   ],
   "source": [
    "differences = orders.groupby('group')['visitorId'].agg(['count', 'nunique']) # оценим общее количество пользователей по группам\n",
    "differences['unique_part'] = differences['nunique'] / differences['count'] # и долю уникальных пользователей\n",
    "differences "
   ]
  },
  {
   "cell_type": "markdown",
   "metadata": {},
   "source": [
    "Из полученной таблицы видно, что доля дубликатов практически 10% в каждой группе. В целом, это не должно сильно отразиться на результате исследования."
   ]
  },
  {
   "cell_type": "markdown",
   "metadata": {},
   "source": [
    "Теперь ознакомимся с данными второго датафрейма."
   ]
  },
  {
   "cell_type": "code",
   "execution_count": 10,
   "metadata": {},
   "outputs": [
    {
     "data": {
      "text/html": [
       "<div>\n",
       "<style scoped>\n",
       "    .dataframe tbody tr th:only-of-type {\n",
       "        vertical-align: middle;\n",
       "    }\n",
       "\n",
       "    .dataframe tbody tr th {\n",
       "        vertical-align: top;\n",
       "    }\n",
       "\n",
       "    .dataframe thead th {\n",
       "        text-align: right;\n",
       "    }\n",
       "</style>\n",
       "<table border=\"1\" class=\"dataframe\">\n",
       "  <thead>\n",
       "    <tr style=\"text-align: right;\">\n",
       "      <th></th>\n",
       "      <th>date</th>\n",
       "      <th>group</th>\n",
       "      <th>visitors</th>\n",
       "    </tr>\n",
       "  </thead>\n",
       "  <tbody>\n",
       "    <tr>\n",
       "      <th>0</th>\n",
       "      <td>2019-08-01</td>\n",
       "      <td>A</td>\n",
       "      <td>719</td>\n",
       "    </tr>\n",
       "    <tr>\n",
       "      <th>1</th>\n",
       "      <td>2019-08-02</td>\n",
       "      <td>A</td>\n",
       "      <td>619</td>\n",
       "    </tr>\n",
       "    <tr>\n",
       "      <th>2</th>\n",
       "      <td>2019-08-03</td>\n",
       "      <td>A</td>\n",
       "      <td>507</td>\n",
       "    </tr>\n",
       "    <tr>\n",
       "      <th>3</th>\n",
       "      <td>2019-08-04</td>\n",
       "      <td>A</td>\n",
       "      <td>717</td>\n",
       "    </tr>\n",
       "    <tr>\n",
       "      <th>4</th>\n",
       "      <td>2019-08-05</td>\n",
       "      <td>A</td>\n",
       "      <td>756</td>\n",
       "    </tr>\n",
       "  </tbody>\n",
       "</table>\n",
       "</div>"
      ],
      "text/plain": [
       "        date group  visitors\n",
       "0 2019-08-01     A       719\n",
       "1 2019-08-02     A       619\n",
       "2 2019-08-03     A       507\n",
       "3 2019-08-04     A       717\n",
       "4 2019-08-05     A       756"
      ]
     },
     "execution_count": 10,
     "metadata": {},
     "output_type": "execute_result"
    }
   ],
   "source": [
    "visitors = pd.read_csv('/datasets/visitors.csv', sep=',') # изучим данные о посетителях\n",
    "visitors['date'] = visitors['date'].map(lambda x: dt.datetime.strptime(x, '%Y-%m-%d')) # преобразуем дату\n",
    "visitors.head()"
   ]
  },
  {
   "cell_type": "code",
   "execution_count": 11,
   "metadata": {},
   "outputs": [
    {
     "name": "stdout",
     "output_type": "stream",
     "text": [
      "<class 'pandas.core.frame.DataFrame'>\n",
      "RangeIndex: 62 entries, 0 to 61\n",
      "Data columns (total 3 columns):\n",
      " #   Column    Non-Null Count  Dtype         \n",
      "---  ------    --------------  -----         \n",
      " 0   date      62 non-null     datetime64[ns]\n",
      " 1   group     62 non-null     object        \n",
      " 2   visitors  62 non-null     int64         \n",
      "dtypes: datetime64[ns](1), int64(1), object(1)\n",
      "memory usage: 1.6+ KB\n"
     ]
    }
   ],
   "source": [
    "visitors.info() # посмотрим общую информацию о датафрейме"
   ]
  },
  {
   "cell_type": "markdown",
   "metadata": {},
   "source": [
    "#### Сбор агрегированных кумулятивных по дням данных."
   ]
  },
  {
   "cell_type": "code",
   "execution_count": 12,
   "metadata": {},
   "outputs": [],
   "source": [
    "datesGroups = orders[['date','group']].drop_duplicates() # создаем массив уникальных пар значений дат и групп теста"
   ]
  },
  {
   "cell_type": "code",
   "execution_count": 13,
   "metadata": {},
   "outputs": [],
   "source": [
    "ordersAggregated = datesGroups.apply( # получаем агрегированные кумулятивные по дням данные о заказах \n",
    "    lambda x: orders[\n",
    "        np.logical_and(\n",
    "            orders['date'] <= x['date'], orders['group'] == x['group']\n",
    "        )\n",
    "    ].agg(\n",
    "        {\n",
    "            'date': 'max',\n",
    "            'group': 'max',\n",
    "            'transactionId': 'nunique',\n",
    "            'visitorId': 'nunique',\n",
    "            'revenue': 'sum',\n",
    "        }\n",
    "    ),\n",
    "    axis=1,\n",
    ").sort_values(by=['date', 'group'])"
   ]
  },
  {
   "cell_type": "code",
   "execution_count": 14,
   "metadata": {},
   "outputs": [],
   "source": [
    "visitorsAggregated = datesGroups.apply( # получаем агрегированные кумулятивные по дням данные о посетителях интернет-магазина \n",
    "    lambda x: visitors[\n",
    "        np.logical_and(\n",
    "            visitors['date'] <= x['date'], visitors['group'] == x['group']\n",
    "        )\n",
    "    ].agg({'date': 'max', 'group': 'max', 'visitors': 'sum'}),\n",
    "    axis=1,\n",
    ").sort_values(by=['date', 'group'])"
   ]
  },
  {
   "cell_type": "code",
   "execution_count": 15,
   "metadata": {},
   "outputs": [],
   "source": [
    "# объединяем кумулятивные данные в одной таблице и присваиваем ее столбцам понятные названия\n",
    "cumulativeData = ordersAggregated.merge(visitorsAggregated, left_on=['date', 'group'], right_on=['date', 'group'])\n",
    "cumulativeData.columns = ['date', 'group', 'orders', 'buyers', 'revenue', 'visitors']"
   ]
  },
  {
   "cell_type": "code",
   "execution_count": 16,
   "metadata": {
    "scrolled": true
   },
   "outputs": [
    {
     "data": {
      "text/html": [
       "<div>\n",
       "<style scoped>\n",
       "    .dataframe tbody tr th:only-of-type {\n",
       "        vertical-align: middle;\n",
       "    }\n",
       "\n",
       "    .dataframe tbody tr th {\n",
       "        vertical-align: top;\n",
       "    }\n",
       "\n",
       "    .dataframe thead th {\n",
       "        text-align: right;\n",
       "    }\n",
       "</style>\n",
       "<table border=\"1\" class=\"dataframe\">\n",
       "  <thead>\n",
       "    <tr style=\"text-align: right;\">\n",
       "      <th></th>\n",
       "      <th>date</th>\n",
       "      <th>group</th>\n",
       "      <th>orders</th>\n",
       "      <th>buyers</th>\n",
       "      <th>revenue</th>\n",
       "      <th>visitors</th>\n",
       "    </tr>\n",
       "  </thead>\n",
       "  <tbody>\n",
       "    <tr>\n",
       "      <th>0</th>\n",
       "      <td>2019-08-01</td>\n",
       "      <td>A</td>\n",
       "      <td>24</td>\n",
       "      <td>20</td>\n",
       "      <td>148579</td>\n",
       "      <td>719</td>\n",
       "    </tr>\n",
       "    <tr>\n",
       "      <th>1</th>\n",
       "      <td>2019-08-01</td>\n",
       "      <td>B</td>\n",
       "      <td>21</td>\n",
       "      <td>20</td>\n",
       "      <td>101217</td>\n",
       "      <td>713</td>\n",
       "    </tr>\n",
       "    <tr>\n",
       "      <th>2</th>\n",
       "      <td>2019-08-02</td>\n",
       "      <td>A</td>\n",
       "      <td>44</td>\n",
       "      <td>38</td>\n",
       "      <td>242401</td>\n",
       "      <td>1338</td>\n",
       "    </tr>\n",
       "    <tr>\n",
       "      <th>3</th>\n",
       "      <td>2019-08-02</td>\n",
       "      <td>B</td>\n",
       "      <td>45</td>\n",
       "      <td>43</td>\n",
       "      <td>266748</td>\n",
       "      <td>1294</td>\n",
       "    </tr>\n",
       "    <tr>\n",
       "      <th>4</th>\n",
       "      <td>2019-08-03</td>\n",
       "      <td>A</td>\n",
       "      <td>68</td>\n",
       "      <td>62</td>\n",
       "      <td>354874</td>\n",
       "      <td>1845</td>\n",
       "    </tr>\n",
       "  </tbody>\n",
       "</table>\n",
       "</div>"
      ],
      "text/plain": [
       "        date group  orders  buyers  revenue  visitors\n",
       "0 2019-08-01     A      24      20   148579       719\n",
       "1 2019-08-01     B      21      20   101217       713\n",
       "2 2019-08-02     A      44      38   242401      1338\n",
       "3 2019-08-02     B      45      43   266748      1294\n",
       "4 2019-08-03     A      68      62   354874      1845"
      ]
     },
     "execution_count": 16,
     "metadata": {},
     "output_type": "execute_result"
    }
   ],
   "source": [
    "cumulativeData.head(5)"
   ]
  },
  {
   "cell_type": "markdown",
   "metadata": {},
   "source": [
    "#### Построение графиков коммулятивной выручки по группам."
   ]
  },
  {
   "cell_type": "code",
   "execution_count": 17,
   "metadata": {},
   "outputs": [
    {
     "data": {
      "image/png": "[encoded data removed]",
      "text/plain": [
       "<Figure size 936x720 with 1 Axes>"
      ]
     },
     "metadata": {
      "needs_background": "light"
     },
     "output_type": "display_data"
    }
   ],
   "source": [
    "fig, axs = plt.subplots(figsize=(13, 10)) # зададим размер поля для построений\n",
    "# датафрейм с кумулятивным количеством заказов и кумулятивной выручкой по дням в группе А\n",
    "cumulativeRevenueA = cumulativeData[cumulativeData['group']=='A'][['date','revenue', 'orders']]\n",
    "\n",
    "# датафрейм с кумулятивным количеством заказов и кумулятивной выручкой по дням в группе B\n",
    "cumulativeRevenueB = cumulativeData[cumulativeData['group']=='B'][['date','revenue', 'orders']]\n",
    "\n",
    "# Строим график выручки группы А\n",
    "plt.plot(cumulativeRevenueA['date'], cumulativeRevenueA['revenue'], label='A')\n",
    "\n",
    "# Строим график выручки группы B\n",
    "plt.plot(cumulativeRevenueB['date'], cumulativeRevenueB['revenue'], label='B')\n",
    "plt.legend()\n",
    "plt.ylabel('Выручка')\n",
    "plt.xlabel('Дата наблюдения')\n",
    "plt.title('Коммулятивная выручка по группам')\n",
    "plt.show() "
   ]
  },
  {
   "cell_type": "markdown",
   "metadata": {},
   "source": [
    "Выручка почти равномерно увеличивается в течение всего теста. Хороший знак.\n",
    "Однако графики выручки обеих групп в нескольких точках резко растут. Это может сигнализировать о всплесках числа заказов, либо о появлении очень дорогих заказов в выборке."
   ]
  },
  {
   "cell_type": "markdown",
   "metadata": {},
   "source": [
    "#### Построение графиков коммулятивного среднего чека по группам."
   ]
  },
  {
   "cell_type": "markdown",
   "metadata": {},
   "source": [
    "Построим графики среднего чека по группам — разделим кумулятивную выручку на кумулятивное число заказов:"
   ]
  },
  {
   "cell_type": "code",
   "execution_count": 18,
   "metadata": {},
   "outputs": [
    {
     "data": {
      "image/png": "[encoded data removed]",
      "text/plain": [
       "<Figure size 936x720 with 1 Axes>"
      ]
     },
     "metadata": {
      "needs_background": "light"
     },
     "output_type": "display_data"
    }
   ],
   "source": [
    "fig, axs = plt.subplots(figsize=(13, 10)) # зададим размер поля для построений\n",
    "plt.plot(cumulativeRevenueA['date'], cumulativeRevenueA['revenue']/cumulativeRevenueA['orders'], label='A')\n",
    "plt.plot(cumulativeRevenueB['date'], cumulativeRevenueB['revenue']/cumulativeRevenueB['orders'], label='B')\n",
    "plt.legend()\n",
    "plt.ylabel('Сумма чека')\n",
    "plt.xlabel('Дата наблюдения')\n",
    "plt.title('Коммулятивный средний чек по группам')\n",
    "plt.show() "
   ]
  },
  {
   "cell_type": "markdown",
   "metadata": {},
   "source": [
    "Средний чек становится равномерным ближе к концу теста: увеличивается для группы A и падает для группы B. Возможно, в группу B в середине теста попали крупные заказы (резкий всплеск на графике). Тогда ей нужно больше данных, чтобы прийти к реальному среднему чеку и установиться на его уровне."
   ]
  },
  {
   "cell_type": "markdown",
   "metadata": {},
   "source": [
    "#### Построение графика относительного изменения кумулятивного среднего чека группы B к группе A."
   ]
  },
  {
   "cell_type": "markdown",
   "metadata": {},
   "source": [
    "Построим график относительного различия для среднего чека. Добавим горизонтальную ось методом axhline()."
   ]
  },
  {
   "cell_type": "code",
   "execution_count": 19,
   "metadata": {},
   "outputs": [
    {
     "data": {
      "image/png": "[encoded data removed]",
      "text/plain": [
       "<Figure size 936x720 with 1 Axes>"
      ]
     },
     "metadata": {
      "needs_background": "light"
     },
     "output_type": "display_data"
    }
   ],
   "source": [
    "# собираем данные в одном датафрейме\n",
    "mergedCumulativeRevenue = cumulativeRevenueA.merge(\n",
    "    cumulativeRevenueB, left_on='date', right_on='date', how='left', suffixes=['A', 'B']\n",
    ")\n",
    "\n",
    "fig, axs = plt.subplots(figsize=(13, 10)) # зададим размер поля для построений\n",
    "# cтроим отношение средних чеков\n",
    "plt.plot(\n",
    "    mergedCumulativeRevenue['date'],\n",
    "(mergedCumulativeRevenue['revenueB']/mergedCumulativeRevenue['ordersB'])/(\n",
    "    mergedCumulativeRevenue['revenueA']/mergedCumulativeRevenue['ordersA'])\n",
    "    -1)\n",
    "\n",
    "# добавляем ось X\n",
    "plt.axhline(y=0, color='black', linestyle='--')\n",
    "plt.ylabel('Коммулятивный средний чек')\n",
    "plt.xlabel('Дата наблюдения')\n",
    "plt.title('Относительное изменение коммулятивного среднего чека группы В к группе А')\n",
    "plt.show()"
   ]
  },
  {
   "cell_type": "markdown",
   "metadata": {},
   "source": [
    "В нескольких точках график различия между сегментами резко «скачет». Это может говорить о наличии крупных заказов или выбросов."
   ]
  },
  {
   "cell_type": "markdown",
   "metadata": {},
   "source": [
    "#### Построение графика кумулятивного среднего количества заказов на посетителя по группам"
   ]
  },
  {
   "cell_type": "markdown",
   "metadata": {},
   "source": [
    "Аналогично проанализируем график кумулятивного среднего количества заказов на посетителя по группам. Зададим масштаб осей методом plt.axis(). Передадим ему минимальное и максимальное значения оси x; минимальное и максимальное значения оси y."
   ]
  },
  {
   "cell_type": "code",
   "execution_count": 20,
   "metadata": {},
   "outputs": [
    {
     "name": "stdout",
     "output_type": "stream",
     "text": [
      "2019-08-01 00:00:00\n"
     ]
    },
    {
     "data": {
      "text/plain": [
       "Timestamp('2019-08-31 00:00:00')"
      ]
     },
     "execution_count": 20,
     "metadata": {},
     "output_type": "execute_result"
    }
   ],
   "source": [
    "print(cumulativeData['date'].min())\n",
    "cumulativeData['date'].max()"
   ]
  },
  {
   "cell_type": "code",
   "execution_count": 21,
   "metadata": {},
   "outputs": [
    {
     "data": {
      "text/plain": [
       "(18109.0, 18139.0, 0.0275, 0.04)"
      ]
     },
     "execution_count": 21,
     "metadata": {},
     "output_type": "execute_result"
    },
    {
     "data": {
      "image/png": "[encoded data removed]",
      "text/plain": [
       "<Figure size 720x720 with 1 Axes>"
      ]
     },
     "metadata": {
      "needs_background": "light"
     },
     "output_type": "display_data"
    }
   ],
   "source": [
    "# считаем среднее количество заказов на посетителя\n",
    "cumulativeData['conversion'] = cumulativeData['orders']/cumulativeData['visitors']\n",
    "\n",
    "# отделяем данные по группе A\n",
    "cumulativeDataA = cumulativeData[cumulativeData['group']=='A']\n",
    "\n",
    "# отделяем данные по группе B\n",
    "cumulativeDataB = cumulativeData[cumulativeData['group']=='B']\n",
    "\n",
    "fig, axs = plt.subplots(figsize=(10, 10)) # зададим размер поля для построений\n",
    "\n",
    "# строим графики\n",
    "plt.plot(cumulativeDataA['date'], cumulativeDataA['conversion'], label='A')\n",
    "plt.plot(cumulativeDataB['date'], cumulativeDataB['conversion'], label='B')\n",
    "plt.ylabel('Коммулятивное количество заказов', fontsize=12)\n",
    "plt.xlabel('Дата наблюдения', fontsize=12)\n",
    "plt.title('Коммуливное среднее количество заказов на посетителя', fontsize=15)\n",
    "plt.grid()\n",
    "plt.legend()\n",
    "\n",
    "# задаем масштаб осей\n",
    "plt.axis([dt.datetime(2019, 8, 1), dt.datetime(2019, 8, 31), 0.0275, 0.04])"
   ]
  },
  {
   "cell_type": "markdown",
   "metadata": {},
   "source": [
    "Группы колебались около одного значения, но затем у группы B среднее количество заказов вырвалось вперёд и зафиксировалось, а у группы A — просело, но тоже зафиксировалось."
   ]
  },
  {
   "cell_type": "markdown",
   "metadata": {},
   "source": [
    "#### Построение графика относительного изменения кумулятивного среднего количества заказов на посетителя группы B к группе A."
   ]
  },
  {
   "cell_type": "markdown",
   "metadata": {},
   "source": [
    "Построим график изменения кумулятивного среднего количества заказов на посетителя группы B к группе A:"
   ]
  },
  {
   "cell_type": "code",
   "execution_count": 22,
   "metadata": {},
   "outputs": [
    {
     "data": {
      "text/plain": [
       "(18109.0, 18139.0, -0.3, 0.3)"
      ]
     },
     "execution_count": 22,
     "metadata": {},
     "output_type": "execute_result"
    },
    {
     "data": {
      "image/png": "[encoded data removed]",
      "text/plain": [
       "<Figure size 1080x720 with 1 Axes>"
      ]
     },
     "metadata": {
      "needs_background": "light"
     },
     "output_type": "display_data"
    }
   ],
   "source": [
    "mergedCumulativeConversions = cumulativeDataA[['date','conversion']] \\\n",
    ".merge(cumulativeDataB[['date','conversion']], left_on='date', right_on='date', how='left', suffixes=['A', 'B'])\n",
    "\n",
    "fig, axs = plt.subplots(figsize=(15, 10))\n",
    "plt.plot(\n",
    "         mergedCumulativeConversions['date'],\n",
    "         mergedCumulativeConversions['conversionB']/mergedCumulativeConversions['conversionA']-1, \n",
    "         label=\"Относительный прирост кумулятивного среднего количества заказов на посетителя группы B относительно группы A\"\n",
    ")\n",
    "plt.ylabel('Коммулятивное среднее количество заказов', fontsize=12)\n",
    "plt.xlabel('Дата наблюдения', fontsize=12)\n",
    "plt.title('График относительного изменения кумулятивного среднего количества заказов на посетителя группы B к группе A',\n",
    "          fontsize=12)\n",
    "plt.grid()\n",
    "plt.legend()\n",
    "\n",
    "plt.axhline(y=0, color='black', linestyle='--')\n",
    "plt.axhline(y=0.15, color='grey', linestyle='--')\n",
    "\n",
    "# задаем масштаб осей\n",
    "plt.axis([dt.datetime(2019, 8, 1), dt.datetime(2019, 8, 31), -0.3, 0.3])"
   ]
  },
  {
   "cell_type": "markdown",
   "metadata": {},
   "source": [
    "В начале теста группа B значительно проигрывала группе A, затем вырвалась вперёд и удерживала лидирующую позицию относительно группы А.\n",
    "В целом отношение среднего количества заказов на посетителя ещё не установилось, и сейчас делать какие-либо выводы по тесту нельзя. Сперва стоит проанализировать аномалии."
   ]
  },
  {
   "cell_type": "markdown",
   "metadata": {},
   "source": [
    "#### Построение точечного графика количества заказов по пользователям."
   ]
  },
  {
   "cell_type": "markdown",
   "metadata": {},
   "source": [
    "Подсчитаем количество заказов по пользователям:"
   ]
  },
  {
   "cell_type": "code",
   "execution_count": 23,
   "metadata": {},
   "outputs": [
    {
     "data": {
      "text/html": [
       "<div>\n",
       "<style scoped>\n",
       "    .dataframe tbody tr th:only-of-type {\n",
       "        vertical-align: middle;\n",
       "    }\n",
       "\n",
       "    .dataframe tbody tr th {\n",
       "        vertical-align: top;\n",
       "    }\n",
       "\n",
       "    .dataframe thead th {\n",
       "        text-align: right;\n",
       "    }\n",
       "</style>\n",
       "<table border=\"1\" class=\"dataframe\">\n",
       "  <thead>\n",
       "    <tr style=\"text-align: right;\">\n",
       "      <th></th>\n",
       "      <th>userId</th>\n",
       "      <th>orders</th>\n",
       "    </tr>\n",
       "  </thead>\n",
       "  <tbody>\n",
       "    <tr>\n",
       "      <th>1023</th>\n",
       "      <td>4256040402</td>\n",
       "      <td>11</td>\n",
       "    </tr>\n",
       "    <tr>\n",
       "      <th>591</th>\n",
       "      <td>2458001652</td>\n",
       "      <td>11</td>\n",
       "    </tr>\n",
       "    <tr>\n",
       "      <th>569</th>\n",
       "      <td>2378935119</td>\n",
       "      <td>9</td>\n",
       "    </tr>\n",
       "    <tr>\n",
       "      <th>487</th>\n",
       "      <td>2038680547</td>\n",
       "      <td>8</td>\n",
       "    </tr>\n",
       "    <tr>\n",
       "      <th>44</th>\n",
       "      <td>199603092</td>\n",
       "      <td>5</td>\n",
       "    </tr>\n",
       "    <tr>\n",
       "      <th>744</th>\n",
       "      <td>3062433592</td>\n",
       "      <td>5</td>\n",
       "    </tr>\n",
       "    <tr>\n",
       "      <th>55</th>\n",
       "      <td>237748145</td>\n",
       "      <td>5</td>\n",
       "    </tr>\n",
       "    <tr>\n",
       "      <th>917</th>\n",
       "      <td>3803269165</td>\n",
       "      <td>5</td>\n",
       "    </tr>\n",
       "    <tr>\n",
       "      <th>299</th>\n",
       "      <td>1230306981</td>\n",
       "      <td>5</td>\n",
       "    </tr>\n",
       "    <tr>\n",
       "      <th>897</th>\n",
       "      <td>3717692402</td>\n",
       "      <td>5</td>\n",
       "    </tr>\n",
       "  </tbody>\n",
       "</table>\n",
       "</div>"
      ],
      "text/plain": [
       "          userId  orders\n",
       "1023  4256040402      11\n",
       "591   2458001652      11\n",
       "569   2378935119       9\n",
       "487   2038680547       8\n",
       "44     199603092       5\n",
       "744   3062433592       5\n",
       "55     237748145       5\n",
       "917   3803269165       5\n",
       "299   1230306981       5\n",
       "897   3717692402       5"
      ]
     },
     "execution_count": 23,
     "metadata": {},
     "output_type": "execute_result"
    }
   ],
   "source": [
    "ordersByUsers = (\n",
    "    orders.groupby('visitorId', as_index=False)\n",
    "    .agg({'transactionId': 'nunique'})\n",
    ")\n",
    "\n",
    "ordersByUsers.columns = ['userId', 'orders']\n",
    "\n",
    "ordersByUsers.sort_values(by='orders', ascending=False).head(10)"
   ]
  },
  {
   "cell_type": "markdown",
   "metadata": {},
   "source": [
    "Построим точечную диаграмму числа заказов на одного пользователя:"
   ]
  },
  {
   "cell_type": "code",
   "execution_count": 24,
   "metadata": {},
   "outputs": [
    {
     "data": {
      "image/png": "[encoded data removed]",
      "text/plain": [
       "<Figure size 720x720 with 1 Axes>"
      ]
     },
     "metadata": {
      "needs_background": "light"
     },
     "output_type": "display_data"
    }
   ],
   "source": [
    "x_values = pd.Series(range(0,len(ordersByUsers)))\n",
    "fig, axs = plt.subplots(figsize=(10, 10)) # зададим размер поля для построений\n",
    "plt.scatter(x_values, ordersByUsers['orders'])\n",
    "plt.ylabel('Количество заказов', fontsize=12)\n",
    "plt.xlabel('Количество пользователей', fontsize=12)\n",
    "plt.title('Точечная диаграмма числа заказов на одного пользователя',\n",
    "          fontsize=12)\n",
    "plt.show()"
   ]
  },
  {
   "cell_type": "markdown",
   "metadata": {},
   "source": [
    "Проанализировав график, отметим, что основная доля покупателей сделала 1 заказ, но также много пользователей с 2-3 заказами. Их точная доля не ясна — непонятно, считать их аномалиями или нет. \n",
    "Посчитаем выборочные перцентили количества заказов на одного пользователя."
   ]
  },
  {
   "cell_type": "markdown",
   "metadata": {},
   "source": [
    "#### Расчёт 95-й и 99-й перцентилей количества заказов на пользователя."
   ]
  },
  {
   "cell_type": "code",
   "execution_count": 25,
   "metadata": {},
   "outputs": [
    {
     "name": "stdout",
     "output_type": "stream",
     "text": [
      "[2. 4.]\n"
     ]
    }
   ],
   "source": [
    "print(np.percentile(ordersByUsers['orders'], [95, 99]))"
   ]
  },
  {
   "cell_type": "markdown",
   "metadata": {},
   "source": [
    "Не более 5% пользователей оформляли больше чем 2 заказа. И 1% пользователей заказывали более четырёх раз. \n",
    "Разумно выбрать 2 заказа на одного пользователя за верхнюю границу числа заказов, и отсеять аномальных пользователей по ней. "
   ]
  },
  {
   "cell_type": "markdown",
   "metadata": {},
   "source": [
    "#### Построение точечного графика стоимостей заказов."
   ]
  },
  {
   "cell_type": "markdown",
   "metadata": {},
   "source": [
    "Оценим распределение стоимостей заказов с помощью точечной диаграммы:"
   ]
  },
  {
   "cell_type": "code",
   "execution_count": 26,
   "metadata": {},
   "outputs": [
    {
     "data": {
      "image/png": "[encoded data removed]",
      "text/plain": [
       "<Figure size 720x360 with 1 Axes>"
      ]
     },
     "metadata": {
      "needs_background": "light"
     },
     "output_type": "display_data"
    }
   ],
   "source": [
    "x_values = pd.Series(range(0, len(orders['revenue'])))\n",
    "fig, axs = plt.subplots(figsize=(10, 5)) # зададим размер поля для построений\n",
    "\n",
    "axs.set_ylim(0,40000) # зададим ограничение по оси y\n",
    "plt.scatter(x_values, orders['revenue'])\n",
    "plt.ylabel('Стоимость заказов', fontsize=12)\n",
    "plt.xlabel('Количество заказов', fontsize=12)\n",
    "plt.title('Точечный график стоимостей заказов',\n",
    "          fontsize=12)\n",
    "plt.show()"
   ]
  },
  {
   "cell_type": "markdown",
   "metadata": {},
   "source": [
    "Как видно из графика, основная масса заказов не превышает по стоимости 10000. Встречаются особо дорогие заказы стоимостью более миллиона. Скорее всего они и могут приводить к скачкам на графике коммулятивного среднего чека.\n",
    "Посчитаем выборочные перцентили стоимости заказов."
   ]
  },
  {
   "cell_type": "markdown",
   "metadata": {},
   "source": [
    "#### Расчёт 95-й и 99-й перцентилей стоимости заказов."
   ]
  },
  {
   "cell_type": "code",
   "execution_count": 27,
   "metadata": {},
   "outputs": [
    {
     "name": "stdout",
     "output_type": "stream",
     "text": [
      "   transactionId   visitorId       date  revenue group\n",
      "0     3667963787  3312258926 2019-08-15     1650     B\n",
      "1     2804400009  3642806036 2019-08-15      730     B\n",
      "2     2961555356  4069496402 2019-08-15      400     A\n",
      "3     3797467345  1196621759 2019-08-15     9759     B\n",
      "4     2282983706  2322279887 2019-08-15     2308     B\n",
      "5      182168103   935554773 2019-08-15     2210     B\n",
      "6      398296753  2900797465 2019-08-15     1860     B\n",
      "7     2626614568    78758296 2019-08-15     1044     A\n",
      "8     1576988021   295230930 2019-08-15    13710     A\n",
      "9     1506739906  1882260405 2019-08-15     1855     B\n",
      "[28000.  58233.2]\n"
     ]
    }
   ],
   "source": [
    "print(orders.head(10))\n",
    "print(np.percentile(orders['revenue'], [95, 99]))"
   ]
  },
  {
   "cell_type": "markdown",
   "metadata": {},
   "source": [
    "Не более 5% пользователей оформляли заказы дороже 28 тысяч. И 1% пользователей оплатили заказы дороже 58 тысяч. \n",
    "Разумно выбрать стоимость заказа 28000 за верхнюю границу стоимости заказов, и отсеять аномальных пользователей по ней."
   ]
  },
  {
   "cell_type": "markdown",
   "metadata": {},
   "source": [
    "####  Расчёт статистической значимости различий в среднем количестве заказов на посетителя между группами по «сырым» данным."
   ]
  },
  {
   "cell_type": "markdown",
   "metadata": {},
   "source": [
    "Сформулируем гипотезы. Нулевая: различий в среднем количестве заказов между группами нет. Альтернативная: различия в среднем между группами есть."
   ]
  },
  {
   "cell_type": "markdown",
   "metadata": {},
   "source": [
    "Подготовим данные в новой таблице data_2:"
   ]
  },
  {
   "cell_type": "code",
   "execution_count": 28,
   "metadata": {},
   "outputs": [],
   "source": [
    "visitorsADaily = visitors[visitors['group'] == 'A'][['date', 'visitors']]\n",
    "visitorsADaily.columns = ['date', 'visitorsPerDateA']\n",
    "\n",
    "visitorsACummulative = visitorsADaily.apply(\n",
    "    lambda x: visitorsADaily[visitorsADaily['date'] <= x['date']].agg(\n",
    "        {'date': 'max', 'visitorsPerDateA': 'sum'}\n",
    "    ),\n",
    "    axis=1,\n",
    ")\n",
    "visitorsACummulative.columns = ['date', 'visitorsCummulativeA']"
   ]
  },
  {
   "cell_type": "code",
   "execution_count": 29,
   "metadata": {},
   "outputs": [],
   "source": [
    "visitorsBDaily = visitors[visitors['group'] == 'B'][['date', 'visitors']]\n",
    "visitorsBDaily.columns = ['date', 'visitorsPerDateB']\n",
    "\n",
    "visitorsBCummulative = visitorsBDaily.apply(\n",
    "    lambda x: visitorsBDaily[visitorsBDaily['date'] <= x['date']].agg(\n",
    "        {'date': 'max', 'visitorsPerDateB': 'sum'}\n",
    "    ),\n",
    "    axis=1,\n",
    ")\n",
    "visitorsBCummulative.columns = ['date', 'visitorsCummulativeB']"
   ]
  },
  {
   "cell_type": "code",
   "execution_count": 30,
   "metadata": {},
   "outputs": [],
   "source": [
    "ordersADaily = (\n",
    "    orders[orders['group'] == 'A'][['date', 'transactionId', 'visitorId', 'revenue']]\n",
    "    .groupby('date', as_index=False)\n",
    "    .agg({'transactionId': pd.Series.nunique, 'revenue': 'sum'})\n",
    ")\n",
    "ordersADaily.columns = ['date', 'ordersPerDateA', 'revenuePerDateA']\n",
    "\n",
    "ordersACummulative = ordersADaily.apply(\n",
    "    lambda x: ordersADaily[ordersADaily['date'] <= x['date']].agg(\n",
    "        {'date': 'max', 'ordersPerDateA': 'sum', 'revenuePerDateA': 'sum'}\n",
    "    ),\n",
    "    axis=1,\n",
    ").sort_values(by=['date'])\n",
    "ordersACummulative.columns = [\n",
    "    'date',\n",
    "    'ordersCummulativeA',\n",
    "    'revenueCummulativeA',\n",
    "]"
   ]
  },
  {
   "cell_type": "code",
   "execution_count": 31,
   "metadata": {},
   "outputs": [],
   "source": [
    "ordersBDaily = (\n",
    "    orders[orders['group'] == 'B'][['date', 'transactionId', 'visitorId', 'revenue']]\n",
    "    .groupby('date', as_index=False)\n",
    "    .agg({'transactionId': pd.Series.nunique, 'revenue': 'sum'})\n",
    ")\n",
    "ordersBDaily.columns = ['date', 'ordersPerDateB', 'revenuePerDateB']\n",
    "\n",
    "ordersBCummulative = ordersBDaily.apply(\n",
    "    lambda x: ordersBDaily[ordersBDaily['date'] <= x['date']].agg(\n",
    "        {'date': 'max', 'ordersPerDateB': 'sum', 'revenuePerDateB': 'sum'}\n",
    "    ),\n",
    "    axis=1,\n",
    ").sort_values(by=['date'])\n",
    "ordersBCummulative.columns = [\n",
    "    'date',\n",
    "    'ordersCummulativeB',\n",
    "    'revenueCummulativeB',\n",
    "]"
   ]
  },
  {
   "cell_type": "code",
   "execution_count": 32,
   "metadata": {},
   "outputs": [
    {
     "name": "stdout",
     "output_type": "stream",
     "text": [
      "        date  ordersPerDateA  revenuePerDateA  ordersPerDateB  revenuePerDateB  ordersCummulativeA  revenueCummulativeA  ordersCummulativeB  revenueCummulativeB  visitorsPerDateA  visitorsPerDateB  visitorsCummulativeA  visitorsCummulativeB\n",
      "0 2019-08-01              24           148579              21           101217                  24               148579                  21               101217               719               713                   719                   713\n",
      "1 2019-08-02              20            93822              24           165531                  44               242401                  45               266748               619               581                  1338                  1294\n",
      "2 2019-08-03              24           112473              16           114248                  68               354874                  61               380996               507               509                  1845                  1803\n",
      "3 2019-08-04              16            70825              17           108571                  84               425699                  78               489567               717               770                  2562                  2573\n",
      "4 2019-08-05              25           124218              23            92428                 109               549917                 101               581995               756               707                  3318                  3280\n"
     ]
    }
   ],
   "source": [
    "data_2 = (\n",
    "    ordersADaily.merge(\n",
    "        ordersBDaily, left_on='date', right_on='date', how='left'\n",
    "    )\n",
    "    .merge(ordersACummulative, left_on='date', right_on='date', how='left')\n",
    "    .merge(ordersBCummulative, left_on='date', right_on='date', how='left')\n",
    "    .merge(visitorsADaily, left_on='date', right_on='date', how='left')\n",
    "    .merge(visitorsBDaily, left_on='date', right_on='date', how='left')\n",
    "    .merge(visitorsACummulative, left_on='date', right_on='date', how='left')\n",
    "    .merge(visitorsBCummulative, left_on='date', right_on='date', how='left')\n",
    ")\n",
    "\n",
    "print(data_2.head(5))"
   ]
  },
  {
   "cell_type": "markdown",
   "metadata": {},
   "source": [
    "Создадим переменные ordersByUsersA и ordersByUsersB со столбцами ['userId', 'orders']. В них для пользователей, которые заказывали хотя бы 1 раз, укажем число совершённых заказов. "
   ]
  },
  {
   "cell_type": "code",
   "execution_count": 33,
   "metadata": {},
   "outputs": [
    {
     "data": {
      "text/html": [
       "<div>\n",
       "<style scoped>\n",
       "    .dataframe tbody tr th:only-of-type {\n",
       "        vertical-align: middle;\n",
       "    }\n",
       "\n",
       "    .dataframe tbody tr th {\n",
       "        vertical-align: top;\n",
       "    }\n",
       "\n",
       "    .dataframe thead th {\n",
       "        text-align: right;\n",
       "    }\n",
       "</style>\n",
       "<table border=\"1\" class=\"dataframe\">\n",
       "  <thead>\n",
       "    <tr style=\"text-align: right;\">\n",
       "      <th></th>\n",
       "      <th>userId</th>\n",
       "      <th>orders</th>\n",
       "    </tr>\n",
       "  </thead>\n",
       "  <tbody>\n",
       "    <tr>\n",
       "      <th>0</th>\n",
       "      <td>8300375</td>\n",
       "      <td>1</td>\n",
       "    </tr>\n",
       "    <tr>\n",
       "      <th>1</th>\n",
       "      <td>11685486</td>\n",
       "      <td>1</td>\n",
       "    </tr>\n",
       "    <tr>\n",
       "      <th>2</th>\n",
       "      <td>54447517</td>\n",
       "      <td>1</td>\n",
       "    </tr>\n",
       "    <tr>\n",
       "      <th>3</th>\n",
       "      <td>66685450</td>\n",
       "      <td>1</td>\n",
       "    </tr>\n",
       "    <tr>\n",
       "      <th>4</th>\n",
       "      <td>78758296</td>\n",
       "      <td>1</td>\n",
       "    </tr>\n",
       "  </tbody>\n",
       "</table>\n",
       "</div>"
      ],
      "text/plain": [
       "     userId  orders\n",
       "0   8300375       1\n",
       "1  11685486       1\n",
       "2  54447517       1\n",
       "3  66685450       1\n",
       "4  78758296       1"
      ]
     },
     "execution_count": 33,
     "metadata": {},
     "output_type": "execute_result"
    }
   ],
   "source": [
    "ordersByUsersA = (\n",
    "    orders[orders['group'] == 'A']\n",
    "    .groupby('visitorId', as_index=False)\n",
    "    .agg({'transactionId': pd.Series.nunique})\n",
    ")\n",
    "ordersByUsersA.columns = ['userId', 'orders']\n",
    "ordersByUsersA.head()"
   ]
  },
  {
   "cell_type": "code",
   "execution_count": 34,
   "metadata": {},
   "outputs": [
    {
     "data": {
      "text/html": [
       "<div>\n",
       "<style scoped>\n",
       "    .dataframe tbody tr th:only-of-type {\n",
       "        vertical-align: middle;\n",
       "    }\n",
       "\n",
       "    .dataframe tbody tr th {\n",
       "        vertical-align: top;\n",
       "    }\n",
       "\n",
       "    .dataframe thead th {\n",
       "        text-align: right;\n",
       "    }\n",
       "</style>\n",
       "<table border=\"1\" class=\"dataframe\">\n",
       "  <thead>\n",
       "    <tr style=\"text-align: right;\">\n",
       "      <th></th>\n",
       "      <th>userId</th>\n",
       "      <th>orders</th>\n",
       "    </tr>\n",
       "  </thead>\n",
       "  <tbody>\n",
       "    <tr>\n",
       "      <th>0</th>\n",
       "      <td>5114589</td>\n",
       "      <td>1</td>\n",
       "    </tr>\n",
       "    <tr>\n",
       "      <th>1</th>\n",
       "      <td>6958315</td>\n",
       "      <td>1</td>\n",
       "    </tr>\n",
       "    <tr>\n",
       "      <th>2</th>\n",
       "      <td>8300375</td>\n",
       "      <td>1</td>\n",
       "    </tr>\n",
       "    <tr>\n",
       "      <th>3</th>\n",
       "      <td>39475350</td>\n",
       "      <td>1</td>\n",
       "    </tr>\n",
       "    <tr>\n",
       "      <th>4</th>\n",
       "      <td>47206413</td>\n",
       "      <td>1</td>\n",
       "    </tr>\n",
       "  </tbody>\n",
       "</table>\n",
       "</div>"
      ],
      "text/plain": [
       "     userId  orders\n",
       "0   5114589       1\n",
       "1   6958315       1\n",
       "2   8300375       1\n",
       "3  39475350       1\n",
       "4  47206413       1"
      ]
     },
     "execution_count": 34,
     "metadata": {},
     "output_type": "execute_result"
    }
   ],
   "source": [
    "ordersByUsersB = (\n",
    "    orders[orders['group'] == 'B']\n",
    "    .groupby('visitorId', as_index=False)\n",
    "    .agg({'transactionId': pd.Series.nunique})\n",
    ")\n",
    "ordersByUsersB.columns = ['userId', 'orders']\n",
    "ordersByUsersB.head()"
   ]
  },
  {
   "cell_type": "code",
   "execution_count": 35,
   "metadata": {},
   "outputs": [],
   "source": [
    "\n",
    "visitorsACummulative = visitorsADaily.apply(\n",
    "    lambda x: visitorsADaily[visitorsADaily['date'] <= x['date']].agg(\n",
    "        {'date': 'max', 'visitorsPerDateA': 'sum'}\n",
    "    ),\n",
    "    axis=1,\n",
    ")"
   ]
  },
  {
   "cell_type": "markdown",
   "metadata": {},
   "source": [
    "Объявим переменные sampleA и sampleB, в которых пользователям из разных групп будет соответствовать количество заказов. Тем, кто ничего не заказал, будут соответствовать нули. \n",
    "Это нужно, чтобы подготовить выборки к проверке критерием Манна-Уитни. Его особенностью является то, что он работает  с рангами, — номерами значений в упорядоченном ряду, — никак не учитывая сами значения. Поэтому в нашем случае, когда работа с самими значениями невозможна из-за выбросов, сильно сдвигающих параметрические результаты, выбор непараметрического теста Манна-Уитни является оптимальным."
   ]
  },
  {
   "cell_type": "code",
   "execution_count": 36,
   "metadata": {},
   "outputs": [],
   "source": [
    "sampleA = pd.concat(\n",
    "    [ordersByUsersA['orders'],pd.Series(\n",
    "        0, index=np.arange(data_2['visitorsPerDateA'].sum() - len(ordersByUsersA['orders'])\n",
    "                          ), name='orders')],axis=0)"
   ]
  },
  {
   "cell_type": "code",
   "execution_count": 37,
   "metadata": {},
   "outputs": [],
   "source": [
    "sampleB = pd.concat(\n",
    "    [ordersByUsersB['orders'],pd.Series(\n",
    "        0, index=np.arange(data_2['visitorsPerDateB'].sum() - len(ordersByUsersB['orders'])\n",
    "                          ), name='orders')],axis=0)"
   ]
  },
  {
   "cell_type": "markdown",
   "metadata": {},
   "source": [
    "Применим критерий Манна-Уитни и отформатируем p-value, округлив его до трёх знаков после запятой."
   ]
  },
  {
   "cell_type": "code",
   "execution_count": 38,
   "metadata": {},
   "outputs": [
    {
     "name": "stdout",
     "output_type": "stream",
     "text": [
      "p-value: 0.017\n",
      "относительное изменение: 0.138\n"
     ]
    }
   ],
   "source": [
    "print('p-value:', \"{0:.3f}\".format(stats.mannwhitneyu(sampleA, sampleB)[1]))\n",
    "print('относительное изменение:', \"{0:.3f}\".format(sampleB.mean() / sampleA.mean() - 1))"
   ]
  },
  {
   "cell_type": "markdown",
   "metadata": {},
   "source": [
    "Вывод: По «сырым» данным есть различия в среднем числе заказов групп A и B. \n",
    "Первое число — p-value = 0.017 меньше 0.05. Значит, нулевую гипотезу о том, что статистически значимых различий в среднем числе заказов между группами нет, отвергаем. К тому же относительный проигрыш группы B равен 13.8% — второе число в выводе."
   ]
  },
  {
   "cell_type": "markdown",
   "metadata": {},
   "source": [
    "#### Расчёт статистической значимости различий в среднем чеке заказа между группами по «сырым» данным."
   ]
  },
  {
   "cell_type": "markdown",
   "metadata": {},
   "source": [
    "Проверим статистическую значимость различий в среднем чеке между сегментами. Нулевая гипотеза: различий в среднем чеке между группами нет. Альтернативная гипотеза: различия в среднем чеке между группами есть. "
   ]
  },
  {
   "cell_type": "markdown",
   "metadata": {},
   "source": [
    "Чтобы рассчитать статистическую значимость различий в среднем чеке, передадим критерию mannwhitneyu() данные о выручке с заказов. \n",
    "А ещё найдём относительные различия в среднем чеке между группами:"
   ]
  },
  {
   "cell_type": "code",
   "execution_count": 39,
   "metadata": {},
   "outputs": [
    {
     "name": "stdout",
     "output_type": "stream",
     "text": [
      "p-value: 0.729\n",
      "относительное изменение: 0.259\n"
     ]
    }
   ],
   "source": [
    "print('p-value:', '{0:.3f}'.format(stats.mannwhitneyu(orders[orders['group']=='A']['revenue'], orders[orders['group']=='B']['revenue'])[1]))\n",
    "print('относительное изменение:', '{0:.3f}'.format(orders[orders['group']=='B']['revenue'].mean()/orders[orders['group']=='A']['revenue'].mean()-1))"
   ]
  },
  {
   "cell_type": "markdown",
   "metadata": {},
   "source": [
    "P-value значительно больше 0.05. Значит, причин отвергать нулевую гипотезу и считать, что в среднем чеке есть различия, нет. "
   ]
  },
  {
   "cell_type": "markdown",
   "metadata": {},
   "source": [
    "#### Расчёт статистической значимости различий в среднем количестве заказов на посетителя между группами по «очищенным» данным."
   ]
  },
  {
   "cell_type": "markdown",
   "metadata": {},
   "source": [
    "Напомним, что найденные в прошлых уроках 95-й и 99-й перцентили стоимости заказов равны 28000 и 58233.2. А 95-й и 99-й перцентили количества заказов на одного пользователя равны 2 и 4 заказа на пользователя."
   ]
  },
  {
   "cell_type": "markdown",
   "metadata": {},
   "source": [
    "Примем за аномальных пользователей тех, кто совершил от 2 заказов или совершил заказ дороже 28 000 рублей. Так мы уберём 5% пользователей с наибольшим числом заказов и от 1% до 5% пользователей с дорогими заказами. Сделаем срезы пользователей с числом заказов больше 2 — usersWithManyOrders и пользователей, совершивших заказы дороже 28 000 — usersWithExpensiveOrders. Объединим их в таблице abnormalUsers. "
   ]
  },
  {
   "cell_type": "markdown",
   "metadata": {},
   "source": [
    "Узнаем, сколько всего аномальных пользователей атрибутом shape."
   ]
  },
  {
   "cell_type": "code",
   "execution_count": 40,
   "metadata": {},
   "outputs": [
    {
     "name": "stdout",
     "output_type": "stream",
     "text": [
      "1099    148427295\n",
      "18      199603092\n",
      "928     204675465\n",
      "23      237748145\n",
      "37      249864742\n",
      "dtype: int64\n",
      "74\n"
     ]
    }
   ],
   "source": [
    "usersWithManyOrders = pd.concat(\n",
    "    [\n",
    "        ordersByUsersA[ordersByUsersA['orders'] > (np.percentile(ordersByUsers['orders'], 95))]['userId'],\n",
    "        ordersByUsersB[ordersByUsersB['orders'] > (np.percentile(ordersByUsers['orders'], 95))]['userId'],\n",
    "    ],\n",
    "    axis=0,\n",
    ")\n",
    "usersWithExpensiveOrders = orders[orders['revenue'] > (np.percentile(orders['revenue'], 95))]['visitorId']\n",
    "abnormalUsers = (\n",
    "    pd.concat([usersWithManyOrders, usersWithExpensiveOrders], axis=0)\n",
    "    .drop_duplicates()\n",
    "    .sort_values()\n",
    ")\n",
    "print(abnormalUsers.head(5))\n",
    "print(abnormalUsers.shape[0])"
   ]
  },
  {
   "cell_type": "markdown",
   "metadata": {},
   "source": [
    "Всего 74 аномальных пользователей. \n",
    "Узнаем, как их действия повлияли на результаты теста. Посчитаем статистическую значимость различий в среднем количестве заказов между группами теста по очищенным данным. Сначала подготовим выборки количества заказов по пользователям по группам теста:"
   ]
  },
  {
   "cell_type": "code",
   "execution_count": 41,
   "metadata": {},
   "outputs": [],
   "source": [
    "sampleAFiltered = pd.concat(\n",
    "    [\n",
    "        ordersByUsersA[\n",
    "            np.logical_not(ordersByUsersA['userId'].isin(abnormalUsers))\n",
    "        ]['orders'],\n",
    "        pd.Series(\n",
    "            0,\n",
    "            index=np.arange(\n",
    "                data_2['visitorsPerDateA'].sum() - len(ordersByUsersA['orders'])\n",
    "            ),\n",
    "            name='orders',\n",
    "        ),\n",
    "    ],\n",
    "    axis=0,\n",
    ")\n",
    "\n",
    "sampleBFiltered = pd.concat(\n",
    "    [\n",
    "        ordersByUsersB[\n",
    "            np.logical_not(ordersByUsersB['userId'].isin(abnormalUsers))\n",
    "        ]['orders'],\n",
    "        pd.Series(\n",
    "            0,\n",
    "            index=np.arange(\n",
    "                data_2['visitorsPerDateB'].sum() - len(ordersByUsersB['orders'])\n",
    "            ),\n",
    "            name='orders',\n",
    "        ),\n",
    "    ],\n",
    "    axis=0,\n",
    ")"
   ]
  },
  {
   "cell_type": "markdown",
   "metadata": {},
   "source": [
    "Применим статистический критерий Манна-Уитни к полученным выборкам:"
   ]
  },
  {
   "cell_type": "code",
   "execution_count": 42,
   "metadata": {},
   "outputs": [
    {
     "name": "stdout",
     "output_type": "stream",
     "text": [
      "p-value: 0.013\n",
      "относительное изменение: 0.173\n"
     ]
    }
   ],
   "source": [
    "print('p-value:', '{0:.3f}'.format(stats.mannwhitneyu(sampleAFiltered, sampleBFiltered)[1]))\n",
    "print('относительное изменение:', '{0:.3f}'.format(sampleBFiltered.mean()/sampleAFiltered.mean()-1))"
   ]
  },
  {
   "cell_type": "markdown",
   "metadata": {},
   "source": [
    "Результаты по среднему количеству заказов практически не изменились. Оценим, произошло ли что-нибудь с результатами по среднему чеку."
   ]
  },
  {
   "cell_type": "markdown",
   "metadata": {},
   "source": [
    "#### Расчёт статистической значимости различий в среднем чеке заказа между группами по «очищенным» данным."
   ]
  },
  {
   "cell_type": "code",
   "execution_count": 43,
   "metadata": {},
   "outputs": [
    {
     "name": "stdout",
     "output_type": "stream",
     "text": [
      "p-value: 0.738\n",
      "относительное изменение: -0.020\n"
     ]
    }
   ],
   "source": [
    "print('p-value:', \n",
    "    '{0:.3f}'.format(\n",
    "        stats.mannwhitneyu(\n",
    "            orders[\n",
    "                np.logical_and(\n",
    "                    orders['group'] == 'A',\n",
    "                    np.logical_not(orders['visitorId'].isin(abnormalUsers)),\n",
    "                )\n",
    "            ]['revenue'],\n",
    "            orders[\n",
    "                np.logical_and(\n",
    "                    orders['group'] == 'B',\n",
    "                    np.logical_not(orders['visitorId'].isin(abnormalUsers)),\n",
    "                )\n",
    "            ]['revenue'],\n",
    "        )[1]\n",
    "    )\n",
    ")\n",
    "\n",
    "print('относительное изменение:',\n",
    "    \"{0:.3f}\".format(\n",
    "        orders[\n",
    "            np.logical_and(\n",
    "                orders['group'] == 'B',\n",
    "                np.logical_not(orders['visitorId'].isin(abnormalUsers)),\n",
    "            )\n",
    "        ]['revenue'].mean()\n",
    "        / orders[\n",
    "            np.logical_and(\n",
    "                orders['group'] == 'A',\n",
    "                np.logical_not(orders['visitorId'].isin(abnormalUsers)),\n",
    "            )\n",
    "        ]['revenue'].mean()\n",
    "        - 1\n",
    "    )\n",
    ")"
   ]
  },
  {
   "cell_type": "markdown",
   "metadata": {},
   "source": [
    "P-value увеличился, но и разница между сегментами сократилась с 26% до -2%.\n",
    "Хотя общие выводы по результатам теста не изменились, такой пример хорошо показывает, как сильно аномалии могут влиять на результаты A/B-теста"
   ]
  },
  {
   "cell_type": "markdown",
   "metadata": {},
   "source": [
    "#### Принятие решения по результатам теста."
   ]
  },
  {
   "cell_type": "markdown",
   "metadata": {},
   "source": [
    "Таким образом, проанализировав полученные данные можно отметить следующие факты:\n",
    "\n",
    "- Есть статистически значимые различия по среднему количеству заказов между группами по «сырым», и по данным после фильтрации аномалий (наблюдается явное преобладание группы В);\n",
    "- Нет статистически значимого различия по среднему чеку между группами ни по «сырым», ни по данным после фильтрации аномалий (P-value значительно больше 0.05. Значит, причин отвергать нулевую гипотезу и считать, что в среднем чеке есть различия, нет);\n",
    "- График различия среднего количества заказов между группами сообщает, что результаты группы B лучше группы A и;\n",
    "- График различия среднего чека говорит о том, что результаты группы B снижаются день ото дня с середины теста и сейчас почти на 20% хуже установившегося пика 19 августа.\n",
    "\n",
    "Исходя из обнаруженных фактов, тест следует остановить и признать его успешным, присвоив победу группе B. Продолжать смысла нет, потому как вероятность, что при имеющихся данных сегмент А на самом деле лучше сегмента В — практически нулевая."
   ]
  }
 ],
 "metadata": {
  "ExecuteTimeLog": [
   {
    "duration": 453,
    "start_time": "2024-07-17T17:47:03.098Z"
   },
   {
    "duration": 69,
    "start_time": "2024-07-17T17:49:32.032Z"
   },
   {
    "duration": 14,
    "start_time": "2024-07-17T17:49:45.409Z"
   },
   {
    "duration": 8,
    "start_time": "2024-07-17T17:50:24.527Z"
   },
   {
    "duration": 8,
    "start_time": "2024-07-17T17:50:33.394Z"
   },
   {
    "duration": 7,
    "start_time": "2024-07-17T17:50:42.626Z"
   },
   {
    "duration": 3,
    "start_time": "2024-07-17T17:54:51.975Z"
   },
   {
    "duration": 26,
    "start_time": "2024-07-17T17:55:14.915Z"
   },
   {
    "duration": 2,
    "start_time": "2024-07-17T17:55:15.397Z"
   },
   {
    "duration": 8,
    "start_time": "2024-07-17T17:55:15.845Z"
   },
   {
    "duration": 12,
    "start_time": "2024-07-17T17:55:57.860Z"
   },
   {
    "duration": 3,
    "start_time": "2024-07-17T18:00:51.353Z"
   },
   {
    "duration": 9,
    "start_time": "2024-07-17T18:02:17.928Z"
   },
   {
    "duration": 222,
    "start_time": "2024-07-17T18:31:28.279Z"
   },
   {
    "duration": 7,
    "start_time": "2024-07-17T18:31:57.248Z"
   },
   {
    "duration": 7,
    "start_time": "2024-07-17T18:32:17.029Z"
   },
   {
    "duration": 48,
    "start_time": "2024-07-17T18:32:41.892Z"
   },
   {
    "duration": 15,
    "start_time": "2024-07-17T18:32:42.297Z"
   },
   {
    "duration": 8,
    "start_time": "2024-07-17T18:32:43.721Z"
   },
   {
    "duration": 52,
    "start_time": "2024-07-17T18:33:26.317Z"
   },
   {
    "duration": 26,
    "start_time": "2024-07-17T18:33:32.795Z"
   },
   {
    "duration": 7,
    "start_time": "2024-07-17T18:33:36.660Z"
   },
   {
    "duration": 30,
    "start_time": "2024-07-17T18:33:45.693Z"
   },
   {
    "duration": 29,
    "start_time": "2024-07-17T18:34:51.584Z"
   },
   {
    "duration": 3,
    "start_time": "2024-07-17T18:37:55.807Z"
   },
   {
    "duration": 64,
    "start_time": "2024-07-17T18:39:10.474Z"
   },
   {
    "duration": 71,
    "start_time": "2024-07-17T18:39:33.417Z"
   },
   {
    "duration": 60,
    "start_time": "2024-07-17T18:40:04.939Z"
   },
   {
    "duration": 60,
    "start_time": "2024-07-17T18:41:16.438Z"
   },
   {
    "duration": 344,
    "start_time": "2024-07-17T18:41:16.918Z"
   },
   {
    "duration": 33,
    "start_time": "2024-07-17T18:42:07.879Z"
   },
   {
    "duration": 7,
    "start_time": "2024-07-17T18:48:18.212Z"
   },
   {
    "duration": 24,
    "start_time": "2024-07-17T18:50:33.763Z"
   },
   {
    "duration": 163,
    "start_time": "2024-07-17T18:53:31.932Z"
   },
   {
    "duration": 122,
    "start_time": "2024-07-17T18:54:37.502Z"
   },
   {
    "duration": 6,
    "start_time": "2024-07-17T18:55:15.028Z"
   },
   {
    "duration": 8,
    "start_time": "2024-07-17T18:55:38.590Z"
   },
   {
    "duration": 9,
    "start_time": "2024-07-17T18:56:05.845Z"
   },
   {
    "duration": 8,
    "start_time": "2024-07-17T18:56:16.432Z"
   },
   {
    "duration": 6,
    "start_time": "2024-07-17T18:56:37.640Z"
   },
   {
    "duration": 406,
    "start_time": "2024-07-17T18:57:51.443Z"
   },
   {
    "duration": 251,
    "start_time": "2024-07-17T19:00:50.140Z"
   },
   {
    "duration": 204,
    "start_time": "2024-07-17T19:04:40.172Z"
   },
   {
    "duration": 190,
    "start_time": "2024-07-17T19:04:59.933Z"
   },
   {
    "duration": 13,
    "start_time": "2024-07-17T19:09:46.176Z"
   },
   {
    "duration": 213,
    "start_time": "2024-07-17T19:11:06.011Z"
   },
   {
    "duration": 208,
    "start_time": "2024-07-17T19:11:21.457Z"
   },
   {
    "duration": 176,
    "start_time": "2024-07-17T19:11:40.050Z"
   },
   {
    "duration": 204,
    "start_time": "2024-07-17T19:11:58.159Z"
   },
   {
    "duration": 177,
    "start_time": "2024-07-17T19:12:07.610Z"
   },
   {
    "duration": 191,
    "start_time": "2024-07-17T19:14:08.889Z"
   },
   {
    "duration": 185,
    "start_time": "2024-07-17T19:14:19.258Z"
   },
   {
    "duration": 307,
    "start_time": "2024-07-17T19:21:54.545Z"
   },
   {
    "duration": 275,
    "start_time": "2024-07-17T19:22:46.084Z"
   },
   {
    "duration": 281,
    "start_time": "2024-07-17T19:23:19.589Z"
   },
   {
    "duration": 221,
    "start_time": "2024-07-17T19:29:37.116Z"
   },
   {
    "duration": 6,
    "start_time": "2024-07-17T19:32:38.186Z"
   },
   {
    "duration": 5,
    "start_time": "2024-07-17T19:33:14.389Z"
   },
   {
    "duration": 251,
    "start_time": "2024-07-17T19:34:12.744Z"
   },
   {
    "duration": 183,
    "start_time": "2024-07-17T19:34:26.847Z"
   },
   {
    "duration": 191,
    "start_time": "2024-07-17T19:35:04.435Z"
   },
   {
    "duration": 227,
    "start_time": "2024-07-17T19:35:32.130Z"
   },
   {
    "duration": 178,
    "start_time": "2024-07-17T19:37:30.445Z"
   },
   {
    "duration": 201,
    "start_time": "2024-07-17T19:37:55.749Z"
   },
   {
    "duration": 178,
    "start_time": "2024-07-17T19:38:03.750Z"
   },
   {
    "duration": 177,
    "start_time": "2024-07-17T19:38:15.031Z"
   },
   {
    "duration": 211,
    "start_time": "2024-07-17T19:38:32.541Z"
   },
   {
    "duration": 297,
    "start_time": "2024-07-17T19:48:13.652Z"
   },
   {
    "duration": 293,
    "start_time": "2024-07-17T19:49:32.952Z"
   },
   {
    "duration": 372,
    "start_time": "2024-07-17T19:50:33.545Z"
   },
   {
    "duration": 273,
    "start_time": "2024-07-17T19:50:52.899Z"
   },
   {
    "duration": 302,
    "start_time": "2024-07-17T19:51:40.637Z"
   },
   {
    "duration": 284,
    "start_time": "2024-07-17T19:52:13.573Z"
   },
   {
    "duration": 255,
    "start_time": "2024-07-17T19:52:30.294Z"
   },
   {
    "duration": 299,
    "start_time": "2024-07-17T19:52:50.806Z"
   },
   {
    "duration": 301,
    "start_time": "2024-07-17T19:53:22.080Z"
   },
   {
    "duration": 307,
    "start_time": "2024-07-17T19:53:38.152Z"
   },
   {
    "duration": 286,
    "start_time": "2024-07-17T19:54:55.860Z"
   },
   {
    "duration": 283,
    "start_time": "2024-07-17T19:55:06.440Z"
   },
   {
    "duration": 699,
    "start_time": "2024-07-18T18:05:40.403Z"
   },
   {
    "duration": 85,
    "start_time": "2024-07-18T18:05:41.104Z"
   },
   {
    "duration": 3,
    "start_time": "2024-07-18T18:05:41.190Z"
   },
   {
    "duration": 52,
    "start_time": "2024-07-18T18:05:41.194Z"
   },
   {
    "duration": 23,
    "start_time": "2024-07-18T18:05:41.248Z"
   },
   {
    "duration": 30,
    "start_time": "2024-07-18T18:05:41.272Z"
   },
   {
    "duration": 150,
    "start_time": "2024-07-18T18:05:41.303Z"
   },
   {
    "duration": 76,
    "start_time": "2024-07-18T18:05:41.455Z"
   },
   {
    "duration": 4,
    "start_time": "2024-07-18T18:05:41.533Z"
   },
   {
    "duration": 167,
    "start_time": "2024-07-18T18:05:41.539Z"
   },
   {
    "duration": 107,
    "start_time": "2024-07-18T18:05:41.708Z"
   },
   {
    "duration": 6,
    "start_time": "2024-07-18T18:05:41.816Z"
   },
   {
    "duration": 93,
    "start_time": "2024-07-18T18:05:41.823Z"
   },
   {
    "duration": 420,
    "start_time": "2024-07-18T18:05:41.918Z"
   },
   {
    "duration": 183,
    "start_time": "2024-07-18T18:05:42.339Z"
   },
   {
    "duration": 315,
    "start_time": "2024-07-18T18:05:42.523Z"
   },
   {
    "duration": 69,
    "start_time": "2024-07-18T18:05:42.840Z"
   },
   {
    "duration": 0,
    "start_time": "2024-07-18T18:05:42.910Z"
   },
   {
    "duration": 0,
    "start_time": "2024-07-18T18:05:42.911Z"
   },
   {
    "duration": 8,
    "start_time": "2024-07-18T18:06:22.096Z"
   },
   {
    "duration": 4,
    "start_time": "2024-07-18T18:06:34.358Z"
   },
   {
    "duration": 206,
    "start_time": "2024-07-18T18:06:58.344Z"
   },
   {
    "duration": 281,
    "start_time": "2024-07-18T18:07:04.503Z"
   },
   {
    "duration": 9,
    "start_time": "2024-07-18T18:31:36.022Z"
   },
   {
    "duration": 85,
    "start_time": "2024-07-18T18:32:42.907Z"
   },
   {
    "duration": 107,
    "start_time": "2024-07-18T18:33:15.713Z"
   },
   {
    "duration": 106,
    "start_time": "2024-07-18T18:35:46.056Z"
   },
   {
    "duration": 4,
    "start_time": "2024-07-18T18:38:09.596Z"
   },
   {
    "duration": 4,
    "start_time": "2024-07-18T18:38:35.650Z"
   },
   {
    "duration": 833,
    "start_time": "2024-07-19T16:47:32.616Z"
   },
   {
    "duration": 80,
    "start_time": "2024-07-19T16:47:33.451Z"
   },
   {
    "duration": 3,
    "start_time": "2024-07-19T16:47:33.533Z"
   },
   {
    "duration": 12,
    "start_time": "2024-07-19T16:47:33.538Z"
   },
   {
    "duration": 13,
    "start_time": "2024-07-19T16:47:33.552Z"
   },
   {
    "duration": 10,
    "start_time": "2024-07-19T16:47:33.567Z"
   },
   {
    "duration": 104,
    "start_time": "2024-07-19T16:47:33.579Z"
   },
   {
    "duration": 73,
    "start_time": "2024-07-19T16:47:33.684Z"
   },
   {
    "duration": 5,
    "start_time": "2024-07-19T16:47:33.759Z"
   },
   {
    "duration": 165,
    "start_time": "2024-07-19T16:47:33.765Z"
   },
   {
    "duration": 121,
    "start_time": "2024-07-19T16:47:33.932Z"
   },
   {
    "duration": 6,
    "start_time": "2024-07-19T16:47:34.054Z"
   },
   {
    "duration": 16,
    "start_time": "2024-07-19T16:47:34.062Z"
   },
   {
    "duration": 329,
    "start_time": "2024-07-19T16:47:34.080Z"
   },
   {
    "duration": 226,
    "start_time": "2024-07-19T16:47:34.411Z"
   },
   {
    "duration": 338,
    "start_time": "2024-07-19T16:47:34.639Z"
   },
   {
    "duration": 5,
    "start_time": "2024-07-19T16:47:34.979Z"
   },
   {
    "duration": 269,
    "start_time": "2024-07-19T16:47:34.986Z"
   },
   {
    "duration": 289,
    "start_time": "2024-07-19T16:47:35.257Z"
   },
   {
    "duration": 12,
    "start_time": "2024-07-19T16:47:35.548Z"
   },
   {
    "duration": 153,
    "start_time": "2024-07-19T16:47:35.562Z"
   },
   {
    "duration": 5,
    "start_time": "2024-07-19T16:47:35.717Z"
   },
   {
    "duration": 1060,
    "start_time": "2024-07-19T17:02:18.157Z"
   },
   {
    "duration": 148,
    "start_time": "2024-07-19T17:03:07.670Z"
   },
   {
    "duration": 132,
    "start_time": "2024-07-19T17:03:19.146Z"
   },
   {
    "duration": 113,
    "start_time": "2024-07-19T17:04:20.884Z"
   },
   {
    "duration": 128,
    "start_time": "2024-07-19T17:04:28.461Z"
   },
   {
    "duration": 8,
    "start_time": "2024-07-19T17:09:10.446Z"
   },
   {
    "duration": 8,
    "start_time": "2024-07-19T17:09:20.842Z"
   },
   {
    "duration": 73,
    "start_time": "2024-07-19T17:30:26.951Z"
   },
   {
    "duration": 79,
    "start_time": "2024-07-19T17:30:28.230Z"
   },
   {
    "duration": 58,
    "start_time": "2024-07-19T17:54:04.597Z"
   },
   {
    "duration": 48,
    "start_time": "2024-07-19T17:54:31.030Z"
   },
   {
    "duration": 74,
    "start_time": "2024-07-19T17:57:05.995Z"
   },
   {
    "duration": 62,
    "start_time": "2024-07-19T17:58:05.903Z"
   },
   {
    "duration": 37,
    "start_time": "2024-07-19T17:59:00.282Z"
   },
   {
    "duration": 62,
    "start_time": "2024-07-19T18:04:40.325Z"
   },
   {
    "duration": 903,
    "start_time": "2024-07-19T18:04:41.604Z"
   },
   {
    "duration": 5,
    "start_time": "2024-07-19T18:05:02.026Z"
   },
   {
    "duration": 5,
    "start_time": "2024-07-19T18:05:30.888Z"
   },
   {
    "duration": 1043,
    "start_time": "2024-07-19T18:05:31.223Z"
   },
   {
    "duration": 5,
    "start_time": "2024-07-19T18:05:38.446Z"
   },
   {
    "duration": 703,
    "start_time": "2024-07-19T18:05:50.238Z"
   },
   {
    "duration": 28,
    "start_time": "2024-07-19T18:05:50.943Z"
   },
   {
    "duration": 4,
    "start_time": "2024-07-19T18:05:50.972Z"
   },
   {
    "duration": 21,
    "start_time": "2024-07-19T18:05:50.978Z"
   },
   {
    "duration": 16,
    "start_time": "2024-07-19T18:05:51.003Z"
   },
   {
    "duration": 17,
    "start_time": "2024-07-19T18:05:51.022Z"
   },
   {
    "duration": 53,
    "start_time": "2024-07-19T18:05:51.041Z"
   },
   {
    "duration": 30,
    "start_time": "2024-07-19T18:05:51.097Z"
   },
   {
    "duration": 7,
    "start_time": "2024-07-19T18:05:51.130Z"
   },
   {
    "duration": 175,
    "start_time": "2024-07-19T18:05:51.139Z"
   },
   {
    "duration": 165,
    "start_time": "2024-07-19T18:05:51.315Z"
   },
   {
    "duration": 47,
    "start_time": "2024-07-19T18:05:51.486Z"
   },
   {
    "duration": 12,
    "start_time": "2024-07-19T18:05:51.534Z"
   },
   {
    "duration": 336,
    "start_time": "2024-07-19T18:05:51.549Z"
   },
   {
    "duration": 229,
    "start_time": "2024-07-19T18:05:51.887Z"
   },
   {
    "duration": 331,
    "start_time": "2024-07-19T18:05:52.119Z"
   },
   {
    "duration": 5,
    "start_time": "2024-07-19T18:05:52.452Z"
   },
   {
    "duration": 272,
    "start_time": "2024-07-19T18:05:52.458Z"
   },
   {
    "duration": 324,
    "start_time": "2024-07-19T18:05:52.732Z"
   },
   {
    "duration": 12,
    "start_time": "2024-07-19T18:05:53.058Z"
   },
   {
    "duration": 148,
    "start_time": "2024-07-19T18:05:53.072Z"
   },
   {
    "duration": 4,
    "start_time": "2024-07-19T18:05:53.222Z"
   },
   {
    "duration": 150,
    "start_time": "2024-07-19T18:05:53.228Z"
   },
   {
    "duration": 7,
    "start_time": "2024-07-19T18:05:53.380Z"
   },
   {
    "duration": 180,
    "start_time": "2024-07-19T18:05:53.388Z"
   },
   {
    "duration": 48,
    "start_time": "2024-07-19T18:05:53.570Z"
   },
   {
    "duration": 60,
    "start_time": "2024-07-19T18:05:53.620Z"
   },
   {
    "duration": 74,
    "start_time": "2024-07-19T18:05:53.682Z"
   },
   {
    "duration": 26,
    "start_time": "2024-07-19T18:05:53.757Z"
   },
   {
    "duration": 95,
    "start_time": "2024-07-19T18:05:53.784Z"
   },
   {
    "duration": 97,
    "start_time": "2024-07-19T18:05:53.881Z"
   },
   {
    "duration": 61,
    "start_time": "2024-07-19T18:05:53.979Z"
   },
   {
    "duration": 6,
    "start_time": "2024-07-19T18:05:54.042Z"
   },
   {
    "duration": 11,
    "start_time": "2024-07-19T18:05:54.050Z"
   },
   {
    "duration": 78,
    "start_time": "2024-07-19T18:24:20.648Z"
   },
   {
    "duration": 451,
    "start_time": "2024-07-19T18:24:57.709Z"
   },
   {
    "duration": 32,
    "start_time": "2024-07-19T18:25:05.937Z"
   },
   {
    "duration": 15,
    "start_time": "2024-07-19T18:38:36.657Z"
   },
   {
    "duration": 1161,
    "start_time": "2024-07-20T08:15:59.492Z"
   },
   {
    "duration": 84,
    "start_time": "2024-07-20T08:16:00.655Z"
   },
   {
    "duration": 3,
    "start_time": "2024-07-20T08:16:00.741Z"
   },
   {
    "duration": 43,
    "start_time": "2024-07-20T08:16:00.746Z"
   },
   {
    "duration": 33,
    "start_time": "2024-07-20T08:16:00.790Z"
   },
   {
    "duration": 30,
    "start_time": "2024-07-20T08:16:00.824Z"
   },
   {
    "duration": 137,
    "start_time": "2024-07-20T08:16:00.855Z"
   },
   {
    "duration": 77,
    "start_time": "2024-07-20T08:16:00.993Z"
   },
   {
    "duration": 5,
    "start_time": "2024-07-20T08:16:01.071Z"
   },
   {
    "duration": 218,
    "start_time": "2024-07-20T08:16:01.078Z"
   },
   {
    "duration": 103,
    "start_time": "2024-07-20T08:16:01.298Z"
   },
   {
    "duration": 30,
    "start_time": "2024-07-20T08:16:01.411Z"
   },
   {
    "duration": 17,
    "start_time": "2024-07-20T08:16:01.442Z"
   },
   {
    "duration": 282,
    "start_time": "2024-07-20T08:16:01.461Z"
   },
   {
    "duration": 218,
    "start_time": "2024-07-20T08:16:01.744Z"
   },
   {
    "duration": 359,
    "start_time": "2024-07-20T08:16:01.964Z"
   },
   {
    "duration": 5,
    "start_time": "2024-07-20T08:16:02.325Z"
   },
   {
    "duration": 186,
    "start_time": "2024-07-20T08:16:02.331Z"
   },
   {
    "duration": 277,
    "start_time": "2024-07-20T08:16:02.519Z"
   },
   {
    "duration": 16,
    "start_time": "2024-07-20T08:16:02.798Z"
   },
   {
    "duration": 126,
    "start_time": "2024-07-20T08:16:02.815Z"
   },
   {
    "duration": 4,
    "start_time": "2024-07-20T08:16:02.942Z"
   },
   {
    "duration": 171,
    "start_time": "2024-07-20T08:16:02.947Z"
   },
   {
    "duration": 6,
    "start_time": "2024-07-20T08:16:03.120Z"
   },
   {
    "duration": 42,
    "start_time": "2024-07-20T08:16:03.127Z"
   },
   {
    "duration": 55,
    "start_time": "2024-07-20T08:16:03.170Z"
   },
   {
    "duration": 54,
    "start_time": "2024-07-20T08:16:03.226Z"
   },
   {
    "duration": 59,
    "start_time": "2024-07-20T08:16:03.283Z"
   },
   {
    "duration": 21,
    "start_time": "2024-07-20T08:16:03.344Z"
   },
   {
    "duration": 74,
    "start_time": "2024-07-20T08:16:03.366Z"
   },
   {
    "duration": 79,
    "start_time": "2024-07-20T08:16:03.441Z"
   },
   {
    "duration": 38,
    "start_time": "2024-07-20T08:16:03.522Z"
   },
   {
    "duration": 10,
    "start_time": "2024-07-20T08:16:03.561Z"
   },
   {
    "duration": 5,
    "start_time": "2024-07-20T08:16:03.572Z"
   },
   {
    "duration": 47,
    "start_time": "2024-07-20T08:16:03.578Z"
   },
   {
    "duration": 8,
    "start_time": "2024-07-20T08:16:03.626Z"
   },
   {
    "duration": 966,
    "start_time": "2024-07-20T08:26:08.990Z"
   },
   {
    "duration": 887,
    "start_time": "2024-07-20T08:26:49.516Z"
   },
   {
    "duration": 956,
    "start_time": "2024-07-20T08:27:44.485Z"
   },
   {
    "duration": 65,
    "start_time": "2024-07-20T08:27:52.949Z"
   },
   {
    "duration": 86,
    "start_time": "2024-07-20T08:27:53.501Z"
   },
   {
    "duration": 1145,
    "start_time": "2024-07-20T08:27:58.622Z"
   },
   {
    "duration": 74,
    "start_time": "2024-07-20T08:29:41.307Z"
   },
   {
    "duration": 73,
    "start_time": "2024-07-20T08:29:48.018Z"
   },
   {
    "duration": 886,
    "start_time": "2024-07-20T08:30:43.588Z"
   },
   {
    "duration": 74,
    "start_time": "2024-07-20T08:33:43.615Z"
   },
   {
    "duration": 79,
    "start_time": "2024-07-20T08:33:48.922Z"
   },
   {
    "duration": 964,
    "start_time": "2024-07-20T08:35:07.365Z"
   },
   {
    "duration": 27,
    "start_time": "2024-07-20T08:35:08.331Z"
   },
   {
    "duration": 3,
    "start_time": "2024-07-20T08:35:08.359Z"
   },
   {
    "duration": 14,
    "start_time": "2024-07-20T08:35:08.364Z"
   },
   {
    "duration": 10,
    "start_time": "2024-07-20T08:35:08.380Z"
   },
   {
    "duration": 10,
    "start_time": "2024-07-20T08:35:08.391Z"
   },
   {
    "duration": 121,
    "start_time": "2024-07-20T08:35:08.402Z"
   },
   {
    "duration": 21,
    "start_time": "2024-07-20T08:35:08.525Z"
   },
   {
    "duration": 5,
    "start_time": "2024-07-20T08:35:08.547Z"
   },
   {
    "duration": 155,
    "start_time": "2024-07-20T08:35:08.553Z"
   },
   {
    "duration": 108,
    "start_time": "2024-07-20T08:35:08.710Z"
   },
   {
    "duration": 5,
    "start_time": "2024-07-20T08:35:08.820Z"
   },
   {
    "duration": 8,
    "start_time": "2024-07-20T08:35:08.827Z"
   },
   {
    "duration": 322,
    "start_time": "2024-07-20T08:35:08.837Z"
   },
   {
    "duration": 208,
    "start_time": "2024-07-20T08:35:09.160Z"
   },
   {
    "duration": 301,
    "start_time": "2024-07-20T08:35:09.369Z"
   },
   {
    "duration": 5,
    "start_time": "2024-07-20T08:35:09.671Z"
   },
   {
    "duration": 185,
    "start_time": "2024-07-20T08:35:09.677Z"
   },
   {
    "duration": 265,
    "start_time": "2024-07-20T08:35:09.864Z"
   },
   {
    "duration": 10,
    "start_time": "2024-07-20T08:35:10.130Z"
   },
   {
    "duration": 133,
    "start_time": "2024-07-20T08:35:10.142Z"
   },
   {
    "duration": 4,
    "start_time": "2024-07-20T08:35:10.277Z"
   },
   {
    "duration": 127,
    "start_time": "2024-07-20T08:35:10.282Z"
   },
   {
    "duration": 6,
    "start_time": "2024-07-20T08:35:10.411Z"
   },
   {
    "duration": 103,
    "start_time": "2024-07-20T08:35:10.418Z"
   },
   {
    "duration": 39,
    "start_time": "2024-07-20T08:35:10.523Z"
   },
   {
    "duration": 58,
    "start_time": "2024-07-20T08:35:10.563Z"
   },
   {
    "duration": 50,
    "start_time": "2024-07-20T08:35:10.622Z"
   },
   {
    "duration": 23,
    "start_time": "2024-07-20T08:35:10.674Z"
   },
   {
    "duration": 75,
    "start_time": "2024-07-20T08:35:10.698Z"
   },
   {
    "duration": 103,
    "start_time": "2024-07-20T08:35:10.775Z"
   },
   {
    "duration": 53,
    "start_time": "2024-07-20T08:35:10.880Z"
   },
   {
    "duration": 5,
    "start_time": "2024-07-20T08:35:10.935Z"
   },
   {
    "duration": 5,
    "start_time": "2024-07-20T08:35:10.941Z"
   },
   {
    "duration": 20,
    "start_time": "2024-07-20T08:35:10.947Z"
   },
   {
    "duration": 8,
    "start_time": "2024-07-20T08:35:10.969Z"
   },
   {
    "duration": 990,
    "start_time": "2024-07-20T08:35:10.978Z"
   },
   {
    "duration": 68,
    "start_time": "2024-07-20T08:37:43.316Z"
   },
   {
    "duration": 1003,
    "start_time": "2024-07-20T08:40:22.362Z"
   },
   {
    "duration": 9,
    "start_time": "2024-07-20T08:44:07.522Z"
   },
   {
    "duration": 412,
    "start_time": "2024-07-20T08:47:58.258Z"
   },
   {
    "duration": 305,
    "start_time": "2024-07-20T08:49:07.541Z"
   },
   {
    "duration": 321,
    "start_time": "2024-07-20T08:50:28.686Z"
   },
   {
    "duration": 282,
    "start_time": "2024-07-20T08:50:35.966Z"
   },
   {
    "duration": 353,
    "start_time": "2024-07-20T08:50:40.503Z"
   },
   {
    "duration": 1100,
    "start_time": "2024-07-20T08:52:51.700Z"
   },
   {
    "duration": 12,
    "start_time": "2024-07-20T08:53:13.830Z"
   },
   {
    "duration": 43,
    "start_time": "2024-07-20T08:53:59.132Z"
   },
   {
    "duration": 901,
    "start_time": "2024-07-20T08:56:29.391Z"
   },
   {
    "duration": 25,
    "start_time": "2024-07-20T08:57:42.526Z"
   },
   {
    "duration": 5,
    "start_time": "2024-07-20T09:32:25.976Z"
   },
   {
    "duration": 77,
    "start_time": "2024-07-20T09:33:48.325Z"
   },
   {
    "duration": 9,
    "start_time": "2024-07-20T09:35:33.311Z"
   },
   {
    "duration": 9,
    "start_time": "2024-07-20T09:40:48.684Z"
   },
   {
    "duration": 9,
    "start_time": "2024-07-20T09:42:39.991Z"
   },
   {
    "duration": 8,
    "start_time": "2024-07-20T09:42:58.712Z"
   },
   {
    "duration": 4,
    "start_time": "2024-07-20T09:44:47.566Z"
   },
   {
    "duration": 9,
    "start_time": "2024-07-20T09:46:05.721Z"
   },
   {
    "duration": 9,
    "start_time": "2024-07-20T09:46:45.953Z"
   },
   {
    "duration": 10,
    "start_time": "2024-07-20T09:48:22.358Z"
   },
   {
    "duration": 69,
    "start_time": "2024-07-20T09:49:21.638Z"
   },
   {
    "duration": 955,
    "start_time": "2024-07-20T09:49:57.566Z"
   },
   {
    "duration": 27,
    "start_time": "2024-07-20T09:49:58.523Z"
   },
   {
    "duration": 3,
    "start_time": "2024-07-20T09:49:58.551Z"
   },
   {
    "duration": 18,
    "start_time": "2024-07-20T09:49:58.556Z"
   },
   {
    "duration": 10,
    "start_time": "2024-07-20T09:49:58.576Z"
   },
   {
    "duration": 10,
    "start_time": "2024-07-20T09:49:58.587Z"
   },
   {
    "duration": 51,
    "start_time": "2024-07-20T09:49:58.599Z"
   },
   {
    "duration": 9,
    "start_time": "2024-07-20T09:49:58.652Z"
   },
   {
    "duration": 11,
    "start_time": "2024-07-20T09:49:58.663Z"
   },
   {
    "duration": 5,
    "start_time": "2024-07-20T09:49:58.676Z"
   },
   {
    "duration": 9,
    "start_time": "2024-07-20T09:49:58.682Z"
   },
   {
    "duration": 21,
    "start_time": "2024-07-20T09:49:58.692Z"
   },
   {
    "duration": 9,
    "start_time": "2024-07-20T09:49:58.714Z"
   },
   {
    "duration": 99,
    "start_time": "2024-07-20T09:49:58.724Z"
   },
   {
    "duration": 0,
    "start_time": "2024-07-20T09:49:58.825Z"
   },
   {
    "duration": 0,
    "start_time": "2024-07-20T09:49:58.826Z"
   },
   {
    "duration": 0,
    "start_time": "2024-07-20T09:49:58.827Z"
   },
   {
    "duration": 0,
    "start_time": "2024-07-20T09:49:58.827Z"
   },
   {
    "duration": 0,
    "start_time": "2024-07-20T09:49:58.828Z"
   },
   {
    "duration": 0,
    "start_time": "2024-07-20T09:49:58.829Z"
   },
   {
    "duration": 0,
    "start_time": "2024-07-20T09:49:58.830Z"
   },
   {
    "duration": 0,
    "start_time": "2024-07-20T09:49:58.831Z"
   },
   {
    "duration": 0,
    "start_time": "2024-07-20T09:49:58.832Z"
   },
   {
    "duration": 0,
    "start_time": "2024-07-20T09:49:58.833Z"
   },
   {
    "duration": 0,
    "start_time": "2024-07-20T09:49:58.833Z"
   },
   {
    "duration": 0,
    "start_time": "2024-07-20T09:49:58.835Z"
   },
   {
    "duration": 0,
    "start_time": "2024-07-20T09:49:58.836Z"
   },
   {
    "duration": 0,
    "start_time": "2024-07-20T09:49:58.837Z"
   },
   {
    "duration": 0,
    "start_time": "2024-07-20T09:49:58.838Z"
   },
   {
    "duration": 0,
    "start_time": "2024-07-20T09:49:58.839Z"
   },
   {
    "duration": 0,
    "start_time": "2024-07-20T09:49:58.839Z"
   },
   {
    "duration": 0,
    "start_time": "2024-07-20T09:49:58.840Z"
   },
   {
    "duration": 0,
    "start_time": "2024-07-20T09:49:58.841Z"
   },
   {
    "duration": 0,
    "start_time": "2024-07-20T09:49:58.842Z"
   },
   {
    "duration": 0,
    "start_time": "2024-07-20T09:49:58.843Z"
   },
   {
    "duration": 1,
    "start_time": "2024-07-20T09:49:58.843Z"
   },
   {
    "duration": 0,
    "start_time": "2024-07-20T09:49:58.845Z"
   },
   {
    "duration": 0,
    "start_time": "2024-07-20T09:49:58.846Z"
   },
   {
    "duration": 0,
    "start_time": "2024-07-20T09:49:58.847Z"
   },
   {
    "duration": 0,
    "start_time": "2024-07-20T09:49:58.848Z"
   },
   {
    "duration": 0,
    "start_time": "2024-07-20T09:49:58.849Z"
   },
   {
    "duration": 0,
    "start_time": "2024-07-20T09:49:58.850Z"
   },
   {
    "duration": 0,
    "start_time": "2024-07-20T09:49:58.851Z"
   },
   {
    "duration": 0,
    "start_time": "2024-07-20T09:49:58.852Z"
   },
   {
    "duration": 0,
    "start_time": "2024-07-20T09:49:58.853Z"
   },
   {
    "duration": 6,
    "start_time": "2024-07-20T09:52:08.120Z"
   },
   {
    "duration": 4,
    "start_time": "2024-07-20T09:55:17.717Z"
   },
   {
    "duration": 10,
    "start_time": "2024-07-20T09:55:20.260Z"
   },
   {
    "duration": 5,
    "start_time": "2024-07-20T09:55:40.462Z"
   },
   {
    "duration": 4,
    "start_time": "2024-07-20T10:36:53.337Z"
   },
   {
    "duration": 9,
    "start_time": "2024-07-20T10:36:55.153Z"
   },
   {
    "duration": 6,
    "start_time": "2024-07-20T10:36:55.694Z"
   },
   {
    "duration": 9,
    "start_time": "2024-07-20T10:37:36.379Z"
   },
   {
    "duration": 5,
    "start_time": "2024-07-20T10:37:37.116Z"
   },
   {
    "duration": 10,
    "start_time": "2024-07-20T10:37:37.515Z"
   },
   {
    "duration": 6,
    "start_time": "2024-07-20T10:37:37.907Z"
   },
   {
    "duration": 4,
    "start_time": "2024-07-20T10:38:30.784Z"
   },
   {
    "duration": 9,
    "start_time": "2024-07-20T10:38:31.446Z"
   },
   {
    "duration": 6,
    "start_time": "2024-07-20T10:38:31.878Z"
   },
   {
    "duration": 6,
    "start_time": "2024-07-20T10:38:48.549Z"
   },
   {
    "duration": 62,
    "start_time": "2024-07-20T10:38:57.094Z"
   },
   {
    "duration": 9,
    "start_time": "2024-07-20T10:39:01.647Z"
   },
   {
    "duration": 9,
    "start_time": "2024-07-20T10:39:02.096Z"
   },
   {
    "duration": 5,
    "start_time": "2024-07-20T10:39:04.462Z"
   },
   {
    "duration": 10,
    "start_time": "2024-07-20T10:39:04.870Z"
   },
   {
    "duration": 7,
    "start_time": "2024-07-20T10:39:05.252Z"
   },
   {
    "duration": 4,
    "start_time": "2024-07-20T10:39:36.063Z"
   },
   {
    "duration": 10,
    "start_time": "2024-07-20T10:39:36.567Z"
   },
   {
    "duration": 4,
    "start_time": "2024-07-20T10:40:25.828Z"
   },
   {
    "duration": 9,
    "start_time": "2024-07-20T10:40:27.393Z"
   },
   {
    "duration": 8,
    "start_time": "2024-07-20T10:40:28.321Z"
   },
   {
    "duration": 975,
    "start_time": "2024-07-20T10:41:26.753Z"
   },
   {
    "duration": 29,
    "start_time": "2024-07-20T10:41:27.729Z"
   },
   {
    "duration": 3,
    "start_time": "2024-07-20T10:41:27.760Z"
   },
   {
    "duration": 29,
    "start_time": "2024-07-20T10:41:27.765Z"
   },
   {
    "duration": 13,
    "start_time": "2024-07-20T10:41:27.796Z"
   },
   {
    "duration": 9,
    "start_time": "2024-07-20T10:41:27.811Z"
   },
   {
    "duration": 56,
    "start_time": "2024-07-20T10:41:27.821Z"
   },
   {
    "duration": 10,
    "start_time": "2024-07-20T10:41:27.878Z"
   },
   {
    "duration": 12,
    "start_time": "2024-07-20T10:41:27.889Z"
   },
   {
    "duration": 19,
    "start_time": "2024-07-20T10:41:27.903Z"
   },
   {
    "duration": 17,
    "start_time": "2024-07-20T10:41:27.923Z"
   },
   {
    "duration": 21,
    "start_time": "2024-07-20T10:41:27.942Z"
   },
   {
    "duration": 8,
    "start_time": "2024-07-20T10:41:27.965Z"
   },
   {
    "duration": 8,
    "start_time": "2024-07-20T10:41:27.974Z"
   },
   {
    "duration": 141,
    "start_time": "2024-07-20T10:41:27.984Z"
   },
   {
    "duration": 107,
    "start_time": "2024-07-20T10:41:28.127Z"
   },
   {
    "duration": 5,
    "start_time": "2024-07-20T10:41:28.235Z"
   },
   {
    "duration": 26,
    "start_time": "2024-07-20T10:41:28.242Z"
   },
   {
    "duration": 272,
    "start_time": "2024-07-20T10:41:28.269Z"
   },
   {
    "duration": 196,
    "start_time": "2024-07-20T10:41:28.542Z"
   },
   {
    "duration": 267,
    "start_time": "2024-07-20T10:41:28.740Z"
   },
   {
    "duration": 4,
    "start_time": "2024-07-20T10:41:29.012Z"
   },
   {
    "duration": 198,
    "start_time": "2024-07-20T10:41:29.017Z"
   },
   {
    "duration": 325,
    "start_time": "2024-07-20T10:41:29.216Z"
   },
   {
    "duration": 10,
    "start_time": "2024-07-20T10:41:29.542Z"
   },
   {
    "duration": 126,
    "start_time": "2024-07-20T10:41:29.554Z"
   },
   {
    "duration": 4,
    "start_time": "2024-07-20T10:41:29.681Z"
   },
   {
    "duration": 137,
    "start_time": "2024-07-20T10:41:29.688Z"
   },
   {
    "duration": 6,
    "start_time": "2024-07-20T10:41:29.826Z"
   },
   {
    "duration": 39,
    "start_time": "2024-07-20T10:41:29.833Z"
   },
   {
    "duration": 62,
    "start_time": "2024-07-20T10:41:29.874Z"
   },
   {
    "duration": 51,
    "start_time": "2024-07-20T10:41:29.938Z"
   },
   {
    "duration": 58,
    "start_time": "2024-07-20T10:41:29.991Z"
   },
   {
    "duration": 21,
    "start_time": "2024-07-20T10:41:30.050Z"
   },
   {
    "duration": 119,
    "start_time": "2024-07-20T10:41:30.072Z"
   },
   {
    "duration": 71,
    "start_time": "2024-07-20T10:41:30.192Z"
   },
   {
    "duration": 38,
    "start_time": "2024-07-20T10:41:30.265Z"
   },
   {
    "duration": 111,
    "start_time": "2024-07-20T10:41:30.311Z"
   },
   {
    "duration": 52,
    "start_time": "2024-07-20T10:41:30.424Z"
   },
   {
    "duration": 63,
    "start_time": "2024-07-20T10:41:30.478Z"
   },
   {
    "duration": 22,
    "start_time": "2024-07-20T10:41:30.543Z"
   },
   {
    "duration": 28,
    "start_time": "2024-07-20T10:41:30.566Z"
   },
   {
    "duration": 60,
    "start_time": "2024-07-20T10:41:30.595Z"
   },
   {
    "duration": 52,
    "start_time": "2024-07-20T10:41:30.656Z"
   },
   {
    "duration": 74,
    "start_time": "2024-07-20T10:41:30.709Z"
   },
   {
    "duration": 978,
    "start_time": "2024-07-20T10:49:53.359Z"
   },
   {
    "duration": 28,
    "start_time": "2024-07-20T10:49:54.338Z"
   },
   {
    "duration": 3,
    "start_time": "2024-07-20T10:49:54.367Z"
   },
   {
    "duration": 22,
    "start_time": "2024-07-20T10:49:54.372Z"
   },
   {
    "duration": 18,
    "start_time": "2024-07-20T10:49:54.395Z"
   },
   {
    "duration": 12,
    "start_time": "2024-07-20T10:49:54.414Z"
   },
   {
    "duration": 79,
    "start_time": "2024-07-20T10:49:54.427Z"
   },
   {
    "duration": 9,
    "start_time": "2024-07-20T10:49:54.507Z"
   },
   {
    "duration": 32,
    "start_time": "2024-07-20T10:49:54.517Z"
   },
   {
    "duration": 27,
    "start_time": "2024-07-20T10:49:54.551Z"
   },
   {
    "duration": 16,
    "start_time": "2024-07-20T10:49:54.580Z"
   },
   {
    "duration": 14,
    "start_time": "2024-07-20T10:49:54.597Z"
   },
   {
    "duration": 161,
    "start_time": "2024-07-20T10:49:54.612Z"
   },
   {
    "duration": 108,
    "start_time": "2024-07-20T10:49:54.774Z"
   },
   {
    "duration": 6,
    "start_time": "2024-07-20T10:49:54.883Z"
   },
   {
    "duration": 42,
    "start_time": "2024-07-20T10:49:54.891Z"
   },
   {
    "duration": 304,
    "start_time": "2024-07-20T10:49:54.935Z"
   },
   {
    "duration": 188,
    "start_time": "2024-07-20T10:49:55.240Z"
   },
   {
    "duration": 274,
    "start_time": "2024-07-20T10:49:55.429Z"
   },
   {
    "duration": 11,
    "start_time": "2024-07-20T10:49:55.705Z"
   },
   {
    "duration": 202,
    "start_time": "2024-07-20T10:49:55.717Z"
   },
   {
    "duration": 321,
    "start_time": "2024-07-20T10:49:55.920Z"
   },
   {
    "duration": 9,
    "start_time": "2024-07-20T10:49:56.242Z"
   },
   {
    "duration": 126,
    "start_time": "2024-07-20T10:49:56.253Z"
   },
   {
    "duration": 3,
    "start_time": "2024-07-20T10:49:56.381Z"
   },
   {
    "duration": 126,
    "start_time": "2024-07-20T10:49:56.385Z"
   },
   {
    "duration": 6,
    "start_time": "2024-07-20T10:49:56.512Z"
   },
   {
    "duration": 39,
    "start_time": "2024-07-20T10:49:56.521Z"
   },
   {
    "duration": 55,
    "start_time": "2024-07-20T10:49:56.561Z"
   },
   {
    "duration": 51,
    "start_time": "2024-07-20T10:49:56.617Z"
   },
   {
    "duration": 62,
    "start_time": "2024-07-20T10:49:56.670Z"
   },
   {
    "duration": 20,
    "start_time": "2024-07-20T10:49:56.733Z"
   },
   {
    "duration": 103,
    "start_time": "2024-07-20T10:49:56.755Z"
   },
   {
    "duration": 79,
    "start_time": "2024-07-20T10:49:56.860Z"
   },
   {
    "duration": 39,
    "start_time": "2024-07-20T10:49:56.941Z"
   },
   {
    "duration": 4,
    "start_time": "2024-07-20T10:49:56.982Z"
   },
   {
    "duration": 4,
    "start_time": "2024-07-20T10:49:56.987Z"
   },
   {
    "duration": 23,
    "start_time": "2024-07-20T10:49:57.012Z"
   },
   {
    "duration": 13,
    "start_time": "2024-07-20T10:49:57.037Z"
   },
   {
    "duration": 10,
    "start_time": "2024-07-20T10:49:57.052Z"
   },
   {
    "duration": 7,
    "start_time": "2024-07-20T10:49:57.063Z"
   },
   {
    "duration": 51,
    "start_time": "2024-07-20T10:49:57.071Z"
   },
   {
    "duration": 12,
    "start_time": "2024-07-20T10:49:57.124Z"
   },
   {
    "duration": 59,
    "start_time": "2024-07-20T16:48:45.910Z"
   },
   {
    "duration": 40,
    "start_time": "2024-07-20T16:50:47.036Z"
   },
   {
    "duration": 6,
    "start_time": "2024-07-20T16:50:55.222Z"
   },
   {
    "duration": 1203,
    "start_time": "2024-07-20T16:51:06.691Z"
   },
   {
    "duration": 74,
    "start_time": "2024-07-20T16:51:07.896Z"
   },
   {
    "duration": 4,
    "start_time": "2024-07-20T16:51:07.971Z"
   },
   {
    "duration": 30,
    "start_time": "2024-07-20T16:51:07.977Z"
   },
   {
    "duration": 25,
    "start_time": "2024-07-20T16:51:08.009Z"
   },
   {
    "duration": 33,
    "start_time": "2024-07-20T16:51:08.036Z"
   },
   {
    "duration": 147,
    "start_time": "2024-07-20T16:51:08.070Z"
   },
   {
    "duration": 11,
    "start_time": "2024-07-20T16:51:08.219Z"
   },
   {
    "duration": 12,
    "start_time": "2024-07-20T16:51:08.232Z"
   },
   {
    "duration": 76,
    "start_time": "2024-07-20T16:51:08.246Z"
   },
   {
    "duration": 9,
    "start_time": "2024-07-20T16:51:08.324Z"
   },
   {
    "duration": 22,
    "start_time": "2024-07-20T16:51:08.335Z"
   },
   {
    "duration": 160,
    "start_time": "2024-07-20T16:51:08.358Z"
   },
   {
    "duration": 127,
    "start_time": "2024-07-20T16:51:08.522Z"
   },
   {
    "duration": 61,
    "start_time": "2024-07-20T16:51:08.650Z"
   },
   {
    "duration": 23,
    "start_time": "2024-07-20T16:51:08.712Z"
   },
   {
    "duration": 306,
    "start_time": "2024-07-20T16:51:08.737Z"
   },
   {
    "duration": 201,
    "start_time": "2024-07-20T16:51:09.045Z"
   },
   {
    "duration": 365,
    "start_time": "2024-07-20T16:51:09.248Z"
   },
   {
    "duration": 5,
    "start_time": "2024-07-20T16:51:09.615Z"
   },
   {
    "duration": 201,
    "start_time": "2024-07-20T16:51:09.622Z"
   },
   {
    "duration": 348,
    "start_time": "2024-07-20T16:51:09.825Z"
   },
   {
    "duration": 16,
    "start_time": "2024-07-20T16:51:10.175Z"
   },
   {
    "duration": 151,
    "start_time": "2024-07-20T16:51:10.193Z"
   },
   {
    "duration": 5,
    "start_time": "2024-07-20T16:51:10.345Z"
   },
   {
    "duration": 147,
    "start_time": "2024-07-20T16:51:10.351Z"
   },
   {
    "duration": 9,
    "start_time": "2024-07-20T16:51:10.500Z"
   },
   {
    "duration": 86,
    "start_time": "2024-07-20T16:51:10.511Z"
   },
   {
    "duration": 55,
    "start_time": "2024-07-20T16:51:10.598Z"
   },
   {
    "duration": 64,
    "start_time": "2024-07-20T16:51:10.654Z"
   },
   {
    "duration": 59,
    "start_time": "2024-07-20T16:51:10.720Z"
   },
   {
    "duration": 23,
    "start_time": "2024-07-20T16:51:10.781Z"
   },
   {
    "duration": 86,
    "start_time": "2024-07-20T16:51:10.806Z"
   },
   {
    "duration": 84,
    "start_time": "2024-07-20T16:51:10.894Z"
   },
   {
    "duration": 55,
    "start_time": "2024-07-20T16:51:10.979Z"
   },
   {
    "duration": 9,
    "start_time": "2024-07-20T16:51:11.036Z"
   },
   {
    "duration": 4,
    "start_time": "2024-07-20T16:51:11.047Z"
   },
   {
    "duration": 28,
    "start_time": "2024-07-20T16:51:11.052Z"
   },
   {
    "duration": 11,
    "start_time": "2024-07-20T16:51:11.081Z"
   },
   {
    "duration": 10,
    "start_time": "2024-07-20T16:51:11.093Z"
   },
   {
    "duration": 21,
    "start_time": "2024-07-20T16:51:11.107Z"
   },
   {
    "duration": 29,
    "start_time": "2024-07-20T16:51:11.129Z"
   },
   {
    "duration": 13,
    "start_time": "2024-07-20T16:51:11.160Z"
   },
   {
    "duration": 27,
    "start_time": "2024-07-20T16:52:04.837Z"
   },
   {
    "duration": 57,
    "start_time": "2024-07-20T16:52:06.107Z"
   },
   {
    "duration": 2,
    "start_time": "2024-07-20T16:52:06.764Z"
   },
   {
    "duration": 27,
    "start_time": "2024-07-20T16:52:24.316Z"
   },
   {
    "duration": 3,
    "start_time": "2024-07-20T16:52:25.105Z"
   },
   {
    "duration": 7,
    "start_time": "2024-07-20T16:52:25.917Z"
   },
   {
    "duration": 3,
    "start_time": "2024-07-20T16:52:52.407Z"
   },
   {
    "duration": 27,
    "start_time": "2024-07-20T16:52:52.765Z"
   },
   {
    "duration": 3,
    "start_time": "2024-07-20T16:52:53.429Z"
   },
   {
    "duration": 8,
    "start_time": "2024-07-20T16:52:53.742Z"
   },
   {
    "duration": 989,
    "start_time": "2024-07-20T16:53:04.097Z"
   },
   {
    "duration": 27,
    "start_time": "2024-07-20T16:53:05.088Z"
   },
   {
    "duration": 3,
    "start_time": "2024-07-20T16:53:05.116Z"
   },
   {
    "duration": 25,
    "start_time": "2024-07-20T16:53:05.121Z"
   },
   {
    "duration": 12,
    "start_time": "2024-07-20T16:53:05.148Z"
   },
   {
    "duration": 10,
    "start_time": "2024-07-20T16:53:05.162Z"
   },
   {
    "duration": 69,
    "start_time": "2024-07-20T16:53:05.173Z"
   },
   {
    "duration": 10,
    "start_time": "2024-07-20T16:53:05.244Z"
   },
   {
    "duration": 12,
    "start_time": "2024-07-20T16:53:05.255Z"
   },
   {
    "duration": 21,
    "start_time": "2024-07-20T16:53:05.270Z"
   },
   {
    "duration": 9,
    "start_time": "2024-07-20T16:53:05.292Z"
   },
   {
    "duration": 27,
    "start_time": "2024-07-20T16:53:05.302Z"
   },
   {
    "duration": 174,
    "start_time": "2024-07-20T16:53:05.330Z"
   },
   {
    "duration": 112,
    "start_time": "2024-07-20T16:53:05.505Z"
   },
   {
    "duration": 6,
    "start_time": "2024-07-20T16:53:05.619Z"
   },
   {
    "duration": 8,
    "start_time": "2024-07-20T16:53:05.638Z"
   },
   {
    "duration": 283,
    "start_time": "2024-07-20T16:53:05.647Z"
   },
   {
    "duration": 194,
    "start_time": "2024-07-20T16:53:05.932Z"
   },
   {
    "duration": 350,
    "start_time": "2024-07-20T16:53:06.128Z"
   },
   {
    "duration": 5,
    "start_time": "2024-07-20T16:53:06.480Z"
   },
   {
    "duration": 248,
    "start_time": "2024-07-20T16:53:06.486Z"
   },
   {
    "duration": 381,
    "start_time": "2024-07-20T16:53:06.735Z"
   },
   {
    "duration": 9,
    "start_time": "2024-07-20T16:53:07.138Z"
   },
   {
    "duration": 133,
    "start_time": "2024-07-20T16:53:07.148Z"
   },
   {
    "duration": 4,
    "start_time": "2024-07-20T16:53:07.283Z"
   },
   {
    "duration": 136,
    "start_time": "2024-07-20T16:53:07.289Z"
   },
   {
    "duration": 14,
    "start_time": "2024-07-20T16:53:07.427Z"
   },
   {
    "duration": 44,
    "start_time": "2024-07-20T16:53:07.444Z"
   },
   {
    "duration": 54,
    "start_time": "2024-07-20T16:53:07.489Z"
   },
   {
    "duration": 58,
    "start_time": "2024-07-20T16:53:07.545Z"
   },
   {
    "duration": 69,
    "start_time": "2024-07-20T16:53:07.604Z"
   },
   {
    "duration": 24,
    "start_time": "2024-07-20T16:53:07.674Z"
   },
   {
    "duration": 114,
    "start_time": "2024-07-20T16:53:07.699Z"
   },
   {
    "duration": 78,
    "start_time": "2024-07-20T16:53:07.814Z"
   },
   {
    "duration": 57,
    "start_time": "2024-07-20T16:53:07.893Z"
   },
   {
    "duration": 5,
    "start_time": "2024-07-20T16:53:07.951Z"
   },
   {
    "duration": 5,
    "start_time": "2024-07-20T16:53:07.958Z"
   },
   {
    "duration": 36,
    "start_time": "2024-07-20T16:53:07.964Z"
   },
   {
    "duration": 12,
    "start_time": "2024-07-20T16:53:08.002Z"
   },
   {
    "duration": 29,
    "start_time": "2024-07-20T16:53:08.015Z"
   },
   {
    "duration": 10,
    "start_time": "2024-07-20T16:53:08.046Z"
   },
   {
    "duration": 27,
    "start_time": "2024-07-20T16:53:08.058Z"
   },
   {
    "duration": 13,
    "start_time": "2024-07-20T16:53:08.086Z"
   },
   {
    "duration": 27,
    "start_time": "2024-07-20T16:55:45.014Z"
   },
   {
    "duration": 3,
    "start_time": "2024-07-20T16:55:46.684Z"
   },
   {
    "duration": 8,
    "start_time": "2024-07-20T16:55:47.115Z"
   },
   {
    "duration": 1024,
    "start_time": "2024-07-20T16:55:59.063Z"
   },
   {
    "duration": 28,
    "start_time": "2024-07-20T16:56:00.089Z"
   },
   {
    "duration": 17,
    "start_time": "2024-07-20T16:56:00.119Z"
   },
   {
    "duration": 63,
    "start_time": "2024-07-20T16:56:00.139Z"
   },
   {
    "duration": 114,
    "start_time": "2024-07-20T16:56:00.205Z"
   },
   {
    "duration": 25,
    "start_time": "2024-07-20T16:56:00.321Z"
   },
   {
    "duration": 71,
    "start_time": "2024-07-20T16:56:00.348Z"
   },
   {
    "duration": 10,
    "start_time": "2024-07-20T16:56:00.420Z"
   },
   {
    "duration": 27,
    "start_time": "2024-07-20T16:56:00.431Z"
   },
   {
    "duration": 51,
    "start_time": "2024-07-20T16:56:00.459Z"
   },
   {
    "duration": 57,
    "start_time": "2024-07-20T16:56:00.512Z"
   },
   {
    "duration": 33,
    "start_time": "2024-07-20T16:56:00.570Z"
   },
   {
    "duration": 177,
    "start_time": "2024-07-20T16:56:00.604Z"
   },
   {
    "duration": 109,
    "start_time": "2024-07-20T16:56:00.784Z"
   },
   {
    "duration": 6,
    "start_time": "2024-07-20T16:56:00.894Z"
   },
   {
    "duration": 120,
    "start_time": "2024-07-20T16:56:00.901Z"
   },
   {
    "duration": 304,
    "start_time": "2024-07-20T16:56:01.023Z"
   },
   {
    "duration": 204,
    "start_time": "2024-07-20T16:56:01.328Z"
   },
   {
    "duration": 326,
    "start_time": "2024-07-20T16:56:01.537Z"
   },
   {
    "duration": 5,
    "start_time": "2024-07-20T16:56:01.865Z"
   },
   {
    "duration": 214,
    "start_time": "2024-07-20T16:56:01.872Z"
   },
   {
    "duration": 319,
    "start_time": "2024-07-20T16:56:02.088Z"
   },
   {
    "duration": 10,
    "start_time": "2024-07-20T16:56:02.409Z"
   },
   {
    "duration": 405,
    "start_time": "2024-07-20T16:56:02.421Z"
   },
   {
    "duration": 23,
    "start_time": "2024-07-20T16:56:02.828Z"
   },
   {
    "duration": 143,
    "start_time": "2024-07-20T16:56:02.852Z"
   },
   {
    "duration": 8,
    "start_time": "2024-07-20T16:56:02.997Z"
   },
   {
    "duration": 81,
    "start_time": "2024-07-20T16:56:03.006Z"
   },
   {
    "duration": 68,
    "start_time": "2024-07-20T16:56:03.089Z"
   },
   {
    "duration": 81,
    "start_time": "2024-07-20T16:56:03.158Z"
   },
   {
    "duration": 56,
    "start_time": "2024-07-20T16:56:03.240Z"
   },
   {
    "duration": 22,
    "start_time": "2024-07-20T16:56:03.297Z"
   },
   {
    "duration": 76,
    "start_time": "2024-07-20T16:56:03.337Z"
   },
   {
    "duration": 105,
    "start_time": "2024-07-20T16:56:03.414Z"
   },
   {
    "duration": 72,
    "start_time": "2024-07-20T16:56:03.521Z"
   },
   {
    "duration": 46,
    "start_time": "2024-07-20T16:56:03.594Z"
   },
   {
    "duration": 29,
    "start_time": "2024-07-20T16:56:03.641Z"
   },
   {
    "duration": 41,
    "start_time": "2024-07-20T16:56:03.671Z"
   },
   {
    "duration": 78,
    "start_time": "2024-07-20T16:56:03.714Z"
   },
   {
    "duration": 15,
    "start_time": "2024-07-20T16:56:03.793Z"
   },
   {
    "duration": 21,
    "start_time": "2024-07-20T16:56:03.811Z"
   },
   {
    "duration": 45,
    "start_time": "2024-07-20T16:56:03.833Z"
   },
   {
    "duration": 24,
    "start_time": "2024-07-20T16:56:03.880Z"
   },
   {
    "duration": 73,
    "start_time": "2024-07-20T16:57:03.575Z"
   },
   {
    "duration": 238,
    "start_time": "2024-07-20T17:00:55.081Z"
   },
   {
    "duration": 307,
    "start_time": "2024-07-20T17:02:28.516Z"
   },
   {
    "duration": 67,
    "start_time": "2024-07-20T17:03:05.022Z"
   },
   {
    "duration": 364,
    "start_time": "2024-07-20T17:06:17.323Z"
   },
   {
    "duration": 332,
    "start_time": "2024-07-20T17:06:25.364Z"
   },
   {
    "duration": 227,
    "start_time": "2024-07-20T17:08:28.050Z"
   },
   {
    "duration": 196,
    "start_time": "2024-07-20T17:11:25.264Z"
   },
   {
    "duration": 174,
    "start_time": "2024-07-20T17:11:32.752Z"
   },
   {
    "duration": 196,
    "start_time": "2024-07-20T17:12:52.189Z"
   },
   {
    "duration": 201,
    "start_time": "2024-07-20T17:13:01.676Z"
   },
   {
    "duration": 200,
    "start_time": "2024-07-20T17:13:11.061Z"
   },
   {
    "duration": 225,
    "start_time": "2024-07-20T17:13:25.086Z"
   },
   {
    "duration": 219,
    "start_time": "2024-07-20T17:13:43.156Z"
   },
   {
    "duration": 315,
    "start_time": "2024-07-20T17:14:29.325Z"
   },
   {
    "duration": 204,
    "start_time": "2024-07-20T17:14:42.486Z"
   },
   {
    "duration": 287,
    "start_time": "2024-07-20T17:18:11.144Z"
   },
   {
    "duration": 225,
    "start_time": "2024-07-20T17:18:36.000Z"
   },
   {
    "duration": 234,
    "start_time": "2024-07-20T17:19:28.147Z"
   },
   {
    "duration": 224,
    "start_time": "2024-07-20T17:19:49.363Z"
   },
   {
    "duration": 223,
    "start_time": "2024-07-20T17:19:56.858Z"
   },
   {
    "duration": 221,
    "start_time": "2024-07-20T17:23:51.682Z"
   },
   {
    "duration": 214,
    "start_time": "2024-07-20T17:23:58.771Z"
   },
   {
    "duration": 216,
    "start_time": "2024-07-20T17:24:04.955Z"
   },
   {
    "duration": 222,
    "start_time": "2024-07-20T17:24:28.380Z"
   },
   {
    "duration": 428,
    "start_time": "2024-07-20T17:27:40.478Z"
   },
   {
    "duration": 347,
    "start_time": "2024-07-20T17:27:47.805Z"
   },
   {
    "duration": 312,
    "start_time": "2024-07-20T17:28:01.773Z"
   },
   {
    "duration": 344,
    "start_time": "2024-07-20T17:28:54.958Z"
   },
   {
    "duration": 122,
    "start_time": "2024-07-20T17:37:05.777Z"
   },
   {
    "duration": 134,
    "start_time": "2024-07-20T17:37:21.529Z"
   },
   {
    "duration": 142,
    "start_time": "2024-07-20T17:37:33.554Z"
   },
   {
    "duration": 118,
    "start_time": "2024-07-20T17:37:47.613Z"
   },
   {
    "duration": 149,
    "start_time": "2024-07-20T17:52:24.295Z"
   },
   {
    "duration": 126,
    "start_time": "2024-07-20T17:54:30.369Z"
   },
   {
    "duration": 130,
    "start_time": "2024-07-20T17:54:44.167Z"
   },
   {
    "duration": 124,
    "start_time": "2024-07-20T17:56:08.845Z"
   },
   {
    "duration": 213,
    "start_time": "2024-07-20T17:56:38.185Z"
   },
   {
    "duration": 101,
    "start_time": "2024-07-20T17:56:51.178Z"
   },
   {
    "duration": 100,
    "start_time": "2024-07-20T17:56:58.239Z"
   },
   {
    "duration": 105,
    "start_time": "2024-07-20T17:57:15.825Z"
   },
   {
    "duration": 116,
    "start_time": "2024-07-20T17:57:24.890Z"
   },
   {
    "duration": 103,
    "start_time": "2024-07-20T17:57:34.856Z"
   },
   {
    "duration": 104,
    "start_time": "2024-07-20T17:57:53.236Z"
   },
   {
    "duration": 116,
    "start_time": "2024-07-20T18:01:02.258Z"
   },
   {
    "duration": 146,
    "start_time": "2024-07-20T18:01:35.385Z"
   },
   {
    "duration": 111,
    "start_time": "2024-07-20T18:03:50.703Z"
   },
   {
    "duration": 152,
    "start_time": "2024-07-20T18:04:03.902Z"
   },
   {
    "duration": 147,
    "start_time": "2024-07-20T18:04:11.257Z"
   },
   {
    "duration": 152,
    "start_time": "2024-07-20T18:04:19.007Z"
   },
   {
    "duration": 24,
    "start_time": "2024-07-20T18:08:05.913Z"
   },
   {
    "duration": 58,
    "start_time": "2024-07-20T18:25:46.798Z"
   },
   {
    "duration": 25,
    "start_time": "2024-07-20T18:32:53.824Z"
   },
   {
    "duration": 25,
    "start_time": "2024-07-20T18:33:11.059Z"
   },
   {
    "duration": 11,
    "start_time": "2024-07-20T18:36:04.425Z"
   },
   {
    "duration": 23,
    "start_time": "2024-07-20T18:36:32.688Z"
   },
   {
    "duration": 11,
    "start_time": "2024-07-20T18:45:13.636Z"
   },
   {
    "duration": 9,
    "start_time": "2024-07-20T18:46:51.282Z"
   },
   {
    "duration": 1003,
    "start_time": "2024-07-20T18:49:13.984Z"
   },
   {
    "duration": 29,
    "start_time": "2024-07-20T18:49:14.989Z"
   },
   {
    "duration": 13,
    "start_time": "2024-07-20T18:49:15.019Z"
   },
   {
    "duration": 97,
    "start_time": "2024-07-20T18:49:15.035Z"
   },
   {
    "duration": 30,
    "start_time": "2024-07-20T18:49:15.133Z"
   },
   {
    "duration": 20,
    "start_time": "2024-07-20T18:49:15.165Z"
   },
   {
    "duration": 79,
    "start_time": "2024-07-20T18:49:15.187Z"
   },
   {
    "duration": 10,
    "start_time": "2024-07-20T18:49:15.268Z"
   },
   {
    "duration": 87,
    "start_time": "2024-07-20T18:49:15.280Z"
   },
   {
    "duration": 58,
    "start_time": "2024-07-20T18:49:15.369Z"
   },
   {
    "duration": 9,
    "start_time": "2024-07-20T18:49:15.429Z"
   },
   {
    "duration": 10,
    "start_time": "2024-07-20T18:49:15.439Z"
   },
   {
    "duration": 185,
    "start_time": "2024-07-20T18:49:15.450Z"
   },
   {
    "duration": 122,
    "start_time": "2024-07-20T18:49:15.637Z"
   },
   {
    "duration": 7,
    "start_time": "2024-07-20T18:49:15.761Z"
   },
   {
    "duration": 51,
    "start_time": "2024-07-20T18:49:15.770Z"
   },
   {
    "duration": 288,
    "start_time": "2024-07-20T18:49:15.823Z"
   },
   {
    "duration": 219,
    "start_time": "2024-07-20T18:49:16.112Z"
   },
   {
    "duration": 341,
    "start_time": "2024-07-20T18:49:16.337Z"
   },
   {
    "duration": 5,
    "start_time": "2024-07-20T18:49:16.680Z"
   },
   {
    "duration": 253,
    "start_time": "2024-07-20T18:49:16.687Z"
   },
   {
    "duration": 361,
    "start_time": "2024-07-20T18:49:16.941Z"
   },
   {
    "duration": 11,
    "start_time": "2024-07-20T18:49:17.304Z"
   },
   {
    "duration": 217,
    "start_time": "2024-07-20T18:49:17.316Z"
   },
   {
    "duration": 4,
    "start_time": "2024-07-20T18:49:17.537Z"
   },
   {
    "duration": 150,
    "start_time": "2024-07-20T18:49:17.543Z"
   },
   {
    "duration": 6,
    "start_time": "2024-07-20T18:49:17.694Z"
   },
   {
    "duration": 54,
    "start_time": "2024-07-20T18:49:17.703Z"
   },
   {
    "duration": 66,
    "start_time": "2024-07-20T18:49:17.758Z"
   },
   {
    "duration": 56,
    "start_time": "2024-07-20T18:49:17.825Z"
   },
   {
    "duration": 65,
    "start_time": "2024-07-20T18:49:17.883Z"
   },
   {
    "duration": 32,
    "start_time": "2024-07-20T18:49:17.950Z"
   },
   {
    "duration": 111,
    "start_time": "2024-07-20T18:49:17.984Z"
   },
   {
    "duration": 82,
    "start_time": "2024-07-20T18:49:18.096Z"
   },
   {
    "duration": 48,
    "start_time": "2024-07-20T18:49:18.180Z"
   },
   {
    "duration": 5,
    "start_time": "2024-07-20T18:49:18.236Z"
   },
   {
    "duration": 4,
    "start_time": "2024-07-20T18:49:18.243Z"
   },
   {
    "duration": 31,
    "start_time": "2024-07-20T18:49:18.248Z"
   },
   {
    "duration": 11,
    "start_time": "2024-07-20T18:49:18.280Z"
   },
   {
    "duration": 10,
    "start_time": "2024-07-20T18:49:18.292Z"
   },
   {
    "duration": 40,
    "start_time": "2024-07-20T18:49:18.304Z"
   },
   {
    "duration": 39,
    "start_time": "2024-07-20T18:49:18.346Z"
   },
   {
    "duration": 16,
    "start_time": "2024-07-20T18:49:18.387Z"
   },
   {
    "duration": 17,
    "start_time": "2024-07-20T18:50:35.272Z"
   },
   {
    "duration": 13,
    "start_time": "2024-07-20T18:50:53.521Z"
   },
   {
    "duration": 1035,
    "start_time": "2024-07-20T18:51:08.649Z"
   },
   {
    "duration": 28,
    "start_time": "2024-07-20T18:51:09.686Z"
   },
   {
    "duration": 4,
    "start_time": "2024-07-20T18:51:09.715Z"
   },
   {
    "duration": 10,
    "start_time": "2024-07-20T18:51:09.722Z"
   },
   {
    "duration": 11,
    "start_time": "2024-07-20T18:51:09.733Z"
   },
   {
    "duration": 10,
    "start_time": "2024-07-20T18:51:09.745Z"
   },
   {
    "duration": 51,
    "start_time": "2024-07-20T18:51:09.757Z"
   },
   {
    "duration": 11,
    "start_time": "2024-07-20T18:51:09.809Z"
   },
   {
    "duration": 10,
    "start_time": "2024-07-20T18:51:09.821Z"
   },
   {
    "duration": 20,
    "start_time": "2024-07-20T18:51:09.834Z"
   },
   {
    "duration": 8,
    "start_time": "2024-07-20T18:51:09.856Z"
   },
   {
    "duration": 6,
    "start_time": "2024-07-20T18:51:09.866Z"
   },
   {
    "duration": 160,
    "start_time": "2024-07-20T18:51:09.873Z"
   },
   {
    "duration": 121,
    "start_time": "2024-07-20T18:51:10.035Z"
   },
   {
    "duration": 6,
    "start_time": "2024-07-20T18:51:10.158Z"
   },
   {
    "duration": 50,
    "start_time": "2024-07-20T18:51:10.165Z"
   },
   {
    "duration": 301,
    "start_time": "2024-07-20T18:51:10.216Z"
   },
   {
    "duration": 232,
    "start_time": "2024-07-20T18:51:10.519Z"
   },
   {
    "duration": 336,
    "start_time": "2024-07-20T18:51:10.752Z"
   },
   {
    "duration": 6,
    "start_time": "2024-07-20T18:51:11.090Z"
   },
   {
    "duration": 242,
    "start_time": "2024-07-20T18:51:11.098Z"
   },
   {
    "duration": 361,
    "start_time": "2024-07-20T18:51:11.341Z"
   },
   {
    "duration": 11,
    "start_time": "2024-07-20T18:51:11.703Z"
   },
   {
    "duration": 163,
    "start_time": "2024-07-20T18:51:11.715Z"
   },
   {
    "duration": 4,
    "start_time": "2024-07-20T18:51:11.881Z"
   },
   {
    "duration": 168,
    "start_time": "2024-07-20T18:51:11.887Z"
   },
   {
    "duration": 7,
    "start_time": "2024-07-20T18:51:12.056Z"
   },
   {
    "duration": 55,
    "start_time": "2024-07-20T18:51:12.066Z"
   },
   {
    "duration": 45,
    "start_time": "2024-07-20T18:51:12.137Z"
   },
   {
    "duration": 127,
    "start_time": "2024-07-20T18:51:12.184Z"
   },
   {
    "duration": 55,
    "start_time": "2024-07-20T18:51:12.313Z"
   },
   {
    "duration": 21,
    "start_time": "2024-07-20T18:51:12.370Z"
   },
   {
    "duration": 76,
    "start_time": "2024-07-20T18:51:12.393Z"
   },
   {
    "duration": 90,
    "start_time": "2024-07-20T18:51:12.470Z"
   },
   {
    "duration": 42,
    "start_time": "2024-07-20T18:51:12.561Z"
   },
   {
    "duration": 16,
    "start_time": "2024-07-20T18:51:12.605Z"
   },
   {
    "duration": 5,
    "start_time": "2024-07-20T18:51:12.623Z"
   },
   {
    "duration": 30,
    "start_time": "2024-07-20T18:51:12.630Z"
   },
   {
    "duration": 11,
    "start_time": "2024-07-20T18:51:12.662Z"
   },
   {
    "duration": 10,
    "start_time": "2024-07-20T18:51:12.674Z"
   },
   {
    "duration": 10,
    "start_time": "2024-07-20T18:51:12.686Z"
   },
   {
    "duration": 52,
    "start_time": "2024-07-20T18:51:12.698Z"
   },
   {
    "duration": 15,
    "start_time": "2024-07-20T18:51:12.752Z"
   }
  ],
  "kernelspec": {
   "display_name": "Python 3 (ipykernel)",
   "language": "python",
   "name": "python3"
  },
  "language_info": {
   "codemirror_mode": {
    "name": "ipython",
    "version": 3
   },
   "file_extension": ".py",
   "mimetype": "text/x-python",
   "name": "python",
   "nbconvert_exporter": "python",
   "pygments_lexer": "ipython3",
   "version": "3.11.5"
  },
  "toc": {
   "base_numbering": 1,
   "nav_menu": {},
   "number_sections": true,
   "sideBar": true,
   "skip_h1_title": true,
   "title_cell": "Table of Contents",
   "title_sidebar": "Contents",
   "toc_cell": false,
   "toc_position": {},
   "toc_section_display": true,
   "toc_window_display": false
  }
 },
 "nbformat": 4,
 "nbformat_minor": 2
}
