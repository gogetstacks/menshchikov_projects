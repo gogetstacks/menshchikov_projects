{
 "cells": [
  {
   "cell_type": "markdown",
   "id": "3ade5e33",
   "metadata": {},
   "source": [
    "**Статистический анализ данных**"
   ]
  },
  {
   "cell_type": "markdown",
   "id": "3aaa4f80",
   "metadata": {},
   "source": [
    "**Описание проекта**\n",
    "\n",
    "В последние годы в крупных городах страны всё большую популярность набирают сервисы аренды самокатов. Как и у любого другого сервиса у таких компаний можно приобрести платную подписку, дающую определённые привелегии пользователям сервиса. На примере данных сервиса аренды самокатов GoFast попробуем определить, какую стратегию развития необходимо выбрать компании, чтобы достичь наилучших показателей выручки. Для этого проанализируем данные по нескольким городам в двух больших категориях пользователей - с платной подпиской и бесплатным тарифом."
   ]
  },
  {
   "cell_type": "markdown",
   "id": "d303c951",
   "metadata": {},
   "source": [
    "**Цель исследования**\n",
    "\n",
    "Проверить гипотезы о характере использования сервиса пользователми с подпиской и без неё, с целью вывления оптимальной стратегии развития сервиса."
   ]
  },
  {
   "cell_type": "markdown",
   "id": "f33945fe",
   "metadata": {},
   "source": [
    "**Ход исследования:**\n",
    "- Подготовка данных: загрузка и изучение общей информации из представленных датасетов.\n",
    "- Предобработка данных: обработка пропущенных значений, корректировка типа данных, дубликатов и других аномалий.\n",
    "- Исследовательский анализ данных: описание и визуализация общей информации о пользователях и поездках.\n",
    "- Объединение данных: объединение исходных датафреймов и создание новых, содержащих данные о пользователях с подпиской и без подписки.\n",
    "- Подсчёт выручки: создание датафрейма с агрегированными данными и подсчёт ежемесячной выручки.\n",
    "- Проверка гипотез: сравнение данных о расстоянии поездок, их длительности и принесенной выручке для двух категорий пользователей.\n"
   ]
  },
  {
   "cell_type": "markdown",
   "id": "7ea01261",
   "metadata": {},
   "source": [
    "**Общий вывод:** Резюмирование полученных результатов, формулировка ключевых выводов и рекомендаций.\n",
    "    \n",
    "С помощью данного исследования мы стараемся дать ответ на вопрос о прибыльности увеличения числа платных подписчиков сервиса, что поможет развивать сервис GoFast в будущем."
   ]
  },
  {
   "cell_type": "code",
   "execution_count": 1,
   "id": "72576667",
   "metadata": {},
   "outputs": [],
   "source": [
    "import pandas as pd # импортируем необходимые бибилотеки\n",
    "import matplotlib.pyplot as plt\n",
    "import seaborn as sns\n",
    "from scipy import stats as st\n",
    "import numpy as np"
   ]
  },
  {
   "cell_type": "markdown",
   "id": "c42cbe00",
   "metadata": {},
   "source": [
    "#### Шаг 1. Загрузка данных"
   ]
  },
  {
   "cell_type": "code",
   "execution_count": 2,
   "id": "eff9f206",
   "metadata": {},
   "outputs": [],
   "source": [
    "users = pd.read_csv('/datasets/users_go.csv') # считываем датафреймы по данным о пользователях,\n",
    "rides = pd.read_csv('/datasets/rides_go.csv', parse_dates=['date'], dayfirst=True) # их поездках\n",
    "subscriptions = pd.read_csv('/datasets/subscriptions_go.csv') # и данных о подписках"
   ]
  },
  {
   "cell_type": "code",
   "execution_count": 3,
   "id": "54fd0dcb",
   "metadata": {},
   "outputs": [
    {
     "data": {
      "text/html": [
       "<div>\n",
       "<style scoped>\n",
       "    .dataframe tbody tr th:only-of-type {\n",
       "        vertical-align: middle;\n",
       "    }\n",
       "\n",
       "    .dataframe tbody tr th {\n",
       "        vertical-align: top;\n",
       "    }\n",
       "\n",
       "    .dataframe thead th {\n",
       "        text-align: right;\n",
       "    }\n",
       "</style>\n",
       "<table border=\"1\" class=\"dataframe\">\n",
       "  <thead>\n",
       "    <tr style=\"text-align: right;\">\n",
       "      <th></th>\n",
       "      <th>user_id</th>\n",
       "      <th>name</th>\n",
       "      <th>age</th>\n",
       "      <th>city</th>\n",
       "      <th>subscription_type</th>\n",
       "    </tr>\n",
       "  </thead>\n",
       "  <tbody>\n",
       "    <tr>\n",
       "      <th>0</th>\n",
       "      <td>1</td>\n",
       "      <td>Кира</td>\n",
       "      <td>22</td>\n",
       "      <td>Тюмень</td>\n",
       "      <td>ultra</td>\n",
       "    </tr>\n",
       "    <tr>\n",
       "      <th>1</th>\n",
       "      <td>2</td>\n",
       "      <td>Станислав</td>\n",
       "      <td>31</td>\n",
       "      <td>Омск</td>\n",
       "      <td>ultra</td>\n",
       "    </tr>\n",
       "    <tr>\n",
       "      <th>2</th>\n",
       "      <td>3</td>\n",
       "      <td>Алексей</td>\n",
       "      <td>20</td>\n",
       "      <td>Москва</td>\n",
       "      <td>ultra</td>\n",
       "    </tr>\n",
       "    <tr>\n",
       "      <th>3</th>\n",
       "      <td>4</td>\n",
       "      <td>Константин</td>\n",
       "      <td>26</td>\n",
       "      <td>Ростов-на-Дону</td>\n",
       "      <td>ultra</td>\n",
       "    </tr>\n",
       "    <tr>\n",
       "      <th>4</th>\n",
       "      <td>5</td>\n",
       "      <td>Адель</td>\n",
       "      <td>28</td>\n",
       "      <td>Омск</td>\n",
       "      <td>ultra</td>\n",
       "    </tr>\n",
       "    <tr>\n",
       "      <th>5</th>\n",
       "      <td>6</td>\n",
       "      <td>Регина</td>\n",
       "      <td>25</td>\n",
       "      <td>Краснодар</td>\n",
       "      <td>ultra</td>\n",
       "    </tr>\n",
       "    <tr>\n",
       "      <th>6</th>\n",
       "      <td>7</td>\n",
       "      <td>Игорь</td>\n",
       "      <td>23</td>\n",
       "      <td>Омск</td>\n",
       "      <td>ultra</td>\n",
       "    </tr>\n",
       "    <tr>\n",
       "      <th>7</th>\n",
       "      <td>8</td>\n",
       "      <td>Юрий</td>\n",
       "      <td>23</td>\n",
       "      <td>Краснодар</td>\n",
       "      <td>ultra</td>\n",
       "    </tr>\n",
       "    <tr>\n",
       "      <th>8</th>\n",
       "      <td>9</td>\n",
       "      <td>Ян</td>\n",
       "      <td>21</td>\n",
       "      <td>Пятигорск</td>\n",
       "      <td>ultra</td>\n",
       "    </tr>\n",
       "    <tr>\n",
       "      <th>9</th>\n",
       "      <td>10</td>\n",
       "      <td>Валерий</td>\n",
       "      <td>18</td>\n",
       "      <td>Екатеринбург</td>\n",
       "      <td>ultra</td>\n",
       "    </tr>\n",
       "  </tbody>\n",
       "</table>\n",
       "</div>"
      ],
      "text/plain": [
       "   user_id        name  age            city subscription_type\n",
       "0        1        Кира   22          Тюмень             ultra\n",
       "1        2   Станислав   31            Омск             ultra\n",
       "2        3     Алексей   20          Москва             ultra\n",
       "3        4  Константин   26  Ростов-на-Дону             ultra\n",
       "4        5       Адель   28            Омск             ultra\n",
       "5        6      Регина   25       Краснодар             ultra\n",
       "6        7       Игорь   23            Омск             ultra\n",
       "7        8        Юрий   23       Краснодар             ultra\n",
       "8        9          Ян   21       Пятигорск             ultra\n",
       "9       10     Валерий   18    Екатеринбург             ultra"
      ]
     },
     "execution_count": 3,
     "metadata": {},
     "output_type": "execute_result"
    }
   ],
   "source": [
    "users.head(10) # выведем первые 10 строк датафрейма"
   ]
  },
  {
   "cell_type": "code",
   "execution_count": 4,
   "id": "a00aa354",
   "metadata": {},
   "outputs": [
    {
     "name": "stdout",
     "output_type": "stream",
     "text": [
      "<class 'pandas.core.frame.DataFrame'>\n",
      "RangeIndex: 1565 entries, 0 to 1564\n",
      "Data columns (total 5 columns):\n",
      " #   Column             Non-Null Count  Dtype \n",
      "---  ------             --------------  ----- \n",
      " 0   user_id            1565 non-null   int64 \n",
      " 1   name               1565 non-null   object\n",
      " 2   age                1565 non-null   int64 \n",
      " 3   city               1565 non-null   object\n",
      " 4   subscription_type  1565 non-null   object\n",
      "dtypes: int64(2), object(3)\n",
      "memory usage: 61.3+ KB\n"
     ]
    }
   ],
   "source": [
    "users.info() # выведем информацию о датафрейме с пользователями"
   ]
  },
  {
   "cell_type": "code",
   "execution_count": 5,
   "id": "d6eae06a",
   "metadata": {},
   "outputs": [
    {
     "data": {
      "text/html": [
       "<div>\n",
       "<style scoped>\n",
       "    .dataframe tbody tr th:only-of-type {\n",
       "        vertical-align: middle;\n",
       "    }\n",
       "\n",
       "    .dataframe tbody tr th {\n",
       "        vertical-align: top;\n",
       "    }\n",
       "\n",
       "    .dataframe thead th {\n",
       "        text-align: right;\n",
       "    }\n",
       "</style>\n",
       "<table border=\"1\" class=\"dataframe\">\n",
       "  <thead>\n",
       "    <tr style=\"text-align: right;\">\n",
       "      <th></th>\n",
       "      <th>user_id</th>\n",
       "      <th>distance</th>\n",
       "      <th>duration</th>\n",
       "      <th>date</th>\n",
       "    </tr>\n",
       "  </thead>\n",
       "  <tbody>\n",
       "    <tr>\n",
       "      <th>0</th>\n",
       "      <td>1</td>\n",
       "      <td>4409.919140</td>\n",
       "      <td>25.599769</td>\n",
       "      <td>2021-01-01</td>\n",
       "    </tr>\n",
       "    <tr>\n",
       "      <th>1</th>\n",
       "      <td>1</td>\n",
       "      <td>2617.592153</td>\n",
       "      <td>15.816871</td>\n",
       "      <td>2021-01-18</td>\n",
       "    </tr>\n",
       "    <tr>\n",
       "      <th>2</th>\n",
       "      <td>1</td>\n",
       "      <td>754.159807</td>\n",
       "      <td>6.232113</td>\n",
       "      <td>2021-04-20</td>\n",
       "    </tr>\n",
       "    <tr>\n",
       "      <th>3</th>\n",
       "      <td>1</td>\n",
       "      <td>2694.783254</td>\n",
       "      <td>18.511000</td>\n",
       "      <td>2021-08-11</td>\n",
       "    </tr>\n",
       "    <tr>\n",
       "      <th>4</th>\n",
       "      <td>1</td>\n",
       "      <td>4028.687306</td>\n",
       "      <td>26.265803</td>\n",
       "      <td>2021-08-28</td>\n",
       "    </tr>\n",
       "    <tr>\n",
       "      <th>5</th>\n",
       "      <td>1</td>\n",
       "      <td>2770.890808</td>\n",
       "      <td>16.650138</td>\n",
       "      <td>2021-10-09</td>\n",
       "    </tr>\n",
       "    <tr>\n",
       "      <th>6</th>\n",
       "      <td>1</td>\n",
       "      <td>3039.020292</td>\n",
       "      <td>14.927879</td>\n",
       "      <td>2021-10-19</td>\n",
       "    </tr>\n",
       "    <tr>\n",
       "      <th>7</th>\n",
       "      <td>1</td>\n",
       "      <td>2842.118050</td>\n",
       "      <td>23.117468</td>\n",
       "      <td>2021-11-06</td>\n",
       "    </tr>\n",
       "    <tr>\n",
       "      <th>8</th>\n",
       "      <td>1</td>\n",
       "      <td>3412.690668</td>\n",
       "      <td>15.238072</td>\n",
       "      <td>2021-11-14</td>\n",
       "    </tr>\n",
       "    <tr>\n",
       "      <th>9</th>\n",
       "      <td>1</td>\n",
       "      <td>748.690645</td>\n",
       "      <td>15.041884</td>\n",
       "      <td>2021-11-22</td>\n",
       "    </tr>\n",
       "  </tbody>\n",
       "</table>\n",
       "</div>"
      ],
      "text/plain": [
       "   user_id     distance   duration       date\n",
       "0        1  4409.919140  25.599769 2021-01-01\n",
       "1        1  2617.592153  15.816871 2021-01-18\n",
       "2        1   754.159807   6.232113 2021-04-20\n",
       "3        1  2694.783254  18.511000 2021-08-11\n",
       "4        1  4028.687306  26.265803 2021-08-28\n",
       "5        1  2770.890808  16.650138 2021-10-09\n",
       "6        1  3039.020292  14.927879 2021-10-19\n",
       "7        1  2842.118050  23.117468 2021-11-06\n",
       "8        1  3412.690668  15.238072 2021-11-14\n",
       "9        1   748.690645  15.041884 2021-11-22"
      ]
     },
     "execution_count": 5,
     "metadata": {},
     "output_type": "execute_result"
    }
   ],
   "source": [
    "rides.head(10) # выведем первые 10 строк датафрейма"
   ]
  },
  {
   "cell_type": "code",
   "execution_count": 6,
   "id": "d3f44544",
   "metadata": {},
   "outputs": [
    {
     "name": "stdout",
     "output_type": "stream",
     "text": [
      "<class 'pandas.core.frame.DataFrame'>\n",
      "RangeIndex: 18068 entries, 0 to 18067\n",
      "Data columns (total 4 columns):\n",
      " #   Column    Non-Null Count  Dtype         \n",
      "---  ------    --------------  -----         \n",
      " 0   user_id   18068 non-null  int64         \n",
      " 1   distance  18068 non-null  float64       \n",
      " 2   duration  18068 non-null  float64       \n",
      " 3   date      18068 non-null  datetime64[ns]\n",
      "dtypes: datetime64[ns](1), float64(2), int64(1)\n",
      "memory usage: 564.8 KB\n"
     ]
    }
   ],
   "source": [
    "rides.info() # выведем информацию о датафрейме с данными о поездках"
   ]
  },
  {
   "cell_type": "code",
   "execution_count": 7,
   "id": "988e8b64",
   "metadata": {
    "scrolled": true
   },
   "outputs": [
    {
     "data": {
      "text/html": [
       "<div>\n",
       "<style scoped>\n",
       "    .dataframe tbody tr th:only-of-type {\n",
       "        vertical-align: middle;\n",
       "    }\n",
       "\n",
       "    .dataframe tbody tr th {\n",
       "        vertical-align: top;\n",
       "    }\n",
       "\n",
       "    .dataframe thead th {\n",
       "        text-align: right;\n",
       "    }\n",
       "</style>\n",
       "<table border=\"1\" class=\"dataframe\">\n",
       "  <thead>\n",
       "    <tr style=\"text-align: right;\">\n",
       "      <th></th>\n",
       "      <th>subscription_type</th>\n",
       "      <th>minute_price</th>\n",
       "      <th>start_ride_price</th>\n",
       "      <th>subscription_fee</th>\n",
       "    </tr>\n",
       "  </thead>\n",
       "  <tbody>\n",
       "    <tr>\n",
       "      <th>0</th>\n",
       "      <td>free</td>\n",
       "      <td>8</td>\n",
       "      <td>50</td>\n",
       "      <td>0</td>\n",
       "    </tr>\n",
       "    <tr>\n",
       "      <th>1</th>\n",
       "      <td>ultra</td>\n",
       "      <td>6</td>\n",
       "      <td>0</td>\n",
       "      <td>199</td>\n",
       "    </tr>\n",
       "  </tbody>\n",
       "</table>\n",
       "</div>"
      ],
      "text/plain": [
       "  subscription_type  minute_price  start_ride_price  subscription_fee\n",
       "0              free             8                50                 0\n",
       "1             ultra             6                 0               199"
      ]
     },
     "execution_count": 7,
     "metadata": {},
     "output_type": "execute_result"
    }
   ],
   "source": [
    "subscriptions.head(10) # выведем первые 10 строк датафрейма"
   ]
  },
  {
   "cell_type": "code",
   "execution_count": 8,
   "id": "625fe3f4",
   "metadata": {},
   "outputs": [
    {
     "name": "stdout",
     "output_type": "stream",
     "text": [
      "<class 'pandas.core.frame.DataFrame'>\n",
      "RangeIndex: 2 entries, 0 to 1\n",
      "Data columns (total 4 columns):\n",
      " #   Column             Non-Null Count  Dtype \n",
      "---  ------             --------------  ----- \n",
      " 0   subscription_type  2 non-null      object\n",
      " 1   minute_price       2 non-null      int64 \n",
      " 2   start_ride_price   2 non-null      int64 \n",
      " 3   subscription_fee   2 non-null      int64 \n",
      "dtypes: int64(3), object(1)\n",
      "memory usage: 192.0+ bytes\n"
     ]
    }
   ],
   "source": [
    "subscriptions.info() # выведем информацию о датафрейме с типом подписок"
   ]
  },
  {
   "cell_type": "markdown",
   "id": "13896a58",
   "metadata": {},
   "source": [
    "Изучив общую информацию о представленных датафреймах, можно отметить что:\n",
    "- датафреймы имеют достаточный и удобный для анализа размер (1534 и 17616 строчек);\n",
    "- название колонок уже приведены к \"змеиному регистру\";\n",
    "- тип данных для столбца date имеет нужный формат после прочтение датафрейма;\n",
    "- очевидных пропусков в данных не наблюдается."
   ]
  },
  {
   "cell_type": "markdown",
   "id": "e95ebca7",
   "metadata": {},
   "source": [
    "#### Шаг 2. Предобработка данных"
   ]
  },
  {
   "cell_type": "markdown",
   "id": "ea20e943",
   "metadata": {},
   "source": [
    "Создадим новый столбец с номером месяца на основе столбца date."
   ]
  },
  {
   "cell_type": "code",
   "execution_count": 9,
   "id": "cda9f797",
   "metadata": {},
   "outputs": [],
   "source": [
    "rides['month'] = rides['date'].dt.month # создадим стобец с номером месяца"
   ]
  },
  {
   "cell_type": "code",
   "execution_count": 10,
   "id": "a8671282",
   "metadata": {},
   "outputs": [
    {
     "data": {
      "text/plain": [
       "31"
      ]
     },
     "execution_count": 10,
     "metadata": {},
     "output_type": "execute_result"
    }
   ],
   "source": [
    "users.duplicated().sum() # найдём количество дубликатов в первом датафрейме"
   ]
  },
  {
   "cell_type": "code",
   "execution_count": 11,
   "id": "eff298da",
   "metadata": {},
   "outputs": [],
   "source": [
    "users = users.drop_duplicates().reset_index(drop=True) # перезапишем датафрейм без дубликатов с новыми индексами"
   ]
  },
  {
   "cell_type": "code",
   "execution_count": 12,
   "id": "0943aed0",
   "metadata": {},
   "outputs": [
    {
     "data": {
      "text/plain": [
       "0"
      ]
     },
     "execution_count": 12,
     "metadata": {},
     "output_type": "execute_result"
    }
   ],
   "source": [
    "users.duplicated().sum() # проверим результат"
   ]
  },
  {
   "cell_type": "code",
   "execution_count": 13,
   "id": "979093d9",
   "metadata": {},
   "outputs": [
    {
     "data": {
      "text/plain": [
       "0"
      ]
     },
     "execution_count": 13,
     "metadata": {},
     "output_type": "execute_result"
    }
   ],
   "source": [
    "rides.duplicated().sum() # проверим второй датафрейм на наличие дубликатов"
   ]
  },
  {
   "cell_type": "code",
   "execution_count": 14,
   "id": "bae3b61d",
   "metadata": {},
   "outputs": [
    {
     "data": {
      "text/plain": [
       "user_id              0\n",
       "name                 0\n",
       "age                  0\n",
       "city                 0\n",
       "subscription_type    0\n",
       "dtype: int64"
      ]
     },
     "execution_count": 14,
     "metadata": {},
     "output_type": "execute_result"
    }
   ],
   "source": [
    "users.isna().sum() # проверим ещё раз оба датафрейма на наличие пропусков"
   ]
  },
  {
   "cell_type": "code",
   "execution_count": 15,
   "id": "1e1cc31f",
   "metadata": {},
   "outputs": [
    {
     "data": {
      "text/plain": [
       "user_id     0\n",
       "distance    0\n",
       "duration    0\n",
       "date        0\n",
       "month       0\n",
       "dtype: int64"
      ]
     },
     "execution_count": 15,
     "metadata": {},
     "output_type": "execute_result"
    }
   ],
   "source": [
    "rides.isna().sum()"
   ]
  },
  {
   "cell_type": "markdown",
   "id": "d58a6adf",
   "metadata": {},
   "source": [
    "Проверив два датафрейма, можно отметить:\n",
    "- что небольшое количество явных дубликатов в датафрейме с пользователями (31), от которых мы избавились, не повлияет сильно на размер выборки;\n",
    "- в датафреймах также не было обнаружено пропусков.\n",
    "\n",
    "Сделаем вывод, что данные представлены хорошо, и можно переходить к исследовательскому анализу."
   ]
  },
  {
   "cell_type": "markdown",
   "id": "212593c7",
   "metadata": {},
   "source": [
    "#### Шаг 3. Исследовательский анализ данных"
   ]
  },
  {
   "cell_type": "markdown",
   "id": "f1d48858",
   "metadata": {},
   "source": [
    "**3.1 Частота встречаемости городов**"
   ]
  },
  {
   "cell_type": "code",
   "execution_count": 16,
   "id": "e3a4274c",
   "metadata": {},
   "outputs": [
    {
     "data": {
      "text/plain": [
       "city\n",
       "Пятигорск         219\n",
       "Екатеринбург      204\n",
       "Ростов-на-Дону    198\n",
       "Краснодар         193\n",
       "Сочи              189\n",
       "Омск              183\n",
       "Тюмень            180\n",
       "Москва            168\n",
       "Name: city, dtype: int64"
      ]
     },
     "execution_count": 16,
     "metadata": {},
     "output_type": "execute_result"
    }
   ],
   "source": [
    "users.groupby('city')['city'].count().sort_values(ascending=False) # оценим частоту встречаемости каждого города"
   ]
  },
  {
   "cell_type": "markdown",
   "id": "ba98bcf0",
   "metadata": {},
   "source": [
    "Построим столбчатую диаграмму."
   ]
  },
  {
   "cell_type": "code",
   "execution_count": 17,
   "id": "a68356e8",
   "metadata": {},
   "outputs": [
    {
     "data": {
      "text/plain": [
       "[Text(0.5, 0, 'Город'),\n",
       " Text(0, 0.5, 'Количество пользователей'),\n",
       " Text(0.5, 1.0, 'Частота встречаемости городов')]"
      ]
     },
     "execution_count": 17,
     "metadata": {},
     "output_type": "execute_result"
    },
    {
     "data": {
      "image/png": "[encoded data removed]",
      "text/plain": [
       "<Figure size 432x288 with 1 Axes>"
      ]
     },
     "metadata": {
      "needs_background": "light"
     },
     "output_type": "display_data"
    }
   ],
   "source": [
    "cities_count = users.groupby('city', as_index=False).count() # сгруппируем датасет по городам, и посчитаем их\n",
    "plt.xticks(rotation=90) # повернём подписи для оси x\n",
    "sns.barplot(x=cities_count['city'], y=cities_count['user_id']) \\\n",
    ".set(\n",
    "    xlabel='Город', \n",
    "    ylabel='Количество пользователей', \n",
    "    title='Частота встречаемости городов'\n",
    ") # построим диаграмму"
   ]
  },
  {
   "cell_type": "markdown",
   "id": "abcf5834",
   "metadata": {},
   "source": [
    "На основе полученной таблицы и диаграммы, мы можем сделать вывод, что выборка данных равномерно описывает региональные центры, и чуть в меньшей степени столицу."
   ]
  },
  {
   "cell_type": "markdown",
   "id": "7f1c02d3",
   "metadata": {},
   "source": [
    "**3.2 Соотношение пользователей с подпиской и без подписки**"
   ]
  },
  {
   "cell_type": "code",
   "execution_count": 18,
   "id": "6d14f30a",
   "metadata": {},
   "outputs": [
    {
     "data": {
      "text/plain": [
       "0.46"
      ]
     },
     "execution_count": 18,
     "metadata": {},
     "output_type": "execute_result"
    }
   ],
   "source": [
    "ultra_part = len(users.query('subscription_type == \"ultra\"')) / len(users) # найдём долю пользователей с подпиской\n",
    "round(ultra_part, 2) # выведем её, округлив до сотых"
   ]
  },
  {
   "cell_type": "code",
   "execution_count": 19,
   "id": "223c1fc9",
   "metadata": {},
   "outputs": [
    {
     "data": {
      "text/plain": [
       "0.54"
      ]
     },
     "execution_count": 19,
     "metadata": {},
     "output_type": "execute_result"
    }
   ],
   "source": [
    "free_part = 1-ultra_part\n",
    "round(free_part, 2) # доля пользователей без подписки"
   ]
  },
  {
   "cell_type": "code",
   "execution_count": 20,
   "id": "7fcf8bbe",
   "metadata": {},
   "outputs": [
    {
     "data": {
      "text/plain": [
       "<AxesSubplot:ylabel='user_id'>"
      ]
     },
     "execution_count": 20,
     "metadata": {},
     "output_type": "execute_result"
    },
    {
     "data": {
      "image/png": "[encoded data removed]",
      "text/plain": [
       "<Figure size 432x288 with 1 Axes>"
      ]
     },
     "metadata": {},
     "output_type": "display_data"
    }
   ],
   "source": [
    "users.groupby('subscription_type').count().plot(kind='pie', y='user_id', autopct='%1.0f%%') # построим круговую диаграмму"
   ]
  },
  {
   "cell_type": "markdown",
   "id": "9883604e",
   "metadata": {},
   "source": [
    "По построенной диаграмме и полученным значениям отметим, что доля клиентов с подпиской ultra составляет примерно половину от общего числа пользователей."
   ]
  },
  {
   "cell_type": "markdown",
   "id": "3c3d891f",
   "metadata": {},
   "source": [
    "**3.3 Возраст пользователей**"
   ]
  },
  {
   "cell_type": "code",
   "execution_count": 21,
   "id": "cd337e90",
   "metadata": {},
   "outputs": [
    {
     "data": {
      "text/plain": [
       "count    1534.000000\n",
       "mean       24.903520\n",
       "std         4.572367\n",
       "min        12.000000\n",
       "25%        22.000000\n",
       "50%        25.000000\n",
       "75%        28.000000\n",
       "max        43.000000\n",
       "Name: age, dtype: float64"
      ]
     },
     "execution_count": 21,
     "metadata": {},
     "output_type": "execute_result"
    }
   ],
   "source": [
    "users['age'].describe() # воспользуемся методом describe для описания данных о возрасте"
   ]
  },
  {
   "cell_type": "markdown",
   "id": "cf73ac82",
   "metadata": {},
   "source": [
    "Получив описание данных, можно заметить, что максимальный возраст пользователей - 43 года, а минимальный - 12 лет. Построим гистограмму, чтобы оценить количество клиентов в каждой группе."
   ]
  },
  {
   "cell_type": "code",
   "execution_count": 22,
   "id": "96b441ac",
   "metadata": {},
   "outputs": [
    {
     "data": {
      "text/plain": [
       "[Text(0.5, 1.0, 'Гистограмма возрастов')]"
      ]
     },
     "execution_count": 22,
     "metadata": {},
     "output_type": "execute_result"
    },
    {
     "data": {
      "image/png": "[encoded data removed]",
      "text/plain": [
       "<Figure size 432x288 with 1 Axes>"
      ]
     },
     "metadata": {
      "needs_background": "light"
     },
     "output_type": "display_data"
    }
   ],
   "source": [
    "plt.xlabel(\"возраст\")\n",
    "plt.ylabel(\"частота встречаемости\")\n",
    "users['age'].hist(bins=31).set(title='Гистограмма возрастов')"
   ]
  },
  {
   "cell_type": "markdown",
   "id": "fe2596d0",
   "metadata": {},
   "source": [
    "Изучив гистограмму можно отметить, что пользователей старше 37 лет практически нет. Наблюдается также незначительный всплеск количества пользователей в возрасте 43 года. Оценим их количество."
   ]
  },
  {
   "cell_type": "code",
   "execution_count": 23,
   "id": "8563d1e0",
   "metadata": {},
   "outputs": [
    {
     "data": {
      "text/plain": [
       "0.003"
      ]
     },
     "execution_count": 23,
     "metadata": {},
     "output_type": "execute_result"
    }
   ],
   "source": [
    "round(len(users.query('age > 37')) / len(users), 3) # посчитаем долю клиентов 37+"
   ]
  },
  {
   "cell_type": "markdown",
   "id": "b807a0a2",
   "metadata": {},
   "source": [
    "Таким образом, можно отметить что:\n",
    "- доля клиентов 37+ составляет менее 1%, она не повлияет на общий результат;\n",
    "- средний возраст пользователей составляет 25 лет"
   ]
  },
  {
   "cell_type": "markdown",
   "id": "651a4ac0",
   "metadata": {},
   "source": [
    "**3.4 Расстояние, которое пользователь преодолел за одну поездку**"
   ]
  },
  {
   "cell_type": "code",
   "execution_count": 24,
   "id": "3c89fa90",
   "metadata": {},
   "outputs": [
    {
     "data": {
      "text/plain": [
       "count    18068.000000\n",
       "mean      3070.659976\n",
       "std       1116.831209\n",
       "min          0.855683\n",
       "25%       2543.226360\n",
       "50%       3133.609994\n",
       "75%       3776.222735\n",
       "max       7211.007745\n",
       "Name: distance, dtype: float64"
      ]
     },
     "execution_count": 24,
     "metadata": {},
     "output_type": "execute_result"
    }
   ],
   "source": [
    "rides['distance'].describe() # выведем описание данных о расстоянии поездок"
   ]
  },
  {
   "cell_type": "code",
   "execution_count": 25,
   "id": "7c92985c",
   "metadata": {},
   "outputs": [
    {
     "data": {
      "text/plain": [
       "[Text(0.5, 1.0, 'Гистограмма дистанций поездок')]"
      ]
     },
     "execution_count": 25,
     "metadata": {},
     "output_type": "execute_result"
    },
    {
     "data": {
      "image/png": "[encoded data removed]",
      "text/plain": [
       "<Figure size 432x288 with 1 Axes>"
      ]
     },
     "metadata": {
      "needs_background": "light"
     },
     "output_type": "display_data"
    }
   ],
   "source": [
    "plt.xlabel(\"дистанция в м.\")\n",
    "plt.ylabel(\"частота встречаемости\")\n",
    "rides['distance'].hist(bins=30, range=(300,6000)).set(title='Гистограмма дистанций поездок')\n",
    "# построим гистограмму, отбросив значения менее 300 и более 6000 метров"
   ]
  },
  {
   "cell_type": "code",
   "execution_count": 26,
   "id": "bd8f34f0",
   "metadata": {},
   "outputs": [
    {
     "data": {
      "text/plain": [
       "0.98"
      ]
     },
     "execution_count": 26,
     "metadata": {},
     "output_type": "execute_result"
    }
   ],
   "source": [
    "round(len(rides.query('300 < distance < 6000')) / len(rides), 2) #найдём долю данных без аномально коротких и длинных расстояний"
   ]
  },
  {
   "cell_type": "markdown",
   "id": "a630f11b",
   "metadata": {},
   "source": [
    "Доля аномальных коротких и длинных поездок составила около 2% от общего числа значений. Это не повлияет на дальнейшее исследование."
   ]
  },
  {
   "cell_type": "markdown",
   "id": "8fbca1c2",
   "metadata": {},
   "source": [
    "По полученным данным и построенной диаграмме можно отметить:\n",
    "- что средняя дистанция поездок составляет примерно 3100 метров. Также наблюдается небольшой пик значений в районе 500-600 метров (вероятно это популярная средняя дистанция среди коротких поездок);\n",
    "- минимальное расстояние поездки составило 0,8 метров - скорее всего поездка не состоялась;\n",
    "- также есть аномально дальние поездки более 6000 метров, но их доля не велика, что позволило продолжить исследование."
   ]
  },
  {
   "cell_type": "markdown",
   "id": "21c2e436",
   "metadata": {},
   "source": [
    "**3.5 Продолжительность поездок**"
   ]
  },
  {
   "cell_type": "code",
   "execution_count": 27,
   "id": "7cfb5fdb",
   "metadata": {},
   "outputs": [
    {
     "data": {
      "text/plain": [
       "count    18068.000000\n",
       "mean        17.805011\n",
       "std          6.091051\n",
       "min          0.500000\n",
       "25%         13.597563\n",
       "50%         17.678395\n",
       "75%         21.724800\n",
       "max         40.823963\n",
       "Name: duration, dtype: float64"
      ]
     },
     "execution_count": 27,
     "metadata": {},
     "output_type": "execute_result"
    }
   ],
   "source": [
    "rides['duration'].describe()"
   ]
  },
  {
   "cell_type": "code",
   "execution_count": 28,
   "id": "6a1df4e2",
   "metadata": {},
   "outputs": [
    {
     "data": {
      "text/plain": [
       "[Text(0.5, 1.0, 'Гистограмма продолжительности поездок')]"
      ]
     },
     "execution_count": 28,
     "metadata": {},
     "output_type": "execute_result"
    },
    {
     "data": {
      "image/png": "[encoded data removed]",
      "text/plain": [
       "<Figure size 432x288 with 1 Axes>"
      ]
     },
     "metadata": {
      "needs_background": "light"
     },
     "output_type": "display_data"
    }
   ],
   "source": [
    "plt.xlabel(\"время в мин.\")\n",
    "plt.ylabel(\"частота встречаемости\")\n",
    "rides['duration'].hist(bins=39).set(title='Гистограмма продолжительности поездок')"
   ]
  },
  {
   "cell_type": "markdown",
   "id": "bbedd6fb",
   "metadata": {},
   "source": [
    "По полученным данным видно, что параметр длительности поездок распределён нормально. Можно отметить, что поездок длинее 35 минут и короче 2,5 минут практически не было. Найдём долю этих поездок."
   ]
  },
  {
   "cell_type": "code",
   "execution_count": 29,
   "id": "2e23d46c",
   "metadata": {},
   "outputs": [
    {
     "data": {
      "text/plain": [
       "0.99"
      ]
     },
     "execution_count": 29,
     "metadata": {},
     "output_type": "execute_result"
    }
   ],
   "source": [
    "round(len(rides.query('2.5 < duration < 35')) / len(rides), 2) # найдём долю поездок без аномально коротких и длинных сессий"
   ]
  },
  {
   "cell_type": "markdown",
   "id": "c6dcbaf5",
   "metadata": {},
   "source": [
    "Доля аномальных коротких и аномально длинных сессий сотавила около 1%, это не повлияет на результаты исследования."
   ]
  },
  {
   "cell_type": "markdown",
   "id": "8cd7ea00",
   "metadata": {},
   "source": [
    "На основе полученных данных можно сделать вывод, что средняя длительность поездки составлет примерно 17 минут. Так же встречаются поездки длительностью менее 1 минуты (возможно клиент передумал) или длительностью около 40 минут - настоящие фанаты электросамокатов)))"
   ]
  },
  {
   "cell_type": "markdown",
   "id": "4ef51331",
   "metadata": {},
   "source": [
    "#### Шаг 4. Объединение данных"
   ]
  },
  {
   "cell_type": "markdown",
   "id": "619a69b8",
   "metadata": {},
   "source": [
    "**4.1 Объединение данных о пользователях, поездках и подписках в один датафрейм.**"
   ]
  },
  {
   "cell_type": "markdown",
   "id": "a847d3a0",
   "metadata": {},
   "source": [
    "Оценим размерность датасетов перед объединением."
   ]
  },
  {
   "cell_type": "code",
   "execution_count": 30,
   "id": "66c4fd85",
   "metadata": {},
   "outputs": [
    {
     "data": {
      "text/plain": [
       "1534"
      ]
     },
     "execution_count": 30,
     "metadata": {},
     "output_type": "execute_result"
    }
   ],
   "source": [
    "len(users) # количество строк в датафрейме с пользователями"
   ]
  },
  {
   "cell_type": "code",
   "execution_count": 31,
   "id": "b19fe743",
   "metadata": {},
   "outputs": [
    {
     "data": {
      "text/plain": [
       "18068"
      ]
     },
     "execution_count": 31,
     "metadata": {},
     "output_type": "execute_result"
    }
   ],
   "source": [
    "len(rides) # количество строк в датафрейме с поездками"
   ]
  },
  {
   "cell_type": "markdown",
   "id": "c97c992a",
   "metadata": {},
   "source": [
    "После объединения в новый датафрейм количетсво его строк должно соответсвовать числу поездок (пользователь может повторяться, а каждая поездка уникальна). "
   ]
  },
  {
   "cell_type": "code",
   "execution_count": 32,
   "id": "91c4c68b",
   "metadata": {
    "scrolled": true
   },
   "outputs": [
    {
     "data": {
      "text/html": [
       "<div>\n",
       "<style scoped>\n",
       "    .dataframe tbody tr th:only-of-type {\n",
       "        vertical-align: middle;\n",
       "    }\n",
       "\n",
       "    .dataframe tbody tr th {\n",
       "        vertical-align: top;\n",
       "    }\n",
       "\n",
       "    .dataframe thead th {\n",
       "        text-align: right;\n",
       "    }\n",
       "</style>\n",
       "<table border=\"1\" class=\"dataframe\">\n",
       "  <thead>\n",
       "    <tr style=\"text-align: right;\">\n",
       "      <th></th>\n",
       "      <th>user_id</th>\n",
       "      <th>name</th>\n",
       "      <th>age</th>\n",
       "      <th>city</th>\n",
       "      <th>subscription_type</th>\n",
       "      <th>distance</th>\n",
       "      <th>duration</th>\n",
       "      <th>date</th>\n",
       "      <th>month</th>\n",
       "      <th>minute_price</th>\n",
       "      <th>start_ride_price</th>\n",
       "      <th>subscription_fee</th>\n",
       "    </tr>\n",
       "  </thead>\n",
       "  <tbody>\n",
       "    <tr>\n",
       "      <th>0</th>\n",
       "      <td>1</td>\n",
       "      <td>Кира</td>\n",
       "      <td>22</td>\n",
       "      <td>Тюмень</td>\n",
       "      <td>ultra</td>\n",
       "      <td>4409.919140</td>\n",
       "      <td>25.599769</td>\n",
       "      <td>2021-01-01</td>\n",
       "      <td>1</td>\n",
       "      <td>6</td>\n",
       "      <td>0</td>\n",
       "      <td>199</td>\n",
       "    </tr>\n",
       "    <tr>\n",
       "      <th>1</th>\n",
       "      <td>1</td>\n",
       "      <td>Кира</td>\n",
       "      <td>22</td>\n",
       "      <td>Тюмень</td>\n",
       "      <td>ultra</td>\n",
       "      <td>2617.592153</td>\n",
       "      <td>15.816871</td>\n",
       "      <td>2021-01-18</td>\n",
       "      <td>1</td>\n",
       "      <td>6</td>\n",
       "      <td>0</td>\n",
       "      <td>199</td>\n",
       "    </tr>\n",
       "    <tr>\n",
       "      <th>2</th>\n",
       "      <td>1</td>\n",
       "      <td>Кира</td>\n",
       "      <td>22</td>\n",
       "      <td>Тюмень</td>\n",
       "      <td>ultra</td>\n",
       "      <td>754.159807</td>\n",
       "      <td>6.232113</td>\n",
       "      <td>2021-04-20</td>\n",
       "      <td>4</td>\n",
       "      <td>6</td>\n",
       "      <td>0</td>\n",
       "      <td>199</td>\n",
       "    </tr>\n",
       "    <tr>\n",
       "      <th>3</th>\n",
       "      <td>1</td>\n",
       "      <td>Кира</td>\n",
       "      <td>22</td>\n",
       "      <td>Тюмень</td>\n",
       "      <td>ultra</td>\n",
       "      <td>2694.783254</td>\n",
       "      <td>18.511000</td>\n",
       "      <td>2021-08-11</td>\n",
       "      <td>8</td>\n",
       "      <td>6</td>\n",
       "      <td>0</td>\n",
       "      <td>199</td>\n",
       "    </tr>\n",
       "    <tr>\n",
       "      <th>4</th>\n",
       "      <td>1</td>\n",
       "      <td>Кира</td>\n",
       "      <td>22</td>\n",
       "      <td>Тюмень</td>\n",
       "      <td>ultra</td>\n",
       "      <td>4028.687306</td>\n",
       "      <td>26.265803</td>\n",
       "      <td>2021-08-28</td>\n",
       "      <td>8</td>\n",
       "      <td>6</td>\n",
       "      <td>0</td>\n",
       "      <td>199</td>\n",
       "    </tr>\n",
       "  </tbody>\n",
       "</table>\n",
       "</div>"
      ],
      "text/plain": [
       "   user_id  name  age    city subscription_type     distance   duration  \\\n",
       "0        1  Кира   22  Тюмень             ultra  4409.919140  25.599769   \n",
       "1        1  Кира   22  Тюмень             ultra  2617.592153  15.816871   \n",
       "2        1  Кира   22  Тюмень             ultra   754.159807   6.232113   \n",
       "3        1  Кира   22  Тюмень             ultra  2694.783254  18.511000   \n",
       "4        1  Кира   22  Тюмень             ultra  4028.687306  26.265803   \n",
       "\n",
       "        date  month  minute_price  start_ride_price  subscription_fee  \n",
       "0 2021-01-01      1             6                 0               199  \n",
       "1 2021-01-18      1             6                 0               199  \n",
       "2 2021-04-20      4             6                 0               199  \n",
       "3 2021-08-11      8             6                 0               199  \n",
       "4 2021-08-28      8             6                 0               199  "
      ]
     },
     "metadata": {},
     "output_type": "display_data"
    },
    {
     "data": {
      "text/plain": [
       "18068"
      ]
     },
     "execution_count": 32,
     "metadata": {},
     "output_type": "execute_result"
    }
   ],
   "source": [
    "df = users.merge(rides, on='user_id', how='outer') # объединим первый и второй датафрейм,\n",
    "df = df.merge(subscriptions, on='subscription_type', how='outer') # а затем полученный датафрейм с третьим\n",
    "display(df.head()) # выведем первые 5 строк полученного датафрейма\n",
    "len(df) # проверим количество строк"
   ]
  },
  {
   "cell_type": "code",
   "execution_count": 33,
   "id": "116c6cc0",
   "metadata": {},
   "outputs": [
    {
     "data": {
      "text/plain": [
       "18068"
      ]
     },
     "execution_count": 33,
     "metadata": {},
     "output_type": "execute_result"
    }
   ],
   "source": [
    "len(df) # длина нового датафрейма совпадает с числом поездок"
   ]
  },
  {
   "cell_type": "markdown",
   "id": "0f6005cb",
   "metadata": {},
   "source": [
    "Проверим новый датафрейм на пропущенные значения."
   ]
  },
  {
   "cell_type": "code",
   "execution_count": 34,
   "id": "b3de8d28",
   "metadata": {},
   "outputs": [
    {
     "data": {
      "text/plain": [
       "user_id              0\n",
       "name                 0\n",
       "age                  0\n",
       "city                 0\n",
       "subscription_type    0\n",
       "distance             0\n",
       "duration             0\n",
       "date                 0\n",
       "month                0\n",
       "minute_price         0\n",
       "start_ride_price     0\n",
       "subscription_fee     0\n",
       "dtype: int64"
      ]
     },
     "execution_count": 34,
     "metadata": {},
     "output_type": "execute_result"
    }
   ],
   "source": [
    "df.isna().sum()"
   ]
  },
  {
   "cell_type": "markdown",
   "id": "ce7412bd",
   "metadata": {},
   "source": [
    "Объединение прошло корректно, пропусков не обнаружено."
   ]
  },
  {
   "cell_type": "markdown",
   "id": "f3576400",
   "metadata": {},
   "source": [
    "**4.2 Создание дополнительных датафреймов.**"
   ]
  },
  {
   "cell_type": "code",
   "execution_count": 35,
   "id": "4b7ae518",
   "metadata": {},
   "outputs": [],
   "source": [
    "free_type = df.query('subscription_type == \"free\"') # создадим датафрейм с пользователями без платной подписки"
   ]
  },
  {
   "cell_type": "code",
   "execution_count": 36,
   "id": "823224c7",
   "metadata": {},
   "outputs": [],
   "source": [
    "ultra_type = df.query('subscription_type == \"ultra\"') # создадим датафрейм с пользователями с платной подпиской"
   ]
  },
  {
   "cell_type": "markdown",
   "id": "f0f8d9f4",
   "metadata": {},
   "source": [
    "**4.3 Визуализация информации о времени и расстоянии поездок для клиентов с подпиской и без неё.**"
   ]
  },
  {
   "cell_type": "code",
   "execution_count": 37,
   "id": "e939c52d",
   "metadata": {},
   "outputs": [
    {
     "data": {
      "text/plain": [
       "count    11568.000000\n",
       "mean        17.390909\n",
       "std          6.326803\n",
       "min          0.500000\n",
       "25%         12.958437\n",
       "50%         17.326890\n",
       "75%         21.594071\n",
       "max         34.948498\n",
       "Name: duration, dtype: float64"
      ]
     },
     "execution_count": 37,
     "metadata": {},
     "output_type": "execute_result"
    }
   ],
   "source": [
    "free_type['duration'].describe() # описание длительности поездок в категории free"
   ]
  },
  {
   "cell_type": "code",
   "execution_count": 38,
   "id": "b524b137",
   "metadata": {},
   "outputs": [
    {
     "data": {
      "text/plain": [
       "count    6500.000000\n",
       "mean       18.541985\n",
       "std         5.572048\n",
       "min         3.760353\n",
       "25%        14.524654\n",
       "50%        18.178153\n",
       "75%        21.884129\n",
       "max        40.823963\n",
       "Name: duration, dtype: float64"
      ]
     },
     "execution_count": 38,
     "metadata": {},
     "output_type": "execute_result"
    }
   ],
   "source": [
    "ultra_type['duration'].describe() # описание длительности поездок в категории ultra"
   ]
  },
  {
   "cell_type": "code",
   "execution_count": 39,
   "id": "9bb49267",
   "metadata": {},
   "outputs": [
    {
     "data": {
      "text/plain": [
       "Text(0, 0.5, 'частота встречаемости')"
      ]
     },
     "execution_count": 39,
     "metadata": {},
     "output_type": "execute_result"
    },
    {
     "data": {
      "image/png": "[encoded data removed]",
      "text/plain": [
       "<Figure size 432x288 with 1 Axes>"
      ]
     },
     "metadata": {
      "needs_background": "light"
     },
     "output_type": "display_data"
    }
   ],
   "source": [
    "ax = free_type.plot( # построим гистограмму сразу для двух категорий по данным о длительности поездок\n",
    "    kind='hist',\n",
    "    y='duration',\n",
    "    histtype='step',\n",
    "    range=(2, 35),\n",
    "    bins=32,\n",
    "    linewidth=5,\n",
    "    alpha=0.7,\n",
    "    label='free',\n",
    ")\n",
    "\n",
    "plt.xlabel(\"время в мин.\")\n",
    "\n",
    "ultra_type.plot(\n",
    "    kind='hist',\n",
    "    y='duration',\n",
    "    histtype='step',\n",
    "    range=(5,35),\n",
    "    bins=32,\n",
    "    linewidth=5,\n",
    "    alpha=0.7,\n",
    "    label='ultra',\n",
    "    ax=ax,\n",
    "    grid=True,\n",
    "    legend=True,\n",
    ").set(title='Гистограмма продолжительности поездок')\n",
    "plt.xlabel(\"время в мин.\")\n",
    "plt.ylabel(\"частота встречаемости\")"
   ]
  },
  {
   "cell_type": "markdown",
   "id": "e8e22883",
   "metadata": {},
   "source": [
    "На основе полученных данных можно сказать, что время поездки распределено примерно одинаково для двух категорий, с поправкой на разное количество людей с подпиской и без."
   ]
  },
  {
   "cell_type": "code",
   "execution_count": 40,
   "id": "b2e272bb",
   "metadata": {},
   "outputs": [
    {
     "data": {
      "text/plain": [
       "count    11568.000000\n",
       "mean      3045.495282\n",
       "std       1246.173806\n",
       "min          0.855683\n",
       "25%       2366.562689\n",
       "50%       3114.648465\n",
       "75%       3905.697894\n",
       "max       7211.007745\n",
       "Name: distance, dtype: float64"
      ]
     },
     "execution_count": 40,
     "metadata": {},
     "output_type": "execute_result"
    }
   ],
   "source": [
    "free_type['distance'].describe() # описание дистаниций поездок в категории free"
   ]
  },
  {
   "cell_type": "code",
   "execution_count": 41,
   "id": "36658651",
   "metadata": {},
   "outputs": [
    {
     "data": {
      "text/plain": [
       "count    6500.000000\n",
       "mean     3115.445388\n",
       "std       836.895330\n",
       "min       244.210438\n",
       "25%      2785.444017\n",
       "50%      3148.637229\n",
       "75%      3560.574425\n",
       "max      5699.769662\n",
       "Name: distance, dtype: float64"
      ]
     },
     "execution_count": 41,
     "metadata": {},
     "output_type": "execute_result"
    }
   ],
   "source": [
    "ultra_type['distance'].describe() # описание дистаниций поездок в категории ultra"
   ]
  },
  {
   "cell_type": "code",
   "execution_count": 42,
   "id": "5af8210d",
   "metadata": {},
   "outputs": [
    {
     "data": {
      "text/plain": [
       "Text(0, 0.5, 'частота встречаемости')"
      ]
     },
     "execution_count": 42,
     "metadata": {},
     "output_type": "execute_result"
    },
    {
     "data": {
      "image/png": "[encoded data removed]",
      "text/plain": [
       "<Figure size 432x288 with 1 Axes>"
      ]
     },
     "metadata": {
      "needs_background": "light"
     },
     "output_type": "display_data"
    }
   ],
   "source": [
    "ax_2 = free_type.plot( # построим гистограмму сразу для двух категорий по данным о расстояниях\n",
    "    kind='hist',\n",
    "    y='distance',\n",
    "    histtype='step',\n",
    "    range=(300, 5991),\n",
    "    bins=30,\n",
    "    linewidth=5,\n",
    "    alpha=0.7,\n",
    "    label='free',\n",
    ")\n",
    "\n",
    "ultra_type.plot(\n",
    "    kind='hist',\n",
    "    y='distance',\n",
    "    histtype='step',\n",
    "    range=(307,5700),\n",
    "    bins=30,\n",
    "    linewidth=5,\n",
    "    alpha=0.7,\n",
    "    label='ultra',\n",
    "    ax=ax_2,\n",
    "    grid=True,\n",
    "    legend=True,\n",
    ").set(title='Гистограмма дальности поездок')\n",
    "plt.xlabel(\"расстояние в м.\")\n",
    "plt.ylabel(\"частота встречаемости\")"
   ]
  },
  {
   "cell_type": "markdown",
   "id": "834de514",
   "metadata": {},
   "source": [
    "По полученным данным для двух категорий, можно отметить, что распределение пользоватаелей с подпиской имеет более \"нормальный\" вид, но в целом для двух категорий наблюдаются примерные одинаковые тенденции со средней дистанцией поездки и максимальным и минимальным её значениями."
   ]
  },
  {
   "cell_type": "markdown",
   "id": "402d620f",
   "metadata": {},
   "source": [
    "#### Шаг 5. Подсчёт выручки"
   ]
  },
  {
   "cell_type": "markdown",
   "id": "6dfaf434",
   "metadata": {},
   "source": [
    "**5.1  Создание датафрейма с агрегированными данными о поездках для каждого пользователя.**"
   ]
  },
  {
   "cell_type": "code",
   "execution_count": 43,
   "id": "c01bee6a",
   "metadata": {},
   "outputs": [
    {
     "data": {
      "text/html": [
       "<div>\n",
       "<style scoped>\n",
       "    .dataframe tbody tr th:only-of-type {\n",
       "        vertical-align: middle;\n",
       "    }\n",
       "\n",
       "    .dataframe tbody tr th {\n",
       "        vertical-align: top;\n",
       "    }\n",
       "\n",
       "    .dataframe thead th {\n",
       "        text-align: right;\n",
       "    }\n",
       "</style>\n",
       "<table border=\"1\" class=\"dataframe\">\n",
       "  <thead>\n",
       "    <tr style=\"text-align: right;\">\n",
       "      <th></th>\n",
       "      <th>user_id</th>\n",
       "      <th>month</th>\n",
       "      <th>subscription_type</th>\n",
       "      <th>distance_sum</th>\n",
       "      <th>distance_count</th>\n",
       "      <th>duration_sum</th>\n",
       "    </tr>\n",
       "  </thead>\n",
       "  <tbody>\n",
       "    <tr>\n",
       "      <th>0</th>\n",
       "      <td>1</td>\n",
       "      <td>1</td>\n",
       "      <td>ultra</td>\n",
       "      <td>7027.511294</td>\n",
       "      <td>2</td>\n",
       "      <td>42.0</td>\n",
       "    </tr>\n",
       "    <tr>\n",
       "      <th>1</th>\n",
       "      <td>1</td>\n",
       "      <td>4</td>\n",
       "      <td>ultra</td>\n",
       "      <td>754.159807</td>\n",
       "      <td>1</td>\n",
       "      <td>7.0</td>\n",
       "    </tr>\n",
       "    <tr>\n",
       "      <th>2</th>\n",
       "      <td>1</td>\n",
       "      <td>8</td>\n",
       "      <td>ultra</td>\n",
       "      <td>6723.470560</td>\n",
       "      <td>2</td>\n",
       "      <td>45.0</td>\n",
       "    </tr>\n",
       "    <tr>\n",
       "      <th>3</th>\n",
       "      <td>1</td>\n",
       "      <td>10</td>\n",
       "      <td>ultra</td>\n",
       "      <td>5809.911100</td>\n",
       "      <td>2</td>\n",
       "      <td>32.0</td>\n",
       "    </tr>\n",
       "    <tr>\n",
       "      <th>4</th>\n",
       "      <td>1</td>\n",
       "      <td>11</td>\n",
       "      <td>ultra</td>\n",
       "      <td>7003.499363</td>\n",
       "      <td>3</td>\n",
       "      <td>54.0</td>\n",
       "    </tr>\n",
       "  </tbody>\n",
       "</table>\n",
       "</div>"
      ],
      "text/plain": [
       "   user_id  month subscription_type  distance_sum  distance_count  \\\n",
       "0        1      1             ultra   7027.511294               2   \n",
       "1        1      4             ultra    754.159807               1   \n",
       "2        1      8             ultra   6723.470560               2   \n",
       "3        1     10             ultra   5809.911100               2   \n",
       "4        1     11             ultra   7003.499363               3   \n",
       "\n",
       "   duration_sum  \n",
       "0          42.0  \n",
       "1           7.0  \n",
       "2          45.0  \n",
       "3          32.0  \n",
       "4          54.0  "
      ]
     },
     "execution_count": 43,
     "metadata": {},
     "output_type": "execute_result"
    }
   ],
   "source": [
    "sum_df = (\n",
    "    df.groupby(['user_id', 'month', 'subscription_type'], as_index=False)  #сгруппируем данные по нескольким столбцам\n",
    "    .agg({'distance':['sum', 'count'], 'duration':'sum'})\n",
    ")#посчитав суммарную дистанцию, количество поездок и общую длительность\n",
    "sum_df['duration'] = np.ceil(sum_df['duration']) # округлим значения продолжительности поездок\n",
    "sum_df.columns = sum_df.columns.map('_'.join) #избавимся от мультииндекса и переименуем столбцы, убрав лишние подчёркивания\n",
    "sum_df = sum_df.rename(columns={'user_id_':'user_id', 'month_': 'month', 'subscription_type_': 'subscription_type'})\n",
    "sum_df.head() "
   ]
  },
  {
   "cell_type": "markdown",
   "id": "79e1948a",
   "metadata": {},
   "source": [
    "**5.2 Расчёт помесячной выручки с каждого пользователя.**"
   ]
  },
  {
   "cell_type": "code",
   "execution_count": 44,
   "id": "e913ff5c",
   "metadata": {},
   "outputs": [
    {
     "data": {
      "text/html": [
       "<div>\n",
       "<style scoped>\n",
       "    .dataframe tbody tr th:only-of-type {\n",
       "        vertical-align: middle;\n",
       "    }\n",
       "\n",
       "    .dataframe tbody tr th {\n",
       "        vertical-align: top;\n",
       "    }\n",
       "\n",
       "    .dataframe thead th {\n",
       "        text-align: right;\n",
       "    }\n",
       "</style>\n",
       "<table border=\"1\" class=\"dataframe\">\n",
       "  <thead>\n",
       "    <tr style=\"text-align: right;\">\n",
       "      <th></th>\n",
       "      <th>subscription_type</th>\n",
       "      <th>minute_price</th>\n",
       "      <th>start_ride_price</th>\n",
       "      <th>subscription_fee</th>\n",
       "    </tr>\n",
       "  </thead>\n",
       "  <tbody>\n",
       "    <tr>\n",
       "      <th>0</th>\n",
       "      <td>free</td>\n",
       "      <td>8</td>\n",
       "      <td>50</td>\n",
       "      <td>0</td>\n",
       "    </tr>\n",
       "    <tr>\n",
       "      <th>1</th>\n",
       "      <td>ultra</td>\n",
       "      <td>6</td>\n",
       "      <td>0</td>\n",
       "      <td>199</td>\n",
       "    </tr>\n",
       "  </tbody>\n",
       "</table>\n",
       "</div>"
      ],
      "text/plain": [
       "  subscription_type  minute_price  start_ride_price  subscription_fee\n",
       "0              free             8                50                 0\n",
       "1             ultra             6                 0               199"
      ]
     },
     "metadata": {},
     "output_type": "display_data"
    }
   ],
   "source": [
    "display(subscriptions) # напомним условия использования сервиса с подпиской и без"
   ]
  },
  {
   "cell_type": "markdown",
   "id": "99c60346",
   "metadata": {},
   "source": [
    "Воспользуемся методом loc и добавим столбец revenue с расчётами помесячной выручки для двух типов подписок."
   ]
  },
  {
   "cell_type": "code",
   "execution_count": 45,
   "id": "7faf7e89",
   "metadata": {},
   "outputs": [
    {
     "data": {
      "text/html": [
       "<div>\n",
       "<style scoped>\n",
       "    .dataframe tbody tr th:only-of-type {\n",
       "        vertical-align: middle;\n",
       "    }\n",
       "\n",
       "    .dataframe tbody tr th {\n",
       "        vertical-align: top;\n",
       "    }\n",
       "\n",
       "    .dataframe thead th {\n",
       "        text-align: right;\n",
       "    }\n",
       "</style>\n",
       "<table border=\"1\" class=\"dataframe\">\n",
       "  <thead>\n",
       "    <tr style=\"text-align: right;\">\n",
       "      <th></th>\n",
       "      <th>user_id</th>\n",
       "      <th>month</th>\n",
       "      <th>subscription_type</th>\n",
       "      <th>distance_sum</th>\n",
       "      <th>distance_count</th>\n",
       "      <th>duration_sum</th>\n",
       "      <th>revenue</th>\n",
       "    </tr>\n",
       "  </thead>\n",
       "  <tbody>\n",
       "    <tr>\n",
       "      <th>0</th>\n",
       "      <td>1</td>\n",
       "      <td>1</td>\n",
       "      <td>ultra</td>\n",
       "      <td>7027.511294</td>\n",
       "      <td>2</td>\n",
       "      <td>42.0</td>\n",
       "      <td>451.0</td>\n",
       "    </tr>\n",
       "    <tr>\n",
       "      <th>1</th>\n",
       "      <td>1</td>\n",
       "      <td>4</td>\n",
       "      <td>ultra</td>\n",
       "      <td>754.159807</td>\n",
       "      <td>1</td>\n",
       "      <td>7.0</td>\n",
       "      <td>241.0</td>\n",
       "    </tr>\n",
       "    <tr>\n",
       "      <th>2</th>\n",
       "      <td>1</td>\n",
       "      <td>8</td>\n",
       "      <td>ultra</td>\n",
       "      <td>6723.470560</td>\n",
       "      <td>2</td>\n",
       "      <td>45.0</td>\n",
       "      <td>469.0</td>\n",
       "    </tr>\n",
       "    <tr>\n",
       "      <th>3</th>\n",
       "      <td>1</td>\n",
       "      <td>10</td>\n",
       "      <td>ultra</td>\n",
       "      <td>5809.911100</td>\n",
       "      <td>2</td>\n",
       "      <td>32.0</td>\n",
       "      <td>391.0</td>\n",
       "    </tr>\n",
       "    <tr>\n",
       "      <th>4</th>\n",
       "      <td>1</td>\n",
       "      <td>11</td>\n",
       "      <td>ultra</td>\n",
       "      <td>7003.499363</td>\n",
       "      <td>3</td>\n",
       "      <td>54.0</td>\n",
       "      <td>523.0</td>\n",
       "    </tr>\n",
       "  </tbody>\n",
       "</table>\n",
       "</div>"
      ],
      "text/plain": [
       "   user_id  month subscription_type  distance_sum  distance_count  \\\n",
       "0        1      1             ultra   7027.511294               2   \n",
       "1        1      4             ultra    754.159807               1   \n",
       "2        1      8             ultra   6723.470560               2   \n",
       "3        1     10             ultra   5809.911100               2   \n",
       "4        1     11             ultra   7003.499363               3   \n",
       "\n",
       "   duration_sum  revenue  \n",
       "0          42.0    451.0  \n",
       "1           7.0    241.0  \n",
       "2          45.0    469.0  \n",
       "3          32.0    391.0  \n",
       "4          54.0    523.0  "
      ]
     },
     "execution_count": 45,
     "metadata": {},
     "output_type": "execute_result"
    }
   ],
   "source": [
    "sum_df.loc[sum_df['subscription_type'] == 'free', 'revenue'] = 50*sum_df['distance_count'] + 8*sum_df['duration_sum'] \n",
    "sum_df.loc[sum_df['subscription_type'] == 'ultra', 'revenue'] = 6*sum_df['duration_sum'] + 199\n",
    "sum_df.head()"
   ]
  },
  {
   "cell_type": "code",
   "execution_count": 46,
   "id": "d4ef55d1",
   "metadata": {},
   "outputs": [
    {
     "data": {
      "text/plain": [
       "count    11331.000000\n",
       "mean       340.100344\n",
       "std        151.127485\n",
       "min         58.000000\n",
       "25%        234.000000\n",
       "50%        319.000000\n",
       "75%        412.000000\n",
       "max       1428.000000\n",
       "Name: revenue, dtype: float64"
      ]
     },
     "execution_count": 46,
     "metadata": {},
     "output_type": "execute_result"
    }
   ],
   "source": [
    "sum_df['revenue'].describe() # оценим, как распределена выручка в полученных данных"
   ]
  },
  {
   "cell_type": "markdown",
   "id": "74675073",
   "metadata": {},
   "source": [
    "По полученным данным можно отметить, что минимальное значение помесячной выручки составило 74 рубля, а максимальное - 1350 рублей. Средняя сумма помесячной выручки составила 339 рублей."
   ]
  },
  {
   "cell_type": "markdown",
   "id": "41545ac0",
   "metadata": {},
   "source": [
    "#### Шаг 6. Проверка гипотез"
   ]
  },
  {
   "cell_type": "markdown",
   "id": "07ba9c1b",
   "metadata": {},
   "source": [
    "**6.1 Сравнение времени поездок для двух категорий пользователей.**"
   ]
  },
  {
   "cell_type": "code",
   "execution_count": 47,
   "id": "efbe3732",
   "metadata": {},
   "outputs": [
    {
     "data": {
      "text/plain": [
       "17.39090929866399"
      ]
     },
     "execution_count": 47,
     "metadata": {},
     "output_type": "execute_result"
    }
   ],
   "source": [
    "df.query('subscription_type == \"free\"')['duration'].mean()"
   ]
  },
  {
   "cell_type": "markdown",
   "id": "1300f5cc",
   "metadata": {},
   "source": [
    "*Сформулируем нулевую и альтернативную гипотезы.*"
   ]
  },
  {
   "cell_type": "markdown",
   "id": "5960982d",
   "metadata": {},
   "source": [
    "* H0 - пользователи с подпиской тратят меньшее либо равное время на поездки, чем пользователи без подписки;\n",
    "* H1 - пользователи с подпиской тратят значимо большее время на поездки."
   ]
  },
  {
   "cell_type": "code",
   "execution_count": 48,
   "id": "3eb2f958",
   "metadata": {},
   "outputs": [],
   "source": [
    "alpha = 0.05 # уровень статистической значимости"
   ]
  },
  {
   "cell_type": "code",
   "execution_count": 49,
   "id": "74164677",
   "metadata": {},
   "outputs": [],
   "source": [
    "ultra_dur_group = df.query('subscription_type == \"ultra\"')['duration'] # сделаем срезы по длительности поездок для пользователей\n",
    "free_dur_group = df.query('subscription_type == \"free\"')['duration'] # с подпиской и без подписки"
   ]
  },
  {
   "cell_type": "markdown",
   "id": "b4457cb1",
   "metadata": {},
   "source": [
    "Проверим одностороннюю гипотезу для средних двух генеральных совокупностей."
   ]
  },
  {
   "cell_type": "code",
   "execution_count": 50,
   "id": "47c894dc",
   "metadata": {},
   "outputs": [
    {
     "name": "stdout",
     "output_type": "stream",
     "text": [
      "p-значение: 1.2804098316645618e-34\n",
      "Отвергаем нулевую гипотезу\n"
     ]
    }
   ],
   "source": [
    "results = st.ttest_ind(ultra_dur_group, free_dur_group, alternative='greater')\n",
    "print('p-значение:', results.pvalue)\n",
    "if results.pvalue < alpha:\n",
    "    print('Отвергаем нулевую гипотезу')\n",
    "else:\n",
    "    print('Нет оснований отвергнуть нулевую гипотезу') "
   ]
  },
  {
   "cell_type": "markdown",
   "id": "3ce2b032",
   "metadata": {},
   "source": [
    "Не будем использовать дополнительный параметр equal_var=False, потому что у нас достаточно большие и примерно одинаковые по размеру выборки, к тому же в обеих измерена одна и та же переменная. Нет оснований полагать, что разброс будет сильно отличаться."
   ]
  },
  {
   "cell_type": "markdown",
   "id": "26254006",
   "metadata": {},
   "source": [
    "Таким образом, получается, что пользователи с подпиской действительно тратят больше времени на поездки в среднем чем пользователи без подписки."
   ]
  },
  {
   "cell_type": "markdown",
   "id": "6757a08d",
   "metadata": {},
   "source": [
    "**6.2 Проверка гипотезы о среднем расстоянии поездок пользователей.**"
   ]
  },
  {
   "cell_type": "markdown",
   "id": "4deae2f3",
   "metadata": {},
   "source": [
    "Сформулируем нулевую и альтернативную гипотезы."
   ]
  },
  {
   "cell_type": "markdown",
   "id": "16ec9e91",
   "metadata": {},
   "source": [
    "* H0 - расстояние, которое проезжают пользователи с подпиской за одну поездку меньше или равно 3130 метров;\n",
    "* H1 - расстояние, которое проезжают пользователи с подпиской за одну поездку значимо больше 3130 метров."
   ]
  },
  {
   "cell_type": "code",
   "execution_count": 51,
   "id": "8feed048",
   "metadata": {},
   "outputs": [],
   "source": [
    "interested_value = 3130 # оптимальное расстояние одной поездки\n",
    "alpha = 0.05 # укажите уровень статистической значимости\n",
    "ultra_distance = df.query('subscription_type == \"ultra\"')['distance'] # срез по дальности поездок подписчиков сервиса "
   ]
  },
  {
   "cell_type": "code",
   "execution_count": 52,
   "id": "cc6161aa",
   "metadata": {},
   "outputs": [],
   "source": [
    "results_2 = st.ttest_1samp(ultra_distance, interested_value, alternative='greater') "
   ]
  },
  {
   "cell_type": "code",
   "execution_count": 53,
   "id": "036f8a08",
   "metadata": {},
   "outputs": [
    {
     "name": "stdout",
     "output_type": "stream",
     "text": [
      "p-значение: 0.9195368847849785\n",
      "Не получилось отвергнуть нулевую гипотезу: пользователи ultra проезжают не более 3130 метров в среднем.\n"
     ]
    }
   ],
   "source": [
    "print('p-значение:', results_2.pvalue) # выведем p-value\n",
    "if results_2.pvalue < alpha: # сравним полученный p-value и уровень значимости\n",
    "    print('Отвергаем нулевую гипотезу: среднее расстояние значимо больше 3130 метров')\n",
    "else:\n",
    "    print('Не получилось отвергнуть нулевую гипотезу: пользователи ultra проезжают не более 3130 метров в среднем.')"
   ]
  },
  {
   "cell_type": "markdown",
   "id": "6f4ee089",
   "metadata": {},
   "source": [
    "**6.3 Сравнение помесячной выручки по категориям.**"
   ]
  },
  {
   "cell_type": "markdown",
   "id": "9a8475ac",
   "metadata": {},
   "source": [
    "Сформулируем нулевую и альтернативную гипотезы."
   ]
  },
  {
   "cell_type": "markdown",
   "id": "7346056f",
   "metadata": {},
   "source": [
    "* H0 - пользователи с подпиской приносят меньшую либо равную выручку, чем пользователи без подписки;\n",
    "* H1 - пользователи с подпиской приносят значимо большую выручку, чем пользователи без неё."
   ]
  },
  {
   "cell_type": "code",
   "execution_count": 54,
   "id": "d7bca3cd",
   "metadata": {},
   "outputs": [],
   "source": [
    "alpha = 0.05 # уровень статистической значимости"
   ]
  },
  {
   "cell_type": "code",
   "execution_count": 55,
   "id": "cb57d106",
   "metadata": {},
   "outputs": [],
   "source": [
    "ultra_rev_group = sum_df.query('subscription_type == \"ultra\"')['revenue'] # сделаем срезы по помесячной выручке\n",
    "free_rev_group = sum_df.query('subscription_type == \"free\"')['revenue'] # для пользователей с подпиской и без подписки"
   ]
  },
  {
   "cell_type": "markdown",
   "id": "b3f4e0a7",
   "metadata": {},
   "source": [
    "Проверим одностороннюю гипотезу для средних двух генеральных совокупностей."
   ]
  },
  {
   "cell_type": "code",
   "execution_count": 56,
   "id": "71e13449",
   "metadata": {},
   "outputs": [
    {
     "name": "stdout",
     "output_type": "stream",
     "text": [
      "p-значение: 1.0718729651261336e-44\n",
      "Отвергаем нулевую гипотезу\n"
     ]
    }
   ],
   "source": [
    "results_3 = st.ttest_ind(ultra_rev_group, free_rev_group, equal_var=False, alternative='greater')\n",
    "print('p-значение:', results_3.pvalue)\n",
    "if results_3.pvalue < alpha:\n",
    "    print('Отвергаем нулевую гипотезу')\n",
    "else:\n",
    "    print('Нет оснований отвергнуть нулевую гипотезу') "
   ]
  },
  {
   "cell_type": "markdown",
   "id": "adcfe2da",
   "metadata": {},
   "source": [
    "Тест показывает, что пользователи с подпиской приносят большую помесячную выручку, чем пользователи без подписки. Оценим также эти данные с помощью средних значений выручки для каждой категории."
   ]
  },
  {
   "cell_type": "code",
   "execution_count": 57,
   "id": "7598bafd",
   "metadata": {},
   "outputs": [
    {
     "data": {
      "text/plain": [
       "361.48180013236265"
      ]
     },
     "execution_count": 57,
     "metadata": {},
     "output_type": "execute_result"
    }
   ],
   "source": [
    "sum_df.loc[sum_df['subscription_type'] == 'ultra', 'revenue'].mean() # средняя выручка пользователей ultra"
   ]
  },
  {
   "cell_type": "code",
   "execution_count": 58,
   "id": "1f3102f0",
   "metadata": {},
   "outputs": [
    {
     "data": {
      "text/plain": [
       "325.84289496910856"
      ]
     },
     "execution_count": 58,
     "metadata": {},
     "output_type": "execute_result"
    }
   ],
   "source": [
    "sum_df.loc[sum_df['subscription_type'] == 'free', 'revenue'].mean() # средняя выручка пользователей free"
   ]
  },
  {
   "cell_type": "markdown",
   "id": "174ddcfd",
   "metadata": {},
   "source": [
    "Таким образом, пользователи с подпиской действительно приносят большую выручку, чем пользователи без подписки."
   ]
  },
  {
   "cell_type": "markdown",
   "id": "948643ed",
   "metadata": {},
   "source": [
    "**6.4 Ответ на вопрос об обновлении сервера.**"
   ]
  },
  {
   "cell_type": "markdown",
   "id": "fc682b23",
   "metadata": {},
   "source": [
    "Для проверки гипотезы о снижении количества обращений в поддержку после обновления серверов подойдёт двухвыборочный t-тест для зависимых выборок. Мы будем проверять одностороннюю гипотезу о снижении количества обращений после обновления."
   ]
  },
  {
   "cell_type": "markdown",
   "id": "9fb55a9f",
   "metadata": {},
   "source": [
    "**ВЫВОДЫ:**"
   ]
  },
  {
   "cell_type": "markdown",
   "id": "8af0c785",
   "metadata": {},
   "source": [
    "В данной работе было проведено исследование о пользователях сервиса аренды самокатов GoFast. В начале исследования обнаружено, что в предоставленных данных примерно одинаковое число пользователей с платной подпиской и без неё (46% и 54% соответсвенно).\n",
    "На следующих этапах проведена оценка возраста пользователей (средний возраст составил примерно 25 лет), расстояния одной поездки (в среднем 3070 метров) и её длительность (около 18 минут).\n",
    "\n",
    "Далее полученные данные были поделены на два датафрейма (пользователи с подпиской и без неё). Проанализировав данные этих датафреймов, можно отметить, что среднее время поездки подписчика ultra и пользователя free тарифа составило 18.5 и 17.7 секунд соответсвенно, а среднее расстояние поездки - 3111 и 3092 метра соответсвенно.\n",
    "\n",
    "Затем на основании созданного датафрейма с агрегированными данными о поездках для каждого пользователя был произведен рассчёт помесячной выручки, который показал что среднее её значение составляет 339 рублей (при минимальном - 74 рубля и максимальном - 1350 рублей).\n",
    "\n",
    "На завершающем этапе были сформулированы 3 гипотезы о поведении пользователей с подпиской и без. После проведенного анализа, отметим, что:\n",
    "- пользователи с подпиской ultra тратят больше времени на поездки в среднем чем пользователи без подписки (на 1 минуту);\n",
    "- расстояние, которое проезжают пользователи с подпиской ultra за одну поездку, обычно не превышает 3130 метров;\n",
    "- пользователи с подпиской приносят большую помесячную выручку, чем пользователи без подписки (в среднем более чем на 30 рублей).\n",
    "\n",
    "Таким образом сервису стоит увеличивать количество платных подписчиков за счёт проведения акций."
   ]
  }
 ],
 "metadata": {
  "ExecuteTimeLog": [
   {
    "duration": 773,
    "start_time": "2024-04-25T15:58:13.502Z"
   },
   {
    "duration": 301,
    "start_time": "2024-04-25T15:58:16.102Z"
   },
   {
    "duration": 12,
    "start_time": "2024-04-25T16:01:04.958Z"
   },
   {
    "duration": 7,
    "start_time": "2024-04-25T16:01:06.372Z"
   },
   {
    "duration": 6,
    "start_time": "2024-04-25T16:01:07.156Z"
   },
   {
    "duration": 7,
    "start_time": "2024-04-25T16:01:34.788Z"
   },
   {
    "duration": 7,
    "start_time": "2024-04-25T16:01:47.742Z"
   },
   {
    "duration": 6,
    "start_time": "2024-04-25T16:01:51.702Z"
   },
   {
    "duration": 9,
    "start_time": "2024-04-25T16:04:08.307Z"
   },
   {
    "duration": 9,
    "start_time": "2024-04-25T16:05:16.460Z"
   },
   {
    "duration": 9,
    "start_time": "2024-04-25T16:05:16.926Z"
   },
   {
    "duration": 6,
    "start_time": "2024-04-25T16:34:26.264Z"
   },
   {
    "duration": 12,
    "start_time": "2024-04-25T16:34:55.800Z"
   },
   {
    "duration": 24,
    "start_time": "2024-04-25T16:35:23.899Z"
   },
   {
    "duration": 9,
    "start_time": "2024-04-25T16:35:31.819Z"
   },
   {
    "duration": 79,
    "start_time": "2024-04-25T16:37:24.566Z"
   },
   {
    "duration": 4,
    "start_time": "2024-04-25T16:37:37.463Z"
   },
   {
    "duration": 9,
    "start_time": "2024-04-25T16:38:10.192Z"
   },
   {
    "duration": 4,
    "start_time": "2024-04-25T16:38:21.583Z"
   },
   {
    "duration": 5,
    "start_time": "2024-04-25T16:52:52.793Z"
   },
   {
    "duration": 5,
    "start_time": "2024-04-25T16:53:59.459Z"
   },
   {
    "duration": 5,
    "start_time": "2024-04-25T16:55:08.743Z"
   },
   {
    "duration": 8,
    "start_time": "2024-04-25T16:55:31.352Z"
   },
   {
    "duration": 5,
    "start_time": "2024-04-25T16:57:18.381Z"
   },
   {
    "duration": 5,
    "start_time": "2024-04-25T16:57:42.997Z"
   },
   {
    "duration": 3,
    "start_time": "2024-04-25T17:28:21.381Z"
   },
   {
    "duration": 5,
    "start_time": "2024-04-25T17:29:36.654Z"
   },
   {
    "duration": 8,
    "start_time": "2024-04-25T17:30:49.658Z"
   },
   {
    "duration": 6,
    "start_time": "2024-04-25T17:31:09.226Z"
   },
   {
    "duration": 6,
    "start_time": "2024-04-25T17:31:23.923Z"
   },
   {
    "duration": 462,
    "start_time": "2024-04-25T17:35:52.413Z"
   },
   {
    "duration": 94,
    "start_time": "2024-04-25T17:36:08.357Z"
   },
   {
    "duration": 24,
    "start_time": "2024-04-25T17:40:32.424Z"
   },
   {
    "duration": 11,
    "start_time": "2024-04-25T17:41:09.674Z"
   },
   {
    "duration": 95,
    "start_time": "2024-04-25T17:41:58.116Z"
   },
   {
    "duration": 98,
    "start_time": "2024-04-25T17:42:05.899Z"
   },
   {
    "duration": 97,
    "start_time": "2024-04-25T17:42:19.212Z"
   },
   {
    "duration": 136,
    "start_time": "2024-04-25T17:46:44.525Z"
   },
   {
    "duration": 99,
    "start_time": "2024-04-25T17:46:50.678Z"
   },
   {
    "duration": 94,
    "start_time": "2024-04-25T17:50:05.621Z"
   },
   {
    "duration": 95,
    "start_time": "2024-04-25T17:50:14.717Z"
   },
   {
    "duration": 95,
    "start_time": "2024-04-25T17:50:20.333Z"
   },
   {
    "duration": 7,
    "start_time": "2024-04-25T17:51:57.178Z"
   },
   {
    "duration": 3,
    "start_time": "2024-04-25T17:52:36.705Z"
   },
   {
    "duration": 97,
    "start_time": "2024-04-25T17:52:43.259Z"
   },
   {
    "duration": 132,
    "start_time": "2024-04-25T17:53:13.908Z"
   },
   {
    "duration": 15724,
    "start_time": "2024-04-25T18:03:14.925Z"
   },
   {
    "duration": 19444,
    "start_time": "2024-04-25T18:03:40.229Z"
   },
   {
    "duration": 5,
    "start_time": "2024-04-25T18:04:40.145Z"
   },
   {
    "duration": 11,
    "start_time": "2024-04-25T18:04:58.584Z"
   },
   {
    "duration": 1132,
    "start_time": "2024-04-25T18:16:53.258Z"
   },
   {
    "duration": 11,
    "start_time": "2024-04-25T18:17:08.155Z"
   },
   {
    "duration": 46,
    "start_time": "2024-04-25T18:19:42.271Z"
   },
   {
    "duration": 15,
    "start_time": "2024-04-25T18:20:00.128Z"
   },
   {
    "duration": 6,
    "start_time": "2024-04-25T18:21:14.868Z"
   },
   {
    "duration": 107,
    "start_time": "2024-04-25T18:21:30.068Z"
   },
   {
    "duration": 5,
    "start_time": "2024-04-25T18:23:49.017Z"
   },
   {
    "duration": 3,
    "start_time": "2024-04-25T18:24:59.539Z"
   },
   {
    "duration": 4,
    "start_time": "2024-04-25T18:25:10.179Z"
   },
   {
    "duration": 7,
    "start_time": "2024-04-25T18:25:44.053Z"
   },
   {
    "duration": 4,
    "start_time": "2024-04-25T18:26:26.398Z"
   },
   {
    "duration": 80,
    "start_time": "2024-04-25T18:26:40.326Z"
   },
   {
    "duration": 9,
    "start_time": "2024-04-25T18:48:46.718Z"
   },
   {
    "duration": 5,
    "start_time": "2024-04-25T18:49:13.157Z"
   },
   {
    "duration": 5,
    "start_time": "2024-04-25T18:49:57.281Z"
   },
   {
    "duration": 93,
    "start_time": "2024-04-25T18:50:42.514Z"
   },
   {
    "duration": 81,
    "start_time": "2024-04-25T18:50:57.914Z"
   },
   {
    "duration": 101,
    "start_time": "2024-04-25T18:51:04.090Z"
   },
   {
    "duration": 8,
    "start_time": "2024-04-25T18:56:10.005Z"
   },
   {
    "duration": 1076,
    "start_time": "2024-04-25T18:59:31.940Z"
   },
   {
    "duration": 9,
    "start_time": "2024-04-25T19:00:46.934Z"
   },
   {
    "duration": 9,
    "start_time": "2024-04-25T19:01:47.088Z"
   },
   {
    "duration": 8,
    "start_time": "2024-04-25T19:05:06.189Z"
   },
   {
    "duration": 1179,
    "start_time": "2024-04-25T19:05:47.504Z"
   },
   {
    "duration": 93,
    "start_time": "2024-04-25T19:06:42.770Z"
   },
   {
    "duration": 7,
    "start_time": "2024-04-25T19:07:41.422Z"
   },
   {
    "duration": 14,
    "start_time": "2024-04-25T19:11:32.104Z"
   },
   {
    "duration": 15,
    "start_time": "2024-04-25T19:11:55.881Z"
   },
   {
    "duration": 13,
    "start_time": "2024-04-25T19:12:14.796Z"
   },
   {
    "duration": 113,
    "start_time": "2024-04-25T19:13:00.501Z"
   },
   {
    "duration": 119,
    "start_time": "2024-04-25T19:15:25.028Z"
   },
   {
    "duration": 6,
    "start_time": "2024-04-25T19:20:54.499Z"
   },
   {
    "duration": 1441,
    "start_time": "2024-04-26T18:46:20.891Z"
   },
   {
    "duration": 310,
    "start_time": "2024-04-26T18:46:22.334Z"
   },
   {
    "duration": 13,
    "start_time": "2024-04-26T18:46:22.646Z"
   },
   {
    "duration": 9,
    "start_time": "2024-04-26T18:46:22.661Z"
   },
   {
    "duration": 20,
    "start_time": "2024-04-26T18:46:22.673Z"
   },
   {
    "duration": 35,
    "start_time": "2024-04-26T18:46:22.694Z"
   },
   {
    "duration": 15,
    "start_time": "2024-04-26T18:46:22.731Z"
   },
   {
    "duration": 7,
    "start_time": "2024-04-26T18:46:22.748Z"
   },
   {
    "duration": 13,
    "start_time": "2024-04-26T18:46:22.757Z"
   },
   {
    "duration": 14,
    "start_time": "2024-04-26T18:46:22.772Z"
   },
   {
    "duration": 7,
    "start_time": "2024-04-26T18:46:22.788Z"
   },
   {
    "duration": 7,
    "start_time": "2024-04-26T18:46:22.797Z"
   },
   {
    "duration": 10,
    "start_time": "2024-04-26T18:46:22.805Z"
   },
   {
    "duration": 7,
    "start_time": "2024-04-26T18:46:22.817Z"
   },
   {
    "duration": 7,
    "start_time": "2024-04-26T18:46:22.825Z"
   },
   {
    "duration": 7,
    "start_time": "2024-04-26T18:46:22.833Z"
   },
   {
    "duration": 215,
    "start_time": "2024-04-26T18:46:22.841Z"
   },
   {
    "duration": 195,
    "start_time": "2024-04-26T18:46:23.058Z"
   },
   {
    "duration": 24,
    "start_time": "2024-04-26T18:46:23.254Z"
   },
   {
    "duration": 3,
    "start_time": "2024-04-26T18:46:26.569Z"
   },
   {
    "duration": 70,
    "start_time": "2024-04-26T18:46:27.855Z"
   },
   {
    "duration": 9,
    "start_time": "2024-04-26T18:46:28.432Z"
   },
   {
    "duration": 10,
    "start_time": "2024-04-26T18:46:28.936Z"
   },
   {
    "duration": 7,
    "start_time": "2024-04-26T18:46:29.424Z"
   },
   {
    "duration": 11,
    "start_time": "2024-04-26T18:46:30.632Z"
   },
   {
    "duration": 12,
    "start_time": "2024-04-26T18:46:31.040Z"
   },
   {
    "duration": 10,
    "start_time": "2024-04-26T18:46:31.479Z"
   },
   {
    "duration": 5,
    "start_time": "2024-04-26T18:46:31.992Z"
   },
   {
    "duration": 6,
    "start_time": "2024-04-26T18:46:32.415Z"
   },
   {
    "duration": 7,
    "start_time": "2024-04-26T18:46:32.882Z"
   },
   {
    "duration": 7,
    "start_time": "2024-04-26T18:46:33.439Z"
   },
   {
    "duration": 9,
    "start_time": "2024-04-26T18:46:34.993Z"
   },
   {
    "duration": 7,
    "start_time": "2024-04-26T18:46:36.016Z"
   },
   {
    "duration": 6,
    "start_time": "2024-04-26T18:46:36.624Z"
   },
   {
    "duration": 7,
    "start_time": "2024-04-26T18:46:40.920Z"
   },
   {
    "duration": 162,
    "start_time": "2024-04-26T18:46:41.648Z"
   },
   {
    "duration": 172,
    "start_time": "2024-04-26T18:46:44.329Z"
   },
   {
    "duration": 148,
    "start_time": "2024-04-26T18:55:46.946Z"
   },
   {
    "duration": 50,
    "start_time": "2024-04-26T18:57:27.135Z"
   },
   {
    "duration": 12,
    "start_time": "2024-04-26T18:57:38.441Z"
   },
   {
    "duration": 12,
    "start_time": "2024-04-26T18:57:45.799Z"
   },
   {
    "duration": 8,
    "start_time": "2024-04-26T18:58:09.650Z"
   },
   {
    "duration": 6,
    "start_time": "2024-04-26T18:58:41.659Z"
   },
   {
    "duration": 5,
    "start_time": "2024-04-26T18:59:08.436Z"
   },
   {
    "duration": 13,
    "start_time": "2024-04-26T18:59:20.677Z"
   },
   {
    "duration": 6,
    "start_time": "2024-04-26T18:59:45.909Z"
   },
   {
    "duration": 3,
    "start_time": "2024-04-26T19:11:03.135Z"
   },
   {
    "duration": 4,
    "start_time": "2024-04-26T19:11:10.206Z"
   },
   {
    "duration": 11,
    "start_time": "2024-04-26T19:13:05.818Z"
   },
   {
    "duration": 12,
    "start_time": "2024-04-26T19:18:55.637Z"
   },
   {
    "duration": 11,
    "start_time": "2024-04-26T19:19:13.110Z"
   },
   {
    "duration": 9,
    "start_time": "2024-04-26T19:19:24.494Z"
   },
   {
    "duration": 12,
    "start_time": "2024-04-26T19:20:20.947Z"
   },
   {
    "duration": 135,
    "start_time": "2024-04-26T19:20:27.408Z"
   },
   {
    "duration": 1141,
    "start_time": "2024-04-26T19:20:56.617Z"
   },
   {
    "duration": 154,
    "start_time": "2024-04-26T19:21:19.225Z"
   },
   {
    "duration": 5,
    "start_time": "2024-04-26T19:22:13.283Z"
   },
   {
    "duration": 133,
    "start_time": "2024-04-26T19:22:39.985Z"
   },
   {
    "duration": 9,
    "start_time": "2024-04-26T19:46:39.296Z"
   },
   {
    "duration": 145,
    "start_time": "2024-04-26T19:47:16.817Z"
   },
   {
    "duration": 243,
    "start_time": "2024-04-26T19:47:40.289Z"
   },
   {
    "duration": 175,
    "start_time": "2024-04-26T19:48:15.932Z"
   },
   {
    "duration": 175,
    "start_time": "2024-04-26T19:51:23.531Z"
   },
   {
    "duration": 6,
    "start_time": "2024-04-26T19:57:57.426Z"
   },
   {
    "duration": 6,
    "start_time": "2024-04-26T19:58:36.451Z"
   },
   {
    "duration": 7,
    "start_time": "2024-04-26T19:59:15.965Z"
   },
   {
    "duration": 1348,
    "start_time": "2024-04-28T07:17:33.409Z"
   },
   {
    "duration": 301,
    "start_time": "2024-04-28T07:17:34.758Z"
   },
   {
    "duration": 12,
    "start_time": "2024-04-28T07:17:35.061Z"
   },
   {
    "duration": 43,
    "start_time": "2024-04-28T07:17:35.074Z"
   },
   {
    "duration": 32,
    "start_time": "2024-04-28T07:17:35.120Z"
   },
   {
    "duration": 37,
    "start_time": "2024-04-28T07:17:35.154Z"
   },
   {
    "duration": 21,
    "start_time": "2024-04-28T07:17:35.194Z"
   },
   {
    "duration": 31,
    "start_time": "2024-04-28T07:17:35.217Z"
   },
   {
    "duration": 106,
    "start_time": "2024-04-28T07:17:35.250Z"
   },
   {
    "duration": 147,
    "start_time": "2024-04-28T07:17:35.358Z"
   },
   {
    "duration": 68,
    "start_time": "2024-04-28T07:17:35.508Z"
   },
   {
    "duration": 40,
    "start_time": "2024-04-28T07:17:35.578Z"
   },
   {
    "duration": 25,
    "start_time": "2024-04-28T07:17:35.620Z"
   },
   {
    "duration": 43,
    "start_time": "2024-04-28T07:17:35.649Z"
   },
   {
    "duration": 43,
    "start_time": "2024-04-28T07:17:35.694Z"
   },
   {
    "duration": 27,
    "start_time": "2024-04-28T07:17:35.739Z"
   },
   {
    "duration": 185,
    "start_time": "2024-04-28T07:17:35.768Z"
   },
   {
    "duration": 7,
    "start_time": "2024-04-28T07:17:35.955Z"
   },
   {
    "duration": 41,
    "start_time": "2024-04-28T07:17:35.963Z"
   },
   {
    "duration": 166,
    "start_time": "2024-04-28T07:17:36.006Z"
   },
   {
    "duration": 7,
    "start_time": "2024-04-28T07:17:36.174Z"
   },
   {
    "duration": 175,
    "start_time": "2024-04-28T07:17:36.182Z"
   },
   {
    "duration": 6,
    "start_time": "2024-04-28T07:17:36.358Z"
   },
   {
    "duration": 109,
    "start_time": "2024-04-28T07:19:29.275Z"
   },
   {
    "duration": 107,
    "start_time": "2024-04-28T07:22:47.285Z"
   },
   {
    "duration": 11,
    "start_time": "2024-04-28T07:23:05.804Z"
   },
   {
    "duration": 8,
    "start_time": "2024-04-28T07:24:13.529Z"
   },
   {
    "duration": 155,
    "start_time": "2024-04-28T07:31:31.290Z"
   },
   {
    "duration": 171,
    "start_time": "2024-04-28T07:32:32.085Z"
   },
   {
    "duration": 162,
    "start_time": "2024-04-28T07:33:11.111Z"
   },
   {
    "duration": 164,
    "start_time": "2024-04-28T07:36:10.797Z"
   },
   {
    "duration": 9,
    "start_time": "2024-04-28T07:38:40.163Z"
   },
   {
    "duration": 232,
    "start_time": "2024-04-28T07:40:42.237Z"
   },
   {
    "duration": 9,
    "start_time": "2024-04-28T07:44:15.241Z"
   },
   {
    "duration": 7,
    "start_time": "2024-04-28T07:45:50.113Z"
   },
   {
    "duration": 6,
    "start_time": "2024-04-28T07:46:52.247Z"
   },
   {
    "duration": 9,
    "start_time": "2024-04-28T07:47:11.078Z"
   },
   {
    "duration": 137,
    "start_time": "2024-04-28T07:49:12.131Z"
   },
   {
    "duration": 171,
    "start_time": "2024-04-28T07:49:30.745Z"
   },
   {
    "duration": 157,
    "start_time": "2024-04-28T07:49:38.732Z"
   },
   {
    "duration": 7,
    "start_time": "2024-04-28T07:53:08.556Z"
   },
   {
    "duration": 7,
    "start_time": "2024-04-28T07:53:54.588Z"
   },
   {
    "duration": 31,
    "start_time": "2024-04-28T07:54:33.695Z"
   },
   {
    "duration": 6,
    "start_time": "2024-04-28T07:54:38.681Z"
   },
   {
    "duration": 4,
    "start_time": "2024-04-28T08:20:24.435Z"
   },
   {
    "duration": 3,
    "start_time": "2024-04-28T08:20:48.332Z"
   },
   {
    "duration": 18,
    "start_time": "2024-04-28T08:22:09.944Z"
   },
   {
    "duration": 20,
    "start_time": "2024-04-28T08:23:09.488Z"
   },
   {
    "duration": 29,
    "start_time": "2024-04-28T08:25:36.471Z"
   },
   {
    "duration": 17,
    "start_time": "2024-04-28T08:26:28.841Z"
   },
   {
    "duration": 18,
    "start_time": "2024-04-28T08:29:17.861Z"
   },
   {
    "duration": 18,
    "start_time": "2024-04-28T08:29:43.232Z"
   },
   {
    "duration": 30,
    "start_time": "2024-04-28T08:36:28.213Z"
   },
   {
    "duration": 9,
    "start_time": "2024-04-28T08:37:05.621Z"
   },
   {
    "duration": 8,
    "start_time": "2024-04-28T08:38:28.943Z"
   },
   {
    "duration": 1105,
    "start_time": "2024-04-28T08:41:21.933Z"
   },
   {
    "duration": 8,
    "start_time": "2024-04-28T08:41:32.323Z"
   },
   {
    "duration": 9,
    "start_time": "2024-04-28T09:09:52.720Z"
   },
   {
    "duration": 162,
    "start_time": "2024-04-28T09:11:02.610Z"
   },
   {
    "duration": 164,
    "start_time": "2024-04-28T09:11:43.369Z"
   },
   {
    "duration": 8,
    "start_time": "2024-04-28T09:15:58.805Z"
   },
   {
    "duration": 9,
    "start_time": "2024-04-28T09:16:00.917Z"
   },
   {
    "duration": 147,
    "start_time": "2024-04-28T09:23:38.125Z"
   },
   {
    "duration": 1138,
    "start_time": "2024-04-29T08:13:19.291Z"
   },
   {
    "duration": 270,
    "start_time": "2024-04-29T08:13:20.430Z"
   },
   {
    "duration": 11,
    "start_time": "2024-04-29T08:13:20.701Z"
   },
   {
    "duration": 18,
    "start_time": "2024-04-29T08:13:20.714Z"
   },
   {
    "duration": 20,
    "start_time": "2024-04-29T08:13:20.733Z"
   },
   {
    "duration": 37,
    "start_time": "2024-04-29T08:13:20.754Z"
   },
   {
    "duration": 14,
    "start_time": "2024-04-29T08:13:20.792Z"
   },
   {
    "duration": 6,
    "start_time": "2024-04-29T08:13:20.807Z"
   },
   {
    "duration": 5,
    "start_time": "2024-04-29T08:13:20.814Z"
   },
   {
    "duration": 7,
    "start_time": "2024-04-29T08:13:20.822Z"
   },
   {
    "duration": 18,
    "start_time": "2024-04-29T08:13:20.830Z"
   },
   {
    "duration": 11,
    "start_time": "2024-04-29T08:13:20.850Z"
   },
   {
    "duration": 10,
    "start_time": "2024-04-29T08:13:20.862Z"
   },
   {
    "duration": 5,
    "start_time": "2024-04-29T08:13:20.873Z"
   },
   {
    "duration": 23,
    "start_time": "2024-04-29T08:13:20.879Z"
   },
   {
    "duration": 12,
    "start_time": "2024-04-29T08:13:20.903Z"
   },
   {
    "duration": 137,
    "start_time": "2024-04-29T08:13:20.917Z"
   },
   {
    "duration": 6,
    "start_time": "2024-04-29T08:13:21.055Z"
   },
   {
    "duration": 7,
    "start_time": "2024-04-29T08:13:21.062Z"
   },
   {
    "duration": 100,
    "start_time": "2024-04-29T08:13:21.070Z"
   },
   {
    "duration": 14,
    "start_time": "2024-04-29T08:13:21.171Z"
   },
   {
    "duration": 140,
    "start_time": "2024-04-29T08:13:21.187Z"
   },
   {
    "duration": 5,
    "start_time": "2024-04-29T08:13:21.329Z"
   },
   {
    "duration": 8,
    "start_time": "2024-04-29T08:13:21.335Z"
   },
   {
    "duration": 128,
    "start_time": "2024-04-29T08:13:21.344Z"
   },
   {
    "duration": 11,
    "start_time": "2024-04-29T08:13:21.474Z"
   },
   {
    "duration": 8,
    "start_time": "2024-04-29T08:13:21.486Z"
   },
   {
    "duration": 12,
    "start_time": "2024-04-29T08:13:21.496Z"
   },
   {
    "duration": 131,
    "start_time": "2024-04-29T08:13:21.509Z"
   },
   {
    "duration": 6,
    "start_time": "2024-04-29T08:13:21.641Z"
   },
   {
    "duration": 13,
    "start_time": "2024-04-29T08:13:21.648Z"
   },
   {
    "duration": 32,
    "start_time": "2024-04-29T08:13:21.662Z"
   },
   {
    "duration": 9,
    "start_time": "2024-04-29T08:13:21.695Z"
   },
   {
    "duration": 7,
    "start_time": "2024-04-29T08:13:21.705Z"
   },
   {
    "duration": 8,
    "start_time": "2024-04-29T08:13:21.713Z"
   },
   {
    "duration": 7,
    "start_time": "2024-04-29T08:13:21.723Z"
   },
   {
    "duration": 163,
    "start_time": "2024-04-29T08:13:21.732Z"
   },
   {
    "duration": 6,
    "start_time": "2024-04-29T08:13:21.896Z"
   },
   {
    "duration": 10,
    "start_time": "2024-04-29T08:13:21.904Z"
   },
   {
    "duration": 124,
    "start_time": "2024-04-29T08:13:21.916Z"
   },
   {
    "duration": 86,
    "start_time": "2024-04-29T09:16:07.959Z"
   },
   {
    "duration": 7,
    "start_time": "2024-04-29T09:16:33.758Z"
   },
   {
    "duration": 5,
    "start_time": "2024-04-29T09:16:34.312Z"
   },
   {
    "duration": 6,
    "start_time": "2024-04-29T09:16:36.130Z"
   },
   {
    "duration": 6,
    "start_time": "2024-04-29T09:16:36.441Z"
   },
   {
    "duration": 126,
    "start_time": "2024-04-29T09:16:36.793Z"
   },
   {
    "duration": 6,
    "start_time": "2024-04-29T09:16:37.586Z"
   },
   {
    "duration": 6,
    "start_time": "2024-04-29T09:16:38.050Z"
   },
   {
    "duration": 152,
    "start_time": "2024-04-29T09:16:38.898Z"
   },
   {
    "duration": 7,
    "start_time": "2024-04-29T09:16:41.290Z"
   },
   {
    "duration": 9,
    "start_time": "2024-04-29T09:18:00.957Z"
   },
   {
    "duration": 10,
    "start_time": "2024-04-29T09:18:55.574Z"
   },
   {
    "duration": 13,
    "start_time": "2024-04-29T09:22:05.692Z"
   },
   {
    "duration": 10,
    "start_time": "2024-04-29T09:22:15.647Z"
   },
   {
    "duration": 9,
    "start_time": "2024-04-29T09:22:29.095Z"
   },
   {
    "duration": 1058,
    "start_time": "2024-04-29T09:22:48.935Z"
   },
   {
    "duration": 13,
    "start_time": "2024-04-29T09:42:17.923Z"
   },
   {
    "duration": 401,
    "start_time": "2024-04-29T09:45:29.810Z"
   },
   {
    "duration": 11,
    "start_time": "2024-04-29T09:47:45.271Z"
   },
   {
    "duration": 9,
    "start_time": "2024-04-29T09:48:02.464Z"
   },
   {
    "duration": 13,
    "start_time": "2024-04-29T09:49:59.516Z"
   },
   {
    "duration": 1103,
    "start_time": "2024-04-29T09:52:51.459Z"
   },
   {
    "duration": 13,
    "start_time": "2024-04-29T09:54:09.238Z"
   },
   {
    "duration": 19,
    "start_time": "2024-04-29T09:55:49.986Z"
   },
   {
    "duration": 14,
    "start_time": "2024-04-29T09:58:00.463Z"
   },
   {
    "duration": 17,
    "start_time": "2024-04-29T10:00:06.994Z"
   },
   {
    "duration": 1413,
    "start_time": "2024-04-30T17:01:32.532Z"
   },
   {
    "duration": 314,
    "start_time": "2024-04-30T17:01:33.948Z"
   },
   {
    "duration": 13,
    "start_time": "2024-04-30T17:01:34.266Z"
   },
   {
    "duration": 32,
    "start_time": "2024-04-30T17:01:34.281Z"
   },
   {
    "duration": 12,
    "start_time": "2024-04-30T17:01:34.315Z"
   },
   {
    "duration": 17,
    "start_time": "2024-04-30T17:01:34.329Z"
   },
   {
    "duration": 24,
    "start_time": "2024-04-30T17:01:34.348Z"
   },
   {
    "duration": 8,
    "start_time": "2024-04-30T17:01:34.373Z"
   },
   {
    "duration": 21,
    "start_time": "2024-04-30T17:01:34.382Z"
   },
   {
    "duration": 11,
    "start_time": "2024-04-30T17:01:34.404Z"
   },
   {
    "duration": 11,
    "start_time": "2024-04-30T17:01:34.417Z"
   },
   {
    "duration": 15,
    "start_time": "2024-04-30T17:01:34.429Z"
   },
   {
    "duration": 17,
    "start_time": "2024-04-30T17:01:34.448Z"
   },
   {
    "duration": 7,
    "start_time": "2024-04-30T17:01:34.467Z"
   },
   {
    "duration": 15,
    "start_time": "2024-04-30T17:01:34.476Z"
   },
   {
    "duration": 15,
    "start_time": "2024-04-30T17:01:34.493Z"
   },
   {
    "duration": 169,
    "start_time": "2024-04-30T17:01:34.510Z"
   },
   {
    "duration": 7,
    "start_time": "2024-04-30T17:01:34.681Z"
   },
   {
    "duration": 4,
    "start_time": "2024-04-30T17:01:34.690Z"
   },
   {
    "duration": 154,
    "start_time": "2024-04-30T17:01:34.696Z"
   },
   {
    "duration": 8,
    "start_time": "2024-04-30T17:01:34.851Z"
   },
   {
    "duration": 176,
    "start_time": "2024-04-30T17:01:34.872Z"
   },
   {
    "duration": 7,
    "start_time": "2024-04-30T17:01:35.050Z"
   },
   {
    "duration": 20,
    "start_time": "2024-04-30T17:01:35.058Z"
   },
   {
    "duration": 193,
    "start_time": "2024-04-30T17:01:35.080Z"
   },
   {
    "duration": 9,
    "start_time": "2024-04-30T17:01:35.274Z"
   },
   {
    "duration": 13,
    "start_time": "2024-04-30T17:01:35.285Z"
   },
   {
    "duration": 47,
    "start_time": "2024-04-30T17:01:35.300Z"
   },
   {
    "duration": 242,
    "start_time": "2024-04-30T17:01:35.349Z"
   },
   {
    "duration": 8,
    "start_time": "2024-04-30T17:01:35.593Z"
   },
   {
    "duration": 7,
    "start_time": "2024-04-30T17:01:35.602Z"
   },
   {
    "duration": 45,
    "start_time": "2024-04-30T17:01:35.611Z"
   },
   {
    "duration": 8,
    "start_time": "2024-04-30T17:01:35.658Z"
   },
   {
    "duration": 5,
    "start_time": "2024-04-30T17:01:35.668Z"
   },
   {
    "duration": 8,
    "start_time": "2024-04-30T17:01:35.675Z"
   },
   {
    "duration": 8,
    "start_time": "2024-04-30T17:01:35.685Z"
   },
   {
    "duration": 216,
    "start_time": "2024-04-30T17:01:35.694Z"
   },
   {
    "duration": 9,
    "start_time": "2024-04-30T17:01:35.911Z"
   },
   {
    "duration": 36,
    "start_time": "2024-04-30T17:01:35.922Z"
   },
   {
    "duration": 153,
    "start_time": "2024-04-30T17:01:35.962Z"
   },
   {
    "duration": 28,
    "start_time": "2024-04-30T17:01:36.124Z"
   },
   {
    "duration": 4,
    "start_time": "2024-04-30T17:01:36.153Z"
   },
   {
    "duration": 1223,
    "start_time": "2024-04-30T17:01:36.158Z"
   },
   {
    "duration": 27,
    "start_time": "2024-04-30T17:02:41.820Z"
   },
   {
    "duration": 29,
    "start_time": "2024-04-30T17:50:26.048Z"
   },
   {
    "duration": 4,
    "start_time": "2024-04-30T17:54:46.148Z"
   },
   {
    "duration": 27,
    "start_time": "2024-04-30T18:25:55.789Z"
   },
   {
    "duration": 30,
    "start_time": "2024-04-30T18:37:22.864Z"
   },
   {
    "duration": 67,
    "start_time": "2024-04-30T18:38:01.451Z"
   },
   {
    "duration": 740,
    "start_time": "2024-04-30T18:38:44.241Z"
   },
   {
    "duration": 50,
    "start_time": "2024-04-30T18:39:59.559Z"
   },
   {
    "duration": 6,
    "start_time": "2024-04-30T18:40:12.063Z"
   },
   {
    "duration": 6,
    "start_time": "2024-04-30T18:40:38.361Z"
   },
   {
    "duration": 1255,
    "start_time": "2024-04-30T18:40:44.157Z"
   },
   {
    "duration": 354,
    "start_time": "2024-04-30T18:40:45.414Z"
   },
   {
    "duration": 13,
    "start_time": "2024-04-30T18:40:45.770Z"
   },
   {
    "duration": 18,
    "start_time": "2024-04-30T18:40:45.785Z"
   },
   {
    "duration": 29,
    "start_time": "2024-04-30T18:40:45.805Z"
   },
   {
    "duration": 16,
    "start_time": "2024-04-30T18:40:45.835Z"
   },
   {
    "duration": 15,
    "start_time": "2024-04-30T18:40:45.852Z"
   },
   {
    "duration": 7,
    "start_time": "2024-04-30T18:40:45.868Z"
   },
   {
    "duration": 9,
    "start_time": "2024-04-30T18:40:45.877Z"
   },
   {
    "duration": 6,
    "start_time": "2024-04-30T18:40:45.887Z"
   },
   {
    "duration": 14,
    "start_time": "2024-04-30T18:40:45.895Z"
   },
   {
    "duration": 8,
    "start_time": "2024-04-30T18:40:45.911Z"
   },
   {
    "duration": 8,
    "start_time": "2024-04-30T18:40:45.921Z"
   },
   {
    "duration": 7,
    "start_time": "2024-04-30T18:40:45.932Z"
   },
   {
    "duration": 7,
    "start_time": "2024-04-30T18:40:45.940Z"
   },
   {
    "duration": 7,
    "start_time": "2024-04-30T18:40:45.973Z"
   },
   {
    "duration": 184,
    "start_time": "2024-04-30T18:40:45.982Z"
   },
   {
    "duration": 10,
    "start_time": "2024-04-30T18:40:46.167Z"
   },
   {
    "duration": 11,
    "start_time": "2024-04-30T18:40:46.178Z"
   },
   {
    "duration": 141,
    "start_time": "2024-04-30T18:40:46.191Z"
   },
   {
    "duration": 8,
    "start_time": "2024-04-30T18:40:46.333Z"
   },
   {
    "duration": 176,
    "start_time": "2024-04-30T18:40:46.342Z"
   },
   {
    "duration": 6,
    "start_time": "2024-04-30T18:40:46.519Z"
   },
   {
    "duration": 20,
    "start_time": "2024-04-30T18:40:46.527Z"
   },
   {
    "duration": 181,
    "start_time": "2024-04-30T18:40:46.549Z"
   },
   {
    "duration": 8,
    "start_time": "2024-04-30T18:40:46.732Z"
   },
   {
    "duration": 20,
    "start_time": "2024-04-30T18:40:46.741Z"
   },
   {
    "duration": 12,
    "start_time": "2024-04-30T18:40:46.763Z"
   },
   {
    "duration": 214,
    "start_time": "2024-04-30T18:40:46.777Z"
   },
   {
    "duration": 10,
    "start_time": "2024-04-30T18:40:46.993Z"
   },
   {
    "duration": 6,
    "start_time": "2024-04-30T18:40:47.006Z"
   },
   {
    "duration": 41,
    "start_time": "2024-04-30T18:40:47.014Z"
   },
   {
    "duration": 25,
    "start_time": "2024-04-30T18:40:47.057Z"
   },
   {
    "duration": 8,
    "start_time": "2024-04-30T18:40:47.084Z"
   },
   {
    "duration": 8,
    "start_time": "2024-04-30T18:40:47.094Z"
   },
   {
    "duration": 11,
    "start_time": "2024-04-30T18:40:47.103Z"
   },
   {
    "duration": 206,
    "start_time": "2024-04-30T18:40:47.116Z"
   },
   {
    "duration": 11,
    "start_time": "2024-04-30T18:40:47.323Z"
   },
   {
    "duration": 11,
    "start_time": "2024-04-30T18:40:47.336Z"
   },
   {
    "duration": 183,
    "start_time": "2024-04-30T18:40:47.349Z"
   },
   {
    "duration": 26,
    "start_time": "2024-04-30T18:40:47.536Z"
   },
   {
    "duration": 85,
    "start_time": "2024-04-30T18:40:47.573Z"
   },
   {
    "duration": 16,
    "start_time": "2024-04-30T18:40:47.660Z"
   },
   {
    "duration": 1644,
    "start_time": "2024-04-30T18:40:47.678Z"
   },
   {
    "duration": 1368,
    "start_time": "2024-05-01T08:27:02.176Z"
   },
   {
    "duration": 199,
    "start_time": "2024-05-01T08:27:03.546Z"
   },
   {
    "duration": 14,
    "start_time": "2024-05-01T08:27:03.747Z"
   },
   {
    "duration": 9,
    "start_time": "2024-05-01T08:27:03.763Z"
   },
   {
    "duration": 10,
    "start_time": "2024-05-01T08:27:03.774Z"
   },
   {
    "duration": 24,
    "start_time": "2024-05-01T08:27:03.785Z"
   },
   {
    "duration": 14,
    "start_time": "2024-05-01T08:27:03.812Z"
   },
   {
    "duration": 8,
    "start_time": "2024-05-01T08:27:03.828Z"
   },
   {
    "duration": 5,
    "start_time": "2024-05-01T08:27:03.838Z"
   },
   {
    "duration": 6,
    "start_time": "2024-05-01T08:27:03.845Z"
   },
   {
    "duration": 5,
    "start_time": "2024-05-01T08:27:03.853Z"
   },
   {
    "duration": 30,
    "start_time": "2024-05-01T08:27:03.859Z"
   },
   {
    "duration": 9,
    "start_time": "2024-05-01T08:27:03.891Z"
   },
   {
    "duration": 6,
    "start_time": "2024-05-01T08:27:03.903Z"
   },
   {
    "duration": 7,
    "start_time": "2024-05-01T08:27:03.911Z"
   },
   {
    "duration": 7,
    "start_time": "2024-05-01T08:27:03.920Z"
   },
   {
    "duration": 209,
    "start_time": "2024-05-01T08:27:03.929Z"
   },
   {
    "duration": 8,
    "start_time": "2024-05-01T08:27:04.140Z"
   },
   {
    "duration": 7,
    "start_time": "2024-05-01T08:27:04.149Z"
   },
   {
    "duration": 160,
    "start_time": "2024-05-01T08:27:04.158Z"
   },
   {
    "duration": 8,
    "start_time": "2024-05-01T08:27:04.320Z"
   },
   {
    "duration": 201,
    "start_time": "2024-05-01T08:27:04.329Z"
   },
   {
    "duration": 6,
    "start_time": "2024-05-01T08:27:04.532Z"
   },
   {
    "duration": 20,
    "start_time": "2024-05-01T08:27:04.540Z"
   },
   {
    "duration": 211,
    "start_time": "2024-05-01T08:27:04.561Z"
   },
   {
    "duration": 9,
    "start_time": "2024-05-01T08:27:04.774Z"
   },
   {
    "duration": 7,
    "start_time": "2024-05-01T08:27:04.785Z"
   },
   {
    "duration": 24,
    "start_time": "2024-05-01T08:27:04.794Z"
   },
   {
    "duration": 187,
    "start_time": "2024-05-01T08:27:04.819Z"
   },
   {
    "duration": 7,
    "start_time": "2024-05-01T08:27:05.008Z"
   },
   {
    "duration": 5,
    "start_time": "2024-05-01T08:27:05.017Z"
   },
   {
    "duration": 27,
    "start_time": "2024-05-01T08:27:05.024Z"
   },
   {
    "duration": 31,
    "start_time": "2024-05-01T08:27:05.052Z"
   },
   {
    "duration": 6,
    "start_time": "2024-05-01T08:27:05.085Z"
   },
   {
    "duration": 17,
    "start_time": "2024-05-01T08:27:05.092Z"
   },
   {
    "duration": 28,
    "start_time": "2024-05-01T08:27:05.110Z"
   },
   {
    "duration": 183,
    "start_time": "2024-05-01T08:27:05.139Z"
   },
   {
    "duration": 8,
    "start_time": "2024-05-01T08:27:05.323Z"
   },
   {
    "duration": 7,
    "start_time": "2024-05-01T08:27:05.333Z"
   },
   {
    "duration": 168,
    "start_time": "2024-05-01T08:27:05.342Z"
   },
   {
    "duration": 26,
    "start_time": "2024-05-01T08:27:05.514Z"
   },
   {
    "duration": 7,
    "start_time": "2024-05-01T08:27:05.541Z"
   },
   {
    "duration": 6,
    "start_time": "2024-05-01T08:27:05.549Z"
   },
   {
    "duration": 137,
    "start_time": "2024-05-01T08:38:51.847Z"
   },
   {
    "duration": 64,
    "start_time": "2024-05-01T08:41:01.835Z"
   },
   {
    "duration": 646,
    "start_time": "2024-05-01T08:41:41.724Z"
   },
   {
    "duration": 19,
    "start_time": "2024-05-01T08:43:13.337Z"
   },
   {
    "duration": 28,
    "start_time": "2024-05-01T08:48:55.133Z"
   },
   {
    "duration": 27,
    "start_time": "2024-05-01T08:49:01.555Z"
   },
   {
    "duration": 25,
    "start_time": "2024-05-01T08:49:16.325Z"
   },
   {
    "duration": 26,
    "start_time": "2024-05-01T08:49:24.588Z"
   },
   {
    "duration": 25,
    "start_time": "2024-05-01T08:49:38.630Z"
   },
   {
    "duration": 26,
    "start_time": "2024-05-01T08:53:12.085Z"
   },
   {
    "duration": 35,
    "start_time": "2024-05-01T08:53:28.964Z"
   },
   {
    "duration": 23,
    "start_time": "2024-05-01T08:54:35.496Z"
   },
   {
    "duration": 25,
    "start_time": "2024-05-01T08:55:02.273Z"
   },
   {
    "duration": 13,
    "start_time": "2024-05-01T08:55:57.370Z"
   },
   {
    "duration": 24,
    "start_time": "2024-05-01T08:56:21.652Z"
   },
   {
    "duration": 61,
    "start_time": "2024-05-01T08:56:25.027Z"
   },
   {
    "duration": 26,
    "start_time": "2024-05-01T08:58:06.022Z"
   },
   {
    "duration": 24,
    "start_time": "2024-05-01T08:58:19.663Z"
   },
   {
    "duration": 36,
    "start_time": "2024-05-01T09:03:28.883Z"
   },
   {
    "duration": 32,
    "start_time": "2024-05-01T09:10:00.249Z"
   },
   {
    "duration": 33,
    "start_time": "2024-05-01T09:10:09.280Z"
   },
   {
    "duration": 31,
    "start_time": "2024-05-01T09:10:16.224Z"
   },
   {
    "duration": 40,
    "start_time": "2024-05-01T09:10:51.233Z"
   },
   {
    "duration": 41,
    "start_time": "2024-05-01T09:12:49.950Z"
   },
   {
    "duration": 7,
    "start_time": "2024-05-01T09:15:11.427Z"
   },
   {
    "duration": 56,
    "start_time": "2024-05-01T09:16:20.845Z"
   },
   {
    "duration": 34,
    "start_time": "2024-05-01T09:16:32.605Z"
   },
   {
    "duration": 15,
    "start_time": "2024-05-01T09:33:03.535Z"
   },
   {
    "duration": 19,
    "start_time": "2024-05-01T09:35:06.909Z"
   },
   {
    "duration": 34,
    "start_time": "2024-05-01T09:36:24.644Z"
   },
   {
    "duration": 7,
    "start_time": "2024-05-01T09:36:25.490Z"
   },
   {
    "duration": 19,
    "start_time": "2024-05-01T09:36:25.907Z"
   },
   {
    "duration": 4,
    "start_time": "2024-05-01T09:36:26.595Z"
   },
   {
    "duration": 16,
    "start_time": "2024-05-01T09:39:09.878Z"
   },
   {
    "duration": 33,
    "start_time": "2024-05-01T09:39:26.709Z"
   },
   {
    "duration": 7,
    "start_time": "2024-05-01T09:39:27.782Z"
   },
   {
    "duration": 17,
    "start_time": "2024-05-01T09:39:28.415Z"
   },
   {
    "duration": 18,
    "start_time": "2024-05-01T09:40:22.666Z"
   },
   {
    "duration": 16,
    "start_time": "2024-05-01T09:44:11.375Z"
   },
   {
    "duration": 44,
    "start_time": "2024-05-01T10:11:18.542Z"
   },
   {
    "duration": 13,
    "start_time": "2024-05-01T11:05:54.182Z"
   },
   {
    "duration": 10,
    "start_time": "2024-05-01T11:17:50.454Z"
   },
   {
    "duration": 9,
    "start_time": "2024-05-01T11:27:35.916Z"
   },
   {
    "duration": 6,
    "start_time": "2024-05-01T11:27:36.579Z"
   },
   {
    "duration": 10,
    "start_time": "2024-05-01T11:27:37.234Z"
   },
   {
    "duration": 13,
    "start_time": "2024-05-01T11:44:25.389Z"
   },
   {
    "duration": 8,
    "start_time": "2024-05-01T11:44:32.757Z"
   },
   {
    "duration": 5,
    "start_time": "2024-05-01T11:44:33.268Z"
   },
   {
    "duration": 5,
    "start_time": "2024-05-01T11:48:38.958Z"
   },
   {
    "duration": 3,
    "start_time": "2024-05-01T12:26:26.205Z"
   },
   {
    "duration": 9,
    "start_time": "2024-05-01T12:33:26.985Z"
   },
   {
    "duration": 4,
    "start_time": "2024-05-01T12:33:27.465Z"
   },
   {
    "duration": 3,
    "start_time": "2024-05-01T12:33:27.849Z"
   },
   {
    "duration": 6,
    "start_time": "2024-05-01T12:35:21.558Z"
   },
   {
    "duration": 4,
    "start_time": "2024-05-01T12:37:13.977Z"
   },
   {
    "duration": 9,
    "start_time": "2024-05-01T12:43:28.903Z"
   },
   {
    "duration": 7,
    "start_time": "2024-05-01T12:43:29.726Z"
   },
   {
    "duration": 871,
    "start_time": "2024-05-01T12:46:03.925Z"
   },
   {
    "duration": 12,
    "start_time": "2024-05-01T12:46:39.230Z"
   },
   {
    "duration": 8,
    "start_time": "2024-05-01T12:47:11.015Z"
   },
   {
    "duration": 3,
    "start_time": "2024-05-01T12:50:56.831Z"
   },
   {
    "duration": 9,
    "start_time": "2024-05-01T12:50:57.607Z"
   },
   {
    "duration": 6,
    "start_time": "2024-05-01T12:50:58.528Z"
   },
   {
    "duration": 5,
    "start_time": "2024-05-01T12:52:58.517Z"
   },
   {
    "duration": 3,
    "start_time": "2024-05-01T13:06:25.058Z"
   },
   {
    "duration": 8,
    "start_time": "2024-05-01T13:06:26.161Z"
   },
   {
    "duration": 6,
    "start_time": "2024-05-01T13:06:26.913Z"
   },
   {
    "duration": 2,
    "start_time": "2024-05-01T13:06:31.010Z"
   },
   {
    "duration": 9,
    "start_time": "2024-05-01T13:06:31.361Z"
   },
   {
    "duration": 6,
    "start_time": "2024-05-01T13:06:32.017Z"
   },
   {
    "duration": 7,
    "start_time": "2024-05-01T13:07:51.221Z"
   },
   {
    "duration": 7,
    "start_time": "2024-05-01T13:08:09.317Z"
   },
   {
    "duration": 5,
    "start_time": "2024-05-01T13:28:47.131Z"
   },
   {
    "duration": 3,
    "start_time": "2024-05-01T13:56:23.288Z"
   },
   {
    "duration": 10,
    "start_time": "2024-05-01T13:56:23.646Z"
   },
   {
    "duration": 9,
    "start_time": "2024-05-01T13:56:23.983Z"
   },
   {
    "duration": 11,
    "start_time": "2024-05-01T13:56:24.343Z"
   },
   {
    "duration": 6,
    "start_time": "2024-05-01T13:56:25.142Z"
   },
   {
    "duration": 5,
    "start_time": "2024-05-01T14:00:16.680Z"
   },
   {
    "duration": 5,
    "start_time": "2024-05-01T14:01:34.402Z"
   },
   {
    "duration": 5,
    "start_time": "2024-05-01T14:01:40.434Z"
   },
   {
    "duration": 6,
    "start_time": "2024-05-01T14:02:08.650Z"
   },
   {
    "duration": 7,
    "start_time": "2024-05-01T14:02:33.323Z"
   },
   {
    "duration": 3,
    "start_time": "2024-05-01T14:03:04.756Z"
   },
   {
    "duration": 3,
    "start_time": "2024-05-01T14:03:05.133Z"
   },
   {
    "duration": 7,
    "start_time": "2024-05-01T14:03:33.469Z"
   },
   {
    "duration": 5,
    "start_time": "2024-05-01T14:03:38.932Z"
   },
   {
    "duration": 11,
    "start_time": "2024-05-01T14:03:39.221Z"
   },
   {
    "duration": 5,
    "start_time": "2024-05-01T14:03:39.749Z"
   },
   {
    "duration": 6,
    "start_time": "2024-05-01T14:03:41.357Z"
   },
   {
    "duration": 3,
    "start_time": "2024-05-01T14:03:41.605Z"
   },
   {
    "duration": 4,
    "start_time": "2024-05-01T14:03:41.893Z"
   },
   {
    "duration": 2,
    "start_time": "2024-05-01T14:03:42.821Z"
   },
   {
    "duration": 8,
    "start_time": "2024-05-01T14:03:43.029Z"
   },
   {
    "duration": 6,
    "start_time": "2024-05-01T14:03:43.229Z"
   },
   {
    "duration": 10,
    "start_time": "2024-05-01T14:03:43.477Z"
   },
   {
    "duration": 6,
    "start_time": "2024-05-01T14:03:45.101Z"
   },
   {
    "duration": 5,
    "start_time": "2024-05-01T14:17:37.294Z"
   },
   {
    "duration": 5,
    "start_time": "2024-05-01T14:18:23.759Z"
   },
   {
    "duration": 1461,
    "start_time": "2024-05-01T17:06:20.659Z"
   },
   {
    "duration": 199,
    "start_time": "2024-05-01T17:06:22.122Z"
   },
   {
    "duration": 18,
    "start_time": "2024-05-01T17:06:22.323Z"
   },
   {
    "duration": 12,
    "start_time": "2024-05-01T17:06:22.344Z"
   },
   {
    "duration": 11,
    "start_time": "2024-05-01T17:06:22.358Z"
   },
   {
    "duration": 13,
    "start_time": "2024-05-01T17:06:22.371Z"
   },
   {
    "duration": 14,
    "start_time": "2024-05-01T17:06:22.386Z"
   },
   {
    "duration": 10,
    "start_time": "2024-05-01T17:06:22.402Z"
   },
   {
    "duration": 9,
    "start_time": "2024-05-01T17:06:22.414Z"
   },
   {
    "duration": 7,
    "start_time": "2024-05-01T17:06:22.426Z"
   },
   {
    "duration": 14,
    "start_time": "2024-05-01T17:06:22.434Z"
   },
   {
    "duration": 13,
    "start_time": "2024-05-01T17:06:22.449Z"
   },
   {
    "duration": 9,
    "start_time": "2024-05-01T17:06:22.483Z"
   },
   {
    "duration": 7,
    "start_time": "2024-05-01T17:06:22.493Z"
   },
   {
    "duration": 7,
    "start_time": "2024-05-01T17:06:22.502Z"
   },
   {
    "duration": 8,
    "start_time": "2024-05-01T17:06:22.511Z"
   },
   {
    "duration": 208,
    "start_time": "2024-05-01T17:06:22.520Z"
   },
   {
    "duration": 17,
    "start_time": "2024-05-01T17:06:22.730Z"
   },
   {
    "duration": 7,
    "start_time": "2024-05-01T17:06:22.749Z"
   },
   {
    "duration": 153,
    "start_time": "2024-05-01T17:06:22.758Z"
   },
   {
    "duration": 8,
    "start_time": "2024-05-01T17:06:22.912Z"
   },
   {
    "duration": 191,
    "start_time": "2024-05-01T17:06:22.922Z"
   },
   {
    "duration": 7,
    "start_time": "2024-05-01T17:06:23.115Z"
   },
   {
    "duration": 11,
    "start_time": "2024-05-01T17:06:23.124Z"
   },
   {
    "duration": 214,
    "start_time": "2024-05-01T17:06:23.136Z"
   },
   {
    "duration": 9,
    "start_time": "2024-05-01T17:06:23.351Z"
   },
   {
    "duration": 22,
    "start_time": "2024-05-01T17:06:23.361Z"
   },
   {
    "duration": 11,
    "start_time": "2024-05-01T17:06:23.387Z"
   },
   {
    "duration": 196,
    "start_time": "2024-05-01T17:06:23.399Z"
   },
   {
    "duration": 8,
    "start_time": "2024-05-01T17:06:23.597Z"
   },
   {
    "duration": 18,
    "start_time": "2024-05-01T17:06:23.607Z"
   },
   {
    "duration": 36,
    "start_time": "2024-05-01T17:06:23.627Z"
   },
   {
    "duration": 8,
    "start_time": "2024-05-01T17:06:23.664Z"
   },
   {
    "duration": 13,
    "start_time": "2024-05-01T17:06:23.674Z"
   },
   {
    "duration": 11,
    "start_time": "2024-05-01T17:06:23.688Z"
   },
   {
    "duration": 8,
    "start_time": "2024-05-01T17:06:23.700Z"
   },
   {
    "duration": 203,
    "start_time": "2024-05-01T17:06:23.709Z"
   },
   {
    "duration": 10,
    "start_time": "2024-05-01T17:06:23.914Z"
   },
   {
    "duration": 9,
    "start_time": "2024-05-01T17:06:23.926Z"
   },
   {
    "duration": 189,
    "start_time": "2024-05-01T17:06:23.936Z"
   },
   {
    "duration": 71,
    "start_time": "2024-05-01T17:06:24.127Z"
   },
   {
    "duration": 0,
    "start_time": "2024-05-01T17:06:24.200Z"
   },
   {
    "duration": 0,
    "start_time": "2024-05-01T17:06:24.201Z"
   },
   {
    "duration": 0,
    "start_time": "2024-05-01T17:06:24.203Z"
   },
   {
    "duration": 0,
    "start_time": "2024-05-01T17:06:24.204Z"
   },
   {
    "duration": 0,
    "start_time": "2024-05-01T17:06:24.205Z"
   },
   {
    "duration": 0,
    "start_time": "2024-05-01T17:06:24.206Z"
   },
   {
    "duration": 0,
    "start_time": "2024-05-01T17:06:24.207Z"
   },
   {
    "duration": 0,
    "start_time": "2024-05-01T17:06:24.208Z"
   },
   {
    "duration": 0,
    "start_time": "2024-05-01T17:06:24.209Z"
   },
   {
    "duration": 0,
    "start_time": "2024-05-01T17:06:24.211Z"
   },
   {
    "duration": 0,
    "start_time": "2024-05-01T17:06:24.212Z"
   },
   {
    "duration": 0,
    "start_time": "2024-05-01T17:06:24.213Z"
   },
   {
    "duration": 0,
    "start_time": "2024-05-01T17:06:24.214Z"
   },
   {
    "duration": 0,
    "start_time": "2024-05-01T17:06:24.215Z"
   },
   {
    "duration": 220,
    "start_time": "2024-05-01T17:06:48.224Z"
   },
   {
    "duration": 63,
    "start_time": "2024-05-01T17:06:59.082Z"
   },
   {
    "duration": 96,
    "start_time": "2024-05-01T17:07:07.729Z"
   },
   {
    "duration": 37,
    "start_time": "2024-05-01T17:07:39.236Z"
   },
   {
    "duration": 32,
    "start_time": "2024-05-01T17:07:54.325Z"
   },
   {
    "duration": 9,
    "start_time": "2024-05-01T17:08:07.867Z"
   },
   {
    "duration": 3,
    "start_time": "2024-05-01T17:08:09.060Z"
   },
   {
    "duration": 11,
    "start_time": "2024-05-01T17:08:09.501Z"
   },
   {
    "duration": 141,
    "start_time": "2024-05-01T17:08:10.257Z"
   },
   {
    "duration": 6,
    "start_time": "2024-05-01T17:08:58.885Z"
   },
   {
    "duration": 7,
    "start_time": "2024-05-01T17:09:04.463Z"
   },
   {
    "duration": 4,
    "start_time": "2024-05-01T17:09:04.901Z"
   },
   {
    "duration": 4,
    "start_time": "2024-05-01T17:09:05.431Z"
   },
   {
    "duration": 3,
    "start_time": "2024-05-01T17:09:07.166Z"
   },
   {
    "duration": 1094,
    "start_time": "2024-05-01T17:09:07.503Z"
   },
   {
    "duration": 0,
    "start_time": "2024-05-01T17:09:08.599Z"
   },
   {
    "duration": 0,
    "start_time": "2024-05-01T17:09:08.601Z"
   },
   {
    "duration": 9,
    "start_time": "2024-05-01T17:09:08.852Z"
   },
   {
    "duration": 35,
    "start_time": "2024-05-01T17:09:49.456Z"
   },
   {
    "duration": 7,
    "start_time": "2024-05-01T17:09:50.305Z"
   },
   {
    "duration": 25,
    "start_time": "2024-05-01T17:09:50.993Z"
   },
   {
    "duration": 8,
    "start_time": "2024-05-01T17:09:52.058Z"
   },
   {
    "duration": 3,
    "start_time": "2024-05-01T17:09:53.089Z"
   },
   {
    "duration": 10,
    "start_time": "2024-05-01T17:09:53.411Z"
   },
   {
    "duration": 6,
    "start_time": "2024-05-01T17:09:54.050Z"
   },
   {
    "duration": 8,
    "start_time": "2024-05-01T17:09:55.800Z"
   },
   {
    "duration": 4,
    "start_time": "2024-05-01T17:09:56.146Z"
   },
   {
    "duration": 4,
    "start_time": "2024-05-01T17:09:56.490Z"
   },
   {
    "duration": 1243,
    "start_time": "2024-05-01T17:10:03.049Z"
   },
   {
    "duration": 66,
    "start_time": "2024-05-01T17:10:04.294Z"
   },
   {
    "duration": 13,
    "start_time": "2024-05-01T17:10:04.361Z"
   },
   {
    "duration": 16,
    "start_time": "2024-05-01T17:10:04.375Z"
   },
   {
    "duration": 8,
    "start_time": "2024-05-01T17:10:04.393Z"
   },
   {
    "duration": 19,
    "start_time": "2024-05-01T17:10:04.402Z"
   },
   {
    "duration": 13,
    "start_time": "2024-05-01T17:10:04.423Z"
   },
   {
    "duration": 8,
    "start_time": "2024-05-01T17:10:04.437Z"
   },
   {
    "duration": 23,
    "start_time": "2024-05-01T17:10:04.446Z"
   },
   {
    "duration": 10,
    "start_time": "2024-05-01T17:10:04.471Z"
   },
   {
    "duration": 6,
    "start_time": "2024-05-01T17:10:04.482Z"
   },
   {
    "duration": 5,
    "start_time": "2024-05-01T17:10:04.489Z"
   },
   {
    "duration": 8,
    "start_time": "2024-05-01T17:10:04.496Z"
   },
   {
    "duration": 5,
    "start_time": "2024-05-01T17:10:04.507Z"
   },
   {
    "duration": 10,
    "start_time": "2024-05-01T17:10:04.514Z"
   },
   {
    "duration": 7,
    "start_time": "2024-05-01T17:10:04.526Z"
   },
   {
    "duration": 195,
    "start_time": "2024-05-01T17:10:04.534Z"
   },
   {
    "duration": 8,
    "start_time": "2024-05-01T17:10:04.730Z"
   },
   {
    "duration": 9,
    "start_time": "2024-05-01T17:10:04.739Z"
   },
   {
    "duration": 138,
    "start_time": "2024-05-01T17:10:04.749Z"
   },
   {
    "duration": 8,
    "start_time": "2024-05-01T17:10:04.888Z"
   },
   {
    "duration": 186,
    "start_time": "2024-05-01T17:10:04.898Z"
   },
   {
    "duration": 6,
    "start_time": "2024-05-01T17:10:05.086Z"
   },
   {
    "duration": 12,
    "start_time": "2024-05-01T17:10:05.093Z"
   },
   {
    "duration": 195,
    "start_time": "2024-05-01T17:10:05.107Z"
   },
   {
    "duration": 10,
    "start_time": "2024-05-01T17:10:05.303Z"
   },
   {
    "duration": 9,
    "start_time": "2024-05-01T17:10:05.315Z"
   },
   {
    "duration": 14,
    "start_time": "2024-05-01T17:10:05.325Z"
   },
   {
    "duration": 216,
    "start_time": "2024-05-01T17:10:05.341Z"
   },
   {
    "duration": 8,
    "start_time": "2024-05-01T17:10:05.559Z"
   },
   {
    "duration": 17,
    "start_time": "2024-05-01T17:10:05.568Z"
   },
   {
    "duration": 42,
    "start_time": "2024-05-01T17:10:05.587Z"
   },
   {
    "duration": 8,
    "start_time": "2024-05-01T17:10:05.631Z"
   },
   {
    "duration": 7,
    "start_time": "2024-05-01T17:10:05.640Z"
   },
   {
    "duration": 8,
    "start_time": "2024-05-01T17:10:05.648Z"
   },
   {
    "duration": 27,
    "start_time": "2024-05-01T17:10:05.657Z"
   },
   {
    "duration": 183,
    "start_time": "2024-05-01T17:10:05.686Z"
   },
   {
    "duration": 9,
    "start_time": "2024-05-01T17:10:05.881Z"
   },
   {
    "duration": 21,
    "start_time": "2024-05-01T17:10:05.892Z"
   },
   {
    "duration": 161,
    "start_time": "2024-05-01T17:10:05.915Z"
   },
   {
    "duration": 34,
    "start_time": "2024-05-01T17:10:06.085Z"
   },
   {
    "duration": 6,
    "start_time": "2024-05-01T17:10:06.121Z"
   },
   {
    "duration": 20,
    "start_time": "2024-05-01T17:10:06.129Z"
   },
   {
    "duration": 36,
    "start_time": "2024-05-01T17:10:06.151Z"
   },
   {
    "duration": 4,
    "start_time": "2024-05-01T17:10:06.188Z"
   },
   {
    "duration": 15,
    "start_time": "2024-05-01T17:10:06.194Z"
   },
   {
    "duration": 5,
    "start_time": "2024-05-01T17:10:06.211Z"
   },
   {
    "duration": 17,
    "start_time": "2024-05-01T17:10:06.217Z"
   },
   {
    "duration": 4,
    "start_time": "2024-05-01T17:10:06.236Z"
   },
   {
    "duration": 4,
    "start_time": "2024-05-01T17:10:06.241Z"
   },
   {
    "duration": 7,
    "start_time": "2024-05-01T17:10:06.247Z"
   },
   {
    "duration": 29,
    "start_time": "2024-05-01T17:10:06.256Z"
   },
   {
    "duration": 7,
    "start_time": "2024-05-01T17:10:06.287Z"
   },
   {
    "duration": 10,
    "start_time": "2024-05-01T17:10:06.296Z"
   },
   {
    "duration": 7,
    "start_time": "2024-05-01T17:10:06.308Z"
   },
   {
    "duration": 6,
    "start_time": "2024-05-01T17:45:11.954Z"
   },
   {
    "duration": 12,
    "start_time": "2024-05-01T17:51:20.777Z"
   },
   {
    "duration": 9,
    "start_time": "2024-05-01T17:51:21.248Z"
   },
   {
    "duration": 8,
    "start_time": "2024-05-01T17:54:43.232Z"
   },
   {
    "duration": 8,
    "start_time": "2024-05-01T17:54:45.087Z"
   },
   {
    "duration": 1179,
    "start_time": "2024-05-01T18:45:51.229Z"
   },
   {
    "duration": 63,
    "start_time": "2024-05-01T18:45:52.410Z"
   },
   {
    "duration": 11,
    "start_time": "2024-05-01T18:45:52.475Z"
   },
   {
    "duration": 40,
    "start_time": "2024-05-01T18:45:52.487Z"
   },
   {
    "duration": 37,
    "start_time": "2024-05-01T18:45:52.530Z"
   },
   {
    "duration": 16,
    "start_time": "2024-05-01T18:45:52.569Z"
   },
   {
    "duration": 10,
    "start_time": "2024-05-01T18:45:52.587Z"
   },
   {
    "duration": 33,
    "start_time": "2024-05-01T18:45:52.599Z"
   },
   {
    "duration": 14,
    "start_time": "2024-05-01T18:45:52.633Z"
   },
   {
    "duration": 74,
    "start_time": "2024-05-01T18:45:52.648Z"
   },
   {
    "duration": 47,
    "start_time": "2024-05-01T18:45:52.723Z"
   },
   {
    "duration": 17,
    "start_time": "2024-05-01T18:45:52.772Z"
   },
   {
    "duration": 52,
    "start_time": "2024-05-01T18:45:52.790Z"
   },
   {
    "duration": 32,
    "start_time": "2024-05-01T18:45:52.844Z"
   },
   {
    "duration": 18,
    "start_time": "2024-05-01T18:45:52.878Z"
   },
   {
    "duration": 35,
    "start_time": "2024-05-01T18:45:52.898Z"
   },
   {
    "duration": 150,
    "start_time": "2024-05-01T18:45:52.934Z"
   },
   {
    "duration": 8,
    "start_time": "2024-05-01T18:45:53.086Z"
   },
   {
    "duration": 15,
    "start_time": "2024-05-01T18:45:53.096Z"
   },
   {
    "duration": 134,
    "start_time": "2024-05-01T18:45:53.113Z"
   },
   {
    "duration": 7,
    "start_time": "2024-05-01T18:45:53.249Z"
   },
   {
    "duration": 164,
    "start_time": "2024-05-01T18:45:53.258Z"
   },
   {
    "duration": 8,
    "start_time": "2024-05-01T18:45:53.424Z"
   },
   {
    "duration": 21,
    "start_time": "2024-05-01T18:45:53.434Z"
   },
   {
    "duration": 157,
    "start_time": "2024-05-01T18:45:53.457Z"
   },
   {
    "duration": 7,
    "start_time": "2024-05-01T18:45:53.616Z"
   },
   {
    "duration": 15,
    "start_time": "2024-05-01T18:45:53.624Z"
   },
   {
    "duration": 31,
    "start_time": "2024-05-01T18:45:53.640Z"
   },
   {
    "duration": 188,
    "start_time": "2024-05-01T18:45:53.673Z"
   },
   {
    "duration": 7,
    "start_time": "2024-05-01T18:45:53.862Z"
   },
   {
    "duration": 62,
    "start_time": "2024-05-01T18:45:53.870Z"
   },
   {
    "duration": 55,
    "start_time": "2024-05-01T18:45:53.934Z"
   },
   {
    "duration": 15,
    "start_time": "2024-05-01T18:45:53.990Z"
   },
   {
    "duration": 55,
    "start_time": "2024-05-01T18:45:54.007Z"
   },
   {
    "duration": 51,
    "start_time": "2024-05-01T18:45:54.063Z"
   },
   {
    "duration": 37,
    "start_time": "2024-05-01T18:45:54.116Z"
   },
   {
    "duration": 181,
    "start_time": "2024-05-01T18:45:54.154Z"
   },
   {
    "duration": 8,
    "start_time": "2024-05-01T18:45:54.337Z"
   },
   {
    "duration": 35,
    "start_time": "2024-05-01T18:45:54.346Z"
   },
   {
    "duration": 174,
    "start_time": "2024-05-01T18:45:54.382Z"
   },
   {
    "duration": 41,
    "start_time": "2024-05-01T18:45:54.559Z"
   },
   {
    "duration": 7,
    "start_time": "2024-05-01T18:45:54.601Z"
   },
   {
    "duration": 38,
    "start_time": "2024-05-01T18:45:54.609Z"
   },
   {
    "duration": 32,
    "start_time": "2024-05-01T18:45:54.649Z"
   },
   {
    "duration": 10,
    "start_time": "2024-05-01T18:45:54.682Z"
   },
   {
    "duration": 20,
    "start_time": "2024-05-01T18:45:54.693Z"
   },
   {
    "duration": 6,
    "start_time": "2024-05-01T18:45:54.714Z"
   },
   {
    "duration": 21,
    "start_time": "2024-05-01T18:45:54.721Z"
   },
   {
    "duration": 31,
    "start_time": "2024-05-01T18:45:54.743Z"
   },
   {
    "duration": 7,
    "start_time": "2024-05-01T18:45:54.776Z"
   },
   {
    "duration": 20,
    "start_time": "2024-05-01T18:45:54.784Z"
   },
   {
    "duration": 27,
    "start_time": "2024-05-01T18:45:54.806Z"
   },
   {
    "duration": 15,
    "start_time": "2024-05-01T18:45:54.835Z"
   },
   {
    "duration": 1528,
    "start_time": "2024-05-02T04:43:39.989Z"
   },
   {
    "duration": 221,
    "start_time": "2024-05-02T04:43:41.518Z"
   },
   {
    "duration": 12,
    "start_time": "2024-05-02T04:43:41.745Z"
   },
   {
    "duration": 10,
    "start_time": "2024-05-02T04:43:41.758Z"
   },
   {
    "duration": 9,
    "start_time": "2024-05-02T04:43:41.770Z"
   },
   {
    "duration": 17,
    "start_time": "2024-05-02T04:43:41.781Z"
   },
   {
    "duration": 13,
    "start_time": "2024-05-02T04:43:41.800Z"
   },
   {
    "duration": 6,
    "start_time": "2024-05-02T04:43:41.815Z"
   },
   {
    "duration": 14,
    "start_time": "2024-05-02T04:43:41.833Z"
   },
   {
    "duration": 22,
    "start_time": "2024-05-02T04:43:41.849Z"
   },
   {
    "duration": 6,
    "start_time": "2024-05-02T04:43:41.873Z"
   },
   {
    "duration": 7,
    "start_time": "2024-05-02T04:43:41.881Z"
   },
   {
    "duration": 9,
    "start_time": "2024-05-02T04:43:41.889Z"
   },
   {
    "duration": 8,
    "start_time": "2024-05-02T04:43:41.902Z"
   },
   {
    "duration": 26,
    "start_time": "2024-05-02T04:43:41.912Z"
   },
   {
    "duration": 13,
    "start_time": "2024-05-02T04:43:41.940Z"
   },
   {
    "duration": 184,
    "start_time": "2024-05-02T04:43:41.954Z"
   },
   {
    "duration": 10,
    "start_time": "2024-05-02T04:43:42.140Z"
   },
   {
    "duration": 5,
    "start_time": "2024-05-02T04:43:42.152Z"
   },
   {
    "duration": 151,
    "start_time": "2024-05-02T04:43:42.159Z"
   },
   {
    "duration": 7,
    "start_time": "2024-05-02T04:43:42.312Z"
   },
   {
    "duration": 185,
    "start_time": "2024-05-02T04:43:42.321Z"
   },
   {
    "duration": 7,
    "start_time": "2024-05-02T04:43:42.508Z"
   },
   {
    "duration": 24,
    "start_time": "2024-05-02T04:43:42.517Z"
   },
   {
    "duration": 187,
    "start_time": "2024-05-02T04:43:42.544Z"
   },
   {
    "duration": 14,
    "start_time": "2024-05-02T04:43:42.733Z"
   },
   {
    "duration": 13,
    "start_time": "2024-05-02T04:43:42.749Z"
   },
   {
    "duration": 14,
    "start_time": "2024-05-02T04:43:42.763Z"
   },
   {
    "duration": 186,
    "start_time": "2024-05-02T04:43:42.778Z"
   },
   {
    "duration": 7,
    "start_time": "2024-05-02T04:43:42.966Z"
   },
   {
    "duration": 5,
    "start_time": "2024-05-02T04:43:42.975Z"
   },
   {
    "duration": 57,
    "start_time": "2024-05-02T04:43:42.981Z"
   },
   {
    "duration": 13,
    "start_time": "2024-05-02T04:43:43.039Z"
   },
   {
    "duration": 8,
    "start_time": "2024-05-02T04:43:43.054Z"
   },
   {
    "duration": 12,
    "start_time": "2024-05-02T04:43:43.063Z"
   },
   {
    "duration": 8,
    "start_time": "2024-05-02T04:43:43.077Z"
   },
   {
    "duration": 227,
    "start_time": "2024-05-02T04:43:43.087Z"
   },
   {
    "duration": 17,
    "start_time": "2024-05-02T04:43:43.316Z"
   },
   {
    "duration": 14,
    "start_time": "2024-05-02T04:43:43.336Z"
   },
   {
    "duration": 193,
    "start_time": "2024-05-02T04:43:43.352Z"
   },
   {
    "duration": 40,
    "start_time": "2024-05-02T04:43:43.550Z"
   },
   {
    "duration": 8,
    "start_time": "2024-05-02T04:43:43.592Z"
   },
   {
    "duration": 43,
    "start_time": "2024-05-02T04:43:43.602Z"
   },
   {
    "duration": 8,
    "start_time": "2024-05-02T04:43:43.647Z"
   },
   {
    "duration": 3,
    "start_time": "2024-05-02T04:43:43.656Z"
   },
   {
    "duration": 12,
    "start_time": "2024-05-02T04:43:43.660Z"
   },
   {
    "duration": 10,
    "start_time": "2024-05-02T04:43:43.674Z"
   },
   {
    "duration": 9,
    "start_time": "2024-05-02T04:43:43.686Z"
   },
   {
    "duration": 4,
    "start_time": "2024-05-02T04:43:43.696Z"
   },
   {
    "duration": 30,
    "start_time": "2024-05-02T04:43:43.701Z"
   },
   {
    "duration": 11,
    "start_time": "2024-05-02T04:43:43.735Z"
   },
   {
    "duration": 14,
    "start_time": "2024-05-02T04:43:43.747Z"
   },
   {
    "duration": 6,
    "start_time": "2024-05-02T04:43:43.763Z"
   },
   {
    "duration": 11,
    "start_time": "2024-05-02T04:52:19.380Z"
   },
   {
    "duration": 1281,
    "start_time": "2024-05-02T18:21:06.700Z"
   },
   {
    "duration": 291,
    "start_time": "2024-05-02T18:21:07.983Z"
   },
   {
    "duration": 12,
    "start_time": "2024-05-02T18:21:08.276Z"
   },
   {
    "duration": 14,
    "start_time": "2024-05-02T18:21:08.289Z"
   },
   {
    "duration": 17,
    "start_time": "2024-05-02T18:21:08.305Z"
   },
   {
    "duration": 31,
    "start_time": "2024-05-02T18:21:08.323Z"
   },
   {
    "duration": 13,
    "start_time": "2024-05-02T18:21:08.355Z"
   },
   {
    "duration": 15,
    "start_time": "2024-05-02T18:21:08.369Z"
   },
   {
    "duration": 41,
    "start_time": "2024-05-02T18:21:08.385Z"
   },
   {
    "duration": 26,
    "start_time": "2024-05-02T18:21:08.428Z"
   },
   {
    "duration": 15,
    "start_time": "2024-05-02T18:21:08.456Z"
   },
   {
    "duration": 22,
    "start_time": "2024-05-02T18:21:08.473Z"
   },
   {
    "duration": 24,
    "start_time": "2024-05-02T18:21:08.497Z"
   },
   {
    "duration": 21,
    "start_time": "2024-05-02T18:21:08.523Z"
   },
   {
    "duration": 22,
    "start_time": "2024-05-02T18:21:08.545Z"
   },
   {
    "duration": 17,
    "start_time": "2024-05-02T18:21:08.569Z"
   },
   {
    "duration": 161,
    "start_time": "2024-05-02T18:21:08.587Z"
   },
   {
    "duration": 11,
    "start_time": "2024-05-02T18:21:08.750Z"
   },
   {
    "duration": 32,
    "start_time": "2024-05-02T18:21:08.762Z"
   },
   {
    "duration": 132,
    "start_time": "2024-05-02T18:21:08.795Z"
   },
   {
    "duration": 8,
    "start_time": "2024-05-02T18:21:08.929Z"
   },
   {
    "duration": 170,
    "start_time": "2024-05-02T18:21:08.938Z"
   },
   {
    "duration": 6,
    "start_time": "2024-05-02T18:21:09.110Z"
   },
   {
    "duration": 36,
    "start_time": "2024-05-02T18:21:09.117Z"
   },
   {
    "duration": 165,
    "start_time": "2024-05-02T18:21:09.155Z"
   },
   {
    "duration": 7,
    "start_time": "2024-05-02T18:21:09.322Z"
   },
   {
    "duration": 16,
    "start_time": "2024-05-02T18:21:09.330Z"
   },
   {
    "duration": 15,
    "start_time": "2024-05-02T18:21:09.347Z"
   },
   {
    "duration": 180,
    "start_time": "2024-05-02T18:21:09.363Z"
   },
   {
    "duration": 7,
    "start_time": "2024-05-02T18:21:09.545Z"
   },
   {
    "duration": 18,
    "start_time": "2024-05-02T18:21:09.553Z"
   },
   {
    "duration": 36,
    "start_time": "2024-05-02T18:21:09.573Z"
   },
   {
    "duration": 8,
    "start_time": "2024-05-02T18:21:09.610Z"
   },
   {
    "duration": 17,
    "start_time": "2024-05-02T18:21:09.620Z"
   },
   {
    "duration": 24,
    "start_time": "2024-05-02T18:21:09.639Z"
   },
   {
    "duration": 24,
    "start_time": "2024-05-02T18:21:09.665Z"
   },
   {
    "duration": 184,
    "start_time": "2024-05-02T18:21:09.691Z"
   },
   {
    "duration": 10,
    "start_time": "2024-05-02T18:21:09.878Z"
   },
   {
    "duration": 35,
    "start_time": "2024-05-02T18:21:09.890Z"
   },
   {
    "duration": 159,
    "start_time": "2024-05-02T18:21:09.927Z"
   },
   {
    "duration": 34,
    "start_time": "2024-05-02T18:21:10.090Z"
   },
   {
    "duration": 10,
    "start_time": "2024-05-02T18:21:10.126Z"
   },
   {
    "duration": 52,
    "start_time": "2024-05-02T18:21:10.137Z"
   },
   {
    "duration": 9,
    "start_time": "2024-05-02T18:21:10.191Z"
   },
   {
    "duration": 14,
    "start_time": "2024-05-02T18:21:10.201Z"
   },
   {
    "duration": 18,
    "start_time": "2024-05-02T18:21:10.217Z"
   },
   {
    "duration": 17,
    "start_time": "2024-05-02T18:21:10.237Z"
   },
   {
    "duration": 80,
    "start_time": "2024-05-02T18:21:10.255Z"
   },
   {
    "duration": 3,
    "start_time": "2024-05-02T18:21:10.337Z"
   },
   {
    "duration": 42,
    "start_time": "2024-05-02T18:21:10.341Z"
   },
   {
    "duration": 24,
    "start_time": "2024-05-02T18:21:10.384Z"
   },
   {
    "duration": 21,
    "start_time": "2024-05-02T18:21:10.409Z"
   },
   {
    "duration": 10,
    "start_time": "2024-05-02T18:21:10.432Z"
   },
   {
    "duration": 1164,
    "start_time": "2024-05-02T18:40:57.312Z"
   },
   {
    "duration": 66,
    "start_time": "2024-05-02T18:40:58.478Z"
   },
   {
    "duration": 12,
    "start_time": "2024-05-02T18:40:58.545Z"
   },
   {
    "duration": 9,
    "start_time": "2024-05-02T18:40:58.559Z"
   },
   {
    "duration": 7,
    "start_time": "2024-05-02T18:40:58.571Z"
   },
   {
    "duration": 11,
    "start_time": "2024-05-02T18:40:58.579Z"
   },
   {
    "duration": 23,
    "start_time": "2024-05-02T18:40:58.592Z"
   },
   {
    "duration": 7,
    "start_time": "2024-05-02T18:40:58.616Z"
   },
   {
    "duration": 6,
    "start_time": "2024-05-02T18:40:58.624Z"
   },
   {
    "duration": 31,
    "start_time": "2024-05-02T18:40:58.631Z"
   },
   {
    "duration": 5,
    "start_time": "2024-05-02T18:40:58.663Z"
   },
   {
    "duration": 6,
    "start_time": "2024-05-02T18:40:58.669Z"
   },
   {
    "duration": 9,
    "start_time": "2024-05-02T18:40:58.676Z"
   },
   {
    "duration": 5,
    "start_time": "2024-05-02T18:40:58.688Z"
   },
   {
    "duration": 8,
    "start_time": "2024-05-02T18:40:58.695Z"
   },
   {
    "duration": 8,
    "start_time": "2024-05-02T18:40:58.704Z"
   },
   {
    "duration": 196,
    "start_time": "2024-05-02T18:40:58.714Z"
   },
   {
    "duration": 7,
    "start_time": "2024-05-02T18:40:58.911Z"
   },
   {
    "duration": 4,
    "start_time": "2024-05-02T18:40:58.920Z"
   },
   {
    "duration": 150,
    "start_time": "2024-05-02T18:40:58.925Z"
   },
   {
    "duration": 11,
    "start_time": "2024-05-02T18:40:59.077Z"
   },
   {
    "duration": 187,
    "start_time": "2024-05-02T18:40:59.089Z"
   },
   {
    "duration": 6,
    "start_time": "2024-05-02T18:40:59.277Z"
   },
   {
    "duration": 22,
    "start_time": "2024-05-02T18:40:59.285Z"
   },
   {
    "duration": 184,
    "start_time": "2024-05-02T18:40:59.309Z"
   },
   {
    "duration": 8,
    "start_time": "2024-05-02T18:40:59.494Z"
   },
   {
    "duration": 20,
    "start_time": "2024-05-02T18:40:59.503Z"
   },
   {
    "duration": 20,
    "start_time": "2024-05-02T18:40:59.524Z"
   },
   {
    "duration": 180,
    "start_time": "2024-05-02T18:40:59.545Z"
   },
   {
    "duration": 7,
    "start_time": "2024-05-02T18:40:59.726Z"
   },
   {
    "duration": 5,
    "start_time": "2024-05-02T18:40:59.735Z"
   },
   {
    "duration": 39,
    "start_time": "2024-05-02T18:40:59.742Z"
   },
   {
    "duration": 7,
    "start_time": "2024-05-02T18:40:59.783Z"
   },
   {
    "duration": 6,
    "start_time": "2024-05-02T18:40:59.792Z"
   },
   {
    "duration": 12,
    "start_time": "2024-05-02T18:40:59.799Z"
   },
   {
    "duration": 7,
    "start_time": "2024-05-02T18:40:59.813Z"
   },
   {
    "duration": 192,
    "start_time": "2024-05-02T18:40:59.822Z"
   },
   {
    "duration": 9,
    "start_time": "2024-05-02T18:41:00.016Z"
   },
   {
    "duration": 28,
    "start_time": "2024-05-02T18:41:00.027Z"
   },
   {
    "duration": 174,
    "start_time": "2024-05-02T18:41:00.057Z"
   },
   {
    "duration": 38,
    "start_time": "2024-05-02T18:41:00.236Z"
   },
   {
    "duration": 7,
    "start_time": "2024-05-02T18:41:00.276Z"
   },
   {
    "duration": 41,
    "start_time": "2024-05-02T18:41:00.285Z"
   },
   {
    "duration": 10,
    "start_time": "2024-05-02T18:41:00.328Z"
   },
   {
    "duration": 46,
    "start_time": "2024-05-02T18:41:00.340Z"
   },
   {
    "duration": 51,
    "start_time": "2024-05-02T18:41:00.388Z"
   },
   {
    "duration": 55,
    "start_time": "2024-05-02T18:41:00.441Z"
   },
   {
    "duration": 59,
    "start_time": "2024-05-02T18:41:00.498Z"
   },
   {
    "duration": 36,
    "start_time": "2024-05-02T18:41:00.559Z"
   },
   {
    "duration": 31,
    "start_time": "2024-05-02T18:41:00.598Z"
   },
   {
    "duration": 49,
    "start_time": "2024-05-02T18:41:00.632Z"
   },
   {
    "duration": 67,
    "start_time": "2024-05-02T18:41:00.683Z"
   },
   {
    "duration": 41,
    "start_time": "2024-05-02T18:41:00.753Z"
   },
   {
    "duration": 77,
    "start_time": "2024-05-02T19:01:58.344Z"
   },
   {
    "duration": 17,
    "start_time": "2024-05-02T19:16:00.720Z"
   },
   {
    "duration": 11,
    "start_time": "2024-05-02T19:16:31.552Z"
   },
   {
    "duration": 12,
    "start_time": "2024-05-02T19:16:45.225Z"
   },
   {
    "duration": 11,
    "start_time": "2024-05-02T19:17:19.971Z"
   },
   {
    "duration": 72,
    "start_time": "2024-05-02T19:28:13.576Z"
   },
   {
    "duration": 14,
    "start_time": "2024-05-02T19:28:15.295Z"
   },
   {
    "duration": 12,
    "start_time": "2024-05-02T19:28:20.759Z"
   },
   {
    "duration": 13,
    "start_time": "2024-05-02T19:28:27.975Z"
   },
   {
    "duration": 11,
    "start_time": "2024-05-02T19:28:28.647Z"
   },
   {
    "duration": 75,
    "start_time": "2024-05-02T19:33:52.164Z"
   },
   {
    "duration": 71,
    "start_time": "2024-05-02T19:34:02.092Z"
   },
   {
    "duration": 1259,
    "start_time": "2024-05-02T19:51:50.425Z"
   },
   {
    "duration": 72,
    "start_time": "2024-05-02T19:51:51.686Z"
   },
   {
    "duration": 18,
    "start_time": "2024-05-02T19:51:51.760Z"
   },
   {
    "duration": 23,
    "start_time": "2024-05-02T19:51:51.780Z"
   },
   {
    "duration": 11,
    "start_time": "2024-05-02T19:51:51.805Z"
   },
   {
    "duration": 13,
    "start_time": "2024-05-02T19:51:51.818Z"
   },
   {
    "duration": 7,
    "start_time": "2024-05-02T19:51:51.832Z"
   },
   {
    "duration": 16,
    "start_time": "2024-05-02T19:51:51.860Z"
   },
   {
    "duration": 16,
    "start_time": "2024-05-02T19:51:51.877Z"
   },
   {
    "duration": 21,
    "start_time": "2024-05-02T19:51:51.895Z"
   },
   {
    "duration": 7,
    "start_time": "2024-05-02T19:51:51.918Z"
   },
   {
    "duration": 8,
    "start_time": "2024-05-02T19:51:51.927Z"
   },
   {
    "duration": 23,
    "start_time": "2024-05-02T19:51:51.937Z"
   },
   {
    "duration": 9,
    "start_time": "2024-05-02T19:51:51.963Z"
   },
   {
    "duration": 25,
    "start_time": "2024-05-02T19:51:51.974Z"
   },
   {
    "duration": 8,
    "start_time": "2024-05-02T19:51:52.001Z"
   },
   {
    "duration": 211,
    "start_time": "2024-05-02T19:51:52.011Z"
   },
   {
    "duration": 8,
    "start_time": "2024-05-02T19:51:52.224Z"
   },
   {
    "duration": 65,
    "start_time": "2024-05-02T19:51:52.233Z"
   },
   {
    "duration": 179,
    "start_time": "2024-05-02T19:51:52.299Z"
   },
   {
    "duration": 9,
    "start_time": "2024-05-02T19:51:52.480Z"
   },
   {
    "duration": 197,
    "start_time": "2024-05-02T19:51:52.491Z"
   },
   {
    "duration": 6,
    "start_time": "2024-05-02T19:51:52.690Z"
   },
   {
    "duration": 21,
    "start_time": "2024-05-02T19:51:52.698Z"
   },
   {
    "duration": 192,
    "start_time": "2024-05-02T19:51:52.721Z"
   },
   {
    "duration": 8,
    "start_time": "2024-05-02T19:51:52.915Z"
   },
   {
    "duration": 6,
    "start_time": "2024-05-02T19:51:52.925Z"
   },
   {
    "duration": 29,
    "start_time": "2024-05-02T19:51:52.934Z"
   },
   {
    "duration": 196,
    "start_time": "2024-05-02T19:51:52.965Z"
   },
   {
    "duration": 13,
    "start_time": "2024-05-02T19:51:53.163Z"
   },
   {
    "duration": 11,
    "start_time": "2024-05-02T19:51:53.178Z"
   },
   {
    "duration": 29,
    "start_time": "2024-05-02T19:51:53.192Z"
   },
   {
    "duration": 38,
    "start_time": "2024-05-02T19:51:53.222Z"
   },
   {
    "duration": 9,
    "start_time": "2024-05-02T19:51:53.262Z"
   },
   {
    "duration": 10,
    "start_time": "2024-05-02T19:51:53.272Z"
   },
   {
    "duration": 8,
    "start_time": "2024-05-02T19:51:53.284Z"
   },
   {
    "duration": 201,
    "start_time": "2024-05-02T19:51:53.293Z"
   },
   {
    "duration": 12,
    "start_time": "2024-05-02T19:51:53.496Z"
   },
   {
    "duration": 10,
    "start_time": "2024-05-02T19:51:53.510Z"
   },
   {
    "duration": 198,
    "start_time": "2024-05-02T19:51:53.522Z"
   },
   {
    "duration": 45,
    "start_time": "2024-05-02T19:51:53.722Z"
   },
   {
    "duration": 10,
    "start_time": "2024-05-02T19:51:53.769Z"
   },
   {
    "duration": 19,
    "start_time": "2024-05-02T19:51:53.783Z"
   },
   {
    "duration": 8,
    "start_time": "2024-05-02T19:51:53.804Z"
   },
   {
    "duration": 6,
    "start_time": "2024-05-02T19:51:53.814Z"
   },
   {
    "duration": 17,
    "start_time": "2024-05-02T19:51:53.821Z"
   },
   {
    "duration": 22,
    "start_time": "2024-05-02T19:51:53.840Z"
   },
   {
    "duration": 14,
    "start_time": "2024-05-02T19:51:53.864Z"
   },
   {
    "duration": 9,
    "start_time": "2024-05-02T19:51:53.880Z"
   },
   {
    "duration": 9,
    "start_time": "2024-05-02T19:51:53.891Z"
   },
   {
    "duration": 3,
    "start_time": "2024-05-02T19:51:53.902Z"
   },
   {
    "duration": 12,
    "start_time": "2024-05-02T19:51:53.907Z"
   },
   {
    "duration": 7,
    "start_time": "2024-05-02T19:51:53.920Z"
   },
   {
    "duration": 1491,
    "start_time": "2024-05-03T16:43:23.180Z"
   },
   {
    "duration": 332,
    "start_time": "2024-05-03T16:43:24.674Z"
   },
   {
    "duration": 19,
    "start_time": "2024-05-03T16:43:25.009Z"
   },
   {
    "duration": 15,
    "start_time": "2024-05-03T16:43:25.031Z"
   },
   {
    "duration": 13,
    "start_time": "2024-05-03T16:43:25.048Z"
   },
   {
    "duration": 38,
    "start_time": "2024-05-03T16:43:25.063Z"
   },
   {
    "duration": 11,
    "start_time": "2024-05-03T16:43:25.103Z"
   },
   {
    "duration": 27,
    "start_time": "2024-05-03T16:43:25.115Z"
   },
   {
    "duration": 10,
    "start_time": "2024-05-03T16:43:25.145Z"
   },
   {
    "duration": 6,
    "start_time": "2024-05-03T16:43:25.159Z"
   },
   {
    "duration": 18,
    "start_time": "2024-05-03T16:43:25.166Z"
   },
   {
    "duration": 11,
    "start_time": "2024-05-03T16:43:25.186Z"
   },
   {
    "duration": 13,
    "start_time": "2024-05-03T16:43:25.199Z"
   },
   {
    "duration": 9,
    "start_time": "2024-05-03T16:43:25.214Z"
   },
   {
    "duration": 10,
    "start_time": "2024-05-03T16:43:25.225Z"
   },
   {
    "duration": 19,
    "start_time": "2024-05-03T16:43:25.237Z"
   },
   {
    "duration": 199,
    "start_time": "2024-05-03T16:43:25.281Z"
   },
   {
    "duration": 7,
    "start_time": "2024-05-03T16:43:25.482Z"
   },
   {
    "duration": 4,
    "start_time": "2024-05-03T16:43:25.491Z"
   },
   {
    "duration": 165,
    "start_time": "2024-05-03T16:43:25.497Z"
   },
   {
    "duration": 17,
    "start_time": "2024-05-03T16:43:25.664Z"
   },
   {
    "duration": 186,
    "start_time": "2024-05-03T16:43:25.683Z"
   },
   {
    "duration": 9,
    "start_time": "2024-05-03T16:43:25.871Z"
   },
   {
    "duration": 21,
    "start_time": "2024-05-03T16:43:25.882Z"
   },
   {
    "duration": 187,
    "start_time": "2024-05-03T16:43:25.905Z"
   },
   {
    "duration": 10,
    "start_time": "2024-05-03T16:43:26.094Z"
   },
   {
    "duration": 23,
    "start_time": "2024-05-03T16:43:26.106Z"
   },
   {
    "duration": 26,
    "start_time": "2024-05-03T16:43:26.134Z"
   },
   {
    "duration": 229,
    "start_time": "2024-05-03T16:43:26.162Z"
   },
   {
    "duration": 9,
    "start_time": "2024-05-03T16:43:26.393Z"
   },
   {
    "duration": 23,
    "start_time": "2024-05-03T16:43:26.404Z"
   },
   {
    "duration": 38,
    "start_time": "2024-05-03T16:43:26.429Z"
   },
   {
    "duration": 23,
    "start_time": "2024-05-03T16:43:26.469Z"
   },
   {
    "duration": 16,
    "start_time": "2024-05-03T16:43:26.494Z"
   },
   {
    "duration": 20,
    "start_time": "2024-05-03T16:43:26.512Z"
   },
   {
    "duration": 35,
    "start_time": "2024-05-03T16:43:26.534Z"
   },
   {
    "duration": 206,
    "start_time": "2024-05-03T16:43:26.571Z"
   },
   {
    "duration": 10,
    "start_time": "2024-05-03T16:43:26.778Z"
   },
   {
    "duration": 10,
    "start_time": "2024-05-03T16:43:26.790Z"
   },
   {
    "duration": 189,
    "start_time": "2024-05-03T16:43:26.801Z"
   },
   {
    "duration": 35,
    "start_time": "2024-05-03T16:43:26.991Z"
   },
   {
    "duration": 7,
    "start_time": "2024-05-03T16:43:27.027Z"
   },
   {
    "duration": 23,
    "start_time": "2024-05-03T16:43:27.035Z"
   },
   {
    "duration": 8,
    "start_time": "2024-05-03T16:43:27.081Z"
   },
   {
    "duration": 18,
    "start_time": "2024-05-03T16:43:27.090Z"
   },
   {
    "duration": 13,
    "start_time": "2024-05-03T16:43:27.110Z"
   },
   {
    "duration": 7,
    "start_time": "2024-05-03T16:43:27.124Z"
   },
   {
    "duration": 14,
    "start_time": "2024-05-03T16:43:27.132Z"
   },
   {
    "duration": 3,
    "start_time": "2024-05-03T16:43:27.148Z"
   },
   {
    "duration": 7,
    "start_time": "2024-05-03T16:43:27.153Z"
   },
   {
    "duration": 4,
    "start_time": "2024-05-03T16:43:27.180Z"
   },
   {
    "duration": 12,
    "start_time": "2024-05-03T16:43:27.186Z"
   },
   {
    "duration": 15,
    "start_time": "2024-05-03T16:43:27.199Z"
   },
   {
    "duration": 171,
    "start_time": "2024-05-03T16:47:26.889Z"
   },
   {
    "duration": 228,
    "start_time": "2024-05-03T16:47:37.828Z"
   },
   {
    "duration": 234,
    "start_time": "2024-05-03T16:48:24.390Z"
   },
   {
    "duration": 154,
    "start_time": "2024-05-03T16:48:37.646Z"
   },
   {
    "duration": 184,
    "start_time": "2024-05-03T16:50:27.115Z"
   },
   {
    "duration": 163,
    "start_time": "2024-05-03T16:51:28.764Z"
   },
   {
    "duration": 162,
    "start_time": "2024-05-03T16:51:51.637Z"
   },
   {
    "duration": 148,
    "start_time": "2024-05-03T16:54:28.514Z"
   },
   {
    "duration": 131,
    "start_time": "2024-05-03T16:56:08.527Z"
   },
   {
    "duration": 183,
    "start_time": "2024-05-03T17:00:38.496Z"
   },
   {
    "duration": 170,
    "start_time": "2024-05-03T17:01:53.627Z"
   },
   {
    "duration": 183,
    "start_time": "2024-05-03T17:03:22.702Z"
   },
   {
    "duration": 270,
    "start_time": "2024-05-03T17:03:31.597Z"
   },
   {
    "duration": 200,
    "start_time": "2024-05-03T17:03:42.798Z"
   },
   {
    "duration": 181,
    "start_time": "2024-05-03T17:06:33.051Z"
   },
   {
    "duration": 198,
    "start_time": "2024-05-03T17:08:07.425Z"
   },
   {
    "duration": 174,
    "start_time": "2024-05-03T17:16:25.986Z"
   },
   {
    "duration": 200,
    "start_time": "2024-05-03T17:17:18.267Z"
   },
   {
    "duration": 190,
    "start_time": "2024-05-03T17:17:31.406Z"
   },
   {
    "duration": 4,
    "start_time": "2024-05-03T17:31:36.139Z"
   },
   {
    "duration": 4,
    "start_time": "2024-05-03T17:31:57.945Z"
   },
   {
    "duration": 4,
    "start_time": "2024-05-03T17:33:41.887Z"
   },
   {
    "duration": 4,
    "start_time": "2024-05-03T17:36:12.061Z"
   },
   {
    "duration": 10,
    "start_time": "2024-05-03T17:39:05.995Z"
   },
   {
    "duration": 176,
    "start_time": "2024-05-03T17:44:21.911Z"
   },
   {
    "duration": 172,
    "start_time": "2024-05-03T17:44:50.823Z"
   },
   {
    "duration": 185,
    "start_time": "2024-05-03T17:45:21.321Z"
   },
   {
    "duration": 171,
    "start_time": "2024-05-03T17:45:36.423Z"
   },
   {
    "duration": 312,
    "start_time": "2024-05-03T17:46:47.379Z"
   },
   {
    "duration": 173,
    "start_time": "2024-05-03T17:47:29.149Z"
   },
   {
    "duration": 183,
    "start_time": "2024-05-03T17:47:55.150Z"
   },
   {
    "duration": 176,
    "start_time": "2024-05-03T17:48:39.189Z"
   },
   {
    "duration": 27,
    "start_time": "2024-05-03T17:50:48.884Z"
   },
   {
    "duration": 9,
    "start_time": "2024-05-03T17:51:03.122Z"
   },
   {
    "duration": 8,
    "start_time": "2024-05-03T17:51:55.008Z"
   },
   {
    "duration": 6,
    "start_time": "2024-05-03T17:57:50.308Z"
   },
   {
    "duration": 4,
    "start_time": "2024-05-03T17:59:39.023Z"
   },
   {
    "duration": 179,
    "start_time": "2024-05-03T18:05:55.565Z"
   },
   {
    "duration": 4,
    "start_time": "2024-05-03T18:34:24.042Z"
   },
   {
    "duration": 76,
    "start_time": "2024-05-03T18:34:24.048Z"
   },
   {
    "duration": 9,
    "start_time": "2024-05-03T18:34:24.126Z"
   },
   {
    "duration": 20,
    "start_time": "2024-05-03T18:34:24.137Z"
   },
   {
    "duration": 14,
    "start_time": "2024-05-03T18:34:24.159Z"
   },
   {
    "duration": 19,
    "start_time": "2024-05-03T18:34:24.174Z"
   },
   {
    "duration": 7,
    "start_time": "2024-05-03T18:34:24.195Z"
   },
   {
    "duration": 13,
    "start_time": "2024-05-03T18:34:24.203Z"
   },
   {
    "duration": 6,
    "start_time": "2024-05-03T18:34:24.218Z"
   },
   {
    "duration": 12,
    "start_time": "2024-05-03T18:34:24.226Z"
   },
   {
    "duration": 5,
    "start_time": "2024-05-03T18:34:24.240Z"
   },
   {
    "duration": 7,
    "start_time": "2024-05-03T18:34:24.247Z"
   },
   {
    "duration": 27,
    "start_time": "2024-05-03T18:34:24.256Z"
   },
   {
    "duration": 8,
    "start_time": "2024-05-03T18:34:24.287Z"
   },
   {
    "duration": 23,
    "start_time": "2024-05-03T18:34:24.296Z"
   },
   {
    "duration": 8,
    "start_time": "2024-05-03T18:34:24.321Z"
   },
   {
    "duration": 181,
    "start_time": "2024-05-03T18:34:24.331Z"
   },
   {
    "duration": 8,
    "start_time": "2024-05-03T18:34:24.513Z"
   },
   {
    "duration": 4,
    "start_time": "2024-05-03T18:34:24.522Z"
   },
   {
    "duration": 163,
    "start_time": "2024-05-03T18:34:24.528Z"
   },
   {
    "duration": 8,
    "start_time": "2024-05-03T18:34:24.693Z"
   },
   {
    "duration": 191,
    "start_time": "2024-05-03T18:34:24.703Z"
   },
   {
    "duration": 6,
    "start_time": "2024-05-03T18:34:24.896Z"
   },
   {
    "duration": 24,
    "start_time": "2024-05-03T18:34:24.903Z"
   },
   {
    "duration": 223,
    "start_time": "2024-05-03T18:34:24.928Z"
   },
   {
    "duration": 8,
    "start_time": "2024-05-03T18:34:25.153Z"
   },
   {
    "duration": 21,
    "start_time": "2024-05-03T18:34:25.163Z"
   },
   {
    "duration": 216,
    "start_time": "2024-05-03T18:34:25.186Z"
   },
   {
    "duration": 8,
    "start_time": "2024-05-03T18:34:25.403Z"
   },
   {
    "duration": 10,
    "start_time": "2024-05-03T18:34:25.412Z"
   },
   {
    "duration": 7,
    "start_time": "2024-05-03T18:34:25.423Z"
   },
   {
    "duration": 30,
    "start_time": "2024-05-03T18:34:25.432Z"
   },
   {
    "duration": 4,
    "start_time": "2024-05-03T18:34:25.479Z"
   },
   {
    "duration": 13,
    "start_time": "2024-05-03T18:34:25.485Z"
   },
   {
    "duration": 9,
    "start_time": "2024-05-03T18:34:25.500Z"
   },
   {
    "duration": 6,
    "start_time": "2024-05-03T18:34:25.511Z"
   },
   {
    "duration": 13,
    "start_time": "2024-05-03T18:34:25.519Z"
   },
   {
    "duration": 15,
    "start_time": "2024-05-03T18:34:25.533Z"
   },
   {
    "duration": 227,
    "start_time": "2024-05-03T18:34:25.549Z"
   },
   {
    "duration": 9,
    "start_time": "2024-05-03T18:34:25.777Z"
   },
   {
    "duration": 24,
    "start_time": "2024-05-03T18:34:25.789Z"
   },
   {
    "duration": 158,
    "start_time": "2024-05-03T18:34:25.814Z"
   },
   {
    "duration": 35,
    "start_time": "2024-05-03T18:34:25.973Z"
   },
   {
    "duration": 6,
    "start_time": "2024-05-03T18:34:26.009Z"
   },
   {
    "duration": 16,
    "start_time": "2024-05-03T18:34:26.017Z"
   },
   {
    "duration": 8,
    "start_time": "2024-05-03T18:34:26.034Z"
   },
   {
    "duration": 40,
    "start_time": "2024-05-03T18:34:26.043Z"
   },
   {
    "duration": 2,
    "start_time": "2024-05-03T18:34:26.085Z"
   },
   {
    "duration": 10,
    "start_time": "2024-05-03T18:34:26.089Z"
   },
   {
    "duration": 6,
    "start_time": "2024-05-03T18:34:26.101Z"
   },
   {
    "duration": 12,
    "start_time": "2024-05-03T18:34:26.109Z"
   },
   {
    "duration": 7,
    "start_time": "2024-05-03T18:34:26.122Z"
   },
   {
    "duration": 23,
    "start_time": "2024-05-03T18:34:26.131Z"
   },
   {
    "duration": 4,
    "start_time": "2024-05-03T18:34:26.155Z"
   },
   {
    "duration": 19,
    "start_time": "2024-05-03T18:34:26.161Z"
   },
   {
    "duration": 8,
    "start_time": "2024-05-03T18:34:26.181Z"
   },
   {
    "duration": 1217,
    "start_time": "2024-05-03T18:34:45.794Z"
   },
   {
    "duration": 70,
    "start_time": "2024-05-03T18:34:47.013Z"
   },
   {
    "duration": 15,
    "start_time": "2024-05-03T18:34:47.085Z"
   },
   {
    "duration": 16,
    "start_time": "2024-05-03T18:34:47.103Z"
   },
   {
    "duration": 15,
    "start_time": "2024-05-03T18:34:47.121Z"
   },
   {
    "duration": 14,
    "start_time": "2024-05-03T18:34:47.140Z"
   },
   {
    "duration": 34,
    "start_time": "2024-05-03T18:34:47.156Z"
   },
   {
    "duration": 14,
    "start_time": "2024-05-03T18:34:47.193Z"
   },
   {
    "duration": 10,
    "start_time": "2024-05-03T18:34:47.209Z"
   },
   {
    "duration": 8,
    "start_time": "2024-05-03T18:34:47.221Z"
   },
   {
    "duration": 7,
    "start_time": "2024-05-03T18:34:47.230Z"
   },
   {
    "duration": 43,
    "start_time": "2024-05-03T18:34:47.239Z"
   },
   {
    "duration": 10,
    "start_time": "2024-05-03T18:34:47.285Z"
   },
   {
    "duration": 7,
    "start_time": "2024-05-03T18:34:47.297Z"
   },
   {
    "duration": 8,
    "start_time": "2024-05-03T18:34:47.305Z"
   },
   {
    "duration": 10,
    "start_time": "2024-05-03T18:34:47.315Z"
   },
   {
    "duration": 210,
    "start_time": "2024-05-03T18:34:47.327Z"
   },
   {
    "duration": 8,
    "start_time": "2024-05-03T18:34:47.539Z"
   },
   {
    "duration": 23,
    "start_time": "2024-05-03T18:34:47.549Z"
   },
   {
    "duration": 215,
    "start_time": "2024-05-03T18:34:47.574Z"
   },
   {
    "duration": 8,
    "start_time": "2024-05-03T18:34:47.791Z"
   },
   {
    "duration": 218,
    "start_time": "2024-05-03T18:34:47.801Z"
   },
   {
    "duration": 6,
    "start_time": "2024-05-03T18:34:48.021Z"
   },
   {
    "duration": 17,
    "start_time": "2024-05-03T18:34:48.028Z"
   },
   {
    "duration": 201,
    "start_time": "2024-05-03T18:34:48.047Z"
   },
   {
    "duration": 7,
    "start_time": "2024-05-03T18:34:48.250Z"
   },
   {
    "duration": 35,
    "start_time": "2024-05-03T18:34:48.259Z"
   },
   {
    "duration": 206,
    "start_time": "2024-05-03T18:34:48.299Z"
   },
   {
    "duration": 8,
    "start_time": "2024-05-03T18:34:48.507Z"
   },
   {
    "duration": 14,
    "start_time": "2024-05-03T18:34:48.517Z"
   },
   {
    "duration": 14,
    "start_time": "2024-05-03T18:34:48.532Z"
   },
   {
    "duration": 44,
    "start_time": "2024-05-03T18:34:48.548Z"
   },
   {
    "duration": 7,
    "start_time": "2024-05-03T18:34:48.594Z"
   },
   {
    "duration": 13,
    "start_time": "2024-05-03T18:34:48.603Z"
   },
   {
    "duration": 9,
    "start_time": "2024-05-03T18:34:48.618Z"
   },
   {
    "duration": 10,
    "start_time": "2024-05-03T18:34:48.628Z"
   },
   {
    "duration": 41,
    "start_time": "2024-05-03T18:34:48.640Z"
   },
   {
    "duration": 11,
    "start_time": "2024-05-03T18:34:48.683Z"
   },
   {
    "duration": 200,
    "start_time": "2024-05-03T18:34:48.696Z"
   },
   {
    "duration": 10,
    "start_time": "2024-05-03T18:34:48.898Z"
   },
   {
    "duration": 11,
    "start_time": "2024-05-03T18:34:48.910Z"
   },
   {
    "duration": 191,
    "start_time": "2024-05-03T18:34:48.924Z"
   },
   {
    "duration": 36,
    "start_time": "2024-05-03T18:34:49.116Z"
   },
   {
    "duration": 27,
    "start_time": "2024-05-03T18:34:49.153Z"
   },
   {
    "duration": 26,
    "start_time": "2024-05-03T18:34:49.182Z"
   },
   {
    "duration": 9,
    "start_time": "2024-05-03T18:34:49.211Z"
   },
   {
    "duration": 8,
    "start_time": "2024-05-03T18:34:49.221Z"
   },
   {
    "duration": 9,
    "start_time": "2024-05-03T18:34:49.230Z"
   },
   {
    "duration": 12,
    "start_time": "2024-05-03T18:34:49.241Z"
   },
   {
    "duration": 6,
    "start_time": "2024-05-03T18:34:49.280Z"
   },
   {
    "duration": 6,
    "start_time": "2024-05-03T18:34:49.287Z"
   },
   {
    "duration": 12,
    "start_time": "2024-05-03T18:34:49.295Z"
   },
   {
    "duration": 19,
    "start_time": "2024-05-03T18:34:49.309Z"
   },
   {
    "duration": 4,
    "start_time": "2024-05-03T18:34:49.329Z"
   },
   {
    "duration": 17,
    "start_time": "2024-05-03T18:34:49.334Z"
   },
   {
    "duration": 7,
    "start_time": "2024-05-03T18:34:49.352Z"
   },
   {
    "duration": 110,
    "start_time": "2024-05-03T18:39:18.411Z"
   },
   {
    "duration": 83,
    "start_time": "2024-05-03T18:39:43.556Z"
   },
   {
    "duration": 18,
    "start_time": "2024-05-03T18:40:04.782Z"
   },
   {
    "duration": 18,
    "start_time": "2024-05-03T18:40:59.706Z"
   },
   {
    "duration": 19,
    "start_time": "2024-05-03T18:41:06.590Z"
   },
   {
    "duration": 18,
    "start_time": "2024-05-03T18:41:27.369Z"
   },
   {
    "duration": 15,
    "start_time": "2024-05-03T18:42:32.826Z"
   },
   {
    "duration": 6,
    "start_time": "2024-05-03T18:43:43.811Z"
   },
   {
    "duration": 6,
    "start_time": "2024-05-03T18:43:58.868Z"
   },
   {
    "duration": 1221,
    "start_time": "2024-05-03T18:50:41.505Z"
   },
   {
    "duration": 78,
    "start_time": "2024-05-03T18:50:42.728Z"
   },
   {
    "duration": 12,
    "start_time": "2024-05-03T18:50:42.808Z"
   },
   {
    "duration": 10,
    "start_time": "2024-05-03T18:50:42.822Z"
   },
   {
    "duration": 11,
    "start_time": "2024-05-03T18:50:42.833Z"
   },
   {
    "duration": 11,
    "start_time": "2024-05-03T18:50:42.845Z"
   },
   {
    "duration": 7,
    "start_time": "2024-05-03T18:50:42.857Z"
   },
   {
    "duration": 42,
    "start_time": "2024-05-03T18:50:42.865Z"
   },
   {
    "duration": 5,
    "start_time": "2024-05-03T18:50:42.909Z"
   },
   {
    "duration": 8,
    "start_time": "2024-05-03T18:50:42.916Z"
   },
   {
    "duration": 5,
    "start_time": "2024-05-03T18:50:42.925Z"
   },
   {
    "duration": 5,
    "start_time": "2024-05-03T18:50:42.932Z"
   },
   {
    "duration": 8,
    "start_time": "2024-05-03T18:50:42.938Z"
   },
   {
    "duration": 5,
    "start_time": "2024-05-03T18:50:42.948Z"
   },
   {
    "duration": 5,
    "start_time": "2024-05-03T18:50:42.955Z"
   },
   {
    "duration": 27,
    "start_time": "2024-05-03T18:50:42.962Z"
   },
   {
    "duration": 201,
    "start_time": "2024-05-03T18:50:42.991Z"
   },
   {
    "duration": 9,
    "start_time": "2024-05-03T18:50:43.197Z"
   },
   {
    "duration": 11,
    "start_time": "2024-05-03T18:50:43.207Z"
   },
   {
    "duration": 133,
    "start_time": "2024-05-03T18:50:43.219Z"
   },
   {
    "duration": 8,
    "start_time": "2024-05-03T18:50:43.354Z"
   },
   {
    "duration": 214,
    "start_time": "2024-05-03T18:50:43.363Z"
   },
   {
    "duration": 11,
    "start_time": "2024-05-03T18:50:43.579Z"
   },
   {
    "duration": 26,
    "start_time": "2024-05-03T18:50:43.592Z"
   },
   {
    "duration": 191,
    "start_time": "2024-05-03T18:50:43.619Z"
   },
   {
    "duration": 8,
    "start_time": "2024-05-03T18:50:43.812Z"
   },
   {
    "duration": 11,
    "start_time": "2024-05-03T18:50:43.823Z"
   },
   {
    "duration": 213,
    "start_time": "2024-05-03T18:50:43.836Z"
   },
   {
    "duration": 7,
    "start_time": "2024-05-03T18:50:44.051Z"
   },
   {
    "duration": 3,
    "start_time": "2024-05-03T18:50:44.060Z"
   },
   {
    "duration": 18,
    "start_time": "2024-05-03T18:50:44.080Z"
   },
   {
    "duration": 31,
    "start_time": "2024-05-03T18:50:44.099Z"
   },
   {
    "duration": 4,
    "start_time": "2024-05-03T18:50:44.133Z"
   },
   {
    "duration": 10,
    "start_time": "2024-05-03T18:50:44.139Z"
   },
   {
    "duration": 8,
    "start_time": "2024-05-03T18:50:44.151Z"
   },
   {
    "duration": 34,
    "start_time": "2024-05-03T18:50:44.161Z"
   },
   {
    "duration": 10,
    "start_time": "2024-05-03T18:50:44.204Z"
   },
   {
    "duration": 9,
    "start_time": "2024-05-03T18:50:44.215Z"
   },
   {
    "duration": 190,
    "start_time": "2024-05-03T18:50:44.225Z"
   },
   {
    "duration": 9,
    "start_time": "2024-05-03T18:50:44.417Z"
   },
   {
    "duration": 34,
    "start_time": "2024-05-03T18:50:44.427Z"
   },
   {
    "duration": 194,
    "start_time": "2024-05-03T18:50:44.463Z"
   },
   {
    "duration": 53,
    "start_time": "2024-05-03T18:50:44.659Z"
   },
   {
    "duration": 6,
    "start_time": "2024-05-03T18:50:44.714Z"
   },
   {
    "duration": 17,
    "start_time": "2024-05-03T18:50:44.722Z"
   },
   {
    "duration": 8,
    "start_time": "2024-05-03T18:50:44.741Z"
   },
   {
    "duration": 24,
    "start_time": "2024-05-03T18:50:44.750Z"
   },
   {
    "duration": 2,
    "start_time": "2024-05-03T18:50:44.781Z"
   },
   {
    "duration": 32,
    "start_time": "2024-05-03T18:50:44.785Z"
   },
   {
    "duration": 7,
    "start_time": "2024-05-03T18:50:44.818Z"
   },
   {
    "duration": 6,
    "start_time": "2024-05-03T18:50:44.826Z"
   },
   {
    "duration": 4,
    "start_time": "2024-05-03T18:50:44.833Z"
   },
   {
    "duration": 6,
    "start_time": "2024-05-03T18:50:44.838Z"
   },
   {
    "duration": 3,
    "start_time": "2024-05-03T18:50:44.845Z"
   },
   {
    "duration": 16,
    "start_time": "2024-05-03T18:50:44.849Z"
   },
   {
    "duration": 20,
    "start_time": "2024-05-03T18:50:44.866Z"
   },
   {
    "duration": 27,
    "start_time": "2024-05-03T18:50:44.887Z"
   },
   {
    "duration": 22,
    "start_time": "2024-05-03T18:50:44.915Z"
   },
   {
    "duration": 182,
    "start_time": "2024-05-03T18:52:17.257Z"
   },
   {
    "duration": 249,
    "start_time": "2024-05-03T18:52:44.529Z"
   },
   {
    "duration": 187,
    "start_time": "2024-05-03T18:52:56.361Z"
   },
   {
    "duration": 156,
    "start_time": "2024-05-03T18:54:59.775Z"
   },
   {
    "duration": 102,
    "start_time": "2024-05-03T18:55:44.240Z"
   },
   {
    "duration": 151,
    "start_time": "2024-05-03T18:56:13.313Z"
   },
   {
    "duration": 74,
    "start_time": "2024-05-03T18:57:17.694Z"
   },
   {
    "duration": 175,
    "start_time": "2024-05-03T18:57:25.474Z"
   },
   {
    "duration": 175,
    "start_time": "2024-05-03T18:58:08.724Z"
   },
   {
    "duration": 1153,
    "start_time": "2024-05-03T18:58:27.477Z"
   },
   {
    "duration": 70,
    "start_time": "2024-05-03T18:58:28.632Z"
   },
   {
    "duration": 12,
    "start_time": "2024-05-03T18:58:28.704Z"
   },
   {
    "duration": 23,
    "start_time": "2024-05-03T18:58:28.717Z"
   },
   {
    "duration": 10,
    "start_time": "2024-05-03T18:58:28.744Z"
   },
   {
    "duration": 12,
    "start_time": "2024-05-03T18:58:28.755Z"
   },
   {
    "duration": 6,
    "start_time": "2024-05-03T18:58:28.769Z"
   },
   {
    "duration": 9,
    "start_time": "2024-05-03T18:58:28.780Z"
   },
   {
    "duration": 7,
    "start_time": "2024-05-03T18:58:28.791Z"
   },
   {
    "duration": 5,
    "start_time": "2024-05-03T18:58:28.799Z"
   },
   {
    "duration": 8,
    "start_time": "2024-05-03T18:58:28.805Z"
   },
   {
    "duration": 6,
    "start_time": "2024-05-03T18:58:28.815Z"
   },
   {
    "duration": 8,
    "start_time": "2024-05-03T18:58:28.823Z"
   },
   {
    "duration": 6,
    "start_time": "2024-05-03T18:58:28.835Z"
   },
   {
    "duration": 6,
    "start_time": "2024-05-03T18:58:28.880Z"
   },
   {
    "duration": 11,
    "start_time": "2024-05-03T18:58:28.888Z"
   },
   {
    "duration": 181,
    "start_time": "2024-05-03T18:58:28.901Z"
   },
   {
    "duration": 7,
    "start_time": "2024-05-03T18:58:29.083Z"
   },
   {
    "duration": 7,
    "start_time": "2024-05-03T18:58:29.091Z"
   },
   {
    "duration": 135,
    "start_time": "2024-05-03T18:58:29.100Z"
   },
   {
    "duration": 8,
    "start_time": "2024-05-03T18:58:29.236Z"
   },
   {
    "duration": 195,
    "start_time": "2024-05-03T18:58:29.245Z"
   },
   {
    "duration": 6,
    "start_time": "2024-05-03T18:58:29.442Z"
   },
   {
    "duration": 16,
    "start_time": "2024-05-03T18:58:29.450Z"
   },
   {
    "duration": 199,
    "start_time": "2024-05-03T18:58:29.468Z"
   },
   {
    "duration": 12,
    "start_time": "2024-05-03T18:58:29.669Z"
   },
   {
    "duration": 27,
    "start_time": "2024-05-03T18:58:29.683Z"
   },
   {
    "duration": 195,
    "start_time": "2024-05-03T18:58:29.711Z"
   },
   {
    "duration": 7,
    "start_time": "2024-05-03T18:58:29.907Z"
   },
   {
    "duration": 28,
    "start_time": "2024-05-03T18:58:29.915Z"
   },
   {
    "duration": 5,
    "start_time": "2024-05-03T18:58:29.944Z"
   },
   {
    "duration": 27,
    "start_time": "2024-05-03T18:58:29.950Z"
   },
   {
    "duration": 3,
    "start_time": "2024-05-03T18:58:29.978Z"
   },
   {
    "duration": 10,
    "start_time": "2024-05-03T18:58:29.983Z"
   },
   {
    "duration": 31,
    "start_time": "2024-05-03T18:58:29.995Z"
   },
   {
    "duration": 47,
    "start_time": "2024-05-03T18:58:30.028Z"
   },
   {
    "duration": 12,
    "start_time": "2024-05-03T18:58:30.076Z"
   },
   {
    "duration": 37,
    "start_time": "2024-05-03T18:58:30.089Z"
   },
   {
    "duration": 202,
    "start_time": "2024-05-03T18:58:30.128Z"
   },
   {
    "duration": 9,
    "start_time": "2024-05-03T18:58:30.331Z"
   },
   {
    "duration": 42,
    "start_time": "2024-05-03T18:58:30.343Z"
   },
   {
    "duration": 178,
    "start_time": "2024-05-03T18:58:30.387Z"
   },
   {
    "duration": 39,
    "start_time": "2024-05-03T18:58:30.567Z"
   },
   {
    "duration": 53,
    "start_time": "2024-05-03T18:58:30.607Z"
   },
   {
    "duration": 46,
    "start_time": "2024-05-03T18:58:30.662Z"
   },
   {
    "duration": 19,
    "start_time": "2024-05-03T18:58:30.710Z"
   },
   {
    "duration": 39,
    "start_time": "2024-05-03T18:58:30.730Z"
   },
   {
    "duration": 29,
    "start_time": "2024-05-03T18:58:30.771Z"
   },
   {
    "duration": 92,
    "start_time": "2024-05-03T18:58:30.802Z"
   },
   {
    "duration": 47,
    "start_time": "2024-05-03T18:58:30.896Z"
   },
   {
    "duration": 50,
    "start_time": "2024-05-03T18:58:30.944Z"
   },
   {
    "duration": 31,
    "start_time": "2024-05-03T18:58:30.996Z"
   },
   {
    "duration": 57,
    "start_time": "2024-05-03T18:58:31.028Z"
   },
   {
    "duration": 36,
    "start_time": "2024-05-03T18:58:31.086Z"
   },
   {
    "duration": 35,
    "start_time": "2024-05-03T18:58:31.124Z"
   },
   {
    "duration": 25,
    "start_time": "2024-05-03T18:58:31.160Z"
   },
   {
    "duration": 44,
    "start_time": "2024-05-03T18:58:31.187Z"
   },
   {
    "duration": 58,
    "start_time": "2024-05-03T18:58:31.233Z"
   },
   {
    "duration": 1560,
    "start_time": "2024-05-03T19:05:20.166Z"
   },
   {
    "duration": 323,
    "start_time": "2024-05-03T19:05:21.728Z"
   },
   {
    "duration": 15,
    "start_time": "2024-05-03T19:05:22.053Z"
   },
   {
    "duration": 70,
    "start_time": "2024-05-03T19:05:22.071Z"
   },
   {
    "duration": 35,
    "start_time": "2024-05-03T19:05:22.143Z"
   },
   {
    "duration": 18,
    "start_time": "2024-05-03T19:05:22.180Z"
   },
   {
    "duration": 11,
    "start_time": "2024-05-03T19:05:22.200Z"
   },
   {
    "duration": 18,
    "start_time": "2024-05-03T19:05:22.213Z"
   },
   {
    "duration": 12,
    "start_time": "2024-05-03T19:05:22.233Z"
   },
   {
    "duration": 7,
    "start_time": "2024-05-03T19:05:22.249Z"
   },
   {
    "duration": 7,
    "start_time": "2024-05-03T19:05:22.258Z"
   },
   {
    "duration": 27,
    "start_time": "2024-05-03T19:05:22.266Z"
   },
   {
    "duration": 11,
    "start_time": "2024-05-03T19:05:22.295Z"
   },
   {
    "duration": 7,
    "start_time": "2024-05-03T19:05:22.308Z"
   },
   {
    "duration": 9,
    "start_time": "2024-05-03T19:05:22.316Z"
   },
   {
    "duration": 18,
    "start_time": "2024-05-03T19:05:22.327Z"
   },
   {
    "duration": 206,
    "start_time": "2024-05-03T19:05:22.347Z"
   },
   {
    "duration": 7,
    "start_time": "2024-05-03T19:05:22.555Z"
   },
   {
    "duration": 5,
    "start_time": "2024-05-03T19:05:22.564Z"
   },
   {
    "duration": 137,
    "start_time": "2024-05-03T19:05:22.592Z"
   },
   {
    "duration": 9,
    "start_time": "2024-05-03T19:05:22.731Z"
   },
   {
    "duration": 199,
    "start_time": "2024-05-03T19:05:22.741Z"
   },
   {
    "duration": 7,
    "start_time": "2024-05-03T19:05:22.942Z"
   },
   {
    "duration": 13,
    "start_time": "2024-05-03T19:05:22.951Z"
   },
   {
    "duration": 262,
    "start_time": "2024-05-03T19:05:22.966Z"
   },
   {
    "duration": 9,
    "start_time": "2024-05-03T19:05:23.229Z"
   },
   {
    "duration": 12,
    "start_time": "2024-05-03T19:05:23.240Z"
   },
   {
    "duration": 266,
    "start_time": "2024-05-03T19:05:23.257Z"
   },
   {
    "duration": 10,
    "start_time": "2024-05-03T19:05:23.525Z"
   },
   {
    "duration": 25,
    "start_time": "2024-05-03T19:05:23.537Z"
   },
   {
    "duration": 24,
    "start_time": "2024-05-03T19:05:23.564Z"
   },
   {
    "duration": 43,
    "start_time": "2024-05-03T19:05:23.590Z"
   },
   {
    "duration": 20,
    "start_time": "2024-05-03T19:05:23.635Z"
   },
   {
    "duration": 44,
    "start_time": "2024-05-03T19:05:23.657Z"
   },
   {
    "duration": 16,
    "start_time": "2024-05-03T19:05:23.703Z"
   },
   {
    "duration": 28,
    "start_time": "2024-05-03T19:05:23.721Z"
   },
   {
    "duration": 21,
    "start_time": "2024-05-03T19:05:23.751Z"
   },
   {
    "duration": 15,
    "start_time": "2024-05-03T19:05:23.774Z"
   },
   {
    "duration": 199,
    "start_time": "2024-05-03T19:05:23.791Z"
   },
   {
    "duration": 11,
    "start_time": "2024-05-03T19:05:23.992Z"
   },
   {
    "duration": 14,
    "start_time": "2024-05-03T19:05:24.005Z"
   },
   {
    "duration": 199,
    "start_time": "2024-05-03T19:05:24.021Z"
   },
   {
    "duration": 50,
    "start_time": "2024-05-03T19:05:24.222Z"
   },
   {
    "duration": 45,
    "start_time": "2024-05-03T19:05:24.274Z"
   },
   {
    "duration": 32,
    "start_time": "2024-05-03T19:05:24.321Z"
   },
   {
    "duration": 11,
    "start_time": "2024-05-03T19:05:24.356Z"
   },
   {
    "duration": 14,
    "start_time": "2024-05-03T19:05:24.369Z"
   },
   {
    "duration": 3,
    "start_time": "2024-05-03T19:05:24.386Z"
   },
   {
    "duration": 98,
    "start_time": "2024-05-03T19:05:24.391Z"
   },
   {
    "duration": 6,
    "start_time": "2024-05-03T19:05:24.490Z"
   },
   {
    "duration": 16,
    "start_time": "2024-05-03T19:05:24.497Z"
   },
   {
    "duration": 3,
    "start_time": "2024-05-03T19:05:24.515Z"
   },
   {
    "duration": 8,
    "start_time": "2024-05-03T19:05:24.520Z"
   },
   {
    "duration": 7,
    "start_time": "2024-05-03T19:05:24.529Z"
   },
   {
    "duration": 11,
    "start_time": "2024-05-03T19:05:24.537Z"
   },
   {
    "duration": 7,
    "start_time": "2024-05-03T19:05:24.549Z"
   },
   {
    "duration": 11,
    "start_time": "2024-05-03T19:05:24.557Z"
   },
   {
    "duration": 24,
    "start_time": "2024-05-03T19:05:24.570Z"
   },
   {
    "duration": 47,
    "start_time": "2024-05-09T10:52:08.105Z"
   },
   {
    "duration": 7,
    "start_time": "2024-05-09T10:52:16.835Z"
   },
   {
    "duration": 7,
    "start_time": "2024-05-09T10:52:29.194Z"
   },
   {
    "duration": 1086,
    "start_time": "2024-05-09T10:52:38.327Z"
   },
   {
    "duration": 209,
    "start_time": "2024-05-09T10:52:39.415Z"
   },
   {
    "duration": 11,
    "start_time": "2024-05-09T10:52:39.625Z"
   },
   {
    "duration": 9,
    "start_time": "2024-05-09T10:52:39.638Z"
   },
   {
    "duration": 11,
    "start_time": "2024-05-09T10:52:39.649Z"
   },
   {
    "duration": 10,
    "start_time": "2024-05-09T10:52:39.661Z"
   },
   {
    "duration": 6,
    "start_time": "2024-05-09T10:52:39.673Z"
   },
   {
    "duration": 20,
    "start_time": "2024-05-09T10:52:39.680Z"
   },
   {
    "duration": 7,
    "start_time": "2024-05-09T10:52:39.701Z"
   },
   {
    "duration": 16,
    "start_time": "2024-05-09T10:52:39.710Z"
   },
   {
    "duration": 6,
    "start_time": "2024-05-09T10:52:39.727Z"
   },
   {
    "duration": 12,
    "start_time": "2024-05-09T10:52:39.734Z"
   },
   {
    "duration": 7,
    "start_time": "2024-05-09T10:52:39.747Z"
   },
   {
    "duration": 15,
    "start_time": "2024-05-09T10:52:39.755Z"
   },
   {
    "duration": 8,
    "start_time": "2024-05-09T10:52:39.771Z"
   },
   {
    "duration": 12,
    "start_time": "2024-05-09T10:52:39.780Z"
   },
   {
    "duration": 152,
    "start_time": "2024-05-09T10:52:39.794Z"
   },
   {
    "duration": 6,
    "start_time": "2024-05-09T10:52:39.948Z"
   },
   {
    "duration": 8,
    "start_time": "2024-05-09T10:52:39.956Z"
   },
   {
    "duration": 126,
    "start_time": "2024-05-09T10:52:39.965Z"
   },
   {
    "duration": 8,
    "start_time": "2024-05-09T10:52:40.092Z"
   },
   {
    "duration": 198,
    "start_time": "2024-05-09T10:52:40.101Z"
   },
   {
    "duration": 5,
    "start_time": "2024-05-09T10:52:40.300Z"
   },
   {
    "duration": 17,
    "start_time": "2024-05-09T10:52:40.306Z"
   },
   {
    "duration": 160,
    "start_time": "2024-05-09T10:52:40.325Z"
   },
   {
    "duration": 7,
    "start_time": "2024-05-09T10:52:40.486Z"
   },
   {
    "duration": 8,
    "start_time": "2024-05-09T10:52:40.494Z"
   },
   {
    "duration": 187,
    "start_time": "2024-05-09T10:52:40.506Z"
   },
   {
    "duration": 7,
    "start_time": "2024-05-09T10:52:40.695Z"
   },
   {
    "duration": 4,
    "start_time": "2024-05-09T10:52:40.704Z"
   },
   {
    "duration": 4,
    "start_time": "2024-05-09T10:52:40.709Z"
   },
   {
    "duration": 48,
    "start_time": "2024-05-09T10:52:40.714Z"
   },
   {
    "duration": 4,
    "start_time": "2024-05-09T10:52:40.764Z"
   },
   {
    "duration": 27,
    "start_time": "2024-05-09T10:52:40.769Z"
   },
   {
    "duration": 15,
    "start_time": "2024-05-09T10:52:40.797Z"
   },
   {
    "duration": 6,
    "start_time": "2024-05-09T10:52:40.813Z"
   },
   {
    "duration": 12,
    "start_time": "2024-05-09T10:52:40.820Z"
   },
   {
    "duration": 15,
    "start_time": "2024-05-09T10:52:40.834Z"
   },
   {
    "duration": 163,
    "start_time": "2024-05-09T10:52:40.851Z"
   },
   {
    "duration": 9,
    "start_time": "2024-05-09T10:52:41.015Z"
   },
   {
    "duration": 8,
    "start_time": "2024-05-09T10:52:41.025Z"
   },
   {
    "duration": 144,
    "start_time": "2024-05-09T10:52:41.045Z"
   },
   {
    "duration": 28,
    "start_time": "2024-05-09T10:52:41.190Z"
   },
   {
    "duration": 97,
    "start_time": "2024-05-09T10:52:41.220Z"
   },
   {
    "duration": 648,
    "start_time": "2024-05-09T10:52:41.318Z"
   },
   {
    "duration": 0,
    "start_time": "2024-05-09T10:52:41.967Z"
   },
   {
    "duration": 0,
    "start_time": "2024-05-09T10:52:41.969Z"
   },
   {
    "duration": 0,
    "start_time": "2024-05-09T10:52:41.970Z"
   },
   {
    "duration": 0,
    "start_time": "2024-05-09T10:52:41.971Z"
   },
   {
    "duration": 0,
    "start_time": "2024-05-09T10:52:41.972Z"
   },
   {
    "duration": 0,
    "start_time": "2024-05-09T10:52:41.972Z"
   },
   {
    "duration": 0,
    "start_time": "2024-05-09T10:52:41.973Z"
   },
   {
    "duration": 0,
    "start_time": "2024-05-09T10:52:41.974Z"
   },
   {
    "duration": 0,
    "start_time": "2024-05-09T10:52:41.975Z"
   },
   {
    "duration": 0,
    "start_time": "2024-05-09T10:52:41.976Z"
   },
   {
    "duration": 0,
    "start_time": "2024-05-09T10:52:41.977Z"
   },
   {
    "duration": 0,
    "start_time": "2024-05-09T10:52:41.978Z"
   },
   {
    "duration": 0,
    "start_time": "2024-05-09T10:52:41.979Z"
   },
   {
    "duration": 29,
    "start_time": "2024-05-09T10:52:59.644Z"
   },
   {
    "duration": 28,
    "start_time": "2024-05-09T10:53:13.659Z"
   },
   {
    "duration": 28,
    "start_time": "2024-05-09T10:53:19.292Z"
   },
   {
    "duration": 34,
    "start_time": "2024-05-09T10:53:39.149Z"
   },
   {
    "duration": 36,
    "start_time": "2024-05-09T10:53:55.501Z"
   },
   {
    "duration": 43,
    "start_time": "2024-05-09T10:53:59.558Z"
   },
   {
    "duration": 51,
    "start_time": "2024-05-15T18:08:36.315Z"
   },
   {
    "duration": 7,
    "start_time": "2024-05-15T19:08:53.574Z"
   },
   {
    "duration": 1078,
    "start_time": "2024-05-15T19:08:59.621Z"
   },
   {
    "duration": 212,
    "start_time": "2024-05-15T19:09:00.700Z"
   },
   {
    "duration": 13,
    "start_time": "2024-05-15T19:09:00.914Z"
   },
   {
    "duration": 47,
    "start_time": "2024-05-15T19:09:00.929Z"
   },
   {
    "duration": 61,
    "start_time": "2024-05-15T19:09:00.977Z"
   },
   {
    "duration": 69,
    "start_time": "2024-05-15T19:09:01.039Z"
   },
   {
    "duration": 53,
    "start_time": "2024-05-15T19:09:01.110Z"
   },
   {
    "duration": 54,
    "start_time": "2024-05-15T19:09:01.164Z"
   },
   {
    "duration": 62,
    "start_time": "2024-05-15T19:09:01.219Z"
   },
   {
    "duration": 46,
    "start_time": "2024-05-15T19:09:01.284Z"
   },
   {
    "duration": 43,
    "start_time": "2024-05-15T19:09:01.332Z"
   },
   {
    "duration": 51,
    "start_time": "2024-05-15T19:09:01.377Z"
   },
   {
    "duration": 43,
    "start_time": "2024-05-15T19:09:01.429Z"
   },
   {
    "duration": 91,
    "start_time": "2024-05-15T19:09:01.474Z"
   },
   {
    "duration": 46,
    "start_time": "2024-05-15T19:09:01.566Z"
   },
   {
    "duration": 35,
    "start_time": "2024-05-15T19:09:01.614Z"
   },
   {
    "duration": 195,
    "start_time": "2024-05-15T19:09:01.651Z"
   },
   {
    "duration": 8,
    "start_time": "2024-05-15T19:09:01.848Z"
   },
   {
    "duration": 54,
    "start_time": "2024-05-15T19:09:01.857Z"
   },
   {
    "duration": 245,
    "start_time": "2024-05-15T19:09:01.912Z"
   },
   {
    "duration": 9,
    "start_time": "2024-05-15T19:09:02.158Z"
   },
   {
    "duration": 195,
    "start_time": "2024-05-15T19:09:02.169Z"
   },
   {
    "duration": 6,
    "start_time": "2024-05-15T19:09:02.366Z"
   },
   {
    "duration": 26,
    "start_time": "2024-05-15T19:09:02.382Z"
   },
   {
    "duration": 189,
    "start_time": "2024-05-15T19:09:02.410Z"
   },
   {
    "duration": 8,
    "start_time": "2024-05-15T19:09:02.600Z"
   },
   {
    "duration": 11,
    "start_time": "2024-05-15T19:09:02.609Z"
   },
   {
    "duration": 200,
    "start_time": "2024-05-15T19:09:02.624Z"
   },
   {
    "duration": 6,
    "start_time": "2024-05-15T19:09:02.826Z"
   },
   {
    "duration": 8,
    "start_time": "2024-05-15T19:09:02.833Z"
   },
   {
    "duration": 6,
    "start_time": "2024-05-15T19:09:02.842Z"
   },
   {
    "duration": 41,
    "start_time": "2024-05-15T19:09:02.849Z"
   },
   {
    "duration": 3,
    "start_time": "2024-05-15T19:09:02.892Z"
   },
   {
    "duration": 12,
    "start_time": "2024-05-15T19:09:02.897Z"
   },
   {
    "duration": 10,
    "start_time": "2024-05-15T19:09:02.910Z"
   },
   {
    "duration": 17,
    "start_time": "2024-05-15T19:09:02.921Z"
   },
   {
    "duration": 15,
    "start_time": "2024-05-15T19:09:02.939Z"
   },
   {
    "duration": 17,
    "start_time": "2024-05-15T19:09:02.955Z"
   },
   {
    "duration": 185,
    "start_time": "2024-05-15T19:09:02.973Z"
   },
   {
    "duration": 9,
    "start_time": "2024-05-15T19:09:03.161Z"
   },
   {
    "duration": 16,
    "start_time": "2024-05-15T19:09:03.171Z"
   },
   {
    "duration": 168,
    "start_time": "2024-05-15T19:09:03.188Z"
   },
   {
    "duration": 42,
    "start_time": "2024-05-15T19:09:03.358Z"
   },
   {
    "duration": 6,
    "start_time": "2024-05-15T19:09:03.402Z"
   },
   {
    "duration": 1011,
    "start_time": "2024-05-15T19:09:03.409Z"
   },
   {
    "duration": 0,
    "start_time": "2024-05-15T19:09:04.421Z"
   },
   {
    "duration": 0,
    "start_time": "2024-05-15T19:09:04.423Z"
   },
   {
    "duration": 0,
    "start_time": "2024-05-15T19:09:04.424Z"
   },
   {
    "duration": 0,
    "start_time": "2024-05-15T19:09:04.425Z"
   },
   {
    "duration": 0,
    "start_time": "2024-05-15T19:09:04.426Z"
   },
   {
    "duration": 0,
    "start_time": "2024-05-15T19:09:04.427Z"
   },
   {
    "duration": 0,
    "start_time": "2024-05-15T19:09:04.427Z"
   },
   {
    "duration": 0,
    "start_time": "2024-05-15T19:09:04.429Z"
   },
   {
    "duration": 0,
    "start_time": "2024-05-15T19:09:04.429Z"
   },
   {
    "duration": 0,
    "start_time": "2024-05-15T19:09:04.430Z"
   },
   {
    "duration": 0,
    "start_time": "2024-05-15T19:09:04.431Z"
   },
   {
    "duration": 0,
    "start_time": "2024-05-15T19:09:04.433Z"
   },
   {
    "duration": 0,
    "start_time": "2024-05-15T19:09:04.435Z"
   },
   {
    "duration": 1358,
    "start_time": "2025-03-24T10:12:00.804Z"
   },
   {
    "duration": 62,
    "start_time": "2025-03-24T10:12:02.164Z"
   },
   {
    "duration": 13,
    "start_time": "2025-03-24T10:12:02.227Z"
   },
   {
    "duration": 12,
    "start_time": "2025-03-24T10:12:02.242Z"
   },
   {
    "duration": 14,
    "start_time": "2025-03-24T10:12:02.256Z"
   },
   {
    "duration": 80,
    "start_time": "2025-03-24T10:12:02.272Z"
   },
   {
    "duration": 7,
    "start_time": "2025-03-24T10:12:02.353Z"
   },
   {
    "duration": 12,
    "start_time": "2025-03-24T10:12:02.362Z"
   },
   {
    "duration": 29,
    "start_time": "2025-03-24T10:12:02.375Z"
   },
   {
    "duration": 7,
    "start_time": "2025-03-24T10:12:02.407Z"
   },
   {
    "duration": 28,
    "start_time": "2025-03-24T10:12:02.416Z"
   },
   {
    "duration": 12,
    "start_time": "2025-03-24T10:12:02.446Z"
   },
   {
    "duration": 8,
    "start_time": "2025-03-24T10:12:02.460Z"
   },
   {
    "duration": 6,
    "start_time": "2025-03-24T10:12:02.470Z"
   },
   {
    "duration": 18,
    "start_time": "2025-03-24T10:12:02.478Z"
   },
   {
    "duration": 11,
    "start_time": "2025-03-24T10:12:02.498Z"
   },
   {
    "duration": 168,
    "start_time": "2025-03-24T10:12:02.511Z"
   },
   {
    "duration": 9,
    "start_time": "2025-03-24T10:12:02.680Z"
   },
   {
    "duration": 25,
    "start_time": "2025-03-24T10:12:02.691Z"
   },
   {
    "duration": 162,
    "start_time": "2025-03-24T10:12:02.718Z"
   },
   {
    "duration": 9,
    "start_time": "2025-03-24T10:12:02.881Z"
   },
   {
    "duration": 194,
    "start_time": "2025-03-24T10:12:02.891Z"
   },
   {
    "duration": 6,
    "start_time": "2025-03-24T10:12:03.087Z"
   },
   {
    "duration": 32,
    "start_time": "2025-03-24T10:12:03.095Z"
   },
   {
    "duration": 190,
    "start_time": "2025-03-24T10:12:03.128Z"
   },
   {
    "duration": 17,
    "start_time": "2025-03-24T10:12:03.320Z"
   },
   {
    "duration": 9,
    "start_time": "2025-03-24T10:12:03.339Z"
   },
   {
    "duration": 206,
    "start_time": "2025-03-24T10:12:03.353Z"
   },
   {
    "duration": 9,
    "start_time": "2025-03-24T10:12:03.561Z"
   },
   {
    "duration": 99,
    "start_time": "2025-03-24T10:12:03.571Z"
   },
   {
    "duration": 5,
    "start_time": "2025-03-24T10:12:03.672Z"
   },
   {
    "duration": 42,
    "start_time": "2025-03-24T10:12:03.679Z"
   },
   {
    "duration": 4,
    "start_time": "2025-03-24T10:12:03.723Z"
   },
   {
    "duration": 12,
    "start_time": "2025-03-24T10:12:03.728Z"
   },
   {
    "duration": 7,
    "start_time": "2025-03-24T10:12:03.742Z"
   },
   {
    "duration": 6,
    "start_time": "2025-03-24T10:12:03.751Z"
   },
   {
    "duration": 8,
    "start_time": "2025-03-24T10:12:03.758Z"
   },
   {
    "duration": 8,
    "start_time": "2025-03-24T10:12:03.767Z"
   },
   {
    "duration": 205,
    "start_time": "2025-03-24T10:12:03.776Z"
   },
   {
    "duration": 11,
    "start_time": "2025-03-24T10:12:03.983Z"
   },
   {
    "duration": 20,
    "start_time": "2025-03-24T10:12:03.995Z"
   },
   {
    "duration": 190,
    "start_time": "2025-03-24T10:12:04.017Z"
   },
   {
    "duration": 40,
    "start_time": "2025-03-24T10:12:04.209Z"
   },
   {
    "duration": 6,
    "start_time": "2025-03-24T10:12:04.251Z"
   },
   {
    "duration": 1436,
    "start_time": "2025-03-24T10:12:04.259Z"
   },
   {
    "duration": 0,
    "start_time": "2025-03-24T10:12:05.697Z"
   },
   {
    "duration": 0,
    "start_time": "2025-03-24T10:12:05.699Z"
   },
   {
    "duration": 0,
    "start_time": "2025-03-24T10:12:05.700Z"
   },
   {
    "duration": 0,
    "start_time": "2025-03-24T10:12:05.701Z"
   },
   {
    "duration": 0,
    "start_time": "2025-03-24T10:12:05.702Z"
   },
   {
    "duration": 0,
    "start_time": "2025-03-24T10:12:05.703Z"
   },
   {
    "duration": 0,
    "start_time": "2025-03-24T10:12:05.704Z"
   },
   {
    "duration": 0,
    "start_time": "2025-03-24T10:12:05.705Z"
   },
   {
    "duration": 0,
    "start_time": "2025-03-24T10:12:05.706Z"
   },
   {
    "duration": 0,
    "start_time": "2025-03-24T10:12:05.707Z"
   },
   {
    "duration": 0,
    "start_time": "2025-03-24T10:12:05.709Z"
   },
   {
    "duration": 0,
    "start_time": "2025-03-24T10:12:05.710Z"
   },
   {
    "duration": 0,
    "start_time": "2025-03-24T10:12:05.711Z"
   },
   {
    "duration": 1994,
    "start_time": "2025-03-24T10:15:13.887Z"
   },
   {
    "duration": 11,
    "start_time": "2025-03-24T10:15:44.799Z"
   },
   {
    "duration": 14,
    "start_time": "2025-03-24T10:15:54.139Z"
   },
   {
    "duration": 4,
    "start_time": "2025-03-24T10:17:10.147Z"
   },
   {
    "duration": 32,
    "start_time": "2025-03-24T10:18:20.882Z"
   },
   {
    "duration": 7,
    "start_time": "2025-03-24T10:18:32.559Z"
   },
   {
    "duration": 1679,
    "start_time": "2025-03-24T10:18:33.570Z"
   },
   {
    "duration": 32,
    "start_time": "2025-03-24T10:19:09.341Z"
   },
   {
    "duration": 7,
    "start_time": "2025-03-24T10:19:12.221Z"
   },
   {
    "duration": 16,
    "start_time": "2025-03-24T10:19:12.999Z"
   },
   {
    "duration": 8,
    "start_time": "2025-03-24T10:19:22.420Z"
   },
   {
    "duration": 9,
    "start_time": "2025-03-24T10:19:28.453Z"
   },
   {
    "duration": 3,
    "start_time": "2025-03-24T10:19:28.464Z"
   },
   {
    "duration": 9,
    "start_time": "2025-03-24T10:19:28.468Z"
   },
   {
    "duration": 4,
    "start_time": "2025-03-24T10:19:28.479Z"
   },
   {
    "duration": 5,
    "start_time": "2025-03-24T10:19:28.485Z"
   },
   {
    "duration": 3,
    "start_time": "2025-03-24T10:19:28.491Z"
   },
   {
    "duration": 4,
    "start_time": "2025-03-24T10:19:28.495Z"
   },
   {
    "duration": 5,
    "start_time": "2025-03-24T10:19:28.501Z"
   },
   {
    "duration": 31,
    "start_time": "2025-03-24T10:19:28.507Z"
   },
   {
    "duration": 4,
    "start_time": "2025-03-24T10:19:28.540Z"
   },
   {
    "duration": 14,
    "start_time": "2025-03-24T10:19:28.545Z"
   },
   {
    "duration": 5,
    "start_time": "2025-03-24T10:19:28.560Z"
   },
   {
    "duration": 2,
    "start_time": "2025-03-24T10:20:14.709Z"
   },
   {
    "duration": 10,
    "start_time": "2025-03-24T10:20:15.156Z"
   },
   {
    "duration": 5,
    "start_time": "2025-03-24T10:20:16.603Z"
   },
   {
    "duration": 7,
    "start_time": "2025-03-24T10:20:22.679Z"
   },
   {
    "duration": 3,
    "start_time": "2025-03-24T10:20:23.266Z"
   },
   {
    "duration": 4,
    "start_time": "2025-03-24T10:20:23.758Z"
   },
   {
    "duration": 1148,
    "start_time": "2025-03-24T10:20:58.634Z"
   },
   {
    "duration": 60,
    "start_time": "2025-03-24T10:20:59.784Z"
   },
   {
    "duration": 12,
    "start_time": "2025-03-24T10:20:59.847Z"
   },
   {
    "duration": 10,
    "start_time": "2025-03-24T10:20:59.860Z"
   },
   {
    "duration": 40,
    "start_time": "2025-03-24T10:20:59.871Z"
   },
   {
    "duration": 70,
    "start_time": "2025-03-24T10:20:59.913Z"
   },
   {
    "duration": 8,
    "start_time": "2025-03-24T10:20:59.985Z"
   },
   {
    "duration": 16,
    "start_time": "2025-03-24T10:20:59.995Z"
   },
   {
    "duration": 49,
    "start_time": "2025-03-24T10:21:00.014Z"
   },
   {
    "duration": 32,
    "start_time": "2025-03-24T10:21:00.065Z"
   },
   {
    "duration": 16,
    "start_time": "2025-03-24T10:21:00.099Z"
   },
   {
    "duration": 9,
    "start_time": "2025-03-24T10:21:00.117Z"
   },
   {
    "duration": 13,
    "start_time": "2025-03-24T10:21:00.128Z"
   },
   {
    "duration": 20,
    "start_time": "2025-03-24T10:21:00.144Z"
   },
   {
    "duration": 47,
    "start_time": "2025-03-24T10:21:00.165Z"
   },
   {
    "duration": 27,
    "start_time": "2025-03-24T10:21:00.213Z"
   },
   {
    "duration": 164,
    "start_time": "2025-03-24T10:21:00.242Z"
   },
   {
    "duration": 7,
    "start_time": "2025-03-24T10:21:00.408Z"
   },
   {
    "duration": 4,
    "start_time": "2025-03-24T10:21:00.416Z"
   },
   {
    "duration": 132,
    "start_time": "2025-03-24T10:21:00.435Z"
   },
   {
    "duration": 8,
    "start_time": "2025-03-24T10:21:00.568Z"
   },
   {
    "duration": 219,
    "start_time": "2025-03-24T10:21:00.577Z"
   },
   {
    "duration": 6,
    "start_time": "2025-03-24T10:21:00.797Z"
   },
   {
    "duration": 13,
    "start_time": "2025-03-24T10:21:00.805Z"
   },
   {
    "duration": 185,
    "start_time": "2025-03-24T10:21:00.819Z"
   },
   {
    "duration": 8,
    "start_time": "2025-03-24T10:21:01.005Z"
   },
   {
    "duration": 124,
    "start_time": "2025-03-24T10:21:01.016Z"
   },
   {
    "duration": 189,
    "start_time": "2025-03-24T10:21:01.141Z"
   },
   {
    "duration": 9,
    "start_time": "2025-03-24T10:21:01.332Z"
   },
   {
    "duration": 5,
    "start_time": "2025-03-24T10:21:01.342Z"
   },
   {
    "duration": 15,
    "start_time": "2025-03-24T10:21:01.348Z"
   },
   {
    "duration": 26,
    "start_time": "2025-03-24T10:21:01.364Z"
   },
   {
    "duration": 4,
    "start_time": "2025-03-24T10:21:01.391Z"
   },
   {
    "duration": 10,
    "start_time": "2025-03-24T10:21:01.397Z"
   },
   {
    "duration": 33,
    "start_time": "2025-03-24T10:21:01.409Z"
   },
   {
    "duration": 6,
    "start_time": "2025-03-24T10:21:01.443Z"
   },
   {
    "duration": 7,
    "start_time": "2025-03-24T10:21:01.450Z"
   },
   {
    "duration": 7,
    "start_time": "2025-03-24T10:21:01.459Z"
   },
   {
    "duration": 187,
    "start_time": "2025-03-24T10:21:01.467Z"
   },
   {
    "duration": 7,
    "start_time": "2025-03-24T10:21:01.656Z"
   },
   {
    "duration": 48,
    "start_time": "2025-03-24T10:21:01.665Z"
   },
   {
    "duration": 161,
    "start_time": "2025-03-24T10:21:01.714Z"
   },
   {
    "duration": 32,
    "start_time": "2025-03-24T10:21:01.877Z"
   },
   {
    "duration": 109,
    "start_time": "2025-03-24T10:21:01.911Z"
   },
   {
    "duration": 42,
    "start_time": "2025-03-24T10:21:02.022Z"
   },
   {
    "duration": 7,
    "start_time": "2025-03-24T10:21:02.065Z"
   },
   {
    "duration": 7,
    "start_time": "2025-03-24T10:21:02.074Z"
   },
   {
    "duration": 45,
    "start_time": "2025-03-24T10:21:02.083Z"
   },
   {
    "duration": 15,
    "start_time": "2025-03-24T10:21:02.129Z"
   },
   {
    "duration": 8,
    "start_time": "2025-03-24T10:21:02.145Z"
   },
   {
    "duration": 20,
    "start_time": "2025-03-24T10:21:02.155Z"
   },
   {
    "duration": 34,
    "start_time": "2025-03-24T10:21:02.177Z"
   },
   {
    "duration": 4,
    "start_time": "2025-03-24T10:21:02.213Z"
   },
   {
    "duration": 19,
    "start_time": "2025-03-24T10:21:02.218Z"
   },
   {
    "duration": 9,
    "start_time": "2025-03-24T10:21:02.239Z"
   },
   {
    "duration": 4,
    "start_time": "2025-03-24T10:21:02.250Z"
   },
   {
    "duration": 17,
    "start_time": "2025-03-24T10:21:02.256Z"
   },
   {
    "duration": 91,
    "start_time": "2025-03-24T10:21:02.274Z"
   }
  ],
  "kernelspec": {
   "display_name": "Python 3 (ipykernel)",
   "language": "python",
   "name": "python3"
  },
  "language_info": {
   "codemirror_mode": {
    "name": "ipython",
    "version": 3
   },
   "file_extension": ".py",
   "mimetype": "text/x-python",
   "name": "python",
   "nbconvert_exporter": "python",
   "pygments_lexer": "ipython3",
   "version": "3.11.5"
  },
  "toc": {
   "base_numbering": 1,
   "nav_menu": {},
   "number_sections": true,
   "sideBar": true,
   "skip_h1_title": true,
   "title_cell": "Table of Contents",
   "title_sidebar": "Contents",
   "toc_cell": false,
   "toc_position": {},
   "toc_section_display": true,
   "toc_window_display": false
  }
 },
 "nbformat": 4,
 "nbformat_minor": 5
}
