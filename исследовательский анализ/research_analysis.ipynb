{
 "cells": [
  {
   "cell_type": "markdown",
   "metadata": {
    "id": "-VFbjcb3Awb7"
   },
   "source": [
    "# Исследование объявлений о продаже квартир\n",
    "\n",
    "В вашем распоряжении данные сервиса Яндекс Недвижимость — архив объявлений о продаже квартир в Санкт-Петербурге и соседних населённых пунктах за несколько лет. Вам нужно научиться определять рыночную стоимость объектов недвижимости. Для этого проведите исследовательский анализ данных и установите параметры, влияющие на цену объектов. Это позволит построить автоматизированную систему: она отследит аномалии и мошенническую деятельность.\n",
    "\n",
    "По каждой квартире на продажу доступны два вида данных. Первые вписаны пользователем, вторые — получены автоматически на основе картографических данных. Например, расстояние до центра, аэропорта и других объектов — эти данные автоматически получены из геосервисов. Количество парков и водоёмов также заполняется без участия пользователя."
   ]
  },
  {
   "cell_type": "markdown",
   "metadata": {
    "id": "aeFLH07FAwb9"
   },
   "source": [
    "### Откройте файл с данными и изучите общую информацию"
   ]
  },
  {
   "cell_type": "code",
   "execution_count": 1,
   "metadata": {
    "id": "7MZxY65pAwb9"
   },
   "outputs": [],
   "source": [
    "import pandas as pd\n",
    "import matplotlib.pyplot as plt\n",
    "import seaborn as sns #импортируем пандас и библиотеки графиков"
   ]
  },
  {
   "cell_type": "code",
   "execution_count": 2,
   "metadata": {},
   "outputs": [
    {
     "name": "stdout",
     "output_type": "stream",
     "text": [
      "<class 'pandas.core.frame.DataFrame'>\n",
      "RangeIndex: 23699 entries, 0 to 23698\n",
      "Data columns (total 22 columns):\n",
      " #   Column                Non-Null Count  Dtype  \n",
      "---  ------                --------------  -----  \n",
      " 0   total_images          23699 non-null  int64  \n",
      " 1   last_price            23699 non-null  float64\n",
      " 2   total_area            23699 non-null  float64\n",
      " 3   first_day_exposition  23699 non-null  object \n",
      " 4   rooms                 23699 non-null  int64  \n",
      " 5   ceiling_height        14504 non-null  float64\n",
      " 6   floors_total          23613 non-null  float64\n",
      " 7   living_area           21796 non-null  float64\n",
      " 8   floor                 23699 non-null  int64  \n",
      " 9   is_apartment          2775 non-null   object \n",
      " 10  studio                23699 non-null  bool   \n",
      " 11  open_plan             23699 non-null  bool   \n",
      " 12  kitchen_area          21421 non-null  float64\n",
      " 13  balcony               12180 non-null  float64\n",
      " 14  locality_name         23650 non-null  object \n",
      " 15  airports_nearest      18157 non-null  float64\n",
      " 16  cityCenters_nearest   18180 non-null  float64\n",
      " 17  parks_around3000      18181 non-null  float64\n",
      " 18  parks_nearest         8079 non-null   float64\n",
      " 19  ponds_around3000      18181 non-null  float64\n",
      " 20  ponds_nearest         9110 non-null   float64\n",
      " 21  days_exposition       20518 non-null  float64\n",
      "dtypes: bool(2), float64(14), int64(3), object(3)\n",
      "memory usage: 3.7+ MB\n"
     ]
    }
   ],
   "source": [
    "df = pd.read_csv('/datasets/real_estate_data.csv', sep='\\t')\n",
    "df.info() #смотрим общую информацию о датафрейме"
   ]
  },
  {
   "cell_type": "code",
   "execution_count": 3,
   "metadata": {},
   "outputs": [
    {
     "data": {
      "text/html": [
       "<div>\n",
       "<style scoped>\n",
       "    .dataframe tbody tr th:only-of-type {\n",
       "        vertical-align: middle;\n",
       "    }\n",
       "\n",
       "    .dataframe tbody tr th {\n",
       "        vertical-align: top;\n",
       "    }\n",
       "\n",
       "    .dataframe thead th {\n",
       "        text-align: right;\n",
       "    }\n",
       "</style>\n",
       "<table border=\"1\" class=\"dataframe\">\n",
       "  <thead>\n",
       "    <tr style=\"text-align: right;\">\n",
       "      <th></th>\n",
       "      <th>total_images</th>\n",
       "      <th>last_price</th>\n",
       "      <th>total_area</th>\n",
       "      <th>first_day_exposition</th>\n",
       "      <th>rooms</th>\n",
       "      <th>ceiling_height</th>\n",
       "      <th>floors_total</th>\n",
       "      <th>living_area</th>\n",
       "      <th>floor</th>\n",
       "      <th>is_apartment</th>\n",
       "      <th>...</th>\n",
       "      <th>kitchen_area</th>\n",
       "      <th>balcony</th>\n",
       "      <th>locality_name</th>\n",
       "      <th>airports_nearest</th>\n",
       "      <th>cityCenters_nearest</th>\n",
       "      <th>parks_around3000</th>\n",
       "      <th>parks_nearest</th>\n",
       "      <th>ponds_around3000</th>\n",
       "      <th>ponds_nearest</th>\n",
       "      <th>days_exposition</th>\n",
       "    </tr>\n",
       "  </thead>\n",
       "  <tbody>\n",
       "    <tr>\n",
       "      <th>0</th>\n",
       "      <td>20</td>\n",
       "      <td>13000000.0</td>\n",
       "      <td>108.00</td>\n",
       "      <td>2019-03-07T00:00:00</td>\n",
       "      <td>3</td>\n",
       "      <td>2.70</td>\n",
       "      <td>16.0</td>\n",
       "      <td>51.00</td>\n",
       "      <td>8</td>\n",
       "      <td>NaN</td>\n",
       "      <td>...</td>\n",
       "      <td>25.00</td>\n",
       "      <td>NaN</td>\n",
       "      <td>Санкт-Петербург</td>\n",
       "      <td>18863.0</td>\n",
       "      <td>16028.0</td>\n",
       "      <td>1.0</td>\n",
       "      <td>482.0</td>\n",
       "      <td>2.0</td>\n",
       "      <td>755.0</td>\n",
       "      <td>NaN</td>\n",
       "    </tr>\n",
       "    <tr>\n",
       "      <th>1</th>\n",
       "      <td>7</td>\n",
       "      <td>3350000.0</td>\n",
       "      <td>40.40</td>\n",
       "      <td>2018-12-04T00:00:00</td>\n",
       "      <td>1</td>\n",
       "      <td>NaN</td>\n",
       "      <td>11.0</td>\n",
       "      <td>18.60</td>\n",
       "      <td>1</td>\n",
       "      <td>NaN</td>\n",
       "      <td>...</td>\n",
       "      <td>11.00</td>\n",
       "      <td>2.0</td>\n",
       "      <td>посёлок Шушары</td>\n",
       "      <td>12817.0</td>\n",
       "      <td>18603.0</td>\n",
       "      <td>0.0</td>\n",
       "      <td>NaN</td>\n",
       "      <td>0.0</td>\n",
       "      <td>NaN</td>\n",
       "      <td>81.0</td>\n",
       "    </tr>\n",
       "    <tr>\n",
       "      <th>2</th>\n",
       "      <td>10</td>\n",
       "      <td>5196000.0</td>\n",
       "      <td>56.00</td>\n",
       "      <td>2015-08-20T00:00:00</td>\n",
       "      <td>2</td>\n",
       "      <td>NaN</td>\n",
       "      <td>5.0</td>\n",
       "      <td>34.30</td>\n",
       "      <td>4</td>\n",
       "      <td>NaN</td>\n",
       "      <td>...</td>\n",
       "      <td>8.30</td>\n",
       "      <td>0.0</td>\n",
       "      <td>Санкт-Петербург</td>\n",
       "      <td>21741.0</td>\n",
       "      <td>13933.0</td>\n",
       "      <td>1.0</td>\n",
       "      <td>90.0</td>\n",
       "      <td>2.0</td>\n",
       "      <td>574.0</td>\n",
       "      <td>558.0</td>\n",
       "    </tr>\n",
       "    <tr>\n",
       "      <th>3</th>\n",
       "      <td>0</td>\n",
       "      <td>64900000.0</td>\n",
       "      <td>159.00</td>\n",
       "      <td>2015-07-24T00:00:00</td>\n",
       "      <td>3</td>\n",
       "      <td>NaN</td>\n",
       "      <td>14.0</td>\n",
       "      <td>NaN</td>\n",
       "      <td>9</td>\n",
       "      <td>NaN</td>\n",
       "      <td>...</td>\n",
       "      <td>NaN</td>\n",
       "      <td>0.0</td>\n",
       "      <td>Санкт-Петербург</td>\n",
       "      <td>28098.0</td>\n",
       "      <td>6800.0</td>\n",
       "      <td>2.0</td>\n",
       "      <td>84.0</td>\n",
       "      <td>3.0</td>\n",
       "      <td>234.0</td>\n",
       "      <td>424.0</td>\n",
       "    </tr>\n",
       "    <tr>\n",
       "      <th>4</th>\n",
       "      <td>2</td>\n",
       "      <td>10000000.0</td>\n",
       "      <td>100.00</td>\n",
       "      <td>2018-06-19T00:00:00</td>\n",
       "      <td>2</td>\n",
       "      <td>3.03</td>\n",
       "      <td>14.0</td>\n",
       "      <td>32.00</td>\n",
       "      <td>13</td>\n",
       "      <td>NaN</td>\n",
       "      <td>...</td>\n",
       "      <td>41.00</td>\n",
       "      <td>NaN</td>\n",
       "      <td>Санкт-Петербург</td>\n",
       "      <td>31856.0</td>\n",
       "      <td>8098.0</td>\n",
       "      <td>2.0</td>\n",
       "      <td>112.0</td>\n",
       "      <td>1.0</td>\n",
       "      <td>48.0</td>\n",
       "      <td>121.0</td>\n",
       "    </tr>\n",
       "    <tr>\n",
       "      <th>5</th>\n",
       "      <td>10</td>\n",
       "      <td>2890000.0</td>\n",
       "      <td>30.40</td>\n",
       "      <td>2018-09-10T00:00:00</td>\n",
       "      <td>1</td>\n",
       "      <td>NaN</td>\n",
       "      <td>12.0</td>\n",
       "      <td>14.40</td>\n",
       "      <td>5</td>\n",
       "      <td>NaN</td>\n",
       "      <td>...</td>\n",
       "      <td>9.10</td>\n",
       "      <td>NaN</td>\n",
       "      <td>городской посёлок Янино-1</td>\n",
       "      <td>NaN</td>\n",
       "      <td>NaN</td>\n",
       "      <td>NaN</td>\n",
       "      <td>NaN</td>\n",
       "      <td>NaN</td>\n",
       "      <td>NaN</td>\n",
       "      <td>55.0</td>\n",
       "    </tr>\n",
       "    <tr>\n",
       "      <th>6</th>\n",
       "      <td>6</td>\n",
       "      <td>3700000.0</td>\n",
       "      <td>37.30</td>\n",
       "      <td>2017-11-02T00:00:00</td>\n",
       "      <td>1</td>\n",
       "      <td>NaN</td>\n",
       "      <td>26.0</td>\n",
       "      <td>10.60</td>\n",
       "      <td>6</td>\n",
       "      <td>NaN</td>\n",
       "      <td>...</td>\n",
       "      <td>14.40</td>\n",
       "      <td>1.0</td>\n",
       "      <td>посёлок Парголово</td>\n",
       "      <td>52996.0</td>\n",
       "      <td>19143.0</td>\n",
       "      <td>0.0</td>\n",
       "      <td>NaN</td>\n",
       "      <td>0.0</td>\n",
       "      <td>NaN</td>\n",
       "      <td>155.0</td>\n",
       "    </tr>\n",
       "    <tr>\n",
       "      <th>7</th>\n",
       "      <td>5</td>\n",
       "      <td>7915000.0</td>\n",
       "      <td>71.60</td>\n",
       "      <td>2019-04-18T00:00:00</td>\n",
       "      <td>2</td>\n",
       "      <td>NaN</td>\n",
       "      <td>24.0</td>\n",
       "      <td>NaN</td>\n",
       "      <td>22</td>\n",
       "      <td>NaN</td>\n",
       "      <td>...</td>\n",
       "      <td>18.90</td>\n",
       "      <td>2.0</td>\n",
       "      <td>Санкт-Петербург</td>\n",
       "      <td>23982.0</td>\n",
       "      <td>11634.0</td>\n",
       "      <td>0.0</td>\n",
       "      <td>NaN</td>\n",
       "      <td>0.0</td>\n",
       "      <td>NaN</td>\n",
       "      <td>NaN</td>\n",
       "    </tr>\n",
       "    <tr>\n",
       "      <th>8</th>\n",
       "      <td>20</td>\n",
       "      <td>2900000.0</td>\n",
       "      <td>33.16</td>\n",
       "      <td>2018-05-23T00:00:00</td>\n",
       "      <td>1</td>\n",
       "      <td>NaN</td>\n",
       "      <td>27.0</td>\n",
       "      <td>15.43</td>\n",
       "      <td>26</td>\n",
       "      <td>NaN</td>\n",
       "      <td>...</td>\n",
       "      <td>8.81</td>\n",
       "      <td>NaN</td>\n",
       "      <td>посёлок Мурино</td>\n",
       "      <td>NaN</td>\n",
       "      <td>NaN</td>\n",
       "      <td>NaN</td>\n",
       "      <td>NaN</td>\n",
       "      <td>NaN</td>\n",
       "      <td>NaN</td>\n",
       "      <td>189.0</td>\n",
       "    </tr>\n",
       "    <tr>\n",
       "      <th>9</th>\n",
       "      <td>18</td>\n",
       "      <td>5400000.0</td>\n",
       "      <td>61.00</td>\n",
       "      <td>2017-02-26T00:00:00</td>\n",
       "      <td>3</td>\n",
       "      <td>2.50</td>\n",
       "      <td>9.0</td>\n",
       "      <td>43.60</td>\n",
       "      <td>7</td>\n",
       "      <td>NaN</td>\n",
       "      <td>...</td>\n",
       "      <td>6.50</td>\n",
       "      <td>2.0</td>\n",
       "      <td>Санкт-Петербург</td>\n",
       "      <td>50898.0</td>\n",
       "      <td>15008.0</td>\n",
       "      <td>0.0</td>\n",
       "      <td>NaN</td>\n",
       "      <td>0.0</td>\n",
       "      <td>NaN</td>\n",
       "      <td>289.0</td>\n",
       "    </tr>\n",
       "  </tbody>\n",
       "</table>\n",
       "<p>10 rows × 22 columns</p>\n",
       "</div>"
      ],
      "text/plain": [
       "   total_images  last_price  total_area first_day_exposition  rooms  \\\n",
       "0            20  13000000.0      108.00  2019-03-07T00:00:00      3   \n",
       "1             7   3350000.0       40.40  2018-12-04T00:00:00      1   \n",
       "2            10   5196000.0       56.00  2015-08-20T00:00:00      2   \n",
       "3             0  64900000.0      159.00  2015-07-24T00:00:00      3   \n",
       "4             2  10000000.0      100.00  2018-06-19T00:00:00      2   \n",
       "5            10   2890000.0       30.40  2018-09-10T00:00:00      1   \n",
       "6             6   3700000.0       37.30  2017-11-02T00:00:00      1   \n",
       "7             5   7915000.0       71.60  2019-04-18T00:00:00      2   \n",
       "8            20   2900000.0       33.16  2018-05-23T00:00:00      1   \n",
       "9            18   5400000.0       61.00  2017-02-26T00:00:00      3   \n",
       "\n",
       "   ceiling_height  floors_total  living_area  floor is_apartment  ...  \\\n",
       "0            2.70          16.0        51.00      8          NaN  ...   \n",
       "1             NaN          11.0        18.60      1          NaN  ...   \n",
       "2             NaN           5.0        34.30      4          NaN  ...   \n",
       "3             NaN          14.0          NaN      9          NaN  ...   \n",
       "4            3.03          14.0        32.00     13          NaN  ...   \n",
       "5             NaN          12.0        14.40      5          NaN  ...   \n",
       "6             NaN          26.0        10.60      6          NaN  ...   \n",
       "7             NaN          24.0          NaN     22          NaN  ...   \n",
       "8             NaN          27.0        15.43     26          NaN  ...   \n",
       "9            2.50           9.0        43.60      7          NaN  ...   \n",
       "\n",
       "   kitchen_area  balcony              locality_name  airports_nearest  \\\n",
       "0         25.00      NaN            Санкт-Петербург           18863.0   \n",
       "1         11.00      2.0             посёлок Шушары           12817.0   \n",
       "2          8.30      0.0            Санкт-Петербург           21741.0   \n",
       "3           NaN      0.0            Санкт-Петербург           28098.0   \n",
       "4         41.00      NaN            Санкт-Петербург           31856.0   \n",
       "5          9.10      NaN  городской посёлок Янино-1               NaN   \n",
       "6         14.40      1.0          посёлок Парголово           52996.0   \n",
       "7         18.90      2.0            Санкт-Петербург           23982.0   \n",
       "8          8.81      NaN             посёлок Мурино               NaN   \n",
       "9          6.50      2.0            Санкт-Петербург           50898.0   \n",
       "\n",
       "  cityCenters_nearest  parks_around3000  parks_nearest  ponds_around3000  \\\n",
       "0             16028.0               1.0          482.0               2.0   \n",
       "1             18603.0               0.0            NaN               0.0   \n",
       "2             13933.0               1.0           90.0               2.0   \n",
       "3              6800.0               2.0           84.0               3.0   \n",
       "4              8098.0               2.0          112.0               1.0   \n",
       "5                 NaN               NaN            NaN               NaN   \n",
       "6             19143.0               0.0            NaN               0.0   \n",
       "7             11634.0               0.0            NaN               0.0   \n",
       "8                 NaN               NaN            NaN               NaN   \n",
       "9             15008.0               0.0            NaN               0.0   \n",
       "\n",
       "   ponds_nearest  days_exposition  \n",
       "0          755.0              NaN  \n",
       "1            NaN             81.0  \n",
       "2          574.0            558.0  \n",
       "3          234.0            424.0  \n",
       "4           48.0            121.0  \n",
       "5            NaN             55.0  \n",
       "6            NaN            155.0  \n",
       "7            NaN              NaN  \n",
       "8            NaN            189.0  \n",
       "9            NaN            289.0  \n",
       "\n",
       "[10 rows x 22 columns]"
      ]
     },
     "execution_count": 3,
     "metadata": {},
     "output_type": "execute_result"
    }
   ],
   "source": [
    "df.head(10) #смотрим на первые 10 строк data"
   ]
  },
  {
   "cell_type": "code",
   "execution_count": 4,
   "metadata": {},
   "outputs": [],
   "source": [
    "#df = df.rename(columns={'ponds_around3000':'ponds_around3000'})"
   ]
  },
  {
   "cell_type": "code",
   "execution_count": 5,
   "metadata": {
    "scrolled": true
   },
   "outputs": [
    {
     "data": {
      "text/plain": [
       "array([[<AxesSubplot:title={'center':'total_images'}>,\n",
       "        <AxesSubplot:title={'center':'last_price'}>,\n",
       "        <AxesSubplot:title={'center':'total_area'}>,\n",
       "        <AxesSubplot:title={'center':'rooms'}>],\n",
       "       [<AxesSubplot:title={'center':'ceiling_height'}>,\n",
       "        <AxesSubplot:title={'center':'floors_total'}>,\n",
       "        <AxesSubplot:title={'center':'living_area'}>,\n",
       "        <AxesSubplot:title={'center':'floor'}>],\n",
       "       [<AxesSubplot:title={'center':'kitchen_area'}>,\n",
       "        <AxesSubplot:title={'center':'balcony'}>,\n",
       "        <AxesSubplot:title={'center':'airports_nearest'}>,\n",
       "        <AxesSubplot:title={'center':'cityCenters_nearest'}>],\n",
       "       [<AxesSubplot:title={'center':'parks_around3000'}>,\n",
       "        <AxesSubplot:title={'center':'parks_nearest'}>,\n",
       "        <AxesSubplot:title={'center':'ponds_around3000'}>,\n",
       "        <AxesSubplot:title={'center':'ponds_nearest'}>],\n",
       "       [<AxesSubplot:title={'center':'days_exposition'}>, <AxesSubplot:>,\n",
       "        <AxesSubplot:>, <AxesSubplot:>]], dtype=object)"
      ]
     },
     "execution_count": 5,
     "metadata": {},
     "output_type": "execute_result"
    },
    {
     "data": {
      "image/png": "[encoded data removed]",
      "text/plain": [
       "<Figure size 1080x1440 with 20 Axes>"
      ]
     },
     "metadata": {
      "needs_background": "light"
     },
     "output_type": "display_data"
    }
   ],
   "source": [
    "df.hist(column=['total_images', 'last_price', 'total_area', \n",
    "                'rooms', 'ceiling_height', 'floors_total', \n",
    "                'living_area', 'floor', 'kitchen_area', \n",
    "                'balcony', 'airports_nearest', 'cityCenters_nearest', \n",
    "                'parks_around3000', 'parks_nearest', 'ponds_around3000', \n",
    "                'ponds_nearest', 'days_exposition'], figsize=(15, 20), bins=25) "
   ]
  },
  {
   "cell_type": "markdown",
   "metadata": {},
   "source": [
    "По полученным гистограммам трудно определить какое распределние имеет каждый тип данных, есть ли выбросы в них. Для этого необходимо будет выполнить предобработку данных и изучить кажду гистограмму отдельно, изменяя диапазон, количество корзин и другие параметры."
   ]
  },
  {
   "cell_type": "markdown",
   "metadata": {
    "id": "-O5NtivEAwb9"
   },
   "source": [
    "### Выполните предобработку данных"
   ]
  },
  {
   "cell_type": "code",
   "execution_count": 6,
   "metadata": {
    "id": "7v3vAeTuAwb-"
   },
   "outputs": [
    {
     "data": {
      "text/plain": [
       "total_images                0\n",
       "last_price                  0\n",
       "total_area                  0\n",
       "first_day_exposition        0\n",
       "rooms                       0\n",
       "ceiling_height           9195\n",
       "floors_total               86\n",
       "living_area              1903\n",
       "floor                       0\n",
       "is_apartment            20924\n",
       "studio                      0\n",
       "open_plan                   0\n",
       "kitchen_area             2278\n",
       "balcony                 11519\n",
       "locality_name              49\n",
       "airports_nearest         5542\n",
       "cityCenters_nearest      5519\n",
       "parks_around3000         5518\n",
       "parks_nearest           15620\n",
       "ponds_around3000         5518\n",
       "ponds_nearest           14589\n",
       "days_exposition          3181\n",
       "dtype: int64"
      ]
     },
     "execution_count": 6,
     "metadata": {},
     "output_type": "execute_result"
    }
   ],
   "source": [
    "df.isna().sum() #сумма пропущенных значений в каждом столбце"
   ]
  },
  {
   "cell_type": "code",
   "execution_count": 7,
   "metadata": {},
   "outputs": [],
   "source": [
    "df['balcony'] = df['balcony'].fillna(0) #заполним пропуски в столбце с количеством балконов значением \"0\""
   ]
  },
  {
   "cell_type": "markdown",
   "metadata": {},
   "source": [
    "*После анализа количества пропусков в датасете мы видим, что:*\n",
    "- наибольшее число из них находится в категории данных, полученных автоматически - до двух третих от общего числа, заполнение таких пропусков исказит данные;\n",
    "- большое количество пропусков было обнаружено в столбце balcony - отсутсвие данных заполним нулями, так как скорее всего балконов нет в данных квартирах;\n",
    "- так же обнаружены пропуски в категориях, с геометрическими параметрами квартир/домов - площади, высота потолков, количество этажей. Их не заполнили сами пользователи, точно выявить эти данные мы не можем - пропуски оставляем;\n",
    "- странным является наличие пропусков в стобцах locality_name и days_exposition - возможно ошибка при выгрузке данных, их тоже не заполняем."
   ]
  },
  {
   "cell_type": "code",
   "execution_count": 8,
   "metadata": {},
   "outputs": [],
   "source": [
    "df['first_day_exposition'] = pd.to_datetime(df['first_day_exposition'], format='%Y-%m-%dT%H:%M:%S')"
   ]
  },
  {
   "cell_type": "code",
   "execution_count": 9,
   "metadata": {},
   "outputs": [
    {
     "data": {
      "text/plain": [
       "array([16., 11.,  5., 14., 12., 26., 24., 27.,  9.,  6., 17., 25.,  3.,\n",
       "       23., 19., 18.,  4., 22.,  8.,  2., 10.,  7., 13., 15.,  0., 20.,\n",
       "       28., 36., 21., 35., 34., 60.,  1., 29., 33., 52., 37.])"
      ]
     },
     "execution_count": 9,
     "metadata": {},
     "output_type": "execute_result"
    }
   ],
   "source": [
    "df['floors_total'] = df['floors_total'].fillna(0) # заполним пропуски Nan\n",
    "df['floors_total'].unique() # проверим заменились ли значения Nan"
   ]
  },
  {
   "cell_type": "code",
   "execution_count": 10,
   "metadata": {},
   "outputs": [
    {
     "name": "stdout",
     "output_type": "stream",
     "text": [
      "<class 'pandas.core.frame.DataFrame'>\n",
      "RangeIndex: 23699 entries, 0 to 23698\n",
      "Data columns (total 22 columns):\n",
      " #   Column                Non-Null Count  Dtype         \n",
      "---  ------                --------------  -----         \n",
      " 0   total_images          23699 non-null  int64         \n",
      " 1   last_price            23699 non-null  float64       \n",
      " 2   total_area            23699 non-null  float64       \n",
      " 3   first_day_exposition  23699 non-null  datetime64[ns]\n",
      " 4   rooms                 23699 non-null  int64         \n",
      " 5   ceiling_height        14504 non-null  float64       \n",
      " 6   floors_total          23699 non-null  int64         \n",
      " 7   living_area           21796 non-null  float64       \n",
      " 8   floor                 23699 non-null  int64         \n",
      " 9   is_apartment          23699 non-null  bool          \n",
      " 10  studio                23699 non-null  bool          \n",
      " 11  open_plan             23699 non-null  bool          \n",
      " 12  kitchen_area          21421 non-null  float64       \n",
      " 13  balcony               23699 non-null  float64       \n",
      " 14  locality_name         23650 non-null  object        \n",
      " 15  airports_nearest      18157 non-null  float64       \n",
      " 16  cityCenters_nearest   18180 non-null  float64       \n",
      " 17  parks_around3000      18181 non-null  float64       \n",
      " 18  parks_nearest         8079 non-null   float64       \n",
      " 19  ponds_around3000      18181 non-null  float64       \n",
      " 20  ponds_nearest         9110 non-null   float64       \n",
      " 21  days_exposition       20518 non-null  float64       \n",
      "dtypes: bool(3), datetime64[ns](1), float64(13), int64(4), object(1)\n",
      "memory usage: 3.5+ MB\n"
     ]
    }
   ],
   "source": [
    "df['floors_total'] = df['floors_total'].astype('int', errors='ignore')\n",
    "df['is_apartment'] = df['is_apartment'].astype('bool', errors='ignore')\n",
    "df.info() # проверим все преобразования"
   ]
  },
  {
   "cell_type": "markdown",
   "metadata": {},
   "source": [
    "Мы заменили тип данных в столбцах с датой размещения объявления, чтобы иметь возможность работать с датой, если бы нам, например, нужно было бы поменять часовой пояс. Общее количество этажей мы преобразовали в целочисленный вид из дробного, а параментр is_apartment - в булев тип, также для удобства работы. "
   ]
  },
  {
   "cell_type": "code",
   "execution_count": 11,
   "metadata": {},
   "outputs": [
    {
     "data": {
      "text/plain": [
       "0"
      ]
     },
     "execution_count": 11,
     "metadata": {},
     "output_type": "execute_result"
    }
   ],
   "source": [
    "df.duplicated().sum() # проверим датафрейм на явные дубликаты"
   ]
  },
  {
   "cell_type": "code",
   "execution_count": 12,
   "metadata": {},
   "outputs": [
    {
     "data": {
      "text/plain": [
       "array(['Бокситогорск', 'Волосово', 'Волхов', 'Всеволожск', 'Выборг',\n",
       "       'Высоцк', 'Гатчина', 'Зеленогорск', 'Ивангород', 'Каменногорск',\n",
       "       'Кингисепп', 'Кириши', 'Кировск', 'Колпино', 'Коммунар',\n",
       "       'Красное Село', 'Кронштадт', 'Кудрово', 'Лодейное Поле',\n",
       "       'Ломоносов', 'Луга', 'Любань', 'Мурино', 'Никольское',\n",
       "       'Новая Ладога', 'Отрадное', 'Павловск', 'Петергоф', 'Пикалёво',\n",
       "       'Подпорожье', 'Приморск', 'Приозерск', 'Пушкин', 'Санкт-Петербург',\n",
       "       'Светогорск', 'Сертолово', 'Сестрорецк', 'Сланцы', 'Сосновый Бор',\n",
       "       'Сясьстрой', 'Тихвин', 'Тосно', 'Шлиссельбург',\n",
       "       'городской поселок Большая Ижора', 'городской поселок Янино-1',\n",
       "       'городской посёлок Будогощь', 'городской посёлок Виллози',\n",
       "       'городской посёлок Лесогорский', 'городской посёлок Мга',\n",
       "       'городской посёлок Назия', 'городской посёлок Новоселье',\n",
       "       'городской посёлок Павлово', 'городской посёлок Рощино',\n",
       "       'городской посёлок Свирьстрой', 'городской посёлок Советский',\n",
       "       'городской посёлок Фёдоровское', 'городской посёлок Янино-1',\n",
       "       'деревня Агалатово', 'деревня Аро', 'деревня Батово',\n",
       "       'деревня Бегуницы', 'деревня Белогорка', 'деревня Большая Вруда',\n",
       "       'деревня Большая Пустомержа', 'деревня Большие Колпаны',\n",
       "       'деревня Большое Рейзино', 'деревня Большой Сабск', 'деревня Бор',\n",
       "       'деревня Борисова Грива', 'деревня Ваганово', 'деревня Вартемяги',\n",
       "       'деревня Вахнова Кара', 'деревня Выскатка', 'деревня Гарболово',\n",
       "       'деревня Глинка', 'деревня Горбунки', 'деревня Гостилицы',\n",
       "       'деревня Заклинье', 'деревня Заневка', 'деревня Зимитицы',\n",
       "       'деревня Извара', 'деревня Иссад', 'деревня Калитино',\n",
       "       'деревня Кальтино', 'деревня Камышовка', 'деревня Каськово',\n",
       "       'деревня Келози', 'деревня Кипень', 'деревня Кисельня',\n",
       "       'деревня Колтуши', 'деревня Коркино', 'деревня Котлы',\n",
       "       'деревня Кривко', 'деревня Кудрово', 'деревня Кузьмолово',\n",
       "       'деревня Курковицы', 'деревня Куровицы', 'деревня Куттузи',\n",
       "       'деревня Лаврики', 'деревня Лаголово', 'деревня Лампово',\n",
       "       'деревня Лесколово', 'деревня Лопухинка', 'деревня Лупполово',\n",
       "       'деревня Малая Романовка', 'деревня Малое Верево',\n",
       "       'деревня Малое Карлино', 'деревня Малые Колпаны',\n",
       "       'деревня Мануйлово', 'деревня Меньково', 'деревня Мины',\n",
       "       'деревня Мистолово', 'деревня Ненимяки', 'деревня Нижние Осельки',\n",
       "       'деревня Нижняя', 'деревня Низино', 'деревня Новое Девяткино',\n",
       "       'деревня Новолисино', 'деревня Нурма', 'деревня Оржицы',\n",
       "       'деревня Парицы', 'деревня Пельгора', 'деревня Пеники',\n",
       "       'деревня Пижма', 'деревня Пикколово', 'деревня Пудомяги',\n",
       "       'деревня Пустынка', 'деревня Пчева', 'деревня Рабитицы',\n",
       "       'деревня Разбегаево', 'деревня Раздолье', 'деревня Разметелево',\n",
       "       'деревня Рапполово', 'деревня Реброво', 'деревня Русско',\n",
       "       'деревня Сижно', 'деревня Снегирёвка', 'деревня Старая',\n",
       "       'деревня Старая Пустошь', 'деревня Старое Хинколово',\n",
       "       'деревня Старополье', 'деревня Старосиверская',\n",
       "       'деревня Старые Бегуницы', 'деревня Суоранда',\n",
       "       'деревня Сяськелево', 'деревня Тарасово', 'деревня Терпилицы',\n",
       "       'деревня Тихковицы', 'деревня Тойворово', 'деревня Торосово',\n",
       "       'деревня Торошковичи', 'деревня Трубников Бор',\n",
       "       'деревня Фалилеево', 'деревня Фёдоровское', 'деревня Хапо-Ое',\n",
       "       'деревня Хязельки', 'деревня Чудской Бор', 'деревня Шпаньково',\n",
       "       'деревня Щеглово', 'деревня Юкки', 'деревня Ялгино',\n",
       "       'деревня Яльгелево', 'деревня Ям-Тесово',\n",
       "       'коттеджный поселок Кивеннапа Север', 'коттеджный поселок Счастье',\n",
       "       'коттеджный посёлок Лесное', 'поселок Аннино', 'поселок Барышево',\n",
       "       'поселок Бугры', 'поселок Возрождение', 'поселок Войсковицы',\n",
       "       'поселок Володарское', 'поселок Гаврилово', 'поселок Гарболово',\n",
       "       'поселок Гладкое', 'поселок Глажево', 'поселок Глебычево',\n",
       "       'поселок Гончарово', 'поселок Громово', 'поселок Дружноселье',\n",
       "       'поселок Елизаветино', 'поселок Жилгородок', 'поселок Жилпосёлок',\n",
       "       'поселок Житково', 'поселок Заводской', 'поселок Запорожское',\n",
       "       'поселок Зимитицы', 'поселок Ильичёво', 'поселок Калитино',\n",
       "       'поселок Каложицы', 'поселок Кингисеппский', 'поселок Кирпичное',\n",
       "       'поселок Кобралово', 'поселок Кобринское', 'поселок Коммунары',\n",
       "       'поселок Коробицыно', 'поселок Котельский',\n",
       "       'поселок Красная Долина', 'поселок Красносельское',\n",
       "       'поселок Лесное', 'поселок Лисий Нос', 'поселок Лукаши',\n",
       "       'поселок Любань', 'поселок Мельниково', 'поселок Мичуринское',\n",
       "       'поселок Молодцово', 'поселок Мурино', 'поселок Новый Свет',\n",
       "       'поселок Новый Учхоз', 'поселок Оредеж',\n",
       "       'поселок Пансионат Зелёный Бор', 'поселок Первомайское',\n",
       "       'поселок Перово', 'поселок Петровское', 'поселок Победа',\n",
       "       'поселок Поляны', 'поселок Почап', 'поселок Починок',\n",
       "       'поселок Пушное', 'поселок Пчевжа', 'поселок Рабитицы',\n",
       "       'поселок Романовка', 'поселок Ромашки', 'поселок Рябово',\n",
       "       'поселок Севастьяново', 'поселок Селезнёво', 'поселок Сельцо',\n",
       "       'поселок Семиозерье', 'поселок Семрино', 'поселок Серебрянский',\n",
       "       'поселок Совхозный', 'поселок Старая Малукса',\n",
       "       'поселок Стеклянный', 'поселок Сумино', 'поселок Суходолье',\n",
       "       'поселок Тельмана', 'поселок Терволово', 'поселок Торковичи',\n",
       "       'поселок Тёсово-4', 'поселок Углово', 'поселок Усть-Луга',\n",
       "       'поселок Ушаки', 'поселок Цвелодубово', 'поселок Цвылёво',\n",
       "       'поселок городского типа Большая Ижора',\n",
       "       'поселок городского типа Вырица',\n",
       "       'поселок городского типа Дружная Горка',\n",
       "       'поселок городского типа Дубровка',\n",
       "       'поселок городского типа Ефимовский',\n",
       "       'поселок городского типа Кондратьево',\n",
       "       'поселок городского типа Красный Бор',\n",
       "       'поселок городского типа Кузьмоловский',\n",
       "       'поселок городского типа Лебяжье',\n",
       "       'поселок городского типа Лесогорский',\n",
       "       'поселок городского типа Назия',\n",
       "       'поселок городского типа Никольский',\n",
       "       'поселок городского типа Приладожский',\n",
       "       'поселок городского типа Рахья', 'поселок городского типа Рощино',\n",
       "       'поселок городского типа Рябово',\n",
       "       'поселок городского типа Синявино',\n",
       "       'поселок городского типа Советский',\n",
       "       'поселок городского типа Токсово',\n",
       "       'поселок городского типа Форносово',\n",
       "       'поселок городского типа имени Свердлова',\n",
       "       'поселок станции Вещево', 'поселок станции Корнево',\n",
       "       'поселок станции Лужайка', 'поселок станции Приветнинское',\n",
       "       'посёлок Александровская', 'посёлок Алексеевка', 'посёлок Аннино',\n",
       "       'посёлок Белоостров', 'посёлок Бугры', 'посёлок Возрождение',\n",
       "       'посёлок Войскорово', 'посёлок Высокоключевой',\n",
       "       'посёлок Гаврилово', 'посёлок Дзержинского', 'посёлок Жилгородок',\n",
       "       'посёлок Ильичёво', 'посёлок Кикерино', 'посёлок Кобралово',\n",
       "       'посёлок Коробицыно', 'посёлок Левашово', 'посёлок Ленинское',\n",
       "       'посёлок Лисий Нос', 'посёлок Мельниково', 'посёлок Металлострой',\n",
       "       'посёлок Мичуринское', 'посёлок Молодёжное', 'посёлок Мурино',\n",
       "       'посёлок Мыза-Ивановка', 'посёлок Новогорелово',\n",
       "       'посёлок Новый Свет', 'посёлок Пансионат Зелёный Бор',\n",
       "       'посёлок Парголово', 'посёлок Перово', 'посёлок Песочный',\n",
       "       'посёлок Петро-Славянка', 'посёлок Петровское',\n",
       "       'посёлок Платформа 69-й километр', 'посёлок Плодовое',\n",
       "       'посёлок Плоское', 'посёлок Победа', 'посёлок Поляны',\n",
       "       'посёлок Понтонный', 'посёлок Пригородный', 'посёлок Пудость',\n",
       "       'посёлок Репино', 'посёлок Ропша', 'посёлок Сапёрное',\n",
       "       'посёлок Сапёрный', 'посёлок Сосново', 'посёлок Старая Малукса',\n",
       "       'посёлок Стеклянный', 'посёлок Стрельна', 'посёлок Суйда',\n",
       "       'посёлок Сумино', 'посёлок Тельмана', 'посёлок Терволово',\n",
       "       'посёлок Торфяное', 'посёлок Усть-Ижора', 'посёлок Усть-Луга',\n",
       "       'посёлок Форт Красная Горка', 'посёлок Шугозеро', 'посёлок Шушары',\n",
       "       'посёлок Щеглово', 'посёлок городского типа Важины',\n",
       "       'посёлок городского типа Вознесенье',\n",
       "       'посёлок городского типа Вырица',\n",
       "       'посёлок городского типа Красный Бор',\n",
       "       'посёлок городского типа Кузнечное',\n",
       "       'посёлок городского типа Кузьмоловский',\n",
       "       'посёлок городского типа Лебяжье', 'посёлок городского типа Мга',\n",
       "       'посёлок городского типа Павлово',\n",
       "       'посёлок городского типа Рощино', 'посёлок городского типа Рябово',\n",
       "       'посёлок городского типа Сиверский',\n",
       "       'посёлок городского типа Тайцы', 'посёлок городского типа Токсово',\n",
       "       'посёлок городского типа Ульяновка',\n",
       "       'посёлок городского типа Форносово',\n",
       "       'посёлок городского типа имени Морозова',\n",
       "       'посёлок городского типа имени Свердлова',\n",
       "       'посёлок при железнодорожной станции Вещево',\n",
       "       'посёлок при железнодорожной станции Приветнинское',\n",
       "       'посёлок станции Громово', 'посёлок станции Свирь',\n",
       "       'садоводческое некоммерческое товарищество Лесная Поляна',\n",
       "       'садовое товарищество Новая Ропша',\n",
       "       'садовое товарищество Приладожский', 'садовое товарищество Рахья',\n",
       "       'садовое товарищество Садко', 'село Копорье', 'село Никольское',\n",
       "       'село Павлово', 'село Паша', 'село Путилово', 'село Рождествено',\n",
       "       'село Русско-Высоцкое', 'село Старая Ладога', 'село Шум', nan],\n",
       "      dtype=object)"
      ]
     },
     "execution_count": 12,
     "metadata": {},
     "output_type": "execute_result"
    }
   ],
   "source": [
    "df['locality_name'].sort_values().unique()"
   ]
  },
  {
   "cell_type": "code",
   "execution_count": 13,
   "metadata": {},
   "outputs": [
    {
     "data": {
      "text/plain": [
       "364"
      ]
     },
     "execution_count": 13,
     "metadata": {},
     "output_type": "execute_result"
    }
   ],
   "source": [
    "df['locality_name'].nunique()"
   ]
  },
  {
   "cell_type": "code",
   "execution_count": 14,
   "metadata": {},
   "outputs": [],
   "source": [
    "df['locality_name'] = df['locality_name'].replace({'городской поселок Янино-1': 'городской посёлок Янино-1', \n",
    "                             'поселок Рябово': 'поселок городского типа Рябово',  #заменяем неявные дубликаты\n",
    "                            'поселок Аннино':'посёлок Аннино',  # просматривая df вручную\n",
    "                            'поселок Мурино': 'посёлок Мурино', \n",
    "                            'посёлок городского типа Рябово': 'поселок городского типа Рябово'}) "
   ]
  },
  {
   "cell_type": "code",
   "execution_count": 15,
   "metadata": {},
   "outputs": [
    {
     "data": {
      "text/plain": [
       "359"
      ]
     },
     "execution_count": 15,
     "metadata": {},
     "output_type": "execute_result"
    }
   ],
   "source": [
    "df['locality_name'].nunique() # проверяем насколько уменьшилось число уникальных значений 'посёлок при железнодорожной станции': 'посёлок станции'"
   ]
  },
  {
   "cell_type": "code",
   "execution_count": 74,
   "metadata": {},
   "outputs": [],
   "source": [
    "ids = {'поселок': 'посёлок',\n",
    "       'посёлок при железнодорожной станции': 'посёлок станции',\n",
    "       'городской посёлок': 'посёлок городского типа',\n",
    "      'садоводческое некоммерческое товарищество': 'садовое товарищество'}\n",
    "\n",
    "for old, new in ids.items():\n",
    "    df['locality_name'] = df['locality_name'].str.replace(old, new, regex=False)"
   ]
  },
  {
   "cell_type": "code",
   "execution_count": 75,
   "metadata": {},
   "outputs": [
    {
     "data": {
      "text/plain": [
       "320"
      ]
     },
     "execution_count": 75,
     "metadata": {},
     "output_type": "execute_result"
    }
   ],
   "source": [
    "df['locality_name'].nunique()"
   ]
  },
  {
   "cell_type": "code",
   "execution_count": 76,
   "metadata": {},
   "outputs": [
    {
     "data": {
      "text/plain": [
       "['село Шум',\n",
       " 'село Старая Ладога',\n",
       " 'село Русско-Высоцкое',\n",
       " 'село Рождествено',\n",
       " 'село Путилово',\n",
       " 'село Паша',\n",
       " 'село Павлово',\n",
       " 'село Никольское',\n",
       " 'село Копорье',\n",
       " 'садовое товарищество Садко',\n",
       " 'садовое товарищество Рахья',\n",
       " 'садовое товарищество Приладожский',\n",
       " 'садовое товарищество Новая Ропша',\n",
       " 'садовое товарищество Лесная Поляна',\n",
       " 'посёлок станции Свирь',\n",
       " 'посёлок станции Приветнинское',\n",
       " 'посёлок станции Лужайка',\n",
       " 'посёлок станции Корнево',\n",
       " 'посёлок станции Громово',\n",
       " 'посёлок станции Вещево',\n",
       " 'посёлок городского типа имени Свердлова',\n",
       " 'посёлок городского типа имени Морозова',\n",
       " 'посёлок городского типа Янино-1',\n",
       " 'посёлок городского типа Фёдоровское',\n",
       " 'посёлок городского типа Форносово',\n",
       " 'посёлок городского типа Ульяновка',\n",
       " 'посёлок городского типа Токсово',\n",
       " 'посёлок городского типа Тайцы',\n",
       " 'посёлок городского типа Советский',\n",
       " 'посёлок городского типа Синявино',\n",
       " 'посёлок городского типа Сиверский',\n",
       " 'посёлок городского типа Свирьстрой',\n",
       " 'посёлок городского типа Рябово',\n",
       " 'посёлок городского типа Рощино',\n",
       " 'посёлок городского типа Рахья',\n",
       " 'посёлок городского типа Приладожский',\n",
       " 'посёлок городского типа Павлово',\n",
       " 'посёлок городского типа Новоселье',\n",
       " 'посёлок городского типа Никольский',\n",
       " 'посёлок городского типа Назия',\n",
       " 'посёлок городского типа Мга',\n",
       " 'посёлок городского типа Лесогорский',\n",
       " 'посёлок городского типа Лебяжье',\n",
       " 'посёлок городского типа Кузьмоловский',\n",
       " 'посёлок городского типа Кузнечное',\n",
       " 'посёлок городского типа Красный Бор',\n",
       " 'посёлок городского типа Кондратьево',\n",
       " 'посёлок городского типа Ефимовский',\n",
       " 'посёлок городского типа Дубровка',\n",
       " 'посёлок городского типа Дружная Горка',\n",
       " 'посёлок городского типа Вырица',\n",
       " 'посёлок городского типа Вознесенье',\n",
       " 'посёлок городского типа Виллози',\n",
       " 'посёлок городского типа Важины',\n",
       " 'посёлок городского типа Будогощь',\n",
       " 'посёлок городского типа Большая Ижора',\n",
       " 'посёлок Щеглово',\n",
       " 'посёлок Шушары',\n",
       " 'посёлок Шугозеро',\n",
       " 'посёлок Цвылёво',\n",
       " 'посёлок Цвелодубово',\n",
       " 'посёлок Форт Красная Горка',\n",
       " 'посёлок Ушаки',\n",
       " 'посёлок Усть-Луга',\n",
       " 'посёлок Усть-Ижора',\n",
       " 'посёлок Углово',\n",
       " 'посёлок Тёсово-4',\n",
       " 'посёлок Торфяное',\n",
       " 'посёлок Торковичи',\n",
       " 'посёлок Терволово',\n",
       " 'посёлок Тельмана',\n",
       " 'посёлок Суходолье',\n",
       " 'посёлок Сумино',\n",
       " 'посёлок Суйда',\n",
       " 'посёлок Стрельна',\n",
       " 'посёлок Стеклянный',\n",
       " 'посёлок Старая Малукса',\n",
       " 'посёлок Сосново',\n",
       " 'посёлок Совхозный',\n",
       " 'посёлок Серебрянский',\n",
       " 'посёлок Семрино',\n",
       " 'посёлок Семиозерье',\n",
       " 'посёлок Сельцо',\n",
       " 'посёлок Селезнёво',\n",
       " 'посёлок Севастьяново',\n",
       " 'посёлок Сапёрный',\n",
       " 'посёлок Сапёрное',\n",
       " 'посёлок Ропша',\n",
       " 'посёлок Ромашки',\n",
       " 'посёлок Романовка',\n",
       " 'посёлок Репино',\n",
       " 'посёлок Рабитицы',\n",
       " 'посёлок Пчевжа',\n",
       " 'посёлок Пушное',\n",
       " 'посёлок Пудость',\n",
       " 'посёлок Пригородный',\n",
       " 'посёлок Починок',\n",
       " 'посёлок Почап',\n",
       " 'посёлок Понтонный',\n",
       " 'посёлок Поляны',\n",
       " 'посёлок Победа',\n",
       " 'посёлок Плоское',\n",
       " 'посёлок Плодовое',\n",
       " 'посёлок Платформа 69-й километр',\n",
       " 'посёлок Петровское',\n",
       " 'посёлок Петро-Славянка',\n",
       " 'посёлок Песочный',\n",
       " 'посёлок Перово',\n",
       " 'посёлок Первомайское',\n",
       " 'посёлок Парголово',\n",
       " 'посёлок Пансионат Зелёный Бор',\n",
       " 'посёлок Оредеж',\n",
       " 'посёлок Новый Учхоз',\n",
       " 'посёлок Новый Свет',\n",
       " 'посёлок Новогорелово',\n",
       " 'посёлок Мыза-Ивановка',\n",
       " 'посёлок Мурино',\n",
       " 'посёлок Молодёжное',\n",
       " 'посёлок Молодцово',\n",
       " 'посёлок Мичуринское',\n",
       " 'посёлок Металлострой',\n",
       " 'посёлок Мельниково',\n",
       " 'посёлок Любань',\n",
       " 'посёлок Лукаши',\n",
       " 'посёлок Лисий Нос',\n",
       " 'посёлок Лесное',\n",
       " 'посёлок Ленинское',\n",
       " 'посёлок Левашово',\n",
       " 'посёлок Красносельское',\n",
       " 'посёлок Красная Долина',\n",
       " 'посёлок Котельский',\n",
       " 'посёлок Коробицыно',\n",
       " 'посёлок Коммунары',\n",
       " 'посёлок Кобринское',\n",
       " 'посёлок Кобралово',\n",
       " 'посёлок Кирпичное',\n",
       " 'посёлок Кингисеппский',\n",
       " 'посёлок Кикерино',\n",
       " 'посёлок Каложицы',\n",
       " 'посёлок Калитино',\n",
       " 'посёлок Ильичёво',\n",
       " 'посёлок Зимитицы',\n",
       " 'посёлок Запорожское',\n",
       " 'посёлок Заводской',\n",
       " 'посёлок Житково',\n",
       " 'посёлок Жилпосёлок',\n",
       " 'посёлок Жилгородок',\n",
       " 'посёлок Елизаветино',\n",
       " 'посёлок Дружноселье',\n",
       " 'посёлок Дзержинского',\n",
       " 'посёлок Громово',\n",
       " 'посёлок Гончарово',\n",
       " 'посёлок Глебычево',\n",
       " 'посёлок Глажево',\n",
       " 'посёлок Гладкое',\n",
       " 'посёлок Гарболово',\n",
       " 'посёлок Гаврилово',\n",
       " 'посёлок Высокоключевой',\n",
       " 'посёлок Володарское',\n",
       " 'посёлок Войскорово',\n",
       " 'посёлок Войсковицы',\n",
       " 'посёлок Возрождение',\n",
       " 'посёлок Бугры',\n",
       " 'посёлок Белоостров',\n",
       " 'посёлок Барышево',\n",
       " 'посёлок Аннино',\n",
       " 'посёлок Алексеевка',\n",
       " 'посёлок Александровская',\n",
       " 'коттеджный посёлок Счастье',\n",
       " 'коттеджный посёлок Лесное',\n",
       " 'коттеджный посёлок Кивеннапа Север',\n",
       " 'деревня Ям-Тесово',\n",
       " 'деревня Яльгелево',\n",
       " 'деревня Ялгино',\n",
       " 'деревня Юкки',\n",
       " 'деревня Щеглово',\n",
       " 'деревня Шпаньково',\n",
       " 'деревня Чудской Бор',\n",
       " 'деревня Хязельки',\n",
       " 'деревня Хапо-Ое',\n",
       " 'деревня Фёдоровское',\n",
       " 'деревня Фалилеево',\n",
       " 'деревня Трубников Бор',\n",
       " 'деревня Торошковичи',\n",
       " 'деревня Торосово',\n",
       " 'деревня Тойворово',\n",
       " 'деревня Тихковицы',\n",
       " 'деревня Терпилицы',\n",
       " 'деревня Тарасово',\n",
       " 'деревня Сяськелево',\n",
       " 'деревня Суоранда',\n",
       " 'деревня Старые Бегуницы',\n",
       " 'деревня Старосиверская',\n",
       " 'деревня Старополье',\n",
       " 'деревня Старое Хинколово',\n",
       " 'деревня Старая Пустошь',\n",
       " 'деревня Старая',\n",
       " 'деревня Снегирёвка',\n",
       " 'деревня Сижно',\n",
       " 'деревня Русско',\n",
       " 'деревня Реброво',\n",
       " 'деревня Рапполово',\n",
       " 'деревня Разметелево',\n",
       " 'деревня Раздолье',\n",
       " 'деревня Разбегаево',\n",
       " 'деревня Рабитицы',\n",
       " 'деревня Пчева',\n",
       " 'деревня Пустынка',\n",
       " 'деревня Пудомяги',\n",
       " 'деревня Пикколово',\n",
       " 'деревня Пижма',\n",
       " 'деревня Пеники',\n",
       " 'деревня Пельгора',\n",
       " 'деревня Парицы',\n",
       " 'деревня Оржицы',\n",
       " 'деревня Нурма',\n",
       " 'деревня Новолисино',\n",
       " 'деревня Новое Девяткино',\n",
       " 'деревня Низино',\n",
       " 'деревня Нижняя',\n",
       " 'деревня Нижние Осельки',\n",
       " 'деревня Ненимяки',\n",
       " 'деревня Мистолово',\n",
       " 'деревня Мины',\n",
       " 'деревня Меньково',\n",
       " 'деревня Мануйлово',\n",
       " 'деревня Малые Колпаны',\n",
       " 'деревня Малое Карлино',\n",
       " 'деревня Малое Верево',\n",
       " 'деревня Малая Романовка',\n",
       " 'деревня Лупполово',\n",
       " 'деревня Лопухинка',\n",
       " 'деревня Лесколово',\n",
       " 'деревня Лампово',\n",
       " 'деревня Лаголово',\n",
       " 'деревня Лаврики',\n",
       " 'деревня Куттузи',\n",
       " 'деревня Куровицы',\n",
       " 'деревня Курковицы',\n",
       " 'деревня Кузьмолово',\n",
       " 'деревня Кудрово',\n",
       " 'деревня Кривко',\n",
       " 'деревня Котлы',\n",
       " 'деревня Коркино',\n",
       " 'деревня Колтуши',\n",
       " 'деревня Кисельня',\n",
       " 'деревня Кипень',\n",
       " 'деревня Келози',\n",
       " 'деревня Каськово',\n",
       " 'деревня Камышовка',\n",
       " 'деревня Кальтино',\n",
       " 'деревня Калитино',\n",
       " 'деревня Иссад',\n",
       " 'деревня Извара',\n",
       " 'деревня Зимитицы',\n",
       " 'деревня Заневка',\n",
       " 'деревня Заклинье',\n",
       " 'деревня Гостилицы',\n",
       " 'деревня Горбунки',\n",
       " 'деревня Глинка',\n",
       " 'деревня Гарболово',\n",
       " 'деревня Выскатка',\n",
       " 'деревня Вахнова Кара',\n",
       " 'деревня Вартемяги',\n",
       " 'деревня Ваганово',\n",
       " 'деревня Борисова Грива',\n",
       " 'деревня Бор',\n",
       " 'деревня Большой Сабск',\n",
       " 'деревня Большое Рейзино',\n",
       " 'деревня Большие Колпаны',\n",
       " 'деревня Большая Пустомержа',\n",
       " 'деревня Большая Вруда',\n",
       " 'деревня Белогорка',\n",
       " 'деревня Бегуницы',\n",
       " 'деревня Батово',\n",
       " 'деревня Аро',\n",
       " 'деревня Агалатово',\n",
       " 'Шлиссельбург',\n",
       " 'Тосно',\n",
       " 'Тихвин',\n",
       " 'Сясьстрой',\n",
       " 'Сосновый Бор',\n",
       " 'Сланцы',\n",
       " 'Сестрорецк',\n",
       " 'Сертолово',\n",
       " 'Светогорск',\n",
       " 'Санкт-Петербург',\n",
       " 'Пушкин',\n",
       " 'Приозерск',\n",
       " 'Приморск',\n",
       " 'Подпорожье',\n",
       " 'Пикалёво',\n",
       " 'Петергоф',\n",
       " 'Павловск',\n",
       " 'Отрадное',\n",
       " 'Новая Ладога',\n",
       " 'Никольское',\n",
       " 'Мурино',\n",
       " 'Любань',\n",
       " 'Луга',\n",
       " 'Ломоносов',\n",
       " 'Лодейное Поле',\n",
       " 'Кудрово',\n",
       " 'Кронштадт',\n",
       " 'Красное Село',\n",
       " 'Коммунар',\n",
       " 'Колпино',\n",
       " 'Кировск',\n",
       " 'Кириши',\n",
       " 'Кингисепп',\n",
       " 'Каменногорск',\n",
       " 'Ивангород',\n",
       " 'Зеленогорск',\n",
       " 'Гатчина',\n",
       " 'Высоцк',\n",
       " 'Выборг',\n",
       " 'Всеволожск',\n",
       " 'Волхов',\n",
       " 'Волосово',\n",
       " 'Бокситогорск',\n",
       " nan]"
      ]
     },
     "execution_count": 76,
     "metadata": {},
     "output_type": "execute_result"
    }
   ],
   "source": [
    "list(df['locality_name'].sort_values(ascending=False).unique()) #используем сортировку для выявления других дубликатов"
   ]
  },
  {
   "cell_type": "markdown",
   "metadata": {
    "id": "QCcvyY6YAwb-"
   },
   "source": [
    "### Добавьте в таблицу новые столбцы"
   ]
  },
  {
   "cell_type": "code",
   "execution_count": 19,
   "metadata": {
    "id": "Z8eJek3IAwb-"
   },
   "outputs": [
    {
     "data": {
      "text/plain": [
       "0    120370.37\n",
       "1     82920.79\n",
       "2     92785.71\n",
       "3    408176.10\n",
       "4    100000.00\n",
       "Name: square_meter_price, dtype: float64"
      ]
     },
     "execution_count": 19,
     "metadata": {},
     "output_type": "execute_result"
    }
   ],
   "source": [
    "df['square_meter_price'] = round(df['last_price'] / df['total_area'], 2) # цена одного квадратного метра, \n",
    "df['square_meter_price'].head() # округленная до 2-х знаков после запятой"
   ]
  },
  {
   "cell_type": "code",
   "execution_count": 20,
   "metadata": {},
   "outputs": [
    {
     "data": {
      "text/plain": [
       "0    3\n",
       "1    1\n",
       "2    3\n",
       "3    4\n",
       "4    1\n",
       "Name: weekday_exp, dtype: int64"
      ]
     },
     "execution_count": 20,
     "metadata": {},
     "output_type": "execute_result"
    }
   ],
   "source": [
    "df['weekday_exp'] = df['first_day_exposition'].dt.weekday # день недели публикации объявления \n",
    "df['weekday_exp'].head()"
   ]
  },
  {
   "cell_type": "markdown",
   "metadata": {},
   "source": [
    "*Дни недели:*\n",
    "* 0 - понедельник\n",
    "* 1 - вторник\n",
    "* 2 - среда\n",
    "* 3 - четверг\n",
    "* 4 - пятница\n",
    "* 5 - суббота\n",
    "* 6 - воскресенье"
   ]
  },
  {
   "cell_type": "code",
   "execution_count": 21,
   "metadata": {},
   "outputs": [
    {
     "data": {
      "text/plain": [
       "0     3\n",
       "1    12\n",
       "2     8\n",
       "3     7\n",
       "4     6\n",
       "Name: month_exp, dtype: int64"
      ]
     },
     "execution_count": 21,
     "metadata": {},
     "output_type": "execute_result"
    }
   ],
   "source": [
    "df['month_exp'] = df['first_day_exposition'].dt.month\n",
    "df['month_exp'].head() # месяц публикации объявления"
   ]
  },
  {
   "cell_type": "code",
   "execution_count": 22,
   "metadata": {},
   "outputs": [
    {
     "data": {
      "text/plain": [
       "0    2019\n",
       "1    2018\n",
       "2    2015\n",
       "3    2015\n",
       "4    2018\n",
       "Name: year_exp, dtype: int64"
      ]
     },
     "execution_count": 22,
     "metadata": {},
     "output_type": "execute_result"
    }
   ],
   "source": [
    "df['year_exp'] = df['first_day_exposition'].dt.year # год публикации объявления\n",
    "df['year_exp'].head()"
   ]
  },
  {
   "cell_type": "code",
   "execution_count": 23,
   "metadata": {},
   "outputs": [],
   "source": [
    "def type_floor(total, floor): # создаём функцию для двух аргументов - всего этажей и этаж\n",
    "    try:\n",
    "        if total != floor: # прописываем логические условия \n",
    "            if floor == 1:\n",
    "                return 'первый'\n",
    "            else:\n",
    "                return 'другой'\n",
    "        else:\n",
    "            return 'последний'\n",
    "        \n",
    "    except:\n",
    "        return 'нет этажа'"
   ]
  },
  {
   "cell_type": "code",
   "execution_count": 24,
   "metadata": {},
   "outputs": [
    {
     "data": {
      "text/plain": [
       "0    другой\n",
       "1    первый\n",
       "2    другой\n",
       "3    другой\n",
       "4    другой\n",
       "5    другой\n",
       "6    другой\n",
       "7    другой\n",
       "8    другой\n",
       "9    другой\n",
       "Name: type_of_floor, dtype: object"
      ]
     },
     "execution_count": 24,
     "metadata": {},
     "output_type": "execute_result"
    }
   ],
   "source": [
    "df['type_of_floor'] = df.apply(lambda row: type_floor(row['floors_total'], row['floor']), axis=1) #применяем функцию к 2 стобцам\n",
    "df['type_of_floor'].head(10) # тип этажа квартиры (значения — «первый», «последний», «другой»)"
   ]
  },
  {
   "cell_type": "code",
   "execution_count": 25,
   "metadata": {},
   "outputs": [
    {
     "data": {
      "text/plain": [
       "0    16.0\n",
       "1    19.0\n",
       "2    14.0\n",
       "3     7.0\n",
       "4     8.0\n",
       "Name: cityCenters, dtype: float64"
      ]
     },
     "execution_count": 25,
     "metadata": {},
     "output_type": "execute_result"
    }
   ],
   "source": [
    "df['cityCenters'] = round(df['cityCenters_nearest'] / 1000)\n",
    "df['cityCenters'].head() #расстояние до центра города в километрах (переведите из м в км, округлите до ближайших целых значений)"
   ]
  },
  {
   "cell_type": "markdown",
   "metadata": {
    "id": "pPyxrKWTAwb-"
   },
   "source": [
    "### Проведите исследовательский анализ данных"
   ]
  },
  {
   "cell_type": "markdown",
   "metadata": {},
   "source": [
    "**4.1 Изучение параметров**"
   ]
  },
  {
   "cell_type": "code",
   "execution_count": 26,
   "metadata": {
    "id": "V2f0D3kLAwb-"
   },
   "outputs": [
    {
     "data": {
      "text/html": [
       "<div>\n",
       "<style scoped>\n",
       "    .dataframe tbody tr th:only-of-type {\n",
       "        vertical-align: middle;\n",
       "    }\n",
       "\n",
       "    .dataframe tbody tr th {\n",
       "        vertical-align: top;\n",
       "    }\n",
       "\n",
       "    .dataframe thead th {\n",
       "        text-align: right;\n",
       "    }\n",
       "</style>\n",
       "<table border=\"1\" class=\"dataframe\">\n",
       "  <thead>\n",
       "    <tr style=\"text-align: right;\">\n",
       "      <th></th>\n",
       "      <th>count</th>\n",
       "      <th>mean</th>\n",
       "      <th>std</th>\n",
       "      <th>min</th>\n",
       "      <th>25%</th>\n",
       "      <th>50%</th>\n",
       "      <th>75%</th>\n",
       "      <th>max</th>\n",
       "    </tr>\n",
       "  </thead>\n",
       "  <tbody>\n",
       "    <tr>\n",
       "      <th>total_images</th>\n",
       "      <td>23699.0</td>\n",
       "      <td>9.858475e+00</td>\n",
       "      <td>5.682529e+00</td>\n",
       "      <td>0.00</td>\n",
       "      <td>6.00</td>\n",
       "      <td>9.00</td>\n",
       "      <td>14.000</td>\n",
       "      <td>50.0</td>\n",
       "    </tr>\n",
       "    <tr>\n",
       "      <th>last_price</th>\n",
       "      <td>23699.0</td>\n",
       "      <td>6.541549e+06</td>\n",
       "      <td>1.088701e+07</td>\n",
       "      <td>12190.00</td>\n",
       "      <td>3400000.00</td>\n",
       "      <td>4650000.00</td>\n",
       "      <td>6800000.000</td>\n",
       "      <td>763000000.0</td>\n",
       "    </tr>\n",
       "    <tr>\n",
       "      <th>total_area</th>\n",
       "      <td>23699.0</td>\n",
       "      <td>6.034865e+01</td>\n",
       "      <td>3.565408e+01</td>\n",
       "      <td>12.00</td>\n",
       "      <td>40.00</td>\n",
       "      <td>52.00</td>\n",
       "      <td>69.900</td>\n",
       "      <td>900.0</td>\n",
       "    </tr>\n",
       "    <tr>\n",
       "      <th>rooms</th>\n",
       "      <td>23699.0</td>\n",
       "      <td>2.070636e+00</td>\n",
       "      <td>1.078405e+00</td>\n",
       "      <td>0.00</td>\n",
       "      <td>1.00</td>\n",
       "      <td>2.00</td>\n",
       "      <td>3.000</td>\n",
       "      <td>19.0</td>\n",
       "    </tr>\n",
       "    <tr>\n",
       "      <th>ceiling_height</th>\n",
       "      <td>14504.0</td>\n",
       "      <td>2.771499e+00</td>\n",
       "      <td>1.261056e+00</td>\n",
       "      <td>1.00</td>\n",
       "      <td>2.52</td>\n",
       "      <td>2.65</td>\n",
       "      <td>2.800</td>\n",
       "      <td>100.0</td>\n",
       "    </tr>\n",
       "    <tr>\n",
       "      <th>floors_total</th>\n",
       "      <td>23699.0</td>\n",
       "      <td>1.063509e+01</td>\n",
       "      <td>6.616396e+00</td>\n",
       "      <td>0.00</td>\n",
       "      <td>5.00</td>\n",
       "      <td>9.00</td>\n",
       "      <td>16.000</td>\n",
       "      <td>60.0</td>\n",
       "    </tr>\n",
       "    <tr>\n",
       "      <th>living_area</th>\n",
       "      <td>21796.0</td>\n",
       "      <td>3.445785e+01</td>\n",
       "      <td>2.203045e+01</td>\n",
       "      <td>2.00</td>\n",
       "      <td>18.60</td>\n",
       "      <td>30.00</td>\n",
       "      <td>42.300</td>\n",
       "      <td>409.7</td>\n",
       "    </tr>\n",
       "    <tr>\n",
       "      <th>floor</th>\n",
       "      <td>23699.0</td>\n",
       "      <td>5.892358e+00</td>\n",
       "      <td>4.885249e+00</td>\n",
       "      <td>1.00</td>\n",
       "      <td>2.00</td>\n",
       "      <td>4.00</td>\n",
       "      <td>8.000</td>\n",
       "      <td>33.0</td>\n",
       "    </tr>\n",
       "    <tr>\n",
       "      <th>kitchen_area</th>\n",
       "      <td>21421.0</td>\n",
       "      <td>1.056981e+01</td>\n",
       "      <td>5.905438e+00</td>\n",
       "      <td>1.30</td>\n",
       "      <td>7.00</td>\n",
       "      <td>9.10</td>\n",
       "      <td>12.000</td>\n",
       "      <td>112.0</td>\n",
       "    </tr>\n",
       "    <tr>\n",
       "      <th>balcony</th>\n",
       "      <td>23699.0</td>\n",
       "      <td>5.910798e-01</td>\n",
       "      <td>9.592982e-01</td>\n",
       "      <td>0.00</td>\n",
       "      <td>0.00</td>\n",
       "      <td>0.00</td>\n",
       "      <td>1.000</td>\n",
       "      <td>5.0</td>\n",
       "    </tr>\n",
       "    <tr>\n",
       "      <th>airports_nearest</th>\n",
       "      <td>18157.0</td>\n",
       "      <td>2.879367e+04</td>\n",
       "      <td>1.263088e+04</td>\n",
       "      <td>0.00</td>\n",
       "      <td>18585.00</td>\n",
       "      <td>26726.00</td>\n",
       "      <td>37273.000</td>\n",
       "      <td>84869.0</td>\n",
       "    </tr>\n",
       "    <tr>\n",
       "      <th>cityCenters_nearest</th>\n",
       "      <td>18180.0</td>\n",
       "      <td>1.419128e+04</td>\n",
       "      <td>8.608386e+03</td>\n",
       "      <td>181.00</td>\n",
       "      <td>9238.00</td>\n",
       "      <td>13098.50</td>\n",
       "      <td>16293.000</td>\n",
       "      <td>65968.0</td>\n",
       "    </tr>\n",
       "    <tr>\n",
       "      <th>parks_around3000</th>\n",
       "      <td>18181.0</td>\n",
       "      <td>6.114075e-01</td>\n",
       "      <td>8.020736e-01</td>\n",
       "      <td>0.00</td>\n",
       "      <td>0.00</td>\n",
       "      <td>0.00</td>\n",
       "      <td>1.000</td>\n",
       "      <td>3.0</td>\n",
       "    </tr>\n",
       "    <tr>\n",
       "      <th>parks_nearest</th>\n",
       "      <td>8079.0</td>\n",
       "      <td>4.908046e+02</td>\n",
       "      <td>3.423180e+02</td>\n",
       "      <td>1.00</td>\n",
       "      <td>288.00</td>\n",
       "      <td>455.00</td>\n",
       "      <td>612.000</td>\n",
       "      <td>3190.0</td>\n",
       "    </tr>\n",
       "    <tr>\n",
       "      <th>ponds_around3000</th>\n",
       "      <td>18181.0</td>\n",
       "      <td>7.702547e-01</td>\n",
       "      <td>9.383456e-01</td>\n",
       "      <td>0.00</td>\n",
       "      <td>0.00</td>\n",
       "      <td>1.00</td>\n",
       "      <td>1.000</td>\n",
       "      <td>3.0</td>\n",
       "    </tr>\n",
       "    <tr>\n",
       "      <th>ponds_nearest</th>\n",
       "      <td>9110.0</td>\n",
       "      <td>5.179809e+02</td>\n",
       "      <td>2.777206e+02</td>\n",
       "      <td>13.00</td>\n",
       "      <td>294.00</td>\n",
       "      <td>502.00</td>\n",
       "      <td>729.000</td>\n",
       "      <td>1344.0</td>\n",
       "    </tr>\n",
       "    <tr>\n",
       "      <th>days_exposition</th>\n",
       "      <td>20518.0</td>\n",
       "      <td>1.808886e+02</td>\n",
       "      <td>2.197280e+02</td>\n",
       "      <td>1.00</td>\n",
       "      <td>45.00</td>\n",
       "      <td>95.00</td>\n",
       "      <td>232.000</td>\n",
       "      <td>1580.0</td>\n",
       "    </tr>\n",
       "    <tr>\n",
       "      <th>square_meter_price</th>\n",
       "      <td>23699.0</td>\n",
       "      <td>9.942166e+04</td>\n",
       "      <td>5.030680e+04</td>\n",
       "      <td>111.83</td>\n",
       "      <td>76585.47</td>\n",
       "      <td>95000.00</td>\n",
       "      <td>114256.325</td>\n",
       "      <td>1907500.0</td>\n",
       "    </tr>\n",
       "    <tr>\n",
       "      <th>weekday_exp</th>\n",
       "      <td>23699.0</td>\n",
       "      <td>2.569307e+00</td>\n",
       "      <td>1.789082e+00</td>\n",
       "      <td>0.00</td>\n",
       "      <td>1.00</td>\n",
       "      <td>3.00</td>\n",
       "      <td>4.000</td>\n",
       "      <td>6.0</td>\n",
       "    </tr>\n",
       "    <tr>\n",
       "      <th>month_exp</th>\n",
       "      <td>23699.0</td>\n",
       "      <td>6.400101e+00</td>\n",
       "      <td>3.491561e+00</td>\n",
       "      <td>1.00</td>\n",
       "      <td>3.00</td>\n",
       "      <td>6.00</td>\n",
       "      <td>10.000</td>\n",
       "      <td>12.0</td>\n",
       "    </tr>\n",
       "    <tr>\n",
       "      <th>year_exp</th>\n",
       "      <td>23699.0</td>\n",
       "      <td>2.017367e+03</td>\n",
       "      <td>1.039771e+00</td>\n",
       "      <td>2014.00</td>\n",
       "      <td>2017.00</td>\n",
       "      <td>2017.00</td>\n",
       "      <td>2018.000</td>\n",
       "      <td>2019.0</td>\n",
       "    </tr>\n",
       "    <tr>\n",
       "      <th>cityCenters</th>\n",
       "      <td>18180.0</td>\n",
       "      <td>1.418482e+01</td>\n",
       "      <td>8.616194e+00</td>\n",
       "      <td>0.00</td>\n",
       "      <td>9.00</td>\n",
       "      <td>13.00</td>\n",
       "      <td>16.000</td>\n",
       "      <td>66.0</td>\n",
       "    </tr>\n",
       "  </tbody>\n",
       "</table>\n",
       "</div>"
      ],
      "text/plain": [
       "                       count          mean           std       min  \\\n",
       "total_images         23699.0  9.858475e+00  5.682529e+00      0.00   \n",
       "last_price           23699.0  6.541549e+06  1.088701e+07  12190.00   \n",
       "total_area           23699.0  6.034865e+01  3.565408e+01     12.00   \n",
       "rooms                23699.0  2.070636e+00  1.078405e+00      0.00   \n",
       "ceiling_height       14504.0  2.771499e+00  1.261056e+00      1.00   \n",
       "floors_total         23699.0  1.063509e+01  6.616396e+00      0.00   \n",
       "living_area          21796.0  3.445785e+01  2.203045e+01      2.00   \n",
       "floor                23699.0  5.892358e+00  4.885249e+00      1.00   \n",
       "kitchen_area         21421.0  1.056981e+01  5.905438e+00      1.30   \n",
       "balcony              23699.0  5.910798e-01  9.592982e-01      0.00   \n",
       "airports_nearest     18157.0  2.879367e+04  1.263088e+04      0.00   \n",
       "cityCenters_nearest  18180.0  1.419128e+04  8.608386e+03    181.00   \n",
       "parks_around3000     18181.0  6.114075e-01  8.020736e-01      0.00   \n",
       "parks_nearest         8079.0  4.908046e+02  3.423180e+02      1.00   \n",
       "ponds_around3000     18181.0  7.702547e-01  9.383456e-01      0.00   \n",
       "ponds_nearest         9110.0  5.179809e+02  2.777206e+02     13.00   \n",
       "days_exposition      20518.0  1.808886e+02  2.197280e+02      1.00   \n",
       "square_meter_price   23699.0  9.942166e+04  5.030680e+04    111.83   \n",
       "weekday_exp          23699.0  2.569307e+00  1.789082e+00      0.00   \n",
       "month_exp            23699.0  6.400101e+00  3.491561e+00      1.00   \n",
       "year_exp             23699.0  2.017367e+03  1.039771e+00   2014.00   \n",
       "cityCenters          18180.0  1.418482e+01  8.616194e+00      0.00   \n",
       "\n",
       "                            25%         50%          75%          max  \n",
       "total_images               6.00        9.00       14.000         50.0  \n",
       "last_price           3400000.00  4650000.00  6800000.000  763000000.0  \n",
       "total_area                40.00       52.00       69.900        900.0  \n",
       "rooms                      1.00        2.00        3.000         19.0  \n",
       "ceiling_height             2.52        2.65        2.800        100.0  \n",
       "floors_total               5.00        9.00       16.000         60.0  \n",
       "living_area               18.60       30.00       42.300        409.7  \n",
       "floor                      2.00        4.00        8.000         33.0  \n",
       "kitchen_area               7.00        9.10       12.000        112.0  \n",
       "balcony                    0.00        0.00        1.000          5.0  \n",
       "airports_nearest       18585.00    26726.00    37273.000      84869.0  \n",
       "cityCenters_nearest     9238.00    13098.50    16293.000      65968.0  \n",
       "parks_around3000           0.00        0.00        1.000          3.0  \n",
       "parks_nearest            288.00      455.00      612.000       3190.0  \n",
       "ponds_around3000           0.00        1.00        1.000          3.0  \n",
       "ponds_nearest            294.00      502.00      729.000       1344.0  \n",
       "days_exposition           45.00       95.00      232.000       1580.0  \n",
       "square_meter_price     76585.47    95000.00   114256.325    1907500.0  \n",
       "weekday_exp                1.00        3.00        4.000          6.0  \n",
       "month_exp                  3.00        6.00       10.000         12.0  \n",
       "year_exp                2017.00     2017.00     2018.000       2019.0  \n",
       "cityCenters                9.00       13.00       16.000         66.0  "
      ]
     },
     "execution_count": 26,
     "metadata": {},
     "output_type": "execute_result"
    }
   ],
   "source": [
    "df.describe().T #выведем основные характиристики датасета в транспонированном виде"
   ]
  },
  {
   "cell_type": "code",
   "execution_count": 27,
   "metadata": {
    "scrolled": true
   },
   "outputs": [
    {
     "data": {
      "text/plain": [
       "<AxesSubplot:>"
      ]
     },
     "execution_count": 27,
     "metadata": {},
     "output_type": "execute_result"
    },
    {
     "data": {
      "image/png": "[encoded data removed]",
      "text/plain": [
       "<Figure size 432x288 with 1 Axes>"
      ]
     },
     "metadata": {
      "needs_background": "light"
     },
     "output_type": "display_data"
    }
   ],
   "source": [
    "df.query('total_area < 200')['total_area'].hist(bins=20, range=(0,350)) # общая площадь, без учета квартир > 200 м2"
   ]
  },
  {
   "cell_type": "code",
   "execution_count": 28,
   "metadata": {},
   "outputs": [
    {
     "data": {
      "text/plain": [
       "23468"
      ]
     },
     "execution_count": 28,
     "metadata": {},
     "output_type": "execute_result"
    }
   ],
   "source": [
    "df.query('total_area < 200')['total_area'].count() # выборка в срезе уменьшилась примерно на 200 квартир"
   ]
  },
  {
   "cell_type": "code",
   "execution_count": 29,
   "metadata": {},
   "outputs": [
    {
     "data": {
      "text/plain": [
       "0.9902527532807291"
      ]
     },
     "execution_count": 29,
     "metadata": {},
     "output_type": "execute_result"
    }
   ],
   "source": [
    "df.query('total_area < 200')['total_area'].count() / df['total_area'].count() #выборка уменьшилась на 1%,\n",
    "                                                                              #это не сильно повлияло на результат"
   ]
  },
  {
   "cell_type": "code",
   "execution_count": 77,
   "metadata": {},
   "outputs": [],
   "source": [
    "df = df.query('total_area < 200') # перезапишем датафрейм без учета аномалии"
   ]
  },
  {
   "cell_type": "code",
   "execution_count": 79,
   "metadata": {},
   "outputs": [
    {
     "data": {
      "text/plain": [
       "0"
      ]
     },
     "execution_count": 79,
     "metadata": {},
     "output_type": "execute_result"
    }
   ],
   "source": [
    "df.query('total_area > 200')['total_area'].count() # проверим перезапись"
   ]
  },
  {
   "cell_type": "code",
   "execution_count": 30,
   "metadata": {},
   "outputs": [
    {
     "data": {
      "text/plain": [
       "<AxesSubplot:>"
      ]
     },
     "execution_count": 30,
     "metadata": {},
     "output_type": "execute_result"
    },
    {
     "data": {
      "image/png": "[encoded data removed]",
      "text/plain": [
       "<Figure size 432x288 with 1 Axes>"
      ]
     },
     "metadata": {
      "needs_background": "light"
     },
     "output_type": "display_data"
    }
   ],
   "source": [
    "df['living_area'].hist(bins=20, range=(0,250)) # жилая площадь"
   ]
  },
  {
   "cell_type": "markdown",
   "metadata": {},
   "source": [
    "Минимальной жилой площадью на 1 человека считается 6 м2."
   ]
  },
  {
   "cell_type": "code",
   "execution_count": 31,
   "metadata": {},
   "outputs": [
    {
     "data": {
      "text/plain": [
       "6"
      ]
     },
     "execution_count": 31,
     "metadata": {},
     "output_type": "execute_result"
    }
   ],
   "source": [
    "df.query('living_area < 6')['living_area'].count() # посчитаем, сколько квартир не подходят под это требованиетакие"
   ]
  },
  {
   "cell_type": "markdown",
   "metadata": {},
   "source": [
    "6 квартир не удовлетворяют требованию.  Такие данные не повлияют на график, оставим график, но перезапишем датафрейм."
   ]
  },
  {
   "cell_type": "code",
   "execution_count": 80,
   "metadata": {},
   "outputs": [],
   "source": [
    "df = df.query('living_area > 6')"
   ]
  },
  {
   "cell_type": "code",
   "execution_count": 32,
   "metadata": {},
   "outputs": [
    {
     "data": {
      "text/plain": [
       "<AxesSubplot:>"
      ]
     },
     "execution_count": 32,
     "metadata": {},
     "output_type": "execute_result"
    },
    {
     "data": {
      "image/png": "[encoded data removed]",
      "text/plain": [
       "<Figure size 432x288 with 1 Axes>"
      ]
     },
     "metadata": {
      "needs_background": "light"
     },
     "output_type": "display_data"
    }
   ],
   "source": [
    "df['kitchen_area'].hist(bins=20, range=(0,60)) # площадь кухни"
   ]
  },
  {
   "cell_type": "markdown",
   "metadata": {},
   "source": [
    "По графику видно, что кухонь площадью больше 30 метров не так много, посчитаем сколько точно."
   ]
  },
  {
   "cell_type": "code",
   "execution_count": 33,
   "metadata": {},
   "outputs": [
    {
     "data": {
      "text/plain": [
       "323"
      ]
     },
     "execution_count": 33,
     "metadata": {},
     "output_type": "execute_result"
    }
   ],
   "source": [
    "df.query('kitchen_area > 30')['kitchen_area'].count()"
   ]
  },
  {
   "cell_type": "code",
   "execution_count": 34,
   "metadata": {},
   "outputs": [
    {
     "data": {
      "text/plain": [
       "0.015078661126931516"
      ]
     },
     "execution_count": 34,
     "metadata": {},
     "output_type": "execute_result"
    }
   ],
   "source": [
    "df.query('kitchen_area > 30')['kitchen_area'].count() / df['kitchen_area'].count()  #выборка уменьшилась на 1,5%,\n",
    "                                                                                    #это не сильно повлияло на результат"
   ]
  },
  {
   "cell_type": "code",
   "execution_count": 35,
   "metadata": {},
   "outputs": [
    {
     "data": {
      "text/plain": [
       "<AxesSubplot:>"
      ]
     },
     "execution_count": 35,
     "metadata": {},
     "output_type": "execute_result"
    },
    {
     "data": {
      "image/png": "[encoded data removed]",
      "text/plain": [
       "<Figure size 432x288 with 1 Axes>"
      ]
     },
     "metadata": {
      "needs_background": "light"
     },
     "output_type": "display_data"
    }
   ],
   "source": [
    "df.query('kitchen_area < 30')['kitchen_area'].hist(bins=20, range=(0,60)) # построим график без больших кухонь"
   ]
  },
  {
   "cell_type": "code",
   "execution_count": 83,
   "metadata": {},
   "outputs": [],
   "source": [
    "df = df.query('kitchen_area < 30') # перезапишем датафрейм, убрав большие кухни"
   ]
  },
  {
   "cell_type": "code",
   "execution_count": 36,
   "metadata": {},
   "outputs": [
    {
     "data": {
      "text/plain": [
       "<AxesSubplot:>"
      ]
     },
     "execution_count": 36,
     "metadata": {},
     "output_type": "execute_result"
    },
    {
     "data": {
      "image/png": "[encoded data removed]",
      "text/plain": [
       "<Figure size 432x288 with 1 Axes>"
      ]
     },
     "metadata": {
      "needs_background": "light"
     },
     "output_type": "display_data"
    }
   ],
   "source": [
    "df.query('last_price > 1e6')['last_price'].hist(bins=30, range=(0,2e7)) # цена объекта, без учета квартир дешевле миллиона"
   ]
  },
  {
   "cell_type": "code",
   "execution_count": 37,
   "metadata": {},
   "outputs": [
    {
     "data": {
      "text/plain": [
       "0.9896620110553188"
      ]
     },
     "execution_count": 37,
     "metadata": {},
     "output_type": "execute_result"
    }
   ],
   "source": [
    "df.query('last_price > 1e6')['last_price'].count() / df['last_price'].count() #выборка уменьшилась на 1%,\n",
    "                                                                              #это не сильно повлияло на результат"
   ]
  },
  {
   "cell_type": "code",
   "execution_count": 84,
   "metadata": {},
   "outputs": [],
   "source": [
    "df = df.query('last_price > 1e6') # перезапишем датафрейм, убрав квартиры дешевле миллиона"
   ]
  },
  {
   "cell_type": "code",
   "execution_count": 38,
   "metadata": {},
   "outputs": [
    {
     "data": {
      "text/plain": [
       "<AxesSubplot:>"
      ]
     },
     "execution_count": 38,
     "metadata": {},
     "output_type": "execute_result"
    },
    {
     "data": {
      "image/png": "[encoded data removed]",
      "text/plain": [
       "<Figure size 432x288 with 1 Axes>"
      ]
     },
     "metadata": {
      "needs_background": "light"
     },
     "output_type": "display_data"
    }
   ],
   "source": [
    "df['rooms'].hist() # количество комнат"
   ]
  },
  {
   "cell_type": "code",
   "execution_count": 39,
   "metadata": {},
   "outputs": [
    {
     "data": {
      "text/plain": [
       "rooms\n",
       "0      197\n",
       "1     8047\n",
       "2     7940\n",
       "3     5814\n",
       "4     1180\n",
       "5      326\n",
       "6      105\n",
       "7       59\n",
       "8       12\n",
       "9        8\n",
       "10       3\n",
       "11       2\n",
       "12       1\n",
       "14       2\n",
       "15       1\n",
       "16       1\n",
       "19       1\n",
       "Name: rooms, dtype: int64"
      ]
     },
     "execution_count": 39,
     "metadata": {},
     "output_type": "execute_result"
    }
   ],
   "source": [
    "df.groupby('rooms')['rooms'].count() # выведем количество квартир по каждому количеству комнат"
   ]
  },
  {
   "cell_type": "code",
   "execution_count": 40,
   "metadata": {},
   "outputs": [
    {
     "data": {
      "text/plain": [
       "<AxesSubplot:>"
      ]
     },
     "execution_count": 40,
     "metadata": {},
     "output_type": "execute_result"
    },
    {
     "data": {
      "image/png": "[encoded data removed]",
      "text/plain": [
       "<Figure size 432x288 with 1 Axes>"
      ]
     },
     "metadata": {
      "needs_background": "light"
     },
     "output_type": "display_data"
    }
   ],
   "source": [
    "df.query('0 < rooms < 5')['rooms'].hist() # построим гистограмму без квартир с 0 комнат и менее 5"
   ]
  },
  {
   "cell_type": "code",
   "execution_count": 41,
   "metadata": {},
   "outputs": [
    {
     "data": {
      "text/plain": [
       "0.9697033630110975"
      ]
     },
     "execution_count": 41,
     "metadata": {},
     "output_type": "execute_result"
    }
   ],
   "source": [
    "df.query('0 < rooms < 5')['rooms'].count() / df['rooms'].count() #выборка уменьшилась на 3%,\n",
    "                                                                 #это не сильно повлияет на результат"
   ]
  },
  {
   "cell_type": "code",
   "execution_count": 85,
   "metadata": {},
   "outputs": [],
   "source": [
    "df = df.query('0 < rooms < 5') # перезапишем датафрейм, убрав квартиры с большим количеством комнат"
   ]
  },
  {
   "cell_type": "code",
   "execution_count": 42,
   "metadata": {
    "scrolled": true
   },
   "outputs": [
    {
     "data": {
      "text/plain": [
       "<AxesSubplot:>"
      ]
     },
     "execution_count": 42,
     "metadata": {},
     "output_type": "execute_result"
    },
    {
     "data": {
      "image/png": "[encoded data removed]",
      "text/plain": [
       "<Figure size 432x288 with 1 Axes>"
      ]
     },
     "metadata": {
      "needs_background": "light"
     },
     "output_type": "display_data"
    }
   ],
   "source": [
    "df['ceiling_height'].hist(bins=6, range=(0,6)) # высота потолков"
   ]
  },
  {
   "cell_type": "code",
   "execution_count": 43,
   "metadata": {},
   "outputs": [
    {
     "data": {
      "text/plain": [
       "array([  2.7 ,    nan,   3.03,   2.5 ,   2.67,   2.56,   3.05,   2.75,\n",
       "         2.6 ,   2.9 ,   2.8 ,   2.55,   3.  ,   2.65,   3.2 ,   2.61,\n",
       "         3.25,   3.45,   2.77,   2.85,   2.64,   2.57,   4.15,   3.5 ,\n",
       "         3.3 ,   2.71,   4.  ,   2.47,   2.73,   2.84,   3.1 ,   2.34,\n",
       "         3.4 ,   3.06,   2.72,   2.54,   2.51,   2.78,   2.76,  25.  ,\n",
       "         2.58,   3.7 ,   2.52,   5.2 ,   2.87,   2.66,   2.59,   2.  ,\n",
       "         2.45,   3.6 ,   2.92,   3.11,   3.13,   3.8 ,   3.15,   3.55,\n",
       "         3.16,   3.62,   3.12,   2.53,   2.74,   2.96,   2.46,   5.3 ,\n",
       "         5.  ,   2.79,   2.95,   4.06,   2.94,   3.82,   3.54,   3.53,\n",
       "         2.83,   4.7 ,   2.4 ,   3.38,   3.01,   5.6 ,   3.65,   3.9 ,\n",
       "         3.18,   3.35,   2.3 ,   3.57,   2.48,   2.62,   2.82,   3.98,\n",
       "         2.63,   3.83,   3.52,   3.95,   3.75,   2.88,   3.67,   3.87,\n",
       "         3.66,   3.85,   3.86,   4.19,   3.24,   4.8 ,   4.5 ,   4.2 ,\n",
       "         3.36,  32.  ,   3.08,   3.68,   3.07,   3.37,   3.09,   8.  ,\n",
       "         3.26,   3.34,   2.81,   3.44,   2.97,   3.14,   4.37,   2.68,\n",
       "         3.22,   3.27,  27.  ,   4.1 ,   2.93,   3.46,  24.  ,   3.47,\n",
       "         3.33,   3.63,   3.32,  26.  ,   1.2 ,   8.3 ,   2.98,   2.86,\n",
       "         3.17,   4.4 ,   3.28,   3.04,   4.45,   5.5 ,   3.84,   3.23,\n",
       "         3.02,   3.21,   3.43,   3.78,   4.3 ,   3.39,   2.69,   3.31,\n",
       "         4.65,   3.56,   2.2 ,   3.51,   3.93,   3.42,   2.99,   3.49,\n",
       "        14.  ,   4.14,   2.91,   3.88,   1.75,   4.25,   3.29,  20.  ,\n",
       "         2.25,   3.76,   3.69,   6.  ,  22.6 ,   2.89,   3.58,   5.8 ,\n",
       "        27.5 ,   2.49,   4.9 ,   3.48,  10.3 ,   1.  , 100.  ,   3.59])"
      ]
     },
     "execution_count": 43,
     "metadata": {},
     "output_type": "execute_result"
    }
   ],
   "source": [
    "df['ceiling_height'].unique()"
   ]
  },
  {
   "cell_type": "code",
   "execution_count": 44,
   "metadata": {},
   "outputs": [
    {
     "data": {
      "text/plain": [
       "array([ 1.  ,  1.2 ,  1.75,  2.  ,  2.2 ,  2.25,  2.3 ,  2.34,  2.4 ,\n",
       "        2.45,  2.46,  2.47,  2.48,  2.49,  2.5 ,  2.51,  2.52,  2.53,\n",
       "        2.54,  2.55,  2.56,  2.57,  2.58,  2.59,  2.6 ,  2.61,  2.62,\n",
       "        2.63,  2.64,  2.65,  2.66,  2.67,  2.68,  2.69,  2.7 ,  2.71,\n",
       "        2.72,  2.73,  2.74,  2.75,  2.76,  2.77,  2.78,  2.79,  2.8 ,\n",
       "        2.81,  2.82,  2.83,  2.84,  2.85,  2.86,  2.87,  2.88,  2.89,\n",
       "        2.9 ,  2.91,  2.92,  2.93,  2.94,  2.95,  2.96,  2.97,  2.98,\n",
       "        2.99,  3.  ,  3.01,  3.02,  3.03,  3.04,  3.05,  3.06,  3.07,\n",
       "        3.08,  3.09,  3.1 ,  3.11,  3.12,  3.13,  3.14,  3.15,  3.16,\n",
       "        3.17,  3.18,  3.2 ,  3.21,  3.22,  3.23,  3.24,  3.25,  3.26,\n",
       "        3.27,  3.28,  3.29,  3.3 ,  3.31,  3.32,  3.33,  3.34,  3.35,\n",
       "        3.36,  3.37,  3.38,  3.39,  3.4 ,  3.42,  3.43,  3.44,  3.45,\n",
       "        3.46,  3.47,  3.48,  3.49,  3.5 ,  3.51,  3.52,  3.53,  3.54,\n",
       "        3.55,  3.56,  3.57,  3.58,  3.59,  3.6 ,  3.62,  3.63,  3.65,\n",
       "        3.66,  3.67,  3.68,  3.69,  3.7 ,  3.75,  3.76,  3.78,  3.8 ,\n",
       "        3.82,  3.83,  3.84,  3.85,  3.86,  3.87,  3.88,  3.9 ,  3.93,\n",
       "        3.95,  3.98,  4.  ,  4.06,  4.1 ,  4.14,  4.15,  4.19,  4.2 ,\n",
       "        4.25,  4.3 ,  4.37,  4.4 ,  4.45,  4.5 ,  4.65,  4.7 ,  4.8 ,\n",
       "        4.9 ,  5.  ,  5.2 ,  5.3 ,  5.5 ,  5.6 ,  5.8 ,  6.  ,  8.  ,\n",
       "        8.3 , 10.  , 10.3 , 14.  , 20.  , 22.6 ,   nan])"
      ]
     },
     "execution_count": 44,
     "metadata": {},
     "output_type": "execute_result"
    }
   ],
   "source": [
    "df['ceiling_height'] = df['ceiling_height'].replace({27.:2.7, 24.:2.4, 25.:2.5, 32.:3.2, 26.:2.6, 100.:10.0, 27.5:2.75}) \n",
    "df['ceiling_height'].sort_values().unique() # заменим неверные значения и просмотрим уникальные"
   ]
  },
  {
   "cell_type": "markdown",
   "metadata": {},
   "source": [
    "Посмотрим насколько сильно изменятся данные, если убрать значения потолков меньше 2.4 метров и выше 8."
   ]
  },
  {
   "cell_type": "code",
   "execution_count": 45,
   "metadata": {},
   "outputs": [
    {
     "data": {
      "text/plain": [
       "14454"
      ]
     },
     "execution_count": 45,
     "metadata": {},
     "output_type": "execute_result"
    }
   ],
   "source": [
    "df.query('2.4 < ceiling_height < 9')['ceiling_height'].count()"
   ]
  },
  {
   "cell_type": "markdown",
   "metadata": {},
   "source": [
    "Данные сократились почти на треть. Оставим датафрейм в прежнем виде."
   ]
  },
  {
   "cell_type": "code",
   "execution_count": 46,
   "metadata": {},
   "outputs": [
    {
     "data": {
      "text/plain": [
       "<AxesSubplot:>"
      ]
     },
     "execution_count": 46,
     "metadata": {},
     "output_type": "execute_result"
    },
    {
     "data": {
      "image/png": "[encoded data removed]",
      "text/plain": [
       "<Figure size 432x288 with 1 Axes>"
      ]
     },
     "metadata": {
      "needs_background": "light"
     },
     "output_type": "display_data"
    }
   ],
   "source": [
    "df['type_of_floor'].hist(bins=3) # тип этажа квартиры («первый», «последний», «другой»)"
   ]
  },
  {
   "cell_type": "code",
   "execution_count": 47,
   "metadata": {},
   "outputs": [
    {
     "data": {
      "text/plain": [
       "<AxesSubplot:>"
      ]
     },
     "execution_count": 47,
     "metadata": {},
     "output_type": "execute_result"
    },
    {
     "data": {
      "image/png": "[encoded data removed]",
      "text/plain": [
       "<Figure size 432x288 with 1 Axes>"
      ]
     },
     "metadata": {
      "needs_background": "light"
     },
     "output_type": "display_data"
    }
   ],
   "source": [
    "df['floors_total'].hist(bins=20, range=(0,40)) # общее количество этажей в доме"
   ]
  },
  {
   "cell_type": "code",
   "execution_count": 48,
   "metadata": {},
   "outputs": [
    {
     "data": {
      "text/plain": [
       "array([ 0,  1,  2,  3,  4,  5,  6,  7,  8,  9, 10, 11, 12, 13, 14, 15, 16,\n",
       "       17, 18, 19, 20, 21, 22, 23, 24, 25, 26, 27, 28, 29, 33, 34, 35, 36,\n",
       "       37, 52, 60])"
      ]
     },
     "execution_count": 48,
     "metadata": {},
     "output_type": "execute_result"
    }
   ],
   "source": [
    "df['floors_total'].sort_values().unique()"
   ]
  },
  {
   "cell_type": "code",
   "execution_count": 49,
   "metadata": {},
   "outputs": [
    {
     "data": {
      "text/plain": [
       "floors_total\n",
       "0       86\n",
       "1       25\n",
       "2      383\n",
       "3      668\n",
       "4     1200\n",
       "5     5788\n",
       "6      914\n",
       "7      592\n",
       "8      390\n",
       "9     3761\n",
       "10    1174\n",
       "11     203\n",
       "12    1362\n",
       "13     229\n",
       "14     553\n",
       "15     365\n",
       "16    1376\n",
       "17     833\n",
       "18     505\n",
       "19     339\n",
       "20     271\n",
       "21     158\n",
       "22     286\n",
       "23     352\n",
       "24     469\n",
       "25    1075\n",
       "26     124\n",
       "27     164\n",
       "28      21\n",
       "29       1\n",
       "33       1\n",
       "34       1\n",
       "35      24\n",
       "36       3\n",
       "37       1\n",
       "52       1\n",
       "60       1\n",
       "Name: floors_total, dtype: int64"
      ]
     },
     "execution_count": 49,
     "metadata": {},
     "output_type": "execute_result"
    }
   ],
   "source": [
    "df.groupby('floors_total')['floors_total'].count() # количество квартир по этажам в доме"
   ]
  },
  {
   "cell_type": "code",
   "execution_count": 50,
   "metadata": {
    "scrolled": true
   },
   "outputs": [
    {
     "data": {
      "text/plain": [
       "<AxesSubplot:>"
      ]
     },
     "execution_count": 50,
     "metadata": {},
     "output_type": "execute_result"
    },
    {
     "data": {
      "image/png": "[encoded data removed]",
      "text/plain": [
       "<Figure size 432x288 with 1 Axes>"
      ]
     },
     "metadata": {
      "needs_background": "light"
     },
     "output_type": "display_data"
    }
   ],
   "source": [
    "df['floors_total'].hist(bins=28, range=(0,35))"
   ]
  },
  {
   "cell_type": "markdown",
   "metadata": {},
   "source": [
    "На графике виден незначительный всплекс значений в районе 35 этажей. Возможно это выброс."
   ]
  },
  {
   "cell_type": "code",
   "execution_count": 86,
   "metadata": {},
   "outputs": [],
   "source": [
    "df = df.query('0 < floors_total < 28') # уберем из датафрейма дома с 0 этажей и выше 27 этажей  "
   ]
  },
  {
   "cell_type": "code",
   "execution_count": 51,
   "metadata": {},
   "outputs": [
    {
     "data": {
      "text/plain": [
       "<AxesSubplot:>"
      ]
     },
     "execution_count": 51,
     "metadata": {},
     "output_type": "execute_result"
    },
    {
     "data": {
      "image/png": "[encoded data removed]",
      "text/plain": [
       "<Figure size 432x288 with 1 Axes>"
      ]
     },
     "metadata": {
      "needs_background": "light"
     },
     "output_type": "display_data"
    }
   ],
   "source": [
    "df['cityCenters_nearest'].hist(bins=30) # расстояние до центра города в метрах"
   ]
  },
  {
   "cell_type": "code",
   "execution_count": 52,
   "metadata": {},
   "outputs": [
    {
     "data": {
      "text/plain": [
       "<AxesSubplot:>"
      ]
     },
     "execution_count": 52,
     "metadata": {},
     "output_type": "execute_result"
    },
    {
     "data": {
      "image/png": "[encoded data removed]",
      "text/plain": [
       "<Figure size 432x288 with 1 Axes>"
      ]
     },
     "metadata": {
      "needs_background": "light"
     },
     "output_type": "display_data"
    }
   ],
   "source": [
    "df['parks_nearest'].hist(bins=30) # расстояние до ближайшего парка"
   ]
  },
  {
   "cell_type": "markdown",
   "metadata": {},
   "source": [
    "*Наблюдения по параметрам:*\n",
    "- в данных с общей площадью квартир исключили из гистограммы квартиры более 200 метров квадратных;\n",
    "- 6 квартир имеют жилую площадь менее 6 метров квадратных, что не подходит по стандартам, возможно это ошибочные данные, их мы не стали удалять при построении гистограммы, так они слабо влияют на выборку;\n",
    "- также было обнаружено более 300 квартир с кухнями площадью более 30 метров, при построении гистограммы мы их не учитывали;\n",
    "- гистограмма по стоимости жилья была построена без квартир, цена которых менее миллиона рублей;\n",
    "- 197 квартир имеют 0 комнат, что странно, эти данные не были использованы при построении гистограммы, как и квартиры с количеством комнат более 4-х (их количество чуть более 500);\n",
    "- по построенной гистограмме видно, что большинство значений высоты потолков располагается в диапазоне между 2 и 3 метрами;\n",
    "- гистограмма построенная по новому столбцу type_of_floor показала, что большинство квартир ожидаемо находятся не на первом и не на последнем этажах;\n",
    "- данные о растоянии до центра и ближайшего парка трудно оценить на достоверность, так как некоторые квартиры находились в области, и высокие значения в таком случае оправданы. Значений 0 метров так же не было выявлено."
   ]
  },
  {
   "cell_type": "markdown",
   "metadata": {},
   "source": [
    "**4.2 Изучение скорости продажи квартир**"
   ]
  },
  {
   "cell_type": "code",
   "execution_count": 53,
   "metadata": {
    "scrolled": true
   },
   "outputs": [
    {
     "data": {
      "text/plain": [
       "3181"
      ]
     },
     "execution_count": 53,
     "metadata": {},
     "output_type": "execute_result"
    }
   ],
   "source": [
    "df['days_exposition'].isna().sum() # найдем количество пропусков в столбце со временем продажи квартир"
   ]
  },
  {
   "cell_type": "code",
   "execution_count": 54,
   "metadata": {},
   "outputs": [
    {
     "data": {
      "text/plain": [
       "<AxesSubplot:>"
      ]
     },
     "execution_count": 54,
     "metadata": {},
     "output_type": "execute_result"
    },
    {
     "data": {
      "image/png": "[encoded data removed]",
      "text/plain": [
       "<Figure size 432x288 with 1 Axes>"
      ]
     },
     "metadata": {
      "needs_background": "light"
     },
     "output_type": "display_data"
    }
   ],
   "source": [
    "df['days_exposition'].hist(bins=20)"
   ]
  },
  {
   "cell_type": "code",
   "execution_count": 55,
   "metadata": {},
   "outputs": [
    {
     "data": {
      "text/plain": [
       "count    20518.000000\n",
       "mean       180.888634\n",
       "std        219.727988\n",
       "min          1.000000\n",
       "25%         45.000000\n",
       "50%         95.000000\n",
       "75%        232.000000\n",
       "max       1580.000000\n",
       "Name: days_exposition, dtype: float64"
      ]
     },
     "execution_count": 55,
     "metadata": {},
     "output_type": "execute_result"
    }
   ],
   "source": [
    "df['days_exposition'].describe() #выведем общее описание по столбцу, включающее среднее значение и медиану"
   ]
  },
  {
   "cell_type": "markdown",
   "metadata": {},
   "source": [
    "Из полученных данных видно, что стандартное отклонение имеет слишком большое значение, это может говорить о наличие большого количества выбросов."
   ]
  },
  {
   "cell_type": "code",
   "execution_count": 56,
   "metadata": {},
   "outputs": [
    {
     "data": {
      "text/plain": [
       "<AxesSubplot:>"
      ]
     },
     "execution_count": 56,
     "metadata": {},
     "output_type": "execute_result"
    },
    {
     "data": {
      "image/png": "[encoded data removed]",
      "text/plain": [
       "<Figure size 432x288 with 1 Axes>"
      ]
     },
     "metadata": {
      "needs_background": "light"
     },
     "output_type": "display_data"
    }
   ],
   "source": [
    "df.boxplot(column='days_exposition') # построим диаграмму размаха"
   ]
  },
  {
   "cell_type": "markdown",
   "metadata": {},
   "source": [
    "Из диаграммы видно, что большое количество значений находится выше \"второго уса\", т.е. являются выбросами и имеют значения больше чем Q3+1,5IQR (512,5). Построим гистограмму без них."
   ]
  },
  {
   "cell_type": "code",
   "execution_count": 57,
   "metadata": {},
   "outputs": [
    {
     "data": {
      "text/plain": [
       "<AxesSubplot:>"
      ]
     },
     "execution_count": 57,
     "metadata": {},
     "output_type": "execute_result"
    },
    {
     "data": {
      "image/png": "[encoded data removed]",
      "text/plain": [
       "<Figure size 432x288 with 1 Axes>"
      ]
     },
     "metadata": {
      "needs_background": "light"
     },
     "output_type": "display_data"
    }
   ],
   "source": [
    "df.query('days_exposition < 512')['days_exposition'].hist(bins=30)"
   ]
  },
  {
   "cell_type": "code",
   "execution_count": 58,
   "metadata": {},
   "outputs": [
    {
     "data": {
      "text/plain": [
       "1669"
      ]
     },
     "execution_count": 58,
     "metadata": {},
     "output_type": "execute_result"
    }
   ],
   "source": [
    "df.query('days_exposition > 512')['days_exposition'].count()"
   ]
  },
  {
   "cell_type": "code",
   "execution_count": 59,
   "metadata": {},
   "outputs": [
    {
     "data": {
      "text/plain": [
       "count    18844.000000\n",
       "mean       128.652197\n",
       "std        121.386843\n",
       "min          1.000000\n",
       "25%         41.000000\n",
       "50%         85.000000\n",
       "75%        182.000000\n",
       "max        511.000000\n",
       "Name: days_exposition, dtype: float64"
      ]
     },
     "execution_count": 59,
     "metadata": {},
     "output_type": "execute_result"
    }
   ],
   "source": [
    "df.query('days_exposition < 512')['days_exposition'].describe()"
   ]
  },
  {
   "cell_type": "markdown",
   "metadata": {},
   "source": [
    "*По полученным данным можно отметить, что:*\n",
    "- большинство квартир продается в течение 75-100 дней;\n",
    "- Средним временем продажи является срок в 85 дней;\n",
    "- Необычно быстрым является показатель в 1 день;\n",
    "- Самым долгим оказалось значение в 1580 дней."
   ]
  },
  {
   "cell_type": "markdown",
   "metadata": {},
   "source": [
    "**4.3 Определение факторов, наиболее влияющих на общую стоимость**"
   ]
  },
  {
   "cell_type": "code",
   "execution_count": 60,
   "metadata": {},
   "outputs": [
    {
     "data": {
      "text/plain": [
       "<AxesSubplot:>"
      ]
     },
     "execution_count": 60,
     "metadata": {},
     "output_type": "execute_result"
    },
    {
     "data": {
      "image/png": "[encoded data removed]",
      "text/plain": [
       "<Figure size 432x288 with 1 Axes>"
      ]
     },
     "metadata": {
      "needs_background": "light"
     },
     "output_type": "display_data"
    }
   ],
   "source": [
    "df.query('last_price > 1e6')['last_price'].hist(bins=30, range=(0,2e7)) "
   ]
  },
  {
   "cell_type": "code",
   "execution_count": 61,
   "metadata": {},
   "outputs": [
    {
     "data": {
      "text/plain": [
       "<seaborn.axisgrid.PairGrid at 0x7fdcad23deb0>"
      ]
     },
     "execution_count": 61,
     "metadata": {},
     "output_type": "execute_result"
    },
    {
     "data": {
      "image/png": "[encoded data removed]",
      "text/plain": [
       "<Figure size 864x288 with 3 Axes>"
      ]
     },
     "metadata": {
      "needs_background": "light"
     },
     "output_type": "display_data"
    }
   ],
   "source": [
    "sns.pairplot(df, x_vars=['total_area', 'living_area', 'kitchen_area'], y_vars='last_price', height=4) \n",
    "# построим диаграммы рассеивания методом pairplot, без фильтрации значений"
   ]
  },
  {
   "cell_type": "markdown",
   "metadata": {},
   "source": [
    "На полученных диаграммах заметны выбросы значений (например общая площадь более 800 м2. Создадим новый датасет без таких значений."
   ]
  },
  {
   "cell_type": "code",
   "execution_count": 62,
   "metadata": {},
   "outputs": [],
   "source": [
    "data = df.loc[(df['total_area'] < 600) & (df['living_area'] < 350) & (df['kitchen_area'] < 100) & (df['last_price'] < 4.5e8)]\n",
    "# создадим новый датасет, с условиями по будущим параметрам x на графике"
   ]
  },
  {
   "cell_type": "code",
   "execution_count": 63,
   "metadata": {},
   "outputs": [
    {
     "data": {
      "text/plain": [
       "<seaborn.axisgrid.PairGrid at 0x7fdcad0a87c0>"
      ]
     },
     "execution_count": 63,
     "metadata": {},
     "output_type": "execute_result"
    },
    {
     "data": {
      "image/png": "[encoded data removed]",
      "text/plain": [
       "<Figure size 864x288 with 3 Axes>"
      ]
     },
     "metadata": {
      "needs_background": "light"
     },
     "output_type": "display_data"
    }
   ],
   "source": [
    "sns.pairplot(data, x_vars=['total_area', 'living_area', 'kitchen_area'], y_vars='last_price', height=4)\n",
    "# построим диаграмму рассеивания для зависимости цены от площадей: общей, кухни и жилой"
   ]
  },
  {
   "cell_type": "code",
   "execution_count": 64,
   "metadata": {},
   "outputs": [
    {
     "data": {
      "text/html": [
       "<div>\n",
       "<style scoped>\n",
       "    .dataframe tbody tr th:only-of-type {\n",
       "        vertical-align: middle;\n",
       "    }\n",
       "\n",
       "    .dataframe tbody tr th {\n",
       "        vertical-align: top;\n",
       "    }\n",
       "\n",
       "    .dataframe thead th {\n",
       "        text-align: right;\n",
       "    }\n",
       "</style>\n",
       "<table border=\"1\" class=\"dataframe\">\n",
       "  <thead>\n",
       "    <tr style=\"text-align: right;\">\n",
       "      <th></th>\n",
       "      <th>living_area</th>\n",
       "      <th>total_area</th>\n",
       "      <th>kitchen_area</th>\n",
       "      <th>last_price</th>\n",
       "    </tr>\n",
       "  </thead>\n",
       "  <tbody>\n",
       "    <tr>\n",
       "      <th>last_price</th>\n",
       "      <td>0.59626</td>\n",
       "      <td>0.673071</td>\n",
       "      <td>0.50648</td>\n",
       "      <td>1.0</td>\n",
       "    </tr>\n",
       "  </tbody>\n",
       "</table>\n",
       "</div>"
      ],
      "text/plain": [
       "            living_area  total_area  kitchen_area  last_price\n",
       "last_price      0.59626    0.673071       0.50648         1.0"
      ]
     },
     "execution_count": 64,
     "metadata": {},
     "output_type": "execute_result"
    }
   ],
   "source": [
    "data[['living_area', 'total_area', 'kitchen_area', 'last_price']].corr().iloc[[3]] #выведем коэффициент Пирсона в одной таблице"
   ]
  },
  {
   "cell_type": "markdown",
   "metadata": {},
   "source": [
    "Коэффициент Пирсона 0,67 говорит о наличие связи между площадью квартиры и её ценой (с увеличением площади растет цена), но в то же время его величина не позволяет сказать что цена зависит только от этого."
   ]
  },
  {
   "cell_type": "markdown",
   "metadata": {},
   "source": [
    "Ситуация с жилой площадью напоминает зависимость цены от общей площади, но в данном случае коэффициент Пирсона имеет ещё меньшее значение, а значит зависимость цены от жилой площади меньше чем зависмость от общей."
   ]
  },
  {
   "cell_type": "markdown",
   "metadata": {},
   "source": [
    "Зависимость цены квартиры от площади кухни наблюдается меньше, чем от общей или жилой площади, но её так же можно проследить по диаграмме и коэффициенту Пирсона."
   ]
  },
  {
   "cell_type": "code",
   "execution_count": 65,
   "metadata": {},
   "outputs": [
    {
     "data": {
      "text/plain": [
       "<AxesSubplot:title={'center':'Зависимость цены от количества комнат'}, xlabel='rooms'>"
      ]
     },
     "execution_count": 65,
     "metadata": {},
     "output_type": "execute_result"
    },
    {
     "data": {
      "image/png": "[encoded data removed]",
      "text/plain": [
       "<Figure size 864x288 with 1 Axes>"
      ]
     },
     "metadata": {
      "needs_background": "light"
     },
     "output_type": "display_data"
    }
   ],
   "source": [
    "(\n",
    "    df.query('0 < rooms < 5')\n",
    "    .pivot_table(index='rooms', values='last_price', aggfunc='median')\n",
    "    .plot(title='Зависимость цены от количества комнат', figsize=(12,4))\n",
    ") # зависимость медианной цены от количества комнат из среза менее "
   ]
  },
  {
   "cell_type": "code",
   "execution_count": 66,
   "metadata": {},
   "outputs": [
    {
     "data": {
      "text/plain": [
       "0.3633428499648948"
      ]
     },
     "execution_count": 66,
     "metadata": {},
     "output_type": "execute_result"
    }
   ],
   "source": [
    "df['last_price'].corr(df['rooms'])"
   ]
  },
  {
   "cell_type": "markdown",
   "metadata": {},
   "source": [
    "Коэффициент корреляции 0,36 говорит о слабой зависимости между ценой квартиры и количеством комнат. Более явное влияние тут оказывает площадь."
   ]
  },
  {
   "cell_type": "code",
   "execution_count": 67,
   "metadata": {},
   "outputs": [
    {
     "data": {
      "text/plain": [
       "<AxesSubplot:title={'center':'Зависимость цены от этажа'}, xlabel='type_of_floor'>"
      ]
     },
     "execution_count": 67,
     "metadata": {},
     "output_type": "execute_result"
    },
    {
     "data": {
      "image/png": "[encoded data removed]",
      "text/plain": [
       "<Figure size 864x288 with 1 Axes>"
      ]
     },
     "metadata": {
      "needs_background": "light"
     },
     "output_type": "display_data"
    }
   ],
   "source": [
    "(\n",
    "    df.pivot_table(index='type_of_floor', values='last_price', aggfunc='median')\n",
    "    .plot(title='Зависимость цены от этажа', figsize=(12,4))\n",
    ") # зависимость медианной цены от этажа квартиры"
   ]
  },
  {
   "cell_type": "markdown",
   "metadata": {},
   "source": [
    "На полученном графике виден рост цены по категориям в порядке \"первый-последний-другой\", что может говорить о непопулярности квартир на первом и последнем этажах и соответсвующей зависимости в цене. "
   ]
  },
  {
   "cell_type": "code",
   "execution_count": 68,
   "metadata": {},
   "outputs": [
    {
     "data": {
      "text/plain": [
       "0.0015501452176215407"
      ]
     },
     "execution_count": 68,
     "metadata": {},
     "output_type": "execute_result"
    }
   ],
   "source": [
    "df['last_price'].corr(df['weekday_exp']) #найдём последовательно коэффициенты корреляции для зависимости цены от дня недели"
   ]
  },
  {
   "cell_type": "code",
   "execution_count": 69,
   "metadata": {},
   "outputs": [
    {
     "data": {
      "text/plain": [
       "0.0027791287507397166"
      ]
     },
     "execution_count": 69,
     "metadata": {},
     "output_type": "execute_result"
    }
   ],
   "source": [
    "df['last_price'].corr(df['month_exp']) # ...месяца"
   ]
  },
  {
   "cell_type": "code",
   "execution_count": 70,
   "metadata": {},
   "outputs": [
    {
     "data": {
      "text/plain": [
       "-0.043089036199508615"
      ]
     },
     "execution_count": 70,
     "metadata": {},
     "output_type": "execute_result"
    }
   ],
   "source": [
    "df['last_price'].corr(df['year_exp']) # ... и года"
   ]
  },
  {
   "cell_type": "markdown",
   "metadata": {},
   "source": [
    "По полученным данным мы можем сказать, что нет зависимости между ценой и датой публикации объявления."
   ]
  },
  {
   "cell_type": "markdown",
   "metadata": {},
   "source": [
    "**4.4 Расчёт цены одного квадратного метра в 10 населённых пунктах с наибольшим числом объявлений**"
   ]
  },
  {
   "cell_type": "code",
   "execution_count": 71,
   "metadata": {},
   "outputs": [
    {
     "data": {
      "text/html": [
       "<div>\n",
       "<style scoped>\n",
       "    .dataframe tbody tr th:only-of-type {\n",
       "        vertical-align: middle;\n",
       "    }\n",
       "\n",
       "    .dataframe tbody tr th {\n",
       "        vertical-align: top;\n",
       "    }\n",
       "\n",
       "    .dataframe thead th {\n",
       "        text-align: right;\n",
       "    }\n",
       "</style>\n",
       "<table border=\"1\" class=\"dataframe\">\n",
       "  <thead>\n",
       "    <tr style=\"text-align: right;\">\n",
       "      <th></th>\n",
       "      <th>count</th>\n",
       "      <th>mean</th>\n",
       "    </tr>\n",
       "    <tr>\n",
       "      <th>locality_name</th>\n",
       "      <th></th>\n",
       "      <th></th>\n",
       "    </tr>\n",
       "  </thead>\n",
       "  <tbody>\n",
       "    <tr>\n",
       "      <th>Санкт-Петербург</th>\n",
       "      <td>15721</td>\n",
       "      <td>114849.01</td>\n",
       "    </tr>\n",
       "    <tr>\n",
       "      <th>посёлок Мурино</th>\n",
       "      <td>556</td>\n",
       "      <td>85681.76</td>\n",
       "    </tr>\n",
       "    <tr>\n",
       "      <th>посёлок Шушары</th>\n",
       "      <td>440</td>\n",
       "      <td>78677.36</td>\n",
       "    </tr>\n",
       "    <tr>\n",
       "      <th>Всеволожск</th>\n",
       "      <td>398</td>\n",
       "      <td>68654.47</td>\n",
       "    </tr>\n",
       "    <tr>\n",
       "      <th>Пушкин</th>\n",
       "      <td>369</td>\n",
       "      <td>103125.82</td>\n",
       "    </tr>\n",
       "    <tr>\n",
       "      <th>Колпино</th>\n",
       "      <td>338</td>\n",
       "      <td>75424.58</td>\n",
       "    </tr>\n",
       "    <tr>\n",
       "      <th>посёлок Парголово</th>\n",
       "      <td>327</td>\n",
       "      <td>90175.91</td>\n",
       "    </tr>\n",
       "    <tr>\n",
       "      <th>Гатчина</th>\n",
       "      <td>307</td>\n",
       "      <td>68746.15</td>\n",
       "    </tr>\n",
       "    <tr>\n",
       "      <th>деревня Кудрово</th>\n",
       "      <td>299</td>\n",
       "      <td>92473.55</td>\n",
       "    </tr>\n",
       "    <tr>\n",
       "      <th>Выборг</th>\n",
       "      <td>237</td>\n",
       "      <td>58141.91</td>\n",
       "    </tr>\n",
       "  </tbody>\n",
       "</table>\n",
       "</div>"
      ],
      "text/plain": [
       "                   count       mean\n",
       "locality_name                      \n",
       "Санкт-Петербург    15721  114849.01\n",
       "посёлок Мурино       556   85681.76\n",
       "посёлок Шушары       440   78677.36\n",
       "Всеволожск           398   68654.47\n",
       "Пушкин               369  103125.82\n",
       "Колпино              338   75424.58\n",
       "посёлок Парголово    327   90175.91\n",
       "Гатчина              307   68746.15\n",
       "деревня Кудрово      299   92473.55\n",
       "Выборг               237   58141.91"
      ]
     },
     "execution_count": 71,
     "metadata": {},
     "output_type": "execute_result"
    }
   ],
   "source": [
    "\n",
    "locality_top = df.groupby('locality_name')['square_meter_price'].agg(['count', 'mean']).sort_values(by='count', ascending=False)\n",
    "round(locality_top.head(10), 2)"
   ]
  },
  {
   "cell_type": "markdown",
   "metadata": {},
   "source": [
    "Самая высокая цена квадратного метра наблюдается в Санкт-Петергбурге, и поселках Мурино и Шушары (114, 85 и 76 тысяц за метр квадратный). Самая низкая цена из популярных населенных пунктов в Выборге и деревне Кудрово (58 и 92 тысячи)."
   ]
  },
  {
   "cell_type": "markdown",
   "metadata": {},
   "source": [
    "**4.5 Расчёт цены квартир в Санкт-Петербурге на разном удалении от центра**"
   ]
  },
  {
   "cell_type": "code",
   "execution_count": 72,
   "metadata": {},
   "outputs": [
    {
     "data": {
      "text/plain": [
       "cityCenters\n",
       "0.0    3.144912e+07\n",
       "1.0    2.120672e+07\n",
       "2.0    1.778832e+07\n",
       "3.0    1.112658e+07\n",
       "4.0    1.330428e+07\n",
       "5.0    1.449912e+07\n",
       "6.0    1.533842e+07\n",
       "7.0    1.477515e+07\n",
       "8.0    9.957717e+06\n",
       "9.0    6.950659e+06\n",
       "Name: last_price, dtype: float64"
      ]
     },
     "execution_count": 72,
     "metadata": {},
     "output_type": "execute_result"
    }
   ],
   "source": [
    "center_price = df.query('locality_name==\"Санкт-Петербург\"').groupby('cityCenters')['last_price'].mean()\n",
    "center_price.head(10) # сделаем сводную таблицу, подготовив срез по городу, сгруппировав по дистанции, и посчитав среднюю цену"
   ]
  },
  {
   "cell_type": "code",
   "execution_count": 73,
   "metadata": {},
   "outputs": [
    {
     "data": {
      "text/plain": [
       "<AxesSubplot:xlabel='cityCenters'>"
      ]
     },
     "execution_count": 73,
     "metadata": {},
     "output_type": "execute_result"
    },
    {
     "data": {
      "image/png": "[encoded data removed]",
      "text/plain": [
       "<Figure size 432x288 with 1 Axes>"
      ]
     },
     "metadata": {
      "needs_background": "light"
     },
     "output_type": "display_data"
    }
   ],
   "source": [
    "center_price.plot() # построим просто график по полученной таблице"
   ]
  },
  {
   "cell_type": "markdown",
   "metadata": {},
   "source": [
    "По графику можно отследить, как цена квартир снижается по мере удаления от центра. Также наблюдаются несколько пиков повышения цены. Они могут быть связаны с другими факторами, такими как большая площадь, хороший этаж или нечто иное."
   ]
  },
  {
   "cell_type": "markdown",
   "metadata": {
    "id": "h7VpzkIDAwb-"
   },
   "source": [
    "### Напишите общий вывод"
   ]
  },
  {
   "cell_type": "markdown",
   "metadata": {},
   "source": [
    "### Общие выводы\n",
    "**В процессе исследования датафрейма было установлено:**\n",
    "- что наибольшее количество пропусков в данных находится среди числовых значений, полученных автоматическим путем (возможные ошибки при выгрузке или в системе). Также значительное количество пропусков встречается среди  геометрических параметров квартир (площади отдельных помещений, высоты потолков), их, вероятнее всего не заполнили сами пользователи, так как не знали или не помнили точные данные. Странным кажется наличие пропусков в столбце с названием населенного пункта и временем размещения объявления, возможной причиной также может быть ошибка выгрузки;\n",
    "- при построении гистограмм по параметрам датафрейма были исключены выбросы значений, такие как квартиры площадью более 200 м2, маленькая жилая площадь (< 6м2), большие площади кухонь, слишком высокие (> 8 м) и слишком низкие потолки (< 2,4 м), дома выше 28 этажей и со значением 0;\n",
    "- при определении времени, необходимого на продажу квартиры, также было обнаружено большое количество выбросов, которые были исключены при построении гистограммы и оценке среднего времени. Исследование показало что средний срок продажи квартир находится в диапазоне 75-100 дней и составляет 85 дней. Рекордно быстрым является показатель продажи за 1 день, рекордно долгим - 1580 дней;\n",
    "- при исследовании факторов, влияющих на стоимость жилья, было установлено, что наибольшее влияние оказывает общая площадь квартиры, этаж расположения. Количество комнат и отдельные площади помещений влияют в меньше степени на цену квартиры, дата публикации объявление вовсе не влияет;\n",
    "- самая высокая цена квадратного метра среди населенных пунктов с наибольшим количеством объявлений обнаружена в Санкт-Петергбурге, и поселках Мурино и Шушары (114, 85 и 76 тысяц за метр квадратный), самая низкая цена из той же категории - Выборг и деревня Кудрово (58 и 92 тысячи);\n",
    "- на последнем этапе исследования было установлено, что цена за квадратный метр в Санкт-Петербурге уменьшается по мере удаления квартиры от центра. На приведенном графике были отмечены несколько пиков роста цены, вероятно связанных с другими факторами, влияющими на цену (такими как площадь).\n",
    "\n",
    "Подводя общий итог, можно выделить факторы, оказывающие влияние на стоимость жилья - это общая площадь, этаж, расположение квартиры. Средний срок продажи квартиры при эторм составляет 3 месяца. "
   ]
  },
  {
   "cell_type": "code",
   "execution_count": null,
   "metadata": {},
   "outputs": [],
   "source": []
  }
 ],
 "metadata": {
  "ExecuteTimeLog": [
   {
    "duration": 507,
    "start_time": "2024-04-08T15:16:21.157Z"
   },
   {
    "duration": 735,
    "start_time": "2024-04-08T15:16:44.406Z"
   },
   {
    "duration": 28,
    "start_time": "2024-04-08T15:19:01.803Z"
   },
   {
    "duration": 11,
    "start_time": "2024-04-08T15:20:31.173Z"
   },
   {
    "duration": 121,
    "start_time": "2024-04-08T15:21:06.775Z"
   },
   {
    "duration": 28,
    "start_time": "2024-04-08T15:21:14.886Z"
   },
   {
    "duration": 249,
    "start_time": "2024-04-08T15:23:24.037Z"
   },
   {
    "duration": 229,
    "start_time": "2024-04-08T15:23:47.493Z"
   },
   {
    "duration": 2151,
    "start_time": "2024-04-08T15:31:02.374Z"
   },
   {
    "duration": 2032,
    "start_time": "2024-04-08T15:33:24.403Z"
   },
   {
    "duration": 2167,
    "start_time": "2024-04-08T15:33:46.020Z"
   },
   {
    "duration": 2320,
    "start_time": "2024-04-08T15:34:01.676Z"
   },
   {
    "duration": 2511,
    "start_time": "2024-04-08T15:34:35.934Z"
   },
   {
    "duration": 11,
    "start_time": "2024-04-08T15:48:01.566Z"
   },
   {
    "duration": 11,
    "start_time": "2024-04-08T15:52:08.179Z"
   },
   {
    "duration": 4,
    "start_time": "2024-04-08T16:00:04.274Z"
   },
   {
    "duration": 33,
    "start_time": "2024-04-08T16:18:42.910Z"
   },
   {
    "duration": 9,
    "start_time": "2024-04-08T16:45:23.811Z"
   },
   {
    "duration": 750,
    "start_time": "2024-04-08T16:45:38.867Z"
   },
   {
    "duration": 8,
    "start_time": "2024-04-08T16:46:33.070Z"
   },
   {
    "duration": 37,
    "start_time": "2024-04-08T16:46:47.848Z"
   },
   {
    "duration": 25,
    "start_time": "2024-04-08T16:47:39.399Z"
   },
   {
    "duration": 33,
    "start_time": "2024-04-08T16:49:56.582Z"
   },
   {
    "duration": 33,
    "start_time": "2024-04-08T16:50:20.535Z"
   },
   {
    "duration": 114,
    "start_time": "2024-04-08T16:51:02.185Z"
   },
   {
    "duration": 32,
    "start_time": "2024-04-08T16:51:05.392Z"
   },
   {
    "duration": 102,
    "start_time": "2024-04-08T16:51:11.648Z"
   },
   {
    "duration": 45,
    "start_time": "2024-04-08T16:51:24.178Z"
   },
   {
    "duration": 34,
    "start_time": "2024-04-08T16:51:36.979Z"
   },
   {
    "duration": 16,
    "start_time": "2024-04-08T16:58:06.064Z"
   },
   {
    "duration": 26,
    "start_time": "2024-04-08T17:09:04.350Z"
   },
   {
    "duration": 22,
    "start_time": "2024-04-08T17:09:19.777Z"
   },
   {
    "duration": 33,
    "start_time": "2024-04-08T17:16:50.128Z"
   },
   {
    "duration": 21,
    "start_time": "2024-04-08T17:17:19.651Z"
   },
   {
    "duration": 25,
    "start_time": "2024-04-08T17:18:08.717Z"
   },
   {
    "duration": 836,
    "start_time": "2024-04-08T17:19:08.851Z"
   },
   {
    "duration": 37,
    "start_time": "2024-04-08T17:19:09.689Z"
   },
   {
    "duration": 90,
    "start_time": "2024-04-08T17:19:09.727Z"
   },
   {
    "duration": 0,
    "start_time": "2024-04-08T17:19:09.819Z"
   },
   {
    "duration": 0,
    "start_time": "2024-04-08T17:19:09.821Z"
   },
   {
    "duration": 0,
    "start_time": "2024-04-08T17:19:09.822Z"
   },
   {
    "duration": 22,
    "start_time": "2024-04-08T17:19:19.287Z"
   },
   {
    "duration": 37,
    "start_time": "2024-04-08T17:20:42.707Z"
   },
   {
    "duration": 26,
    "start_time": "2024-04-08T17:21:26.780Z"
   },
   {
    "duration": 15,
    "start_time": "2024-04-08T17:24:19.818Z"
   },
   {
    "duration": 15,
    "start_time": "2024-04-08T17:31:59.955Z"
   },
   {
    "duration": 132,
    "start_time": "2024-04-08T17:33:42.157Z"
   },
   {
    "duration": 141,
    "start_time": "2024-04-08T17:34:47.664Z"
   },
   {
    "duration": 96,
    "start_time": "2024-04-08T17:34:54.744Z"
   },
   {
    "duration": 94,
    "start_time": "2024-04-08T17:35:02.601Z"
   },
   {
    "duration": 101,
    "start_time": "2024-04-08T17:35:10.464Z"
   },
   {
    "duration": 17,
    "start_time": "2024-04-08T17:35:38.530Z"
   },
   {
    "duration": 16,
    "start_time": "2024-04-08T17:35:50.234Z"
   },
   {
    "duration": 36,
    "start_time": "2024-04-08T17:37:21.805Z"
   },
   {
    "duration": 16,
    "start_time": "2024-04-08T17:39:39.091Z"
   },
   {
    "duration": 16,
    "start_time": "2024-04-08T17:41:41.007Z"
   },
   {
    "duration": 36,
    "start_time": "2024-04-08T17:41:52.440Z"
   },
   {
    "duration": 16,
    "start_time": "2024-04-08T17:44:15.292Z"
   },
   {
    "duration": 15,
    "start_time": "2024-04-08T17:44:16.013Z"
   },
   {
    "duration": 13,
    "start_time": "2024-04-08T17:45:48.881Z"
   },
   {
    "duration": 10,
    "start_time": "2024-04-08T17:46:56.187Z"
   },
   {
    "duration": 5,
    "start_time": "2024-04-08T17:47:12.259Z"
   },
   {
    "duration": 6,
    "start_time": "2024-04-08T17:47:19.154Z"
   },
   {
    "duration": 1390,
    "start_time": "2024-04-08T17:47:58.709Z"
   },
   {
    "duration": 7,
    "start_time": "2024-04-08T17:48:17.693Z"
   },
   {
    "duration": 24,
    "start_time": "2024-04-08T17:49:31.441Z"
   },
   {
    "duration": 6,
    "start_time": "2024-04-08T17:49:58.833Z"
   },
   {
    "duration": 11,
    "start_time": "2024-04-08T17:50:43.219Z"
   },
   {
    "duration": 6,
    "start_time": "2024-04-08T17:51:28.036Z"
   },
   {
    "duration": 6,
    "start_time": "2024-04-08T17:52:35.030Z"
   },
   {
    "duration": 7,
    "start_time": "2024-04-08T17:59:44.455Z"
   },
   {
    "duration": 9,
    "start_time": "2024-04-08T18:04:17.337Z"
   },
   {
    "duration": 7,
    "start_time": "2024-04-08T18:06:13.261Z"
   },
   {
    "duration": 3,
    "start_time": "2024-04-08T18:15:34.593Z"
   },
   {
    "duration": 38,
    "start_time": "2024-04-08T18:15:41.368Z"
   },
   {
    "duration": 29,
    "start_time": "2024-04-08T18:16:22.835Z"
   },
   {
    "duration": 50,
    "start_time": "2024-04-08T18:16:46.444Z"
   },
   {
    "duration": 35,
    "start_time": "2024-04-08T18:17:11.429Z"
   },
   {
    "duration": 35,
    "start_time": "2024-04-08T18:17:13.029Z"
   },
   {
    "duration": 90,
    "start_time": "2024-04-08T18:40:12.408Z"
   },
   {
    "duration": 12,
    "start_time": "2024-04-08T18:40:48.753Z"
   },
   {
    "duration": 7,
    "start_time": "2024-04-08T18:41:37.906Z"
   },
   {
    "duration": 9,
    "start_time": "2024-04-08T18:41:49.226Z"
   },
   {
    "duration": 10,
    "start_time": "2024-04-08T18:41:54.883Z"
   },
   {
    "duration": 8,
    "start_time": "2024-04-08T18:41:55.451Z"
   },
   {
    "duration": 8,
    "start_time": "2024-04-08T18:44:21.337Z"
   },
   {
    "duration": 8,
    "start_time": "2024-04-08T18:44:22.232Z"
   },
   {
    "duration": 15,
    "start_time": "2024-04-08T18:49:49.893Z"
   },
   {
    "duration": 9,
    "start_time": "2024-04-08T18:49:59.125Z"
   },
   {
    "duration": 16,
    "start_time": "2024-04-08T18:52:32.306Z"
   },
   {
    "duration": 32,
    "start_time": "2024-04-08T18:52:42.667Z"
   },
   {
    "duration": 1007,
    "start_time": "2024-04-09T17:59:26.978Z"
   },
   {
    "duration": 31,
    "start_time": "2024-04-09T17:59:27.987Z"
   },
   {
    "duration": 64,
    "start_time": "2024-04-09T17:59:28.020Z"
   },
   {
    "duration": 1,
    "start_time": "2024-04-09T17:59:28.086Z"
   },
   {
    "duration": 0,
    "start_time": "2024-04-09T17:59:28.088Z"
   },
   {
    "duration": 0,
    "start_time": "2024-04-09T17:59:28.089Z"
   },
   {
    "duration": 0,
    "start_time": "2024-04-09T17:59:28.091Z"
   },
   {
    "duration": 0,
    "start_time": "2024-04-09T17:59:28.092Z"
   },
   {
    "duration": 0,
    "start_time": "2024-04-09T17:59:28.093Z"
   },
   {
    "duration": 0,
    "start_time": "2024-04-09T17:59:28.094Z"
   },
   {
    "duration": 0,
    "start_time": "2024-04-09T17:59:28.095Z"
   },
   {
    "duration": 0,
    "start_time": "2024-04-09T17:59:28.097Z"
   },
   {
    "duration": 0,
    "start_time": "2024-04-09T17:59:28.098Z"
   },
   {
    "duration": 0,
    "start_time": "2024-04-09T17:59:28.099Z"
   },
   {
    "duration": 33,
    "start_time": "2024-04-09T17:59:39.979Z"
   },
   {
    "duration": 69,
    "start_time": "2024-04-09T17:59:43.299Z"
   },
   {
    "duration": 67,
    "start_time": "2024-04-09T18:00:17.125Z"
   },
   {
    "duration": 57,
    "start_time": "2024-04-09T18:00:27.558Z"
   },
   {
    "duration": 5,
    "start_time": "2024-04-09T18:06:13.750Z"
   },
   {
    "duration": 69,
    "start_time": "2024-04-09T18:06:14.666Z"
   },
   {
    "duration": 3,
    "start_time": "2024-04-09T18:07:59.654Z"
   },
   {
    "duration": 69,
    "start_time": "2024-04-09T18:08:00.182Z"
   },
   {
    "duration": 66,
    "start_time": "2024-04-09T18:08:15.575Z"
   },
   {
    "duration": 77,
    "start_time": "2024-04-09T18:08:36.767Z"
   },
   {
    "duration": 59,
    "start_time": "2024-04-09T18:08:58.137Z"
   },
   {
    "duration": 64,
    "start_time": "2024-04-09T18:10:34.036Z"
   },
   {
    "duration": 2233,
    "start_time": "2024-04-09T18:11:25.174Z"
   },
   {
    "duration": 2311,
    "start_time": "2024-04-09T18:12:11.800Z"
   },
   {
    "duration": 9,
    "start_time": "2024-04-09T18:13:34.315Z"
   },
   {
    "duration": 4,
    "start_time": "2024-04-09T18:13:38.170Z"
   },
   {
    "duration": 9,
    "start_time": "2024-04-09T18:13:40.715Z"
   },
   {
    "duration": 7,
    "start_time": "2024-04-09T18:13:41.290Z"
   },
   {
    "duration": 17,
    "start_time": "2024-04-09T18:13:43.738Z"
   },
   {
    "duration": 19,
    "start_time": "2024-04-09T18:13:46.547Z"
   },
   {
    "duration": 18,
    "start_time": "2024-04-09T18:13:47.099Z"
   },
   {
    "duration": 9,
    "start_time": "2024-04-09T18:13:51.475Z"
   },
   {
    "duration": 8,
    "start_time": "2024-04-09T18:13:52.859Z"
   },
   {
    "duration": 7,
    "start_time": "2024-04-09T18:13:53.843Z"
   },
   {
    "duration": 21,
    "start_time": "2024-04-09T18:13:54.507Z"
   },
   {
    "duration": 21,
    "start_time": "2024-04-09T18:29:51.176Z"
   },
   {
    "duration": 7,
    "start_time": "2024-04-09T18:33:16.711Z"
   },
   {
    "duration": 7,
    "start_time": "2024-04-09T18:42:24.176Z"
   },
   {
    "duration": 8,
    "start_time": "2024-04-09T18:44:36.612Z"
   },
   {
    "duration": 56,
    "start_time": "2024-04-09T18:47:24.594Z"
   },
   {
    "duration": 7,
    "start_time": "2024-04-09T18:51:42.163Z"
   },
   {
    "duration": 7,
    "start_time": "2024-04-09T18:52:57.230Z"
   },
   {
    "duration": 7,
    "start_time": "2024-04-09T18:59:41.244Z"
   },
   {
    "duration": 4,
    "start_time": "2024-04-09T19:30:27.941Z"
   },
   {
    "duration": 71,
    "start_time": "2024-04-09T19:30:29.243Z"
   },
   {
    "duration": 292,
    "start_time": "2024-04-09T19:31:07.173Z"
   },
   {
    "duration": 6,
    "start_time": "2024-04-09T19:32:04.455Z"
   },
   {
    "duration": 7,
    "start_time": "2024-04-09T19:32:31.504Z"
   },
   {
    "duration": 394,
    "start_time": "2024-04-09T19:32:41.217Z"
   },
   {
    "duration": 271,
    "start_time": "2024-04-09T19:32:54.360Z"
   },
   {
    "duration": 273,
    "start_time": "2024-04-09T19:33:13.882Z"
   },
   {
    "duration": 1119,
    "start_time": "2024-04-10T17:04:55.482Z"
   },
   {
    "duration": 52,
    "start_time": "2024-04-10T17:04:56.604Z"
   },
   {
    "duration": 45,
    "start_time": "2024-04-10T17:04:56.658Z"
   },
   {
    "duration": 2638,
    "start_time": "2024-04-10T17:04:56.706Z"
   },
   {
    "duration": 16,
    "start_time": "2024-04-10T17:04:59.346Z"
   },
   {
    "duration": 477,
    "start_time": "2024-04-10T17:04:59.364Z"
   },
   {
    "duration": 448,
    "start_time": "2024-04-10T17:04:59.843Z"
   },
   {
    "duration": 487,
    "start_time": "2024-04-10T17:05:00.293Z"
   },
   {
    "duration": 1636,
    "start_time": "2024-04-10T17:05:00.782Z"
   },
   {
    "duration": 205,
    "start_time": "2024-04-10T17:05:02.420Z"
   },
   {
    "duration": 164,
    "start_time": "2024-04-10T17:05:02.627Z"
   },
   {
    "duration": 181,
    "start_time": "2024-04-10T17:05:02.793Z"
   },
   {
    "duration": 111,
    "start_time": "2024-04-10T17:05:02.976Z"
   },
   {
    "duration": 0,
    "start_time": "2024-04-10T17:05:03.089Z"
   },
   {
    "duration": 0,
    "start_time": "2024-04-10T17:05:03.090Z"
   },
   {
    "duration": 0,
    "start_time": "2024-04-10T17:05:03.091Z"
   },
   {
    "duration": 0,
    "start_time": "2024-04-10T17:05:03.093Z"
   },
   {
    "duration": 0,
    "start_time": "2024-04-10T17:05:03.094Z"
   },
   {
    "duration": 0,
    "start_time": "2024-04-10T17:05:03.095Z"
   },
   {
    "duration": 1,
    "start_time": "2024-04-10T17:05:03.096Z"
   },
   {
    "duration": 0,
    "start_time": "2024-04-10T17:05:03.097Z"
   },
   {
    "duration": 0,
    "start_time": "2024-04-10T17:05:03.099Z"
   },
   {
    "duration": 12,
    "start_time": "2024-04-10T17:05:22.427Z"
   },
   {
    "duration": 25,
    "start_time": "2024-04-10T17:05:23.459Z"
   },
   {
    "duration": 11,
    "start_time": "2024-04-10T17:05:24.931Z"
   },
   {
    "duration": 8,
    "start_time": "2024-04-10T17:05:25.658Z"
   },
   {
    "duration": 8,
    "start_time": "2024-04-10T17:05:31.412Z"
   },
   {
    "duration": 8,
    "start_time": "2024-04-10T17:05:31.971Z"
   },
   {
    "duration": 4,
    "start_time": "2024-04-10T17:05:32.538Z"
   },
   {
    "duration": 289,
    "start_time": "2024-04-10T17:05:34.451Z"
   },
   {
    "duration": 7,
    "start_time": "2024-04-10T17:05:34.875Z"
   },
   {
    "duration": 94,
    "start_time": "2024-04-10T17:08:34.867Z"
   },
   {
    "duration": 194,
    "start_time": "2024-04-10T17:24:23.576Z"
   },
   {
    "duration": 142,
    "start_time": "2024-04-10T17:25:00.281Z"
   },
   {
    "duration": 154,
    "start_time": "2024-04-10T17:25:12.426Z"
   },
   {
    "duration": 141,
    "start_time": "2024-04-10T17:25:45.586Z"
   },
   {
    "duration": 122,
    "start_time": "2024-04-10T17:25:51.946Z"
   },
   {
    "duration": 141,
    "start_time": "2024-04-10T17:26:12.356Z"
   },
   {
    "duration": 156,
    "start_time": "2024-04-10T17:26:23.724Z"
   },
   {
    "duration": 149,
    "start_time": "2024-04-10T17:27:20.183Z"
   },
   {
    "duration": 139,
    "start_time": "2024-04-10T17:27:34.567Z"
   },
   {
    "duration": 163,
    "start_time": "2024-04-10T17:28:02.922Z"
   },
   {
    "duration": 135,
    "start_time": "2024-04-10T17:28:41.667Z"
   },
   {
    "duration": 154,
    "start_time": "2024-04-10T17:28:55.282Z"
   },
   {
    "duration": 246,
    "start_time": "2024-04-10T17:31:45.017Z"
   },
   {
    "duration": 141,
    "start_time": "2024-04-10T17:32:38.556Z"
   },
   {
    "duration": 138,
    "start_time": "2024-04-10T17:32:50.507Z"
   },
   {
    "duration": 149,
    "start_time": "2024-04-10T17:32:56.716Z"
   },
   {
    "duration": 152,
    "start_time": "2024-04-10T17:33:10.060Z"
   },
   {
    "duration": 143,
    "start_time": "2024-04-10T17:34:12.119Z"
   },
   {
    "duration": 143,
    "start_time": "2024-04-10T17:35:16.529Z"
   },
   {
    "duration": 142,
    "start_time": "2024-04-10T17:35:30.849Z"
   },
   {
    "duration": 165,
    "start_time": "2024-04-10T17:35:49.833Z"
   },
   {
    "duration": 142,
    "start_time": "2024-04-10T17:36:01.795Z"
   },
   {
    "duration": 165,
    "start_time": "2024-04-10T17:42:31.634Z"
   },
   {
    "duration": 118,
    "start_time": "2024-04-10T17:43:33.204Z"
   },
   {
    "duration": 118,
    "start_time": "2024-04-10T17:44:05.541Z"
   },
   {
    "duration": 136,
    "start_time": "2024-04-10T17:44:25.742Z"
   },
   {
    "duration": 167,
    "start_time": "2024-04-10T17:45:31.296Z"
   },
   {
    "duration": 274,
    "start_time": "2024-04-10T17:46:10.618Z"
   },
   {
    "duration": 138,
    "start_time": "2024-04-10T17:47:00.572Z"
   },
   {
    "duration": 158,
    "start_time": "2024-04-10T17:47:20.253Z"
   },
   {
    "duration": 190,
    "start_time": "2024-04-10T17:47:43.356Z"
   },
   {
    "duration": 172,
    "start_time": "2024-04-10T17:48:51.447Z"
   },
   {
    "duration": 155,
    "start_time": "2024-04-10T18:11:41.618Z"
   },
   {
    "duration": 163,
    "start_time": "2024-04-10T18:11:51.770Z"
   },
   {
    "duration": 134,
    "start_time": "2024-04-10T18:12:02.098Z"
   },
   {
    "duration": 5,
    "start_time": "2024-04-10T18:12:41.308Z"
   },
   {
    "duration": 7,
    "start_time": "2024-04-10T18:12:48.387Z"
   },
   {
    "duration": 6,
    "start_time": "2024-04-10T18:18:16.200Z"
   },
   {
    "duration": 7,
    "start_time": "2024-04-10T18:18:28.009Z"
   },
   {
    "duration": 9,
    "start_time": "2024-04-10T18:31:21.110Z"
   },
   {
    "duration": 9,
    "start_time": "2024-04-10T18:32:40.887Z"
   },
   {
    "duration": 9,
    "start_time": "2024-04-10T18:32:56.888Z"
   },
   {
    "duration": 8,
    "start_time": "2024-04-10T18:34:08.756Z"
   },
   {
    "duration": 76,
    "start_time": "2024-04-10T18:34:39.628Z"
   },
   {
    "duration": 11,
    "start_time": "2024-04-10T18:35:02.541Z"
   },
   {
    "duration": 13,
    "start_time": "2024-04-10T18:38:48.814Z"
   },
   {
    "duration": 11,
    "start_time": "2024-04-10T18:41:13.699Z"
   },
   {
    "duration": 1153,
    "start_time": "2024-04-11T18:23:33.874Z"
   },
   {
    "duration": 36,
    "start_time": "2024-04-11T18:23:35.028Z"
   },
   {
    "duration": 17,
    "start_time": "2024-04-11T18:23:35.066Z"
   },
   {
    "duration": 2384,
    "start_time": "2024-04-11T18:23:35.085Z"
   },
   {
    "duration": 15,
    "start_time": "2024-04-11T18:23:37.471Z"
   },
   {
    "duration": 16,
    "start_time": "2024-04-11T18:23:37.488Z"
   },
   {
    "duration": 25,
    "start_time": "2024-04-11T18:23:37.505Z"
   },
   {
    "duration": 13,
    "start_time": "2024-04-11T18:23:37.532Z"
   },
   {
    "duration": 28,
    "start_time": "2024-04-11T18:23:37.548Z"
   },
   {
    "duration": 23,
    "start_time": "2024-04-11T18:23:37.578Z"
   },
   {
    "duration": 22,
    "start_time": "2024-04-11T18:23:37.602Z"
   },
   {
    "duration": 9,
    "start_time": "2024-04-11T18:23:37.625Z"
   },
   {
    "duration": 85,
    "start_time": "2024-04-11T18:23:37.635Z"
   },
   {
    "duration": 0,
    "start_time": "2024-04-11T18:23:37.722Z"
   },
   {
    "duration": 0,
    "start_time": "2024-04-11T18:23:37.724Z"
   },
   {
    "duration": 0,
    "start_time": "2024-04-11T18:23:37.725Z"
   },
   {
    "duration": 0,
    "start_time": "2024-04-11T18:23:37.727Z"
   },
   {
    "duration": 0,
    "start_time": "2024-04-11T18:23:37.728Z"
   },
   {
    "duration": 0,
    "start_time": "2024-04-11T18:23:37.730Z"
   },
   {
    "duration": 0,
    "start_time": "2024-04-11T18:23:37.732Z"
   },
   {
    "duration": 0,
    "start_time": "2024-04-11T18:23:37.733Z"
   },
   {
    "duration": 0,
    "start_time": "2024-04-11T18:23:37.735Z"
   },
   {
    "duration": 0,
    "start_time": "2024-04-11T18:23:37.736Z"
   },
   {
    "duration": 0,
    "start_time": "2024-04-11T18:23:37.738Z"
   },
   {
    "duration": 0,
    "start_time": "2024-04-11T18:23:37.739Z"
   },
   {
    "duration": 0,
    "start_time": "2024-04-11T18:23:37.741Z"
   },
   {
    "duration": 0,
    "start_time": "2024-04-11T18:23:37.742Z"
   },
   {
    "duration": 0,
    "start_time": "2024-04-11T18:23:37.744Z"
   },
   {
    "duration": 0,
    "start_time": "2024-04-11T18:23:37.745Z"
   },
   {
    "duration": 0,
    "start_time": "2024-04-11T18:23:37.747Z"
   },
   {
    "duration": 0,
    "start_time": "2024-04-11T18:23:37.748Z"
   },
   {
    "duration": 0,
    "start_time": "2024-04-11T18:23:37.750Z"
   },
   {
    "duration": 0,
    "start_time": "2024-04-11T18:23:37.751Z"
   },
   {
    "duration": 0,
    "start_time": "2024-04-11T18:23:37.753Z"
   },
   {
    "duration": 0,
    "start_time": "2024-04-11T18:23:37.754Z"
   },
   {
    "duration": 0,
    "start_time": "2024-04-11T18:23:37.756Z"
   },
   {
    "duration": 81,
    "start_time": "2024-04-11T18:23:47.236Z"
   },
   {
    "duration": 166,
    "start_time": "2024-04-11T18:23:48.060Z"
   },
   {
    "duration": 148,
    "start_time": "2024-04-11T18:23:48.684Z"
   },
   {
    "duration": 160,
    "start_time": "2024-04-11T18:23:49.403Z"
   },
   {
    "duration": 262,
    "start_time": "2024-04-11T18:23:50.020Z"
   },
   {
    "duration": 142,
    "start_time": "2024-04-11T18:23:50.724Z"
   },
   {
    "duration": 134,
    "start_time": "2024-04-11T18:23:51.380Z"
   },
   {
    "duration": 6,
    "start_time": "2024-04-11T18:23:52.052Z"
   },
   {
    "duration": 10,
    "start_time": "2024-04-11T18:23:52.740Z"
   },
   {
    "duration": 74,
    "start_time": "2024-04-11T18:23:53.484Z"
   },
   {
    "duration": 1390,
    "start_time": "2024-04-11T18:23:54.300Z"
   },
   {
    "duration": 0,
    "start_time": "2024-04-11T18:23:55.692Z"
   },
   {
    "duration": 9,
    "start_time": "2024-04-11T18:24:01.820Z"
   },
   {
    "duration": 1391,
    "start_time": "2024-04-11T18:24:02.500Z"
   },
   {
    "duration": 0,
    "start_time": "2024-04-11T18:24:03.892Z"
   },
   {
    "duration": 162,
    "start_time": "2024-04-11T18:24:04.876Z"
   },
   {
    "duration": 183,
    "start_time": "2024-04-11T18:24:09.244Z"
   },
   {
    "duration": 1427,
    "start_time": "2024-04-11T18:24:14.645Z"
   },
   {
    "duration": 90,
    "start_time": "2024-04-11T18:24:27.285Z"
   },
   {
    "duration": 109,
    "start_time": "2024-04-11T18:24:37.605Z"
   },
   {
    "duration": 29,
    "start_time": "2024-04-11T18:24:38.430Z"
   },
   {
    "duration": 2,
    "start_time": "2024-04-11T18:24:39.333Z"
   },
   {
    "duration": 2346,
    "start_time": "2024-04-11T18:24:40.071Z"
   },
   {
    "duration": 9,
    "start_time": "2024-04-11T18:24:42.542Z"
   },
   {
    "duration": 4,
    "start_time": "2024-04-11T18:24:43.581Z"
   },
   {
    "duration": 8,
    "start_time": "2024-04-11T18:24:46.309Z"
   },
   {
    "duration": 7,
    "start_time": "2024-04-11T18:24:47.269Z"
   },
   {
    "duration": 16,
    "start_time": "2024-04-11T18:24:47.990Z"
   },
   {
    "duration": 20,
    "start_time": "2024-04-11T18:24:49.910Z"
   },
   {
    "duration": 21,
    "start_time": "2024-04-11T18:24:50.613Z"
   },
   {
    "duration": 7,
    "start_time": "2024-04-11T18:24:51.358Z"
   },
   {
    "duration": 82,
    "start_time": "2024-04-11T18:24:52.126Z"
   },
   {
    "duration": 7,
    "start_time": "2024-04-11T18:24:52.902Z"
   },
   {
    "duration": 23,
    "start_time": "2024-04-11T18:25:04.559Z"
   },
   {
    "duration": 7,
    "start_time": "2024-04-11T18:25:05.798Z"
   },
   {
    "duration": 10,
    "start_time": "2024-04-11T18:25:06.358Z"
   },
   {
    "duration": 8,
    "start_time": "2024-04-11T18:25:07.550Z"
   },
   {
    "duration": 8,
    "start_time": "2024-04-11T18:25:08.182Z"
   },
   {
    "duration": 4,
    "start_time": "2024-04-11T18:25:08.782Z"
   },
   {
    "duration": 416,
    "start_time": "2024-04-11T18:25:09.367Z"
   },
   {
    "duration": 7,
    "start_time": "2024-04-11T18:25:10.102Z"
   },
   {
    "duration": 93,
    "start_time": "2024-04-11T18:25:11.550Z"
   },
   {
    "duration": 144,
    "start_time": "2024-04-11T18:25:12.462Z"
   },
   {
    "duration": 140,
    "start_time": "2024-04-11T18:25:13.255Z"
   },
   {
    "duration": 147,
    "start_time": "2024-04-11T18:25:13.910Z"
   },
   {
    "duration": 173,
    "start_time": "2024-04-11T18:25:14.719Z"
   },
   {
    "duration": 143,
    "start_time": "2024-04-11T18:25:15.550Z"
   },
   {
    "duration": 130,
    "start_time": "2024-04-11T18:25:16.287Z"
   },
   {
    "duration": 6,
    "start_time": "2024-04-11T18:25:16.974Z"
   },
   {
    "duration": 10,
    "start_time": "2024-04-11T18:25:17.888Z"
   },
   {
    "duration": 8,
    "start_time": "2024-04-11T18:25:18.591Z"
   },
   {
    "duration": 107,
    "start_time": "2024-04-11T18:25:19.631Z"
   },
   {
    "duration": 167,
    "start_time": "2024-04-11T18:25:21.736Z"
   },
   {
    "duration": 154,
    "start_time": "2024-04-11T18:25:22.534Z"
   },
   {
    "duration": 158,
    "start_time": "2024-04-11T18:25:23.544Z"
   },
   {
    "duration": 83,
    "start_time": "2024-04-11T18:31:13.429Z"
   },
   {
    "duration": 7,
    "start_time": "2024-04-11T18:32:13.838Z"
   },
   {
    "duration": 10,
    "start_time": "2024-04-11T18:32:45.311Z"
   },
   {
    "duration": 11,
    "start_time": "2024-04-11T18:33:58.266Z"
   },
   {
    "duration": 5,
    "start_time": "2024-04-11T18:36:47.040Z"
   },
   {
    "duration": 6,
    "start_time": "2024-04-11T18:36:58.120Z"
   },
   {
    "duration": 5,
    "start_time": "2024-04-11T18:37:15.618Z"
   },
   {
    "duration": 7,
    "start_time": "2024-04-11T18:37:34.555Z"
   },
   {
    "duration": 178,
    "start_time": "2024-04-11T18:41:56.413Z"
   },
   {
    "duration": 12,
    "start_time": "2024-04-11T18:42:35.279Z"
   },
   {
    "duration": 10,
    "start_time": "2024-04-11T18:44:58.380Z"
   },
   {
    "duration": 10,
    "start_time": "2024-04-11T18:45:32.037Z"
   },
   {
    "duration": 7,
    "start_time": "2024-04-11T18:45:41.741Z"
   },
   {
    "duration": 138,
    "start_time": "2024-04-11T18:47:48.803Z"
   },
   {
    "duration": 11,
    "start_time": "2024-04-11T18:48:31.964Z"
   },
   {
    "duration": 8,
    "start_time": "2024-04-11T18:50:49.033Z"
   },
   {
    "duration": 9,
    "start_time": "2024-04-11T18:55:52.093Z"
   },
   {
    "duration": 10,
    "start_time": "2024-04-11T19:00:11.112Z"
   },
   {
    "duration": 7,
    "start_time": "2024-04-11T19:00:33.560Z"
   },
   {
    "duration": 8,
    "start_time": "2024-04-11T19:00:56.992Z"
   },
   {
    "duration": 8,
    "start_time": "2024-04-11T19:01:55.411Z"
   },
   {
    "duration": 168,
    "start_time": "2024-04-11T19:02:58.317Z"
   },
   {
    "duration": 4,
    "start_time": "2024-04-11T19:14:31.654Z"
   },
   {
    "duration": 5,
    "start_time": "2024-04-11T19:14:44.102Z"
   },
   {
    "duration": 27,
    "start_time": "2024-04-11T19:15:43.896Z"
   },
   {
    "duration": 6,
    "start_time": "2024-04-11T19:15:58.479Z"
   },
   {
    "duration": 143,
    "start_time": "2024-04-11T19:17:44.621Z"
   },
   {
    "duration": 145,
    "start_time": "2024-04-11T19:18:03.357Z"
   },
   {
    "duration": 153,
    "start_time": "2024-04-11T19:18:46.598Z"
   },
   {
    "duration": 132,
    "start_time": "2024-04-11T19:19:02.791Z"
   },
   {
    "duration": 140,
    "start_time": "2024-04-11T19:19:08.399Z"
   },
   {
    "duration": 4,
    "start_time": "2024-04-11T19:25:34.805Z"
   },
   {
    "duration": 6,
    "start_time": "2024-04-11T19:25:54.342Z"
   },
   {
    "duration": 7,
    "start_time": "2024-04-11T19:26:25.078Z"
   },
   {
    "duration": 6,
    "start_time": "2024-04-11T19:26:46.071Z"
   },
   {
    "duration": 159,
    "start_time": "2024-04-11T19:29:07.868Z"
   },
   {
    "duration": 161,
    "start_time": "2024-04-11T19:29:56.662Z"
   },
   {
    "duration": 9,
    "start_time": "2024-04-11T19:55:05.103Z"
   },
   {
    "duration": 1118,
    "start_time": "2024-04-12T13:15:25.089Z"
   },
   {
    "duration": 46,
    "start_time": "2024-04-12T13:15:26.209Z"
   },
   {
    "duration": 2,
    "start_time": "2024-04-12T13:15:26.260Z"
   },
   {
    "duration": 2496,
    "start_time": "2024-04-12T13:15:26.264Z"
   },
   {
    "duration": 10,
    "start_time": "2024-04-12T13:15:28.762Z"
   },
   {
    "duration": 3,
    "start_time": "2024-04-12T13:15:28.774Z"
   },
   {
    "duration": 9,
    "start_time": "2024-04-12T13:15:28.779Z"
   },
   {
    "duration": 13,
    "start_time": "2024-04-12T13:15:28.790Z"
   },
   {
    "duration": 19,
    "start_time": "2024-04-12T13:15:28.805Z"
   },
   {
    "duration": 44,
    "start_time": "2024-04-12T13:15:28.825Z"
   },
   {
    "duration": 20,
    "start_time": "2024-04-12T13:15:28.870Z"
   },
   {
    "duration": 24,
    "start_time": "2024-04-12T13:15:28.892Z"
   },
   {
    "duration": 88,
    "start_time": "2024-04-12T13:15:28.917Z"
   },
   {
    "duration": 0,
    "start_time": "2024-04-12T13:15:29.007Z"
   },
   {
    "duration": 0,
    "start_time": "2024-04-12T13:15:29.009Z"
   },
   {
    "duration": 0,
    "start_time": "2024-04-12T13:15:29.010Z"
   },
   {
    "duration": 0,
    "start_time": "2024-04-12T13:15:29.011Z"
   },
   {
    "duration": 0,
    "start_time": "2024-04-12T13:15:29.012Z"
   },
   {
    "duration": 0,
    "start_time": "2024-04-12T13:15:29.013Z"
   },
   {
    "duration": 0,
    "start_time": "2024-04-12T13:15:29.014Z"
   },
   {
    "duration": 0,
    "start_time": "2024-04-12T13:15:29.015Z"
   },
   {
    "duration": 0,
    "start_time": "2024-04-12T13:15:29.016Z"
   },
   {
    "duration": 0,
    "start_time": "2024-04-12T13:15:29.017Z"
   },
   {
    "duration": 0,
    "start_time": "2024-04-12T13:15:29.018Z"
   },
   {
    "duration": 0,
    "start_time": "2024-04-12T13:15:29.019Z"
   },
   {
    "duration": 0,
    "start_time": "2024-04-12T13:15:29.020Z"
   },
   {
    "duration": 0,
    "start_time": "2024-04-12T13:15:29.021Z"
   },
   {
    "duration": 0,
    "start_time": "2024-04-12T13:15:29.022Z"
   },
   {
    "duration": 0,
    "start_time": "2024-04-12T13:15:29.023Z"
   },
   {
    "duration": 0,
    "start_time": "2024-04-12T13:15:29.024Z"
   },
   {
    "duration": 0,
    "start_time": "2024-04-12T13:15:29.025Z"
   },
   {
    "duration": 0,
    "start_time": "2024-04-12T13:15:29.026Z"
   },
   {
    "duration": 0,
    "start_time": "2024-04-12T13:15:29.027Z"
   },
   {
    "duration": 0,
    "start_time": "2024-04-12T13:15:29.028Z"
   },
   {
    "duration": 0,
    "start_time": "2024-04-12T13:15:29.029Z"
   },
   {
    "duration": 0,
    "start_time": "2024-04-12T13:15:29.030Z"
   },
   {
    "duration": 0,
    "start_time": "2024-04-12T13:15:29.030Z"
   },
   {
    "duration": 0,
    "start_time": "2024-04-12T13:15:29.031Z"
   },
   {
    "duration": 0,
    "start_time": "2024-04-12T13:15:29.032Z"
   },
   {
    "duration": 0,
    "start_time": "2024-04-12T13:15:29.033Z"
   },
   {
    "duration": 0,
    "start_time": "2024-04-12T13:15:29.035Z"
   },
   {
    "duration": 1,
    "start_time": "2024-04-12T13:15:29.035Z"
   },
   {
    "duration": 0,
    "start_time": "2024-04-12T13:15:29.036Z"
   },
   {
    "duration": 0,
    "start_time": "2024-04-12T13:15:29.037Z"
   },
   {
    "duration": 0,
    "start_time": "2024-04-12T13:15:29.038Z"
   },
   {
    "duration": 113,
    "start_time": "2024-04-12T13:15:55.191Z"
   },
   {
    "duration": 30,
    "start_time": "2024-04-12T13:15:56.111Z"
   },
   {
    "duration": 2,
    "start_time": "2024-04-12T13:15:57.192Z"
   },
   {
    "duration": 2274,
    "start_time": "2024-04-12T13:15:59.288Z"
   },
   {
    "duration": 12,
    "start_time": "2024-04-12T13:16:01.564Z"
   },
   {
    "duration": 188,
    "start_time": "2024-04-12T13:16:01.578Z"
   },
   {
    "duration": 9,
    "start_time": "2024-04-12T13:16:02.575Z"
   },
   {
    "duration": 7,
    "start_time": "2024-04-12T13:16:03.096Z"
   },
   {
    "duration": 16,
    "start_time": "2024-04-12T13:16:03.776Z"
   },
   {
    "duration": 20,
    "start_time": "2024-04-12T13:16:05.024Z"
   },
   {
    "duration": 22,
    "start_time": "2024-04-12T13:16:05.631Z"
   },
   {
    "duration": 8,
    "start_time": "2024-04-12T13:16:06.208Z"
   },
   {
    "duration": 88,
    "start_time": "2024-04-12T13:16:06.777Z"
   },
   {
    "duration": 7,
    "start_time": "2024-04-12T13:16:07.336Z"
   },
   {
    "duration": 21,
    "start_time": "2024-04-12T13:16:07.984Z"
   },
   {
    "duration": 9,
    "start_time": "2024-04-12T13:16:09.176Z"
   },
   {
    "duration": 9,
    "start_time": "2024-04-12T13:16:09.743Z"
   },
   {
    "duration": 9,
    "start_time": "2024-04-12T13:16:10.879Z"
   },
   {
    "duration": 11,
    "start_time": "2024-04-12T13:16:11.440Z"
   },
   {
    "duration": 4,
    "start_time": "2024-04-12T13:16:12.015Z"
   },
   {
    "duration": 419,
    "start_time": "2024-04-12T13:16:12.760Z"
   },
   {
    "duration": 7,
    "start_time": "2024-04-12T13:16:13.504Z"
   },
   {
    "duration": 90,
    "start_time": "2024-04-12T13:16:15.024Z"
   },
   {
    "duration": 144,
    "start_time": "2024-04-12T13:16:15.744Z"
   },
   {
    "duration": 9,
    "start_time": "2024-04-12T13:16:16.568Z"
   },
   {
    "duration": 141,
    "start_time": "2024-04-12T13:16:17.304Z"
   },
   {
    "duration": 7,
    "start_time": "2024-04-12T13:16:18.936Z"
   },
   {
    "duration": 160,
    "start_time": "2024-04-12T13:16:20.336Z"
   },
   {
    "duration": 8,
    "start_time": "2024-04-12T13:16:21.664Z"
   },
   {
    "duration": 160,
    "start_time": "2024-04-12T13:16:22.344Z"
   },
   {
    "duration": 178,
    "start_time": "2024-04-12T13:16:22.847Z"
   },
   {
    "duration": 143,
    "start_time": "2024-04-12T13:16:23.521Z"
   },
   {
    "duration": 6,
    "start_time": "2024-04-12T13:16:24.088Z"
   },
   {
    "duration": 144,
    "start_time": "2024-04-12T13:16:24.744Z"
   },
   {
    "duration": 128,
    "start_time": "2024-04-12T13:16:25.288Z"
   },
   {
    "duration": 6,
    "start_time": "2024-04-12T13:16:25.928Z"
   },
   {
    "duration": 11,
    "start_time": "2024-04-12T13:16:26.449Z"
   },
   {
    "duration": 11,
    "start_time": "2024-04-12T13:16:27.193Z"
   },
   {
    "duration": 116,
    "start_time": "2024-04-12T13:16:27.728Z"
   },
   {
    "duration": 164,
    "start_time": "2024-04-12T13:16:28.337Z"
   },
   {
    "duration": 6,
    "start_time": "2024-04-12T13:16:28.873Z"
   },
   {
    "duration": 7,
    "start_time": "2024-04-12T13:16:29.472Z"
   },
   {
    "duration": 159,
    "start_time": "2024-04-12T13:16:30.810Z"
   },
   {
    "duration": 158,
    "start_time": "2024-04-12T13:16:31.449Z"
   },
   {
    "duration": 163,
    "start_time": "2024-04-12T13:16:32.161Z"
   },
   {
    "duration": 90,
    "start_time": "2024-04-12T13:20:02.232Z"
   },
   {
    "duration": 92,
    "start_time": "2024-04-12T13:20:21.273Z"
   },
   {
    "duration": 93,
    "start_time": "2024-04-12T13:20:36.716Z"
   },
   {
    "duration": 83,
    "start_time": "2024-04-12T13:20:50.083Z"
   },
   {
    "duration": 86,
    "start_time": "2024-04-12T13:21:23.276Z"
   },
   {
    "duration": 80,
    "start_time": "2024-04-12T13:21:38.588Z"
   },
   {
    "duration": 106,
    "start_time": "2024-04-12T13:21:47.540Z"
   },
   {
    "duration": 5,
    "start_time": "2024-04-12T13:33:16.420Z"
   },
   {
    "duration": 81,
    "start_time": "2024-04-12T13:37:44.117Z"
   },
   {
    "duration": 11,
    "start_time": "2024-04-12T13:38:05.390Z"
   },
   {
    "duration": 145,
    "start_time": "2024-04-12T13:40:01.491Z"
   },
   {
    "duration": 152,
    "start_time": "2024-04-12T13:43:19.674Z"
   },
   {
    "duration": 5,
    "start_time": "2024-04-12T13:45:30.350Z"
   },
   {
    "duration": 5,
    "start_time": "2024-04-12T13:45:42.607Z"
   },
   {
    "duration": 10,
    "start_time": "2024-04-12T13:46:32.529Z"
   },
   {
    "duration": 11,
    "start_time": "2024-04-12T13:47:16.146Z"
   },
   {
    "duration": 6,
    "start_time": "2024-04-12T13:48:41.597Z"
   },
   {
    "duration": 10,
    "start_time": "2024-04-12T13:57:05.624Z"
   },
   {
    "duration": 132,
    "start_time": "2024-04-12T13:58:40.955Z"
   },
   {
    "duration": 267,
    "start_time": "2024-04-12T14:23:41.899Z"
   },
   {
    "duration": 140,
    "start_time": "2024-04-12T14:23:57.499Z"
   },
   {
    "duration": 145,
    "start_time": "2024-04-12T14:24:08.876Z"
   },
   {
    "duration": 9,
    "start_time": "2024-04-12T14:29:28.240Z"
   },
   {
    "duration": 8,
    "start_time": "2024-04-12T14:29:44.576Z"
   },
   {
    "duration": 12,
    "start_time": "2024-04-12T14:30:52.411Z"
   },
   {
    "duration": 101,
    "start_time": "2024-04-12T14:36:16.957Z"
   },
   {
    "duration": 211,
    "start_time": "2024-04-12T15:05:50.795Z"
   },
   {
    "duration": 151,
    "start_time": "2024-04-12T15:09:22.618Z"
   },
   {
    "duration": 181,
    "start_time": "2024-04-12T15:10:48.845Z"
   },
   {
    "duration": 135,
    "start_time": "2024-04-12T15:11:14.094Z"
   },
   {
    "duration": 202,
    "start_time": "2024-04-12T15:12:12.474Z"
   },
   {
    "duration": 13,
    "start_time": "2024-04-12T15:12:40.658Z"
   },
   {
    "duration": 201,
    "start_time": "2024-04-12T15:12:52.386Z"
   },
   {
    "duration": 191,
    "start_time": "2024-04-12T15:15:05.719Z"
   },
   {
    "duration": 196,
    "start_time": "2024-04-12T15:16:15.834Z"
   },
   {
    "duration": 139,
    "start_time": "2024-04-12T15:21:45.310Z"
   },
   {
    "duration": 152,
    "start_time": "2024-04-12T15:23:14.489Z"
   },
   {
    "duration": 160,
    "start_time": "2024-04-12T15:23:24.545Z"
   },
   {
    "duration": 154,
    "start_time": "2024-04-12T15:24:46.932Z"
   },
   {
    "duration": 188,
    "start_time": "2024-04-12T15:29:09.820Z"
   },
   {
    "duration": 24,
    "start_time": "2024-04-12T15:31:45.739Z"
   },
   {
    "duration": 1596,
    "start_time": "2024-04-12T15:32:55.758Z"
   },
   {
    "duration": 181,
    "start_time": "2024-04-12T15:33:12.775Z"
   },
   {
    "duration": 5,
    "start_time": "2024-04-12T15:36:47.605Z"
   },
   {
    "duration": 169,
    "start_time": "2024-04-12T16:11:06.829Z"
   },
   {
    "duration": 182,
    "start_time": "2024-04-12T16:12:50.017Z"
   },
   {
    "duration": 175,
    "start_time": "2024-04-12T16:13:11.914Z"
   },
   {
    "duration": 5,
    "start_time": "2024-04-12T16:14:03.755Z"
   },
   {
    "duration": 199,
    "start_time": "2024-04-12T16:22:54.325Z"
   },
   {
    "duration": 5,
    "start_time": "2024-04-12T16:23:23.407Z"
   },
   {
    "duration": 158,
    "start_time": "2024-04-12T16:30:53.646Z"
   },
   {
    "duration": 6,
    "start_time": "2024-04-12T16:32:23.090Z"
   },
   {
    "duration": 88,
    "start_time": "2024-04-12T16:34:34.462Z"
   },
   {
    "duration": 4,
    "start_time": "2024-04-12T16:34:49.583Z"
   },
   {
    "duration": 8,
    "start_time": "2024-04-12T16:38:38.240Z"
   },
   {
    "duration": 9,
    "start_time": "2024-04-12T16:38:41.127Z"
   },
   {
    "duration": 7,
    "start_time": "2024-04-12T16:38:52.312Z"
   },
   {
    "duration": 7,
    "start_time": "2024-04-12T16:38:52.808Z"
   },
   {
    "duration": 21,
    "start_time": "2024-04-12T16:38:53.296Z"
   },
   {
    "duration": 7,
    "start_time": "2024-04-12T16:39:03.920Z"
   },
   {
    "duration": 8,
    "start_time": "2024-04-12T16:39:04.512Z"
   },
   {
    "duration": 7,
    "start_time": "2024-04-12T16:39:05.097Z"
   },
   {
    "duration": 21,
    "start_time": "2024-04-12T16:39:05.729Z"
   },
   {
    "duration": 19,
    "start_time": "2024-04-12T16:39:08.616Z"
   },
   {
    "duration": 7,
    "start_time": "2024-04-12T16:39:09.353Z"
   },
   {
    "duration": 146,
    "start_time": "2024-04-12T16:40:04.603Z"
   },
   {
    "duration": 422,
    "start_time": "2024-04-12T16:41:27.438Z"
   },
   {
    "duration": 12,
    "start_time": "2024-04-12T17:07:04.936Z"
   },
   {
    "duration": 123,
    "start_time": "2024-04-12T17:12:35.652Z"
   },
   {
    "duration": 268,
    "start_time": "2024-04-12T17:12:46.445Z"
   },
   {
    "duration": 549,
    "start_time": "2024-04-12T17:16:45.286Z"
   },
   {
    "duration": 6,
    "start_time": "2024-04-12T17:17:49.655Z"
   },
   {
    "duration": 5,
    "start_time": "2024-04-12T17:17:50.271Z"
   },
   {
    "duration": 4,
    "start_time": "2024-04-12T17:17:51.008Z"
   },
   {
    "duration": 7,
    "start_time": "2024-04-12T17:32:44.227Z"
   },
   {
    "duration": 10,
    "start_time": "2024-04-12T17:32:54.962Z"
   },
   {
    "duration": 9,
    "start_time": "2024-04-12T17:33:43.484Z"
   },
   {
    "duration": 10,
    "start_time": "2024-04-12T17:34:16.005Z"
   },
   {
    "duration": 9,
    "start_time": "2024-04-12T17:34:28.534Z"
   },
   {
    "duration": 100,
    "start_time": "2024-04-12T17:44:28.461Z"
   },
   {
    "duration": 93,
    "start_time": "2024-04-12T17:44:43.022Z"
   },
   {
    "duration": 19,
    "start_time": "2024-04-12T17:45:40.455Z"
   },
   {
    "duration": 10,
    "start_time": "2024-04-12T17:45:58.056Z"
   },
   {
    "duration": 12,
    "start_time": "2024-04-12T17:48:52.358Z"
   },
   {
    "duration": 9,
    "start_time": "2024-04-12T17:49:22.240Z"
   },
   {
    "duration": 12,
    "start_time": "2024-04-12T17:51:53.325Z"
   },
   {
    "duration": 11,
    "start_time": "2024-04-12T17:55:33.574Z"
   },
   {
    "duration": 12,
    "start_time": "2024-04-12T17:56:31.248Z"
   },
   {
    "duration": 12,
    "start_time": "2024-04-12T18:06:10.780Z"
   },
   {
    "duration": 13,
    "start_time": "2024-04-12T18:12:28.290Z"
   },
   {
    "duration": 13,
    "start_time": "2024-04-12T18:23:17.036Z"
   },
   {
    "duration": 11,
    "start_time": "2024-04-12T18:25:48.018Z"
   },
   {
    "duration": 123,
    "start_time": "2024-04-12T18:27:49.589Z"
   },
   {
    "duration": 2179,
    "start_time": "2024-04-12T19:25:46.044Z"
   },
   {
    "duration": 826,
    "start_time": "2024-04-13T08:03:10.692Z"
   },
   {
    "duration": 245,
    "start_time": "2024-04-13T08:03:11.535Z"
   },
   {
    "duration": 100,
    "start_time": "2024-04-13T08:03:44.959Z"
   },
   {
    "duration": 72,
    "start_time": "2024-04-13T08:04:02.213Z"
   },
   {
    "duration": 55,
    "start_time": "2024-04-13T08:05:04.148Z"
   },
   {
    "duration": 63,
    "start_time": "2024-04-13T08:05:57.678Z"
   },
   {
    "duration": 72,
    "start_time": "2024-04-13T08:06:10.742Z"
   },
   {
    "duration": 59,
    "start_time": "2024-04-13T08:06:45.127Z"
   },
   {
    "duration": 66,
    "start_time": "2024-04-13T08:07:40.810Z"
   },
   {
    "duration": 62,
    "start_time": "2024-04-13T08:09:05.427Z"
   },
   {
    "duration": 83,
    "start_time": "2024-04-13T08:09:22.628Z"
   },
   {
    "duration": 59,
    "start_time": "2024-04-13T08:09:28.028Z"
   },
   {
    "duration": 60,
    "start_time": "2024-04-13T08:09:28.565Z"
   },
   {
    "duration": 54,
    "start_time": "2024-04-13T08:09:44.293Z"
   },
   {
    "duration": 60,
    "start_time": "2024-04-13T08:11:16.248Z"
   },
   {
    "duration": 59,
    "start_time": "2024-04-13T08:11:16.992Z"
   },
   {
    "duration": 76,
    "start_time": "2024-04-13T08:12:11.035Z"
   },
   {
    "duration": 64,
    "start_time": "2024-04-13T08:12:19.821Z"
   },
   {
    "duration": 65,
    "start_time": "2024-04-13T08:15:33.939Z"
   },
   {
    "duration": 2361,
    "start_time": "2024-04-13T08:20:16.094Z"
   },
   {
    "duration": 63,
    "start_time": "2024-04-13T16:56:31.142Z"
   },
   {
    "duration": 5,
    "start_time": "2024-04-13T16:56:40.044Z"
   },
   {
    "duration": 804,
    "start_time": "2024-04-13T16:56:51.446Z"
   },
   {
    "duration": 295,
    "start_time": "2024-04-13T16:56:52.252Z"
   },
   {
    "duration": 31,
    "start_time": "2024-04-13T16:56:52.548Z"
   },
   {
    "duration": 2,
    "start_time": "2024-04-13T16:56:52.580Z"
   },
   {
    "duration": 2123,
    "start_time": "2024-04-13T16:56:52.584Z"
   },
   {
    "duration": 11,
    "start_time": "2024-04-13T16:56:54.709Z"
   },
   {
    "duration": 8,
    "start_time": "2024-04-13T16:56:54.721Z"
   },
   {
    "duration": 9,
    "start_time": "2024-04-13T16:56:54.730Z"
   },
   {
    "duration": 6,
    "start_time": "2024-04-13T16:56:54.740Z"
   },
   {
    "duration": 22,
    "start_time": "2024-04-13T16:56:54.748Z"
   },
   {
    "duration": 29,
    "start_time": "2024-04-13T16:56:54.771Z"
   },
   {
    "duration": 30,
    "start_time": "2024-04-13T16:56:54.802Z"
   },
   {
    "duration": 25,
    "start_time": "2024-04-13T16:56:54.834Z"
   },
   {
    "duration": 10,
    "start_time": "2024-04-13T16:56:54.863Z"
   },
   {
    "duration": 28,
    "start_time": "2024-04-13T16:56:54.875Z"
   },
   {
    "duration": 8,
    "start_time": "2024-04-13T16:56:54.905Z"
   },
   {
    "duration": 45,
    "start_time": "2024-04-13T16:56:54.914Z"
   },
   {
    "duration": 8,
    "start_time": "2024-04-13T16:56:54.961Z"
   },
   {
    "duration": 7,
    "start_time": "2024-04-13T16:56:54.971Z"
   },
   {
    "duration": 6,
    "start_time": "2024-04-13T16:56:54.979Z"
   },
   {
    "duration": 10,
    "start_time": "2024-04-13T16:56:54.986Z"
   },
   {
    "duration": 4,
    "start_time": "2024-04-13T16:56:54.997Z"
   },
   {
    "duration": 299,
    "start_time": "2024-04-13T16:56:55.002Z"
   },
   {
    "duration": 7,
    "start_time": "2024-04-13T16:56:55.303Z"
   },
   {
    "duration": 153,
    "start_time": "2024-04-13T16:56:55.311Z"
   },
   {
    "duration": 167,
    "start_time": "2024-04-13T16:56:55.465Z"
   },
   {
    "duration": 9,
    "start_time": "2024-04-13T16:56:55.633Z"
   },
   {
    "duration": 157,
    "start_time": "2024-04-13T16:56:55.643Z"
   },
   {
    "duration": 7,
    "start_time": "2024-04-13T16:56:55.801Z"
   },
   {
    "duration": 164,
    "start_time": "2024-04-13T16:56:55.809Z"
   },
   {
    "duration": 7,
    "start_time": "2024-04-13T16:56:55.974Z"
   },
   {
    "duration": 173,
    "start_time": "2024-04-13T16:56:55.983Z"
   },
   {
    "duration": 176,
    "start_time": "2024-04-13T16:56:56.158Z"
   },
   {
    "duration": 145,
    "start_time": "2024-04-13T16:56:56.336Z"
   },
   {
    "duration": 6,
    "start_time": "2024-04-13T16:56:56.483Z"
   },
   {
    "duration": 149,
    "start_time": "2024-04-13T16:56:56.491Z"
   },
   {
    "duration": 131,
    "start_time": "2024-04-13T16:56:56.641Z"
   },
   {
    "duration": 7,
    "start_time": "2024-04-13T16:56:56.773Z"
   },
   {
    "duration": 12,
    "start_time": "2024-04-13T16:56:56.782Z"
   },
   {
    "duration": 11,
    "start_time": "2024-04-13T16:56:56.796Z"
   },
   {
    "duration": 136,
    "start_time": "2024-04-13T16:56:56.812Z"
   },
   {
    "duration": 162,
    "start_time": "2024-04-13T16:56:56.950Z"
   },
   {
    "duration": 6,
    "start_time": "2024-04-13T16:56:57.114Z"
   },
   {
    "duration": 6,
    "start_time": "2024-04-13T16:56:57.122Z"
   },
   {
    "duration": 164,
    "start_time": "2024-04-13T16:56:57.129Z"
   },
   {
    "duration": 234,
    "start_time": "2024-04-13T16:56:57.295Z"
   },
   {
    "duration": 157,
    "start_time": "2024-04-13T16:56:57.531Z"
   },
   {
    "duration": 5,
    "start_time": "2024-04-13T16:56:57.689Z"
   },
   {
    "duration": 139,
    "start_time": "2024-04-13T16:56:57.696Z"
   },
   {
    "duration": 8,
    "start_time": "2024-04-13T16:56:57.836Z"
   },
   {
    "duration": 131,
    "start_time": "2024-04-13T16:56:57.845Z"
   },
   {
    "duration": 141,
    "start_time": "2024-04-13T16:56:57.977Z"
   },
   {
    "duration": 7,
    "start_time": "2024-04-13T16:56:58.120Z"
   },
   {
    "duration": 20,
    "start_time": "2024-04-13T16:56:58.128Z"
   },
   {
    "duration": 189,
    "start_time": "2024-04-13T16:56:58.149Z"
   },
   {
    "duration": 178,
    "start_time": "2024-04-13T16:56:58.339Z"
   },
   {
    "duration": 5,
    "start_time": "2024-04-13T16:56:58.519Z"
   },
   {
    "duration": 177,
    "start_time": "2024-04-13T16:56:58.526Z"
   },
   {
    "duration": 6,
    "start_time": "2024-04-13T16:56:58.704Z"
   },
   {
    "duration": 168,
    "start_time": "2024-04-13T16:56:58.712Z"
   },
   {
    "duration": 6,
    "start_time": "2024-04-13T16:56:58.882Z"
   },
   {
    "duration": 168,
    "start_time": "2024-04-13T16:56:58.890Z"
   },
   {
    "duration": 5,
    "start_time": "2024-04-13T16:56:59.060Z"
   },
   {
    "duration": 146,
    "start_time": "2024-04-13T16:56:59.067Z"
   },
   {
    "duration": 6,
    "start_time": "2024-04-13T16:56:59.215Z"
   },
   {
    "duration": 6,
    "start_time": "2024-04-13T16:56:59.222Z"
   },
   {
    "duration": 5,
    "start_time": "2024-04-13T16:56:59.229Z"
   },
   {
    "duration": 30,
    "start_time": "2024-04-13T16:56:59.235Z"
   },
   {
    "duration": 12,
    "start_time": "2024-04-13T16:56:59.267Z"
   },
   {
    "duration": 139,
    "start_time": "2024-04-13T16:56:59.280Z"
   },
   {
    "duration": 22,
    "start_time": "2024-04-13T17:08:07.392Z"
   },
   {
    "duration": 80,
    "start_time": "2024-04-13T17:24:31.312Z"
   },
   {
    "duration": 11,
    "start_time": "2024-04-13T17:29:04.110Z"
   },
   {
    "duration": 31,
    "start_time": "2024-04-13T17:29:18.502Z"
   },
   {
    "duration": 10,
    "start_time": "2024-04-13T17:35:58.851Z"
   },
   {
    "duration": 31,
    "start_time": "2024-04-13T17:36:21.950Z"
   },
   {
    "duration": 20,
    "start_time": "2024-04-13T17:37:09.887Z"
   },
   {
    "duration": 7,
    "start_time": "2024-04-13T17:40:02.207Z"
   },
   {
    "duration": 11,
    "start_time": "2024-04-13T17:40:02.807Z"
   },
   {
    "duration": 21,
    "start_time": "2024-04-13T17:40:03.408Z"
   },
   {
    "duration": 104,
    "start_time": "2024-04-13T17:40:21.551Z"
   },
   {
    "duration": 11,
    "start_time": "2024-04-13T17:42:20.117Z"
   },
   {
    "duration": 20,
    "start_time": "2024-04-13T17:42:21.357Z"
   },
   {
    "duration": 11,
    "start_time": "2024-04-13T17:45:15.458Z"
   },
   {
    "duration": 20,
    "start_time": "2024-04-13T17:45:17.251Z"
   },
   {
    "duration": 9,
    "start_time": "2024-04-13T17:47:28.486Z"
   },
   {
    "duration": 23,
    "start_time": "2024-04-13T17:54:55.303Z"
   },
   {
    "duration": 20,
    "start_time": "2024-04-13T17:54:57.114Z"
   },
   {
    "duration": 7,
    "start_time": "2024-04-13T17:55:21.282Z"
   },
   {
    "duration": 26,
    "start_time": "2024-04-13T17:55:23.016Z"
   },
   {
    "duration": 6,
    "start_time": "2024-04-13T17:55:23.650Z"
   },
   {
    "duration": 148,
    "start_time": "2024-04-13T18:00:18.371Z"
   },
   {
    "duration": 133,
    "start_time": "2024-04-13T18:05:28.999Z"
   },
   {
    "duration": 4,
    "start_time": "2024-04-13T18:12:24.078Z"
   },
   {
    "duration": 7,
    "start_time": "2024-04-13T18:14:40.412Z"
   },
   {
    "duration": 571,
    "start_time": "2024-04-13T18:15:03.207Z"
   },
   {
    "duration": 111,
    "start_time": "2024-04-13T18:15:04.831Z"
   },
   {
    "duration": 671,
    "start_time": "2024-04-13T18:15:20.161Z"
   },
   {
    "duration": 767,
    "start_time": "2024-04-13T18:16:40.016Z"
   },
   {
    "duration": 675,
    "start_time": "2024-04-13T18:16:45.651Z"
   },
   {
    "duration": 632,
    "start_time": "2024-04-13T18:16:53.172Z"
   },
   {
    "duration": 706,
    "start_time": "2024-04-13T18:24:50.836Z"
   },
   {
    "duration": 745,
    "start_time": "2024-04-13T18:25:42.222Z"
   },
   {
    "duration": 20,
    "start_time": "2024-04-13T18:26:51.252Z"
   },
   {
    "duration": 13,
    "start_time": "2024-04-13T18:30:03.352Z"
   },
   {
    "duration": 8,
    "start_time": "2024-04-13T18:31:48.374Z"
   },
   {
    "duration": 9,
    "start_time": "2024-04-13T18:32:30.325Z"
   },
   {
    "duration": 15,
    "start_time": "2024-04-13T18:32:51.352Z"
   },
   {
    "duration": 7,
    "start_time": "2024-04-13T18:32:58.673Z"
   },
   {
    "duration": 651,
    "start_time": "2024-04-13T18:33:14.890Z"
   },
   {
    "duration": 10,
    "start_time": "2024-04-13T18:37:15.896Z"
   },
   {
    "duration": 10,
    "start_time": "2024-04-13T18:39:23.768Z"
   },
   {
    "duration": 11,
    "start_time": "2024-04-13T18:40:36.168Z"
   },
   {
    "duration": 9,
    "start_time": "2024-04-13T18:41:16.772Z"
   },
   {
    "duration": 11,
    "start_time": "2024-04-13T18:41:28.212Z"
   },
   {
    "duration": 10,
    "start_time": "2024-04-13T18:45:59.774Z"
   },
   {
    "duration": 1418,
    "start_time": "2024-04-13T18:48:32.139Z"
   },
   {
    "duration": 7,
    "start_time": "2024-04-13T18:48:48.888Z"
   },
   {
    "duration": 7,
    "start_time": "2024-04-13T18:49:01.367Z"
   },
   {
    "duration": 7,
    "start_time": "2024-04-13T18:49:42.696Z"
   },
   {
    "duration": 9,
    "start_time": "2024-04-13T18:50:31.649Z"
   },
   {
    "duration": 8,
    "start_time": "2024-04-13T18:52:20.887Z"
   },
   {
    "duration": 11,
    "start_time": "2024-04-13T18:59:59.485Z"
   },
   {
    "duration": 781,
    "start_time": "2024-04-13T19:02:16.988Z"
   },
   {
    "duration": 10,
    "start_time": "2024-04-13T19:04:54.770Z"
   },
   {
    "duration": 6,
    "start_time": "2024-04-13T19:05:04.724Z"
   },
   {
    "duration": 745,
    "start_time": "2024-04-13T19:08:14.050Z"
   },
   {
    "duration": 761,
    "start_time": "2024-04-13T19:08:41.179Z"
   },
   {
    "duration": 791,
    "start_time": "2024-04-13T19:10:49.896Z"
   },
   {
    "duration": 758,
    "start_time": "2024-04-13T19:12:38.525Z"
   },
   {
    "duration": 727,
    "start_time": "2024-04-13T19:13:33.675Z"
   },
   {
    "duration": 621,
    "start_time": "2024-04-13T19:17:40.304Z"
   },
   {
    "duration": 15,
    "start_time": "2024-04-13T19:21:20.936Z"
   },
   {
    "duration": 11,
    "start_time": "2024-04-13T19:21:43.520Z"
   },
   {
    "duration": 8,
    "start_time": "2024-04-13T19:24:54.983Z"
   },
   {
    "duration": 148,
    "start_time": "2024-04-13T19:26:01.818Z"
   },
   {
    "duration": 1217,
    "start_time": "2024-04-13T22:53:04.880Z"
   },
   {
    "duration": 248,
    "start_time": "2024-04-13T22:53:06.099Z"
   },
   {
    "duration": 41,
    "start_time": "2024-04-13T22:53:06.349Z"
   },
   {
    "duration": 3,
    "start_time": "2024-04-13T22:53:06.392Z"
   },
   {
    "duration": 2412,
    "start_time": "2024-04-13T22:53:06.397Z"
   },
   {
    "duration": 10,
    "start_time": "2024-04-13T22:53:08.810Z"
   },
   {
    "duration": 27,
    "start_time": "2024-04-13T22:53:08.822Z"
   },
   {
    "duration": 18,
    "start_time": "2024-04-13T22:53:08.850Z"
   },
   {
    "duration": 9,
    "start_time": "2024-04-13T22:53:08.869Z"
   },
   {
    "duration": 32,
    "start_time": "2024-04-13T22:53:08.880Z"
   },
   {
    "duration": 25,
    "start_time": "2024-04-13T22:53:08.914Z"
   },
   {
    "duration": 22,
    "start_time": "2024-04-13T22:53:08.941Z"
   },
   {
    "duration": 23,
    "start_time": "2024-04-13T22:53:08.965Z"
   },
   {
    "duration": 9,
    "start_time": "2024-04-13T22:53:08.991Z"
   },
   {
    "duration": 10,
    "start_time": "2024-04-13T22:53:09.002Z"
   },
   {
    "duration": 30,
    "start_time": "2024-04-13T22:53:09.013Z"
   },
   {
    "duration": 10,
    "start_time": "2024-04-13T22:53:09.044Z"
   },
   {
    "duration": 48,
    "start_time": "2024-04-13T22:53:09.056Z"
   },
   {
    "duration": 8,
    "start_time": "2024-04-13T22:53:09.105Z"
   },
   {
    "duration": 8,
    "start_time": "2024-04-13T22:53:09.115Z"
   },
   {
    "duration": 7,
    "start_time": "2024-04-13T22:53:09.125Z"
   },
   {
    "duration": 8,
    "start_time": "2024-04-13T22:53:09.134Z"
   },
   {
    "duration": 40,
    "start_time": "2024-04-13T22:53:09.143Z"
   },
   {
    "duration": 329,
    "start_time": "2024-04-13T22:53:09.185Z"
   },
   {
    "duration": 6,
    "start_time": "2024-04-13T22:53:09.516Z"
   },
   {
    "duration": 99,
    "start_time": "2024-04-13T22:53:09.524Z"
   },
   {
    "duration": 162,
    "start_time": "2024-04-13T22:53:09.624Z"
   },
   {
    "duration": 9,
    "start_time": "2024-04-13T22:53:09.787Z"
   },
   {
    "duration": 12,
    "start_time": "2024-04-13T22:53:09.798Z"
   },
   {
    "duration": 176,
    "start_time": "2024-04-13T22:53:09.811Z"
   },
   {
    "duration": 7,
    "start_time": "2024-04-13T22:53:09.989Z"
   },
   {
    "duration": 173,
    "start_time": "2024-04-13T22:53:09.997Z"
   },
   {
    "duration": 11,
    "start_time": "2024-04-13T22:53:10.172Z"
   },
   {
    "duration": 9,
    "start_time": "2024-04-13T22:53:10.184Z"
   },
   {
    "duration": 174,
    "start_time": "2024-04-13T22:53:10.195Z"
   },
   {
    "duration": 282,
    "start_time": "2024-04-13T22:53:10.371Z"
   },
   {
    "duration": 9,
    "start_time": "2024-04-13T22:53:10.655Z"
   },
   {
    "duration": 187,
    "start_time": "2024-04-13T22:53:10.665Z"
   },
   {
    "duration": 6,
    "start_time": "2024-04-13T22:53:10.854Z"
   },
   {
    "duration": 182,
    "start_time": "2024-04-13T22:53:10.862Z"
   },
   {
    "duration": 9,
    "start_time": "2024-04-13T22:53:11.049Z"
   },
   {
    "duration": 154,
    "start_time": "2024-04-13T22:53:11.060Z"
   },
   {
    "duration": 7,
    "start_time": "2024-04-13T22:53:11.216Z"
   },
   {
    "duration": 12,
    "start_time": "2024-04-13T22:53:11.224Z"
   },
   {
    "duration": 11,
    "start_time": "2024-04-13T22:53:11.237Z"
   },
   {
    "duration": 164,
    "start_time": "2024-04-13T22:53:11.249Z"
   },
   {
    "duration": 182,
    "start_time": "2024-04-13T22:53:11.415Z"
   },
   {
    "duration": 7,
    "start_time": "2024-04-13T22:53:11.599Z"
   },
   {
    "duration": 10,
    "start_time": "2024-04-13T22:53:11.608Z"
   },
   {
    "duration": 192,
    "start_time": "2024-04-13T22:53:11.620Z"
   },
   {
    "duration": 180,
    "start_time": "2024-04-13T22:53:11.814Z"
   },
   {
    "duration": 190,
    "start_time": "2024-04-13T22:53:11.996Z"
   },
   {
    "duration": 5,
    "start_time": "2024-04-13T22:53:12.188Z"
   },
   {
    "duration": 168,
    "start_time": "2024-04-13T22:53:12.195Z"
   },
   {
    "duration": 18,
    "start_time": "2024-04-13T22:53:12.365Z"
   },
   {
    "duration": 163,
    "start_time": "2024-04-13T22:53:12.384Z"
   },
   {
    "duration": 167,
    "start_time": "2024-04-13T22:53:12.549Z"
   },
   {
    "duration": 8,
    "start_time": "2024-04-13T22:53:12.718Z"
   },
   {
    "duration": 24,
    "start_time": "2024-04-13T22:53:12.727Z"
   },
   {
    "duration": 201,
    "start_time": "2024-04-13T22:53:12.753Z"
   },
   {
    "duration": 856,
    "start_time": "2024-04-13T22:53:12.956Z"
   },
   {
    "duration": 10,
    "start_time": "2024-04-13T22:53:13.814Z"
   },
   {
    "duration": 724,
    "start_time": "2024-04-13T22:53:13.826Z"
   },
   {
    "duration": 11,
    "start_time": "2024-04-13T22:53:14.552Z"
   },
   {
    "duration": 192,
    "start_time": "2024-04-13T22:53:14.564Z"
   },
   {
    "duration": 6,
    "start_time": "2024-04-13T22:53:14.757Z"
   },
   {
    "duration": 178,
    "start_time": "2024-04-13T22:53:14.764Z"
   },
   {
    "duration": 5,
    "start_time": "2024-04-13T22:53:14.943Z"
   },
   {
    "duration": 5,
    "start_time": "2024-04-13T22:53:14.950Z"
   },
   {
    "duration": 5,
    "start_time": "2024-04-13T22:53:14.956Z"
   },
   {
    "duration": 29,
    "start_time": "2024-04-13T22:53:14.962Z"
   },
   {
    "duration": 11,
    "start_time": "2024-04-13T22:53:14.993Z"
   },
   {
    "duration": 162,
    "start_time": "2024-04-13T22:53:15.005Z"
   },
   {
    "duration": 8,
    "start_time": "2024-04-13T22:54:05.437Z"
   },
   {
    "duration": 1339,
    "start_time": "2024-04-14T08:08:05.451Z"
   },
   {
    "duration": 242,
    "start_time": "2024-04-14T08:08:06.792Z"
   },
   {
    "duration": 32,
    "start_time": "2024-04-14T08:08:07.036Z"
   },
   {
    "duration": 4,
    "start_time": "2024-04-14T08:08:07.069Z"
   },
   {
    "duration": 2349,
    "start_time": "2024-04-14T08:08:07.075Z"
   },
   {
    "duration": 12,
    "start_time": "2024-04-14T08:08:09.426Z"
   },
   {
    "duration": 4,
    "start_time": "2024-04-14T08:08:09.439Z"
   },
   {
    "duration": 11,
    "start_time": "2024-04-14T08:08:09.444Z"
   },
   {
    "duration": 6,
    "start_time": "2024-04-14T08:08:09.456Z"
   },
   {
    "duration": 17,
    "start_time": "2024-04-14T08:08:09.463Z"
   },
   {
    "duration": 23,
    "start_time": "2024-04-14T08:08:09.482Z"
   },
   {
    "duration": 22,
    "start_time": "2024-04-14T08:08:09.507Z"
   },
   {
    "duration": 7,
    "start_time": "2024-04-14T08:08:09.531Z"
   },
   {
    "duration": 9,
    "start_time": "2024-04-14T08:08:09.540Z"
   },
   {
    "duration": 36,
    "start_time": "2024-04-14T08:08:09.550Z"
   },
   {
    "duration": 26,
    "start_time": "2024-04-14T08:08:09.588Z"
   },
   {
    "duration": 7,
    "start_time": "2024-04-14T08:08:09.615Z"
   },
   {
    "duration": 21,
    "start_time": "2024-04-14T08:08:09.624Z"
   },
   {
    "duration": 8,
    "start_time": "2024-04-14T08:08:09.646Z"
   },
   {
    "duration": 8,
    "start_time": "2024-04-14T08:08:09.682Z"
   },
   {
    "duration": 7,
    "start_time": "2024-04-14T08:08:09.691Z"
   },
   {
    "duration": 10,
    "start_time": "2024-04-14T08:08:09.699Z"
   },
   {
    "duration": 3,
    "start_time": "2024-04-14T08:08:09.710Z"
   },
   {
    "duration": 303,
    "start_time": "2024-04-14T08:08:09.715Z"
   },
   {
    "duration": 7,
    "start_time": "2024-04-14T08:08:10.019Z"
   },
   {
    "duration": 113,
    "start_time": "2024-04-14T08:08:10.027Z"
   },
   {
    "duration": 153,
    "start_time": "2024-04-14T08:08:10.142Z"
   },
   {
    "duration": 9,
    "start_time": "2024-04-14T08:08:10.296Z"
   },
   {
    "duration": 12,
    "start_time": "2024-04-14T08:08:10.306Z"
   },
   {
    "duration": 159,
    "start_time": "2024-04-14T08:08:10.320Z"
   },
   {
    "duration": 7,
    "start_time": "2024-04-14T08:08:10.481Z"
   },
   {
    "duration": 165,
    "start_time": "2024-04-14T08:08:10.489Z"
   },
   {
    "duration": 10,
    "start_time": "2024-04-14T08:08:10.656Z"
   },
   {
    "duration": 19,
    "start_time": "2024-04-14T08:08:10.668Z"
   },
   {
    "duration": 166,
    "start_time": "2024-04-14T08:08:10.689Z"
   },
   {
    "duration": 264,
    "start_time": "2024-04-14T08:08:10.857Z"
   },
   {
    "duration": 8,
    "start_time": "2024-04-14T08:08:11.123Z"
   },
   {
    "duration": 152,
    "start_time": "2024-04-14T08:08:11.133Z"
   },
   {
    "duration": 6,
    "start_time": "2024-04-14T08:08:11.287Z"
   },
   {
    "duration": 158,
    "start_time": "2024-04-14T08:08:11.294Z"
   },
   {
    "duration": 9,
    "start_time": "2024-04-14T08:08:11.457Z"
   },
   {
    "duration": 138,
    "start_time": "2024-04-14T08:08:11.482Z"
   },
   {
    "duration": 7,
    "start_time": "2024-04-14T08:08:11.622Z"
   },
   {
    "duration": 11,
    "start_time": "2024-04-14T08:08:11.630Z"
   },
   {
    "duration": 10,
    "start_time": "2024-04-14T08:08:11.643Z"
   },
   {
    "duration": 151,
    "start_time": "2024-04-14T08:08:11.654Z"
   },
   {
    "duration": 181,
    "start_time": "2024-04-14T08:08:11.807Z"
   },
   {
    "duration": 5,
    "start_time": "2024-04-14T08:08:11.990Z"
   },
   {
    "duration": 10,
    "start_time": "2024-04-14T08:08:11.997Z"
   },
   {
    "duration": 173,
    "start_time": "2024-04-14T08:08:12.009Z"
   },
   {
    "duration": 161,
    "start_time": "2024-04-14T08:08:12.183Z"
   },
   {
    "duration": 175,
    "start_time": "2024-04-14T08:08:12.345Z"
   },
   {
    "duration": 4,
    "start_time": "2024-04-14T08:08:12.522Z"
   },
   {
    "duration": 163,
    "start_time": "2024-04-14T08:08:12.528Z"
   },
   {
    "duration": 10,
    "start_time": "2024-04-14T08:08:12.692Z"
   },
   {
    "duration": 141,
    "start_time": "2024-04-14T08:08:12.703Z"
   },
   {
    "duration": 161,
    "start_time": "2024-04-14T08:08:12.846Z"
   },
   {
    "duration": 12,
    "start_time": "2024-04-14T08:08:13.008Z"
   },
   {
    "duration": 16,
    "start_time": "2024-04-14T08:08:13.021Z"
   },
   {
    "duration": 239,
    "start_time": "2024-04-14T08:08:13.040Z"
   },
   {
    "duration": 855,
    "start_time": "2024-04-14T08:08:13.280Z"
   },
   {
    "duration": 8,
    "start_time": "2024-04-14T08:08:14.137Z"
   },
   {
    "duration": 678,
    "start_time": "2024-04-14T08:08:14.147Z"
   },
   {
    "duration": 11,
    "start_time": "2024-04-14T08:08:14.827Z"
   },
   {
    "duration": 183,
    "start_time": "2024-04-14T08:08:14.840Z"
   },
   {
    "duration": 5,
    "start_time": "2024-04-14T08:08:15.025Z"
   },
   {
    "duration": 181,
    "start_time": "2024-04-14T08:08:15.031Z"
   },
   {
    "duration": 6,
    "start_time": "2024-04-14T08:08:15.214Z"
   },
   {
    "duration": 15,
    "start_time": "2024-04-14T08:08:15.222Z"
   },
   {
    "duration": 50,
    "start_time": "2024-04-14T08:08:15.238Z"
   },
   {
    "duration": 25,
    "start_time": "2024-04-14T08:08:15.289Z"
   },
   {
    "duration": 13,
    "start_time": "2024-04-14T08:08:15.316Z"
   },
   {
    "duration": 135,
    "start_time": "2024-04-14T08:08:15.330Z"
   },
   {
    "duration": 35,
    "start_time": "2024-04-14T08:12:09.302Z"
   },
   {
    "duration": 7,
    "start_time": "2024-04-14T08:12:12.849Z"
   },
   {
    "duration": 23,
    "start_time": "2024-04-14T08:12:14.100Z"
   },
   {
    "duration": 11,
    "start_time": "2024-04-14T08:13:40.804Z"
   },
   {
    "duration": 8,
    "start_time": "2024-04-14T08:14:14.286Z"
   },
   {
    "duration": 7,
    "start_time": "2024-04-14T08:14:52.300Z"
   },
   {
    "duration": 10,
    "start_time": "2024-04-14T08:17:24.893Z"
   },
   {
    "duration": 22,
    "start_time": "2024-04-14T08:17:36.037Z"
   },
   {
    "duration": 2,
    "start_time": "2024-04-14T08:18:45.480Z"
   },
   {
    "duration": 9,
    "start_time": "2024-04-14T08:19:11.414Z"
   },
   {
    "duration": 11,
    "start_time": "2024-04-14T08:21:10.359Z"
   },
   {
    "duration": 9,
    "start_time": "2024-04-14T08:22:17.265Z"
   },
   {
    "duration": 9,
    "start_time": "2024-04-14T08:28:18.431Z"
   }
  ],
  "colab": {
   "provenance": []
  },
  "kernelspec": {
   "display_name": "Python 3 (ipykernel)",
   "language": "python",
   "name": "python3"
  },
  "language_info": {
   "codemirror_mode": {
    "name": "ipython",
    "version": 3
   },
   "file_extension": ".py",
   "mimetype": "text/x-python",
   "name": "python",
   "nbconvert_exporter": "python",
   "pygments_lexer": "ipython3",
   "version": "3.11.5"
  },
  "toc": {
   "base_numbering": 1,
   "nav_menu": {},
   "number_sections": true,
   "sideBar": true,
   "skip_h1_title": true,
   "title_cell": "Table of Contents",
   "title_sidebar": "Contents",
   "toc_cell": false,
   "toc_position": {},
   "toc_section_display": true,
   "toc_window_display": false
  }
 },
 "nbformat": 4,
 "nbformat_minor": 1
}
